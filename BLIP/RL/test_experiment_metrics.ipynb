{
 "cells": [
  {
   "cell_type": "code",
   "execution_count": 7,
   "metadata": {},
   "outputs": [],
   "source": [
    "import sys, os, time\n",
    "import numpy as np\n",
    "import scipy.io as sio\n",
    "import pickle"
   ]
  },
  {
   "cell_type": "code",
   "execution_count": null,
   "metadata": {},
   "outputs": [],
   "source": [
    "# Accuracy metric\n",
    "def acc(r):\n",
    "    acc = round(r[len(r)-1].sum() / len(r), 4)\n",
    "    acc_std = round(r[len(r)-1].std(), 4)\n",
    "    return acc, acc_std\n",
    "# Backward Transfer metric\n",
    "def bwt(r):\n",
    "    t = len(r)\n",
    "    tmp = []\n",
    "    for i in range(t-1):\n",
    "        tmp.append((r[t-1][i] - r[i][i]))\n",
    "    tmp_arr = np.array(tmp)\n",
    "    bwt = round(tmp_arr.sum()/(t-1), 4)\n",
    "    bwt_std = round(tmp_arr.std(), 4)\n",
    "    return bwt, bwt_std"
   ]
  },
  {
   "cell_type": "code",
   "execution_count": null,
   "metadata": {},
   "outputs": [],
   "source": [
    "exp = 'minigrid-wallgap-doorkey-redbluedoor-crossing'\n",
    "steps = '500000'\n",
    "approaches = ['blip','ewc','fine-tuning','blip_ewc_1', 'blip_ewc_2', 'blip_spp_mask']\n",
    "stages = ['train', 'eval']\n",
    "seeds = [123456, 789012, 345678]\n",
    "F_prior = 5e-18\n",
    "ewc_lambda = 5000.0\n",
    "\n",
    "blip_ewc_lambda_1 = 1000.0\n",
    "blip_ewc_lambda_2 = 2500.0\n",
    "fisher_term = 'ft'\n",
    "\n",
    "spp_lambda = 0.5\n",
    "initial_prune_percent = 30.0\n",
    "scheduler = False\n",
    "prune_higher = False\n",
    "\n",
    "# Experiment details\n",
    "experiments = [\n",
    "    ('2023-11-13', exp, [\n",
    "    (0, 'MiniGrid-WallGapS6-v0'),\n",
    "    (1, 'MiniGrid-DoorKey-6x6-v0'),\n",
    "    (2, 'MiniGrid-RedBlueDoors-6x6-v0'), \n",
    "    (3, 'MiniGrid-SimpleCrossingS9N1-v0')  \n",
    "    ])    \n",
    "    ]\n",
    "\n",
    "for item in experiments:\n",
    "\n",
    "    date = item[0]\n",
    "    experiment = item[1]\n",
    "    tasks_sequence = item[2]\n",
    "    t = len(tasks_sequence)\n",
    "\n",
    "    print('Experiment:',experiment, '\\n')\n",
    "    for approach in approaches:\n",
    "        r_all = []\n",
    "        for seed in seeds:\n",
    "            r = np.zeros([len(tasks_sequence), len(tasks_sequence)])\n",
    "            if approach == 'fine-tuning' or approach == 'ft-fix':\n",
    "                log_name = '{}_{}_{}_{}'.format(date, experiment, approach, seed)\n",
    "            elif approach == 'ewc' in approach:\n",
    "                log_name = '{}_{}_{}_{}_{}_lamb_{}'.format(date, experiment, approach, seed, steps, ewc_lambda)\n",
    "            elif approach == 'blip':\n",
    "                log_name = '{}_{}_{}_{}_{}_F_prior_{}'.format(date, experiment, approach, seed, steps, F_prior)\n",
    "            elif approach == 'blip_ewc_1':\n",
    "                log_name = '{}_{}_{}_{}_{}_F_prior_{}_lamb_{}_F_term_{}'.format(date, experiment, 'blip_ewc', seed, steps, F_prior, blip_ewc_lambda_1, fisher_term)\n",
    "            elif approach == 'blip_ewc_2':\n",
    "                log_name = '{}_{}_{}_{}_{}_F_prior_{}_lamb_{}_F_term_{}'.format(date, experiment, 'blip_ewc', seed, steps, F_prior, blip_ewc_lambda_2, fisher_term)\n",
    "            elif approach == 'blip_spp_mask':\n",
    "                log_name = '{}_{}_{}_{}_{}_F_prior_{}_spp_lamb_{}_prune_{}_scheduler_{}_prune_higher_{}'.format(date, experiment, approach, seed, steps, F_prior, spp_lambda, initial_prune_percent, scheduler, prune_higher)\n",
    "\n",
    "            mat_file = os.path.join('./result_data/', log_name + '_result.mat')\n",
    "            mat_contents = sio.loadmat(mat_file)\n",
    "            te_reward_arr = mat_contents['te_reward_arr'][0][0][0][0][0][0][0]\n",
    "            num_samples = len(te_reward_arr[0][0])\n",
    "            len_task = int(num_samples / t)\n",
    "            \n",
    "            for i in range(t):\n",
    "                index = (i+1)*len_task - 1\n",
    "                for j in range(t):        \n",
    "                    r[i][j] = te_reward_arr[j][0][index]\n",
    "            r_all.append(r)\n",
    "\n",
    "        r_median = np.median(r_all, axis=0)\n",
    "        print(\"Approach:\", approach)\n",
    "        print(\"ACC: {}\".format(acc(r_median)))\n",
    "        print(\"BWT: {}\\n\".format(bwt(r_median)))"
   ]
  },
  {
   "cell_type": "code",
   "execution_count": 5,
   "metadata": {},
   "outputs": [
    {
     "name": "stdout",
     "output_type": "stream",
     "text": [
      "   tr  te  median_reward       std\n",
      "0   3   0       0.685833  0.449005\n",
      "1   3   1       0.249167  0.413672\n",
      "2   3   2       0.031667  0.170530\n",
      "3   3   3       0.926042  0.036696\n"
     ]
    }
   ],
   "source": [
    "import pandas as pd\n",
    "df = pd.read_pickle('/Users/inigo/Documents/cursos/Data Science/master_viu/work/tfm-experiments/BLIP/RL/metrics/2023-11-06_minigrid-redbluedoor-lavagap-doorkey-wallgap_blip_spp_mask_F_prior_5e-18_spp_lamb_2.0_prune_30.0_scheduler_False_tr_3.pkl')\n",
    "print(df)"
   ]
  },
  {
   "cell_type": "code",
   "execution_count": 13,
   "metadata": {},
   "outputs": [
    {
     "name": "stdout",
     "output_type": "stream",
     "text": [
      "[[0.00294628 0.         0.         0.        ]\n",
      " [0.01062296 0.00235702 0.         0.        ]\n",
      " [0.30641294 0.         0.         0.        ]\n",
      " [0.01062296 0.         0.         0.00261912]]\n"
     ]
    }
   ],
   "source": [
    "with open('/Users/inigo/Documents/cursos/Data Science/master_viu/work/tfm-experiments/BLIP/RL/metrics/2023-11-13_minigrid-wallgap-doorkey-redbluedoor-crossing_fine-tuning_tr_3final_r_std.pkl', 'rb') as f:\n",
    "    r_val = pickle.load(f)\n",
    "\n",
    "print(r_val)\n"
   ]
  }
 ],
 "metadata": {
  "kernelspec": {
   "display_name": "tfm-experiments",
   "language": "python",
   "name": "tfm-experiments"
  },
  "language_info": {
   "codemirror_mode": {
    "name": "ipython",
    "version": 3
   },
   "file_extension": ".py",
   "mimetype": "text/x-python",
   "name": "python",
   "nbconvert_exporter": "python",
   "pygments_lexer": "ipython3",
   "version": "3.7.9"
  },
  "orig_nbformat": 4
 },
 "nbformat": 4,
 "nbformat_minor": 2
}
