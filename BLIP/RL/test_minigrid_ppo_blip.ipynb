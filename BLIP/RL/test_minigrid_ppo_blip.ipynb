{
 "cells": [
  {
   "attachments": {},
   "cell_type": "markdown",
   "metadata": {},
   "source": [
    "# Test MiniGrid sequential tasks with PPO + BLIP"
   ]
  },
  {
   "attachments": {},
   "cell_type": "markdown",
   "metadata": {},
   "source": [
    "## Setup"
   ]
  },
  {
   "attachments": {},
   "cell_type": "markdown",
   "metadata": {},
   "source": [
    "Default Jupyter settings"
   ]
  },
  {
   "cell_type": "code",
   "execution_count": 1,
   "metadata": {},
   "outputs": [],
   "source": [
    "import numpy as np\n",
    "import matplotlib.pyplot as plt\n",
    "from pprint import pprint\n",
    "\n",
    "%matplotlib inline\n",
    "plt.rcParams['figure.figsize'] = (10.0, 8.0) # set default size of plots\n",
    "plt.rcParams['image.interpolation'] = 'nearest'\n",
    "plt.rcParams['image.cmap'] = 'gray'\n",
    "\n",
    "# for auto-reloading external modules\n",
    "# see http://stackoverflow.com/questions/1907993/autoreload-of-modules-in-ipython\n",
    "#%load_ext autoreload\n",
    "#%autoreload 2\n",
    "%reload_ext autoreload\n",
    "%autoreload 2"
   ]
  },
  {
   "attachments": {},
   "cell_type": "markdown",
   "metadata": {},
   "source": [
    "Import libraries"
   ]
  },
  {
   "cell_type": "code",
   "execution_count": 2,
   "metadata": {},
   "outputs": [
    {
     "name": "stderr",
     "output_type": "stream",
     "text": [
      "/Users/inigo/.local/share/virtualenvs/tfm-experiments-K5nk3NK1/lib/python3.7/site-packages/tqdm/auto.py:22: TqdmWarning: IProgress not found. Please update jupyter and ipywidgets. See https://ipywidgets.readthedocs.io/en/stable/user_install.html\n",
      "  from .autonotebook import tqdm as notebook_tqdm\n"
     ]
    }
   ],
   "source": [
    "import sys, os, time\n",
    "import numpy as np\n",
    "import torch.nn as nn\n",
    "import torch.nn.init as init\n",
    "import torch.nn.functional as F\n",
    "import torch.optim as optim\n",
    "from datetime import date\n",
    "\n",
    "import pickle\n",
    "import torch\n",
    "from arguments_rl import get_args\n",
    "\n",
    "from collections import deque\n",
    "from rl_module.a2c_ppo_acktr.envs import make_vec_envs\n",
    "from rl_module.a2c_ppo_acktr.storage import RolloutStorage\n",
    "from rl_module.train_ppo import train_ppo\n",
    "from stable_baselines3.common.utils import set_random_seed\n",
    "from torch_ac.utils import DictList\n",
    "from torch.utils.tensorboard import SummaryWriter\n",
    "\n",
    "# Gym MiniGrid specific\n",
    "import gym\n",
    "from gym import spaces\n",
    "from gym.wrappers import Monitor\n",
    "import gym_minigrid\n",
    "from gym_minigrid.wrappers import FlatObsWrapper, ImgObsWrapper, RGBImgPartialObsWrapper, RGBImgObsWrapper\n",
    "from gym.wrappers import Monitor"
   ]
  },
  {
   "attachments": {},
   "cell_type": "markdown",
   "metadata": {},
   "source": [
    "Define functions and helpers"
   ]
  },
  {
   "cell_type": "code",
   "execution_count": 4,
   "metadata": {},
   "outputs": [],
   "source": [
    "# define wrapper for CNN Policies\n",
    "def ImgRGBImgPartialObsWrapper(env):\n",
    "    return ImgObsWrapper(RGBImgPartialObsWrapper(env))\n",
    "\n",
    "def get_tb_dir(result_dir, log_name, stage='train',task_idx=0):\n",
    "    tb_dir = os.path.join(result_dir, log_name, stage, \"task_\"+str(task_idx))\n",
    "    return tb_dir"
   ]
  },
  {
   "attachments": {},
   "cell_type": "markdown",
   "metadata": {},
   "source": [
    "Load arguments"
   ]
  },
  {
   "cell_type": "code",
   "execution_count": 5,
   "metadata": {},
   "outputs": [
    {
     "name": "stdout",
     "output_type": "stream",
     "text": [
      "{'algo': 'ppo', 'experiment': 'minigrid-blip-5e5-doorkey-wallgap-lavagap', 'approach': 'blip', 'wrapper': 'flat', 'optimizer': 'Adam', 'gail': False, 'gail_experts_dir': './gail_experts', 'gail_batch_size': 128, 'gail_epoch': 5, 'lr': 0.00025, 'eps': 1e-08, 'gamma': 0.99, 'use_gae': True, 'gae_lambda': 0.95, 'entropy_coef': 0.01, 'value_loss_coef': 0.5, 'max_grad_norm': 0.5, 'seed': 1, 'cuda_deterministic': False, 'num_processes': 16, 'num_steps': 128, 'ppo_epoch': 4, 'num_mini_batch': 256, 'clip_param': 0.2, 'log_interval': 10, 'save_interval': 10, 'eval_interval': 10, 'num_env_steps': 500000.0, 'env_name': 'PongNoFrameskip-v4', 'log_dir': './logs/', 'save_dir': './trained_models/', 'no_cuda': True, 'use_proper_time_limits': False, 'recurrent_policy': False, 'use_linear_lr_decay': False, 'ewc_lambda': 5000.0, 'ewc_online': False, 'ewc_epochs': 100, 'num_ewc_steps': 20, 'save_name': None, 'date': datetime.date(2023, 10, 5), 'task_id': None, 'single_task': False, 'F_prior': 1e-16, 'input_padding': False, 'sample': False, 'samples': 1, 'num_eval_episodes': 10, 'render_ckpt_path': '', 'render_task_idx': 0, 'num_render_traj': 1000, 'cuda': False}\n"
     ]
    }
   ],
   "source": [
    "args = {\n",
    "'algo':'ppo',\n",
    "'experiment':'minigrid-blip-5e5-doorkey-wallgap-lavagap',\n",
    "'approach':'blip', #'fine-tuning','blip','ewc'\n",
    "'wrapper':'flat',#'img'\n",
    "'optimizer':'Adam',#'RMSProp',#'Adam',\n",
    "'gail':False,\n",
    "'gail_experts_dir':'./gail_experts',\n",
    "'gail_batch_size':128,\n",
    "'gail_epoch':5,\n",
    "'lr':2.5e-4,#7e-4,#1e-4,\n",
    "'eps':1e-8,#1e-5,\n",
    "'gamma':0.99,\n",
    "'use_gae':True,\n",
    "'gae_lambda':0.95,#0.99,\n",
    "'entropy_coef':0.01,\n",
    "'value_loss_coef':0.5,\n",
    "'max_grad_norm':0.5,\n",
    "'seed':1,\n",
    "'cuda_deterministic':False,\n",
    "'num_processes':16,\n",
    "'num_steps':128,#5,\n",
    "'ppo_epoch':4,\n",
    "'num_mini_batch':256,#8,#32,\n",
    "'clip_param':0.2,#0.1,\n",
    "'log_interval':10,\n",
    "'save_interval':10,\n",
    "'eval_interval':10,\n",
    "'num_env_steps':5e5,\n",
    "'env_name':'PongNoFrameskip-v4',\n",
    "'log_dir':'./logs/',\n",
    "'save_dir':'./trained_models/',\n",
    "'no_cuda':True,\n",
    "'use_proper_time_limits':False,\n",
    "'recurrent_policy':False,\n",
    "'use_linear_lr_decay':False,\n",
    "'ewc_lambda':5000.0,\n",
    "'ewc_online':False,\n",
    "'ewc_epochs':100,\n",
    "'num_ewc_steps':20,\n",
    "'save_name':None,\n",
    "'date':date.today(),\n",
    "'task_id':None,\n",
    "'single_task':False,\n",
    "'F_prior':1e-16,#5e-18,#1e-15,\n",
    "'input_padding':False,\n",
    "'sample':False,\n",
    "'samples':1,\n",
    "'num_eval_episodes':10,\n",
    "# render arguments\n",
    "'render_ckpt_path':'',\n",
    "'render_task_idx':0,\n",
    "'num_render_traj':1000\n",
    "}\n",
    "\n",
    "args = DictList(args)\n",
    "\n",
    "args.cuda = not args.no_cuda and torch.cuda.is_available()\n",
    "\n",
    "assert args.algo in ['a2c', 'ppo', 'acktr']\n",
    "if args.recurrent_policy:\n",
    "    assert args.algo in ['a2c', 'ppo'], \\\n",
    "        'Recurrent policy is not implemented for ACKTR'\n",
    "conv_experiment = [\n",
    "    'atari',\n",
    "]\n",
    "\n",
    "print(args)"
   ]
  },
  {
   "attachments": {},
   "cell_type": "markdown",
   "metadata": {},
   "source": [
    "Load tasks and model"
   ]
  },
  {
   "cell_type": "code",
   "execution_count": 6,
   "metadata": {},
   "outputs": [
    {
     "name": "stdout",
     "output_type": "stream",
     "text": [
      "using fisher prior of:  1e-16\n"
     ]
    }
   ],
   "source": [
    "# Split\n",
    "\n",
    "if args.approach == 'fine-tuning' or args.approach == 'ft-fix':\n",
    "    log_name = '{}_{}_{}_{}'.format(args.date, args.experiment, args.approach,args.seed)\n",
    "elif args.approach == 'ewc' in args.approach:\n",
    "    log_name = '{}_{}_{}_{}_lamb_{}'.format(args.date, args.experiment, args.approach, args.seed, args.ewc_lambda)\n",
    "elif args.approach == 'blip':\n",
    "    log_name = '{}_{}_{}_{}_F_prior_{}'.format(args.date, args.experiment, args.approach, args.seed, args.F_prior)\n",
    "\n",
    "if args.experiment in conv_experiment:\n",
    "    log_name = log_name + '_conv'\n",
    "\n",
    "# Seed\n",
    "set_random_seed(args.seed)\n",
    "\n",
    "# Inits\n",
    "if args.cuda:\n",
    "    torch.set_default_tensor_type('torch.cuda.FloatTensor')\n",
    "else:\n",
    "    torch.set_default_tensor_type('torch.FloatTensor')\n",
    "\n",
    "device = torch.device(\"cuda\" if args.cuda else \"cpu\")\n",
    "\n",
    "#taskcla = [(0,14), (1,18), (2,18), (3,18), (4,18), (5,6)]\n",
    "#task_sequences = [(0, 'KungFuMasterNoFrameskip-v4'), (1, 'BoxingNoFrameskip-v4'), (2, 'JamesbondNoFrameskip-v4'), (3, 'KrullNoFrameskip-v4'), (4, 'RiverraidNoFrameskip-v4'), (5, 'SpaceInvadersNoFrameskip-v4')]\n",
    "\n",
    "taskcla = [(0,7), (1,7), (2,7)]\n",
    "tasks_sequence = [\n",
    "    (0, 'MiniGrid-DoorKey-6x6-v0'), \n",
    "    (1, 'MiniGrid-WallGapS6-v0'), \n",
    "    (2, 'MiniGrid-LavaGapS6-v0')\n",
    "    ]\n",
    "\n",
    "# hard coded for atari environment\n",
    "#obs_shape = (4,84,84)\n",
    "\n",
    "# for FlatObsWrapper Minigrid environment\n",
    "if args.wrapper == 'flat':\n",
    "    wrapper_class = FlatObsWrapper\n",
    "    obs_shape = (2739,)\n",
    "# for ImgRGBImgPartialObsWrapper Minigrid environment\n",
    "elif args.wrapper == 'img':\n",
    "    wrapper_class = ImgRGBImgPartialObsWrapper\n",
    "    obs_shape = (12, 56, 56)\n",
    "\n",
    "if args.approach == 'blip':\n",
    "    from rl_module.ppo_model import QPolicy\n",
    "    print('using fisher prior of: ', args.F_prior)\n",
    "    actor_critic = QPolicy(obs_shape,\n",
    "        taskcla,\n",
    "        base_kwargs={'F_prior': args.F_prior, 'recurrent': args.recurrent_policy}).to(device)\n",
    "else:\n",
    "    from rl_module.ppo_model import Policy\n",
    "    actor_critic = Policy(obs_shape,\n",
    "        taskcla,\n",
    "        base_kwargs={'recurrent': args.recurrent_policy}).to(device)\n",
    "\n",
    "# Args -- Approach\n",
    "if args.approach == 'fine-tuning' or args.approach == 'ft-fix':\n",
    "    from rl_module.ppo import PPO as approach\n",
    "\n",
    "    agent = approach(actor_critic,\n",
    "            args.clip_param,\n",
    "            args.ppo_epoch,\n",
    "            args.num_mini_batch,\n",
    "            args.value_loss_coef,\n",
    "            args.entropy_coef,\n",
    "            lr=args.lr,\n",
    "            eps=args.eps,\n",
    "            max_grad_norm=args.max_grad_norm,\n",
    "            use_clipped_value_loss=True,\n",
    "            optimizer=args.optimizer)\n",
    "elif args.approach == 'ewc':\n",
    "    from rl_module.ppo_ewc import PPO_EWC as approach\n",
    "\n",
    "    agent = approach(\n",
    "        actor_critic,\n",
    "        args.clip_param,\n",
    "        args.ppo_epoch,\n",
    "        args.num_mini_batch,\n",
    "        args.value_loss_coef,\n",
    "        args.entropy_coef,\n",
    "        lr=args.lr,\n",
    "        eps=args.eps,\n",
    "        max_grad_norm=args.max_grad_norm,\n",
    "        use_clipped_value_loss=True,\n",
    "        ewc_lambda= args.ewc_lambda,\n",
    "        online = args.ewc_online,\n",
    "        optimizer=args.optimizer)\n",
    "\n",
    "elif args.approach == 'blip':\n",
    "    from rl_module.ppo_blip import PPO_BLIP as approach\n",
    "\n",
    "    agent = approach(\n",
    "        actor_critic,\n",
    "        args.clip_param,\n",
    "        args.ppo_epoch,\n",
    "        args.num_mini_batch,\n",
    "        args.value_loss_coef,\n",
    "        args.entropy_coef,\n",
    "        lr=args.lr,\n",
    "        eps=args.eps,\n",
    "        max_grad_norm=args.max_grad_norm,\n",
    "        use_clipped_value_loss=True,\n",
    "        optimizer=args.optimizer)"
   ]
  },
  {
   "attachments": {},
   "cell_type": "markdown",
   "metadata": {},
   "source": [
    "Train:"
   ]
  },
  {
   "cell_type": "code",
   "execution_count": 7,
   "metadata": {},
   "outputs": [
    {
     "name": "stdout",
     "output_type": "stream",
     "text": [
      "Device:  cpu\n",
      "Approach:  blip\n",
      "Date:  2023-10-05\n",
      "Experiment:  2023-10-05_minigrid-blip-5e5-doorkey-wallgap-lavagap_blip_1_F_prior_1e-16\n",
      "Length task sequence:  3\n",
      "Tasks:  [(0, 'MiniGrid-DoorKey-6x6-v0'), (1, 'MiniGrid-WallGapS6-v0'), (2, 'MiniGrid-LavaGapS6-v0')] \n",
      "\n",
      "Training task 0: MiniGrid-DoorKey-6x6-v0\n",
      "Task 0: Evaluation using 10 episodes: mean reward 0.00000, std 0.00000 \n",
      "\n"
     ]
    },
    {
     "name": "stderr",
     "output_type": "stream",
     "text": [
      "  4%|▎         | 9/244 [00:50<20:20,  5.19s/it]"
     ]
    },
    {
     "name": "stdout",
     "output_type": "stream",
     "text": [
      "Updates 9, num timesteps 20480, FPS 367 \n",
      " Last 10 training episodes: mean/median reward 0.1/0.0, min/max reward 0.0/0.7, std 0.3\n",
      "\n"
     ]
    },
    {
     "name": "stderr",
     "output_type": "stream",
     "text": [
      "  4%|▍         | 10/244 [01:10<36:58,  9.48s/it]"
     ]
    },
    {
     "name": "stdout",
     "output_type": "stream",
     "text": [
      "Task 0: Evaluation using 10 episodes: mean reward 0.00000, std 0.00000 \n",
      "\n"
     ]
    },
    {
     "name": "stderr",
     "output_type": "stream",
     "text": [
      "  8%|▊         | 19/244 [02:00<20:44,  5.53s/it]"
     ]
    },
    {
     "name": "stdout",
     "output_type": "stream",
     "text": [
      "Updates 19, num timesteps 40960, FPS 324 \n",
      " Last 10 training episodes: mean/median reward 0.4/0.5, min/max reward 0.0/0.8, std 0.3\n",
      "\n"
     ]
    },
    {
     "name": "stderr",
     "output_type": "stream",
     "text": [
      "  8%|▊         | 20/244 [02:20<36:54,  9.89s/it]"
     ]
    },
    {
     "name": "stdout",
     "output_type": "stream",
     "text": [
      "Task 0: Evaluation using 10 episodes: mean reward 0.00000, std 0.00000 \n",
      "\n"
     ]
    },
    {
     "name": "stderr",
     "output_type": "stream",
     "text": [
      " 12%|█▏        | 29/244 [03:11<23:00,  6.42s/it]"
     ]
    },
    {
     "name": "stdout",
     "output_type": "stream",
     "text": [
      "Updates 29, num timesteps 61440, FPS 310 \n",
      " Last 10 training episodes: mean/median reward 0.9/0.9, min/max reward 0.9/1.0, std 0.0\n",
      "\n"
     ]
    },
    {
     "name": "stderr",
     "output_type": "stream",
     "text": [
      " 12%|█▏        | 30/244 [03:30<36:36, 10.26s/it]"
     ]
    },
    {
     "name": "stdout",
     "output_type": "stream",
     "text": [
      "Task 0: Evaluation using 10 episodes: mean reward 0.96700, std 0.00458 \n",
      "\n"
     ]
    },
    {
     "name": "stderr",
     "output_type": "stream",
     "text": [
      " 16%|█▌        | 39/244 [04:21<19:22,  5.67s/it]"
     ]
    },
    {
     "name": "stdout",
     "output_type": "stream",
     "text": [
      "Updates 39, num timesteps 81920, FPS 307 \n",
      " Last 10 training episodes: mean/median reward 0.9/1.0, min/max reward 0.9/1.0, std 0.0\n",
      "\n"
     ]
    },
    {
     "name": "stderr",
     "output_type": "stream",
     "text": [
      " 16%|█▋        | 40/244 [04:43<36:15, 10.67s/it]"
     ]
    },
    {
     "name": "stdout",
     "output_type": "stream",
     "text": [
      "Task 0: Evaluation using 10 episodes: mean reward 0.00000, std 0.00000 \n",
      "\n"
     ]
    },
    {
     "name": "stderr",
     "output_type": "stream",
     "text": [
      " 20%|██        | 49/244 [05:35<18:23,  5.66s/it]"
     ]
    },
    {
     "name": "stdout",
     "output_type": "stream",
     "text": [
      "Updates 49, num timesteps 102400, FPS 300 \n",
      " Last 10 training episodes: mean/median reward 1.0/1.0, min/max reward 1.0/1.0, std 0.0\n",
      "\n"
     ]
    },
    {
     "name": "stderr",
     "output_type": "stream",
     "text": [
      " 20%|██        | 50/244 [05:52<29:12,  9.03s/it]"
     ]
    },
    {
     "name": "stdout",
     "output_type": "stream",
     "text": [
      "Task 0: Evaluation using 10 episodes: mean reward 0.96650, std 0.00735 \n",
      "\n"
     ]
    },
    {
     "name": "stderr",
     "output_type": "stream",
     "text": [
      " 24%|██▍       | 59/244 [06:44<19:40,  6.38s/it]"
     ]
    },
    {
     "name": "stdout",
     "output_type": "stream",
     "text": [
      "Updates 59, num timesteps 122880, FPS 298 \n",
      " Last 10 training episodes: mean/median reward 1.0/1.0, min/max reward 0.9/1.0, std 0.0\n",
      "\n"
     ]
    },
    {
     "name": "stderr",
     "output_type": "stream",
     "text": [
      " 25%|██▍       | 60/244 [07:03<31:28, 10.26s/it]"
     ]
    },
    {
     "name": "stdout",
     "output_type": "stream",
     "text": [
      "Task 0: Evaluation using 10 episodes: mean reward 0.96175, std 0.00251 \n",
      "\n"
     ]
    },
    {
     "name": "stderr",
     "output_type": "stream",
     "text": [
      " 28%|██▊       | 69/244 [07:51<15:59,  5.48s/it]"
     ]
    },
    {
     "name": "stdout",
     "output_type": "stream",
     "text": [
      "Updates 69, num timesteps 143360, FPS 300 \n",
      " Last 10 training episodes: mean/median reward 1.0/1.0, min/max reward 1.0/1.0, std 0.0\n",
      "\n"
     ]
    },
    {
     "name": "stderr",
     "output_type": "stream",
     "text": [
      " 29%|██▊       | 70/244 [08:12<28:48,  9.93s/it]"
     ]
    },
    {
     "name": "stdout",
     "output_type": "stream",
     "text": [
      "Task 0: Evaluation using 10 episodes: mean reward 0.96025, std 0.00720 \n",
      "\n"
     ]
    },
    {
     "name": "stderr",
     "output_type": "stream",
     "text": [
      " 32%|███▏      | 79/244 [09:04<16:43,  6.08s/it]"
     ]
    },
    {
     "name": "stdout",
     "output_type": "stream",
     "text": [
      "Updates 79, num timesteps 163840, FPS 297 \n",
      " Last 10 training episodes: mean/median reward 1.0/1.0, min/max reward 0.9/1.0, std 0.0\n",
      "\n"
     ]
    },
    {
     "name": "stderr",
     "output_type": "stream",
     "text": [
      " 33%|███▎      | 80/244 [09:24<28:22, 10.38s/it]"
     ]
    },
    {
     "name": "stdout",
     "output_type": "stream",
     "text": [
      "Task 0: Evaluation using 10 episodes: mean reward 0.96050, std 0.00630 \n",
      "\n"
     ]
    },
    {
     "name": "stderr",
     "output_type": "stream",
     "text": [
      " 36%|███▋      | 89/244 [10:17<16:03,  6.22s/it]"
     ]
    },
    {
     "name": "stdout",
     "output_type": "stream",
     "text": [
      "Updates 89, num timesteps 184320, FPS 295 \n",
      " Last 10 training episodes: mean/median reward 1.0/1.0, min/max reward 1.0/1.0, std 0.0\n",
      "\n"
     ]
    },
    {
     "name": "stderr",
     "output_type": "stream",
     "text": [
      " 37%|███▋      | 90/244 [10:36<25:51, 10.07s/it]"
     ]
    },
    {
     "name": "stdout",
     "output_type": "stream",
     "text": [
      "Task 0: Evaluation using 10 episodes: mean reward 0.96425, std 0.00537 \n",
      "\n"
     ]
    },
    {
     "name": "stderr",
     "output_type": "stream",
     "text": [
      " 41%|████      | 99/244 [11:34<15:18,  6.34s/it]"
     ]
    },
    {
     "name": "stdout",
     "output_type": "stream",
     "text": [
      "Updates 99, num timesteps 204800, FPS 291 \n",
      " Last 10 training episodes: mean/median reward 0.9/1.0, min/max reward 0.0/1.0, std 0.3\n",
      "\n"
     ]
    },
    {
     "name": "stderr",
     "output_type": "stream",
     "text": [
      " 41%|████      | 100/244 [11:53<23:56,  9.98s/it]"
     ]
    },
    {
     "name": "stdout",
     "output_type": "stream",
     "text": [
      "Task 0: Evaluation using 10 episodes: mean reward 0.96675, std 0.00434 \n",
      "\n"
     ]
    },
    {
     "name": "stderr",
     "output_type": "stream",
     "text": [
      " 45%|████▍     | 109/244 [12:41<13:17,  5.91s/it]"
     ]
    },
    {
     "name": "stdout",
     "output_type": "stream",
     "text": [
      "Updates 109, num timesteps 225280, FPS 292 \n",
      " Last 10 training episodes: mean/median reward 1.0/1.0, min/max reward 0.9/1.0, std 0.0\n",
      "\n"
     ]
    },
    {
     "name": "stderr",
     "output_type": "stream",
     "text": [
      " 45%|████▌     | 110/244 [13:05<25:56, 11.61s/it]"
     ]
    },
    {
     "name": "stdout",
     "output_type": "stream",
     "text": [
      "Task 0: Evaluation using 10 episodes: mean reward 0.00000, std 0.00000 \n",
      "\n"
     ]
    },
    {
     "name": "stderr",
     "output_type": "stream",
     "text": [
      " 49%|████▉     | 119/244 [13:50<10:47,  5.18s/it]"
     ]
    },
    {
     "name": "stdout",
     "output_type": "stream",
     "text": [
      "Updates 119, num timesteps 245760, FPS 294 \n",
      " Last 10 training episodes: mean/median reward 1.0/1.0, min/max reward 1.0/1.0, std 0.0\n",
      "\n"
     ]
    },
    {
     "name": "stderr",
     "output_type": "stream",
     "text": [
      " 49%|████▉     | 120/244 [14:05<16:57,  8.21s/it]"
     ]
    },
    {
     "name": "stdout",
     "output_type": "stream",
     "text": [
      "Task 0: Evaluation using 10 episodes: mean reward 0.94300, std 0.01187 \n",
      "\n"
     ]
    },
    {
     "name": "stderr",
     "output_type": "stream",
     "text": [
      " 53%|█████▎    | 129/244 [14:50<09:41,  5.06s/it]"
     ]
    },
    {
     "name": "stdout",
     "output_type": "stream",
     "text": [
      "Updates 129, num timesteps 266240, FPS 297 \n",
      " Last 10 training episodes: mean/median reward 1.0/1.0, min/max reward 1.0/1.0, std 0.0\n",
      "\n"
     ]
    },
    {
     "name": "stderr",
     "output_type": "stream",
     "text": [
      " 53%|█████▎    | 130/244 [15:09<17:01,  8.96s/it]"
     ]
    },
    {
     "name": "stdout",
     "output_type": "stream",
     "text": [
      "Task 0: Evaluation using 10 episodes: mean reward 0.00000, std 0.00000 \n",
      "\n"
     ]
    },
    {
     "name": "stderr",
     "output_type": "stream",
     "text": [
      " 57%|█████▋    | 139/244 [15:53<08:47,  5.02s/it]"
     ]
    },
    {
     "name": "stdout",
     "output_type": "stream",
     "text": [
      "Updates 139, num timesteps 286720, FPS 299 \n",
      " Last 10 training episodes: mean/median reward 1.0/1.0, min/max reward 1.0/1.0, std 0.0\n",
      "\n"
     ]
    },
    {
     "name": "stderr",
     "output_type": "stream",
     "text": [
      " 57%|█████▋    | 140/244 [16:11<15:41,  9.05s/it]"
     ]
    },
    {
     "name": "stdout",
     "output_type": "stream",
     "text": [
      "Task 0: Evaluation using 10 episodes: mean reward 0.00000, std 0.00000 \n",
      "\n"
     ]
    },
    {
     "name": "stderr",
     "output_type": "stream",
     "text": [
      " 61%|██████    | 149/244 [16:56<07:56,  5.02s/it]"
     ]
    },
    {
     "name": "stdout",
     "output_type": "stream",
     "text": [
      "Updates 149, num timesteps 307200, FPS 300 \n",
      " Last 10 training episodes: mean/median reward 1.0/1.0, min/max reward 0.9/1.0, std 0.0\n",
      "\n"
     ]
    },
    {
     "name": "stderr",
     "output_type": "stream",
     "text": [
      " 61%|██████▏   | 150/244 [17:14<13:56,  8.90s/it]"
     ]
    },
    {
     "name": "stdout",
     "output_type": "stream",
     "text": [
      "Task 0: Evaluation using 10 episodes: mean reward 0.00000, std 0.00000 \n",
      "\n"
     ]
    },
    {
     "name": "stderr",
     "output_type": "stream",
     "text": [
      " 65%|██████▌   | 159/244 [17:57<07:01,  4.96s/it]"
     ]
    },
    {
     "name": "stdout",
     "output_type": "stream",
     "text": [
      "Updates 159, num timesteps 327680, FPS 302 \n",
      " Last 10 training episodes: mean/median reward 1.0/1.0, min/max reward 0.9/1.0, std 0.0\n",
      "\n"
     ]
    },
    {
     "name": "stderr",
     "output_type": "stream",
     "text": [
      " 66%|██████▌   | 160/244 [18:13<11:31,  8.23s/it]"
     ]
    },
    {
     "name": "stdout",
     "output_type": "stream",
     "text": [
      "Task 0: Evaluation using 10 episodes: mean reward 0.95425, std 0.00448 \n",
      "\n"
     ]
    },
    {
     "name": "stderr",
     "output_type": "stream",
     "text": [
      " 69%|██████▉   | 169/244 [18:57<06:03,  4.85s/it]"
     ]
    },
    {
     "name": "stdout",
     "output_type": "stream",
     "text": [
      "Updates 169, num timesteps 348160, FPS 304 \n",
      " Last 10 training episodes: mean/median reward 1.0/1.0, min/max reward 1.0/1.0, std 0.0\n",
      "\n"
     ]
    },
    {
     "name": "stderr",
     "output_type": "stream",
     "text": [
      " 70%|██████▉   | 170/244 [19:16<10:59,  8.92s/it]"
     ]
    },
    {
     "name": "stdout",
     "output_type": "stream",
     "text": [
      "Task 0: Evaluation using 10 episodes: mean reward 0.00000, std 0.00000 \n",
      "\n"
     ]
    },
    {
     "name": "stderr",
     "output_type": "stream",
     "text": [
      " 73%|███████▎  | 179/244 [19:59<05:17,  4.89s/it]"
     ]
    },
    {
     "name": "stdout",
     "output_type": "stream",
     "text": [
      "Updates 179, num timesteps 368640, FPS 306 \n",
      " Last 10 training episodes: mean/median reward 1.0/1.0, min/max reward 1.0/1.0, std 0.0\n",
      "\n"
     ]
    },
    {
     "name": "stderr",
     "output_type": "stream",
     "text": [
      " 74%|███████▍  | 180/244 [20:15<08:40,  8.13s/it]"
     ]
    },
    {
     "name": "stdout",
     "output_type": "stream",
     "text": [
      "Task 0: Evaluation using 10 episodes: mean reward 0.96475, std 0.00394 \n",
      "\n"
     ]
    },
    {
     "name": "stderr",
     "output_type": "stream",
     "text": [
      " 77%|███████▋  | 189/244 [20:59<04:29,  4.90s/it]"
     ]
    },
    {
     "name": "stdout",
     "output_type": "stream",
     "text": [
      "Updates 189, num timesteps 389120, FPS 307 \n",
      " Last 10 training episodes: mean/median reward 1.0/1.0, min/max reward 0.9/1.0, std 0.0\n",
      "\n"
     ]
    },
    {
     "name": "stderr",
     "output_type": "stream",
     "text": [
      " 78%|███████▊  | 190/244 [21:18<08:04,  8.96s/it]"
     ]
    },
    {
     "name": "stdout",
     "output_type": "stream",
     "text": [
      "Task 0: Evaluation using 10 episodes: mean reward 0.00000, std 0.00000 \n",
      "\n"
     ]
    },
    {
     "name": "stderr",
     "output_type": "stream",
     "text": [
      " 82%|████████▏ | 199/244 [22:01<03:41,  4.92s/it]"
     ]
    },
    {
     "name": "stdout",
     "output_type": "stream",
     "text": [
      "Updates 199, num timesteps 409600, FPS 308 \n",
      " Last 10 training episodes: mean/median reward 1.0/1.0, min/max reward 1.0/1.0, std 0.0\n",
      "\n"
     ]
    },
    {
     "name": "stderr",
     "output_type": "stream",
     "text": [
      " 82%|████████▏ | 200/244 [22:17<05:57,  8.11s/it]"
     ]
    },
    {
     "name": "stdout",
     "output_type": "stream",
     "text": [
      "Task 0: Evaluation using 10 episodes: mean reward 0.96150, std 0.00391 \n",
      "\n"
     ]
    },
    {
     "name": "stderr",
     "output_type": "stream",
     "text": [
      " 86%|████████▌ | 209/244 [23:01<02:52,  4.92s/it]"
     ]
    },
    {
     "name": "stdout",
     "output_type": "stream",
     "text": [
      "Updates 209, num timesteps 430080, FPS 310 \n",
      " Last 10 training episodes: mean/median reward 1.0/1.0, min/max reward 1.0/1.0, std 0.0\n",
      "\n"
     ]
    },
    {
     "name": "stderr",
     "output_type": "stream",
     "text": [
      " 86%|████████▌ | 210/244 [23:17<04:42,  8.31s/it]"
     ]
    },
    {
     "name": "stdout",
     "output_type": "stream",
     "text": [
      "Task 0: Evaluation using 10 episodes: mean reward 0.96150, std 0.00421 \n",
      "\n"
     ]
    },
    {
     "name": "stderr",
     "output_type": "stream",
     "text": [
      " 90%|████████▉ | 219/244 [24:01<02:01,  4.84s/it]"
     ]
    },
    {
     "name": "stdout",
     "output_type": "stream",
     "text": [
      "Updates 219, num timesteps 450560, FPS 311 \n",
      " Last 10 training episodes: mean/median reward 1.0/1.0, min/max reward 0.9/1.0, std 0.0\n",
      "\n"
     ]
    },
    {
     "name": "stderr",
     "output_type": "stream",
     "text": [
      " 90%|█████████ | 220/244 [24:19<03:26,  8.62s/it]"
     ]
    },
    {
     "name": "stdout",
     "output_type": "stream",
     "text": [
      "Task 0: Evaluation using 10 episodes: mean reward 0.00000, std 0.00000 \n",
      "\n"
     ]
    },
    {
     "name": "stderr",
     "output_type": "stream",
     "text": [
      " 94%|█████████▍| 229/244 [25:02<01:13,  4.88s/it]"
     ]
    },
    {
     "name": "stdout",
     "output_type": "stream",
     "text": [
      "Updates 229, num timesteps 471040, FPS 312 \n",
      " Last 10 training episodes: mean/median reward 1.0/1.0, min/max reward 0.9/1.0, std 0.0\n",
      "\n"
     ]
    },
    {
     "name": "stderr",
     "output_type": "stream",
     "text": [
      " 94%|█████████▍| 230/244 [25:20<02:02,  8.76s/it]"
     ]
    },
    {
     "name": "stdout",
     "output_type": "stream",
     "text": [
      "Task 0: Evaluation using 10 episodes: mean reward 0.00000, std 0.00000 \n",
      "\n"
     ]
    },
    {
     "name": "stderr",
     "output_type": "stream",
     "text": [
      " 98%|█████████▊| 239/244 [26:03<00:24,  4.85s/it]"
     ]
    },
    {
     "name": "stdout",
     "output_type": "stream",
     "text": [
      "Updates 239, num timesteps 491520, FPS 313 \n",
      " Last 10 training episodes: mean/median reward 1.0/1.0, min/max reward 1.0/1.0, std 0.0\n",
      "\n"
     ]
    },
    {
     "name": "stderr",
     "output_type": "stream",
     "text": [
      " 98%|█████████▊| 240/244 [26:18<00:32,  8.05s/it]"
     ]
    },
    {
     "name": "stdout",
     "output_type": "stream",
     "text": [
      "Task 0: Evaluation using 10 episodes: mean reward 0.96150, std 0.00539 \n",
      "\n"
     ]
    },
    {
     "name": "stderr",
     "output_type": "stream",
     "text": [
      "100%|██████████| 244/244 [26:38<00:00,  6.55s/it]\n",
      "/Users/inigo/.local/share/virtualenvs/tfm-experiments-K5nk3NK1/lib/python3.7/site-packages/torch/nn/modules/module.py:1117: UserWarning: Using a non-full backward hook when the forward contains multiple autograd Nodes is deprecated and will be removed in future versions. This hook will be missing some grad_input. Please use register_full_backward_hook to get the documented behavior.\n",
      "  warnings.warn(\"Using a non-full backward hook when the forward contains multiple autograd Nodes \"\n"
     ]
    },
    {
     "name": "stdout",
     "output_type": "stream",
     "text": [
      "Training task 1: MiniGrid-WallGapS6-v0\n",
      "Task 0: Evaluation using 10 episodes: mean reward 0.94850, std 0.00527 \n",
      "\n",
      "Task 1: Evaluation using 10 episodes: mean reward 0.00000, std 0.00000 \n",
      "\n"
     ]
    },
    {
     "name": "stderr",
     "output_type": "stream",
     "text": [
      "  4%|▎         | 9/244 [00:45<19:11,  4.90s/it]"
     ]
    },
    {
     "name": "stdout",
     "output_type": "stream",
     "text": [
      "Updates 9, num timesteps 20480, FPS 409 \n",
      " Last 10 training episodes: mean/median reward 0.3/0.3, min/max reward 0.0/0.8, std 0.3\n",
      "\n",
      "Task 0: Evaluation using 10 episodes: mean reward 0.94850, std 0.00527 \n",
      "\n"
     ]
    },
    {
     "name": "stderr",
     "output_type": "stream",
     "text": [
      "  4%|▍         | 10/244 [01:12<45:49, 11.75s/it]"
     ]
    },
    {
     "name": "stdout",
     "output_type": "stream",
     "text": [
      "Task 1: Evaluation using 10 episodes: mean reward 0.00000, std 0.00000 \n",
      "\n"
     ]
    },
    {
     "name": "stderr",
     "output_type": "stream",
     "text": [
      "  8%|▊         | 19/244 [01:56<19:23,  5.17s/it]"
     ]
    },
    {
     "name": "stdout",
     "output_type": "stream",
     "text": [
      "Updates 19, num timesteps 40960, FPS 336 \n",
      " Last 10 training episodes: mean/median reward 0.6/0.5, min/max reward 0.0/0.9, std 0.3\n",
      "\n",
      "Task 0: Evaluation using 10 episodes: mean reward 0.94900, std 0.00515 \n",
      "\n"
     ]
    },
    {
     "name": "stderr",
     "output_type": "stream",
     "text": [
      "  8%|▊         | 20/244 [02:23<43:58, 11.78s/it]"
     ]
    },
    {
     "name": "stdout",
     "output_type": "stream",
     "text": [
      "Task 1: Evaluation using 10 episodes: mean reward 0.00000, std 0.00000 \n",
      "\n"
     ]
    },
    {
     "name": "stderr",
     "output_type": "stream",
     "text": [
      " 12%|█▏        | 29/244 [03:08<18:40,  5.21s/it]"
     ]
    },
    {
     "name": "stdout",
     "output_type": "stream",
     "text": [
      "Updates 29, num timesteps 61440, FPS 317 \n",
      " Last 10 training episodes: mean/median reward 0.6/0.8, min/max reward 0.0/1.0, std 0.4\n",
      "\n",
      "Task 0: Evaluation using 10 episodes: mean reward 0.94850, std 0.00527 \n",
      "\n"
     ]
    },
    {
     "name": "stderr",
     "output_type": "stream",
     "text": [
      " 12%|█▏        | 30/244 [03:35<41:31, 11.64s/it]"
     ]
    },
    {
     "name": "stdout",
     "output_type": "stream",
     "text": [
      "Task 1: Evaluation using 10 episodes: mean reward 0.95750, std 0.01392 \n",
      "\n"
     ]
    },
    {
     "name": "stderr",
     "output_type": "stream",
     "text": [
      " 16%|█▌        | 39/244 [04:20<17:57,  5.25s/it]"
     ]
    },
    {
     "name": "stdout",
     "output_type": "stream",
     "text": [
      "Updates 39, num timesteps 81920, FPS 308 \n",
      " Last 10 training episodes: mean/median reward 0.8/0.9, min/max reward 0.6/1.0, std 0.1\n",
      "\n",
      "Task 0: Evaluation using 10 episodes: mean reward 0.94850, std 0.00527 \n",
      "\n"
     ]
    },
    {
     "name": "stderr",
     "output_type": "stream",
     "text": [
      " 16%|█▋        | 40/244 [04:45<38:37, 11.36s/it]"
     ]
    },
    {
     "name": "stdout",
     "output_type": "stream",
     "text": [
      "Task 1: Evaluation using 10 episodes: mean reward 0.94938, std 0.01884 \n",
      "\n"
     ]
    },
    {
     "name": "stderr",
     "output_type": "stream",
     "text": [
      " 20%|██        | 49/244 [05:31<16:53,  5.20s/it]"
     ]
    },
    {
     "name": "stdout",
     "output_type": "stream",
     "text": [
      "Updates 49, num timesteps 102400, FPS 304 \n",
      " Last 10 training episodes: mean/median reward 0.9/0.9, min/max reward 0.8/1.0, std 0.1\n",
      "\n",
      "Task 0: Evaluation using 10 episodes: mean reward 0.94850, std 0.00527 \n",
      "\n"
     ]
    },
    {
     "name": "stderr",
     "output_type": "stream",
     "text": [
      " 20%|██        | 50/244 [05:57<37:42, 11.66s/it]"
     ]
    },
    {
     "name": "stdout",
     "output_type": "stream",
     "text": [
      "Task 1: Evaluation using 10 episodes: mean reward 0.09375, std 0.28125 \n",
      "\n"
     ]
    },
    {
     "name": "stderr",
     "output_type": "stream",
     "text": [
      " 24%|██▍       | 59/244 [06:42<15:55,  5.16s/it]"
     ]
    },
    {
     "name": "stdout",
     "output_type": "stream",
     "text": [
      "Updates 59, num timesteps 122880, FPS 301 \n",
      " Last 10 training episodes: mean/median reward 0.9/0.9, min/max reward 0.8/1.0, std 0.0\n",
      "\n",
      "Task 0: Evaluation using 10 episodes: mean reward 0.94850, std 0.00527 \n",
      "\n"
     ]
    },
    {
     "name": "stderr",
     "output_type": "stream",
     "text": [
      " 25%|██▍       | 60/244 [07:09<35:53, 11.70s/it]"
     ]
    },
    {
     "name": "stdout",
     "output_type": "stream",
     "text": [
      "Task 1: Evaluation using 10 episodes: mean reward 0.94500, std 0.01992 \n",
      "\n"
     ]
    },
    {
     "name": "stderr",
     "output_type": "stream",
     "text": [
      " 28%|██▊       | 69/244 [07:54<15:04,  5.17s/it]"
     ]
    },
    {
     "name": "stdout",
     "output_type": "stream",
     "text": [
      "Updates 69, num timesteps 143360, FPS 298 \n",
      " Last 10 training episodes: mean/median reward 0.9/0.9, min/max reward 0.8/1.0, std 0.0\n",
      "\n",
      "Task 0: Evaluation using 10 episodes: mean reward 0.94850, std 0.00527 \n",
      "\n"
     ]
    },
    {
     "name": "stderr",
     "output_type": "stream",
     "text": [
      " 29%|██▊       | 70/244 [08:20<33:32, 11.57s/it]"
     ]
    },
    {
     "name": "stdout",
     "output_type": "stream",
     "text": [
      "Task 1: Evaluation using 10 episodes: mean reward 0.95375, std 0.01431 \n",
      "\n"
     ]
    },
    {
     "name": "stderr",
     "output_type": "stream",
     "text": [
      " 32%|███▏      | 79/244 [09:05<14:22,  5.23s/it]"
     ]
    },
    {
     "name": "stdout",
     "output_type": "stream",
     "text": [
      "Updates 79, num timesteps 163840, FPS 297 \n",
      " Last 10 training episodes: mean/median reward 0.9/0.9, min/max reward 0.9/1.0, std 0.0\n",
      "\n",
      "Task 0: Evaluation using 10 episodes: mean reward 0.94900, std 0.00515 \n",
      "\n"
     ]
    },
    {
     "name": "stderr",
     "output_type": "stream",
     "text": [
      " 33%|███▎      | 80/244 [09:32<31:53, 11.67s/it]"
     ]
    },
    {
     "name": "stdout",
     "output_type": "stream",
     "text": [
      "Task 1: Evaluation using 10 episodes: mean reward 0.95750, std 0.01305 \n",
      "\n"
     ]
    },
    {
     "name": "stderr",
     "output_type": "stream",
     "text": [
      " 36%|███▋      | 89/244 [10:17<13:24,  5.19s/it]"
     ]
    },
    {
     "name": "stdout",
     "output_type": "stream",
     "text": [
      "Updates 89, num timesteps 184320, FPS 296 \n",
      " Last 10 training episodes: mean/median reward 0.9/0.9, min/max reward 0.7/1.0, std 0.1\n",
      "\n",
      "Task 0: Evaluation using 10 episodes: mean reward 0.94850, std 0.00527 \n",
      "\n"
     ]
    },
    {
     "name": "stderr",
     "output_type": "stream",
     "text": [
      " 37%|███▋      | 90/244 [10:44<29:56, 11.66s/it]"
     ]
    },
    {
     "name": "stdout",
     "output_type": "stream",
     "text": [
      "Task 1: Evaluation using 10 episodes: mean reward 0.95062, std 0.01201 \n",
      "\n"
     ]
    },
    {
     "name": "stderr",
     "output_type": "stream",
     "text": [
      " 41%|████      | 99/244 [11:29<12:37,  5.23s/it]"
     ]
    },
    {
     "name": "stdout",
     "output_type": "stream",
     "text": [
      "Updates 99, num timesteps 204800, FPS 294 \n",
      " Last 10 training episodes: mean/median reward 0.9/0.9, min/max reward 0.9/0.9, std 0.0\n",
      "\n",
      "Task 0: Evaluation using 10 episodes: mean reward 0.94850, std 0.00527 \n",
      "\n"
     ]
    },
    {
     "name": "stderr",
     "output_type": "stream",
     "text": [
      " 41%|████      | 100/244 [11:56<28:23, 11.83s/it]"
     ]
    },
    {
     "name": "stdout",
     "output_type": "stream",
     "text": [
      "Task 1: Evaluation using 10 episodes: mean reward 0.95188, std 0.01010 \n",
      "\n"
     ]
    },
    {
     "name": "stderr",
     "output_type": "stream",
     "text": [
      " 45%|████▍     | 109/244 [12:43<12:14,  5.44s/it]"
     ]
    },
    {
     "name": "stdout",
     "output_type": "stream",
     "text": [
      "Updates 109, num timesteps 225280, FPS 293 \n",
      " Last 10 training episodes: mean/median reward 0.9/0.9, min/max reward 0.8/1.0, std 0.0\n",
      "\n",
      "Task 0: Evaluation using 10 episodes: mean reward 0.94850, std 0.00527 \n",
      "\n"
     ]
    },
    {
     "name": "stderr",
     "output_type": "stream",
     "text": [
      " 45%|████▌     | 110/244 [13:09<25:54, 11.60s/it]"
     ]
    },
    {
     "name": "stdout",
     "output_type": "stream",
     "text": [
      "Task 1: Evaluation using 10 episodes: mean reward 0.95188, std 0.01010 \n",
      "\n"
     ]
    },
    {
     "name": "stderr",
     "output_type": "stream",
     "text": [
      " 49%|████▉     | 119/244 [13:54<10:47,  5.18s/it]"
     ]
    },
    {
     "name": "stdout",
     "output_type": "stream",
     "text": [
      "Updates 119, num timesteps 245760, FPS 292 \n",
      " Last 10 training episodes: mean/median reward 0.9/0.9, min/max reward 0.9/1.0, std 0.0\n",
      "\n",
      "Task 0: Evaluation using 10 episodes: mean reward 0.94850, std 0.00527 \n",
      "\n"
     ]
    },
    {
     "name": "stderr",
     "output_type": "stream",
     "text": [
      " 49%|████▉     | 120/244 [14:20<23:58, 11.60s/it]"
     ]
    },
    {
     "name": "stdout",
     "output_type": "stream",
     "text": [
      "Task 1: Evaluation using 10 episodes: mean reward 0.95687, std 0.01201 \n",
      "\n"
     ]
    },
    {
     "name": "stderr",
     "output_type": "stream",
     "text": [
      " 53%|█████▎    | 129/244 [15:06<10:01,  5.23s/it]"
     ]
    },
    {
     "name": "stdout",
     "output_type": "stream",
     "text": [
      "Updates 129, num timesteps 266240, FPS 291 \n",
      " Last 10 training episodes: mean/median reward 0.9/0.9, min/max reward 0.9/1.0, std 0.0\n",
      "\n",
      "Task 0: Evaluation using 10 episodes: mean reward 0.94850, std 0.00527 \n",
      "\n"
     ]
    },
    {
     "name": "stderr",
     "output_type": "stream",
     "text": [
      " 53%|█████▎    | 130/244 [15:33<22:37, 11.91s/it]"
     ]
    },
    {
     "name": "stdout",
     "output_type": "stream",
     "text": [
      "Task 1: Evaluation using 10 episodes: mean reward 0.94813, std 0.01187 \n",
      "\n"
     ]
    },
    {
     "name": "stderr",
     "output_type": "stream",
     "text": [
      " 57%|█████▋    | 139/244 [16:19<09:07,  5.21s/it]"
     ]
    },
    {
     "name": "stdout",
     "output_type": "stream",
     "text": [
      "Updates 139, num timesteps 286720, FPS 291 \n",
      " Last 10 training episodes: mean/median reward 0.9/0.9, min/max reward 0.8/1.0, std 0.0\n",
      "\n",
      "Task 0: Evaluation using 10 episodes: mean reward 0.94850, std 0.00527 \n",
      "\n"
     ]
    },
    {
     "name": "stderr",
     "output_type": "stream",
     "text": [
      " 57%|█████▋    | 140/244 [16:45<19:59, 11.53s/it]"
     ]
    },
    {
     "name": "stdout",
     "output_type": "stream",
     "text": [
      "Task 1: Evaluation using 10 episodes: mean reward 0.95500, std 0.01420 \n",
      "\n"
     ]
    },
    {
     "name": "stderr",
     "output_type": "stream",
     "text": [
      " 61%|██████    | 149/244 [17:30<08:21,  5.28s/it]"
     ]
    },
    {
     "name": "stdout",
     "output_type": "stream",
     "text": [
      "Updates 149, num timesteps 307200, FPS 291 \n",
      " Last 10 training episodes: mean/median reward 0.9/0.9, min/max reward 0.9/1.0, std 0.0\n",
      "\n",
      "Task 0: Evaluation using 10 episodes: mean reward 0.94850, std 0.00527 \n",
      "\n"
     ]
    },
    {
     "name": "stderr",
     "output_type": "stream",
     "text": [
      " 61%|██████▏   | 150/244 [17:56<18:02, 11.51s/it]"
     ]
    },
    {
     "name": "stdout",
     "output_type": "stream",
     "text": [
      "Task 1: Evaluation using 10 episodes: mean reward 0.95000, std 0.01677 \n",
      "\n"
     ]
    },
    {
     "name": "stderr",
     "output_type": "stream",
     "text": [
      " 65%|██████▌   | 159/244 [18:41<07:17,  5.15s/it]"
     ]
    },
    {
     "name": "stdout",
     "output_type": "stream",
     "text": [
      "Updates 159, num timesteps 327680, FPS 290 \n",
      " Last 10 training episodes: mean/median reward 0.9/0.9, min/max reward 0.9/1.0, std 0.0\n",
      "\n",
      "Task 0: Evaluation using 10 episodes: mean reward 0.94850, std 0.00527 \n",
      "\n"
     ]
    },
    {
     "name": "stderr",
     "output_type": "stream",
     "text": [
      " 66%|██████▌   | 160/244 [19:08<16:23, 11.70s/it]"
     ]
    },
    {
     "name": "stdout",
     "output_type": "stream",
     "text": [
      "Task 1: Evaluation using 10 episodes: mean reward 0.95000, std 0.01281 \n",
      "\n"
     ]
    },
    {
     "name": "stderr",
     "output_type": "stream",
     "text": [
      " 69%|██████▉   | 169/244 [19:53<06:24,  5.12s/it]"
     ]
    },
    {
     "name": "stdout",
     "output_type": "stream",
     "text": [
      "Updates 169, num timesteps 348160, FPS 290 \n",
      " Last 10 training episodes: mean/median reward 0.9/0.9, min/max reward 0.9/1.0, std 0.0\n",
      "\n",
      "Task 0: Evaluation using 10 episodes: mean reward 0.94850, std 0.00527 \n",
      "\n"
     ]
    },
    {
     "name": "stderr",
     "output_type": "stream",
     "text": [
      " 70%|██████▉   | 170/244 [20:19<14:05, 11.43s/it]"
     ]
    },
    {
     "name": "stdout",
     "output_type": "stream",
     "text": [
      "Task 1: Evaluation using 10 episodes: mean reward 0.93750, std 0.01152 \n",
      "\n"
     ]
    },
    {
     "name": "stderr",
     "output_type": "stream",
     "text": [
      " 73%|███████▎  | 179/244 [21:04<05:37,  5.20s/it]"
     ]
    },
    {
     "name": "stdout",
     "output_type": "stream",
     "text": [
      "Updates 179, num timesteps 368640, FPS 290 \n",
      " Last 10 training episodes: mean/median reward 0.9/0.9, min/max reward 0.9/0.9, std 0.0\n",
      "\n",
      "Task 0: Evaluation using 10 episodes: mean reward 0.94850, std 0.00527 \n",
      "\n"
     ]
    },
    {
     "name": "stderr",
     "output_type": "stream",
     "text": [
      " 74%|███████▍  | 180/244 [21:30<12:23, 11.62s/it]"
     ]
    },
    {
     "name": "stdout",
     "output_type": "stream",
     "text": [
      "Task 1: Evaluation using 10 episodes: mean reward 0.94125, std 0.01287 \n",
      "\n"
     ]
    },
    {
     "name": "stderr",
     "output_type": "stream",
     "text": [
      " 77%|███████▋  | 189/244 [22:15<04:46,  5.21s/it]"
     ]
    },
    {
     "name": "stdout",
     "output_type": "stream",
     "text": [
      "Updates 189, num timesteps 389120, FPS 290 \n",
      " Last 10 training episodes: mean/median reward 0.9/0.9, min/max reward 0.6/1.0, std 0.1\n",
      "\n",
      "Task 0: Evaluation using 10 episodes: mean reward 0.94850, std 0.00527 \n",
      "\n"
     ]
    },
    {
     "name": "stderr",
     "output_type": "stream",
     "text": [
      " 78%|███████▊  | 190/244 [22:42<10:33, 11.74s/it]"
     ]
    },
    {
     "name": "stdout",
     "output_type": "stream",
     "text": [
      "Task 1: Evaluation using 10 episodes: mean reward 0.94688, std 0.01348 \n",
      "\n"
     ]
    },
    {
     "name": "stderr",
     "output_type": "stream",
     "text": [
      " 82%|████████▏ | 199/244 [23:27<04:01,  5.37s/it]"
     ]
    },
    {
     "name": "stdout",
     "output_type": "stream",
     "text": [
      "Updates 199, num timesteps 409600, FPS 289 \n",
      " Last 10 training episodes: mean/median reward 0.9/0.9, min/max reward 0.9/1.0, std 0.0\n",
      "\n",
      "Task 0: Evaluation using 10 episodes: mean reward 0.94850, std 0.00527 \n",
      "\n"
     ]
    },
    {
     "name": "stderr",
     "output_type": "stream",
     "text": [
      " 82%|████████▏ | 200/244 [23:54<08:39, 11.81s/it]"
     ]
    },
    {
     "name": "stdout",
     "output_type": "stream",
     "text": [
      "Task 1: Evaluation using 10 episodes: mean reward 0.94938, std 0.01800 \n",
      "\n"
     ]
    },
    {
     "name": "stderr",
     "output_type": "stream",
     "text": [
      " 86%|████████▌ | 209/244 [24:40<03:05,  5.29s/it]"
     ]
    },
    {
     "name": "stdout",
     "output_type": "stream",
     "text": [
      "Updates 209, num timesteps 430080, FPS 289 \n",
      " Last 10 training episodes: mean/median reward 0.9/0.9, min/max reward 0.9/1.0, std 0.0\n",
      "\n",
      "Task 0: Evaluation using 10 episodes: mean reward 0.94850, std 0.00527 \n",
      "\n"
     ]
    },
    {
     "name": "stderr",
     "output_type": "stream",
     "text": [
      " 86%|████████▌ | 210/244 [25:06<06:29, 11.44s/it]"
     ]
    },
    {
     "name": "stdout",
     "output_type": "stream",
     "text": [
      "Task 1: Evaluation using 10 episodes: mean reward 0.95063, std 0.01324 \n",
      "\n"
     ]
    },
    {
     "name": "stderr",
     "output_type": "stream",
     "text": [
      " 90%|████████▉ | 219/244 [25:51<02:10,  5.22s/it]"
     ]
    },
    {
     "name": "stdout",
     "output_type": "stream",
     "text": [
      "Updates 219, num timesteps 450560, FPS 289 \n",
      " Last 10 training episodes: mean/median reward 0.9/0.9, min/max reward 0.9/1.0, std 0.0\n",
      "\n",
      "Task 0: Evaluation using 10 episodes: mean reward 0.94850, std 0.00527 \n",
      "\n"
     ]
    },
    {
     "name": "stderr",
     "output_type": "stream",
     "text": [
      " 90%|█████████ | 220/244 [26:18<04:40, 11.68s/it]"
     ]
    },
    {
     "name": "stdout",
     "output_type": "stream",
     "text": [
      "Task 1: Evaluation using 10 episodes: mean reward 0.95000, std 0.01452 \n",
      "\n"
     ]
    },
    {
     "name": "stderr",
     "output_type": "stream",
     "text": [
      " 94%|█████████▍| 229/244 [27:04<01:18,  5.24s/it]"
     ]
    },
    {
     "name": "stdout",
     "output_type": "stream",
     "text": [
      "Updates 229, num timesteps 471040, FPS 289 \n",
      " Last 10 training episodes: mean/median reward 0.9/0.9, min/max reward 0.9/1.0, std 0.0\n",
      "\n",
      "Task 0: Evaluation using 10 episodes: mean reward 0.94850, std 0.00527 \n",
      "\n"
     ]
    },
    {
     "name": "stderr",
     "output_type": "stream",
     "text": [
      " 94%|█████████▍| 230/244 [27:30<02:41, 11.56s/it]"
     ]
    },
    {
     "name": "stdout",
     "output_type": "stream",
     "text": [
      "Task 1: Evaluation using 10 episodes: mean reward 0.94875, std 0.01649 \n",
      "\n"
     ]
    },
    {
     "name": "stderr",
     "output_type": "stream",
     "text": [
      " 98%|█████████▊| 239/244 [28:15<00:26,  5.31s/it]"
     ]
    },
    {
     "name": "stdout",
     "output_type": "stream",
     "text": [
      "Updates 239, num timesteps 491520, FPS 288 \n",
      " Last 10 training episodes: mean/median reward 0.9/0.9, min/max reward 0.9/1.0, std 0.0\n",
      "\n",
      "Task 0: Evaluation using 10 episodes: mean reward 0.94850, std 0.00527 \n",
      "\n"
     ]
    },
    {
     "name": "stderr",
     "output_type": "stream",
     "text": [
      " 98%|█████████▊| 240/244 [28:43<00:47, 11.99s/it]"
     ]
    },
    {
     "name": "stdout",
     "output_type": "stream",
     "text": [
      "Task 1: Evaluation using 10 episodes: mean reward 0.94875, std 0.01649 \n",
      "\n"
     ]
    },
    {
     "name": "stderr",
     "output_type": "stream",
     "text": [
      "100%|██████████| 244/244 [29:03<00:00,  7.15s/it]\n"
     ]
    },
    {
     "name": "stdout",
     "output_type": "stream",
     "text": [
      "Training task 2: MiniGrid-LavaGapS6-v0\n",
      "Task 0: Evaluation using 10 episodes: mean reward 0.94850, std 0.00527 \n",
      "\n",
      "Task 1: Evaluation using 10 episodes: mean reward 0.95063, std 0.01324 \n",
      "\n",
      "Task 2: Evaluation using 10 episodes: mean reward 0.00000, std 0.00000 \n",
      "\n"
     ]
    },
    {
     "name": "stderr",
     "output_type": "stream",
     "text": [
      "  4%|▎         | 9/244 [00:46<20:12,  5.16s/it]"
     ]
    },
    {
     "name": "stdout",
     "output_type": "stream",
     "text": [
      "Updates 9, num timesteps 20480, FPS 393 \n",
      " Last 10 training episodes: mean/median reward 0.0/0.0, min/max reward 0.0/0.0, std 0.0\n",
      "\n",
      "Task 0: Evaluation using 10 episodes: mean reward 0.94850, std 0.00527 \n",
      "\n",
      "Task 1: Evaluation using 10 episodes: mean reward 0.95000, std 0.01452 \n",
      "\n"
     ]
    },
    {
     "name": "stderr",
     "output_type": "stream",
     "text": [
      "  4%|▍         | 10/244 [01:23<58:22, 14.97s/it]"
     ]
    },
    {
     "name": "stdout",
     "output_type": "stream",
     "text": [
      "Task 2: Evaluation using 10 episodes: mean reward 0.00000, std 0.00000 \n",
      "\n"
     ]
    },
    {
     "name": "stderr",
     "output_type": "stream",
     "text": [
      "  8%|▊         | 19/244 [02:10<20:36,  5.50s/it]"
     ]
    },
    {
     "name": "stdout",
     "output_type": "stream",
     "text": [
      "Updates 19, num timesteps 40960, FPS 302 \n",
      " Last 10 training episodes: mean/median reward 0.0/0.0, min/max reward 0.0/0.0, std 0.0\n",
      "\n",
      "Task 0: Evaluation using 10 episodes: mean reward 0.94850, std 0.00527 \n",
      "\n",
      "Task 1: Evaluation using 10 episodes: mean reward 0.95000, std 0.01452 \n",
      "\n"
     ]
    },
    {
     "name": "stderr",
     "output_type": "stream",
     "text": [
      "  8%|▊         | 20/244 [02:46<55:22, 14.83s/it]"
     ]
    },
    {
     "name": "stdout",
     "output_type": "stream",
     "text": [
      "Task 2: Evaluation using 10 episodes: mean reward 0.00000, std 0.00000 \n",
      "\n"
     ]
    },
    {
     "name": "stderr",
     "output_type": "stream",
     "text": [
      " 12%|█▏        | 29/244 [03:34<19:59,  5.58s/it]"
     ]
    },
    {
     "name": "stdout",
     "output_type": "stream",
     "text": [
      "Updates 29, num timesteps 61440, FPS 280 \n",
      " Last 10 training episodes: mean/median reward 0.0/0.0, min/max reward 0.0/0.0, std 0.0\n",
      "\n",
      "Task 0: Evaluation using 10 episodes: mean reward 0.94850, std 0.00527 \n",
      "\n",
      "Task 1: Evaluation using 10 episodes: mean reward 0.95063, std 0.01324 \n",
      "\n"
     ]
    },
    {
     "name": "stderr",
     "output_type": "stream",
     "text": [
      " 12%|█▏        | 30/244 [04:11<54:26, 15.26s/it]"
     ]
    },
    {
     "name": "stdout",
     "output_type": "stream",
     "text": [
      "Task 2: Evaluation using 10 episodes: mean reward 0.00000, std 0.00000 \n",
      "\n"
     ]
    },
    {
     "name": "stderr",
     "output_type": "stream",
     "text": [
      " 16%|█▌        | 39/244 [04:58<18:35,  5.44s/it]"
     ]
    },
    {
     "name": "stdout",
     "output_type": "stream",
     "text": [
      "Updates 39, num timesteps 81920, FPS 269 \n",
      " Last 10 training episodes: mean/median reward 0.0/0.0, min/max reward 0.0/0.0, std 0.0\n",
      "\n",
      "Task 0: Evaluation using 10 episodes: mean reward 0.94850, std 0.00527 \n",
      "\n",
      "Task 1: Evaluation using 10 episodes: mean reward 0.95063, std 0.01324 \n",
      "\n"
     ]
    },
    {
     "name": "stderr",
     "output_type": "stream",
     "text": [
      " 16%|█▋        | 40/244 [05:34<50:12, 14.77s/it]"
     ]
    },
    {
     "name": "stdout",
     "output_type": "stream",
     "text": [
      "Task 2: Evaluation using 10 episodes: mean reward 0.00000, std 0.00000 \n",
      "\n"
     ]
    },
    {
     "name": "stderr",
     "output_type": "stream",
     "text": [
      " 20%|██        | 49/244 [06:22<17:44,  5.46s/it]"
     ]
    },
    {
     "name": "stdout",
     "output_type": "stream",
     "text": [
      "Updates 49, num timesteps 102400, FPS 264 \n",
      " Last 10 training episodes: mean/median reward 0.0/0.0, min/max reward 0.0/0.0, std 0.0\n",
      "\n",
      "Task 0: Evaluation using 10 episodes: mean reward 0.94850, std 0.00527 \n",
      "\n",
      "Task 1: Evaluation using 10 episodes: mean reward 0.95063, std 0.01324 \n",
      "\n"
     ]
    },
    {
     "name": "stderr",
     "output_type": "stream",
     "text": [
      " 20%|██        | 50/244 [06:59<48:13, 14.91s/it]"
     ]
    },
    {
     "name": "stdout",
     "output_type": "stream",
     "text": [
      "Task 2: Evaluation using 10 episodes: mean reward 0.00000, std 0.00000 \n",
      "\n"
     ]
    },
    {
     "name": "stderr",
     "output_type": "stream",
     "text": [
      " 24%|██▍       | 59/244 [07:45<17:03,  5.53s/it]"
     ]
    },
    {
     "name": "stdout",
     "output_type": "stream",
     "text": [
      "Updates 59, num timesteps 122880, FPS 260 \n",
      " Last 10 training episodes: mean/median reward 0.0/0.0, min/max reward 0.0/0.0, std 0.0\n",
      "\n",
      "Task 0: Evaluation using 10 episodes: mean reward 0.94850, std 0.00527 \n",
      "\n",
      "Task 1: Evaluation using 10 episodes: mean reward 0.95063, std 0.01324 \n",
      "\n"
     ]
    },
    {
     "name": "stderr",
     "output_type": "stream",
     "text": [
      " 25%|██▍       | 60/244 [08:22<45:37, 14.88s/it]"
     ]
    },
    {
     "name": "stdout",
     "output_type": "stream",
     "text": [
      "Task 2: Evaluation using 10 episodes: mean reward 0.00000, std 0.00000 \n",
      "\n"
     ]
    },
    {
     "name": "stderr",
     "output_type": "stream",
     "text": [
      " 28%|██▊       | 69/244 [09:09<16:29,  5.66s/it]"
     ]
    },
    {
     "name": "stdout",
     "output_type": "stream",
     "text": [
      "Updates 69, num timesteps 143360, FPS 258 \n",
      " Last 10 training episodes: mean/median reward 0.0/0.0, min/max reward 0.0/0.0, std 0.0\n",
      "\n",
      "Task 0: Evaluation using 10 episodes: mean reward 0.94850, std 0.00527 \n",
      "\n",
      "Task 1: Evaluation using 10 episodes: mean reward 0.95063, std 0.01324 \n",
      "\n"
     ]
    },
    {
     "name": "stderr",
     "output_type": "stream",
     "text": [
      " 29%|██▊       | 70/244 [09:46<43:48, 15.11s/it]"
     ]
    },
    {
     "name": "stdout",
     "output_type": "stream",
     "text": [
      "Task 2: Evaluation using 10 episodes: mean reward 0.00000, std 0.00000 \n",
      "\n"
     ]
    },
    {
     "name": "stderr",
     "output_type": "stream",
     "text": [
      " 32%|███▏      | 79/244 [10:33<15:03,  5.47s/it]"
     ]
    },
    {
     "name": "stdout",
     "output_type": "stream",
     "text": [
      "Updates 79, num timesteps 163840, FPS 256 \n",
      " Last 10 training episodes: mean/median reward 0.0/0.0, min/max reward 0.0/0.0, std 0.0\n",
      "\n",
      "Task 0: Evaluation using 10 episodes: mean reward 0.94850, std 0.00527 \n",
      "\n",
      "Task 1: Evaluation using 10 episodes: mean reward 0.95000, std 0.01452 \n",
      "\n"
     ]
    },
    {
     "name": "stderr",
     "output_type": "stream",
     "text": [
      " 33%|███▎      | 80/244 [11:10<40:41, 14.89s/it]"
     ]
    },
    {
     "name": "stdout",
     "output_type": "stream",
     "text": [
      "Task 2: Evaluation using 10 episodes: mean reward 0.00000, std 0.00000 \n",
      "\n"
     ]
    },
    {
     "name": "stderr",
     "output_type": "stream",
     "text": [
      " 36%|███▋      | 89/244 [11:57<14:14,  5.51s/it]"
     ]
    },
    {
     "name": "stdout",
     "output_type": "stream",
     "text": [
      "Updates 89, num timesteps 184320, FPS 255 \n",
      " Last 10 training episodes: mean/median reward 0.0/0.0, min/max reward 0.0/0.0, std 0.0\n",
      "\n",
      "Task 0: Evaluation using 10 episodes: mean reward 0.94850, std 0.00527 \n",
      "\n",
      "Task 1: Evaluation using 10 episodes: mean reward 0.95063, std 0.01324 \n",
      "\n"
     ]
    },
    {
     "name": "stderr",
     "output_type": "stream",
     "text": [
      " 37%|███▋      | 90/244 [12:33<38:01, 14.82s/it]"
     ]
    },
    {
     "name": "stdout",
     "output_type": "stream",
     "text": [
      "Task 2: Evaluation using 10 episodes: mean reward 0.00000, std 0.00000 \n",
      "\n"
     ]
    },
    {
     "name": "stderr",
     "output_type": "stream",
     "text": [
      " 41%|████      | 99/244 [13:20<13:17,  5.50s/it]"
     ]
    },
    {
     "name": "stdout",
     "output_type": "stream",
     "text": [
      "Updates 99, num timesteps 204800, FPS 254 \n",
      " Last 10 training episodes: mean/median reward 0.0/0.0, min/max reward 0.0/0.0, std 0.0\n",
      "\n",
      "Task 0: Evaluation using 10 episodes: mean reward 0.94850, std 0.00527 \n",
      "\n",
      "Task 1: Evaluation using 10 episodes: mean reward 0.95063, std 0.01324 \n",
      "\n"
     ]
    },
    {
     "name": "stderr",
     "output_type": "stream",
     "text": [
      " 41%|████      | 100/244 [13:57<36:01, 15.01s/it]"
     ]
    },
    {
     "name": "stdout",
     "output_type": "stream",
     "text": [
      "Task 2: Evaluation using 10 episodes: mean reward 0.00000, std 0.00000 \n",
      "\n"
     ]
    },
    {
     "name": "stderr",
     "output_type": "stream",
     "text": [
      " 45%|████▍     | 109/244 [14:46<12:39,  5.63s/it]"
     ]
    },
    {
     "name": "stdout",
     "output_type": "stream",
     "text": [
      "Updates 109, num timesteps 225280, FPS 252 \n",
      " Last 10 training episodes: mean/median reward 0.0/0.0, min/max reward 0.0/0.0, std 0.0\n",
      "\n",
      "Task 0: Evaluation using 10 episodes: mean reward 0.94850, std 0.00527 \n",
      "\n",
      "Task 1: Evaluation using 10 episodes: mean reward 0.95063, std 0.01324 \n",
      "\n"
     ]
    },
    {
     "name": "stderr",
     "output_type": "stream",
     "text": [
      " 45%|████▌     | 110/244 [15:25<35:07, 15.73s/it]"
     ]
    },
    {
     "name": "stdout",
     "output_type": "stream",
     "text": [
      "Task 2: Evaluation using 10 episodes: mean reward 0.00000, std 0.00000 \n",
      "\n"
     ]
    },
    {
     "name": "stderr",
     "output_type": "stream",
     "text": [
      " 49%|████▉     | 119/244 [16:13<11:55,  5.72s/it]"
     ]
    },
    {
     "name": "stdout",
     "output_type": "stream",
     "text": [
      "Updates 119, num timesteps 245760, FPS 251 \n",
      " Last 10 training episodes: mean/median reward 0.0/0.0, min/max reward 0.0/0.0, std 0.0\n",
      "\n",
      "Task 0: Evaluation using 10 episodes: mean reward 0.94850, std 0.00527 \n",
      "\n",
      "Task 1: Evaluation using 10 episodes: mean reward 0.95063, std 0.01324 \n",
      "\n"
     ]
    },
    {
     "name": "stderr",
     "output_type": "stream",
     "text": [
      " 49%|████▉     | 120/244 [16:50<31:17, 15.14s/it]"
     ]
    },
    {
     "name": "stdout",
     "output_type": "stream",
     "text": [
      "Task 2: Evaluation using 10 episodes: mean reward 0.00000, std 0.00000 \n",
      "\n"
     ]
    },
    {
     "name": "stderr",
     "output_type": "stream",
     "text": [
      " 53%|█████▎    | 129/244 [17:36<10:32,  5.50s/it]"
     ]
    },
    {
     "name": "stdout",
     "output_type": "stream",
     "text": [
      "Updates 129, num timesteps 266240, FPS 250 \n",
      " Last 10 training episodes: mean/median reward 0.0/0.0, min/max reward 0.0/0.0, std 0.0\n",
      "\n",
      "Task 0: Evaluation using 10 episodes: mean reward 0.94850, std 0.00527 \n",
      "\n",
      "Task 1: Evaluation using 10 episodes: mean reward 0.95063, std 0.01324 \n",
      "\n"
     ]
    },
    {
     "name": "stderr",
     "output_type": "stream",
     "text": [
      " 53%|█████▎    | 130/244 [18:14<28:32, 15.02s/it]"
     ]
    },
    {
     "name": "stdout",
     "output_type": "stream",
     "text": [
      "Task 2: Evaluation using 10 episodes: mean reward 0.00000, std 0.00000 \n",
      "\n"
     ]
    },
    {
     "name": "stderr",
     "output_type": "stream",
     "text": [
      " 57%|█████▋    | 139/244 [19:00<09:33,  5.46s/it]"
     ]
    },
    {
     "name": "stdout",
     "output_type": "stream",
     "text": [
      "Updates 139, num timesteps 286720, FPS 250 \n",
      " Last 10 training episodes: mean/median reward 0.0/0.0, min/max reward 0.0/0.0, std 0.0\n",
      "\n",
      "Task 0: Evaluation using 10 episodes: mean reward 0.94850, std 0.00527 \n",
      "\n",
      "Task 1: Evaluation using 10 episodes: mean reward 0.95000, std 0.01452 \n",
      "\n"
     ]
    },
    {
     "name": "stderr",
     "output_type": "stream",
     "text": [
      " 57%|█████▋    | 140/244 [19:37<25:39, 14.81s/it]"
     ]
    },
    {
     "name": "stdout",
     "output_type": "stream",
     "text": [
      "Task 2: Evaluation using 10 episodes: mean reward 0.00000, std 0.00000 \n",
      "\n"
     ]
    },
    {
     "name": "stderr",
     "output_type": "stream",
     "text": [
      " 61%|██████    | 149/244 [20:23<08:35,  5.43s/it]"
     ]
    },
    {
     "name": "stdout",
     "output_type": "stream",
     "text": [
      "Updates 149, num timesteps 307200, FPS 249 \n",
      " Last 10 training episodes: mean/median reward 0.0/0.0, min/max reward 0.0/0.0, std 0.0\n",
      "\n",
      "Task 0: Evaluation using 10 episodes: mean reward 0.94850, std 0.00527 \n",
      "\n",
      "Task 1: Evaluation using 10 episodes: mean reward 0.95063, std 0.01324 \n",
      "\n"
     ]
    },
    {
     "name": "stderr",
     "output_type": "stream",
     "text": [
      " 61%|██████▏   | 150/244 [21:00<23:18, 14.88s/it]"
     ]
    },
    {
     "name": "stdout",
     "output_type": "stream",
     "text": [
      "Task 2: Evaluation using 10 episodes: mean reward 0.00000, std 0.00000 \n",
      "\n"
     ]
    },
    {
     "name": "stderr",
     "output_type": "stream",
     "text": [
      " 65%|██████▌   | 159/244 [21:47<07:44,  5.46s/it]"
     ]
    },
    {
     "name": "stdout",
     "output_type": "stream",
     "text": [
      "Updates 159, num timesteps 327680, FPS 249 \n",
      " Last 10 training episodes: mean/median reward 0.0/0.0, min/max reward 0.0/0.0, std 0.0\n",
      "\n",
      "Task 0: Evaluation using 10 episodes: mean reward 0.94850, std 0.00527 \n",
      "\n",
      "Task 1: Evaluation using 10 episodes: mean reward 0.95063, std 0.01324 \n",
      "\n"
     ]
    },
    {
     "name": "stderr",
     "output_type": "stream",
     "text": [
      " 66%|██████▌   | 160/244 [22:23<20:44, 14.81s/it]"
     ]
    },
    {
     "name": "stdout",
     "output_type": "stream",
     "text": [
      "Task 2: Evaluation using 10 episodes: mean reward 0.00000, std 0.00000 \n",
      "\n"
     ]
    },
    {
     "name": "stderr",
     "output_type": "stream",
     "text": [
      " 69%|██████▉   | 169/244 [23:10<06:48,  5.44s/it]"
     ]
    },
    {
     "name": "stdout",
     "output_type": "stream",
     "text": [
      "Updates 169, num timesteps 348160, FPS 249 \n",
      " Last 10 training episodes: mean/median reward 0.0/0.0, min/max reward 0.0/0.0, std 0.0\n",
      "\n",
      "Task 0: Evaluation using 10 episodes: mean reward 0.94850, std 0.00527 \n",
      "\n",
      "Task 1: Evaluation using 10 episodes: mean reward 0.95000, std 0.01452 \n",
      "\n"
     ]
    },
    {
     "name": "stderr",
     "output_type": "stream",
     "text": [
      " 70%|██████▉   | 170/244 [23:46<18:12, 14.76s/it]"
     ]
    },
    {
     "name": "stdout",
     "output_type": "stream",
     "text": [
      "Task 2: Evaluation using 10 episodes: mean reward 0.00000, std 0.00000 \n",
      "\n"
     ]
    },
    {
     "name": "stderr",
     "output_type": "stream",
     "text": [
      " 73%|███████▎  | 179/244 [24:33<05:54,  5.45s/it]"
     ]
    },
    {
     "name": "stdout",
     "output_type": "stream",
     "text": [
      "Updates 179, num timesteps 368640, FPS 249 \n",
      " Last 10 training episodes: mean/median reward 0.0/0.0, min/max reward 0.0/0.0, std 0.0\n",
      "\n",
      "Task 0: Evaluation using 10 episodes: mean reward 0.94850, std 0.00527 \n",
      "\n",
      "Task 1: Evaluation using 10 episodes: mean reward 0.95000, std 0.01452 \n",
      "\n"
     ]
    },
    {
     "name": "stderr",
     "output_type": "stream",
     "text": [
      " 74%|███████▍  | 180/244 [25:10<15:49, 14.84s/it]"
     ]
    },
    {
     "name": "stdout",
     "output_type": "stream",
     "text": [
      "Task 2: Evaluation using 10 episodes: mean reward 0.00000, std 0.00000 \n",
      "\n"
     ]
    },
    {
     "name": "stderr",
     "output_type": "stream",
     "text": [
      " 77%|███████▋  | 189/244 [25:56<05:02,  5.49s/it]"
     ]
    },
    {
     "name": "stdout",
     "output_type": "stream",
     "text": [
      "Updates 189, num timesteps 389120, FPS 249 \n",
      " Last 10 training episodes: mean/median reward 0.0/0.0, min/max reward 0.0/0.0, std 0.0\n",
      "\n",
      "Task 0: Evaluation using 10 episodes: mean reward 0.94850, std 0.00527 \n",
      "\n",
      "Task 1: Evaluation using 10 episodes: mean reward 0.95063, std 0.01324 \n",
      "\n"
     ]
    },
    {
     "name": "stderr",
     "output_type": "stream",
     "text": [
      " 78%|███████▊  | 190/244 [26:33<13:20, 14.83s/it]"
     ]
    },
    {
     "name": "stdout",
     "output_type": "stream",
     "text": [
      "Task 2: Evaluation using 10 episodes: mean reward 0.00000, std 0.00000 \n",
      "\n"
     ]
    },
    {
     "name": "stderr",
     "output_type": "stream",
     "text": [
      " 82%|████████▏ | 199/244 [27:20<04:06,  5.48s/it]"
     ]
    },
    {
     "name": "stdout",
     "output_type": "stream",
     "text": [
      "Updates 199, num timesteps 409600, FPS 248 \n",
      " Last 10 training episodes: mean/median reward 0.0/0.0, min/max reward 0.0/0.0, std 0.0\n",
      "\n",
      "Task 0: Evaluation using 10 episodes: mean reward 0.94850, std 0.00527 \n",
      "\n",
      "Task 1: Evaluation using 10 episodes: mean reward 0.95000, std 0.01452 \n",
      "\n"
     ]
    },
    {
     "name": "stderr",
     "output_type": "stream",
     "text": [
      " 82%|████████▏ | 200/244 [27:56<10:51, 14.81s/it]"
     ]
    },
    {
     "name": "stdout",
     "output_type": "stream",
     "text": [
      "Task 2: Evaluation using 10 episodes: mean reward 0.00000, std 0.00000 \n",
      "\n"
     ]
    },
    {
     "name": "stderr",
     "output_type": "stream",
     "text": [
      " 86%|████████▌ | 209/244 [28:43<03:12,  5.51s/it]"
     ]
    },
    {
     "name": "stdout",
     "output_type": "stream",
     "text": [
      "Updates 209, num timesteps 430080, FPS 248 \n",
      " Last 10 training episodes: mean/median reward 0.0/0.0, min/max reward 0.0/0.0, std 0.0\n",
      "\n",
      "Task 0: Evaluation using 10 episodes: mean reward 0.94850, std 0.00527 \n",
      "\n",
      "Task 1: Evaluation using 10 episodes: mean reward 0.95000, std 0.01452 \n",
      "\n"
     ]
    },
    {
     "name": "stderr",
     "output_type": "stream",
     "text": [
      " 86%|████████▌ | 210/244 [29:20<08:25, 14.88s/it]"
     ]
    },
    {
     "name": "stdout",
     "output_type": "stream",
     "text": [
      "Task 2: Evaluation using 10 episodes: mean reward 0.00000, std 0.00000 \n",
      "\n"
     ]
    },
    {
     "name": "stderr",
     "output_type": "stream",
     "text": [
      " 90%|████████▉ | 219/244 [30:07<02:19,  5.59s/it]"
     ]
    },
    {
     "name": "stdout",
     "output_type": "stream",
     "text": [
      "Updates 219, num timesteps 450560, FPS 248 \n",
      " Last 10 training episodes: mean/median reward 0.0/0.0, min/max reward 0.0/0.5, std 0.1\n",
      "\n",
      "Task 0: Evaluation using 10 episodes: mean reward 0.94850, std 0.00527 \n",
      "\n",
      "Task 1: Evaluation using 10 episodes: mean reward 0.95063, std 0.01324 \n",
      "\n"
     ]
    },
    {
     "name": "stderr",
     "output_type": "stream",
     "text": [
      " 90%|█████████ | 220/244 [30:44<05:57, 14.89s/it]"
     ]
    },
    {
     "name": "stdout",
     "output_type": "stream",
     "text": [
      "Task 2: Evaluation using 10 episodes: mean reward 0.00000, std 0.00000 \n",
      "\n"
     ]
    },
    {
     "name": "stderr",
     "output_type": "stream",
     "text": [
      " 94%|█████████▍| 229/244 [31:32<01:24,  5.66s/it]"
     ]
    },
    {
     "name": "stdout",
     "output_type": "stream",
     "text": [
      "Updates 229, num timesteps 471040, FPS 248 \n",
      " Last 10 training episodes: mean/median reward 0.0/0.0, min/max reward 0.0/0.0, std 0.0\n",
      "\n",
      "Task 0: Evaluation using 10 episodes: mean reward 0.94850, std 0.00527 \n",
      "\n",
      "Task 1: Evaluation using 10 episodes: mean reward 0.95063, std 0.01324 \n",
      "\n"
     ]
    },
    {
     "name": "stderr",
     "output_type": "stream",
     "text": [
      " 94%|█████████▍| 230/244 [32:10<03:35, 15.37s/it]"
     ]
    },
    {
     "name": "stdout",
     "output_type": "stream",
     "text": [
      "Task 2: Evaluation using 10 episodes: mean reward 0.00000, std 0.00000 \n",
      "\n"
     ]
    },
    {
     "name": "stderr",
     "output_type": "stream",
     "text": [
      " 98%|█████████▊| 239/244 [32:57<00:27,  5.52s/it]"
     ]
    },
    {
     "name": "stdout",
     "output_type": "stream",
     "text": [
      "Updates 239, num timesteps 491520, FPS 247 \n",
      " Last 10 training episodes: mean/median reward 0.0/0.0, min/max reward 0.0/0.0, std 0.0\n",
      "\n",
      "Task 0: Evaluation using 10 episodes: mean reward 0.94850, std 0.00527 \n",
      "\n",
      "Task 1: Evaluation using 10 episodes: mean reward 0.95063, std 0.01324 \n",
      "\n"
     ]
    },
    {
     "name": "stderr",
     "output_type": "stream",
     "text": [
      " 98%|█████████▊| 240/244 [33:33<00:59, 14.82s/it]"
     ]
    },
    {
     "name": "stdout",
     "output_type": "stream",
     "text": [
      "Task 2: Evaluation using 10 episodes: mean reward 0.00000, std 0.00000 \n",
      "\n"
     ]
    },
    {
     "name": "stderr",
     "output_type": "stream",
     "text": [
      "100%|██████████| 244/244 [33:55<00:00,  8.34s/it]\n"
     ]
    }
   ],
   "source": [
    "print('Device: ', device)\n",
    "print('Approach: ', args.approach)\n",
    "print('Date: ', args.date)\n",
    "print('Experiment: ', log_name)\n",
    "print('Length task sequence: ', len(tasks_sequence))\n",
    "print('Tasks: ', tasks_sequence, '\\n')\n",
    "\n",
    "tr_reward_arr = []\n",
    "te_reward_arr = {}\n",
    "\n",
    "for _type in (['mean', 'max', 'min', 'std']):\n",
    "    te_reward_arr[_type] = {}\n",
    "    for idx in range(len(taskcla)):\n",
    "        te_reward_arr[_type]['task' + str(idx)] = []\n",
    "\n",
    "# Define Tensorboard loggers\n",
    "\n",
    "tb_logger_train = {\n",
    "    'header':[\"update\", \"num_timesteps\", \"FPS\", \"mean_reward\", \"median_reward\", \"min_reward\", \"max_reward\", \"std\", \"entropy\", \"value_loss\", \"action_loss\"],\n",
    "    'writer':SummaryWriter(os.path.join(\"./result_data/\", log_name, \"train\"))\n",
    "}\n",
    "\n",
    "tb_logger_eval = {\n",
    "    'header':[\"update\", \"num_timesteps\", \"mean_reward\", \"min_reward\", \"max_reward\", \"std\"],\n",
    "    'writer':[]\n",
    "}\n",
    "\n",
    "for idx in range(len(taskcla)):\n",
    "    tb_logger_eval['writer'].append(SummaryWriter(os.path.join(\"./result_data/\", log_name, \"eval\", \"task_\"+str(idx))))\n",
    "\n",
    "# Start training \n",
    "\n",
    "prev_total_num_steps = 0 \n",
    "\n",
    "for task_idx,env_name in tasks_sequence:\n",
    "    print('Training task '+str(task_idx)+': '+env_name)\n",
    "    # renew optimizer\n",
    "    agent.renew_optimizer()\n",
    "\n",
    "    # FlatObsWrapper for MiniGrid\n",
    "    envs = make_vec_envs(env_name, args.seed, args.num_processes, args.gamma, args.log_dir, device, False, wrapper_class=wrapper_class)\n",
    "    obs = envs.reset()\n",
    "\n",
    "    rollouts = RolloutStorage(args.num_steps, args.num_processes,\n",
    "                                    obs_shape, envs.action_space,\n",
    "                                    actor_critic.recurrent_hidden_state_size)\n",
    "\n",
    "    rollouts.obs[0].copy_(obs)\n",
    "    rollouts.to(device)\n",
    "\n",
    "    episode_rewards = deque(maxlen=10)\n",
    "    num_updates = int(args.num_env_steps) // args.num_steps // args.num_processes\n",
    "\n",
    "    current_total_num_steps = train_ppo(actor_critic, agent, rollouts, task_idx, env_name, tasks_sequence, envs,  obs_shape, args, episode_rewards, tr_reward_arr, te_reward_arr, tb_logger_train, tb_logger_eval, num_updates, log_name, device, prev_total_num_steps, wrapper_class=wrapper_class)\n",
    "\n",
    "    prev_total_num_steps = current_total_num_steps\n",
    "\n",
    "    # post-processing\n",
    "    if args.approach == 'fine-tuning':\n",
    "        if args.single_task == True:\n",
    "            envs.close()\n",
    "            break\n",
    "        else:\n",
    "            envs.close()\n",
    "    elif args.approach == 'ft-fix':\n",
    "        # fix the backbone\n",
    "        for param in actor_critic.features.parameters():\n",
    "            param.requires_grad = False\n",
    "        if args.single_task == True:\n",
    "            envs.close()\n",
    "            break\n",
    "        else:\n",
    "            envs.close()\n",
    "    elif args.approach == 'ewc':\n",
    "        agent.update_fisher(rollouts, task_idx)\n",
    "        envs.close()\n",
    "    elif args.approach == 'blip':\n",
    "        agent.ng_post_processing(rollouts, task_idx)\n",
    "        # save the model here so that bit allocation is saved\n",
    "        save_path = os.path.join(args.save_dir, args.algo)\n",
    "        torch.save(actor_critic.state_dict(),\n",
    "            os.path.join(save_path, log_name + '_task_' + str(task_idx) + \".pth\"))\n",
    "        envs.close()"
   ]
  },
  {
   "attachments": {},
   "cell_type": "markdown",
   "metadata": {},
   "source": [
    "Save full model (with last task training)"
   ]
  },
  {
   "cell_type": "code",
   "execution_count": 9,
   "metadata": {},
   "outputs": [],
   "source": [
    "torch.save(actor_critic,\n",
    "            os.path.join(save_path, log_name + '_fullmodel_task_' + str(task_idx) + \".pth\"))"
   ]
  },
  {
   "attachments": {},
   "cell_type": "markdown",
   "metadata": {},
   "source": [
    "Test load full model"
   ]
  },
  {
   "cell_type": "code",
   "execution_count": null,
   "metadata": {},
   "outputs": [],
   "source": [
    "actor_critic_test = torch.load(os.path.join(save_path, log_name + '_fullmodel_task_' + str(task_idx) + \".pth\"))"
   ]
  },
  {
   "attachments": {},
   "cell_type": "markdown",
   "metadata": {},
   "source": [
    "Evaluate"
   ]
  },
  {
   "cell_type": "code",
   "execution_count": 22,
   "metadata": {},
   "outputs": [
    {
     "name": "stdout",
     "output_type": "stream",
     "text": [
      "[(0, 'MiniGrid-DoorKey-6x6-v0'), (1, 'MiniGrid-WallGapS6-v0'), (2, 'MiniGrid-LavaGapS6-v0')]\n",
      "Evaluating tasks:\n",
      "Task 0: Evaluation using 100 episodes: mean reward 0.10870, std 0.30053 \n",
      "\n",
      "Task 1: Evaluation using 100 episodes: mean reward 0.41300, std 0.45655 \n",
      "\n",
      "Task 2: Evaluation using 100 episodes: mean reward 0.00000, std 0.00000 \n",
      "\n"
     ]
    }
   ],
   "source": [
    "from rl_module.evaluation import evaluate\n",
    "args.seed = 1\n",
    "print(tasks_sequence)\n",
    "task_idx = tasks_sequence[-1][0]\n",
    "ob_rms = None\n",
    "\n",
    "print('Evaluating tasks:')\n",
    "tot_eval_episode_mean_rewards = []\n",
    "\n",
    "eval_episode_mean_rewards = evaluate(actor_critic, ob_rms, tasks_sequence, args.seed,\n",
    "                            args.num_processes, args.log_dir, device, obs_shape, task_idx, args.gamma, wrapper_class=wrapper_class, episodes=100)\n",
    "tot_eval_episode_mean_rewards.append(eval_episode_mean_rewards)                          "
   ]
  },
  {
   "cell_type": "code",
   "execution_count": 8,
   "metadata": {},
   "outputs": [
    {
     "name": "stdout",
     "output_type": "stream",
     "text": [
      "[(0, 'MiniGrid-DoorKey-6x6-v0'), (1, 'MiniGrid-WallGapS6-v0'), (2, 'MiniGrid-LavaGapS6-v0')]\n",
      "Evaluating tasks:\n",
      "Task 0: Evaluation using 100 episodes: mean reward 0.54983, std 0.46367 \n",
      "\n",
      "Task 1: Evaluation using 100 episodes: mean reward 0.90500, std 0.13578 \n",
      "\n",
      "Task 2: Evaluation using 100 episodes: mean reward 0.00000, std 0.00000 \n",
      "\n",
      "Task 0: Evaluation using 100 episodes: mean reward 0.39288, std 0.45843 \n",
      "\n",
      "Task 1: Evaluation using 100 episodes: mean reward 0.94019, std 0.02658 \n",
      "\n",
      "Task 2: Evaluation using 100 episodes: mean reward 0.00000, std 0.00000 \n",
      "\n",
      "Task 0: Evaluation using 100 episodes: mean reward 0.96495, std 0.01054 \n",
      "\n",
      "Task 1: Evaluation using 100 episodes: mean reward 0.93269, std 0.02853 \n",
      "\n",
      "Task 2: Evaluation using 100 episodes: mean reward 0.00000, std 0.00000 \n",
      "\n",
      "Task  0 : median reward (3 eval)  0.549825\n",
      "Task  1 : median reward (3 eval)  0.9326875\n",
      "Task  2 : median reward (3 eval)  0.0\n"
     ]
    }
   ],
   "source": [
    "from rl_module.evaluation import evaluate\n",
    "\n",
    "print(tasks_sequence)\n",
    "task_idx = tasks_sequence[-1][0]\n",
    "ob_rms = None\n",
    "seed_list = [100,200,300]\n",
    "\n",
    "print('Evaluating tasks:')\n",
    "tot_eval_episode_mean_rewards = []\n",
    "for i in range(3):\n",
    "    eval_episode_mean_rewards = evaluate(actor_critic, ob_rms, tasks_sequence, seed_list[i],\n",
    "                                args.num_processes, args.log_dir, device, obs_shape, task_idx, args.gamma, wrapper_class=wrapper_class, episodes=100)\n",
    "    tot_eval_episode_mean_rewards.append(eval_episode_mean_rewards)\n",
    "\n",
    "# Calculating the median of the means by column\n",
    "median_of_means = np.median(np.array([d['mean'] for d in tot_eval_episode_mean_rewards]), axis=0)\n",
    "\n",
    "# print('Final evaluation')\n",
    "for i, value in enumerate(median_of_means):\n",
    "    print('Task ',i,': median reward (3 eval) ', value)                               "
   ]
  },
  {
   "cell_type": "code",
   "execution_count": 12,
   "metadata": {},
   "outputs": [
    {
     "data": {
      "text/plain": [
       "[{'mean': [0.54955, 0.9245625, 0.5450625],\n",
       "  'min': [0.0, 0.73125, 0.0],\n",
       "  'max': [0.98, 0.9875, 0.95625],\n",
       "  'std': [0.4636316398823531, 0.0561266355552335, 0.45612009708929735]},\n",
       " {'mean': [0.39189999999999997, 0.9400624999999999, 0.6485],\n",
       "  'min': [0.0, 0.83125, 0.0],\n",
       "  'max': [0.9725, 0.975, 0.95625],\n",
       "  'std': [0.45809007302057964, 0.02608721849392917, 0.42740872563624616]},\n",
       " {'mean': [0.9649499999999999, 0.9290624999999999, 0.6131249999999999],\n",
       "  'min': [0.9225, 0.6625, 0.0],\n",
       "  'max': [0.9775, 0.98125, 0.95625],\n",
       "  'std': [0.010535535107435226, 0.040806086785551976, 0.4418891440452005]}]"
      ]
     },
     "execution_count": 12,
     "metadata": {},
     "output_type": "execute_result"
    }
   ],
   "source": [
    "tot_eval_episode_mean_rewards"
   ]
  },
  {
   "attachments": {},
   "cell_type": "markdown",
   "metadata": {},
   "source": [
    "Save full model (with last task training)"
   ]
  },
  {
   "cell_type": "code",
   "execution_count": null,
   "metadata": {},
   "outputs": [],
   "source": [
    "torch.save(actor_critic,\n",
    "            os.path.join(save_path, log_name + '_fullmodel_task_' + str(task_idx) + \".pth\"))"
   ]
  },
  {
   "attachments": {},
   "cell_type": "markdown",
   "metadata": {},
   "source": [
    "Test load full model"
   ]
  },
  {
   "cell_type": "code",
   "execution_count": 10,
   "metadata": {},
   "outputs": [],
   "source": [
    "actor_critic_test = torch.load(os.path.join(save_path, log_name + '_fullmodel_task_' + str(task_idx) + \".pth\"))"
   ]
  },
  {
   "attachments": {},
   "cell_type": "markdown",
   "metadata": {},
   "source": [
    "Test evaluate full loaded model"
   ]
  },
  {
   "cell_type": "code",
   "execution_count": 11,
   "metadata": {},
   "outputs": [
    {
     "name": "stdout",
     "output_type": "stream",
     "text": [
      "[(0, 'MiniGrid-DoorKey-6x6-v0'), (1, 'MiniGrid-WallGapS6-v0'), (2, 'MiniGrid-LavaGapS6-v0')]\n",
      "Evaluating tasks:\n",
      "Task 0: Evaluation using 100 episodes: mean reward 0.96388 \n",
      "\n",
      "Task 1: Evaluation using 100 episodes: mean reward 0.92431 \n",
      "\n",
      "Task 2: Evaluation using 100 episodes: mean reward 0.59362 \n",
      "\n"
     ]
    }
   ],
   "source": [
    "from rl_module.evaluation import evaluate\n",
    "args.seed = 1\n",
    "print(tasks_sequence)\n",
    "task_idx = tasks_sequence[-1][0]\n",
    "ob_rms = None\n",
    "\n",
    "print('Evaluating tasks:')\n",
    "tot_eval_episode_mean_rewards = []\n",
    "\n",
    "eval_episode_mean_rewards = evaluate(actor_critic_test, ob_rms, task_sequences, args.seed,\n",
    "                            args.num_processes, args.log_dir, device, obs_shape, task_idx, args.gamma, wrapper_class=wrapper_class, episodes=100)\n",
    "tot_eval_episode_mean_rewards.append(eval_episode_mean_rewards)                          "
   ]
  },
  {
   "attachments": {},
   "cell_type": "markdown",
   "metadata": {},
   "source": [
    "# Test MiniGrid PPO + BLIP (diff. F-prior)"
   ]
  },
  {
   "attachments": {},
   "cell_type": "markdown",
   "metadata": {},
   "source": [
    "Load arguments"
   ]
  },
  {
   "cell_type": "code",
   "execution_count": null,
   "metadata": {},
   "outputs": [],
   "source": [
    "args = {\n",
    "'algo':'ppo',\n",
    "'experiment':'minigrid-blip-5e5-doorkey-wallgap-lavagap',\n",
    "'approach':'blip', #'fine-tuning','blip','ewc'\n",
    "'wrapper':'flat',#'img'\n",
    "'optimizer':'Adam',#'RMSProp',#'Adam',\n",
    "'gail':False,\n",
    "'gail_experts_dir':'./gail_experts',\n",
    "'gail_batch_size':128,\n",
    "'gail_epoch':5,\n",
    "'lr':2.5e-4,#7e-4,#1e-4,\n",
    "'eps':1e-8,#1e-5,\n",
    "'gamma':0.99,\n",
    "'use_gae':True,\n",
    "'gae_lambda':0.95,#0.99,\n",
    "'entropy_coef':0.01,\n",
    "'value_loss_coef':0.5,\n",
    "'max_grad_norm':0.5,\n",
    "'seed':1,\n",
    "'cuda_deterministic':False,\n",
    "'num_processes':16,\n",
    "'num_steps':128,#5,\n",
    "'ppo_epoch':4,\n",
    "'num_mini_batch':256,#8,#32,\n",
    "'clip_param':0.2,#0.1,\n",
    "'log_interval':10,\n",
    "'save_interval':10,\n",
    "'eval_interval':100,\n",
    "'num_env_steps':5e5,\n",
    "'env_name':'PongNoFrameskip-v4',\n",
    "'log_dir':'./logs/',\n",
    "'save_dir':'./trained_models/',\n",
    "'no_cuda':True,\n",
    "'use_proper_time_limits':False,\n",
    "'recurrent_policy':False,\n",
    "'use_linear_lr_decay':False,\n",
    "'ewc_lambda':5000.0,\n",
    "'ewc_online':False,\n",
    "'ewc_epochs':100,\n",
    "'num_ewc_steps':20,\n",
    "'save_name':None,\n",
    "'date':date.today(),\n",
    "'task_id':None,\n",
    "'single_task':False,\n",
    "'F_prior':1e-15,#5e-18,#1e-15,\n",
    "'input_padding':False,\n",
    "'sample':False,\n",
    "'samples':1,\n",
    "'num_eval_episodes':10,\n",
    "# render arguments\n",
    "'render_ckpt_path':'',\n",
    "'render_task_idx':0,\n",
    "'num_render_traj':1000\n",
    "}\n",
    "\n",
    "args = DictList(args)\n",
    "\n",
    "args.cuda = not args.no_cuda and torch.cuda.is_available()\n",
    "\n",
    "assert args.algo in ['a2c', 'ppo', 'acktr']\n",
    "if args.recurrent_policy:\n",
    "    assert args.algo in ['a2c', 'ppo'], \\\n",
    "        'Recurrent policy is not implemented for ACKTR'\n",
    "conv_experiment = [\n",
    "    'atari',\n",
    "]\n",
    "\n",
    "print(args)"
   ]
  },
  {
   "attachments": {},
   "cell_type": "markdown",
   "metadata": {},
   "source": [
    "Load tasks and model"
   ]
  },
  {
   "cell_type": "code",
   "execution_count": null,
   "metadata": {},
   "outputs": [],
   "source": [
    "# Split\n",
    "\n",
    "if args.approach == 'fine-tuning' or args.approach == 'ft-fix':\n",
    "    log_name = '{}_{}_{}_{}'.format(args.date, args.experiment, args.approach,args.seed)\n",
    "elif args.approach == 'ewc' in args.approach:\n",
    "    log_name = '{}_{}_{}_{}_lamb_{}'.format(args.date, args.experiment, args.approach, args.seed, args.ewc_lambda)\n",
    "elif args.approach == 'blip':\n",
    "    log_name = '{}_{}_{}_{}_F_prior_{}'.format(args.date, args.experiment, args.approach, args.seed, args.F_prior)\n",
    "\n",
    "if args.experiment in conv_experiment:\n",
    "    log_name = log_name + '_conv'\n",
    "\n",
    "# Seed\n",
    "set_random_seed(args.seed)\n",
    "\n",
    "# Inits\n",
    "if args.cuda:\n",
    "    torch.set_default_tensor_type('torch.cuda.FloatTensor')\n",
    "else:\n",
    "    torch.set_default_tensor_type('torch.FloatTensor')\n",
    "\n",
    "device = torch.device(\"cuda\" if args.cuda else \"cpu\")\n",
    "\n",
    "#taskcla = [(0,14), (1,18), (2,18), (3,18), (4,18), (5,6)]\n",
    "#task_sequences = [(0, 'KungFuMasterNoFrameskip-v4'), (1, 'BoxingNoFrameskip-v4'), (2, 'JamesbondNoFrameskip-v4'), (3, 'KrullNoFrameskip-v4'), (4, 'RiverraidNoFrameskip-v4'), (5, 'SpaceInvadersNoFrameskip-v4')]\n",
    "\n",
    "taskcla = [(0,7), (1,7), (2,7)]\n",
    "tasks_sequence = [\n",
    "    (0, 'MiniGrid-DoorKey-6x6-v0'), \n",
    "    (1, 'MiniGrid-WallGapS6-v0'), \n",
    "    (2, 'MiniGrid-LavaGapS6-v0')\n",
    "    ]\n",
    "\n",
    "# hard coded for atari environment\n",
    "#obs_shape = (4,84,84)\n",
    "\n",
    "# for FlatObsWrapper Minigrid environment\n",
    "if args.wrapper == 'flat':\n",
    "    wrapper_class = FlatObsWrapper\n",
    "    obs_shape = (2739,)\n",
    "# for ImgRGBImgPartialObsWrapper Minigrid environment\n",
    "elif args.wrapper == 'img':\n",
    "    wrapper_class = ImgRGBImgPartialObsWrapper\n",
    "    obs_shape = (12, 56, 56)\n",
    "\n",
    "if args.approach == 'blip':\n",
    "    from rl_module.ppo_model import QPolicy\n",
    "    print('using fisher prior of: ', args.F_prior)\n",
    "    actor_critic = QPolicy(obs_shape,\n",
    "        taskcla,\n",
    "        base_kwargs={'F_prior': args.F_prior, 'recurrent': args.recurrent_policy}).to(device)\n",
    "else:\n",
    "    from rl_module.ppo_model import Policy\n",
    "    actor_critic = Policy(obs_shape,\n",
    "        taskcla,\n",
    "        base_kwargs={'recurrent': args.recurrent_policy}).to(device)\n",
    "\n",
    "# Args -- Approach\n",
    "if args.approach == 'fine-tuning' or args.approach == 'ft-fix':\n",
    "    from rl_module.ppo import PPO as approach\n",
    "\n",
    "    agent = approach(actor_critic,\n",
    "            args.clip_param,\n",
    "            args.ppo_epoch,\n",
    "            args.num_mini_batch,\n",
    "            args.value_loss_coef,\n",
    "            args.entropy_coef,\n",
    "            lr=args.lr,\n",
    "            eps=args.eps,\n",
    "            max_grad_norm=args.max_grad_norm,\n",
    "            use_clipped_value_loss=True,\n",
    "            optimizer=args.optimizer)\n",
    "elif args.approach == 'ewc':\n",
    "    from rl_module.ppo_ewc import PPO_EWC as approach\n",
    "\n",
    "    agent = approach(\n",
    "        actor_critic,\n",
    "        args.clip_param,\n",
    "        args.ppo_epoch,\n",
    "        args.num_mini_batch,\n",
    "        args.value_loss_coef,\n",
    "        args.entropy_coef,\n",
    "        lr=args.lr,\n",
    "        eps=args.eps,\n",
    "        max_grad_norm=args.max_grad_norm,\n",
    "        use_clipped_value_loss=True,\n",
    "        ewc_lambda= args.ewc_lambda,\n",
    "        online = args.ewc_online,\n",
    "        optimizer=args.optimizer)\n",
    "\n",
    "elif args.approach == 'blip':\n",
    "    from rl_module.ppo_blip import PPO_BLIP as approach\n",
    "\n",
    "    agent = approach(\n",
    "        actor_critic,\n",
    "        args.clip_param,\n",
    "        args.ppo_epoch,\n",
    "        args.num_mini_batch,\n",
    "        args.value_loss_coef,\n",
    "        args.entropy_coef,\n",
    "        lr=args.lr,\n",
    "        eps=args.eps,\n",
    "        max_grad_norm=args.max_grad_norm,\n",
    "        use_clipped_value_loss=True,\n",
    "        optimizer=args.optimizer)"
   ]
  },
  {
   "attachments": {},
   "cell_type": "markdown",
   "metadata": {},
   "source": [
    "Train"
   ]
  },
  {
   "cell_type": "code",
   "execution_count": null,
   "metadata": {},
   "outputs": [],
   "source": [
    "print('Device: ', device)\n",
    "print('Approach: ', args.approach)\n",
    "print('Date: ', args.date)\n",
    "print('Experiment: ', log_name)\n",
    "print('Length task sequence: ', len(tasks_sequence))\n",
    "print('Tasks: ', tasks_sequence, '\\n')\n",
    "\n",
    "tr_reward_arr = []\n",
    "te_reward_arr = {}\n",
    "\n",
    "for _type in (['mean', 'max', 'min', 'std']):\n",
    "    te_reward_arr[_type] = {}\n",
    "    for idx in range(len(taskcla)):\n",
    "        te_reward_arr[_type]['task' + str(idx)] = []\n",
    "\n",
    "# Define Tensorboard loggers\n",
    "\n",
    "tb_logger_train = {\n",
    "    'header':[\"update\", \"num_timesteps\", \"FPS\", \"mean_reward\", \"median_reward\", \"min_reward\", \"max_reward\", \"std\", \"entropy\", \"value_loss\", \"action_loss\"],\n",
    "    'writer':SummaryWriter(os.path.join(\"./result_data/\", log_name, \"train\"))\n",
    "}\n",
    "\n",
    "tb_logger_eval = {\n",
    "    'header':[\"update\", \"num_timesteps\", \"mean_reward\", \"min_reward\", \"max_reward\", \"std\"],\n",
    "    'writer':[]\n",
    "}\n",
    "\n",
    "for idx in range(len(taskcla)):\n",
    "    tb_logger_eval['writer'].append(SummaryWriter(os.path.join(\"./result_data/\", log_name, \"eval\", \"task_\"+str(idx))))\n",
    "\n",
    "# Start training \n",
    "\n",
    "prev_total_num_steps = 0 \n",
    "\n",
    "for task_idx,env_name in tasks_sequence:\n",
    "    print('Training task '+str(task_idx)+': '+env_name)\n",
    "    # renew optimizer\n",
    "    agent.renew_optimizer()\n",
    "\n",
    "    # FlatObsWrapper for MiniGrid\n",
    "    envs = make_vec_envs(env_name, args.seed, args.num_processes, args.gamma, args.log_dir, device, False, wrapper_class=wrapper_class)\n",
    "    obs = envs.reset()\n",
    "\n",
    "    rollouts = RolloutStorage(args.num_steps, args.num_processes,\n",
    "                                    obs_shape, envs.action_space,\n",
    "                                    actor_critic.recurrent_hidden_state_size)\n",
    "\n",
    "    rollouts.obs[0].copy_(obs)\n",
    "    rollouts.to(device)\n",
    "\n",
    "    episode_rewards = deque(maxlen=10)\n",
    "    num_updates = int(args.num_env_steps) // args.num_steps // args.num_processes\n",
    "\n",
    "    current_total_num_steps = train_ppo(actor_critic, agent, rollouts, task_idx, env_name, tasks_sequence, envs,  obs_shape, args, episode_rewards, tr_reward_arr, te_reward_arr, tb_logger_train, tb_logger_eval, num_updates, log_name, device, prev_total_num_steps, wrapper_class=wrapper_class)\n",
    "\n",
    "    prev_total_num_steps = current_total_num_steps\n",
    "\n",
    "    # post-processing\n",
    "    if args.approach == 'fine-tuning':\n",
    "        if args.single_task == True:\n",
    "            envs.close()\n",
    "            break\n",
    "        else:\n",
    "            envs.close()\n",
    "    elif args.approach == 'ft-fix':\n",
    "        # fix the backbone\n",
    "        for param in actor_critic.features.parameters():\n",
    "            param.requires_grad = False\n",
    "        if args.single_task == True:\n",
    "            envs.close()\n",
    "            break\n",
    "        else:\n",
    "            envs.close()\n",
    "    elif args.approach == 'ewc':\n",
    "        agent.update_fisher(rollouts, task_idx)\n",
    "        envs.close()\n",
    "    elif args.approach == 'blip':\n",
    "        agent.ng_post_processing(rollouts, task_idx)\n",
    "        # save the model here so that bit allocation is saved\n",
    "        save_path = os.path.join(args.save_dir, args.algo)\n",
    "        torch.save(actor_critic.state_dict(),\n",
    "            os.path.join(save_path, log_name + '_task_' + str(task_idx) + \".pth\"))\n",
    "        envs.close()"
   ]
  },
  {
   "attachments": {},
   "cell_type": "markdown",
   "metadata": {},
   "source": [
    "Evaluate"
   ]
  },
  {
   "cell_type": "code",
   "execution_count": null,
   "metadata": {},
   "outputs": [],
   "source": [
    "from rl_module.evaluation import evaluate\n",
    "args.seed = 1\n",
    "print(tasks_sequence)\n",
    "task_idx = tasks_sequence[-1][0]\n",
    "ob_rms = None\n",
    "\n",
    "print('Evaluating tasks:')\n",
    "tot_eval_episode_mean_rewards = []\n",
    "\n",
    "eval_episode_mean_rewards = evaluate(actor_critic, ob_rms, tasks_sequence, args.seed,\n",
    "                            args.num_processes, args.log_dir, device, obs_shape, task_idx, args.gamma, wrapper_class=wrapper_class, episodes=100)\n",
    "tot_eval_episode_mean_rewards.append(eval_episode_mean_rewards)     "
   ]
  },
  {
   "cell_type": "code",
   "execution_count": null,
   "metadata": {},
   "outputs": [],
   "source": [
    "from rl_module.evaluation import evaluate\n",
    "args.seed = 2\n",
    "print(tasks_sequence)\n",
    "task_idx = tasks_sequence[-1][0]\n",
    "ob_rms = None\n",
    "seed_list = [100,200,300]\n",
    "\n",
    "print('Evaluating tasks:')\n",
    "tot_eval_episode_mean_rewards = []\n",
    "for i in range(3):\n",
    "    eval_episode_mean_rewards = evaluate(actor_critic, ob_rms, tasks_sequence, seed_list[i],\n",
    "                                args.num_processes, args.log_dir, device, obs_shape, task_idx, args.gamma, wrapper_class=wrapper_class, episodes=100)\n",
    "    tot_eval_episode_mean_rewards.append(eval_episode_mean_rewards)\n",
    "\n",
    "tot_eval_episode_mean_rewards_median = np.median(np.array(tot_eval_episode_mean_rewards, ndmin=2), axis=0)\n",
    "\n",
    "print('Final evaluation')\n",
    "for i, value in enumerate(tot_eval_episode_mean_rewards_median):\n",
    "    print('Task ',i,': median reward (3 eval) ', value)                               "
   ]
  },
  {
   "attachments": {},
   "cell_type": "markdown",
   "metadata": {},
   "source": [
    "Re-loading a model for evaluation"
   ]
  },
  {
   "cell_type": "code",
   "execution_count": null,
   "metadata": {},
   "outputs": [],
   "source": [
    "# ./trained_models/ppo/2023-01-14_minigrid-blip-5e5-doorkey-wallgap-lavagap_blip_1_F_prior_1e-15_task_2.pth\n",
    "saved_model = os.path.join(save_path, log_name + '_task_' + str(task_idx) + \".pth\")\n",
    "actor_critic3 = QPolicy(obs_shape,\n",
    "    taskcla,\n",
    "    base_kwargs={'F_prior': args.F_prior, 'recurrent': args.recurrent_policy}).to(device)   \n",
    "actor_critic3.load_state_dict(torch.load(saved_model))\n",
    "print('Model loaded: ', saved_model)"
   ]
  },
  {
   "attachments": {},
   "cell_type": "markdown",
   "metadata": {},
   "source": [
    "Re-evaluate"
   ]
  },
  {
   "cell_type": "code",
   "execution_count": null,
   "metadata": {},
   "outputs": [],
   "source": [
    "from rl_module.evaluation import evaluate\n",
    "\n",
    "print(tasks_sequence)\n",
    "task_idx = tasks_sequence[-1][0]\n",
    "ob_rms = None\n",
    "seed_list = [100,200,300]\n",
    "\n",
    "print('Evaluating tasks:')\n",
    "tot_eval_episode_mean_rewards = []\n",
    "for i in range(3):\n",
    "    eval_episode_mean_rewards = evaluate(actor_critic, ob_rms, tasks_sequence, seed_list[i],\n",
    "                                args.num_processes, args.log_dir, device, obs_shape, task_idx, args.gamma, wrapper_class=wrapper_class, episodes=100)\n",
    "    tot_eval_episode_mean_rewards.append(eval_episode_mean_rewards)\n",
    "\n",
    "tot_eval_episode_mean_rewards_median = np.median(np.array(tot_eval_episode_mean_rewards, ndmin=2), axis=0)\n",
    "\n",
    "print('Final evaluation')\n",
    "for i, value in enumerate(tot_eval_episode_mean_rewards_median):\n",
    "    print('Task ',i,': median reward (3 eval) ', value)                               "
   ]
  },
  {
   "attachments": {},
   "cell_type": "markdown",
   "metadata": {},
   "source": [
    "# Check MiniGrid vectorized environments"
   ]
  },
  {
   "cell_type": "code",
   "execution_count": null,
   "metadata": {},
   "outputs": [],
   "source": [
    "import gym\n",
    "from gym import spaces\n",
    "from gym.wrappers import Monitor\n",
    "import gym_minigrid\n",
    "from gym_minigrid.wrappers import FlatObsWrapper, ImgObsWrapper, RGBImgPartialObsWrapper, RGBImgObsWrapper\n",
    "from gym.wrappers import Monitor"
   ]
  },
  {
   "cell_type": "code",
   "execution_count": null,
   "metadata": {},
   "outputs": [],
   "source": [
    "import matplotlib.pyplot as plt\n",
    "\n",
    "env_name = 'MiniGrid-DoorKey-6x6-v0'\n",
    "\n",
    "# Create vectorized environment with wrapper class\n",
    "vec_env = make_vec_envs(env_name, args.seed, args.num_processes, args.gamma, args.log_dir, device, False, wrapper_class=FlatObsWrapper)\n",
    "\n",
    "# Plot snapshot of vectorized environment and check randomized init\n",
    "vec_env.reset()\n",
    "before_img = vec_env.render('rgb_array')\n",
    "\n",
    "plt.figure(figsize = (6.,6.))\n",
    "plt.imshow(before_img);"
   ]
  }
 ],
 "metadata": {
  "kernelspec": {
   "display_name": "tfm-experiments",
   "language": "python",
   "name": "tfm-experiments"
  },
  "language_info": {
   "codemirror_mode": {
    "name": "ipython",
    "version": 3
   },
   "file_extension": ".py",
   "mimetype": "text/x-python",
   "name": "python",
   "nbconvert_exporter": "python",
   "pygments_lexer": "ipython3",
   "version": "3.7.9"
  },
  "orig_nbformat": 4
 },
 "nbformat": 4,
 "nbformat_minor": 2
}
