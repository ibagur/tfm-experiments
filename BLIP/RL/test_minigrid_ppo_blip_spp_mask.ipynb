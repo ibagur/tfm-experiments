{
 "cells": [
  {
   "cell_type": "markdown",
   "metadata": {},
   "source": [
    "# Test MiniGrid sequential tasks with PPO + BLIP_SPP_MASK"
   ]
  },
  {
   "cell_type": "markdown",
   "metadata": {},
   "source": [
    "## Setup"
   ]
  },
  {
   "cell_type": "markdown",
   "metadata": {},
   "source": [
    "Default Jupyter settings"
   ]
  },
  {
   "cell_type": "code",
   "execution_count": 1,
   "metadata": {
    "tags": []
   },
   "outputs": [],
   "source": [
    "import numpy as np\n",
    "import matplotlib.pyplot as plt\n",
    "from pprint import pprint\n",
    "\n",
    "%matplotlib inline\n",
    "plt.rcParams['figure.figsize'] = (10.0, 8.0) # set default size of plots\n",
    "plt.rcParams['image.interpolation'] = 'nearest'\n",
    "plt.rcParams['image.cmap'] = 'gray'\n",
    "\n",
    "# for auto-reloading external modules\n",
    "# see http://stackoverflow.com/questions/1907993/autoreload-of-modules-in-ipython\n",
    "#%load_ext autoreload\n",
    "#%autoreload 2\n",
    "%reload_ext autoreload\n",
    "%autoreload 2"
   ]
  },
  {
   "cell_type": "markdown",
   "metadata": {},
   "source": [
    "Import libraries"
   ]
  },
  {
   "cell_type": "code",
   "execution_count": 2,
   "metadata": {},
   "outputs": [
    {
     "name": "stderr",
     "output_type": "stream",
     "text": [
      "/Users/inigo/.local/share/virtualenvs/tfm-experiments-K5nk3NK1/lib/python3.7/site-packages/tqdm/auto.py:22: TqdmWarning: IProgress not found. Please update jupyter and ipywidgets. See https://ipywidgets.readthedocs.io/en/stable/user_install.html\n",
      "  from .autonotebook import tqdm as notebook_tqdm\n"
     ]
    }
   ],
   "source": [
    "import sys, os, time\n",
    "import numpy as np\n",
    "import torch.nn as nn\n",
    "import torch.nn.init as init\n",
    "import torch.nn.functional as F\n",
    "import torch.optim as optim\n",
    "from datetime import date\n",
    "\n",
    "import pickle\n",
    "import torch\n",
    "from arguments_rl import get_args\n",
    "\n",
    "from collections import deque\n",
    "from rl_module.a2c_ppo_acktr.envs import make_vec_envs\n",
    "from rl_module.a2c_ppo_acktr.storage import RolloutStorage\n",
    "from rl_module.train_ppo import train_ppo\n",
    "from stable_baselines3.common.utils import set_random_seed\n",
    "from torch_ac.utils import DictList\n",
    "from torch.utils.tensorboard import SummaryWriter\n",
    "\n",
    "# Gym MiniGrid specific\n",
    "import gym\n",
    "from gym import spaces\n",
    "from gym.wrappers import Monitor\n",
    "import gym_minigrid\n",
    "from gym_minigrid.wrappers import FlatObsWrapper, ImgObsWrapper, RGBImgPartialObsWrapper, RGBImgObsWrapper\n",
    "from gym.wrappers import Monitor"
   ]
  },
  {
   "cell_type": "markdown",
   "metadata": {},
   "source": [
    "Define functions and helpers"
   ]
  },
  {
   "cell_type": "code",
   "execution_count": 3,
   "metadata": {
    "tags": []
   },
   "outputs": [],
   "source": [
    "# define wrapper for CNN Policies\n",
    "def ImgRGBImgPartialObsWrapper(env):\n",
    "    return ImgObsWrapper(RGBImgPartialObsWrapper(env))\n",
    "\n",
    "def get_tb_dir(result_dir, log_name, stage='train',task_idx=0):\n",
    "    tb_dir = os.path.join(result_dir, log_name, stage, \"task_\"+str(task_idx))\n",
    "    return tb_dir"
   ]
  },
  {
   "cell_type": "markdown",
   "metadata": {},
   "source": [
    "Load arguments"
   ]
  },
  {
   "cell_type": "code",
   "execution_count": 4,
   "metadata": {},
   "outputs": [
    {
     "name": "stdout",
     "output_type": "stream",
     "text": [
      "{'algo': 'ppo', 'experiment': 'minigrid-doorkey-wallgap-lavagap', 'approach': 'blip_spp_mask', 'wrapper': 'flat', 'optimizer': 'Adam', 'gail': False, 'gail_experts_dir': './gail_experts', 'gail_batch_size': 128, 'gail_epoch': 5, 'lr': 0.00025, 'eps': 1e-08, 'gamma': 0.99, 'use_gae': True, 'gae_lambda': 0.95, 'entropy_coef': 0.01, 'value_loss_coef': 0.5, 'max_grad_norm': 0.5, 'seed': 1, 'cuda_deterministic': False, 'num_processes': 16, 'num_steps': 128, 'ppo_epoch': 4, 'num_mini_batch': 256, 'clip_param': 0.2, 'log_interval': 10, 'save_interval': 10, 'eval_interval': 100, 'num_env_steps': 500000.0, 'env_name': 'PongNoFrameskip-v4', 'log_dir': './logs/', 'save_dir': './trained_models/', 'no_cuda': True, 'use_proper_time_limits': False, 'recurrent_policy': False, 'use_linear_lr_decay': False, 'ewc_lambda': 5000.0, 'ewc_online': True, 'ewc_epochs': 100, 'num_ewc_steps': 20, 'save_name': None, 'date': datetime.date(2023, 10, 24), 'task_id': None, 'single_task': False, 'F_prior': 1e-16, 'input_padding': False, 'sample': False, 'samples': 1, 'num_eval_episodes': 10, 'update_bits_rounding': 'floor', 'num_tasks': 3, 'spp_lambda': 2, 'initial_prune_percent': 30, 'prune_percent_decay': 0.8, 'scheduler_flag': True, 'render_ckpt_path': '', 'render_task_idx': 0, 'num_render_traj': 1000, 'cuda': False}\n"
     ]
    }
   ],
   "source": [
    "args = {\n",
    "'algo':'ppo',\n",
    "'experiment':'minigrid-doorkey-wallgap-lavagap',\n",
    "'approach':'blip_spp_mask',#'fine-tuning',#'blip',\n",
    "'wrapper':'flat',#'img'\n",
    "'optimizer':'Adam',#'RMSProp',#'Adam',\n",
    "'gail':False,\n",
    "'gail_experts_dir':'./gail_experts',\n",
    "'gail_batch_size':128,\n",
    "'gail_epoch':5,\n",
    "'lr':2.5e-4,#7e-4,#1e-4,\n",
    "'eps':1e-8,#1e-5,\n",
    "'gamma':0.99,\n",
    "'use_gae':True,\n",
    "'gae_lambda':0.95,#0.99,\n",
    "'entropy_coef':0.01,\n",
    "'value_loss_coef':0.5,\n",
    "'max_grad_norm':0.5,\n",
    "'seed':1,\n",
    "'cuda_deterministic':False,\n",
    "'num_processes':16,#1 #TEST\n",
    "'num_steps':128,#5,\n",
    "'ppo_epoch':4,\n",
    "'num_mini_batch':256,#8,#32,#TEST\n",
    "'clip_param':0.2,#0.1,\n",
    "'log_interval':10,\n",
    "'save_interval':10,\n",
    "'eval_interval':100,\n",
    "'num_env_steps':5e5, #TEST\n",
    "'env_name':'PongNoFrameskip-v4',\n",
    "'log_dir':'./logs/',\n",
    "'save_dir':'./trained_models/',\n",
    "'no_cuda':True,\n",
    "'use_proper_time_limits':False,\n",
    "'recurrent_policy':False,\n",
    "'use_linear_lr_decay':False,\n",
    "'ewc_lambda':5000.0,\n",
    "'ewc_online':True,#False,\n",
    "'ewc_epochs':100,\n",
    "'num_ewc_steps':20,\n",
    "'save_name':None,\n",
    "'date':date.today(),\n",
    "'task_id':None,\n",
    "'single_task':False,\n",
    "'F_prior':1e-16,#5e-18,#1e-15,\n",
    "'input_padding':False,\n",
    "'sample':False,\n",
    "'samples':1,\n",
    "'num_eval_episodes':10,\n",
    "'update_bits_rounding': 'floor',\n",
    "'num_tasks':3,\n",
    "# SPP arguments\n",
    "'spp_lambda': 2,\n",
    "'initial_prune_percent': 30,\n",
    "'prune_percent_decay': 0.8,\n",
    "'scheduler_flag':True,\n",
    "# render arguments\n",
    "'render_ckpt_path':'',\n",
    "'render_task_idx':0,\n",
    "'num_render_traj':1000,\n",
    "}\n",
    "\n",
    "args = DictList(args)\n",
    "\n",
    "args.cuda = not args.no_cuda and torch.cuda.is_available()\n",
    "\n",
    "assert args.algo in ['a2c', 'ppo', 'acktr']\n",
    "if args.recurrent_policy:\n",
    "    assert args.algo in ['a2c', 'ppo'], \\\n",
    "        'Recurrent policy is not implemented for ACKTR'\n",
    "conv_experiment = [\n",
    "    'atari',\n",
    "]\n",
    "\n",
    "print(args)"
   ]
  },
  {
   "cell_type": "code",
   "execution_count": 5,
   "metadata": {},
   "outputs": [
    {
     "name": "stdout",
     "output_type": "stream",
     "text": [
      "using fisher prior of:  1e-16\n",
      "using SPP lambda of:  2\n",
      "using initial prune of:  30\n"
     ]
    }
   ],
   "source": [
    "# Split\n",
    "\n",
    "if args.approach == 'fine-tuning' or args.approach == 'ft-fix':\n",
    "    log_name = '{}_{}_{}_{}'.format(args.date, args.experiment, args.approach,args.seed)\n",
    "elif args.approach == 'ewc' in args.approach:\n",
    "    log_name = '{}_{}_{}_{}_lamb_{}'.format(args.date, args.experiment, args.approach, args.seed, args.ewc_lambda)\n",
    "elif args.approach == 'blip':\n",
    "    log_name = '{}_{}_{}_{}_F_prior_{}'.format(args.date, args.experiment, args.approach, args.seed, args.F_prior)\n",
    "elif args.approach == 'blip_ewc':\n",
    "    log_name = '{}_{}_{}_{}_F_prior_{}_lamb_{}'.format(args.date, args.experiment, args.approach, args.seed, args.F_prior, args.ewc_lambda)\n",
    "elif args.approach == 'blip_spp':\n",
    "    log_name = '{}_{}_{}_{}_{}_F_prior_{}_spp_lamb_{}'.format(args.date, args.experiment, args.approach, args.seed, args.num_env_steps, args.F_prior, args.spp_lambda)\n",
    "elif args.approach == 'blip_spp_mask':\n",
    "    log_name = '{}_{}_{}_{}_{}_F_prior_{}_spp_lamb_{}_prune_{}_scheduler_{}'.format(args.date, args.experiment, args.approach, args.seed, args.num_env_steps, args.F_prior, args.spp_lambda, args.initial_prune_percent, args.scheduler_flag)\n",
    "\n",
    "if args.experiment in conv_experiment:\n",
    "    log_name = log_name + '_conv'\n",
    "\n",
    "# Seed\n",
    "set_random_seed(args.seed)\n",
    "\n",
    "# Inits\n",
    "if args.cuda:\n",
    "    torch.set_default_tensor_type('torch.cuda.FloatTensor')\n",
    "else:\n",
    "    torch.set_default_tensor_type('torch.FloatTensor')\n",
    "\n",
    "device = torch.device(\"cuda\" if args.cuda else \"cpu\")\n",
    "\n",
    "#taskcla = [(0,14), (1,18), (2,18), (3,18), (4,18), (5,6)]\n",
    "#task_sequences = [(0, 'KungFuMasterNoFrameskip-v4'), (1, 'BoxingNoFrameskip-v4'), (2, 'JamesbondNoFrameskip-v4'), (3, 'KrullNoFrameskip-v4'), (4, 'RiverraidNoFrameskip-v4'), (5, 'SpaceInvadersNoFrameskip-v4')]\n",
    "\n",
    "\n",
    "taskcla = [(0,7), (1,7), (2,7)]\n",
    "tasks_sequence = [\n",
    "    (0, 'MiniGrid-DoorKey-6x6-v0'), \n",
    "    (1, 'MiniGrid-WallGapS6-v0'), \n",
    "    (2, 'MiniGrid-LavaGapS6-v0')\n",
    "    ]\n",
    "# hard coded for atari environment\n",
    "#obs_shape = (4,84,84)\n",
    "\n",
    "args.num_tasks = len(tasks_sequence)\n",
    "\n",
    "# for FlatObsWrapper Minigrid environment\n",
    "if args.wrapper == 'flat':\n",
    "    wrapper_class = FlatObsWrapper\n",
    "    obs_shape = (2739,)\n",
    "# for ImgRGBImgPartialObsWrapper Minigrid environment\n",
    "elif args.wrapper == 'img':\n",
    "    wrapper_class = ImgRGBImgPartialObsWrapper\n",
    "    obs_shape = (12, 56, 56)\n",
    "\n",
    "if args.approach == 'blip':\n",
    "    from rl_module.ppo_model import QPolicy\n",
    "    print('using fisher prior of: ', args.F_prior)\n",
    "    actor_critic = QPolicy(obs_shape,\n",
    "        taskcla,\n",
    "        base_kwargs={'F_prior': args.F_prior, 'recurrent': args.recurrent_policy}).to(device)\n",
    "elif args.approach == 'blip_ewc':\n",
    "    from rl_module.ppo_model import QPolicy\n",
    "    print('using fisher prior of: ', args.F_prior)\n",
    "    print('using EWC lambda of: ', args.ewc_lambda)\n",
    "    actor_critic = QPolicy(obs_shape,\n",
    "        taskcla,\n",
    "        base_kwargs={'F_prior': args.F_prior, 'recurrent': args.recurrent_policy}).to(device)    \n",
    "elif args.approach == 'blip_spp':\n",
    "    from rl_module.ppo_model import QPolicy\n",
    "    print('using fisher prior of: ', args.F_prior)\n",
    "    print('using SPP lambda of: ', args.spp_lambda)\n",
    "    actor_critic = QPolicy(obs_shape,\n",
    "        taskcla,\n",
    "        base_kwargs={'F_prior': args.F_prior, 'recurrent': args.recurrent_policy}).to(device)\n",
    "elif args.approach == 'blip_spp_mask':\n",
    "    from rl_module.ppo_model import QPolicy\n",
    "    print('using fisher prior of: ', args.F_prior)\n",
    "    print('using SPP lambda of: ', args.spp_lambda)\n",
    "    print('using initial prune of: ', args.initial_prune_percent)\n",
    "    actor_critic = QPolicy(obs_shape,\n",
    "        taskcla,\n",
    "        base_kwargs={'F_prior': args.F_prior, 'recurrent': args.recurrent_policy}).to(device)    \n",
    "else:\n",
    "    from rl_module.ppo_model import Policy\n",
    "    actor_critic = Policy(obs_shape,\n",
    "        taskcla,\n",
    "        base_kwargs={'recurrent': args.recurrent_policy}).to(device)\n",
    "\n",
    "# Args -- Approach\n",
    "if args.approach == 'fine-tuning' or args.approach == 'ft-fix':\n",
    "    from rl_module.ppo import PPO as approach\n",
    "\n",
    "    agent = approach(actor_critic,\n",
    "            args.clip_param,\n",
    "            args.ppo_epoch,\n",
    "            args.num_mini_batch,\n",
    "            args.value_loss_coef,\n",
    "            args.entropy_coef,\n",
    "            lr=args.lr,\n",
    "            eps=args.eps,\n",
    "            max_grad_norm=args.max_grad_norm,\n",
    "            use_clipped_value_loss=True,\n",
    "            optimizer=args.optimizer)\n",
    "elif args.approach == 'ewc':\n",
    "    from rl_module.ppo_ewc import PPO_EWC as approach\n",
    "\n",
    "    agent = approach(\n",
    "        actor_critic,\n",
    "        args.clip_param,\n",
    "        args.ppo_epoch,\n",
    "        args.num_mini_batch,\n",
    "        args.value_loss_coef,\n",
    "        args.entropy_coef,\n",
    "        lr=args.lr,\n",
    "        eps=args.eps,\n",
    "        max_grad_norm=args.max_grad_norm,\n",
    "        use_clipped_value_loss=True,\n",
    "        ewc_lambda= args.ewc_lambda,\n",
    "        online = args.ewc_online,\n",
    "        optimizer=args.optimizer)\n",
    "\n",
    "elif args.approach == 'blip':\n",
    "    from rl_module.ppo_blip import PPO_BLIP as approach\n",
    "\n",
    "    agent = approach(\n",
    "        actor_critic,\n",
    "        args.clip_param,\n",
    "        args.ppo_epoch,\n",
    "        args.num_mini_batch,\n",
    "        args.value_loss_coef,\n",
    "        args.entropy_coef,\n",
    "        lr=args.lr,\n",
    "        eps=args.eps,\n",
    "        max_grad_norm=args.max_grad_norm,\n",
    "        use_clipped_value_loss=True,\n",
    "        optimizer=args.optimizer)\n",
    "    \n",
    "elif args.approach == 'blip_ewc':\n",
    "    from rl_module.ppo_blip_ewc import PPO_BLIP_EWC as approach\n",
    "\n",
    "    agent = approach(\n",
    "        actor_critic,\n",
    "        args.clip_param,\n",
    "        args.ppo_epoch,\n",
    "        args.num_mini_batch,\n",
    "        args.value_loss_coef,\n",
    "        args.entropy_coef,\n",
    "        lr=args.lr,\n",
    "        eps=args.eps,\n",
    "        max_grad_norm=args.max_grad_norm,\n",
    "        use_clipped_value_loss=True,\n",
    "        ewc_lambda= args.ewc_lambda,\n",
    "        online = args.ewc_online,\n",
    "        optimizer=args.optimizer)\n",
    "    \n",
    "elif args.approach == 'blip_spp':\n",
    "    from rl_module.ppo_blip_spp import PPO_BLIP_SPP as approach\n",
    "\n",
    "    agent = approach(\n",
    "        actor_critic,\n",
    "        args.clip_param,\n",
    "        args.ppo_epoch,\n",
    "        args.num_mini_batch,\n",
    "        args.value_loss_coef,\n",
    "        args.entropy_coef,\n",
    "        lr=args.lr,\n",
    "        eps=args.eps,\n",
    "        max_grad_norm=args.max_grad_norm,\n",
    "        use_clipped_value_loss=True,\n",
    "        ewc_lambda= args.ewc_lambda,\n",
    "        online = args.ewc_online,\n",
    "        optimizer=args.optimizer, \n",
    "        spp_lambda=args.spp_lambda\n",
    "        )\n",
    "\n",
    "elif args.approach == 'blip_spp_mask':\n",
    "    from rl_module.ppo_blip_spp_mask import PPO_BLIP_SPP_MASK as approach\n",
    "\n",
    "    agent = approach(\n",
    "        actor_critic,\n",
    "        args.clip_param,\n",
    "        args.ppo_epoch,\n",
    "        args.num_mini_batch,\n",
    "        args.value_loss_coef,\n",
    "        args.entropy_coef,\n",
    "        lr=args.lr,\n",
    "        eps=args.eps,\n",
    "        max_grad_norm=args.max_grad_norm,\n",
    "        use_clipped_value_loss=True,\n",
    "        ewc_lambda= args.ewc_lambda,\n",
    "        online = args.ewc_online,\n",
    "        optimizer=args.optimizer, \n",
    "        spp_lambda=args.spp_lambda,\n",
    "        initial_prune_percent = args.initial_prune_percent,\n",
    "        prune_percent_decay = args.prune_percent_decay,\n",
    "        num_tasks = args.num_tasks,\n",
    "        scheduler_flag = args.scheduler_flag\n",
    "        )\n"
   ]
  },
  {
   "cell_type": "markdown",
   "metadata": {},
   "source": [
    "Train:"
   ]
  },
  {
   "cell_type": "code",
   "execution_count": 6,
   "metadata": {},
   "outputs": [
    {
     "name": "stdout",
     "output_type": "stream",
     "text": [
      "Device:  cpu\n",
      "Approach:  blip_spp_mask\n",
      "Date:  2023-10-24\n",
      "Experiment:  2023-10-24_minigrid-doorkey-wallgap-lavagap_blip_spp_mask_1_500000.0_F_prior_1e-16_spp_lamb_2_prune_30_scheduler_True\n",
      "Length task sequence:  3\n",
      "Tasks:  [(0, 'MiniGrid-DoorKey-6x6-v0'), (1, 'MiniGrid-WallGapS6-v0'), (2, 'MiniGrid-LavaGapS6-v0')]\n",
      "Steps/task:  500000.0 \n",
      "\n",
      "Training task 0: MiniGrid-DoorKey-6x6-v0\n",
      "Task 0: Evaluation using 10 episodes: mean reward 0.00000, std 0.00000 \n",
      "\n"
     ]
    },
    {
     "name": "stderr",
     "output_type": "stream",
     "text": [
      "  4%|████▋                                                                                                            | 10/244 [00:45<17:50,  4.57s/it]"
     ]
    },
    {
     "name": "stdout",
     "output_type": "stream",
     "text": [
      "Updates 9, num timesteps 20480, FPS 452 \n",
      " Last 10 training episodes: mean/median reward 0.1/0.0, min/max reward 0.0/0.7, std 0.2\n",
      "\n"
     ]
    },
    {
     "name": "stderr",
     "output_type": "stream",
     "text": [
      "  8%|█████████▎                                                                                                       | 20/244 [01:33<17:09,  4.60s/it]"
     ]
    },
    {
     "name": "stdout",
     "output_type": "stream",
     "text": [
      "Updates 19, num timesteps 40960, FPS 439 \n",
      " Last 10 training episodes: mean/median reward 0.5/0.6, min/max reward 0.0/0.8, std 0.3\n",
      "\n"
     ]
    },
    {
     "name": "stderr",
     "output_type": "stream",
     "text": [
      " 12%|█████████████▉                                                                                                   | 30/244 [02:17<15:53,  4.45s/it]"
     ]
    },
    {
     "name": "stdout",
     "output_type": "stream",
     "text": [
      "Updates 29, num timesteps 61440, FPS 445 \n",
      " Last 10 training episodes: mean/median reward 0.6/0.7, min/max reward 0.0/0.9, std 0.3\n",
      "\n"
     ]
    },
    {
     "name": "stderr",
     "output_type": "stream",
     "text": [
      " 16%|██████████████████▌                                                                                              | 40/244 [03:06<15:08,  4.45s/it]"
     ]
    },
    {
     "name": "stdout",
     "output_type": "stream",
     "text": [
      "Updates 39, num timesteps 81920, FPS 438 \n",
      " Last 10 training episodes: mean/median reward 0.9/0.9, min/max reward 0.9/1.0, std 0.0\n",
      "\n"
     ]
    },
    {
     "name": "stderr",
     "output_type": "stream",
     "text": [
      " 20%|███████████████████████▏                                                                                         | 50/244 [03:49<13:43,  4.24s/it]"
     ]
    },
    {
     "name": "stdout",
     "output_type": "stream",
     "text": [
      "Updates 49, num timesteps 102400, FPS 445 \n",
      " Last 10 training episodes: mean/median reward 0.9/1.0, min/max reward 0.9/1.0, std 0.0\n",
      "\n"
     ]
    },
    {
     "name": "stderr",
     "output_type": "stream",
     "text": [
      " 25%|███████████████████████████▊                                                                                     | 60/244 [04:33<13:10,  4.30s/it]"
     ]
    },
    {
     "name": "stdout",
     "output_type": "stream",
     "text": [
      "Updates 59, num timesteps 122880, FPS 449 \n",
      " Last 10 training episodes: mean/median reward 1.0/1.0, min/max reward 0.9/1.0, std 0.0\n",
      "\n"
     ]
    },
    {
     "name": "stderr",
     "output_type": "stream",
     "text": [
      " 29%|████████████████████████████████▍                                                                                | 70/244 [05:16<12:20,  4.25s/it]"
     ]
    },
    {
     "name": "stdout",
     "output_type": "stream",
     "text": [
      "Updates 69, num timesteps 143360, FPS 453 \n",
      " Last 10 training episodes: mean/median reward 1.0/1.0, min/max reward 0.9/1.0, std 0.0\n",
      "\n"
     ]
    },
    {
     "name": "stderr",
     "output_type": "stream",
     "text": [
      " 33%|█████████████████████████████████████                                                                            | 80/244 [06:00<12:15,  4.49s/it]"
     ]
    },
    {
     "name": "stdout",
     "output_type": "stream",
     "text": [
      "Updates 79, num timesteps 163840, FPS 454 \n",
      " Last 10 training episodes: mean/median reward 1.0/1.0, min/max reward 1.0/1.0, std 0.0\n",
      "\n"
     ]
    },
    {
     "name": "stderr",
     "output_type": "stream",
     "text": [
      " 37%|█████████████████████████████████████████▋                                                                       | 90/244 [06:43<11:01,  4.30s/it]"
     ]
    },
    {
     "name": "stdout",
     "output_type": "stream",
     "text": [
      "Updates 89, num timesteps 184320, FPS 456 \n",
      " Last 10 training episodes: mean/median reward 1.0/1.0, min/max reward 0.9/1.0, std 0.0\n",
      "\n"
     ]
    },
    {
     "name": "stderr",
     "output_type": "stream",
     "text": [
      " 41%|█████████████████████████████████████████████▊                                                                   | 99/244 [07:27<12:04,  5.00s/it]"
     ]
    },
    {
     "name": "stdout",
     "output_type": "stream",
     "text": [
      "Updates 99, num timesteps 204800, FPS 453 \n",
      " Last 10 training episodes: mean/median reward 1.0/1.0, min/max reward 0.9/1.0, std 0.0\n",
      "\n"
     ]
    },
    {
     "name": "stderr",
     "output_type": "stream",
     "text": [
      " 41%|█████████████████████████████████████████████▉                                                                  | 100/244 [07:41<18:41,  7.79s/it]"
     ]
    },
    {
     "name": "stdout",
     "output_type": "stream",
     "text": [
      "Task 0: Evaluation using 10 episodes: mean reward 0.96625, std 0.00451 \n",
      "\n"
     ]
    },
    {
     "name": "stderr",
     "output_type": "stream",
     "text": [
      " 45%|██████████████████████████████████████████████████▍                                                             | 110/244 [08:26<09:55,  4.45s/it]"
     ]
    },
    {
     "name": "stdout",
     "output_type": "stream",
     "text": [
      "Updates 109, num timesteps 225280, FPS 445 \n",
      " Last 10 training episodes: mean/median reward 1.0/1.0, min/max reward 0.9/1.0, std 0.0\n",
      "\n"
     ]
    },
    {
     "name": "stderr",
     "output_type": "stream",
     "text": [
      " 49%|███████████████████████████████████████████████████████                                                         | 120/244 [09:08<09:02,  4.37s/it]"
     ]
    },
    {
     "name": "stdout",
     "output_type": "stream",
     "text": [
      "Updates 119, num timesteps 245760, FPS 447 \n",
      " Last 10 training episodes: mean/median reward 1.0/1.0, min/max reward 1.0/1.0, std 0.0\n",
      "\n"
     ]
    },
    {
     "name": "stderr",
     "output_type": "stream",
     "text": [
      " 53%|███████████████████████████████████████████████████████████▋                                                    | 130/244 [09:51<08:02,  4.23s/it]"
     ]
    },
    {
     "name": "stdout",
     "output_type": "stream",
     "text": [
      "Updates 129, num timesteps 266240, FPS 450 \n",
      " Last 10 training episodes: mean/median reward 1.0/1.0, min/max reward 0.9/1.0, std 0.0\n",
      "\n"
     ]
    },
    {
     "name": "stderr",
     "output_type": "stream",
     "text": [
      " 57%|████████████████████████████████████████████████████████████████▎                                               | 140/244 [10:43<09:15,  5.34s/it]"
     ]
    },
    {
     "name": "stdout",
     "output_type": "stream",
     "text": [
      "Updates 139, num timesteps 286720, FPS 445 \n",
      " Last 10 training episodes: mean/median reward 1.0/1.0, min/max reward 1.0/1.0, std 0.0\n",
      "\n"
     ]
    },
    {
     "name": "stderr",
     "output_type": "stream",
     "text": [
      " 61%|████████████████████████████████████████████████████████████████████▊                                           | 150/244 [11:26<06:47,  4.33s/it]"
     ]
    },
    {
     "name": "stdout",
     "output_type": "stream",
     "text": [
      "Updates 149, num timesteps 307200, FPS 447 \n",
      " Last 10 training episodes: mean/median reward 1.0/1.0, min/max reward 0.9/1.0, std 0.0\n",
      "\n"
     ]
    },
    {
     "name": "stderr",
     "output_type": "stream",
     "text": [
      " 66%|█████████████████████████████████████████████████████████████████████████▍                                      | 160/244 [12:09<06:08,  4.38s/it]"
     ]
    },
    {
     "name": "stdout",
     "output_type": "stream",
     "text": [
      "Updates 159, num timesteps 327680, FPS 448 \n",
      " Last 10 training episodes: mean/median reward 1.0/1.0, min/max reward 1.0/1.0, std 0.0\n",
      "\n"
     ]
    },
    {
     "name": "stderr",
     "output_type": "stream",
     "text": [
      " 70%|██████████████████████████████████████████████████████████████████████████████                                  | 170/244 [12:53<05:30,  4.46s/it]"
     ]
    },
    {
     "name": "stdout",
     "output_type": "stream",
     "text": [
      "Updates 169, num timesteps 348160, FPS 450 \n",
      " Last 10 training episodes: mean/median reward 1.0/1.0, min/max reward 1.0/1.0, std 0.0\n",
      "\n"
     ]
    },
    {
     "name": "stderr",
     "output_type": "stream",
     "text": [
      " 74%|██████████████████████████████████████████████████████████████████████████████████▌                             | 180/244 [13:36<04:34,  4.30s/it]"
     ]
    },
    {
     "name": "stdout",
     "output_type": "stream",
     "text": [
      "Updates 179, num timesteps 368640, FPS 451 \n",
      " Last 10 training episodes: mean/median reward 1.0/1.0, min/max reward 1.0/1.0, std 0.0\n",
      "\n"
     ]
    },
    {
     "name": "stderr",
     "output_type": "stream",
     "text": [
      " 78%|███████████████████████████████████████████████████████████████████████████████████████▏                        | 190/244 [14:18<03:46,  4.20s/it]"
     ]
    },
    {
     "name": "stdout",
     "output_type": "stream",
     "text": [
      "Updates 189, num timesteps 389120, FPS 453 \n",
      " Last 10 training episodes: mean/median reward 1.0/1.0, min/max reward 0.9/1.0, std 0.0\n",
      "\n"
     ]
    },
    {
     "name": "stderr",
     "output_type": "stream",
     "text": [
      " 82%|███████████████████████████████████████████████████████████████████████████████████████████▎                    | 199/244 [14:59<03:34,  4.77s/it]"
     ]
    },
    {
     "name": "stdout",
     "output_type": "stream",
     "text": [
      "Updates 199, num timesteps 409600, FPS 452 \n",
      " Last 10 training episodes: mean/median reward 1.0/1.0, min/max reward 1.0/1.0, std 0.0\n",
      "\n"
     ]
    },
    {
     "name": "stderr",
     "output_type": "stream",
     "text": [
      " 82%|███████████████████████████████████████████████████████████████████████████████████████████▊                    | 200/244 [15:16<06:10,  8.41s/it]"
     ]
    },
    {
     "name": "stdout",
     "output_type": "stream",
     "text": [
      "Task 0: Evaluation using 10 episodes: mean reward 0.94525, std 0.00884 \n",
      "\n"
     ]
    },
    {
     "name": "stderr",
     "output_type": "stream",
     "text": [
      " 86%|████████████████████████████████████████████████████████████████████████████████████████████████▍               | 210/244 [15:58<02:26,  4.31s/it]"
     ]
    },
    {
     "name": "stdout",
     "output_type": "stream",
     "text": [
      "Updates 209, num timesteps 430080, FPS 448 \n",
      " Last 10 training episodes: mean/median reward 1.0/1.0, min/max reward 0.9/1.0, std 0.0\n",
      "\n"
     ]
    },
    {
     "name": "stderr",
     "output_type": "stream",
     "text": [
      " 90%|████████████████████████████████████████████████████████████████████████████████████████████████████▉           | 220/244 [16:40<01:41,  4.21s/it]"
     ]
    },
    {
     "name": "stdout",
     "output_type": "stream",
     "text": [
      "Updates 219, num timesteps 450560, FPS 450 \n",
      " Last 10 training episodes: mean/median reward 1.0/1.0, min/max reward 1.0/1.0, std 0.0\n",
      "\n"
     ]
    },
    {
     "name": "stderr",
     "output_type": "stream",
     "text": [
      " 94%|█████████████████████████████████████████████████████████████████████████████████████████████████████████▌      | 230/244 [17:22<00:59,  4.25s/it]"
     ]
    },
    {
     "name": "stdout",
     "output_type": "stream",
     "text": [
      "Updates 229, num timesteps 471040, FPS 452 \n",
      " Last 10 training episodes: mean/median reward 1.0/1.0, min/max reward 0.9/1.0, std 0.0\n",
      "\n"
     ]
    },
    {
     "name": "stderr",
     "output_type": "stream",
     "text": [
      " 98%|██████████████████████████████████████████████████████████████████████████████████████████████████████████████▏ | 240/244 [18:09<00:17,  4.32s/it]"
     ]
    },
    {
     "name": "stdout",
     "output_type": "stream",
     "text": [
      "Updates 239, num timesteps 491520, FPS 451 \n",
      " Last 10 training episodes: mean/median reward 1.0/1.0, min/max reward 1.0/1.0, std 0.0\n",
      "\n"
     ]
    },
    {
     "name": "stderr",
     "output_type": "stream",
     "text": [
      "100%|████████████████████████████████████████████████████████████████████████████████████████████████████████████████| 244/244 [18:25<00:00,  4.53s/it]\n"
     ]
    },
    {
     "name": "stdout",
     "output_type": "stream",
     "text": [
      "threshold: tensor(0.0010)\n",
      "threshold: tensor(0.0072)\n"
     ]
    },
    {
     "name": "stderr",
     "output_type": "stream",
     "text": [
      "/Users/inigo/.local/share/virtualenvs/tfm-experiments-K5nk3NK1/lib/python3.7/site-packages/torch/nn/modules/module.py:1117: UserWarning: Using a non-full backward hook when the forward contains multiple autograd Nodes is deprecated and will be removed in future versions. This hook will be missing some grad_input. Please use register_full_backward_hook to get the documented behavior.\n",
      "  warnings.warn(\"Using a non-full backward hook when the forward contains multiple autograd Nodes \"\n"
     ]
    },
    {
     "name": "stdout",
     "output_type": "stream",
     "text": [
      "Training task 1: MiniGrid-WallGapS6-v0\n",
      "Task 0: Evaluation using 10 episodes: mean reward 0.00000, std 0.00000 \n",
      "\n",
      "Task 1: Evaluation using 10 episodes: mean reward 0.00000, std 0.00000 \n",
      "\n"
     ]
    },
    {
     "name": "stderr",
     "output_type": "stream",
     "text": [
      "  4%|████▋                                                                                                            | 10/244 [00:43<17:00,  4.36s/it]"
     ]
    },
    {
     "name": "stdout",
     "output_type": "stream",
     "text": [
      "Updates 9, num timesteps 20480, FPS 465 \n",
      " Last 10 training episodes: mean/median reward 0.4/0.5, min/max reward 0.0/0.9, std 0.4\n",
      "\n"
     ]
    },
    {
     "name": "stderr",
     "output_type": "stream",
     "text": [
      "  8%|█████████▎                                                                                                       | 20/244 [01:33<17:32,  4.70s/it]"
     ]
    },
    {
     "name": "stdout",
     "output_type": "stream",
     "text": [
      "Updates 19, num timesteps 40960, FPS 437 \n",
      " Last 10 training episodes: mean/median reward 0.6/0.6, min/max reward 0.0/1.0, std 0.3\n",
      "\n"
     ]
    },
    {
     "name": "stderr",
     "output_type": "stream",
     "text": [
      " 12%|█████████████▉                                                                                                   | 30/244 [02:17<15:33,  4.36s/it]"
     ]
    },
    {
     "name": "stdout",
     "output_type": "stream",
     "text": [
      "Updates 29, num timesteps 61440, FPS 447 \n",
      " Last 10 training episodes: mean/median reward 0.8/0.9, min/max reward 0.0/1.0, std 0.3\n",
      "\n"
     ]
    },
    {
     "name": "stderr",
     "output_type": "stream",
     "text": [
      " 16%|██████████████████▌                                                                                              | 40/244 [03:00<14:46,  4.34s/it]"
     ]
    },
    {
     "name": "stdout",
     "output_type": "stream",
     "text": [
      "Updates 39, num timesteps 81920, FPS 453 \n",
      " Last 10 training episodes: mean/median reward 0.9/0.9, min/max reward 0.7/1.0, std 0.1\n",
      "\n"
     ]
    },
    {
     "name": "stderr",
     "output_type": "stream",
     "text": [
      " 20%|███████████████████████▏                                                                                         | 50/244 [03:49<15:12,  4.70s/it]"
     ]
    },
    {
     "name": "stdout",
     "output_type": "stream",
     "text": [
      "Updates 49, num timesteps 102400, FPS 446 \n",
      " Last 10 training episodes: mean/median reward 0.9/0.9, min/max reward 0.7/1.0, std 0.1\n",
      "\n"
     ]
    },
    {
     "name": "stderr",
     "output_type": "stream",
     "text": [
      " 25%|███████████████████████████▊                                                                                     | 60/244 [04:33<13:39,  4.45s/it]"
     ]
    },
    {
     "name": "stdout",
     "output_type": "stream",
     "text": [
      "Updates 59, num timesteps 122880, FPS 449 \n",
      " Last 10 training episodes: mean/median reward 0.9/0.9, min/max reward 0.9/1.0, std 0.0\n",
      "\n"
     ]
    },
    {
     "name": "stderr",
     "output_type": "stream",
     "text": [
      " 29%|████████████████████████████████▍                                                                                | 70/244 [05:20<12:58,  4.48s/it]"
     ]
    },
    {
     "name": "stdout",
     "output_type": "stream",
     "text": [
      "Updates 69, num timesteps 143360, FPS 446 \n",
      " Last 10 training episodes: mean/median reward 0.9/0.9, min/max reward 0.8/1.0, std 0.1\n",
      "\n"
     ]
    },
    {
     "name": "stderr",
     "output_type": "stream",
     "text": [
      " 33%|█████████████████████████████████████                                                                            | 80/244 [06:10<12:21,  4.52s/it]"
     ]
    },
    {
     "name": "stdout",
     "output_type": "stream",
     "text": [
      "Updates 79, num timesteps 163840, FPS 442 \n",
      " Last 10 training episodes: mean/median reward 0.9/0.9, min/max reward 0.8/1.0, std 0.0\n",
      "\n"
     ]
    },
    {
     "name": "stderr",
     "output_type": "stream",
     "text": [
      " 37%|█████████████████████████████████████████▋                                                                       | 90/244 [06:54<11:02,  4.30s/it]"
     ]
    },
    {
     "name": "stdout",
     "output_type": "stream",
     "text": [
      "Updates 89, num timesteps 184320, FPS 445 \n",
      " Last 10 training episodes: mean/median reward 0.9/0.9, min/max reward 0.8/1.0, std 0.0\n",
      "\n"
     ]
    },
    {
     "name": "stderr",
     "output_type": "stream",
     "text": [
      " 41%|█████████████████████████████████████████████▊                                                                   | 99/244 [07:34<11:19,  4.69s/it]"
     ]
    },
    {
     "name": "stdout",
     "output_type": "stream",
     "text": [
      "Updates 99, num timesteps 204800, FPS 443 \n",
      " Last 10 training episodes: mean/median reward 0.9/0.9, min/max reward 0.9/1.0, std 0.0\n",
      "\n",
      "Task 0: Evaluation using 10 episodes: mean reward 0.00000, std 0.00000 \n",
      "\n"
     ]
    },
    {
     "name": "stderr",
     "output_type": "stream",
     "text": [
      " 41%|█████████████████████████████████████████████▉                                                                  | 100/244 [08:02<27:55, 11.64s/it]"
     ]
    },
    {
     "name": "stdout",
     "output_type": "stream",
     "text": [
      "Task 1: Evaluation using 10 episodes: mean reward 0.94000, std 0.01403 \n",
      "\n"
     ]
    },
    {
     "name": "stderr",
     "output_type": "stream",
     "text": [
      " 45%|██████████████████████████████████████████████████▍                                                             | 110/244 [08:47<10:32,  4.72s/it]"
     ]
    },
    {
     "name": "stdout",
     "output_type": "stream",
     "text": [
      "Updates 109, num timesteps 225280, FPS 426 \n",
      " Last 10 training episodes: mean/median reward 0.9/0.9, min/max reward 0.9/1.0, std 0.0\n",
      "\n"
     ]
    },
    {
     "name": "stderr",
     "output_type": "stream",
     "text": [
      " 49%|███████████████████████████████████████████████████████                                                         | 120/244 [09:35<10:13,  4.95s/it]"
     ]
    },
    {
     "name": "stdout",
     "output_type": "stream",
     "text": [
      "Updates 119, num timesteps 245760, FPS 427 \n",
      " Last 10 training episodes: mean/median reward 0.9/0.9, min/max reward 0.9/1.0, std 0.0\n",
      "\n"
     ]
    },
    {
     "name": "stderr",
     "output_type": "stream",
     "text": [
      " 53%|███████████████████████████████████████████████████████████▋                                                    | 130/244 [10:23<08:38,  4.55s/it]"
     ]
    },
    {
     "name": "stdout",
     "output_type": "stream",
     "text": [
      "Updates 129, num timesteps 266240, FPS 426 \n",
      " Last 10 training episodes: mean/median reward 0.9/0.9, min/max reward 0.8/1.0, std 0.0\n",
      "\n"
     ]
    },
    {
     "name": "stderr",
     "output_type": "stream",
     "text": [
      " 57%|████████████████████████████████████████████████████████████████▎                                               | 140/244 [11:07<07:39,  4.42s/it]"
     ]
    },
    {
     "name": "stdout",
     "output_type": "stream",
     "text": [
      "Updates 139, num timesteps 286720, FPS 429 \n",
      " Last 10 training episodes: mean/median reward 0.9/0.9, min/max reward 0.9/1.0, std 0.0\n",
      "\n"
     ]
    },
    {
     "name": "stderr",
     "output_type": "stream",
     "text": [
      " 61%|████████████████████████████████████████████████████████████████████▊                                           | 150/244 [11:55<08:19,  5.31s/it]"
     ]
    },
    {
     "name": "stdout",
     "output_type": "stream",
     "text": [
      "Updates 149, num timesteps 307200, FPS 429 \n",
      " Last 10 training episodes: mean/median reward 0.9/0.9, min/max reward 0.9/1.0, std 0.0\n",
      "\n"
     ]
    },
    {
     "name": "stderr",
     "output_type": "stream",
     "text": [
      " 66%|█████████████████████████████████████████████████████████████████████████▍                                      | 160/244 [12:39<06:12,  4.43s/it]"
     ]
    },
    {
     "name": "stdout",
     "output_type": "stream",
     "text": [
      "Updates 159, num timesteps 327680, FPS 431 \n",
      " Last 10 training episodes: mean/median reward 0.9/0.9, min/max reward 0.8/1.0, std 0.0\n",
      "\n"
     ]
    },
    {
     "name": "stderr",
     "output_type": "stream",
     "text": [
      " 70%|██████████████████████████████████████████████████████████████████████████████                                  | 170/244 [13:23<05:20,  4.34s/it]"
     ]
    },
    {
     "name": "stdout",
     "output_type": "stream",
     "text": [
      "Updates 169, num timesteps 348160, FPS 433 \n",
      " Last 10 training episodes: mean/median reward 0.9/0.9, min/max reward 0.7/1.0, std 0.1\n",
      "\n"
     ]
    },
    {
     "name": "stderr",
     "output_type": "stream",
     "text": [
      " 74%|██████████████████████████████████████████████████████████████████████████████████▌                             | 180/244 [14:12<04:56,  4.64s/it]"
     ]
    },
    {
     "name": "stdout",
     "output_type": "stream",
     "text": [
      "Updates 179, num timesteps 368640, FPS 432 \n",
      " Last 10 training episodes: mean/median reward 0.9/0.9, min/max reward 0.8/1.0, std 0.0\n",
      "\n"
     ]
    },
    {
     "name": "stderr",
     "output_type": "stream",
     "text": [
      " 78%|███████████████████████████████████████████████████████████████████████████████████████▏                        | 190/244 [14:57<03:58,  4.42s/it]"
     ]
    },
    {
     "name": "stdout",
     "output_type": "stream",
     "text": [
      "Updates 189, num timesteps 389120, FPS 433 \n",
      " Last 10 training episodes: mean/median reward 0.9/0.9, min/max reward 0.9/1.0, std 0.0\n",
      "\n"
     ]
    },
    {
     "name": "stderr",
     "output_type": "stream",
     "text": [
      " 82%|███████████████████████████████████████████████████████████████████████████████████████████▎                    | 199/244 [15:40<03:53,  5.20s/it]"
     ]
    },
    {
     "name": "stdout",
     "output_type": "stream",
     "text": [
      "Updates 199, num timesteps 409600, FPS 433 \n",
      " Last 10 training episodes: mean/median reward 0.9/0.9, min/max reward 0.9/1.0, std 0.0\n",
      "\n",
      "Task 0: Evaluation using 10 episodes: mean reward 0.00000, std 0.00000 \n",
      "\n"
     ]
    },
    {
     "name": "stderr",
     "output_type": "stream",
     "text": [
      " 82%|███████████████████████████████████████████████████████████████████████████████████████████▊                    | 200/244 [16:05<08:14, 11.24s/it]"
     ]
    },
    {
     "name": "stdout",
     "output_type": "stream",
     "text": [
      "Task 1: Evaluation using 10 episodes: mean reward 0.94750, std 0.01346 \n",
      "\n"
     ]
    },
    {
     "name": "stderr",
     "output_type": "stream",
     "text": [
      " 86%|████████████████████████████████████████████████████████████████████████████████████████████████▍               | 210/244 [16:49<02:35,  4.56s/it]"
     ]
    },
    {
     "name": "stdout",
     "output_type": "stream",
     "text": [
      "Updates 209, num timesteps 430080, FPS 426 \n",
      " Last 10 training episodes: mean/median reward 0.9/0.9, min/max reward 0.9/1.0, std 0.0\n",
      "\n"
     ]
    },
    {
     "name": "stderr",
     "output_type": "stream",
     "text": [
      " 90%|████████████████████████████████████████████████████████████████████████████████████████████████████▉           | 220/244 [17:33<01:46,  4.42s/it]"
     ]
    },
    {
     "name": "stdout",
     "output_type": "stream",
     "text": [
      "Updates 219, num timesteps 450560, FPS 427 \n",
      " Last 10 training episodes: mean/median reward 0.9/0.9, min/max reward 0.7/1.0, std 0.1\n",
      "\n"
     ]
    },
    {
     "name": "stderr",
     "output_type": "stream",
     "text": [
      " 94%|█████████████████████████████████████████████████████████████████████████████████████████████████████████▌      | 230/244 [18:21<01:01,  4.41s/it]"
     ]
    },
    {
     "name": "stdout",
     "output_type": "stream",
     "text": [
      "Updates 229, num timesteps 471040, FPS 427 \n",
      " Last 10 training episodes: mean/median reward 0.9/0.9, min/max reward 0.9/1.0, std 0.0\n",
      "\n"
     ]
    },
    {
     "name": "stderr",
     "output_type": "stream",
     "text": [
      " 98%|██████████████████████████████████████████████████████████████████████████████████████████████████████████████▏ | 240/244 [19:05<00:18,  4.50s/it]"
     ]
    },
    {
     "name": "stdout",
     "output_type": "stream",
     "text": [
      "Updates 239, num timesteps 491520, FPS 429 \n",
      " Last 10 training episodes: mean/median reward 0.9/0.9, min/max reward 0.9/1.0, std 0.0\n",
      "\n"
     ]
    },
    {
     "name": "stderr",
     "output_type": "stream",
     "text": [
      "100%|████████████████████████████████████████████████████████████████████████████████████████████████████████████████| 244/244 [19:22<00:00,  4.77s/it]\n"
     ]
    },
    {
     "name": "stdout",
     "output_type": "stream",
     "text": [
      "Training task 2: MiniGrid-LavaGapS6-v0\n",
      "Task 0: Evaluation using 10 episodes: mean reward 0.00000, std 0.00000 \n",
      "\n",
      "Task 1: Evaluation using 10 episodes: mean reward 0.00000, std 0.00000 \n",
      "\n",
      "Task 2: Evaluation using 10 episodes: mean reward 0.00000, std 0.00000 \n",
      "\n"
     ]
    },
    {
     "name": "stderr",
     "output_type": "stream",
     "text": [
      "  4%|████▋                                                                                                            | 10/244 [00:45<17:42,  4.54s/it]"
     ]
    },
    {
     "name": "stdout",
     "output_type": "stream",
     "text": [
      "Updates 9, num timesteps 20480, FPS 445 \n",
      " Last 10 training episodes: mean/median reward 0.2/0.0, min/max reward 0.0/0.8, std 0.3\n",
      "\n"
     ]
    },
    {
     "name": "stderr",
     "output_type": "stream",
     "text": [
      "  8%|█████████▎                                                                                                       | 20/244 [01:36<20:31,  5.50s/it]"
     ]
    },
    {
     "name": "stdout",
     "output_type": "stream",
     "text": [
      "Updates 19, num timesteps 40960, FPS 426 \n",
      " Last 10 training episodes: mean/median reward 0.0/0.0, min/max reward 0.0/0.5, std 0.1\n",
      "\n"
     ]
    },
    {
     "name": "stderr",
     "output_type": "stream",
     "text": [
      " 12%|█████████████▉                                                                                                   | 30/244 [02:21<16:25,  4.61s/it]"
     ]
    },
    {
     "name": "stdout",
     "output_type": "stream",
     "text": [
      "Updates 29, num timesteps 61440, FPS 433 \n",
      " Last 10 training episodes: mean/median reward 0.0/0.0, min/max reward 0.0/0.0, std 0.0\n",
      "\n"
     ]
    },
    {
     "name": "stderr",
     "output_type": "stream",
     "text": [
      " 16%|██████████████████▌                                                                                              | 40/244 [03:06<15:20,  4.51s/it]"
     ]
    },
    {
     "name": "stdout",
     "output_type": "stream",
     "text": [
      "Updates 39, num timesteps 81920, FPS 438 \n",
      " Last 10 training episodes: mean/median reward 0.1/0.0, min/max reward 0.0/0.5, std 0.2\n",
      "\n"
     ]
    },
    {
     "name": "stderr",
     "output_type": "stream",
     "text": [
      " 20%|███████████████████████▏                                                                                         | 50/244 [03:56<15:30,  4.80s/it]"
     ]
    },
    {
     "name": "stdout",
     "output_type": "stream",
     "text": [
      "Updates 49, num timesteps 102400, FPS 432 \n",
      " Last 10 training episodes: mean/median reward 0.0/0.0, min/max reward 0.0/0.0, std 0.0\n",
      "\n"
     ]
    },
    {
     "name": "stderr",
     "output_type": "stream",
     "text": [
      " 25%|███████████████████████████▊                                                                                     | 60/244 [04:41<13:48,  4.50s/it]"
     ]
    },
    {
     "name": "stdout",
     "output_type": "stream",
     "text": [
      "Updates 59, num timesteps 122880, FPS 435 \n",
      " Last 10 training episodes: mean/median reward 0.4/0.3, min/max reward 0.0/0.9, std 0.4\n",
      "\n"
     ]
    },
    {
     "name": "stderr",
     "output_type": "stream",
     "text": [
      " 29%|████████████████████████████████▍                                                                                | 70/244 [05:27<13:11,  4.55s/it]"
     ]
    },
    {
     "name": "stdout",
     "output_type": "stream",
     "text": [
      "Updates 69, num timesteps 143360, FPS 437 \n",
      " Last 10 training episodes: mean/median reward 0.3/0.0, min/max reward 0.0/0.9, std 0.4\n",
      "\n"
     ]
    },
    {
     "name": "stderr",
     "output_type": "stream",
     "text": [
      " 33%|█████████████████████████████████████                                                                            | 80/244 [06:12<12:27,  4.56s/it]"
     ]
    },
    {
     "name": "stdout",
     "output_type": "stream",
     "text": [
      "Updates 79, num timesteps 163840, FPS 439 \n",
      " Last 10 training episodes: mean/median reward 0.5/0.6, min/max reward 0.0/0.9, std 0.4\n",
      "\n"
     ]
    },
    {
     "name": "stderr",
     "output_type": "stream",
     "text": [
      " 37%|█████████████████████████████████████████▋                                                                       | 90/244 [06:58<11:55,  4.65s/it]"
     ]
    },
    {
     "name": "stdout",
     "output_type": "stream",
     "text": [
      "Updates 89, num timesteps 184320, FPS 440 \n",
      " Last 10 training episodes: mean/median reward 0.6/0.8, min/max reward 0.0/0.9, std 0.4\n",
      "\n"
     ]
    },
    {
     "name": "stderr",
     "output_type": "stream",
     "text": [
      " 41%|█████████████████████████████████████████████▊                                                                   | 99/244 [07:46<12:43,  5.27s/it]"
     ]
    },
    {
     "name": "stdout",
     "output_type": "stream",
     "text": [
      "Updates 99, num timesteps 204800, FPS 434 \n",
      " Last 10 training episodes: mean/median reward 0.7/0.8, min/max reward 0.0/0.9, std 0.3\n",
      "\n",
      "Task 0: Evaluation using 10 episodes: mean reward 0.00000, std 0.00000 \n",
      "\n",
      "Task 1: Evaluation using 10 episodes: mean reward 0.95312, std 0.01459 \n",
      "\n"
     ]
    },
    {
     "name": "stderr",
     "output_type": "stream",
     "text": [
      " 41%|█████████████████████████████████████████████▉                                                                  | 100/244 [08:19<32:28, 13.53s/it]"
     ]
    },
    {
     "name": "stdout",
     "output_type": "stream",
     "text": [
      "Task 2: Evaluation using 10 episodes: mean reward 0.75250, std 0.37688 \n",
      "\n"
     ]
    },
    {
     "name": "stderr",
     "output_type": "stream",
     "text": [
      " 45%|██████████████████████████████████████████████████▍                                                             | 110/244 [09:05<10:47,  4.83s/it]"
     ]
    },
    {
     "name": "stdout",
     "output_type": "stream",
     "text": [
      "Updates 109, num timesteps 225280, FPS 412 \n",
      " Last 10 training episodes: mean/median reward 0.6/0.9, min/max reward 0.0/0.9, std 0.4\n",
      "\n"
     ]
    },
    {
     "name": "stderr",
     "output_type": "stream",
     "text": [
      " 49%|███████████████████████████████████████████████████████                                                         | 120/244 [09:55<10:06,  4.89s/it]"
     ]
    },
    {
     "name": "stdout",
     "output_type": "stream",
     "text": [
      "Updates 119, num timesteps 245760, FPS 412 \n",
      " Last 10 training episodes: mean/median reward 0.4/0.1, min/max reward 0.0/0.9, std 0.4\n",
      "\n"
     ]
    },
    {
     "name": "stderr",
     "output_type": "stream",
     "text": [
      " 53%|███████████████████████████████████████████████████████████▋                                                    | 130/244 [10:41<08:34,  4.51s/it]"
     ]
    },
    {
     "name": "stdout",
     "output_type": "stream",
     "text": [
      "Updates 129, num timesteps 266240, FPS 415 \n",
      " Last 10 training episodes: mean/median reward 0.6/0.8, min/max reward 0.0/0.9, std 0.4\n",
      "\n"
     ]
    },
    {
     "name": "stderr",
     "output_type": "stream",
     "text": [
      " 57%|████████████████████████████████████████████████████████████████▎                                               | 140/244 [11:26<07:53,  4.56s/it]"
     ]
    },
    {
     "name": "stdout",
     "output_type": "stream",
     "text": [
      "Updates 139, num timesteps 286720, FPS 417 \n",
      " Last 10 training episodes: mean/median reward 0.8/0.8, min/max reward 0.6/0.9, std 0.1\n",
      "\n"
     ]
    },
    {
     "name": "stderr",
     "output_type": "stream",
     "text": [
      " 61%|████████████████████████████████████████████████████████████████████▊                                           | 150/244 [12:13<07:57,  5.08s/it]"
     ]
    },
    {
     "name": "stdout",
     "output_type": "stream",
     "text": [
      "Updates 149, num timesteps 307200, FPS 418 \n",
      " Last 10 training episodes: mean/median reward 0.5/0.8, min/max reward 0.0/0.9, std 0.4\n",
      "\n"
     ]
    },
    {
     "name": "stderr",
     "output_type": "stream",
     "text": [
      " 66%|█████████████████████████████████████████████████████████████████████████▍                                      | 160/244 [13:02<06:27,  4.62s/it]"
     ]
    },
    {
     "name": "stdout",
     "output_type": "stream",
     "text": [
      "Updates 159, num timesteps 327680, FPS 418 \n",
      " Last 10 training episodes: mean/median reward 0.5/0.4, min/max reward 0.0/1.0, std 0.5\n",
      "\n"
     ]
    },
    {
     "name": "stderr",
     "output_type": "stream",
     "text": [
      " 70%|██████████████████████████████████████████████████████████████████████████████                                  | 170/244 [13:48<05:41,  4.62s/it]"
     ]
    },
    {
     "name": "stdout",
     "output_type": "stream",
     "text": [
      "Updates 169, num timesteps 348160, FPS 420 \n",
      " Last 10 training episodes: mean/median reward 0.8/0.9, min/max reward 0.0/0.9, std 0.3\n",
      "\n"
     ]
    },
    {
     "name": "stderr",
     "output_type": "stream",
     "text": [
      " 74%|██████████████████████████████████████████████████████████████████████████████████▌                             | 180/244 [14:33<04:51,  4.56s/it]"
     ]
    },
    {
     "name": "stdout",
     "output_type": "stream",
     "text": [
      "Updates 179, num timesteps 368640, FPS 421 \n",
      " Last 10 training episodes: mean/median reward 0.6/0.9, min/max reward 0.0/0.9, std 0.4\n",
      "\n"
     ]
    },
    {
     "name": "stderr",
     "output_type": "stream",
     "text": [
      " 78%|███████████████████████████████████████████████████████████████████████████████████████▏                        | 190/244 [15:19<04:04,  4.52s/it]"
     ]
    },
    {
     "name": "stdout",
     "output_type": "stream",
     "text": [
      "Updates 189, num timesteps 389120, FPS 423 \n",
      " Last 10 training episodes: mean/median reward 0.8/0.9, min/max reward 0.0/1.0, std 0.3\n",
      "\n"
     ]
    },
    {
     "name": "stderr",
     "output_type": "stream",
     "text": [
      " 82%|███████████████████████████████████████████████████████████████████████████████████████████▎                    | 199/244 [16:00<03:26,  4.59s/it]"
     ]
    },
    {
     "name": "stdout",
     "output_type": "stream",
     "text": [
      "Updates 199, num timesteps 409600, FPS 424 \n",
      " Last 10 training episodes: mean/median reward 0.7/0.9, min/max reward 0.0/0.9, std 0.4\n",
      "\n",
      "Task 0: Evaluation using 10 episodes: mean reward 0.00000, std 0.00000 \n",
      "\n",
      "Task 1: Evaluation using 10 episodes: mean reward 0.95312, std 0.01459 \n",
      "\n"
     ]
    },
    {
     "name": "stderr",
     "output_type": "stream",
     "text": [
      " 82%|███████████████████████████████████████████████████████████████████████████████████████████▊                    | 200/244 [16:35<10:00, 13.65s/it]"
     ]
    },
    {
     "name": "stdout",
     "output_type": "stream",
     "text": [
      "Task 2: Evaluation using 10 episodes: mean reward 0.84750, std 0.28265 \n",
      "\n"
     ]
    },
    {
     "name": "stderr",
     "output_type": "stream",
     "text": [
      " 86%|████████████████████████████████████████████████████████████████████████████████████████████████▍               | 210/244 [17:24<02:44,  4.84s/it]"
     ]
    },
    {
     "name": "stdout",
     "output_type": "stream",
     "text": [
      "Updates 209, num timesteps 430080, FPS 411 \n",
      " Last 10 training episodes: mean/median reward 0.7/0.9, min/max reward 0.0/1.0, std 0.4\n",
      "\n"
     ]
    },
    {
     "name": "stderr",
     "output_type": "stream",
     "text": [
      " 90%|████████████████████████████████████████████████████████████████████████████████████████████████████▉           | 220/244 [18:14<01:57,  4.89s/it]"
     ]
    },
    {
     "name": "stdout",
     "output_type": "stream",
     "text": [
      "Updates 219, num timesteps 450560, FPS 411 \n",
      " Last 10 training episodes: mean/median reward 0.9/0.9, min/max reward 0.8/1.0, std 0.0\n",
      "\n"
     ]
    },
    {
     "name": "stderr",
     "output_type": "stream",
     "text": [
      " 94%|█████████████████████████████████████████████████████████████████████████████████████████████████████████▌      | 230/244 [19:00<01:04,  4.61s/it]"
     ]
    },
    {
     "name": "stdout",
     "output_type": "stream",
     "text": [
      "Updates 229, num timesteps 471040, FPS 413 \n",
      " Last 10 training episodes: mean/median reward 0.6/0.9, min/max reward 0.0/0.9, std 0.5\n",
      "\n"
     ]
    },
    {
     "name": "stderr",
     "output_type": "stream",
     "text": [
      " 98%|██████████████████████████████████████████████████████████████████████████████████████████████████████████████▏ | 240/244 [19:45<00:18,  4.54s/it]"
     ]
    },
    {
     "name": "stdout",
     "output_type": "stream",
     "text": [
      "Updates 239, num timesteps 491520, FPS 414 \n",
      " Last 10 training episodes: mean/median reward 0.6/0.9, min/max reward 0.0/0.9, std 0.5\n",
      "\n"
     ]
    },
    {
     "name": "stderr",
     "output_type": "stream",
     "text": [
      "100%|████████████████████████████████████████████████████████████████████████████████████████████████████████████████| 244/244 [20:03<00:00,  4.93s/it]\n"
     ]
    }
   ],
   "source": [
    "print('Device: ', device)\n",
    "print('Approach: ', args.approach)\n",
    "print('Date: ', args.date)\n",
    "print('Experiment: ', log_name)\n",
    "print('Length task sequence: ', len(tasks_sequence))\n",
    "print('Tasks: ', tasks_sequence)\n",
    "print('Steps/task: ', args.num_env_steps, '\\n')\n",
    "\n",
    "tr_reward_arr = []\n",
    "te_reward_arr = {}\n",
    "\n",
    "for _type in (['mean', 'max', 'min', 'std']):\n",
    "    te_reward_arr[_type] = {}\n",
    "    for idx in range(len(taskcla)):\n",
    "        te_reward_arr[_type]['task' + str(idx)] = []\n",
    "\n",
    "# Define Tensorboard loggers\n",
    "\n",
    "tb_logger_train = {\n",
    "    'header':[\"update\", \"num_timesteps\", \"FPS\", \"mean_reward\", \"median_reward\", \"min_reward\", \"max_reward\", \"std\", \"entropy\", \"value_loss\", \"action_loss\"],\n",
    "    'writer':SummaryWriter(os.path.join(\"./result_data/\", log_name, \"train\"))\n",
    "}\n",
    "\n",
    "tb_logger_eval = {\n",
    "    'header':[\"update\", \"num_timesteps\", \"mean_reward\", \"min_reward\", \"max_reward\", \"std\"],\n",
    "    'writer':[]\n",
    "}\n",
    "\n",
    "for idx in range(len(taskcla)):\n",
    "    tb_logger_eval['writer'].append(SummaryWriter(os.path.join(\"./result_data/\", log_name, \"eval\", \"task_\"+str(idx))))\n",
    "\n",
    "# Start training \n",
    "\n",
    "prev_total_num_steps = 0\n",
    "\n",
    "for task_idx,env_name in tasks_sequence:\n",
    "    print('Training task '+str(task_idx)+': '+env_name)\n",
    "\n",
    "    # renew optimizer\n",
    "    agent.renew_optimizer_mask(task_idx)\n",
    "\n",
    "    # FlatObsWrapper for MiniGrid\n",
    "    envs = make_vec_envs(env_name, args.seed, args.num_processes, args.gamma, args.log_dir, device, False, wrapper_class=wrapper_class)\n",
    "    obs = envs.reset()\n",
    "\n",
    "    rollouts = RolloutStorage(args.num_steps, args.num_processes,\n",
    "                                    obs_shape, envs.action_space,\n",
    "                                    actor_critic.recurrent_hidden_state_size)\n",
    "\n",
    "    rollouts.obs[0].copy_(obs)\n",
    "    rollouts.to(device)\n",
    "\n",
    "    episode_rewards = deque(maxlen=10)\n",
    "    num_updates = int(args.num_env_steps) // args.num_steps // args.num_processes\n",
    "\n",
    "    current_total_num_steps = train_ppo(actor_critic, agent, rollouts, task_idx, env_name, tasks_sequence, envs,  obs_shape, args, episode_rewards, tr_reward_arr, te_reward_arr, tb_logger_train, tb_logger_eval, num_updates, log_name, device, prev_total_num_steps, wrapper_class=wrapper_class)\n",
    "\n",
    "    prev_total_num_steps = current_total_num_steps\n",
    "\n",
    "    # post-processing\n",
    "    if args.approach == 'fine-tuning':\n",
    "        if args.single_task == True:\n",
    "            envs.close()\n",
    "            break\n",
    "        else:\n",
    "            envs.close()\n",
    "    elif args.approach == 'ft-fix':\n",
    "        # fix the backbone\n",
    "        for param in actor_critic.features.parameters():\n",
    "            param.requires_grad = False\n",
    "        if args.single_task == True:\n",
    "            envs.close()\n",
    "            break\n",
    "        else:\n",
    "            envs.close()\n",
    "    elif args.approach == 'ewc':\n",
    "        agent.update_fisher(rollouts, task_idx)\n",
    "        envs.close()\n",
    "    elif args.approach == 'blip':\n",
    "        agent.ng_post_processing(rollouts, task_idx)\n",
    "        # save the model here so that bit allocation is saved\n",
    "        save_path = os.path.join(args.save_dir, args.algo)\n",
    "        torch.save(actor_critic.state_dict(),\n",
    "            os.path.join(save_path, log_name + '_task_' + str(task_idx) + \".pth\"))\n",
    "        envs.close()\n",
    "    elif args.approach == 'blip_ewc':\n",
    "        agent.ng_post_processing(rollouts, task_idx)\n",
    "        # save the model here so that bit allocation is saved\n",
    "        save_path = os.path.join(args.save_dir, args.algo)\n",
    "        torch.save(actor_critic.state_dict(),\n",
    "            os.path.join(save_path, log_name + '_task_' + str(task_idx) + \".pth\"))\n",
    "        envs.close()\n",
    "    elif args.approach == 'blip_spp':\n",
    "        agent.update_omega(rollouts, task_idx)\n",
    "        agent.ng_post_processing(rollouts, task_idx)\n",
    "        # save the model here so that bit allocation is saved\n",
    "        save_path = os.path.join(args.save_dir, args.algo)\n",
    "        torch.save(actor_critic.state_dict(),\n",
    "            os.path.join(save_path, log_name + '_task_' + str(task_idx) + \".pth\"))\n",
    "        envs.close()\n",
    "    elif args.approach == 'blip_spp_mask':\n",
    "        agent.update_prune_mask(rollouts, task_idx)\n",
    "        agent.update_omega(rollouts, task_idx)\n",
    "        # add the pruning here\n",
    "        agent.ng_post_processing(rollouts, task_idx)\n",
    "        # save the model here so that bit allocation is saved\n",
    "        save_path = os.path.join(args.save_dir, args.algo)\n",
    "        torch.save(actor_critic.state_dict(),\n",
    "            os.path.join(save_path, log_name + '_task_' + str(task_idx) + \".pth\"))\n",
    "        envs.close() "
   ]
  },
  {
   "cell_type": "markdown",
   "metadata": {},
   "source": [
    "Save full model (with last task training)"
   ]
  },
  {
   "cell_type": "code",
   "execution_count": 7,
   "metadata": {},
   "outputs": [],
   "source": [
    "torch.save(actor_critic,\n",
    "            os.path.join(save_path, log_name + '_fullmodel_task_' + str(task_idx) + \".pth\"))"
   ]
  },
  {
   "cell_type": "markdown",
   "metadata": {},
   "source": [
    "Test load full model"
   ]
  },
  {
   "cell_type": "code",
   "execution_count": null,
   "metadata": {},
   "outputs": [],
   "source": [
    "actor_critic_test = torch.load(os.path.join(save_path, log_name + '_fullmodel_task_' + str(task_idx) + \".pth\"))"
   ]
  },
  {
   "cell_type": "markdown",
   "metadata": {},
   "source": [
    "Evaluate"
   ]
  },
  {
   "cell_type": "code",
   "execution_count": 8,
   "metadata": {},
   "outputs": [
    {
     "name": "stdout",
     "output_type": "stream",
     "text": [
      "[(0, 'MiniGrid-DoorKey-6x6-v0'), (1, 'MiniGrid-WallGapS6-v0'), (2, 'MiniGrid-LavaGapS6-v0')]\n",
      "Evaluating tasks:\n",
      "Task 0: Evaluation using 100 episodes: mean reward 0.24955, std 0.41356 \n",
      "\n",
      "Task 1: Evaluation using 100 episodes: mean reward 0.91650, std 0.07222 \n",
      "\n",
      "Task 2: Evaluation using 100 episodes: mean reward 0.50950, std 0.46469 \n",
      "\n"
     ]
    }
   ],
   "source": [
    "from rl_module.evaluation import evaluate\n",
    "args.seed = 1\n",
    "print(tasks_sequence)\n",
    "task_idx = tasks_sequence[-1][0]\n",
    "ob_rms = None\n",
    "\n",
    "print('Evaluating tasks:')\n",
    "tot_eval_episode_mean_rewards = []\n",
    "\n",
    "eval_episode_mean_rewards = evaluate(actor_critic, ob_rms, tasks_sequence, args.seed,\n",
    "                            args.num_processes, args.log_dir, device, obs_shape, task_idx, args.gamma, wrapper_class=wrapper_class, episodes=100)\n",
    "tot_eval_episode_mean_rewards.append(eval_episode_mean_rewards)"
   ]
  },
  {
   "cell_type": "code",
   "execution_count": 8,
   "metadata": {},
   "outputs": [
    {
     "name": "stdout",
     "output_type": "stream",
     "text": [
      "[(0, 'MiniGrid-DoorKey-6x6-v0'), (1, 'MiniGrid-WallGapS6-v0'), (2, 'MiniGrid-LavaGapS6-v0')]\n",
      "Evaluating tasks:\n",
      "Task 0: Evaluation using 100 episodes: mean reward 0.57173, std 0.45626 \n",
      "\n",
      "Task 1: Evaluation using 100 episodes: mean reward 0.93806, std 0.03182 \n",
      "\n",
      "Task 2: Evaluation using 100 episodes: mean reward 0.00000, std 0.00000 \n",
      "\n",
      "Task 0: Evaluation using 100 episodes: mean reward 0.39217, std 0.45813 \n",
      "\n",
      "Task 1: Evaluation using 100 episodes: mean reward 0.94313, std 0.01960 \n",
      "\n",
      "Task 2: Evaluation using 100 episodes: mean reward 0.00000, std 0.00000 \n",
      "\n",
      "Task 0: Evaluation using 100 episodes: mean reward 0.96495, std 0.01054 \n",
      "\n",
      "Task 1: Evaluation using 100 episodes: mean reward 0.79344, std 0.31205 \n",
      "\n",
      "Task 2: Evaluation using 100 episodes: mean reward 0.00000, std 0.00000 \n",
      "\n",
      "Task  0 : median reward (3 eval)  0.571725\n",
      "Task  1 : median reward (3 eval)  0.9380625\n",
      "Task  2 : median reward (3 eval)  0.0\n"
     ]
    }
   ],
   "source": [
    "from rl_module.evaluation import evaluate\n",
    "\n",
    "print(tasks_sequence)\n",
    "task_idx = tasks_sequence[-1][0]\n",
    "ob_rms = None\n",
    "seed_list = [100,200,300]\n",
    "\n",
    "print('Evaluating tasks:')\n",
    "tot_eval_episode_mean_rewards = []\n",
    "for i in range(3):\n",
    "    eval_episode_mean_rewards = evaluate(actor_critic, ob_rms, tasks_sequence, seed_list[i],\n",
    "                                args.num_processes, args.log_dir, device, obs_shape, task_idx, args.gamma, wrapper_class=wrapper_class, episodes=100)\n",
    "    tot_eval_episode_mean_rewards.append(eval_episode_mean_rewards)\n",
    "\n",
    "# Calculating the median of the means by column\n",
    "median_of_means = np.median(np.array([d['mean'] for d in tot_eval_episode_mean_rewards]), axis=0)\n",
    "\n",
    "# print('Final evaluation')\n",
    "for i, value in enumerate(median_of_means):\n",
    "    print('Task ',i,': median reward (3 eval) ', value)                               "
   ]
  },
  {
   "cell_type": "markdown",
   "metadata": {},
   "source": [
    "Check MiniGrid vectorized environments"
   ]
  },
  {
   "cell_type": "code",
   "execution_count": null,
   "metadata": {},
   "outputs": [],
   "source": [
    "import gym\n",
    "from gym import spaces\n",
    "from gym.wrappers import Monitor\n",
    "import gym_minigrid\n",
    "from gym_minigrid.wrappers import FlatObsWrapper, ImgObsWrapper, RGBImgPartialObsWrapper, RGBImgObsWrapper\n",
    "from gym.wrappers import Monitor"
   ]
  },
  {
   "cell_type": "code",
   "execution_count": null,
   "metadata": {},
   "outputs": [],
   "source": [
    "import matplotlib.pyplot as plt\n",
    "\n",
    "env_name = 'MiniGrid-DoorKey-6x6-v0'\n",
    "\n",
    "# Create vectorized environment with wrapper class\n",
    "vec_env = make_vec_envs(env_name, args.seed, args.num_processes, args.gamma, args.log_dir, device, False, wrapper_class=FlatObsWrapper)\n",
    "\n",
    "# Plot snapshot of vectorized environment and check randomized init\n",
    "vec_env.reset()\n",
    "before_img = vec_env.render('rgb_array')\n",
    "\n",
    "plt.figure(figsize = (6.,6.))\n",
    "plt.imshow(before_img);"
   ]
  }
 ],
 "metadata": {
  "kernelspec": {
   "display_name": "tfm-experiments",
   "language": "python",
   "name": "tfm-experiments"
  },
  "language_info": {
   "codemirror_mode": {
    "name": "ipython",
    "version": 3
   },
   "file_extension": ".py",
   "mimetype": "text/x-python",
   "name": "python",
   "nbconvert_exporter": "python",
   "pygments_lexer": "ipython3",
   "version": "3.7.9"
  }
 },
 "nbformat": 4,
 "nbformat_minor": 4
}
