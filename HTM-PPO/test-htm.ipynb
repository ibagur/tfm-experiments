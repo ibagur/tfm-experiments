{
 "cells": [
  {
   "cell_type": "code",
   "execution_count": 1,
   "metadata": {},
   "outputs": [
    {
     "name": "stderr",
     "output_type": "stream",
     "text": [
      "/Users/inigo/.local/share/virtualenvs/tfm-experiments-K5nk3NK1/lib/python3.7/site-packages/tqdm/auto.py:22: TqdmWarning: IProgress not found. Please update jupyter and ipywidgets. See https://ipywidgets.readthedocs.io/en/stable/user_install.html\n",
      "  from .autonotebook import tqdm as notebook_tqdm\n"
     ]
    }
   ],
   "source": [
    "import torch\n",
    "from htm_pytorch import HTMAttention\n",
    "\n",
    "attn = HTMAttention(\n",
    "    dim = 512,\n",
    "    heads = 8,               # number of heads for within-memory attention\n",
    "    dim_head = 64,           # dimension per head for within-memory attention\n",
    "    topk_mems = 8,           # how many memory chunks to select for\n",
    "    mem_chunk_size = 32,     # number of tokens in each memory chunk\n",
    "    add_pos_enc = True       # whether to add positional encoding to the memories\n",
    ")\n",
    "\n",
    "queries = torch.randn(1, 128, 512)     # queries\n",
    "memories = torch.randn(1, 20000, 512)  # memories, of any size\n",
    "mask = torch.ones(1, 20000).bool()     # memory mask\n",
    "\n",
    "attended = attn(queries, memories, mask = mask) # (1, 128, 512)"
   ]
  },
  {
   "cell_type": "code",
   "execution_count": 7,
   "metadata": {},
   "outputs": [],
   "source": [
    "import torch\n",
    "from htm_pytorch import HTMBlock\n",
    "\n",
    "block = HTMBlock(\n",
    "    dim = 512,\n",
    "    topk_mems = 8,\n",
    "    mem_chunk_size = 32,\n",
    "    heads = 8\n",
    ")\n",
    "\n",
    "queries = torch.randn(1, 128, 512)\n",
    "memories = torch.randn(1, 20000, 512)\n",
    "mask = torch.ones(1, 20000).bool()\n",
    "\n",
    "out = block(queries, memories, mask = mask) # (1, 128, 512)"
   ]
  }
 ],
 "metadata": {
  "kernelspec": {
   "display_name": "tfm-experiments",
   "language": "python",
   "name": "tfm-experiments"
  },
  "language_info": {
   "codemirror_mode": {
    "name": "ipython",
    "version": 3
   },
   "file_extension": ".py",
   "mimetype": "text/x-python",
   "name": "python",
   "nbconvert_exporter": "python",
   "pygments_lexer": "ipython3",
   "version": "3.7.9"
  },
  "orig_nbformat": 4
 },
 "nbformat": 4,
 "nbformat_minor": 2
}
