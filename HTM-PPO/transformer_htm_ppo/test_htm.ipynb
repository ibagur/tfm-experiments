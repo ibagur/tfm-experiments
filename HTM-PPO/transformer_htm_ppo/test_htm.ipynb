{
 "cells": [
  {
   "cell_type": "code",
   "execution_count": 1,
   "metadata": {},
   "outputs": [],
   "source": [
    "%reload_ext autoreload\n",
    "%autoreload 2"
   ]
  },
  {
   "cell_type": "code",
   "execution_count": 3,
   "metadata": {},
   "outputs": [],
   "source": [
    "import torch\n",
    "from htm_pytorch import HTMAttention\n",
    "\n",
    "attn = HTMAttention(\n",
    "    dim = 512,\n",
    "    heads = 8,               # number of heads for within-memory attention\n",
    "    dim_head = 64,           # dimension per head for within-memory attention\n",
    "    topk_mems = 8,           # how many memory chunks to select for\n",
    "    mem_chunk_size = 16,     # number of tokens in each memory chunk\n",
    "    add_pos_enc = True       # whether to add positional encoding to the memories\n",
    ")\n",
    "\n",
    "queries = torch.randn(1, 1, 512)     # queries\n",
    "memories = torch.randn(1, 128, 512)  # memories, of any size\n",
    "mask = torch.ones(1, 128).bool()     # memory mask\n",
    "\n",
    "attended = attn(queries, memories, mask = mask) # (1, 128, 512)"
   ]
  },
  {
   "cell_type": "code",
   "execution_count": 4,
   "metadata": {},
   "outputs": [],
   "source": [
    "from htm_pytorch import HTMBlock\n",
    "\n",
    "block = HTMBlock(\n",
    "    dim = 512,\n",
    "    topk_mems = 8,\n",
    "    mem_chunk_size = 32,\n",
    "    heads = 8\n",
    ")\n",
    "\n",
    "queries = torch.randn(1, 128, 512)\n",
    "memories = torch.randn(1, 20000, 512)\n",
    "mask = torch.ones(1, 20000).bool()\n",
    "\n",
    "out = block(queries, memories, mask = mask) # (1, 128, 512)"
   ]
  },
  {
   "cell_type": "code",
   "execution_count": 8,
   "metadata": {},
   "outputs": [
    {
     "name": "stdout",
     "output_type": "stream",
     "text": [
      "torch.Size([16, 1, 384])\n"
     ]
    }
   ],
   "source": [
    "from htm_pytorch import HTMBlock\n",
    "\n",
    "block = HTMBlock(\n",
    "    dim = 384,\n",
    "    topk_mems = 8,\n",
    "    mem_chunk_size = 16,\n",
    "    heads = 8\n",
    ")\n",
    "\n",
    "queries = torch.randn(16, 1, 384)\n",
    "memories = torch.randn(16, 128, 384)\n",
    "mask = torch.ones(16, 128).bool()\n",
    "\n",
    "out = block(queries, memories, mask = mask) # (16, 1, 384)\n",
    "print(out.shape)"
   ]
  },
  {
   "cell_type": "code",
   "execution_count": null,
   "metadata": {},
   "outputs": [],
   "source": [
    "from htm_pytorch import HTMBlockReLU\n",
    "\n",
    "blockrelu = HTMBlockReLU(\n",
    "    dim = 512,\n",
    "    topk_mems = 8,\n",
    "    mem_chunk_size = 32,\n",
    "    heads = 8\n",
    ")\n",
    "\n",
    "queries = torch.randn(1, 128, 512)\n",
    "memories = torch.randn(1, 20000, 512)\n",
    "mask = torch.ones(1, 20000).bool()\n",
    "\n",
    "out = blockrelu(queries, memories, mask = mask) # (1, 128, 512)"
   ]
  },
  {
   "cell_type": "code",
   "execution_count": null,
   "metadata": {},
   "outputs": [],
   "source": [
    "from htm_pytorch import HTMBlockReLU\n",
    "\n",
    "blockrelu = HTMBlockReLU(\n",
    "    dim = 384,\n",
    "    topk_mems = 8,\n",
    "    mem_chunk_size = 16,\n",
    "    heads = 8\n",
    ")\n",
    "\n",
    "queries = torch.randn(16, 1, 384)\n",
    "memories = torch.randn(16, 128, 384)\n",
    "mask = torch.ones(16, 128).bool()\n",
    "\n",
    "#out = blockrelu(queries, memories, mask = mask) # (1, 128, 512)\n",
    "out = blockrelu(queries, memories) # (1, 128, 512)"
   ]
  },
  {
   "cell_type": "code",
   "execution_count": null,
   "metadata": {},
   "outputs": [],
   "source": [
    "print(out.shape)"
   ]
  },
  {
   "cell_type": "code",
   "execution_count": 6,
   "metadata": {},
   "outputs": [],
   "source": [
    "import torch\n",
    "from transformer_htm import HTMTransformerBlock, HTMTransformer\n",
    "\n",
    "config = {\n",
    "    \"num_blocks\":1, \n",
    "    \"embed_dim\": 384, \n",
    "    \"num_heads\":8, \n",
    "    \"layer_norm\":\"pre\", \n",
    "    \"identity_map_reordering\":True, \n",
    "    \"topk_mems\":8, \n",
    "    \"mem_chunk_size\":16\n",
    "    }\n",
    "\n",
    "htmtransformerblock = HTMTransformerBlock(\n",
    "    embed_dim=config[\"embed_dim\"],\n",
    "    num_heads=config[\"num_heads\"],  \n",
    "    config=config\n",
    ")\n",
    "\n",
    "queries = torch.randn(1, 1, 384)\n",
    "memories = torch.randn(1, 128, 384)\n",
    "mask = torch.ones(1, 128).bool()\n",
    "\n",
    "out, attn_weights = htmtransformerblock(queries, memories, mask)"
   ]
  },
  {
   "cell_type": "code",
   "execution_count": 11,
   "metadata": {},
   "outputs": [],
   "source": [
    "import torch\n",
    "from transformer_htm import HTMTransformerBlock, HTMTransformer\n",
    "\n",
    "input_dim = 384\n",
    "num_blocks = 1\n",
    "num_workers = 1\n",
    "mem_length = 128\n",
    "\n",
    "# topk_mems always equal or smaller than max episode length // chunk size\n",
    "config = {\n",
    "    \"num_blocks\":num_blocks, \n",
    "    \"embed_dim\": input_dim, \n",
    "    \"num_heads\":8, \n",
    "    \"layer_norm\":\"pre\",\n",
    "    \"positional_encoding\":\"\",\n",
    "    \"identity_map_reordering\":True, \n",
    "    \"topk_mems\":8, \n",
    "    \"mem_chunk_size\":16\n",
    "    }\n",
    "\n",
    "htmtransformer = HTMTransformer(\n",
    "    input_dim = config[\"embed_dim\"],\n",
    "    max_episode_steps = 256,\n",
    "    config = config\n",
    ")\n",
    "\n",
    "queries = torch.randn(num_workers, input_dim) # flattened input\n",
    "memories = torch.randn(num_workers, mem_length, num_blocks, input_dim)\n",
    "mask = torch.ones(num_workers, mem_length).bool()\n",
    "memory_indices = torch.randperm(mem_length, dtype=torch.long).repeat(num_workers, 1)\n",
    "\n",
    "h, out_memories = htmtransformer(queries, memories, mask, memory_indices)\n",
    "#h2, out_memories2 = htmtransformer(h, out_memories, mask, memory_indices)"
   ]
  },
  {
   "cell_type": "code",
   "execution_count": 12,
   "metadata": {},
   "outputs": [
    {
     "name": "stdout",
     "output_type": "stream",
     "text": [
      "torch.Size([1, 384])\n",
      "torch.Size([1, 1, 384])\n"
     ]
    }
   ],
   "source": [
    "print(h.shape)\n",
    "print(out_memories.shape)"
   ]
  },
  {
   "cell_type": "code",
   "execution_count": null,
   "metadata": {},
   "outputs": [],
   "source": [
    "import torch\n",
    "from transformer import Transformer, Transformer\n",
    "\n",
    "# topk_mems always equal or smaller than max episode length // chunk size\n",
    "config = {\n",
    "    \"num_blocks\":4, \n",
    "    \"embed_dim\": 512, \n",
    "    \"num_heads\":8, \n",
    "    \"layer_norm\":\"pre\", \n",
    "    \"positional_encoding\":\"relative\"\n",
    "    }\n",
    "\n",
    "transformer = Transformer(\n",
    "    input_dim = 512,\n",
    "    max_episode_steps = 256,\n",
    "    config = config\n",
    ")\n",
    "\n",
    "queries = torch.randn(1, 512) # flattened input\n",
    "memories = torch.randn(1, 4, 512)\n",
    "mask = torch.ones(1, 256).bool()\n",
    "memory_indices = torch.randperm(256, dtype=torch.long).unsqueeze(0)\n",
    "\n",
    "h, out_memories = transformer(queries, memories, mask, memory_indices)"
   ]
  },
  {
   "cell_type": "code",
   "execution_count": null,
   "metadata": {},
   "outputs": [],
   "source": [
    "print(h.shape)\n",
    "print(out_memories.shape)"
   ]
  },
  {
   "cell_type": "code",
   "execution_count": null,
   "metadata": {},
   "outputs": [],
   "source": [
    "import torch\n",
    "memories = torch.randn(16, 32, 2, 384)\n",
    "print(memories.shape)\n",
    "print(memories[:,:,1].shape)\n"
   ]
  },
  {
   "cell_type": "code",
   "execution_count": 52,
   "metadata": {},
   "outputs": [],
   "source": [
    "import torch\n",
    "from transformer_htm import HTMTransformerBlock, HTMTransformer\n",
    "from stable_baselines3.common.utils import set_random_seed\n",
    "set_random_seed(1)\n",
    "# topk_mems always equal or smaller than max episode length // chunk size\n",
    "config = {\n",
    "    \"num_blocks\":1, \n",
    "    \"embed_dim\": 384, \n",
    "    \"num_heads\":8, \n",
    "    \"layer_norm\":\"pre\", \n",
    "    \"identity_map_reordering\":True, \n",
    "    \"topk_mems\":8, \n",
    "    \"mem_chunk_size\":16,\n",
    "    \"positional_encoding\":\"learned\"\n",
    "    }\n",
    "\n",
    "htmtransformer = HTMTransformer(\n",
    "    input_dim = 384,\n",
    "    max_episode_steps = 256,\n",
    "    config = config\n",
    ")\n",
    "\n",
    "queries = torch.randn(16, 384) # flattened input\n",
    "memories = torch.randn(16, 128, 1, 384)\n",
    "mask = torch.ones(16, 128).bool()\n",
    "memory_indices = torch.randperm(128, dtype=torch.long).repeat(16,1)"
   ]
  },
  {
   "cell_type": "code",
   "execution_count": 53,
   "metadata": {},
   "outputs": [
    {
     "name": "stdout",
     "output_type": "stream",
     "text": [
      "torch.Size([16, 384])\n",
      "torch.Size([16, 1, 384])\n",
      "tensor([[-0.6750,  0.4172,  0.0656,  ..., -0.4660,  1.6029, -0.4685],\n",
      "        [ 1.7512,  0.1096, -0.2575,  ..., -0.6927,  0.2866, -0.5759],\n",
      "        [ 0.5399,  0.5540, -0.5765,  ..., -0.4698,  0.1769, -0.5949],\n",
      "        ...,\n",
      "        [-0.6666, -0.1259,  1.2321,  ..., -0.6991,  1.1065, -0.5994],\n",
      "        [-0.6462, -0.2878,  0.9402,  ...,  1.9376, -0.6890, -0.5007],\n",
      "        [-0.6855,  2.9800, -0.5774,  ..., -0.6631, -0.6974, -0.5417]],\n",
      "       grad_fn=<SqueezeBackward0>)\n"
     ]
    }
   ],
   "source": [
    "set_random_seed(1)\n",
    "htmtransformer = HTMTransformer(\n",
    "    input_dim = 384,\n",
    "    max_episode_steps = 256,\n",
    "    config = config\n",
    ")\n",
    "\n",
    "h, out_memories = htmtransformer(queries, memories, mask, memory_indices)\n",
    "\n",
    "print(h.shape)\n",
    "print(out_memories.shape)\n",
    "print(h)"
   ]
  },
  {
   "cell_type": "code",
   "execution_count": 51,
   "metadata": {},
   "outputs": [
    {
     "name": "stdout",
     "output_type": "stream",
     "text": [
      "torch.Size([16, 384])\n",
      "torch.Size([16, 1, 384])\n",
      "tensor([[-0.6750,  0.4172,  0.0656,  ..., -0.4660,  1.6029, -0.4685],\n",
      "        [ 1.7512,  0.1096, -0.2575,  ..., -0.6927,  0.2866, -0.5759],\n",
      "        [ 0.5399,  0.5540, -0.5765,  ..., -0.4698,  0.1769, -0.5949],\n",
      "        ...,\n",
      "        [-0.6666, -0.1259,  1.2321,  ..., -0.6991,  1.1065, -0.5994],\n",
      "        [-0.6462, -0.2878,  0.9402,  ...,  1.9376, -0.6890, -0.5007],\n",
      "        [-0.6855,  2.9800, -0.5774,  ..., -0.6631, -0.6974, -0.5417]],\n",
      "       grad_fn=<SqueezeBackward0>)\n"
     ]
    }
   ],
   "source": [
    "set_random_seed(1)\n",
    "htmtransformer = HTMTransformer(\n",
    "    input_dim = 384,\n",
    "    max_episode_steps = 256,\n",
    "    config = config\n",
    ")\n",
    "\n",
    "h, out_memories = htmtransformer(queries, memories, mask, memory_indices)\n",
    "\n",
    "print(h.shape)\n",
    "print(out_memories.shape)\n",
    "print(h)"
   ]
  }
 ],
 "metadata": {
  "kernelspec": {
   "display_name": "tfm-experiments",
   "language": "python",
   "name": "tfm-experiments"
  },
  "language_info": {
   "codemirror_mode": {
    "name": "ipython",
    "version": 3
   },
   "file_extension": ".py",
   "mimetype": "text/x-python",
   "name": "python",
   "nbconvert_exporter": "python",
   "pygments_lexer": "ipython3",
   "version": "3.7.9"
  },
  "orig_nbformat": 4
 },
 "nbformat": 4,
 "nbformat_minor": 2
}
