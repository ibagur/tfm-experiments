{
 "cells": [
  {
   "cell_type": "code",
   "execution_count": 1,
   "metadata": {},
   "outputs": [],
   "source": [
    "%reload_ext autoreload\n",
    "%autoreload 2"
   ]
  },
  {
   "cell_type": "code",
   "execution_count": 1,
   "metadata": {},
   "outputs": [
    {
     "name": "stderr",
     "output_type": "stream",
     "text": [
      "/Users/inigo/.local/share/virtualenvs/tfm-experiments-K5nk3NK1/lib/python3.7/site-packages/tqdm/auto.py:22: TqdmWarning: IProgress not found. Please update jupyter and ipywidgets. See https://ipywidgets.readthedocs.io/en/stable/user_install.html\n",
      "  from .autonotebook import tqdm as notebook_tqdm\n"
     ]
    },
    {
     "name": "stdout",
     "output_type": "stream",
     "text": [
      "torch.Size([16, 512])\n",
      "torch.Size([16, 1, 512])\n"
     ]
    }
   ],
   "source": [
    "import torch\n",
    "from transformer import Transformer\n",
    "\n",
    "input_dim = 512\n",
    "num_blocks = 1\n",
    "num_workers = 16\n",
    "mem_length = 256\n",
    "\n",
    "config = {\n",
    "    \"num_blocks\":num_blocks, \n",
    "    \"embed_dim\":input_dim, \n",
    "    \"num_heads\":8, \n",
    "    \"layer_norm\":\"pre\", \n",
    "    \"positional_encoding\":\"\",\n",
    "    \"gtrxl\":False,\n",
    "    \"gtrxl_bias\": 0.0\n",
    "    }\n",
    "\n",
    "transformer = Transformer(\n",
    "    input_dim = input_dim,\n",
    "    max_episode_steps = 256,\n",
    "    config = config\n",
    ")\n",
    "\n",
    "queries = torch.randn(num_workers, input_dim) # flattened input\n",
    "memories = torch.randn(num_workers, mem_length, num_blocks, input_dim)\n",
    "mask = torch.ones(num_workers, mem_length).bool()\n",
    "memory_indices = torch.randperm(mem_length, dtype=torch.long).repeat(num_workers, 1)\n",
    "\n",
    "h, out_memories = transformer(queries, memories, mask, memory_indices)\n",
    "\n",
    "print(h.shape)\n",
    "print(out_memories.shape)"
   ]
  }
 ],
 "metadata": {
  "kernelspec": {
   "display_name": "tfm-experiments",
   "language": "python",
   "name": "tfm-experiments"
  },
  "language_info": {
   "codemirror_mode": {
    "name": "ipython",
    "version": 3
   },
   "file_extension": ".py",
   "mimetype": "text/x-python",
   "name": "python",
   "nbconvert_exporter": "python",
   "pygments_lexer": "ipython3",
   "version": "3.7.9"
  },
  "orig_nbformat": 4
 },
 "nbformat": 4,
 "nbformat_minor": 2
}
