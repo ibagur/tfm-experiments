{
 "cells": [
  {
   "cell_type": "code",
   "execution_count": 1,
   "metadata": {},
   "outputs": [],
   "source": [
    "%reload_ext autoreload\n",
    "%autoreload 2"
   ]
  },
  {
   "cell_type": "code",
   "execution_count": 5,
   "metadata": {},
   "outputs": [
    {
     "name": "stdout",
     "output_type": "stream",
     "text": [
      "torch.Size([16, 512])\n",
      "torch.Size([16, 4, 512])\n"
     ]
    }
   ],
   "source": [
    "import torch\n",
    "from transformer import Transformer\n",
    "\n",
    "config = {\n",
    "    \"num_blocks\":4, \n",
    "    \"embed_dim\": 512, \n",
    "    \"num_heads\":8, \n",
    "    \"layer_norm\":\"pre\", \n",
    "    \"positional_encoding\":\"relative\",\n",
    "    \"gtrxl\":False,\n",
    "    \"gtrxl_bias\": 0.0\n",
    "    }\n",
    "\n",
    "input_dim = 512\n",
    "num_blocks = 4\n",
    "num_workers = 16\n",
    "mem_length = 256\n",
    "\n",
    "transformer = Transformer(\n",
    "    input_dim = input_dim,\n",
    "    max_episode_steps = 256,\n",
    "    config = config\n",
    ")\n",
    "\n",
    "queries = torch.randn(num_workers, 512) # flattened input\n",
    "memories = torch.randn(num_workers, mem_length, num_blocks, 512)\n",
    "mask = torch.ones(num_workers, mem_length).bool()\n",
    "memory_indices = torch.randperm(mem_length, dtype=torch.long).repeat(num_workers, 1)\n",
    "\n",
    "h, out_memories = transformer(queries, memories, mask, memory_indices)\n",
    "\n",
    "print(h.shape)\n",
    "print(out_memories.shape)"
   ]
  }
 ],
 "metadata": {
  "kernelspec": {
   "display_name": "tfm-experiments",
   "language": "python",
   "name": "tfm-experiments"
  },
  "language_info": {
   "name": "python",
   "version": "3.7.9"
  },
  "orig_nbformat": 4
 },
 "nbformat": 4,
 "nbformat_minor": 2
}
