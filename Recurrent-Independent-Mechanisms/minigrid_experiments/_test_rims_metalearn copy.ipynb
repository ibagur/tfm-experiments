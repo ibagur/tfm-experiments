{
 "cells": [
  {
   "cell_type": "markdown",
   "metadata": {
    "id": "MNF5-qJ7B0Q3"
   },
   "source": [
    "# MiniGrid settings"
   ]
  },
  {
   "cell_type": "markdown",
   "metadata": {
    "id": "AdM2FnEJB0Q8"
   },
   "source": [
    "## Basic Jupyter Setting"
   ]
  },
  {
   "cell_type": "code",
   "execution_count": 1,
   "metadata": {
    "executionInfo": {
     "elapsed": 319,
     "status": "ok",
     "timestamp": 1647123362972,
     "user": {
      "displayName": "Iñigo",
      "photoUrl": "https://lh3.googleusercontent.com/a/default-user=s64",
      "userId": "14378798962183195551"
     },
     "user_tz": -60
    },
    "id": "aycUmr6OB0Q8"
   },
   "outputs": [],
   "source": [
    "import numpy as np\n",
    "import matplotlib.pyplot as plt\n",
    "from pprint import pprint\n",
    "\n",
    "%matplotlib inline\n",
    "plt.rcParams['figure.figsize'] = (10.0, 8.0) # set default size of plots\n",
    "plt.rcParams['image.interpolation'] = 'nearest'\n",
    "plt.rcParams['image.cmap'] = 'gray'\n",
    "\n",
    "# for auto-reloading external modules\n",
    "# see http://stackoverflow.com/questions/1907993/autoreload-of-modules-in-ipython\n",
    "#%load_ext autoreload\n",
    "#%autoreload 2\n",
    "%reload_ext autoreload\n",
    "%autoreload 2"
   ]
  },
  {
   "cell_type": "markdown",
   "metadata": {
    "id": "ef0DdE0b4pLd"
   },
   "source": [
    "## Initial set-up"
   ]
  },
  {
   "cell_type": "markdown",
   "metadata": {
    "id": "PLM4YYcL5rBt"
   },
   "source": [
    "Import libraries and classes:"
   ]
  },
  {
   "cell_type": "code",
   "execution_count": null,
   "metadata": {
    "id": "YgenDMtf4pLe"
   },
   "outputs": [],
   "source": [
    "# Imports\n",
    "import time\n",
    "import io\n",
    "import os\n",
    "import glob\n",
    "import torch\n",
    "import base64\n",
    "# import stable_baselines3\n",
    "\n",
    "import numpy as np\n",
    "import matplotlib.pyplot as plt\n",
    "from random import randint \n",
    "\n",
    "import gym\n",
    "from gym import spaces\n",
    "from gym.wrappers import Monitor\n",
    "import gym_minigrid\n",
    "from gym_minigrid.wrappers import FlatObsWrapper, ImgObsWrapper, RGBImgPartialObsWrapper"
   ]
  },
  {
   "cell_type": "markdown",
   "metadata": {
    "id": "28U_WEp25rBu"
   },
   "source": [
    "Define the video function:"
   ]
  },
  {
   "cell_type": "code",
   "execution_count": null,
   "metadata": {
    "id": "d7eCH8Kf4pLf"
   },
   "outputs": [],
   "source": [
    "import base64\n",
    "import glob\n",
    "import io\n",
    "from IPython.display import HTML\n",
    "from IPython import display \n",
    "\n",
    "def show_video():\n",
    "    mp4list = glob.glob('video/*.mp4')\n",
    "    if len(mp4list) > 0:\n",
    "        mp4 = mp4list[0]\n",
    "        video = io.open(mp4, 'r+b').read()\n",
    "        encoded = base64.b64encode(video)\n",
    "        display.display(HTML(data='''<video alt=\"test\" autoplay \n",
    "                loop controls style=\"height: 400px;\">\n",
    "                <source src=\"data:video/mp4;base64,{0}\" type=\"video/mp4\" />\n",
    "             </video>'''.format(encoded.decode('ascii'))))\n",
    "    else:\n",
    "        print(\"Could not find video\")\n",
    "        \n",
    "def show_animation(experiment):\n",
    "    giflist = glob.glob('animation/*.gif')\n",
    "    if len(giflist) > 0:\n",
    "        matching = [s for s in giflist if experiment in s]\n",
    "        gif_path = matching[0]\n",
    "        b64 = base64.b64encode(open(gif_path,'rb').read()).decode('ascii')\n",
    "        display.display(HTML(f'<img src=\"data:image/gif;base64,{b64}\" height=\"400\" />'))\n",
    "    else:\n",
    "        print(\"Could not find animation\")"
   ]
  },
  {
   "cell_type": "markdown",
   "metadata": {
    "id": "KchGuXpd5rBv"
   },
   "source": [
    "Define the rendering wrappers:"
   ]
  },
  {
   "cell_type": "code",
   "execution_count": null,
   "metadata": {
    "id": "Gdhk3Oep4pLf"
   },
   "outputs": [],
   "source": [
    "from gym.wrappers import Monitor\n",
    "\n",
    "# Define wrapper for CNN Policy\n",
    "def ImgRGBImgPartialObsWrapper(env):\n",
    "    return ImgObsWrapper(RGBImgPartialObsWrapper(env))\n",
    "\n",
    "# Monitor is a gym wrapper, which helps easy rendering of videos of the wrapped environment.\n",
    "def wrap_env(env):\n",
    "    env = Monitor(env, './video', force=True)\n",
    "    return env\n",
    "\n",
    "def gen_wrapped_env(env_name):\n",
    "    return wrap_env(FlatObsWrapper(gym.make(env_name)))\n",
    "\n",
    "def gen_wrapped_env_cnn(env_name):\n",
    "    return wrap_env(ImgObsWrapper(RGBImgPartialObsWrapper(gym.make(env_name))))"
   ]
  },
  {
   "cell_type": "markdown",
   "metadata": {},
   "source": [
    "Render an environment image:"
   ]
  },
  {
   "cell_type": "code",
   "execution_count": null,
   "metadata": {
    "colab": {
     "base_uri": "https://localhost:8080/",
     "height": 269
    },
    "executionInfo": {
     "elapsed": 900,
     "status": "ok",
     "timestamp": 1647083269049,
     "user": {
      "displayName": "Iñigo",
      "photoUrl": "https://lh3.googleusercontent.com/a/default-user=s64",
      "userId": "14378798962183195551"
     },
     "user_tz": -60
    },
    "id": "B21JwGYn5rBv",
    "outputId": "54dfa526-2621-4f91-df2b-e4ff7a447aad"
   },
   "outputs": [],
   "source": [
    "from random import randint\n",
    "#env_id = 'MiniGrid-Empty-5x5-v0'\n",
    "#env_id = 'MiniGrid-Empty-Random-6x6-v0'\n",
    "#env_id = 'MiniGrid-Empty-8x8-v0'\n",
    "#env_id = 'MiniGrid-Empty-16x16-v0'\n",
    "env_id = 'MiniGrid-DoorKey-6x6-v0'\n",
    "#env_id = 'MiniGrid-DoorKey-5x5-v0'\n",
    "#env_id = 'BreakoutNoFrameskip-v4'\n",
    "#env_id = 'MiniGrid-DistShift1-v0'\n",
    "#env_id ='MiniGrid-UnlockPickup-v0'\n",
    "#env_id = 'MiniGrid-RedBlueDoors-6x6-v0'\n",
    "#env_id = 'MiniGrid-LavaGapS6-v0'\n",
    "\n",
    "eval_env = gym.make(env_id)\n",
    "eval_env.seed(10000+randint(0, 10))\n",
    "eval_env.reset()\n",
    "#random_action = eval_env.action_space.sample()\n",
    "#new_obs, reward, done, info = eval_env.step(random_action)\n",
    "\n",
    "before_img = eval_env.render('rgb_array')\n",
    "\n",
    "plt.figure(figsize = (4.,4.))\n",
    "plt.imshow(before_img);"
   ]
  },
  {
   "cell_type": "markdown",
   "metadata": {
    "id": "umY09KJP5rCI"
   },
   "source": [
    "# Initial Meta-RIMs learning"
   ]
  },
  {
   "cell_type": "markdown",
   "metadata": {
    "id": "yPq1XkeL5rCI"
   },
   "source": [
    "## Define the environments"
   ]
  },
  {
   "cell_type": "markdown",
   "metadata": {},
   "source": [
    "### Import libraries"
   ]
  },
  {
   "cell_type": "code",
   "execution_count": 2,
   "metadata": {},
   "outputs": [],
   "source": [
    "import time\n",
    "import datetime\n",
    "import torch\n",
    "import torch_ac\n",
    "import tensorboardX\n",
    "import sys\n",
    "\n",
    "import utils\n",
    "from model import ACModel\n",
    "from torch_ac.utils import DictList, ParallelEnv\n",
    "\n",
    "import matplotlib.pyplot as plt\n",
    "from mpl_toolkits.axes_grid1 import ImageGrid\n",
    "import numpy as np"
   ]
  },
  {
   "cell_type": "markdown",
   "metadata": {},
   "source": [
    "### Define some function helpers"
   ]
  },
  {
   "cell_type": "code",
   "execution_count": 3,
   "metadata": {},
   "outputs": [],
   "source": [
    "def make_envs(env_id, procs, seed=None):\n",
    "    envs = []\n",
    "    for i in range(procs):\n",
    "        if seed:\n",
    "            e = utils.make_env(env_id, seed + 10000 * i)\n",
    "        else:\n",
    "            e = utils.make_env(env_id)\n",
    "        envs.append(e)\n",
    "    env = ParallelEnv(envs)\n",
    "    return env\n",
    "\n",
    "# def sample_tasks(env_id, procs=16, n_tasks=20, seed=None):\n",
    "#     tasks = []\n",
    "#     for i in range(n_tasks):\n",
    "#         tasks.append(make_envs(env_id, procs, seed))\n",
    "#         if seed: seed+=1\n",
    "#     return tasks\n",
    "\n",
    "# def sample_tasks(env_id, n_tasks, procs):\n",
    "#     seed_list = []\n",
    "#     for i in range(n_tasks):\n",
    "#         random_data = os.urandom(4)\n",
    "#         seed = int.from_bytes(random_data, byteorder=\"big\")\n",
    "#         seed_list.append(seed)\n",
    "#     tasks = {'env_id':env_id, 'seed_list':seed_list, 'procs':procs}\n",
    "#     return tasks\n",
    "\n",
    "# def sample_tasks(n_tasks):\n",
    "#     seed_list = []\n",
    "#     for i in range(n_tasks):\n",
    "#         random_data = os.urandom(4)\n",
    "#         seed = int.from_bytes(random_data, byteorder=\"big\")\n",
    "#         seed_list.append(seed)\n",
    "#     tasks = {'seed_list':seed_list}\n",
    "#     return tasks\n",
    "\n",
    "def sample_tasks(n_tasks):\n",
    "    tasks_list = []\n",
    "    for i in range(n_tasks):\n",
    "        random_data = os.urandom(4)\n",
    "        seed = int.from_bytes(random_data, byteorder=\"big\")\n",
    "        tasks_list.append(seed)\n",
    "    return tasks_list\n",
    "\n",
    "def env_snapshot(env:ParallelEnv):\n",
    "    im_list = []\n",
    "    for e in env.envs:\n",
    "        #print(type(e.render('rgb_array')))\n",
    "        #e.reset()\n",
    "        im_list.append(e.render('rgb_array'))\n",
    "\n",
    "    fig = plt.figure(figsize=(8., 8.))\n",
    "    grid = ImageGrid(fig, 111,  # similar to subplot(111)\n",
    "                    nrows_ncols=(4, 4),  # creates 2x2 grid of axes\n",
    "                    axes_pad=0.1,  # pad between axes in inch.\n",
    "                    )\n",
    "\n",
    "    for ax, im in zip(grid, im_list):\n",
    "        # Iterating over the grid returns the Axes.\n",
    "        ax.imshow(im)\n",
    "\n",
    "def set_freeze_status(model, params, freeze=True):\n",
    "    for name, param in model.named_parameters():\n",
    "        if any(ext in name for ext in params):\n",
    "            param.requires_grad = False if freeze else True\n",
    "            #param.grad = None if freeze else param.grad\n",
    "\n",
    "# Function to concatenate two tasks rollout exps dictionaries\n",
    "def cat_exps(exps_1, exps_2):\n",
    "    exp_out = {}\n",
    "    for (k,v), (k2,v2) in zip(exps_1.items(), exps_2.items()):\n",
    "        if k == 'obs':\n",
    "            obs = k\n",
    "            exp_out[obs] = {}\n",
    "            for (k,v), (k2,v2) in zip(exps_1.obs.items(), exps_2.obs.items()):\n",
    "                exp_out[obs][k] = torch.cat((v, v2), 0)\n",
    "        else:\n",
    "            exp_out[k] = torch.cat((v, v2), 0)\n",
    "    return exp_out\n",
    "\n",
    "# Function to concatenate two tasks rollout logs dictionaries\n",
    "def cat_logs(logs_1, logs_2):\n",
    "    logs_out = {}\n",
    "    for (k,v), (k2,v2) in zip(logs_1.items(), logs_2.items()):\n",
    "        logs_out[k] = v + v2\n",
    "    return logs_out\n",
    "\n",
    "def change_multienv_seed(env, seed):\n",
    "    for i, e in enumerate(env.envs):\n",
    "        e.seed(seed + 10000 * i)\n",
    "        e.reset()\n",
    "    return env\n",
    "        \n",
    "# Function to sample and collect tasks experiences from each tasks\n",
    "# def sample_tasks_experiences(agent, tasks_batch):\n",
    "#     exps_batch = []\n",
    "#     logs1_batch = []\n",
    "\n",
    "#     for task in tasks_batch:\n",
    "#         agent.env = task\n",
    "#         exps, logs1 = agent.collect_experiences() \n",
    "#         exps_batch.append(exps)\n",
    "#         logs1_batch.append(logs1)\n",
    "#         #agent.env.close()\n",
    "#     return exps_batch, logs1_batch\n",
    "\n",
    "\n",
    "def sample_tasks_experiences(agent, tasks):\n",
    "    seed_list = tasks['seed_list']\n",
    "    exps_batch = []\n",
    "    logs1_batch = []\n",
    "    for seed in seed_list:\n",
    "        agent.env = change_multienv_seed(agent.env, seed)\n",
    "        #agent.env = make_envs(env_id, procs, seed)\n",
    "        exps, logs1 = agent.collect_experiences() \n",
    "        exps_batch.append(exps)\n",
    "        logs1_batch.append(logs1)\n",
    "    return exps_batch, logs1_batch\n",
    "\n",
    "# Function to collect and concatenate all tasks rollout exps dictionaries\n",
    "def collect_tasks_meta_experiences(agent, tasks):\n",
    "    seed_list = tasks['seed_list']\n",
    "    for i, seed in enumerate(seed_list):\n",
    "        #agent.env = make_envs(env_id, procs, seed)\n",
    "        agent.env = change_multienv_seed(agent.env, seed)\n",
    "        exps, logs1 = agent.collect_experiences()\n",
    "        concat_exps = exps if i==0 else cat_exps(concat_exps, exps)\n",
    "        concat_exps = DictList(concat_exps)\n",
    "        concat_exps.obs = DictList(concat_exps.obs)\n",
    "        concat_logs1 = logs1 if i==0 else cat_logs(concat_logs1, logs1)\n",
    "    return concat_exps, concat_logs1"
   ]
  },
  {
   "cell_type": "markdown",
   "metadata": {},
   "source": [
    "### Render Parallel environment snapshot"
   ]
  },
  {
   "cell_type": "code",
   "execution_count": 4,
   "metadata": {},
   "outputs": [
    {
     "data": {
      "image/png": "[encoded data removed]",
      "text/plain": [
       "<Figure size 800x800 with 32 Axes>"
      ]
     },
     "metadata": {},
     "output_type": "display_data"
    }
   ],
   "source": [
    "import matplotlib.pyplot as plt\n",
    "from mpl_toolkits.axes_grid1 import ImageGrid\n",
    "import numpy as np\n",
    "\n",
    "procs = 16\n",
    "max_tasks = 20\n",
    "seed_list = range(procs * max_tasks, (procs + 1) * max_tasks)\n",
    "\n",
    "#env_id = 'MiniGrid-Empty-Random-6x6-v0'\n",
    "#env_id = 'MiniGrid-Empty-5x5-v0'\n",
    "#env_id = 'MiniGrid-DoorKey-5x5-v0'\n",
    "env_id = 'MiniGrid-DoorKey-6x6-v0'\n",
    "\n",
    "seed = 5\n",
    "env = make_envs(env_id, procs, seed)\n",
    "obs = env.reset()\n",
    "\n",
    "env_snapshot(env)\n",
    "\n",
    "#plt.show()\n"
   ]
  },
  {
   "cell_type": "markdown",
   "metadata": {},
   "source": [
    "## Pruebas"
   ]
  },
  {
   "cell_type": "code",
   "execution_count": null,
   "metadata": {},
   "outputs": [],
   "source": [
    "# env_id = 'MiniGrid-Empty-Random-6x6-v0'\n",
    "\n",
    "# # stochastic task sampling (for training)\n",
    "# test_tasks_sto_1 = sample_tasks(env_id = 'MiniGrid-Empty-Random-6x6-v0', n_tasks=2)\n",
    "# test_tasks_sto_2 = sample_tasks(env_id = 'MiniGrid-Empty-Random-6x6-v0', n_tasks=2)\n",
    "\n",
    "# # deterministic task sampling (for testing)\n",
    "# test_tasks_det_1 = sample_tasks(env_id = 'MiniGrid-Empty-Random-6x6-v0', n_tasks=2, seed=1)\n",
    "# test_tasks_det_2 = sample_tasks(env_id = 'MiniGrid-Empty-Random-6x6-v0', n_tasks=2, seed=1)\n"
   ]
  },
  {
   "cell_type": "code",
   "execution_count": null,
   "metadata": {},
   "outputs": [],
   "source": [
    "exps, logs1 = algo.collect_experiences()"
   ]
  },
  {
   "cell_type": "code",
   "execution_count": null,
   "metadata": {},
   "outputs": [],
   "source": [
    "print(type(exps))\n",
    "print(type(logs1))\n",
    "for k,v in exps.items():\n",
    "    if k == 'obs':\n",
    "        for k1,v1 in exps.obs.items():\n",
    "            print(k1, type(v1))\n",
    "    print(k, type(v))\n"
   ]
  },
  {
   "cell_type": "code",
   "execution_count": null,
   "metadata": {},
   "outputs": [],
   "source": [
    "# meta-learn parameters\n",
    "lr_alpha = 0.0001 # inner loop lr\n",
    "lr_beta = 0.0001 # outer loop lr"
   ]
  },
  {
   "cell_type": "code",
   "execution_count": null,
   "metadata": {},
   "outputs": [],
   "source": [
    "# delete param_groups after it has been created\n",
    "for i in range(len(algo.optimizer.param_groups)):\n",
    "    del algo.optimizer.param_groups[0]"
   ]
  },
  {
   "cell_type": "code",
   "execution_count": null,
   "metadata": {},
   "outputs": [],
   "source": [
    "# Re-assign param_groups\n",
    "\n",
    "# inner loop param group\n",
    "algo.optimizer.add_param_group({'params': [\n",
    "    *acmodel.image_conv.parameters(), \n",
    "    *acmodel.memory_rnn.rnn.parameters(), \n",
    "    *acmodel.actor.parameters()], 'lr': lr_alpha})\n",
    "\n",
    "# outer loop param group\n",
    "algo.optimizer.add_param_group({'params': [\n",
    "    *acmodel.critic.parameters(), \n",
    "    *acmodel.memory_rnn.key.parameters(),\n",
    "    *acmodel.memory_rnn.key_.parameters(),\n",
    "    *acmodel.memory_rnn.query.parameters(),\n",
    "    *acmodel.memory_rnn.query_.parameters(),\n",
    "    *acmodel.memory_rnn.value.parameters(),\n",
    "    *acmodel.memory_rnn.value_.parameters(),\n",
    "    *acmodel.memory_rnn.comm_attention_output.parameters()\n",
    "    ], 'lr': lr_beta})\n"
   ]
  },
  {
   "cell_type": "code",
   "execution_count": null,
   "metadata": {},
   "outputs": [],
   "source": [
    "for name, param in acmodel.named_parameters():\n",
    "    print(name, param.requires_grad, param.grad)"
   ]
  },
  {
   "cell_type": "code",
   "execution_count": null,
   "metadata": {},
   "outputs": [],
   "source": [
    "# Freezing input attention layers in inner loop\n",
    "acmodel.memory_rnn.query.w.requires_grad = False\n",
    "acmodel.memory_rnn.query.w.grad = None\n",
    "acmodel.memory_rnn.key.weight.requires_grad = False\n",
    "acmodel.memory_rnn.key.weight.grad = None\n",
    "acmodel.memory_rnn.key.bias.requires_grad = False\n",
    "acmodel.memory_rnn.key.bias.grad = None\n",
    "acmodel.memory_rnn.value.weight.requires_grad = False\n",
    "acmodel.memory_rnn.value.weight.grad = None\n",
    "acmodel.memory_rnn.value.bias.requires_grad = False\n",
    "acmodel.memory_rnn.value.bias.grad = None\n",
    "\n",
    "# Freezing comm attention layers in inner loop\n",
    "acmodel.memory_rnn.query_.w.requires_grad = False\n",
    "acmodel.memory_rnn.query_.w.grad = None\n",
    "acmodel.memory_rnn.key_.w.requires_grad = False\n",
    "acmodel.memory_rnn.key_.w.grad = None\n",
    "acmodel.memory_rnn.value_.w.requires_grad = False\n",
    "acmodel.memory_rnn.value_.w.grad = None\n",
    "acmodel.memory_rnn.comm_attention_output.w.requires_grad = False\n",
    "acmodel.memory_rnn.comm_attention_output.w.grad = None\n",
    "\n",
    "# Freezing critic (value head) layers in inner loop\n",
    "acmodel.critic[0].weight.requires_grad = False\n",
    "acmodel.critic[0].weight.grad = None\n",
    "acmodel.critic[0].bias.requires_grad = False\n",
    "acmodel.critic[0].bias.grad = None\n",
    "acmodel.critic[2].weight.requires_grad = False\n",
    "acmodel.critic[2].weight.grad = None\n",
    "acmodel.critic[2].bias.requires_grad = False\n",
    "acmodel.critic[2].bias.grad = None"
   ]
  },
  {
   "cell_type": "code",
   "execution_count": null,
   "metadata": {},
   "outputs": [],
   "source": [
    "inner_params = ['query', 'key', 'value', 'comm', 'critic']\n",
    "outer_params = ['image_conv', 'i2h', 'h2h', 'actor']\n",
    "\n",
    "for name, param in acmodel.named_parameters():\n",
    "    if any(ext in name for ext in inner_params):\n",
    "        print(name, param.requires_grad)\n",
    "    #if param.requires_grad:\n",
    "        #print(name)"
   ]
  },
  {
   "cell_type": "code",
   "execution_count": null,
   "metadata": {},
   "outputs": [],
   "source": [
    "freeze_params(acmodel, inner_params)"
   ]
  },
  {
   "cell_type": "code",
   "execution_count": null,
   "metadata": {},
   "outputs": [],
   "source": [
    "for name, param in acmodel.named_parameters():\n",
    "    print(name, param.requires_grad, param.grad)"
   ]
  },
  {
   "cell_type": "code",
   "execution_count": null,
   "metadata": {},
   "outputs": [],
   "source": [
    "freeze_params(acmodel, inner_params, False)"
   ]
  },
  {
   "cell_type": "code",
   "execution_count": null,
   "metadata": {},
   "outputs": [],
   "source": [
    "for name, param in acmodel.named_parameters():\n",
    "    print(name, param.requires_grad)"
   ]
  },
  {
   "cell_type": "code",
   "execution_count": null,
   "metadata": {},
   "outputs": [],
   "source": [
    "tasks_batch = sample_tasks(env_id=args.env, procs=args.procs, n_tasks=5)\n",
    "print(type(tasks_batch[0]))\n",
    "print(type(algo.env))"
   ]
  },
  {
   "cell_type": "code",
   "execution_count": null,
   "metadata": {},
   "outputs": [],
   "source": [
    "env_snapshot(task_batch[0])"
   ]
  },
  {
   "cell_type": "code",
   "execution_count": null,
   "metadata": {},
   "outputs": [],
   "source": [
    "env_snapshot(algo.env)"
   ]
  },
  {
   "cell_type": "code",
   "execution_count": null,
   "metadata": {},
   "outputs": [],
   "source": [
    "# Train model\n",
    "\n",
    "# meta-learn parameters\n",
    "lr_alpha = 0.0001 # inner loop lr\n",
    "lr_beta = 0.0001 # outer loop lr\n",
    "\n",
    "num_frames = status[\"num_frames\"]\n",
    "update = status[\"update\"]\n",
    "start_time = time.time()\n",
    "\n",
    "print(num_frames)\n",
    "print(update)\n",
    "print(start_time)\n",
    "print(args.frames)"
   ]
  },
  {
   "cell_type": "code",
   "execution_count": null,
   "metadata": {},
   "outputs": [],
   "source": [
    "print(type(meta_logs))\n",
    "print(meta_logs[\"num_frames\"])\n",
    "print(meta_exps.obs.image.size())\n",
    "print(type(meta_logs2))\n",
    "print(type(logs2))\n",
    "print(type(meta_logs1))\n",
    "print(type(logs1_batch[0]))\n",
    "\n",
    "print(meta_logs2)\n",
    "print(logs2)\n",
    "print(len(meta_logs1['return_per_episode']))\n",
    "print(len(logs1_batch[0]['return_per_episode']))\n",
    "print(meta_logs2)\n",
    "print(logs2)"
   ]
  },
  {
   "cell_type": "markdown",
   "metadata": {},
   "source": [
    "## Configuration"
   ]
  },
  {
   "cell_type": "markdown",
   "metadata": {},
   "source": [
    "### Load parameters"
   ]
  },
  {
   "cell_type": "code",
   "execution_count": 4,
   "metadata": {},
   "outputs": [],
   "source": [
    "#env_id = 'MiniGrid-Empty-8x8-v0'\n",
    "#env_id = 'MiniGrid-LavaGapS5-v0'\n",
    "#env_id = 'MiniGrid-DoorKey-5x5-v0'\n",
    "env_id = 'MiniGrid-DoorKey-6x6-v0'\n",
    "#env_id = 'MiniGrid-Empty-Random-6x6-v0'\n",
    "#env_id = 'MiniGrid-Empty-5x5-v0'\n",
    "model = 'MiniGrid-DoorKey-6x6-v0_meta_RIM_5_3_frames_500k_tasks_2_recur_64_16_proc_16_RMSProp_lr_7e4_gae_099_MiniGrid-LavaGapS5-v0_test'\n",
    "\n",
    "## Hyper-parameters\n",
    "args = {\n",
    "# General parameters\n",
    "'algo':'ppo',\n",
    "'env':env_id,\n",
    "'model':model,\n",
    "'seed':1,\n",
    "'log_interval':1,\n",
    "'save_interval':10,\n",
    "'procs':16,\n",
    "'frames':500000, # default 1e7\n",
    "# Parameters for main algorithm\n",
    "'epochs':4,\n",
    "'batch_size':256,\n",
    "'frames_per_proc':128, # 128 for PPO and 5 per A2C\n",
    "'discount':0.99,\n",
    "#'lr':0.0001, # for Adam\n",
    "'lr':0.0007, # for RMSProp\n",
    "#'gae_lambda':0.95, # 1 means no gae, for Adam\n",
    "'gae_lambda':0.99, # 1 means no gae, for RMSProp\n",
    "'entropy_coef':0.01,\n",
    "'value_loss_coef':0.5,\n",
    "'max_grad_norm':0.5,\n",
    "'optim_eps':1e-8,\n",
    "'optim_alpha':0.99,\n",
    "'clip_eps':0.2,\n",
    "'recurrence':32, # if > 1, a LSTM is added\n",
    "'text':False, # add a GRU for text input\n",
    "# Model Parameters\n",
    "'use_rim':True # action = 'store_true'\n",
    "}\n",
    "\n",
    "#args = utils.dotdict(args)\n",
    "args = DictList(args)\n",
    "\n",
    "args.mem = args.recurrence > 1\n",
    "\n",
    "# RIM specific hyperparameters\n",
    "if args.use_rim:\n",
    "    args.num_units = 5\n",
    "    args.k = 3"
   ]
  },
  {
   "cell_type": "markdown",
   "metadata": {},
   "source": [
    "### Initial settings"
   ]
  },
  {
   "cell_type": "code",
   "execution_count": 5,
   "metadata": {},
   "outputs": [
    {
     "name": "stdout",
     "output_type": "stream",
     "text": [
      "{'algo': 'ppo', 'env': 'MiniGrid-DoorKey-6x6-v0', 'model': 'MiniGrid-DoorKey-6x6-v0_meta_RIM_5_3_frames_500k_tasks_2_recur_64_16_proc_16_RMSProp_lr_7e4_gae_099_MiniGrid-LavaGapS5-v0_test', 'seed': 1, 'log_interval': 1, 'save_interval': 10, 'procs': 16, 'frames': 500000, 'epochs': 4, 'batch_size': 256, 'frames_per_proc': 128, 'discount': 0.99, 'lr': 0.0007, 'gae_lambda': 0.99, 'entropy_coef': 0.01, 'value_loss_coef': 0.5, 'max_grad_norm': 0.5, 'optim_eps': 1e-08, 'optim_alpha': 0.99, 'clip_eps': 0.2, 'recurrence': 32, 'text': False, 'use_rim': True, 'mem': True, 'num_units': 5, 'k': 3}\n",
      "\n",
      "Device: cpu\n",
      "\n"
     ]
    }
   ],
   "source": [
    "# Set run dir\n",
    "def reshape_reward(obs, action, reward, done):\n",
    "    if not done:\n",
    "        reward = -1\n",
    "    else:\n",
    "        reward = 1\n",
    "    return reward\n",
    "\n",
    "date = datetime.datetime.now().strftime(\"%y-%m-%d-%H-%M-%S\")\n",
    "default_model_name = f\"{args.env}_{args.algo}_seed{args.seed}_{date}\"\n",
    "\n",
    "model_name = args.model or default_model_name\n",
    "model_dir = utils.get_model_dir(model_name)\n",
    "\n",
    "# Load loggers and Tensorboard writer\n",
    "\n",
    "txt_logger = utils.get_txt_logger(model_dir)\n",
    "csv_file, csv_logger = utils.get_csv_logger(model_dir)\n",
    "tb_writer = tensorboardX.SummaryWriter(model_dir)\n",
    "\n",
    "# Log command and all script arguments\n",
    "\n",
    "#txt_logger.info(\"{}\\n\".format(\" \".join(sys.argv)))\n",
    "txt_logger.info(\"{}\\n\".format(args))\n",
    "\n",
    "# Set seed for all randomness sources\n",
    "\n",
    "utils.seed(args.seed)\n",
    "\n",
    "# Set device\n",
    "\n",
    "device = torch.device(\"cuda\" if torch.cuda.is_available() else \"cpu\")\n",
    "txt_logger.info(f\"Device: {device}\\n\")"
   ]
  },
  {
   "cell_type": "markdown",
   "metadata": {},
   "source": [
    "### Load environments, model, algo and prepare training settings"
   ]
  },
  {
   "cell_type": "code",
   "execution_count": 6,
   "metadata": {},
   "outputs": [
    {
     "name": "stdout",
     "output_type": "stream",
     "text": [
      "Environments loaded\n",
      "\n",
      "Training status loaded\n",
      "\n",
      "Observations preprocessor loaded\n",
      "Model loaded\n",
      "\n",
      "ACModel(\n",
      "  (image_conv): Sequential(\n",
      "    (0): Conv2d(3, 16, kernel_size=(2, 2), stride=(1, 1))\n",
      "    (1): ReLU()\n",
      "    (2): MaxPool2d(kernel_size=(2, 2), stride=(2, 2), padding=0, dilation=1, ceil_mode=False)\n",
      "    (3): Conv2d(16, 32, kernel_size=(2, 2), stride=(1, 1))\n",
      "    (4): ReLU()\n",
      "    (5): Conv2d(32, 64, kernel_size=(2, 2), stride=(1, 1))\n",
      "    (6): ReLU()\n",
      "  )\n",
      "  (memory_rnn): RIMCell(\n",
      "    (key): Linear(in_features=64, out_features=64, bias=True)\n",
      "    (value): Linear(in_features=64, out_features=64, bias=True)\n",
      "    (rnn): GroupLSTMCell(\n",
      "      (i2h): GroupLinearLayer()\n",
      "      (h2h): GroupLinearLayer()\n",
      "    )\n",
      "    (query): GroupLinearLayer()\n",
      "    (query_): GroupLinearLayer()\n",
      "    (key_): GroupLinearLayer()\n",
      "    (value_): GroupLinearLayer()\n",
      "    (comm_attention_output): GroupLinearLayer()\n",
      "    (comm_dropout): Dropout(p=0.1, inplace=False)\n",
      "    (input_dropout): Dropout(p=0.1, inplace=False)\n",
      "  )\n",
      "  (actor): Sequential(\n",
      "    (0): Linear(in_features=60, out_features=64, bias=True)\n",
      "    (1): Tanh()\n",
      "    (2): Linear(in_features=64, out_features=7, bias=True)\n",
      "  )\n",
      "  (critic): Sequential(\n",
      "    (0): Linear(in_features=60, out_features=64, bias=True)\n",
      "    (1): Tanh()\n",
      "    (2): Linear(in_features=64, out_features=1, bias=True)\n",
      "  )\n",
      ")\n",
      "\n",
      "Optimizer loaded\n",
      "\n"
     ]
    }
   ],
   "source": [
    "# Load environments\n",
    "\n",
    "envs = []\n",
    "for i in range(args.procs):\n",
    "    envs.append(utils.make_env(args.env, args.seed + 10000 * i))\n",
    "txt_logger.info(\"Environments loaded\\n\")\n",
    "\n",
    "# Load training status\n",
    "\n",
    "try:\n",
    "    status = utils.get_status(model_dir)\n",
    "except OSError:\n",
    "    status = {\"num_frames\": 0, \"update\": 0}\n",
    "txt_logger.info(\"Training status loaded\\n\")\n",
    "\n",
    "# Load observations preprocessor\n",
    "\n",
    "obs_space, preprocess_obss = utils.get_obss_preprocessor(envs[0].observation_space)\n",
    "if \"vocab\" in status:\n",
    "    preprocess_obss.vocab.load_vocab(status[\"vocab\"])\n",
    "txt_logger.info(\"Observations preprocessor loaded\")\n",
    "\n",
    "# Load model\n",
    "\n",
    "acmodel = ACModel(obs_space, envs[0].action_space, args.mem, args.text, args.use_rim, args.num_units, args.k)\n",
    "if \"model_state\" in status:\n",
    "    acmodel.load_state_dict(status[\"model_state\"])\n",
    "acmodel.to(device)\n",
    "txt_logger.info(\"Model loaded\\n\")\n",
    "txt_logger.info(\"{}\\n\".format(acmodel))\n",
    "\n",
    "# Load algo\n",
    "\n",
    "if args.algo == \"a2c\":\n",
    "    algo = torch_ac.A2CAlgo(envs, acmodel, device, args.frames_per_proc, args.discount, args.lr, args.gae_lambda,\n",
    "                            args.entropy_coef, args.value_loss_coef, args.max_grad_norm, args.recurrence,\n",
    "                            args.optim_alpha, args.optim_eps, preprocess_obss)\n",
    "elif args.algo == \"ppo\":\n",
    "    algo = torch_ac.PPOAlgo(envs, acmodel, device, args.frames_per_proc, args.discount, args.lr, args.gae_lambda,\n",
    "                            args.entropy_coef, args.value_loss_coef, args.max_grad_norm, args.recurrence,\n",
    "                            args.optim_eps, args.clip_eps, args.epochs, args.batch_size, preprocess_obss)\n",
    "else:\n",
    "    raise ValueError(\"Incorrect algorithm name: {}\".format(args.algo))\n",
    "\n",
    "# change to RMSProp optimizer\n",
    "algo.optimizer = torch.optim.RMSprop(algo.acmodel.parameters(), args.lr, eps=args.optim_eps)\n",
    "\n",
    "if \"optimizer_state\" in status:\n",
    "    algo.optimizer.load_state_dict(status[\"optimizer_state\"])\n",
    "txt_logger.info(\"Optimizer loaded\\n\")"
   ]
  },
  {
   "cell_type": "markdown",
   "metadata": {},
   "source": [
    "## Meta-training"
   ]
  },
  {
   "cell_type": "markdown",
   "metadata": {},
   "source": [
    "### Set initial parameters"
   ]
  },
  {
   "cell_type": "code",
   "execution_count": 7,
   "metadata": {},
   "outputs": [],
   "source": [
    "# meta-learn parameters\n",
    "#lr_alpha = 0.0001 # inner loop lr - Adam\n",
    "#lr_beta = 0.0001 # outer loop lr - Adam\n",
    "lr_alpha = 0.0007 # RMSProp\n",
    "lr_beta = 0.0007 # RMSProp\n",
    "inner_recurrence = 16\n",
    "outer_recurrence = 64 # 4x inner_recurrence\n",
    "num_tasks = 2\n",
    "\n",
    "inner_params = ['image_conv', 'i2h', 'h2h', 'actor'] # params to be updated in inner loop\n",
    "outer_params = ['query', 'key', 'value', 'comm', 'critic'] # params to be updated in outer loop\n",
    "\n",
    "num_frames = status[\"num_frames\"]\n",
    "update = status[\"update\"]\n",
    "start_time = time.time()\n",
    "\n",
    "# delete param_groups after it has been created\n",
    "for i in range(len(algo.optimizer.param_groups)):\n",
    "    del algo.optimizer.param_groups[0]\n",
    "\n",
    "# Re-create separate param_groups for different inner and outer loop optimizer lr\n",
    "\n",
    "# inner loop param group\n",
    "algo.optimizer.add_param_group({'params': [\n",
    "    *acmodel.image_conv.parameters(), \n",
    "    *acmodel.memory_rnn.rnn.parameters(), \n",
    "    *acmodel.actor.parameters()], 'lr': lr_alpha})\n",
    "\n",
    "# outer loop param group\n",
    "algo.optimizer.add_param_group({'params': [\n",
    "    *acmodel.critic.parameters(), \n",
    "    *acmodel.memory_rnn.key.parameters(),\n",
    "    *acmodel.memory_rnn.key_.parameters(),\n",
    "    *acmodel.memory_rnn.query.parameters(),\n",
    "    *acmodel.memory_rnn.query_.parameters(),\n",
    "    *acmodel.memory_rnn.value.parameters(),\n",
    "    *acmodel.memory_rnn.value_.parameters(),\n",
    "    *acmodel.memory_rnn.comm_attention_output.parameters()\n",
    "    ], 'lr': lr_beta})"
   ]
  },
  {
   "cell_type": "markdown",
   "metadata": {},
   "source": [
    "### Old Training"
   ]
  },
  {
   "cell_type": "code",
   "execution_count": null,
   "metadata": {},
   "outputs": [],
   "source": [
    "# run just once to have initial grads in all parameters and avoid backward error on first pass\n",
    "exps, _ = algo.collect_experiences()\n",
    "algo.update_parameters(exps)\n",
    "\n",
    "while num_frames < args.frames: # STEP 2\n",
    "\n",
    "    update_start_time = time.time()\n",
    "\n",
    "    # # run just once to have initial grads in all parameters and avoid backward error on first pass\n",
    "    # exps, _ = algo.collect_experiences()\n",
    "    # algo.update_parameters(exps)\n",
    "\n",
    "    # Sample batch of tasks: STEP 3\n",
    "    tasks_batch = sample_tasks(n_tasks=num_tasks)\n",
    "\n",
    "    # Sample pre-trajectories from each task: STEP 4\n",
    "    exps_batch, logs1_batch = sample_tasks_experiences(agent=algo, tasks=tasks_batch)\n",
    "\n",
    "    # Inner loop: STEPS 5-7\n",
    "\n",
    "    # Unfreeze inner loop params so they can get updated in the inner loop\n",
    "    set_freeze_status(algo.acmodel, inner_params, freeze=False)\n",
    "\n",
    "    # Freeze outer loop parameters, so those grads will be zero in update\n",
    "    set_freeze_status(algo.acmodel, outer_params, freeze=True)\n",
    "\n",
    "    # set inner recurence\n",
    "    algo.recurrence = inner_recurrence\n",
    "\n",
    "    # Update parameters for all tasks \n",
    "    logs2_batch = []\n",
    "    for exps in exps_batch: # STEP 5\n",
    "        logs2 = algo.update_parameters(exps) # STEP 6\n",
    "        logs2_batch.append(logs2)\n",
    "    # STEP 7\n",
    "\n",
    "    # Sample post-trajectories t_i from tasks T_i and concatenate to get D_meta: STEP 8\n",
    "    meta_exps, meta_logs1 = collect_tasks_meta_experiences(agent=algo, tasks=tasks_batch)\n",
    "\n",
    "    # Unfreeze outer loop params so they can get updated in the outer loop\n",
    "    set_freeze_status(algo.acmodel, outer_params, freeze=False)\n",
    "    # Freeze inner loop params \n",
    "    set_freeze_status(algo.acmodel, inner_params, freeze=True)\n",
    "\n",
    "    # set outer recurence\n",
    "    algo.recurrence = outer_recurrence\n",
    "\n",
    "    # Update parameters while keeping inner parametes (module and policy) frozen: STEP 9\n",
    "    meta_logs2 = algo.update_parameters(meta_exps)\n",
    "\n",
    "    meta_logs = {**meta_logs1, **meta_logs2}\n",
    "    update_end_time = time.time()\n",
    "\n",
    "    num_frames += meta_logs[\"num_frames\"]\n",
    "    update += 1\n",
    "\n",
    "    # Print logs\n",
    "\n",
    "    if update % args.log_interval == 0:\n",
    "        fps = meta_logs[\"num_frames\"]/(update_end_time - update_start_time)\n",
    "        duration = int(time.time() - start_time)\n",
    "        return_per_episode = utils.synthesize(meta_logs[\"return_per_episode\"])\n",
    "        rreturn_per_episode = utils.synthesize(meta_logs[\"reshaped_return_per_episode\"])\n",
    "        num_frames_per_episode = utils.synthesize(meta_logs[\"num_frames_per_episode\"])\n",
    "\n",
    "        header = [\"update\", \"frames\", \"FPS\", \"duration\"]\n",
    "        data = [update, num_frames, fps, duration]\n",
    "        header += [\"rreturn_\" + key for key in rreturn_per_episode.keys()]\n",
    "        data += rreturn_per_episode.values()\n",
    "        header += [\"num_frames_\" + key for key in num_frames_per_episode.keys()]\n",
    "        data += num_frames_per_episode.values()\n",
    "        header += [\"entropy\", \"value\", \"policy_loss\", \"value_loss\", \"grad_norm\"]\n",
    "        data += [meta_logs[\"entropy\"], meta_logs[\"value\"], meta_logs[\"policy_loss\"], meta_logs[\"value_loss\"], meta_logs[\"grad_norm\"]]\n",
    "\n",
    "        txt_logger.info(\n",
    "            \"U {} | F {:06} | FPS {:04.0f} | D {} | rR:μσmM {:.2f} {:.2f} {:.2f} {:.2f} | F:μσmM {:.1f} {:.1f} {} {} | H {:.3f} | V {:.3f} | pL {:.3f} | vL {:.3f} | ∇ {:.3f}\"\n",
    "            .format(*data))\n",
    "\n",
    "        header += [\"return_\" + key for key in return_per_episode.keys()]\n",
    "        data += return_per_episode.values()\n",
    "\n",
    "        if status[\"num_frames\"] == 0:\n",
    "            csv_logger.writerow(header)\n",
    "        csv_logger.writerow(data)\n",
    "        csv_file.flush()\n",
    "\n",
    "        for field, value in zip(header, data):\n",
    "            tb_writer.add_scalar(field, value, num_frames)\n",
    "\n",
    "    # Save status\n",
    "\n",
    "    if args.save_interval > 0 and update % args.save_interval == 0:\n",
    "        status = {\"num_frames\": num_frames, \"update\": update,\n",
    "                  \"model_state\": acmodel.state_dict(), \"optimizer_state\": algo.optimizer.state_dict()}\n",
    "        if hasattr(preprocess_obss, \"vocab\"):\n",
    "            status[\"vocab\"] = preprocess_obss.vocab.vocab\n",
    "        utils.save_status(status, model_dir)\n",
    "        txt_logger.info(\"Status saved\")\n",
    "# STEP 10"
   ]
  },
  {
   "cell_type": "markdown",
   "metadata": {},
   "source": [
    "### Training"
   ]
  },
  {
   "cell_type": "code",
   "execution_count": null,
   "metadata": {},
   "outputs": [],
   "source": [
    "# run just once to have initial grads in all parameters and avoid backward error on first pass\n",
    "exps, _ = algo.collect_experiences()\n",
    "algo.update_parameters(exps)\n",
    "\n",
    "while num_frames < args.frames: # STEP 2\n",
    "\n",
    "    update_start_time = time.time()\n",
    "\n",
    "    # Sample batch of tasks: STEP 3\n",
    "    tasks_batch = sample_tasks(n_tasks=num_tasks)\n",
    "\n",
    "    for i, task in enumerate(tasks_batch):\n",
    "\n",
    "        algo.env = change_multienv_seed(algo.env, seed=task)\n",
    "        #algo.env = make_envs(args.env, args.procs, seed=task)\n",
    "        # Sample pre-trajectories from each task: STEP 4\n",
    "        pre_exps, pre_logs1 = algo.collect_experiences()\n",
    "         # Unfreeze inner loop params so they can get updated in the inner loop\n",
    "        set_freeze_status(algo.acmodel, inner_params, freeze=False)\n",
    "        # Freeze outer loop parameters, so those grads will be zero in update\n",
    "        set_freeze_status(algo.acmodel, outer_params, freeze=True)\n",
    "        # set inner recurence\n",
    "        algo.recurrence = inner_recurrence\n",
    "        # Update parameters: STEP 6\n",
    "        algo.update_parameters(pre_exps)\n",
    "        # Sample post-trajectories t_i from tasks T_i: STEP 7\n",
    "        post_exps, post_logs1 = algo.collect_experiences()\n",
    "        # Concatenate to get D_meta: STEP 8\n",
    "        meta_exps = post_exps if i==0 else cat_exps(meta_exps, post_exps)\n",
    "        meta_exps = DictList(meta_exps)\n",
    "        meta_exps.obs = DictList(meta_exps.obs)\n",
    "        meta_logs1 = post_logs1 if i==0 else cat_logs(meta_logs1, post_logs1)\n",
    "\n",
    "    # Unfreeze outer loop params so they can get updated in the outer loop\n",
    "    set_freeze_status(algo.acmodel, outer_params, freeze=False)\n",
    "    # Freeze inner loop params \n",
    "    set_freeze_status(algo.acmodel, inner_params, freeze=True)   \n",
    "    \n",
    "    # set outer recurence\n",
    "    algo.recurrence = outer_recurrence\n",
    "\n",
    "    # Update parameters while keeping inner parametes (module and policy) frozen: STEP 9\n",
    "    meta_logs2 = algo.update_parameters(meta_exps)\n",
    "\n",
    "    meta_logs = {**meta_logs1, **meta_logs2}\n",
    "    update_end_time = time.time()\n",
    "\n",
    "    num_frames += meta_logs[\"num_frames\"]\n",
    "    update += 1    \n",
    "    \n",
    "    # Print logs\n",
    "\n",
    "    if update % args.log_interval == 0:\n",
    "        fps = meta_logs[\"num_frames\"]/(update_end_time - update_start_time)\n",
    "        duration = int(time.time() - start_time)\n",
    "        return_per_episode = utils.synthesize(meta_logs[\"return_per_episode\"])\n",
    "        rreturn_per_episode = utils.synthesize(meta_logs[\"reshaped_return_per_episode\"])\n",
    "        num_frames_per_episode = utils.synthesize(meta_logs[\"num_frames_per_episode\"])\n",
    "\n",
    "        header = [\"update\", \"frames\", \"FPS\", \"duration\"]\n",
    "        data = [update, num_frames, fps, duration]\n",
    "        header += [\"rreturn_\" + key for key in rreturn_per_episode.keys()]\n",
    "        data += rreturn_per_episode.values()\n",
    "        header += [\"num_frames_\" + key for key in num_frames_per_episode.keys()]\n",
    "        data += num_frames_per_episode.values()\n",
    "        header += [\"entropy\", \"value\", \"policy_loss\", \"value_loss\", \"grad_norm\"]\n",
    "        data += [meta_logs[\"entropy\"], meta_logs[\"value\"], meta_logs[\"policy_loss\"], meta_logs[\"value_loss\"], meta_logs[\"grad_norm\"]]\n",
    "\n",
    "        txt_logger.info(\n",
    "            \"U {} | F {:06} | FPS {:04.0f} | D {} | rR:μσmM {:.2f} {:.2f} {:.2f} {:.2f} | F:μσmM {:.1f} {:.1f} {} {} | H {:.3f} | V {:.3f} | pL {:.3f} | vL {:.3f} | ∇ {:.3f}\"\n",
    "            .format(*data))\n",
    "\n",
    "        header += [\"return_\" + key for key in return_per_episode.keys()]\n",
    "        data += return_per_episode.values()\n",
    "\n",
    "        if status[\"num_frames\"] == 0:\n",
    "            csv_logger.writerow(header)\n",
    "        csv_logger.writerow(data)\n",
    "        csv_file.flush()\n",
    "\n",
    "        for field, value in zip(header, data):\n",
    "            tb_writer.add_scalar(field, value, num_frames)\n",
    "\n",
    "    # Save status\n",
    "\n",
    "    if args.save_interval > 0 and update % args.save_interval == 0:\n",
    "        status = {\"num_frames\": num_frames, \"update\": update,\n",
    "                  \"model_state\": acmodel.state_dict(), \"optimizer_state\": algo.optimizer.state_dict()}\n",
    "        if hasattr(preprocess_obss, \"vocab\"):\n",
    "            status[\"vocab\"] = preprocess_obss.vocab.vocab\n",
    "        utils.save_status(status, model_dir)\n",
    "        txt_logger.info(\"Status saved\")\n",
    "# STEP 10"
   ]
  },
  {
   "cell_type": "markdown",
   "metadata": {},
   "source": [
    "## Evaluation"
   ]
  },
  {
   "cell_type": "markdown",
   "metadata": {},
   "source": [
    "### Load parameters"
   ]
  },
  {
   "cell_type": "code",
   "execution_count": null,
   "metadata": {},
   "outputs": [],
   "source": [
    "from torch_ac.utils.penv import ParallelEnv\n",
    "\n",
    "#env_id = 'MiniGrid-Empty-Random-6x6-v0'\n",
    "env_id = 'MiniGrid-DoorKey-6x6-v0'\n",
    "#env_id = 'MiniGrid-Empty-8x8-v0'\n",
    "args.env = env_id\n",
    "model = 'MiniGrid-DoorKey-6x6-v0_meta_RIM_5_3_frames_500k_tasks_2_recur_64_16_proc_16_RMSProp_lr_7e4_gae_099_newloop_changeseed'\n",
    "## Hyper-parameters\n",
    "args = {\n",
    "# General parameters\n",
    "'env':args.env,\n",
    "'model':model,\n",
    "#'model':'MiniGrid-Empty-Random-6x6-v0_meta_RIM_4_2_200k_test_2',\n",
    "'episodes':100,\n",
    "'seed':2,\n",
    "'procs':16,\n",
    "'argmax':False,\n",
    "'worst_episodes_to_show':10,\n",
    "'use_rim':args.use_rim,\n",
    "'num_units':args.num_units,\n",
    "'k':args.k\n",
    "#'num_units':4,\n",
    "#'k':2\n",
    "}\n",
    "\n",
    "args = DictList(args)\n",
    "print(args)\n",
    "\n",
    "# Set seed for all randomness sources\n",
    "\n",
    "utils.seed(args.seed)\n",
    "\n",
    "# Set device\n",
    "\n",
    "device = torch.device(\"cuda\" if torch.cuda.is_available() else \"cpu\")\n",
    "print(f\"Device: {device}\\n\")"
   ]
  },
  {
   "cell_type": "markdown",
   "metadata": {},
   "source": [
    "### Set environments, agent and logs"
   ]
  },
  {
   "cell_type": "code",
   "execution_count": null,
   "metadata": {},
   "outputs": [],
   "source": [
    "# Load environments\n",
    "\n",
    "envs = []\n",
    "for i in range(args.procs):\n",
    "    env = utils.make_env(args.env, args.seed + 10000 * i)\n",
    "    envs.append(env)\n",
    "env = ParallelEnv(envs)\n",
    "print(\"Environments loaded\\n\")\n",
    "\n",
    "# Load agent\n",
    "\n",
    "model_dir = utils.get_model_dir(args.model)\n",
    "agent = utils.Agent(env.observation_space, env.action_space, model_dir, device, args.argmax, args.procs, args.use_rim, args.num_units, args.k)\n",
    "print(\"Agent loaded\\n\")\n",
    "\n",
    "# Initialize logs\n",
    "\n",
    "logs = {\"num_frames_per_episode\": [], \"return_per_episode\": []}"
   ]
  },
  {
   "cell_type": "markdown",
   "metadata": {},
   "source": [
    "### Run agent"
   ]
  },
  {
   "cell_type": "code",
   "execution_count": null,
   "metadata": {},
   "outputs": [],
   "source": [
    "# Run agent\n",
    "\n",
    "start_time = time.time()\n",
    "\n",
    "obss = env.reset()\n",
    "\n",
    "log_done_counter = 0\n",
    "log_episode_return = torch.zeros(args.procs, device=device)\n",
    "log_episode_num_frames = torch.zeros(args.procs, device=device)\n",
    "\n",
    "while log_done_counter < args.episodes:\n",
    "    actions = agent.get_actions(obss)\n",
    "    obss, rewards, dones, _ = env.step(actions)\n",
    "    agent.analyze_feedbacks(rewards, dones)\n",
    "\n",
    "    log_episode_return += torch.tensor(rewards, device=device, dtype=torch.float)\n",
    "    log_episode_num_frames += torch.ones(args.procs, device=device)\n",
    "\n",
    "    for i, done in enumerate(dones):\n",
    "        if done:\n",
    "            log_done_counter += 1\n",
    "            logs[\"return_per_episode\"].append(log_episode_return[i].item())\n",
    "            logs[\"num_frames_per_episode\"].append(log_episode_num_frames[i].item())\n",
    "\n",
    "    mask = 1 - torch.tensor(dones, device=device, dtype=torch.float)\n",
    "    log_episode_return *= mask\n",
    "    log_episode_num_frames *= mask\n",
    "\n",
    "end_time = time.time()\n",
    "print(\"Agent run completed\\n\")"
   ]
  },
  {
   "cell_type": "markdown",
   "metadata": {},
   "source": [
    "### Print logs and results"
   ]
  },
  {
   "cell_type": "code",
   "execution_count": null,
   "metadata": {},
   "outputs": [],
   "source": [
    "# Print logs\n",
    "\n",
    "num_frames = sum(logs[\"num_frames_per_episode\"])\n",
    "fps = num_frames/(end_time - start_time)\n",
    "duration = int(end_time - start_time)\n",
    "return_per_episode = utils.synthesize(logs[\"return_per_episode\"])\n",
    "num_frames_per_episode = utils.synthesize(logs[\"num_frames_per_episode\"])\n",
    "\n",
    "print(\"F {} | FPS {:.0f} | D {} | R:μσmM {:.2f} {:.2f} {:.2f} {:.2f} | F:μσmM {:.1f} {:.1f} {} {}\"\n",
    "      .format(num_frames, fps, duration,\n",
    "              *return_per_episode.values(),\n",
    "              *num_frames_per_episode.values()))\n",
    "\n",
    "# Print worst episodes\n",
    "\n",
    "n = args.worst_episodes_to_show\n",
    "if n > 0:\n",
    "    print(\"\\n{} worst episodes:\".format(n))\n",
    "\n",
    "    indexes = sorted(range(len(logs[\"return_per_episode\"])), key=lambda k: logs[\"return_per_episode\"][k])\n",
    "    for i in indexes[:n]:\n",
    "        print(\"- episode {}: R={}, F={}\".format(i, logs[\"return_per_episode\"][i], logs[\"num_frames_per_episode\"][i]))"
   ]
  },
  {
   "cell_type": "markdown",
   "metadata": {},
   "source": [
    "## Visualization"
   ]
  },
  {
   "cell_type": "markdown",
   "metadata": {},
   "source": [
    "### Load parameters"
   ]
  },
  {
   "cell_type": "code",
   "execution_count": null,
   "metadata": {},
   "outputs": [],
   "source": [
    "import array2gif\n",
    "from pathlib import Path\n",
    "import numpy\n",
    "\n",
    "## Hyper-parameters\n",
    "args = {\n",
    "# General parameters\n",
    "'env':args.env,\n",
    "'model':args.model,\n",
    "'seed':15,\n",
    "'shift':0,\n",
    "'argmax':False,\n",
    "'pause':0.1,\n",
    "'gif':args.model,\n",
    "'episodes':5,\n",
    "# Model Parameters\n",
    "'use_rim':args.use_rim,\n",
    "'num_units':args.num_units,\n",
    "'k':args.k\n",
    "}\n",
    "\n",
    "args = DictList(args)\n",
    "print(args)"
   ]
  },
  {
   "cell_type": "markdown",
   "metadata": {},
   "source": [
    "### Set environment, agent and logs"
   ]
  },
  {
   "cell_type": "code",
   "execution_count": null,
   "metadata": {},
   "outputs": [],
   "source": [
    "# Set seed for all randomness sources\n",
    "\n",
    "utils.seed(args.seed)\n",
    "\n",
    "# Set device\n",
    "\n",
    "device = torch.device(\"cuda\" if torch.cuda.is_available() else \"cpu\")\n",
    "print(f\"Device: {device}\\n\")\n",
    "\n",
    "# Load environment\n",
    "\n",
    "env = utils.make_env(args.env, args.seed)\n",
    "for _ in range(args.shift):\n",
    "    env.reset()\n",
    "print(\"Environment loaded\\n\")\n",
    "\n",
    "# Load agent\n",
    "\n",
    "model_dir = utils.get_model_dir(args.model)\n",
    "agent = utils.Agent(env.observation_space, env.action_space, model_dir, device, args.argmax, use_rim = args.use_rim, num_units = args.num_units, k = args.k)\n",
    "\n",
    "print(\"Agent loaded\\n\")"
   ]
  },
  {
   "cell_type": "markdown",
   "metadata": {},
   "source": [
    "### Make animation"
   ]
  },
  {
   "cell_type": "code",
   "execution_count": null,
   "metadata": {},
   "outputs": [],
   "source": [
    "%%capture\n",
    "# Run the agent\n",
    "\n",
    "if args.gif:\n",
    "   from array2gif import write_gif\n",
    "   frames = []\n",
    "\n",
    "# Create a window to view the environment\n",
    "env.render('human')\n",
    "\n",
    "for episode in range(args.episodes):\n",
    "    obs = env.reset()\n",
    "    done2 = False\n",
    "    while True:\n",
    "        env.render('human')\n",
    "        if args.gif:\n",
    "            frames.append(numpy.moveaxis(env.render(\"rgb_array\"), 2, 0))\n",
    "            \n",
    "\n",
    "        action = agent.get_action(obs)\n",
    "        obs, reward, done, _ = env.step(action)\n",
    "        agent.analyze_feedback(reward, done)\n",
    "        \n",
    "        if done or env.window.closed:\n",
    "            if episode == 4:\n",
    "                done2 = True\n",
    "            break\n",
    "    if done2 == True:\n",
    "        env.close()\n",
    "        break\n",
    "    #if env.window.closed:\n",
    "    #    break\n",
    "print('doneeee')\n",
    "if args.gif:\n",
    "    print(\"Saving gif... \", end=\"\")\n",
    "    utils.create_folders_if_necessary(\"./animation\")\n",
    "    #Path(\"./animation\").mkdir(parents=True, exist_ok=True)\n",
    "    write_gif(numpy.array(frames), \"./animation/\"+args.gif+\".gif\")\n",
    "    print(\"Done.\")"
   ]
  },
  {
   "cell_type": "code",
   "execution_count": null,
   "metadata": {},
   "outputs": [],
   "source": [
    "show_animation(args.model)"
   ]
  },
  {
   "cell_type": "markdown",
   "metadata": {},
   "source": [
    "### Make video"
   ]
  },
  {
   "cell_type": "code",
   "execution_count": null,
   "metadata": {},
   "outputs": [],
   "source": [
    "test_env = wrap_env(env)\n",
    "observation = test_env.reset()\n",
    "\n",
    "done = False\n",
    "episode_reward = 0\n",
    "episode_length = 0\n",
    "\n",
    "while not done:\n",
    "    action = agent.get_action(observation)\n",
    "    observation, reward, done, info = test_env.step(action)\n",
    "    episode_reward += reward\n",
    "    episode_length += 1\n",
    "\n",
    "print('Total reward:', episode_reward)\n",
    "print('Total length:', episode_length)\n",
    "\n",
    "test_env.close()\n",
    "show_video()"
   ]
  },
  {
   "cell_type": "markdown",
   "metadata": {},
   "source": [
    "# meta-RIMs Zero-shot test"
   ]
  },
  {
   "cell_type": "markdown",
   "metadata": {},
   "source": [
    "## Evaluation"
   ]
  },
  {
   "cell_type": "markdown",
   "metadata": {},
   "source": [
    "### Load parameters"
   ]
  },
  {
   "cell_type": "code",
   "execution_count": null,
   "metadata": {},
   "outputs": [],
   "source": [
    "from torch_ac.utils.penv import ParallelEnv\n",
    "\n",
    "env_id = 'MiniGrid-Empty-8x8-v0'\n",
    "\n",
    "## Hyper-parameters\n",
    "args = {\n",
    "# General parameters\n",
    "'env':env_id,\n",
    "'model':args.model,\n",
    "'episodes':100,\n",
    "'seed':10,\n",
    "'procs':16,\n",
    "'argmax':False,\n",
    "'worst_episodes_to_show':10,\n",
    "'use_rim':args.use_rim,\n",
    "'num_units':args.num_units,\n",
    "'k':args.k\n",
    "}\n",
    "\n",
    "args = DictList(args)\n",
    "print(args)"
   ]
  },
  {
   "cell_type": "markdown",
   "metadata": {},
   "source": [
    "### Set agent and test environments"
   ]
  },
  {
   "cell_type": "code",
   "execution_count": null,
   "metadata": {},
   "outputs": [],
   "source": [
    "# Set seed for all randomness sources\n",
    "\n",
    "utils.seed(args.seed)\n",
    "\n",
    "# Set device\n",
    "\n",
    "device = torch.device(\"cuda\" if torch.cuda.is_available() else \"cpu\")\n",
    "print(f\"Device: {device}\\n\")\n",
    "\n",
    "# Load environments\n",
    "\n",
    "envs = []\n",
    "for i in range(args.procs):\n",
    "    env = utils.make_env(args.env, args.seed + 10000 * i)\n",
    "    envs.append(env)\n",
    "env = ParallelEnv(envs)\n",
    "print(\"Environments loaded\\n\")\n",
    "\n",
    "# Load agent\n",
    "\n",
    "model_dir = utils.get_model_dir(args.model)\n",
    "agent = utils.Agent(env.observation_space, env.action_space, model_dir, device, args.argmax, args.procs, args.use_rim, args.num_units, args.k)\n",
    "print(\"Agent loaded\\n\")\n",
    "\n",
    "# Initialize logs\n",
    "\n",
    "logs = {\"num_frames_per_episode\": [], \"return_per_episode\": []}"
   ]
  },
  {
   "cell_type": "markdown",
   "metadata": {},
   "source": [
    "### Run agent"
   ]
  },
  {
   "cell_type": "code",
   "execution_count": null,
   "metadata": {},
   "outputs": [],
   "source": [
    "# Run agent\n",
    "\n",
    "start_time = time.time()\n",
    "\n",
    "obss = env.reset()\n",
    "\n",
    "log_done_counter = 0\n",
    "log_episode_return = torch.zeros(args.procs, device=device)\n",
    "log_episode_num_frames = torch.zeros(args.procs, device=device)\n",
    "\n",
    "while log_done_counter < args.episodes:\n",
    "    actions = agent.get_actions(obss)\n",
    "    obss, rewards, dones, _ = env.step(actions)\n",
    "    agent.analyze_feedbacks(rewards, dones)\n",
    "\n",
    "    log_episode_return += torch.tensor(rewards, device=device, dtype=torch.float)\n",
    "    log_episode_num_frames += torch.ones(args.procs, device=device)\n",
    "\n",
    "    for i, done in enumerate(dones):\n",
    "        if done:\n",
    "            log_done_counter += 1\n",
    "            logs[\"return_per_episode\"].append(log_episode_return[i].item())\n",
    "            logs[\"num_frames_per_episode\"].append(log_episode_num_frames[i].item())\n",
    "\n",
    "    mask = 1 - torch.tensor(dones, device=device, dtype=torch.float)\n",
    "    log_episode_return *= mask\n",
    "    log_episode_num_frames *= mask\n",
    "\n",
    "end_time = time.time()\n",
    "print(\"Agent run completed\\n\")"
   ]
  },
  {
   "cell_type": "markdown",
   "metadata": {},
   "source": [
    "### Print logs and results"
   ]
  },
  {
   "cell_type": "code",
   "execution_count": null,
   "metadata": {},
   "outputs": [],
   "source": [
    "# Print logs\n",
    "\n",
    "num_frames = sum(logs[\"num_frames_per_episode\"])\n",
    "fps = num_frames/(end_time - start_time)\n",
    "duration = int(end_time - start_time)\n",
    "return_per_episode = utils.synthesize(logs[\"return_per_episode\"])\n",
    "num_frames_per_episode = utils.synthesize(logs[\"num_frames_per_episode\"])\n",
    "\n",
    "print(\"F {} | FPS {:.0f} | D {} | R:μσmM {:.2f} {:.2f} {:.2f} {:.2f} | F:μσmM {:.1f} {:.1f} {} {}\"\n",
    "      .format(num_frames, fps, duration,\n",
    "              *return_per_episode.values(),\n",
    "              *num_frames_per_episode.values()))\n",
    "\n",
    "# Print worst episodes\n",
    "\n",
    "n = args.worst_episodes_to_show\n",
    "if n > 0:\n",
    "    print(\"\\n{} worst episodes:\".format(n))\n",
    "\n",
    "    indexes = sorted(range(len(logs[\"return_per_episode\"])), key=lambda k: logs[\"return_per_episode\"][k])\n",
    "    for i in indexes[:n]:\n",
    "        print(\"- episode {}: R={}, F={}\".format(i, logs[\"return_per_episode\"][i], logs[\"num_frames_per_episode\"][i]))"
   ]
  },
  {
   "cell_type": "markdown",
   "metadata": {},
   "source": [
    "# Continue meta-RIMs learning on 2nd environment"
   ]
  },
  {
   "cell_type": "markdown",
   "metadata": {},
   "source": [
    "## Configuration"
   ]
  },
  {
   "cell_type": "markdown",
   "metadata": {},
   "source": [
    "### Set general parameters"
   ]
  },
  {
   "cell_type": "code",
   "execution_count": null,
   "metadata": {},
   "outputs": [],
   "source": [
    "#env_id = 'MiniGrid-Empty-8x8-v0'\n",
    "env_id = 'MiniGrid-LavaGapS5-v0'\n",
    "#env_id = 'MiniGrid-DoorKey-5x5-v0'\n",
    "#env_id = 'MiniGrid-DoorKey-6x6-v0'\n",
    "#env_id = 'MiniGrid-Empty-Random-6x6-v0'\n",
    "#env_id = 'MiniGrid-Empty-5x5-v0'\n",
    "\n",
    "#model = 'MiniGrid-DoorKey-6x6-v0_meta_RIM_5_3_frames_500k_tasks_2_recur_64_16_proc_16_RMSProp_lr_7e4_gae_099_newloop_changeseed'\n",
    "\n",
    "add_frames = 500000\n",
    "total_frames = args.frames + add_frames\n",
    "\n",
    "## Hyper-parameters\n",
    "args = {\n",
    "# General parameters\n",
    "'algo':'ppo',\n",
    "'env':env_id,\n",
    "'model':model,\n",
    "'seed':1,\n",
    "'log_interval':1,\n",
    "'save_interval':10,\n",
    "'procs':16,\n",
    "'frames':total_frames, # default 1e7\n",
    "# Parameters for main algorithm\n",
    "'epochs':4,\n",
    "'batch_size':256,\n",
    "'frames_per_proc':128, # 128 for PPO and 5 per A2C\n",
    "'discount':0.99,\n",
    "#'lr':0.0001, # for Adam\n",
    "'lr':0.0007, # for RMSProp\n",
    "#'gae_lambda':0.95, # 1 means no gae, for Adam\n",
    "'gae_lambda':0.99, # 1 means no gae, for RMSProp\n",
    "'entropy_coef':0.01,\n",
    "'value_loss_coef':0.5,\n",
    "'max_grad_norm':0.5,\n",
    "'optim_eps':1e-8,\n",
    "'optim_alpha':0.99,\n",
    "'clip_eps':0.2,\n",
    "'recurrence':32, # if > 1, a LSTM is added\n",
    "'text':False, # add a GRU for text input\n",
    "# Model Parameters\n",
    "'use_rim':True # action = 'store_true'\n",
    "}\n",
    "\n",
    "#args = utils.dotdict(args)\n",
    "args = DictList(args)\n",
    "\n",
    "args.mem = args.recurrence > 1\n",
    "\n",
    "# RIM specific hyperparameters\n",
    "if args.use_rim:\n",
    "    args.num_units = 5\n",
    "    args.k = 3\n",
    "\n",
    "# meta-learn parameters\n",
    "#lr_alpha = 0.0001 # inner loop lr - Adam\n",
    "#lr_beta = 0.0001 # outer loop lr - Adam\n",
    "lr_alpha = 0.0007 # RMSProp\n",
    "lr_beta = 0.0007 # RMSProp\n",
    "inner_recurrence = 16\n",
    "outer_recurrence = 64 # 4x inner_recurrence\n",
    "num_tasks = 2"
   ]
  },
  {
   "cell_type": "markdown",
   "metadata": {},
   "source": [
    "### Load previous loggers and settings"
   ]
  },
  {
   "cell_type": "code",
   "execution_count": null,
   "metadata": {},
   "outputs": [],
   "source": [
    "date = datetime.datetime.now().strftime(\"%y-%m-%d-%H-%M-%S\")\n",
    "default_model_name = f\"{args.env}_{args.algo}_seed{args.seed}_{date}\"\n",
    "\n",
    "model_name = args.model or default_model_name\n",
    "model_dir = utils.get_model_dir(model_name)\n",
    "\n",
    "# Load loggers and Tensorboard writer\n",
    "\n",
    "txt_logger = utils.get_txt_logger(model_dir)\n",
    "csv_file, csv_logger = utils.get_csv_logger(model_dir)\n",
    "tb_writer = tensorboardX.SummaryWriter(model_dir)\n",
    "\n",
    "# Log command and all script arguments\n",
    "\n",
    "#txt_logger.info(\"{}\\n\".format(\" \".join(sys.argv)))\n",
    "txt_logger.info(\"{}\\n\".format(args))\n",
    "\n",
    "# Set seed for all randomness sources\n",
    "\n",
    "utils.seed(args.seed)\n",
    "\n",
    "# Set device\n",
    "\n",
    "device = torch.device(\"cuda\" if torch.cuda.is_available() else \"cpu\")\n",
    "txt_logger.info(f\"Device: {device}\\n\")"
   ]
  },
  {
   "cell_type": "markdown",
   "metadata": {},
   "source": [
    "### Load existing environments, model and training status"
   ]
  },
  {
   "cell_type": "code",
   "execution_count": null,
   "metadata": {},
   "outputs": [],
   "source": [
    "# Load environments\n",
    "\n",
    "envs = []\n",
    "for i in range(args.procs):\n",
    "    envs.append(utils.make_env(args.env, args.seed + 10000 * i))\n",
    "txt_logger.info(\"Environments loaded\\n\")\n",
    "\n",
    "# Load training status\n",
    "\n",
    "try:\n",
    "    status = utils.get_status(model_dir)\n",
    "except OSError:\n",
    "    status = {\"num_frames\": 0, \"update\": 0}\n",
    "txt_logger.info(\"Training status loaded\\n\")\n",
    "\n",
    "# Load observations preprocessor\n",
    "\n",
    "obs_space, preprocess_obss = utils.get_obss_preprocessor(envs[0].observation_space)\n",
    "if \"vocab\" in status:\n",
    "    preprocess_obss.vocab.load_vocab(status[\"vocab\"])\n",
    "txt_logger.info(\"Observations preprocessor loaded\")\n",
    "\n",
    "# Load model\n",
    "\n",
    "acmodel = ACModel(obs_space, envs[0].action_space, args.mem, args.text, args.use_rim, args.num_units, args.k)\n",
    "if \"model_state\" in status:\n",
    "    acmodel.load_state_dict(status[\"model_state\"])\n",
    "acmodel.to(device)\n",
    "txt_logger.info(\"Model loaded\\n\")\n",
    "txt_logger.info(\"{}\\n\".format(acmodel))\n",
    "\n",
    "# Load algo\n",
    "\n",
    "if args.algo == \"a2c\":\n",
    "    algo = torch_ac.A2CAlgo(envs, acmodel, device, args.frames_per_proc, args.discount, args.lr, args.gae_lambda,\n",
    "                            args.entropy_coef, args.value_loss_coef, args.max_grad_norm, args.recurrence,\n",
    "                            args.optim_alpha, args.optim_eps, preprocess_obss)\n",
    "elif args.algo == \"ppo\":\n",
    "    algo = torch_ac.PPOAlgo(envs, acmodel, device, args.frames_per_proc, args.discount, args.lr, args.gae_lambda,\n",
    "                            args.entropy_coef, args.value_loss_coef, args.max_grad_norm, args.recurrence,\n",
    "                            args.optim_eps, args.clip_eps, args.epochs, args.batch_size, preprocess_obss)\n",
    "else:\n",
    "    raise ValueError(\"Incorrect algorithm name: {}\".format(args.algo))\n",
    "\n",
    "# change to RMSProp optimizer\n",
    "algo.optimizer = torch.optim.RMSprop(algo.acmodel.parameters(), args.lr, eps=args.optim_eps)\n",
    "\n",
    "if \"optimizer_state\" in status:\n",
    "    algo.optimizer.load_state_dict(status[\"optimizer_state\"])\n",
    "txt_logger.info(\"Optimizer loaded\\n\")"
   ]
  },
  {
   "cell_type": "markdown",
   "metadata": {},
   "source": [
    "## Continue training"
   ]
  },
  {
   "cell_type": "code",
   "execution_count": null,
   "metadata": {},
   "outputs": [],
   "source": [
    "# Training loop\n",
    "\n",
    "num_frames = status[\"num_frames\"]\n",
    "update = status[\"update\"]\n",
    "start_time = time.time()\n",
    "\n",
    "# run just once to have initial grads in all parameters and avoid backward error on first pass\n",
    "exps, _ = algo.collect_experiences()\n",
    "algo.update_parameters(exps)\n",
    "\n",
    "while num_frames < args.frames: # STEP 2\n",
    "\n",
    "    update_start_time = time.time()\n",
    "\n",
    "    # # run just once to have initial grads in all parameters and avoid backward error on first pass\n",
    "    # exps, _ = algo.collect_experiences()\n",
    "    # algo.update_parameters(exps)\n",
    "\n",
    "    # Sample batch of tasks: STEP 3\n",
    "    tasks_batch = sample_tasks(n_tasks=num_tasks)\n",
    "\n",
    "    for i, task in enumerate(tasks_batch):\n",
    "\n",
    "        algo.env = change_multienv_seed(algo.env, seed=task)\n",
    "        #algo.env = make_envs(args.env, args.procs, seed=task)\n",
    "        # Sample pre-trajectories from each task: STEP 4\n",
    "        pre_exps, pre_logs1 = algo.collect_experiences()\n",
    "         # Unfreeze inner loop params so they can get updated in the inner loop\n",
    "        set_freeze_status(algo.acmodel, inner_params, freeze=False)\n",
    "        # Freeze outer loop parameters, so those grads will be zero in update\n",
    "        set_freeze_status(algo.acmodel, outer_params, freeze=True)\n",
    "        # set inner recurence\n",
    "        algo.recurrence = inner_recurrence\n",
    "        # Update parameters: STEP 6\n",
    "        algo.update_parameters(pre_exps)\n",
    "        # Sample post-trajectories t_i from tasks T_i: STEP 7\n",
    "        post_exps, post_logs1 = algo.collect_experiences()\n",
    "        # Concatenate to get D_meta: STEP 8\n",
    "        meta_exps = post_exps if i==0 else cat_exps(meta_exps, post_exps)\n",
    "        meta_exps = DictList(meta_exps)\n",
    "        meta_exps.obs = DictList(meta_exps.obs)\n",
    "        meta_logs1 = post_logs1 if i==0 else cat_logs(meta_logs1, post_logs1)\n",
    "\n",
    "    # Unfreeze outer loop params so they can get updated in the outer loop\n",
    "    set_freeze_status(algo.acmodel, outer_params, freeze=False)\n",
    "    # Freeze inner loop params \n",
    "    set_freeze_status(algo.acmodel, inner_params, freeze=True)   \n",
    "    \n",
    "    # set outer recurence\n",
    "    algo.recurrence = outer_recurrence\n",
    "\n",
    "    # Update parameters while keeping inner parametes (module and policy) frozen: STEP 9\n",
    "    meta_logs2 = algo.update_parameters(meta_exps)\n",
    "\n",
    "    meta_logs = {**meta_logs1, **meta_logs2}\n",
    "    update_end_time = time.time()\n",
    "\n",
    "    num_frames += meta_logs[\"num_frames\"]\n",
    "    update += 1    \n",
    "    \n",
    "    # Print logs\n",
    "\n",
    "    if update % args.log_interval == 0:\n",
    "        fps = meta_logs[\"num_frames\"]/(update_end_time - update_start_time)\n",
    "        duration = int(time.time() - start_time)\n",
    "        return_per_episode = utils.synthesize(meta_logs[\"return_per_episode\"])\n",
    "        rreturn_per_episode = utils.synthesize(meta_logs[\"reshaped_return_per_episode\"])\n",
    "        num_frames_per_episode = utils.synthesize(meta_logs[\"num_frames_per_episode\"])\n",
    "\n",
    "        header = [\"update\", \"frames\", \"FPS\", \"duration\"]\n",
    "        data = [update, num_frames, fps, duration]\n",
    "        header += [\"rreturn_\" + key for key in rreturn_per_episode.keys()]\n",
    "        data += rreturn_per_episode.values()\n",
    "        header += [\"num_frames_\" + key for key in num_frames_per_episode.keys()]\n",
    "        data += num_frames_per_episode.values()\n",
    "        header += [\"entropy\", \"value\", \"policy_loss\", \"value_loss\", \"grad_norm\"]\n",
    "        data += [meta_logs[\"entropy\"], meta_logs[\"value\"], meta_logs[\"policy_loss\"], meta_logs[\"value_loss\"], meta_logs[\"grad_norm\"]]\n",
    "\n",
    "        txt_logger.info(\n",
    "            \"U {} | F {:06} | FPS {:04.0f} | D {} | rR:μσmM {:.2f} {:.2f} {:.2f} {:.2f} | F:μσmM {:.1f} {:.1f} {} {} | H {:.3f} | V {:.3f} | pL {:.3f} | vL {:.3f} | ∇ {:.3f}\"\n",
    "            .format(*data))\n",
    "\n",
    "        header += [\"return_\" + key for key in return_per_episode.keys()]\n",
    "        data += return_per_episode.values()\n",
    "\n",
    "        if status[\"num_frames\"] == 0:\n",
    "            csv_logger.writerow(header)\n",
    "        csv_logger.writerow(data)\n",
    "        csv_file.flush()\n",
    "\n",
    "        for field, value in zip(header, data):\n",
    "            tb_writer.add_scalar(field, value, num_frames)\n",
    "\n",
    "    # Save status\n",
    "\n",
    "    if args.save_interval > 0 and update % args.save_interval == 0:\n",
    "        status = {\"num_frames\": num_frames, \"update\": update,\n",
    "                  \"model_state\": acmodel.state_dict(), \"optimizer_state\": algo.optimizer.state_dict()}\n",
    "        if hasattr(preprocess_obss, \"vocab\"):\n",
    "            status[\"vocab\"] = preprocess_obss.vocab.vocab\n",
    "        utils.save_status(status, model_dir)\n",
    "        txt_logger.info(\"Status saved\")\n",
    "# STEP 10"
   ]
  },
  {
   "cell_type": "markdown",
   "metadata": {},
   "source": [
    "## Evaluate 2nd environment"
   ]
  },
  {
   "cell_type": "markdown",
   "metadata": {},
   "source": [
    "### Load parameters"
   ]
  },
  {
   "cell_type": "code",
   "execution_count": null,
   "metadata": {},
   "outputs": [],
   "source": [
    "#env_id = 'MiniGrid-Empty-Random-6x6-v0'\n",
    "#env_id = 'MiniGrid-DoorKey-6x6-v0'\n",
    "#env_id = 'MiniGrid-Empty-8x8-v0'\n",
    "env_id = 'MiniGrid-LavaGapS5-v0'\n",
    "args.env = env_id\n",
    "\n",
    "## Hyper-parameters\n",
    "args = {\n",
    "# General parameters\n",
    "'env':args.env,\n",
    "'model':model,\n",
    "'episodes':100,\n",
    "'seed':2,\n",
    "'procs':16,\n",
    "'argmax':False,\n",
    "'worst_episodes_to_show':10,\n",
    "'use_rim':args.use_rim,\n",
    "'num_units':args.num_units,\n",
    "'k':args.k\n",
    "}\n",
    "\n",
    "args = DictList(args)\n",
    "print(args)\n",
    "\n",
    "# Set seed for all randomness sources\n",
    "\n",
    "utils.seed(args.seed)\n",
    "\n",
    "# Set device\n",
    "\n",
    "device = torch.device(\"cuda\" if torch.cuda.is_available() else \"cpu\")\n",
    "print(f\"Device: {device}\\n\")"
   ]
  },
  {
   "cell_type": "markdown",
   "metadata": {},
   "source": [
    "### Set environments, agent and logs"
   ]
  },
  {
   "cell_type": "code",
   "execution_count": null,
   "metadata": {},
   "outputs": [],
   "source": [
    "# Load environments\n",
    "\n",
    "envs = []\n",
    "for i in range(args.procs):\n",
    "    env = utils.make_env(args.env, args.seed + 10000 * i)\n",
    "    envs.append(env)\n",
    "env = ParallelEnv(envs)\n",
    "print(\"Environments loaded\\n\")\n",
    "\n",
    "# Load agent\n",
    "\n",
    "model_dir = utils.get_model_dir(args.model)\n",
    "agent = utils.Agent(env.observation_space, env.action_space, model_dir, device, args.argmax, args.procs, args.use_rim, args.num_units, args.k)\n",
    "print(\"Agent loaded\\n\")\n",
    "\n",
    "# Initialize logs\n",
    "\n",
    "logs = {\"num_frames_per_episode\": [], \"return_per_episode\": []}"
   ]
  },
  {
   "cell_type": "markdown",
   "metadata": {},
   "source": [
    "### Run agent"
   ]
  },
  {
   "cell_type": "code",
   "execution_count": null,
   "metadata": {},
   "outputs": [],
   "source": [
    "# Run agent\n",
    "\n",
    "start_time = time.time()\n",
    "\n",
    "obss = env.reset()\n",
    "\n",
    "log_done_counter = 0\n",
    "log_episode_return = torch.zeros(args.procs, device=device)\n",
    "log_episode_num_frames = torch.zeros(args.procs, device=device)\n",
    "\n",
    "while log_done_counter < args.episodes:\n",
    "    actions = agent.get_actions(obss)\n",
    "    obss, rewards, dones, _ = env.step(actions)\n",
    "    agent.analyze_feedbacks(rewards, dones)\n",
    "\n",
    "    log_episode_return += torch.tensor(rewards, device=device, dtype=torch.float)\n",
    "    log_episode_num_frames += torch.ones(args.procs, device=device)\n",
    "\n",
    "    for i, done in enumerate(dones):\n",
    "        if done:\n",
    "            log_done_counter += 1\n",
    "            logs[\"return_per_episode\"].append(log_episode_return[i].item())\n",
    "            logs[\"num_frames_per_episode\"].append(log_episode_num_frames[i].item())\n",
    "\n",
    "    mask = 1 - torch.tensor(dones, device=device, dtype=torch.float)\n",
    "    log_episode_return *= mask\n",
    "    log_episode_num_frames *= mask\n",
    "\n",
    "end_time = time.time()\n",
    "print(\"Agent run completed\\n\")"
   ]
  },
  {
   "cell_type": "markdown",
   "metadata": {},
   "source": [
    "### Print logs and results"
   ]
  },
  {
   "cell_type": "code",
   "execution_count": null,
   "metadata": {},
   "outputs": [],
   "source": [
    "# Print logs\n",
    "\n",
    "num_frames = sum(logs[\"num_frames_per_episode\"])\n",
    "fps = num_frames/(end_time - start_time)\n",
    "duration = int(end_time - start_time)\n",
    "return_per_episode = utils.synthesize(logs[\"return_per_episode\"])\n",
    "num_frames_per_episode = utils.synthesize(logs[\"num_frames_per_episode\"])\n",
    "\n",
    "print(\"F {} | FPS {:.0f} | D {} | R:μσmM {:.2f} {:.2f} {:.2f} {:.2f} | F:μσmM {:.1f} {:.1f} {} {}\"\n",
    "      .format(num_frames, fps, duration,\n",
    "              *return_per_episode.values(),\n",
    "              *num_frames_per_episode.values()))\n",
    "\n",
    "# Print worst episodes\n",
    "\n",
    "n = args.worst_episodes_to_show\n",
    "if n > 0:\n",
    "    print(\"\\n{} worst episodes:\".format(n))\n",
    "\n",
    "    indexes = sorted(range(len(logs[\"return_per_episode\"])), key=lambda k: logs[\"return_per_episode\"][k])\n",
    "    for i in indexes[:n]:\n",
    "        print(\"- episode {}: R={}, F={}\".format(i, logs[\"return_per_episode\"][i], logs[\"num_frames_per_episode\"][i]))"
   ]
  },
  {
   "cell_type": "markdown",
   "metadata": {},
   "source": [
    "# Re-evaluate 1st enviroment and test CF"
   ]
  },
  {
   "cell_type": "markdown",
   "metadata": {},
   "source": [
    "## Evaluation"
   ]
  },
  {
   "cell_type": "markdown",
   "metadata": {},
   "source": [
    "### Load parameters"
   ]
  },
  {
   "cell_type": "code",
   "execution_count": null,
   "metadata": {},
   "outputs": [],
   "source": [
    "#env_id = 'MiniGrid-Empty-Random-6x6-v0'\n",
    "env_id = 'MiniGrid-DoorKey-6x6-v0'\n",
    "#env_id = 'MiniGrid-Empty-8x8-v0'\n",
    "#env_id = 'MiniGrid-LavaGapS5-v0'\n",
    "args.env = env_id\n",
    "\n",
    "\n",
    "## Hyper-parameters\n",
    "args = {\n",
    "# General parameters\n",
    "'env':args.env,\n",
    "'model':model,\n",
    "'episodes':100,\n",
    "'seed':2,\n",
    "'procs':16,\n",
    "'argmax':False,\n",
    "'worst_episodes_to_show':10,\n",
    "'use_rim':args.use_rim,\n",
    "'num_units':args.num_units,\n",
    "'k':args.k\n",
    "}\n",
    "\n",
    "args = DictList(args)\n",
    "print(args)\n",
    "\n",
    "# Set seed for all randomness sources\n",
    "\n",
    "utils.seed(args.seed)\n",
    "\n",
    "# Set device\n",
    "\n",
    "device = torch.device(\"cuda\" if torch.cuda.is_available() else \"cpu\")\n",
    "print(f\"Device: {device}\\n\")"
   ]
  },
  {
   "cell_type": "markdown",
   "metadata": {},
   "source": [
    "### Set environments, agent and logs"
   ]
  },
  {
   "cell_type": "code",
   "execution_count": null,
   "metadata": {},
   "outputs": [],
   "source": [
    "# Load environments\n",
    "\n",
    "envs = []\n",
    "for i in range(args.procs):\n",
    "    env = utils.make_env(args.env, args.seed + 10000 * i)\n",
    "    envs.append(env)\n",
    "env = ParallelEnv(envs)\n",
    "print(\"Environments loaded\\n\")\n",
    "\n",
    "# Load agent\n",
    "\n",
    "model_dir = utils.get_model_dir(args.model)\n",
    "agent = utils.Agent(env.observation_space, env.action_space, model_dir, device, args.argmax, args.procs, args.use_rim, args.num_units, args.k)\n",
    "print(\"Agent loaded\\n\")\n",
    "\n",
    "# Initialize logs\n",
    "\n",
    "logs = {\"num_frames_per_episode\": [], \"return_per_episode\": []}"
   ]
  },
  {
   "cell_type": "markdown",
   "metadata": {},
   "source": [
    "### Run agent"
   ]
  },
  {
   "cell_type": "code",
   "execution_count": null,
   "metadata": {},
   "outputs": [],
   "source": [
    "# Run agent\n",
    "\n",
    "start_time = time.time()\n",
    "\n",
    "obss = env.reset()\n",
    "\n",
    "log_done_counter = 0\n",
    "log_episode_return = torch.zeros(args.procs, device=device)\n",
    "log_episode_num_frames = torch.zeros(args.procs, device=device)\n",
    "\n",
    "while log_done_counter < args.episodes:\n",
    "    actions = agent.get_actions(obss)\n",
    "    obss, rewards, dones, _ = env.step(actions)\n",
    "    agent.analyze_feedbacks(rewards, dones)\n",
    "\n",
    "    log_episode_return += torch.tensor(rewards, device=device, dtype=torch.float)\n",
    "    log_episode_num_frames += torch.ones(args.procs, device=device)\n",
    "\n",
    "    for i, done in enumerate(dones):\n",
    "        if done:\n",
    "            log_done_counter += 1\n",
    "            logs[\"return_per_episode\"].append(log_episode_return[i].item())\n",
    "            logs[\"num_frames_per_episode\"].append(log_episode_num_frames[i].item())\n",
    "\n",
    "    mask = 1 - torch.tensor(dones, device=device, dtype=torch.float)\n",
    "    log_episode_return *= mask\n",
    "    log_episode_num_frames *= mask\n",
    "\n",
    "end_time = time.time()\n",
    "print(\"Agent run completed\\n\")"
   ]
  },
  {
   "cell_type": "markdown",
   "metadata": {},
   "source": [
    "### Print logs and results"
   ]
  },
  {
   "cell_type": "code",
   "execution_count": null,
   "metadata": {},
   "outputs": [],
   "source": [
    "# Print logs\n",
    "\n",
    "num_frames = sum(logs[\"num_frames_per_episode\"])\n",
    "fps = num_frames/(end_time - start_time)\n",
    "duration = int(end_time - start_time)\n",
    "return_per_episode = utils.synthesize(logs[\"return_per_episode\"])\n",
    "num_frames_per_episode = utils.synthesize(logs[\"num_frames_per_episode\"])\n",
    "\n",
    "print(\"F {} | FPS {:.0f} | D {} | R:μσmM {:.2f} {:.2f} {:.2f} {:.2f} | F:μσmM {:.1f} {:.1f} {} {}\"\n",
    "      .format(num_frames, fps, duration,\n",
    "              *return_per_episode.values(),\n",
    "              *num_frames_per_episode.values()))\n",
    "\n",
    "# Print worst episodes\n",
    "\n",
    "n = args.worst_episodes_to_show\n",
    "if n > 0:\n",
    "    print(\"\\n{} worst episodes:\".format(n))\n",
    "\n",
    "    indexes = sorted(range(len(logs[\"return_per_episode\"])), key=lambda k: logs[\"return_per_episode\"][k])\n",
    "    for i in indexes[:n]:\n",
    "        print(\"- episode {}: R={}, F={}\".format(i, logs[\"return_per_episode\"][i], logs[\"num_frames_per_episode\"][i]))"
   ]
  }
 ],
 "metadata": {
  "accelerator": "GPU",
  "colab": {
   "name": "test_minigrid_sb3_curriculum.ipynb",
   "provenance": []
  },
  "kernelspec": {
   "display_name": "tfm-rims",
   "language": "python",
   "name": "tfm-rims"
  },
  "language_info": {
   "codemirror_mode": {
    "name": "ipython",
    "version": 3
   },
   "file_extension": ".py",
   "mimetype": "text/x-python",
   "name": "python",
   "nbconvert_exporter": "python",
   "pygments_lexer": "ipython3",
   "version": "3.7.9"
  },
  "toc-autonumbering": true,
  "toc-showcode": false,
  "toc-showmarkdowntxt": false,
  "toc-showtags": false,
  "vscode": {
   "interpreter": {
    "hash": "d78c29e5a106d8e5aff5a2dd98f2f1ce9953cb30dd1c8e42e77397bf33d62cb1"
   }
  }
 },
 "nbformat": 4,
 "nbformat_minor": 4
}
