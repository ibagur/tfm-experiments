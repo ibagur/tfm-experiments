{
 "cells": [
  {
   "cell_type": "markdown",
   "metadata": {
    "id": "MNF5-qJ7B0Q3"
   },
   "source": [
    "# MiniGrid settings"
   ]
  },
  {
   "cell_type": "markdown",
   "metadata": {
    "id": "AdM2FnEJB0Q8"
   },
   "source": [
    "## Basic Jupyter Setting"
   ]
  },
  {
   "cell_type": "code",
   "execution_count": 1,
   "metadata": {
    "executionInfo": {
     "elapsed": 319,
     "status": "ok",
     "timestamp": 1647123362972,
     "user": {
      "displayName": "Iñigo",
      "photoUrl": "https://lh3.googleusercontent.com/a/default-user=s64",
      "userId": "14378798962183195551"
     },
     "user_tz": -60
    },
    "id": "aycUmr6OB0Q8"
   },
   "outputs": [],
   "source": [
    "import numpy as np\n",
    "import matplotlib.pyplot as plt\n",
    "from pprint import pprint\n",
    "\n",
    "%matplotlib inline\n",
    "plt.rcParams['figure.figsize'] = (10.0, 8.0) # set default size of plots\n",
    "plt.rcParams['image.interpolation'] = 'nearest'\n",
    "plt.rcParams['image.cmap'] = 'gray'\n",
    "\n",
    "# for auto-reloading external modules\n",
    "# see http://stackoverflow.com/questions/1907993/autoreload-of-modules-in-ipython\n",
    "#%load_ext autoreload\n",
    "#%autoreload 2\n",
    "%reload_ext autoreload\n",
    "%autoreload 2"
   ]
  },
  {
   "cell_type": "markdown",
   "metadata": {
    "id": "ef0DdE0b4pLd"
   },
   "source": [
    "## Initial set-up"
   ]
  },
  {
   "cell_type": "markdown",
   "metadata": {
    "id": "PLM4YYcL5rBt"
   },
   "source": [
    "Import libraries and classes:"
   ]
  },
  {
   "cell_type": "code",
   "execution_count": 124,
   "metadata": {
    "id": "YgenDMtf4pLe"
   },
   "outputs": [],
   "source": [
    "# Imports\n",
    "import time\n",
    "import io\n",
    "import os\n",
    "import glob\n",
    "import torch\n",
    "import base64\n",
    "# import stable_baselines3\n",
    "\n",
    "import numpy as np\n",
    "import matplotlib.pyplot as plt\n",
    "from random import randint \n",
    "\n",
    "import gym\n",
    "from gym import spaces\n",
    "from gym.wrappers import Monitor\n",
    "import gym_minigrid\n",
    "from gym_minigrid.wrappers import FlatObsWrapper, ImgObsWrapper, RGBImgPartialObsWrapper"
   ]
  },
  {
   "cell_type": "markdown",
   "metadata": {
    "id": "28U_WEp25rBu"
   },
   "source": [
    "Define the video function:"
   ]
  },
  {
   "cell_type": "code",
   "execution_count": null,
   "metadata": {
    "id": "d7eCH8Kf4pLf"
   },
   "outputs": [],
   "source": [
    "import base64\n",
    "import glob\n",
    "import io\n",
    "from IPython.display import HTML\n",
    "from IPython import display \n",
    "\n",
    "def show_video():\n",
    "    mp4list = glob.glob('video/*.mp4')\n",
    "    if len(mp4list) > 0:\n",
    "        mp4 = mp4list[0]\n",
    "        video = io.open(mp4, 'r+b').read()\n",
    "        encoded = base64.b64encode(video)\n",
    "        display.display(HTML(data='''<video alt=\"test\" autoplay \n",
    "                loop controls style=\"height: 400px;\">\n",
    "                <source src=\"data:video/mp4;base64,{0}\" type=\"video/mp4\" />\n",
    "             </video>'''.format(encoded.decode('ascii'))))\n",
    "    else:\n",
    "        print(\"Could not find video\")\n",
    "        \n",
    "def show_animation(experiment):\n",
    "    giflist = glob.glob('animation/*.gif')\n",
    "    if len(giflist) > 0:\n",
    "        matching = [s for s in giflist if experiment in s]\n",
    "        gif_path = matching[0]\n",
    "        b64 = base64.b64encode(open(gif_path,'rb').read()).decode('ascii')\n",
    "        display.display(HTML(f'<img src=\"data:image/gif;base64,{b64}\" height=\"400\" />'))\n",
    "    else:\n",
    "        print(\"Could not find animation\")"
   ]
  },
  {
   "cell_type": "markdown",
   "metadata": {
    "id": "KchGuXpd5rBv"
   },
   "source": [
    "Define the rendering wrappers:"
   ]
  },
  {
   "cell_type": "code",
   "execution_count": null,
   "metadata": {
    "id": "Gdhk3Oep4pLf"
   },
   "outputs": [],
   "source": [
    "from gym.wrappers import Monitor\n",
    "\n",
    "# Define wrapper for CNN Policy\n",
    "def ImgRGBImgPartialObsWrapper(env):\n",
    "    return ImgObsWrapper(RGBImgPartialObsWrapper(env))\n",
    "\n",
    "# Monitor is a gym wrapper, which helps easy rendering of videos of the wrapped environment.\n",
    "def wrap_env(env):\n",
    "    env = Monitor(env, './video', force=True)\n",
    "    return env\n",
    "\n",
    "def gen_wrapped_env(env_name):\n",
    "    return wrap_env(FlatObsWrapper(gym.make(env_name)))\n",
    "\n",
    "def gen_wrapped_env_cnn(env_name):\n",
    "    return wrap_env(ImgObsWrapper(RGBImgPartialObsWrapper(gym.make(env_name))))"
   ]
  },
  {
   "cell_type": "markdown",
   "metadata": {},
   "source": [
    "Render an environment image:"
   ]
  },
  {
   "cell_type": "code",
   "execution_count": 122,
   "metadata": {
    "colab": {
     "base_uri": "https://localhost:8080/",
     "height": 269
    },
    "executionInfo": {
     "elapsed": 900,
     "status": "ok",
     "timestamp": 1647083269049,
     "user": {
      "displayName": "Iñigo",
      "photoUrl": "https://lh3.googleusercontent.com/a/default-user=s64",
      "userId": "14378798962183195551"
     },
     "user_tz": -60
    },
    "id": "B21JwGYn5rBv",
    "outputId": "54dfa526-2621-4f91-df2b-e4ff7a447aad"
   },
   "outputs": [
    {
     "data": {
      "image/png": "[encoded data removed]",
      "text/plain": [
       "<Figure size 400x400 with 1 Axes>"
      ]
     },
     "metadata": {},
     "output_type": "display_data"
    }
   ],
   "source": [
    "from random import randint\n",
    "#env_id = 'MiniGrid-Empty-5x5-v0'\n",
    "#env_id = 'MiniGrid-Empty-Random-6x6-v0'\n",
    "#env_id = 'MiniGrid-Empty-8x8-v0'\n",
    "#env_id = 'MiniGrid-Empty-16x16-v0'\n",
    "env_id = 'MiniGrid-DoorKey-6x6-v0'\n",
    "#env_id = 'MiniGrid-DoorKey-5x5-v0'\n",
    "#env_id = 'BreakoutNoFrameskip-v4'\n",
    "#env_id = 'MiniGrid-DistShift1-v0'\n",
    "#env_id ='MiniGrid-UnlockPickup-v0'\n",
    "#env_id = 'MiniGrid-RedBlueDoors-6x6-v0'\n",
    "#env_id = 'MiniGrid-LavaGapS6-v0'\n",
    "\n",
    "eval_env = gym.make(env_id)\n",
    "eval_env.seed(10000+randint(0, 10))\n",
    "eval_env.reset()\n",
    "#random_action = eval_env.action_space.sample()\n",
    "#new_obs, reward, done, info = eval_env.step(random_action)\n",
    "\n",
    "before_img = eval_env.render('rgb_array')\n",
    "\n",
    "plt.figure(figsize = (4.,4.))\n",
    "plt.imshow(before_img);"
   ]
  },
  {
   "cell_type": "markdown",
   "metadata": {
    "id": "umY09KJP5rCI"
   },
   "source": [
    "# Initial Meta-RIMs learning"
   ]
  },
  {
   "cell_type": "markdown",
   "metadata": {
    "id": "yPq1XkeL5rCI"
   },
   "source": [
    "## Define the environments"
   ]
  },
  {
   "cell_type": "markdown",
   "metadata": {},
   "source": [
    "### Import libraries"
   ]
  },
  {
   "cell_type": "code",
   "execution_count": 2,
   "metadata": {},
   "outputs": [],
   "source": [
    "import time\n",
    "import io\n",
    "import os\n",
    "import glob\n",
    "import torch\n",
    "import base64\n",
    "import datetime\n",
    "import torch\n",
    "import torch_ac\n",
    "import tensorboardX\n",
    "import sys\n",
    "import utils\n",
    "from model import ACModel\n",
    "from torch_ac.utils import DictList, ParallelEnv\n",
    "import matplotlib.pyplot as plt\n",
    "from mpl_toolkits.axes_grid1 import ImageGrid\n",
    "import numpy as np\n",
    "import random\n",
    "\n",
    "import gym\n",
    "from gym import spaces\n",
    "from gym.wrappers import Monitor\n",
    "import gym_minigrid\n",
    "from gym_minigrid.wrappers import FlatObsWrapper, ImgObsWrapper, RGBImgPartialObsWrapper"
   ]
  },
  {
   "cell_type": "markdown",
   "metadata": {},
   "source": [
    "### Helper functions"
   ]
  },
  {
   "cell_type": "code",
   "execution_count": 3,
   "metadata": {},
   "outputs": [],
   "source": [
    "def make_envs(env_id, procs, seed=None):\n",
    "    envs = []\n",
    "    for i in range(procs):\n",
    "        if seed:\n",
    "            e = utils.make_env(env_id, seed + 10000 * i)\n",
    "        else:\n",
    "            e = utils.make_env(env_id)\n",
    "        envs.append(e)\n",
    "    env = ParallelEnv(envs)\n",
    "    return env\n",
    "\n",
    "def sample_tasks(n_tasks):\n",
    "    tasks_list = []\n",
    "    for i in range(n_tasks):\n",
    "        random_data = os.urandom(4)\n",
    "        seed = int.from_bytes(random_data, byteorder=\"big\")\n",
    "        tasks_list.append(seed)\n",
    "    return tasks_list\n",
    "\n",
    "def env_snapshot(env:ParallelEnv):\n",
    "    im_list = []\n",
    "    for e in env.envs:\n",
    "        #print(type(e.render('rgb_array')))\n",
    "        #e.reset()\n",
    "        im_list.append(e.render('rgb_array'))\n",
    "\n",
    "    fig = plt.figure(figsize=(8., 8.))\n",
    "    grid = ImageGrid(fig, 111,  # similar to subplot(111)\n",
    "                    nrows_ncols=(4, 4),  # creates 2x2 grid of axes\n",
    "                    axes_pad=0.1,  # pad between axes in inch.\n",
    "                    )\n",
    "\n",
    "    for ax, im in zip(grid, im_list):\n",
    "        # Iterating over the grid returns the Axes.\n",
    "        ax.imshow(im)\n",
    "\n",
    "def set_freeze_status(model, params, freeze=True):\n",
    "    for name, param in model.named_parameters():\n",
    "        if any(ext in name for ext in params):\n",
    "            param.requires_grad = False if freeze else True\n",
    "            #param.grad = None if freeze else param.grad\n",
    "\n",
    "# Function to concatenate two tasks rollout exps dictionaries\n",
    "def cat_exps(exps_1, exps_2):\n",
    "    exp_out = {}\n",
    "    for (k,v), (k2,v2) in zip(exps_1.items(), exps_2.items()):\n",
    "        if k == 'obs':\n",
    "            obs = k\n",
    "            exp_out[obs] = {}\n",
    "            for (k,v), (k2,v2) in zip(exps_1.obs.items(), exps_2.obs.items()):\n",
    "                exp_out[obs][k] = torch.cat((v, v2), 0)\n",
    "        else:\n",
    "            exp_out[k] = torch.cat((v, v2), 0)\n",
    "    return exp_out\n",
    "\n",
    "# Function to concatenate two tasks rollout logs dictionaries\n",
    "def cat_logs(logs_1, logs_2):\n",
    "    logs_out = {}\n",
    "    for (k,v), (k2,v2) in zip(logs_1.items(), logs_2.items()):\n",
    "        logs_out[k] = v + v2\n",
    "    return logs_out\n",
    "\n",
    "def change_multienv_seed(env, seed):\n",
    "    for i, e in enumerate(env.envs):\n",
    "        e.seed(seed + 10000 * i)\n",
    "        e.reset()\n",
    "    return env\n",
    "        \n",
    "def sample_tasks_experiences(agent, tasks):\n",
    "    seed_list = tasks['seed_list']\n",
    "    exps_batch = []\n",
    "    logs1_batch = []\n",
    "    for seed in seed_list:\n",
    "        agent.env = change_multienv_seed(agent.env, seed)\n",
    "        #agent.env = make_envs(env_id, procs, seed)\n",
    "        exps, logs1 = agent.collect_experiences() \n",
    "        exps_batch.append(exps)\n",
    "        logs1_batch.append(logs1)\n",
    "    return exps_batch, logs1_batch\n",
    "\n",
    "# Function to collect and concatenate all tasks rollout exps dictionaries\n",
    "def collect_tasks_meta_experiences(agent, tasks):\n",
    "    seed_list = tasks['seed_list']\n",
    "    for i, seed in enumerate(seed_list):\n",
    "        #agent.env = make_envs(env_id, procs, seed)\n",
    "        agent.env = change_multienv_seed(agent.env, seed)\n",
    "        exps, logs1 = agent.collect_experiences()\n",
    "        concat_exps = exps if i==0 else cat_exps(concat_exps, exps)\n",
    "        concat_exps = DictList(concat_exps)\n",
    "        concat_exps.obs = DictList(concat_exps.obs)\n",
    "        concat_logs1 = logs1 if i==0 else cat_logs(concat_logs1, logs1)\n",
    "    return concat_exps, concat_logs1"
   ]
  },
  {
   "cell_type": "markdown",
   "metadata": {},
   "source": [
    "### Render Parallel environment snapshot"
   ]
  },
  {
   "cell_type": "code",
   "execution_count": 6,
   "metadata": {},
   "outputs": [
    {
     "data": {
      "image/png": "[encoded data removed]",
      "text/plain": [
       "<Figure size 800x800 with 32 Axes>"
      ]
     },
     "metadata": {},
     "output_type": "display_data"
    }
   ],
   "source": [
    "import matplotlib.pyplot as plt\n",
    "from mpl_toolkits.axes_grid1 import ImageGrid\n",
    "import numpy as np\n",
    "\n",
    "procs = 16\n",
    "max_tasks = 20\n",
    "seed_list = range(procs * max_tasks, (procs + 1) * max_tasks)\n",
    "\n",
    "#env_id = 'MiniGrid-Empty-Random-6x6-v0'\n",
    "#env_id = 'MiniGrid-Empty-5x5-v0'\n",
    "#env_id = 'MiniGrid-DoorKey-5x5-v0'\n",
    "env_id = 'MiniGrid-DoorKey-6x6-v0'\n",
    "\n",
    "seed = 5\n",
    "env = make_envs(env_id, procs, seed)\n",
    "obs = env.reset()\n",
    "\n",
    "env_snapshot(env)\n",
    "\n",
    "#plt.show()\n"
   ]
  },
  {
   "cell_type": "markdown",
   "metadata": {},
   "source": [
    "## Configuration"
   ]
  },
  {
   "cell_type": "markdown",
   "metadata": {},
   "source": [
    "### Set parameters"
   ]
  },
  {
   "cell_type": "code",
   "execution_count": 4,
   "metadata": {},
   "outputs": [],
   "source": [
    "#env_id = 'MiniGrid-Empty-8x8-v0'\n",
    "#env_id = 'MiniGrid-LavaGapS5-v0'\n",
    "#env_id = 'MiniGrid-DoorKey-5x5-v0'\n",
    "#env_id = 'MiniGrid-DoorKey-6x6-v0'\n",
    "env_id = 'MiniGrid-WallGapS6-v0'\n",
    "#env_id = 'MiniGrid-Empty-Random-6x6-v0'\n",
    "#env_id = 'MiniGrid-Empty-5x5-v0'\n",
    "model = 'MiniGrid-WallGapS6-v0_meta_RIM_5_3_frames_300k_tasks_2_recur_64_16_proc_16_RMSProp_lr_7e4_gae_099_test_MiniGrid-DoorKey-6x6-v0'\n",
    "frames = 400000\n",
    "processes = 16\n",
    "\n",
    "## Hyper-parameters\n",
    "args = {\n",
    "# General parameters\n",
    "'algo':'ppo',\n",
    "'env':env_id,\n",
    "'model':model,\n",
    "'seed':1,\n",
    "'log_interval':1,\n",
    "'save_interval':10,\n",
    "'procs':processes,\n",
    "'frames':frames, # default 1e7\n",
    "# Parameters for main algorithm\n",
    "'epochs':4,\n",
    "'batch_size':256,\n",
    "'frames_per_proc':128, # 128 for PPO and 5 per A2C\n",
    "'discount':0.99,\n",
    "#'lr':0.0001, # for Adam\n",
    "'lr':0.0007, # for RMSProp\n",
    "#'gae_lambda':0.95, # 1 means no gae, for Adam\n",
    "'gae_lambda':0.99, # 1 means no gae, for RMSProp\n",
    "'entropy_coef':0.01,\n",
    "'value_loss_coef':0.5,\n",
    "'max_grad_norm':0.5,\n",
    "'optim_eps':1e-8,\n",
    "'optim_alpha':0.99,\n",
    "'clip_eps':0.2,\n",
    "'recurrence':32, # if > 1, a LSTM is added\n",
    "'text':False, # add a GRU for text input\n",
    "# Model Parameters\n",
    "'use_rim':True # action = 'store_true'\n",
    "}\n",
    "\n",
    "#args = utils.dotdict(args)\n",
    "args = DictList(args)\n",
    "\n",
    "args.mem = args.recurrence > 1\n",
    "\n",
    "# RIM specific hyperparameters\n",
    "if args.use_rim:\n",
    "    args.num_units = 5\n",
    "    args.k = 3"
   ]
  },
  {
   "cell_type": "markdown",
   "metadata": {},
   "source": [
    "### Initial settings"
   ]
  },
  {
   "cell_type": "code",
   "execution_count": 5,
   "metadata": {},
   "outputs": [
    {
     "name": "stdout",
     "output_type": "stream",
     "text": [
      "{'algo': 'ppo', 'env': 'MiniGrid-WallGapS6-v0', 'model': 'MiniGrid-WallGapS6-v0_meta_RIM_5_3_frames_300k_tasks_2_recur_64_16_proc_16_RMSProp_lr_7e4_gae_099_test_MiniGrid-DoorKey-6x6-v0', 'seed': 1, 'log_interval': 1, 'save_interval': 10, 'procs': 16, 'frames': 400000, 'epochs': 4, 'batch_size': 256, 'frames_per_proc': 128, 'discount': 0.99, 'lr': 0.0007, 'gae_lambda': 0.99, 'entropy_coef': 0.01, 'value_loss_coef': 0.5, 'max_grad_norm': 0.5, 'optim_eps': 1e-08, 'optim_alpha': 0.99, 'clip_eps': 0.2, 'recurrence': 32, 'text': False, 'use_rim': True, 'mem': True, 'num_units': 5, 'k': 3}\n",
      "\n",
      "Device: cpu\n",
      "\n"
     ]
    }
   ],
   "source": [
    "# Set run dir\n",
    "\n",
    "date = datetime.datetime.now().strftime(\"%y-%m-%d-%H-%M-%S\")\n",
    "default_model_name = f\"{args.env}_{args.algo}_seed{args.seed}_{date}\"\n",
    "\n",
    "model_name = args.model or default_model_name\n",
    "model_dir = utils.get_model_dir(model_name)\n",
    "\n",
    "# Load loggers and Tensorboard writer\n",
    "\n",
    "txt_logger = utils.get_txt_logger(model_dir)\n",
    "csv_file, csv_logger = utils.get_csv_logger(model_dir)\n",
    "tb_writer = tensorboardX.SummaryWriter(model_dir)\n",
    "\n",
    "# Log command and all script arguments\n",
    "\n",
    "#txt_logger.info(\"{}\\n\".format(\" \".join(sys.argv)))\n",
    "txt_logger.info(\"{}\\n\".format(args))\n",
    "\n",
    "# Set seed for all randomness sources\n",
    "\n",
    "utils.seed(args.seed)\n",
    "\n",
    "# Set device\n",
    "\n",
    "device = torch.device(\"cuda\" if torch.cuda.is_available() else \"cpu\")\n",
    "txt_logger.info(f\"Device: {device}\\n\")"
   ]
  },
  {
   "cell_type": "markdown",
   "metadata": {},
   "source": [
    "### Load environments, model, algo and prepare training settings"
   ]
  },
  {
   "cell_type": "code",
   "execution_count": 6,
   "metadata": {},
   "outputs": [
    {
     "name": "stdout",
     "output_type": "stream",
     "text": [
      "Environments loaded\n",
      "\n",
      "Training status loaded\n",
      "\n",
      "Observations preprocessor loaded\n",
      "Model loaded\n",
      "\n",
      "ACModel(\n",
      "  (image_conv): Sequential(\n",
      "    (0): Conv2d(3, 16, kernel_size=(2, 2), stride=(1, 1))\n",
      "    (1): ReLU()\n",
      "    (2): MaxPool2d(kernel_size=(2, 2), stride=(2, 2), padding=0, dilation=1, ceil_mode=False)\n",
      "    (3): Conv2d(16, 32, kernel_size=(2, 2), stride=(1, 1))\n",
      "    (4): ReLU()\n",
      "    (5): Conv2d(32, 64, kernel_size=(2, 2), stride=(1, 1))\n",
      "    (6): ReLU()\n",
      "  )\n",
      "  (memory_rnn): RIMCell(\n",
      "    (key): Linear(in_features=64, out_features=64, bias=True)\n",
      "    (value): Linear(in_features=64, out_features=64, bias=True)\n",
      "    (rnn): GroupLSTMCell(\n",
      "      (i2h): GroupLinearLayer()\n",
      "      (h2h): GroupLinearLayer()\n",
      "    )\n",
      "    (query): GroupLinearLayer()\n",
      "    (query_): GroupLinearLayer()\n",
      "    (key_): GroupLinearLayer()\n",
      "    (value_): GroupLinearLayer()\n",
      "    (comm_attention_output): GroupLinearLayer()\n",
      "    (comm_dropout): Dropout(p=0.1, inplace=False)\n",
      "    (input_dropout): Dropout(p=0.1, inplace=False)\n",
      "  )\n",
      "  (actor): Sequential(\n",
      "    (0): Linear(in_features=60, out_features=64, bias=True)\n",
      "    (1): Tanh()\n",
      "    (2): Linear(in_features=64, out_features=7, bias=True)\n",
      "  )\n",
      "  (critic): Sequential(\n",
      "    (0): Linear(in_features=60, out_features=64, bias=True)\n",
      "    (1): Tanh()\n",
      "    (2): Linear(in_features=64, out_features=1, bias=True)\n",
      "  )\n",
      ")\n",
      "\n",
      "Optimizer loaded\n",
      "\n"
     ]
    }
   ],
   "source": [
    "# Load environments\n",
    "\n",
    "envs = []\n",
    "for i in range(args.procs):\n",
    "    envs.append(utils.make_env(args.env, args.seed + 10000 * i))\n",
    "txt_logger.info(\"Environments loaded\\n\")\n",
    "\n",
    "# Load training status\n",
    "\n",
    "try:\n",
    "    status = utils.get_status(model_dir)\n",
    "except OSError:\n",
    "    status = {\"num_frames\": 0, \"update\": 0}\n",
    "txt_logger.info(\"Training status loaded\\n\")\n",
    "\n",
    "# Load observations preprocessor\n",
    "\n",
    "obs_space, preprocess_obss = utils.get_obss_preprocessor(envs[0].observation_space)\n",
    "if \"vocab\" in status:\n",
    "    preprocess_obss.vocab.load_vocab(status[\"vocab\"])\n",
    "txt_logger.info(\"Observations preprocessor loaded\")\n",
    "\n",
    "# Load model\n",
    "\n",
    "acmodel = ACModel(obs_space, envs[0].action_space, args.mem, args.text, args.use_rim, args.num_units, args.k)\n",
    "if \"model_state\" in status:\n",
    "    acmodel.load_state_dict(status[\"model_state\"])\n",
    "acmodel.to(device)\n",
    "txt_logger.info(\"Model loaded\\n\")\n",
    "txt_logger.info(\"{}\\n\".format(acmodel))\n",
    "\n",
    "# Load algo\n",
    "\n",
    "if args.algo == \"a2c\":\n",
    "    algo = torch_ac.A2CAlgo(envs, acmodel, device, args.frames_per_proc, args.discount, args.lr, args.gae_lambda,\n",
    "                            args.entropy_coef, args.value_loss_coef, args.max_grad_norm, args.recurrence,\n",
    "                            args.optim_alpha, args.optim_eps, preprocess_obss)\n",
    "elif args.algo == \"ppo\":\n",
    "    algo = torch_ac.PPOAlgo(envs, acmodel, device, args.frames_per_proc, args.discount, args.lr, args.gae_lambda,\n",
    "                            args.entropy_coef, args.value_loss_coef, args.max_grad_norm, args.recurrence,\n",
    "                            args.optim_eps, args.clip_eps, args.epochs, args.batch_size, preprocess_obss)\n",
    "else:\n",
    "    raise ValueError(\"Incorrect algorithm name: {}\".format(args.algo))\n",
    "\n",
    "# change to RMSProp optimizer\n",
    "algo.optimizer = torch.optim.RMSprop(algo.acmodel.parameters(), args.lr, eps=args.optim_eps)\n",
    "\n",
    "if \"optimizer_state\" in status:\n",
    "    algo.optimizer.load_state_dict(status[\"optimizer_state\"])\n",
    "txt_logger.info(\"Optimizer loaded\\n\")"
   ]
  },
  {
   "cell_type": "markdown",
   "metadata": {},
   "source": [
    "## Meta-training"
   ]
  },
  {
   "cell_type": "markdown",
   "metadata": {},
   "source": [
    "### Set initial parameters"
   ]
  },
  {
   "cell_type": "code",
   "execution_count": 7,
   "metadata": {},
   "outputs": [],
   "source": [
    "# meta-learn parameters\n",
    "#lr_alpha = 0.0001 # inner loop lr - Adam\n",
    "#lr_beta = 0.0001 # outer loop lr - Adam\n",
    "lr_alpha = 0.0007 # RMSProp\n",
    "lr_beta = 0.0007 # RMSProp\n",
    "inner_recurrence = 16\n",
    "outer_recurrence = 64 # 4x inner_recurrence\n",
    "num_tasks = 2\n",
    "\n",
    "inner_params = ['image_conv', 'i2h', 'h2h', 'actor'] # params to be updated in inner loop\n",
    "outer_params = ['query', 'key', 'value', 'comm', 'critic'] # params to be updated in outer loop\n",
    "\n",
    "# delete param_groups after it has been created\n",
    "for i in range(len(algo.optimizer.param_groups)):\n",
    "    del algo.optimizer.param_groups[0]\n",
    "\n",
    "# Re-create separate param_groups for different inner and outer loop optimizer lr\n",
    "\n",
    "# inner loop param group\n",
    "algo.optimizer.add_param_group({'params': [\n",
    "    *acmodel.image_conv.parameters(), \n",
    "    *acmodel.memory_rnn.rnn.parameters(), \n",
    "    *acmodel.actor.parameters()], 'lr': lr_alpha})\n",
    "\n",
    "# outer loop param group\n",
    "algo.optimizer.add_param_group({'params': [\n",
    "    *acmodel.critic.parameters(), \n",
    "    *acmodel.memory_rnn.key.parameters(),\n",
    "    *acmodel.memory_rnn.key_.parameters(),\n",
    "    *acmodel.memory_rnn.query.parameters(),\n",
    "    *acmodel.memory_rnn.query_.parameters(),\n",
    "    *acmodel.memory_rnn.value.parameters(),\n",
    "    *acmodel.memory_rnn.value_.parameters(),\n",
    "    *acmodel.memory_rnn.comm_attention_output.parameters()\n",
    "    ], 'lr': lr_beta})"
   ]
  },
  {
   "cell_type": "markdown",
   "metadata": {},
   "source": [
    "### Old Training"
   ]
  },
  {
   "cell_type": "code",
   "execution_count": null,
   "metadata": {},
   "outputs": [],
   "source": [
    "# run just once to have initial grads in all parameters and avoid backward error on first pass\n",
    "exps, _ = algo.collect_experiences()\n",
    "algo.update_parameters(exps)\n",
    "\n",
    "while num_frames < args.frames: # STEP 2\n",
    "\n",
    "    update_start_time = time.time()\n",
    "\n",
    "    # # run just once to have initial grads in all parameters and avoid backward error on first pass\n",
    "    # exps, _ = algo.collect_experiences()\n",
    "    # algo.update_parameters(exps)\n",
    "\n",
    "    # Sample batch of tasks: STEP 3\n",
    "    tasks_batch = sample_tasks(n_tasks=num_tasks)\n",
    "\n",
    "    # Sample pre-trajectories from each task: STEP 4\n",
    "    exps_batch, logs1_batch = sample_tasks_experiences(agent=algo, tasks=tasks_batch)\n",
    "\n",
    "    # Inner loop: STEPS 5-7\n",
    "\n",
    "    # Unfreeze inner loop params so they can get updated in the inner loop\n",
    "    set_freeze_status(algo.acmodel, inner_params, freeze=False)\n",
    "\n",
    "    # Freeze outer loop parameters, so those grads will be zero in update\n",
    "    set_freeze_status(algo.acmodel, outer_params, freeze=True)\n",
    "\n",
    "    # set inner recurence\n",
    "    algo.recurrence = inner_recurrence\n",
    "\n",
    "    # Update parameters for all tasks \n",
    "    logs2_batch = []\n",
    "    for exps in exps_batch: # STEP 5\n",
    "        logs2 = algo.update_parameters(exps) # STEP 6\n",
    "        logs2_batch.append(logs2)\n",
    "    # STEP 7\n",
    "\n",
    "    # Sample post-trajectories t_i from tasks T_i and concatenate to get D_meta: STEP 8\n",
    "    meta_exps, meta_logs1 = collect_tasks_meta_experiences(agent=algo, tasks=tasks_batch)\n",
    "\n",
    "    # Unfreeze outer loop params so they can get updated in the outer loop\n",
    "    set_freeze_status(algo.acmodel, outer_params, freeze=False)\n",
    "    # Freeze inner loop params \n",
    "    set_freeze_status(algo.acmodel, inner_params, freeze=True)\n",
    "\n",
    "    # set outer recurence\n",
    "    algo.recurrence = outer_recurrence\n",
    "\n",
    "    # Update parameters while keeping inner parametes (module and policy) frozen: STEP 9\n",
    "    meta_logs2 = algo.update_parameters(meta_exps)\n",
    "\n",
    "    meta_logs = {**meta_logs1, **meta_logs2}\n",
    "    update_end_time = time.time()\n",
    "\n",
    "    num_frames += meta_logs[\"num_frames\"]\n",
    "    update += 1\n",
    "\n",
    "    # Print logs\n",
    "\n",
    "    if update % args.log_interval == 0:\n",
    "        fps = meta_logs[\"num_frames\"]/(update_end_time - update_start_time)\n",
    "        duration = int(time.time() - start_time)\n",
    "        return_per_episode = utils.synthesize(meta_logs[\"return_per_episode\"])\n",
    "        rreturn_per_episode = utils.synthesize(meta_logs[\"reshaped_return_per_episode\"])\n",
    "        num_frames_per_episode = utils.synthesize(meta_logs[\"num_frames_per_episode\"])\n",
    "\n",
    "        header = [\"update\", \"frames\", \"FPS\", \"duration\"]\n",
    "        data = [update, num_frames, fps, duration]\n",
    "        header += [\"rreturn_\" + key for key in rreturn_per_episode.keys()]\n",
    "        data += rreturn_per_episode.values()\n",
    "        header += [\"num_frames_\" + key for key in num_frames_per_episode.keys()]\n",
    "        data += num_frames_per_episode.values()\n",
    "        header += [\"entropy\", \"value\", \"policy_loss\", \"value_loss\", \"grad_norm\"]\n",
    "        data += [meta_logs[\"entropy\"], meta_logs[\"value\"], meta_logs[\"policy_loss\"], meta_logs[\"value_loss\"], meta_logs[\"grad_norm\"]]\n",
    "\n",
    "        txt_logger.info(\n",
    "            \"U {} | F {:06} | FPS {:04.0f} | D {} | rR:μσmM {:.2f} {:.2f} {:.2f} {:.2f} | F:μσmM {:.1f} {:.1f} {} {} | H {:.3f} | V {:.3f} | pL {:.3f} | vL {:.3f} | ∇ {:.3f}\"\n",
    "            .format(*data))\n",
    "\n",
    "        header += [\"return_\" + key for key in return_per_episode.keys()]\n",
    "        data += return_per_episode.values()\n",
    "\n",
    "        if status[\"num_frames\"] == 0:\n",
    "            csv_logger.writerow(header)\n",
    "        csv_logger.writerow(data)\n",
    "        csv_file.flush()\n",
    "\n",
    "        for field, value in zip(header, data):\n",
    "            tb_writer.add_scalar(field, value, num_frames)\n",
    "\n",
    "    # Save status\n",
    "\n",
    "    if args.save_interval > 0 and update % args.save_interval == 0:\n",
    "        status = {\"num_frames\": num_frames, \"update\": update,\n",
    "                  \"model_state\": acmodel.state_dict(), \"optimizer_state\": algo.optimizer.state_dict()}\n",
    "        if hasattr(preprocess_obss, \"vocab\"):\n",
    "            status[\"vocab\"] = preprocess_obss.vocab.vocab\n",
    "        utils.save_status(status, model_dir)\n",
    "        txt_logger.info(\"Status saved\")\n",
    "# STEP 10"
   ]
  },
  {
   "cell_type": "markdown",
   "metadata": {},
   "source": [
    "### Training"
   ]
  },
  {
   "cell_type": "code",
   "execution_count": 8,
   "metadata": {},
   "outputs": [
    {
     "name": "stdout",
     "output_type": "stream",
     "text": [
      "U 1 | F 004096 | FPS 0313 | D 18 | rR:μσmM 0.06 0.18 0.00 0.77 | F:μσmM 140.9 36.3 36.0 287.0 | H 1.936 | V 0.036 | pL -0.013 | vL 0.011 | ∇ 0.048\n",
      "U 2 | F 008192 | FPS 0313 | D 31 | rR:μσmM 0.04 0.12 0.00 0.52 | F:μσmM 146.3 32.0 76.0 256.0 | H 1.930 | V 0.045 | pL -0.002 | vL 0.007 | ∇ 0.045\n",
      "U 3 | F 012288 | FPS 0312 | D 44 | rR:μσmM 0.11 0.24 0.00 0.82 | F:μσmM 136.0 42.7 29.0 256.0 | H 1.932 | V 0.054 | pL -0.007 | vL 0.012 | ∇ 0.027\n",
      "U 4 | F 016384 | FPS 0296 | D 58 | rR:μσmM 0.15 0.26 0.00 0.86 | F:μσmM 128.2 41.9 22.0 256.0 | H 1.933 | V 0.057 | pL 0.016 | vL 0.004 | ∇ 0.021\n",
      "U 5 | F 020480 | FPS 0301 | D 71 | rR:μσmM 0.10 0.24 0.00 0.95 | F:μσmM 134.4 41.3 8.0 274.0 | H 1.934 | V 0.045 | pL 0.014 | vL 0.005 | ∇ 0.032\n",
      "U 6 | F 024576 | FPS 0258 | D 87 | rR:μσmM 0.10 0.22 0.00 0.79 | F:μσmM 132.3 30.4 34.0 184.0 | H 1.926 | V 0.047 | pL 0.012 | vL 0.007 | ∇ 0.024\n",
      "U 7 | F 028672 | FPS 0256 | D 103 | rR:μσmM 0.16 0.26 0.00 0.90 | F:μσmM 127.4 41.2 16.0 256.0 | H 1.919 | V 0.076 | pL 0.009 | vL 0.010 | ∇ 0.057\n",
      "U 8 | F 032768 | FPS 0269 | D 118 | rR:μσmM 0.17 0.26 0.00 0.86 | F:μσmM 126.9 44.5 23.0 282.0 | H 1.921 | V 0.075 | pL 0.027 | vL 0.004 | ∇ 0.027\n",
      "U 9 | F 036864 | FPS 0276 | D 133 | rR:μσmM 0.28 0.33 0.00 0.94 | F:μσmM 108.9 48.7 9.0 203.0 | H 1.913 | V 0.108 | pL -0.022 | vL 0.014 | ∇ 0.056\n",
      "U 10 | F 040960 | FPS 0317 | D 146 | rR:μσmM 0.32 0.36 0.00 0.97 | F:μσmM 103.1 51.6 5.0 175.0 | H 1.912 | V 0.112 | pL -0.013 | vL 0.017 | ∇ 0.078\n",
      "Status saved\n",
      "U 11 | F 045056 | FPS 0315 | D 159 | rR:μσmM 0.44 0.34 0.00 0.96 | F:μσmM 85.0 48.6 7.0 144.0 | H 1.883 | V 0.244 | pL 0.037 | vL 0.015 | ∇ 0.062\n",
      "U 12 | F 049152 | FPS 0321 | D 172 | rR:μσmM 0.46 0.34 0.00 0.97 | F:μσmM 83.0 49.9 5.0 149.0 | H 1.845 | V 0.284 | pL 0.067 | vL 0.023 | ∇ 0.114\n",
      "U 13 | F 053248 | FPS 0322 | D 185 | rR:μσmM 0.36 0.34 0.00 0.98 | F:μσmM 99.2 56.1 4.0 287.0 | H 1.887 | V 0.203 | pL 0.051 | vL 0.015 | ∇ 0.067\n",
      "U 14 | F 057344 | FPS 0312 | D 198 | rR:μσmM 0.50 0.32 0.00 0.96 | F:μσmM 76.7 46.4 7.0 144.0 | H 1.838 | V 0.265 | pL 0.041 | vL 0.022 | ∇ 0.154\n",
      "U 15 | F 061440 | FPS 0315 | D 211 | rR:μσmM 0.41 0.34 0.00 0.92 | F:μσmM 92.3 53.6 13.0 241.0 | H 1.834 | V 0.300 | pL 0.007 | vL 0.029 | ∇ 0.212\n",
      "U 16 | F 065536 | FPS 0315 | D 224 | rR:μσmM 0.49 0.35 0.00 0.97 | F:μσmM 77.3 49.6 5.0 144.0 | H 1.755 | V 0.316 | pL 0.054 | vL 0.031 | ∇ 0.292\n",
      "U 17 | F 069632 | FPS 0316 | D 237 | rR:μσmM 0.54 0.34 0.00 0.96 | F:μσmM 70.5 49.6 6.0 144.0 | H 1.749 | V 0.352 | pL 0.076 | vL 0.036 | ∇ 0.413\n",
      "U 18 | F 073728 | FPS 0314 | D 250 | rR:μσmM 0.59 0.31 0.00 0.98 | F:μσmM 63.3 46.8 3.0 201.0 | H 1.766 | V 0.341 | pL 0.064 | vL 0.031 | ∇ 0.248\n",
      "U 19 | F 077824 | FPS 0318 | D 263 | rR:μσmM 0.58 0.32 0.00 0.98 | F:μσmM 64.4 46.9 3.0 144.0 | H 1.749 | V 0.401 | pL 0.024 | vL 0.029 | ∇ 0.193\n",
      "U 20 | F 081920 | FPS 0307 | D 276 | rR:μσmM 0.63 0.29 0.00 0.98 | F:μσmM 57.9 43.6 3.0 144.0 | H 1.667 | V 0.372 | pL -0.015 | vL 0.044 | ∇ 0.372\n",
      "Status saved\n",
      "U 21 | F 086016 | FPS 0315 | D 289 | rR:μσmM 0.63 0.30 0.00 0.98 | F:μσmM 57.1 44.3 4.0 144.0 | H 1.738 | V 0.368 | pL 0.027 | vL 0.034 | ∇ 0.318\n",
      "U 22 | F 090112 | FPS 0305 | D 303 | rR:μσmM 0.67 0.28 0.00 0.97 | F:μσmM 51.6 41.7 5.0 164.0 | H 1.719 | V 0.420 | pL 0.067 | vL 0.029 | ∇ 0.301\n",
      "U 23 | F 094208 | FPS 0315 | D 316 | rR:μσmM 0.69 0.26 0.00 0.98 | F:μσmM 49.2 39.8 3.0 144.0 | H 1.687 | V 0.425 | pL 0.088 | vL 0.029 | ∇ 0.361\n",
      "U 24 | F 098304 | FPS 0312 | D 329 | rR:μσmM 0.74 0.22 0.00 0.98 | F:μσmM 40.6 33.2 3.0 144.0 | H 1.650 | V 0.503 | pL 0.022 | vL 0.018 | ∇ 0.190\n",
      "U 25 | F 102400 | FPS 0315 | D 342 | rR:μσmM 0.77 0.18 0.00 0.97 | F:μσmM 36.7 28.1 5.0 144.0 | H 1.645 | V 0.517 | pL -0.005 | vL 0.031 | ∇ 0.437\n",
      "U 26 | F 106496 | FPS 0307 | D 355 | rR:μσmM 0.79 0.16 0.00 0.98 | F:μσmM 32.7 25.6 4.0 144.0 | H 1.618 | V 0.584 | pL -0.055 | vL 0.026 | ∇ 0.324\n",
      "U 27 | F 110592 | FPS 0315 | D 368 | rR:μσmM 0.73 0.23 0.00 0.96 | F:μσmM 42.1 35.3 6.0 144.0 | H 1.616 | V 0.530 | pL 0.088 | vL 0.029 | ∇ 0.335\n",
      "U 28 | F 114688 | FPS 0316 | D 381 | rR:μσmM 0.77 0.19 0.00 0.96 | F:μσmM 36.2 30.3 6.0 144.0 | H 1.653 | V 0.494 | pL 0.072 | vL 0.026 | ∇ 0.395\n",
      "U 29 | F 118784 | FPS 0308 | D 394 | rR:μσmM 0.81 0.18 0.00 0.98 | F:μσmM 30.0 28.3 4.0 144.0 | H 1.549 | V 0.575 | pL -0.032 | vL 0.035 | ∇ 0.413\n",
      "U 30 | F 122880 | FPS 0317 | D 407 | rR:μσmM 0.84 0.09 0.20 0.98 | F:μσmM 25.6 14.8 3.0 128.0 | H 1.500 | V 0.706 | pL 0.009 | vL 0.019 | ∇ 0.444\n",
      "Status saved\n",
      "U 31 | F 126976 | FPS 0307 | D 421 | rR:μσmM 0.86 0.09 0.43 0.98 | F:μσmM 21.9 14.1 3.0 91.0 | H 1.429 | V 0.698 | pL 0.024 | vL 0.015 | ∇ 0.201\n",
      "U 32 | F 131072 | FPS 0314 | D 434 | rR:μσmM 0.87 0.07 0.59 0.98 | F:μσmM 21.4 11.5 4.0 66.0 | H 1.487 | V 0.697 | pL -0.029 | vL 0.014 | ∇ 0.286\n",
      "U 33 | F 135168 | FPS 0309 | D 447 | rR:μσmM 0.88 0.06 0.60 0.99 | F:μσmM 18.8 9.5 2.0 64.0 | H 1.469 | V 0.737 | pL -0.023 | vL 0.007 | ∇ 0.184\n",
      "U 34 | F 139264 | FPS 0317 | D 460 | rR:μσmM 0.89 0.05 0.61 0.98 | F:μσmM 17.5 8.7 3.0 62.0 | H 1.410 | V 0.782 | pL -0.004 | vL 0.008 | ∇ 0.122\n",
      "U 35 | F 143360 | FPS 0306 | D 473 | rR:μσmM 0.89 0.05 0.67 0.98 | F:μσmM 16.9 8.4 4.0 53.0 | H 1.374 | V 0.791 | pL -0.011 | vL 0.006 | ∇ 0.141\n",
      "U 36 | F 147456 | FPS 0316 | D 486 | rR:μσmM 0.89 0.05 0.65 0.98 | F:μσmM 17.6 8.4 3.0 56.0 | H 1.453 | V 0.771 | pL 0.017 | vL 0.006 | ∇ 0.036\n",
      "U 37 | F 151552 | FPS 0308 | D 500 | rR:μσmM 0.90 0.05 0.69 0.98 | F:μσmM 16.0 7.3 3.0 50.0 | H 1.378 | V 0.809 | pL -0.011 | vL 0.004 | ∇ 0.053\n",
      "U 38 | F 155648 | FPS 0317 | D 513 | rR:μσmM 0.89 0.05 0.71 0.98 | F:μσmM 17.1 8.0 3.0 46.0 | H 1.485 | V 0.795 | pL 0.016 | vL 0.006 | ∇ 0.151\n",
      "U 39 | F 159744 | FPS 0307 | D 526 | rR:μσmM 0.88 0.06 0.51 0.99 | F:μσmM 18.9 9.7 2.0 78.0 | H 1.396 | V 0.792 | pL 0.034 | vL 0.004 | ∇ 0.038\n",
      "U 40 | F 163840 | FPS 0309 | D 539 | rR:μσmM 0.91 0.04 0.67 0.98 | F:μσmM 14.8 6.5 3.0 53.0 | H 1.318 | V 0.809 | pL -0.022 | vL 0.006 | ∇ 0.077\n",
      "Status saved\n",
      "U 41 | F 167936 | FPS 0315 | D 552 | rR:μσmM 0.90 0.04 0.72 0.98 | F:μσmM 15.3 6.7 4.0 45.0 | H 1.300 | V 0.816 | pL -0.001 | vL 0.003 | ∇ 0.103\n",
      "U 42 | F 172032 | FPS 0308 | D 566 | rR:μσmM 0.91 0.04 0.75 0.98 | F:μσmM 14.8 6.2 3.0 40.0 | H 1.352 | V 0.814 | pL 0.020 | vL 0.003 | ∇ 0.055\n",
      "U 43 | F 176128 | FPS 0314 | D 579 | rR:μσmM 0.91 0.04 0.71 0.98 | F:μσmM 14.4 6.2 3.0 46.0 | H 1.248 | V 0.820 | pL -0.014 | vL 0.003 | ∇ 0.044\n",
      "U 44 | F 180224 | FPS 0307 | D 592 | rR:μσmM 0.91 0.04 0.76 0.98 | F:μσmM 15.0 5.7 3.0 39.0 | H 1.295 | V 0.827 | pL 0.012 | vL 0.004 | ∇ 0.085\n",
      "U 45 | F 184320 | FPS 0308 | D 605 | rR:μσmM 0.88 0.07 0.51 0.98 | F:μσmM 19.9 11.4 3.0 79.0 | H 1.461 | V 0.774 | pL 0.066 | vL 0.011 | ∇ 0.186\n",
      "U 46 | F 188416 | FPS 0311 | D 618 | rR:μσmM 0.87 0.06 0.68 0.98 | F:μσmM 20.5 10.3 4.0 51.0 | H 1.451 | V 0.739 | pL 0.014 | vL 0.009 | ∇ 0.103\n",
      "U 47 | F 192512 | FPS 0310 | D 632 | rR:μσmM 0.90 0.04 0.68 0.98 | F:μσmM 15.5 7.1 3.0 52.0 | H 1.386 | V 0.801 | pL -0.020 | vL 0.005 | ∇ 0.185\n",
      "U 48 | F 196608 | FPS 0315 | D 645 | rR:μσmM 0.90 0.04 0.75 0.98 | F:μσmM 15.5 6.6 3.0 40.0 | H 1.327 | V 0.813 | pL -0.001 | vL 0.004 | ∇ 0.090\n",
      "U 49 | F 200704 | FPS 0310 | D 658 | rR:μσmM 0.90 0.04 0.74 0.98 | F:μσmM 15.4 6.4 3.0 41.0 | H 1.330 | V 0.829 | pL -0.007 | vL 0.003 | ∇ 0.040\n",
      "U 50 | F 204800 | FPS 0310 | D 671 | rR:μσmM 0.91 0.03 0.80 0.98 | F:μσmM 14.5 5.4 3.0 32.0 | H 1.331 | V 0.830 | pL -0.003 | vL 0.002 | ∇ 0.030\n",
      "Status saved\n",
      "U 51 | F 208896 | FPS 0316 | D 684 | rR:μσmM 0.91 0.04 0.76 0.98 | F:μσmM 14.9 5.9 3.0 38.0 | H 1.338 | V 0.817 | pL 0.003 | vL 0.003 | ∇ 0.083\n",
      "U 52 | F 212992 | FPS 0306 | D 697 | rR:μσmM 0.91 0.03 0.77 0.99 | F:μσmM 14.2 5.4 2.0 36.0 | H 1.298 | V 0.838 | pL -0.013 | vL 0.002 | ∇ 0.046\n",
      "U 53 | F 217088 | FPS 0313 | D 711 | rR:μσmM 0.90 0.04 0.74 0.98 | F:μσmM 16.2 7.0 3.0 41.0 | H 1.408 | V 0.824 | pL 0.022 | vL 0.004 | ∇ 0.070\n",
      "U 54 | F 221184 | FPS 0308 | D 724 | rR:μσmM 0.91 0.04 0.79 0.99 | F:μσmM 14.7 6.1 2.0 33.0 | H 1.297 | V 0.821 | pL -0.033 | vL 0.003 | ∇ 0.080\n",
      "U 55 | F 225280 | FPS 0315 | D 737 | rR:μσmM 0.91 0.04 0.75 0.98 | F:μσmM 14.7 6.1 3.0 40.0 | H 1.254 | V 0.830 | pL -0.004 | vL 0.003 | ∇ 0.047\n",
      "U 56 | F 229376 | FPS 0309 | D 750 | rR:μσmM 0.91 0.03 0.79 0.99 | F:μσmM 13.8 5.5 2.0 34.0 | H 1.289 | V 0.825 | pL -0.001 | vL 0.003 | ∇ 0.098\n",
      "U 57 | F 233472 | FPS 0314 | D 763 | rR:μσmM 0.91 0.04 0.74 0.98 | F:μσmM 14.8 5.7 4.0 41.0 | H 1.310 | V 0.825 | pL 0.005 | vL 0.002 | ∇ 0.049\n",
      "U 58 | F 237568 | FPS 0310 | D 776 | rR:μσmM 0.91 0.04 0.70 0.99 | F:μσmM 15.2 6.9 2.0 48.0 | H 1.321 | V 0.806 | pL 0.011 | vL 0.004 | ∇ 0.039\n",
      "U 59 | F 241664 | FPS 0310 | D 790 | rR:μσmM 0.91 0.04 0.73 0.98 | F:μσmM 14.4 5.9 3.0 44.0 | H 1.250 | V 0.812 | pL -0.002 | vL 0.004 | ∇ 0.051\n",
      "U 60 | F 245760 | FPS 0311 | D 803 | rR:μσmM 0.91 0.04 0.75 0.99 | F:μσmM 14.0 5.9 2.0 40.0 | H 1.312 | V 0.835 | pL -0.002 | vL 0.003 | ∇ 0.121\n",
      "Status saved\n",
      "U 61 | F 249856 | FPS 0310 | D 816 | rR:μσmM 0.91 0.03 0.82 0.98 | F:μσmM 13.7 5.0 3.0 28.0 | H 1.240 | V 0.844 | pL -0.015 | vL 0.002 | ∇ 0.089\n",
      "U 62 | F 253952 | FPS 0316 | D 829 | rR:μσmM 0.91 0.03 0.81 0.98 | F:μσmM 13.7 5.2 3.0 31.0 | H 1.294 | V 0.839 | pL 0.001 | vL 0.002 | ∇ 0.095\n",
      "U 63 | F 258048 | FPS 0308 | D 842 | rR:μσmM 0.91 0.03 0.81 0.98 | F:μσmM 14.3 5.4 3.0 31.0 | H 1.290 | V 0.848 | pL -0.002 | vL 0.002 | ∇ 0.042\n",
      "U 64 | F 262144 | FPS 0316 | D 855 | rR:μσmM 0.91 0.04 0.81 0.98 | F:μσmM 14.3 5.7 3.0 31.0 | H 1.287 | V 0.838 | pL 0.001 | vL 0.002 | ∇ 0.052\n",
      "U 65 | F 266240 | FPS 0306 | D 869 | rR:μσmM 0.90 0.05 0.62 0.98 | F:μσmM 16.7 8.8 4.0 60.0 | H 1.299 | V 0.833 | pL 0.011 | vL 0.003 | ∇ 0.091\n",
      "U 66 | F 270336 | FPS 0312 | D 882 | rR:μσmM 0.91 0.04 0.67 0.99 | F:μσmM 14.3 6.4 2.0 53.0 | H 1.315 | V 0.794 | pL 0.009 | vL 0.004 | ∇ 0.060\n",
      "U 67 | F 274432 | FPS 0306 | D 895 | rR:μσmM 0.91 0.04 0.75 0.98 | F:μσmM 15.1 5.6 3.0 40.0 | H 1.304 | V 0.834 | pL 0.008 | vL 0.003 | ∇ 0.087\n",
      "U 68 | F 278528 | FPS 0310 | D 908 | rR:μσmM 0.91 0.04 0.77 0.97 | F:μσmM 14.6 5.8 5.0 37.0 | H 1.263 | V 0.823 | pL -0.016 | vL 0.002 | ∇ 0.019\n",
      "U 69 | F 282624 | FPS 0314 | D 922 | rR:μσmM 0.91 0.03 0.77 0.98 | F:μσmM 14.5 5.3 4.0 36.0 | H 1.238 | V 0.845 | pL -0.005 | vL 0.002 | ∇ 0.039\n",
      "U 70 | F 286720 | FPS 0307 | D 935 | rR:μσmM 0.92 0.03 0.78 0.98 | F:μσmM 13.0 5.0 3.0 35.0 | H 1.247 | V 0.859 | pL -0.019 | vL 0.001 | ∇ 0.053\n",
      "Status saved\n",
      "U 71 | F 290816 | FPS 0313 | D 948 | rR:μσmM 0.89 0.06 0.66 0.98 | F:μσmM 17.7 9.7 3.0 55.0 | H 1.389 | V 0.791 | pL 0.053 | vL 0.008 | ∇ 0.130\n",
      "U 72 | F 294912 | FPS 0302 | D 962 | rR:μσmM 0.91 0.04 0.73 0.98 | F:μσmM 14.3 6.3 4.0 43.0 | H 1.191 | V 0.836 | pL -0.031 | vL 0.003 | ∇ 0.052\n",
      "U 73 | F 299008 | FPS 0317 | D 975 | rR:μσmM 0.92 0.03 0.77 0.98 | F:μσmM 12.9 4.9 3.0 37.0 | H 1.195 | V 0.856 | pL -0.013 | vL 0.002 | ∇ 0.070\n",
      "U 74 | F 303104 | FPS 0310 | D 988 | rR:μσmM 0.91 0.04 0.71 0.99 | F:μσmM 13.6 5.8 2.0 47.0 | H 1.207 | V 0.835 | pL -0.012 | vL 0.003 | ∇ 0.059\n",
      "U 75 | F 307200 | FPS 0313 | D 1001 | rR:μσmM 0.90 0.05 0.49 0.99 | F:μσmM 15.5 8.6 2.0 81.0 | H 1.327 | V 0.842 | pL 0.021 | vL 0.002 | ∇ 0.060\n",
      "U 76 | F 311296 | FPS 0308 | D 1014 | rR:μσmM 0.91 0.04 0.73 0.98 | F:μσmM 14.6 6.5 3.0 43.0 | H 1.304 | V 0.808 | pL -0.010 | vL 0.004 | ∇ 0.129\n",
      "U 77 | F 315392 | FPS 0315 | D 1027 | rR:μσmM 0.91 0.04 0.73 0.98 | F:μσmM 15.0 6.5 3.0 43.0 | H 1.328 | V 0.832 | pL 0.010 | vL 0.003 | ∇ 0.096\n",
      "U 78 | F 319488 | FPS 0308 | D 1041 | rR:μσmM 0.91 0.03 0.76 0.98 | F:μσmM 13.7 5.4 3.0 38.0 | H 1.217 | V 0.835 | pL -0.022 | vL 0.002 | ∇ 0.068\n",
      "U 79 | F 323584 | FPS 0313 | D 1054 | rR:μσmM 0.91 0.04 0.77 0.98 | F:μσmM 13.9 5.6 3.0 37.0 | H 1.312 | V 0.853 | pL 0.004 | vL 0.002 | ∇ 0.056\n",
      "U 80 | F 327680 | FPS 0311 | D 1067 | rR:μσmM 0.90 0.05 0.69 0.98 | F:μσmM 15.9 7.7 3.0 50.0 | H 1.297 | V 0.815 | pL 0.015 | vL 0.005 | ∇ 0.124\n",
      "Status saved\n",
      "U 81 | F 331776 | FPS 0303 | D 1080 | rR:μσmM 0.89 0.06 0.56 0.98 | F:μσmM 17.5 8.8 4.0 70.0 | H 1.374 | V 0.806 | pL 0.035 | vL 0.005 | ∇ 0.076\n",
      "U 82 | F 335872 | FPS 0315 | D 1093 | rR:μσmM 0.90 0.05 0.69 0.98 | F:μσmM 15.4 7.2 3.0 50.0 | H 1.237 | V 0.822 | pL -0.020 | vL 0.003 | ∇ 0.058\n",
      "U 83 | F 339968 | FPS 0304 | D 1107 | rR:μσmM 0.91 0.04 0.76 0.99 | F:μσmM 13.7 5.7 2.0 39.0 | H 1.238 | V 0.829 | pL -0.006 | vL 0.002 | ∇ 0.034\n",
      "U 84 | F 344064 | FPS 0315 | D 1120 | rR:μσmM 0.90 0.04 0.64 0.99 | F:μσmM 16.1 7.0 2.0 57.0 | H 1.376 | V 0.827 | pL 0.020 | vL 0.003 | ∇ 0.080\n",
      "U 85 | F 348160 | FPS 0309 | D 1133 | rR:μσmM 0.89 0.05 0.65 0.98 | F:μσmM 17.6 8.1 4.0 56.0 | H 1.403 | V 0.775 | pL -0.003 | vL 0.004 | ∇ 0.080\n",
      "U 86 | F 352256 | FPS 0314 | D 1146 | rR:μσmM 0.90 0.05 0.61 0.98 | F:μσmM 16.2 7.8 3.0 62.0 | H 1.340 | V 0.801 | pL 0.009 | vL 0.003 | ∇ 0.072\n",
      "U 87 | F 356352 | FPS 0306 | D 1159 | rR:μσmM 0.90 0.05 0.72 0.98 | F:μσmM 16.5 7.6 3.0 45.0 | H 1.394 | V 0.800 | pL 0.019 | vL 0.005 | ∇ 0.110\n",
      "U 88 | F 360448 | FPS 0317 | D 1172 | rR:μσmM 0.91 0.04 0.79 0.99 | F:μσmM 14.4 5.9 2.0 34.0 | H 1.289 | V 0.827 | pL -0.006 | vL 0.003 | ∇ 0.038\n",
      "U 89 | F 364544 | FPS 0302 | D 1186 | rR:μσmM 0.91 0.04 0.66 0.98 | F:μσmM 14.1 5.9 4.0 54.0 | H 1.302 | V 0.839 | pL 0.000 | vL 0.002 | ∇ 0.066\n",
      "U 90 | F 368640 | FPS 0315 | D 1199 | rR:μσmM 0.91 0.03 0.79 0.98 | F:μσmM 14.5 5.4 3.0 34.0 | H 1.286 | V 0.825 | pL -0.000 | vL 0.002 | ∇ 0.089\n",
      "Status saved\n",
      "U 91 | F 372736 | FPS 0303 | D 1213 | rR:μσmM 0.91 0.04 0.64 0.98 | F:μσmM 14.8 7.0 3.0 58.0 | H 1.282 | V 0.819 | pL 0.000 | vL 0.003 | ∇ 0.070\n",
      "U 92 | F 376832 | FPS 0316 | D 1226 | rR:μσmM 0.91 0.04 0.62 0.98 | F:μσmM 14.4 7.0 3.0 60.0 | H 1.315 | V 0.814 | pL 0.017 | vL 0.005 | ∇ 0.099\n",
      "U 93 | F 380928 | FPS 0305 | D 1239 | rR:μσmM 0.90 0.04 0.68 0.98 | F:μσmM 16.1 7.0 3.0 51.0 | H 1.323 | V 0.797 | pL 0.016 | vL 0.004 | ∇ 0.076\n",
      "U 94 | F 385024 | FPS 0312 | D 1252 | rR:μσmM 0.91 0.04 0.71 0.98 | F:μσmM 14.1 6.4 3.0 47.0 | H 1.187 | V 0.837 | pL -0.012 | vL 0.003 | ∇ 0.070\n",
      "U 95 | F 389120 | FPS 0302 | D 1266 | rR:μσmM 0.91 0.04 0.77 0.98 | F:μσmM 14.8 5.9 3.0 37.0 | H 1.317 | V 0.824 | pL 0.014 | vL 0.002 | ∇ 0.044\n",
      "U 96 | F 393216 | FPS 0316 | D 1279 | rR:μσmM 0.91 0.04 0.77 0.99 | F:μσmM 14.5 5.9 2.0 36.0 | H 1.308 | V 0.831 | pL -0.002 | vL 0.002 | ∇ 0.032\n",
      "U 97 | F 397312 | FPS 0307 | D 1292 | rR:μσmM 0.90 0.04 0.75 0.98 | F:μσmM 15.2 6.5 3.0 40.0 | H 1.283 | V 0.823 | pL 0.003 | vL 0.002 | ∇ 0.018\n",
      "U 98 | F 401408 | FPS 0313 | D 1305 | rR:μσmM 0.91 0.03 0.73 0.98 | F:μσmM 14.2 5.5 3.0 43.0 | H 1.268 | V 0.828 | pL 0.011 | vL 0.002 | ∇ 0.032\n",
      "Number of frames:  401408\n"
     ]
    }
   ],
   "source": [
    "## Training\n",
    "\n",
    "num_frames = status[\"num_frames\"]\n",
    "update = status[\"update\"]\n",
    "start_time = time.time()\n",
    "break_flag = False\n",
    "\n",
    "# Moving average settings for early stop\n",
    "threshold = 0.90\n",
    "window = 10\n",
    "rreturn_total = 0\n",
    "i = 0\n",
    "\n",
    "# run just once to have initial grads in all parameters and avoid backward error on first pass\n",
    "exps, _ = algo.collect_experiences()\n",
    "algo.update_parameters(exps)\n",
    "\n",
    "while num_frames < args.frames: # STEP 2\n",
    "\n",
    "    update_start_time = time.time()\n",
    "\n",
    "    # Sample batch of tasks: STEP 3\n",
    "    tasks_batch = sample_tasks(n_tasks=num_tasks)\n",
    "\n",
    "    for i, task in enumerate(tasks_batch):\n",
    "\n",
    "        algo.env = change_multienv_seed(algo.env, seed=task)\n",
    "        # Sample pre-trajectories from each task: STEP 4\n",
    "        pre_exps, pre_logs1 = algo.collect_experiences()\n",
    "         # Unfreeze inner loop params,so grads can get updated in the inner loop\n",
    "        set_freeze_status(algo.acmodel, inner_params, freeze=False)\n",
    "        # Freeze outer loop parameters, so grads do not get updated in the inner loop\n",
    "        set_freeze_status(algo.acmodel, outer_params, freeze=True)\n",
    "        # set inner RIM recurence\n",
    "        algo.recurrence = inner_recurrence\n",
    "        # Update parameters: STEP 6\n",
    "        algo.update_parameters(pre_exps)\n",
    "        # Sample post-trajectories t_i from tasks T_i: STEP 7\n",
    "        post_exps, post_logs1 = algo.collect_experiences()\n",
    "        # Concatenate to get D_meta: STEP 8\n",
    "        meta_exps = post_exps if i==0 else cat_exps(meta_exps, post_exps)\n",
    "        meta_exps = DictList(meta_exps)\n",
    "        meta_exps.obs = DictList(meta_exps.obs)\n",
    "        meta_logs1 = post_logs1 if i==0 else cat_logs(meta_logs1, post_logs1)\n",
    "\n",
    "    # Unfreeze outer loop params, so so grads can get updated in the outer loop\n",
    "    set_freeze_status(algo.acmodel, outer_params, freeze=False)\n",
    "    # Freeze inner loop params, so grads do not get updated in the outer loop\n",
    "    set_freeze_status(algo.acmodel, inner_params, freeze=True)   \n",
    "    \n",
    "    # set outer RIM recurence\n",
    "    algo.recurrence = outer_recurrence\n",
    "\n",
    "    # Update parameters while keeping inner parametes (module and policy) frozen: STEP 9\n",
    "    meta_logs2 = algo.update_parameters(meta_exps)\n",
    "\n",
    "    meta_logs = {**meta_logs1, **meta_logs2}\n",
    "    update_end_time = time.time()\n",
    "\n",
    "    num_frames += meta_logs[\"num_frames\"]\n",
    "    update += 1    \n",
    "    \n",
    "    # Print logs\n",
    "\n",
    "    if update % args.log_interval == 0:\n",
    "        fps = meta_logs[\"num_frames\"]/(update_end_time - update_start_time)\n",
    "        duration = int(time.time() - start_time)\n",
    "        return_per_episode = utils.synthesize(meta_logs[\"return_per_episode\"])\n",
    "        rreturn_per_episode = utils.synthesize(meta_logs[\"reshaped_return_per_episode\"])\n",
    "        num_frames_per_episode = utils.synthesize(meta_logs[\"num_frames_per_episode\"])\n",
    "        # Moving average to break loop if mean reward threshold reached\n",
    "        rreturn_total +=rreturn_per_episode['mean']\n",
    "        i+=1\n",
    "        if i >= window:\n",
    "            rreturn_mavg = rreturn_total / i\n",
    "            if rreturn_mavg >= threshold:\n",
    "                break\n",
    "            else:\n",
    "                i = 0\n",
    "                rreturn_total = 0\n",
    "\n",
    "        header = [\"update\", \"frames\", \"FPS\", \"duration\"]\n",
    "        data = [update, num_frames, fps, duration]\n",
    "        header += [\"rreturn_\" + key for key in rreturn_per_episode.keys()]\n",
    "        data += rreturn_per_episode.values()\n",
    "        header += [\"num_frames_\" + key for key in num_frames_per_episode.keys()]\n",
    "        data += num_frames_per_episode.values()\n",
    "        header += [\"entropy\", \"value\", \"policy_loss\", \"value_loss\", \"grad_norm\"]\n",
    "        data += [meta_logs[\"entropy\"], meta_logs[\"value\"], meta_logs[\"policy_loss\"], meta_logs[\"value_loss\"], meta_logs[\"grad_norm\"]]\n",
    "\n",
    "        txt_logger.info(\n",
    "            \"U {} | F {:06} | FPS {:04.0f} | D {} | rR:μσmM {:.2f} {:.2f} {:.2f} {:.2f} | F:μσmM {:.1f} {:.1f} {} {} | H {:.3f} | V {:.3f} | pL {:.3f} | vL {:.3f} | ∇ {:.3f}\"\n",
    "            .format(*data))\n",
    "\n",
    "        header += [\"return_\" + key for key in return_per_episode.keys()]\n",
    "        data += return_per_episode.values()\n",
    "\n",
    "        if status[\"num_frames\"] == 0:\n",
    "            csv_logger.writerow(header)\n",
    "        csv_logger.writerow(data)\n",
    "        csv_file.flush()\n",
    "\n",
    "        for field, value in zip(header, data):\n",
    "            tb_writer.add_scalar(field, value, num_frames)\n",
    "\n",
    "    # Save status\n",
    "\n",
    "    if args.save_interval > 0 and update % args.save_interval == 0:\n",
    "        status = {\"num_frames\": num_frames, \"update\": update,\n",
    "                  \"model_state\": acmodel.state_dict(), \"optimizer_state\": algo.optimizer.state_dict()}\n",
    "        if hasattr(preprocess_obss, \"vocab\"):\n",
    "            status[\"vocab\"] = preprocess_obss.vocab.vocab\n",
    "        utils.save_status(status, model_dir)\n",
    "        txt_logger.info(\"Status saved\")\n",
    "# STEP 10\n",
    "\n",
    "print(\"Number of frames: \", num_frames)"
   ]
  },
  {
   "cell_type": "markdown",
   "metadata": {},
   "source": [
    "## Evaluation"
   ]
  },
  {
   "cell_type": "markdown",
   "metadata": {},
   "source": [
    "### Set parameters"
   ]
  },
  {
   "cell_type": "code",
   "execution_count": 9,
   "metadata": {},
   "outputs": [
    {
     "name": "stdout",
     "output_type": "stream",
     "text": [
      "{'algo': 'ppo', 'env': 'MiniGrid-WallGapS6-v0', 'model': 'MiniGrid-WallGapS6-v0_meta_RIM_5_3_frames_300k_tasks_2_recur_64_16_proc_16_RMSProp_lr_7e4_gae_099_test_MiniGrid-DoorKey-6x6-v0', 'seed': 2, 'log_interval': 1, 'save_interval': 10, 'procs': 16, 'frames': 400000, 'epochs': 4, 'batch_size': 256, 'frames_per_proc': 128, 'discount': 0.99, 'lr': 0.0007, 'gae_lambda': 0.99, 'entropy_coef': 0.01, 'value_loss_coef': 0.5, 'max_grad_norm': 0.5, 'optim_eps': 1e-08, 'optim_alpha': 0.99, 'clip_eps': 0.2, 'recurrence': 32, 'text': False, 'use_rim': True, 'mem': True, 'num_units': 5, 'k': 3, 'episodes': 100, 'argmax': False, 'worst_episodes_to_show': 10}\n",
      "Device: cpu\n",
      "\n"
     ]
    }
   ],
   "source": [
    "from torch_ac.utils.penv import ParallelEnv\n",
    "\n",
    "#env_id = 'MiniGrid-Empty-Random-6x6-v0'\n",
    "#env_id = 'MiniGrid-DoorKey-6x6-v0'\n",
    "env_id = 'MiniGrid-WallGapS6-v0'\n",
    "#env_id = 'MiniGrid-Empty-8x8-v0'\n",
    "\n",
    "## Hyper-parameters\n",
    "args.env = env_id\n",
    "args.episodes = 100\n",
    "args.seed = 2\n",
    "args.argmax = False\n",
    "args.worst_episodes_to_show = 10\n",
    "print(args)\n",
    "\n",
    "# Set seed for all randomness sources\n",
    "utils.seed(args.seed)\n",
    "\n",
    "# Set device\n",
    "device = torch.device(\"cuda\" if torch.cuda.is_available() else \"cpu\")\n",
    "print(f\"Device: {device}\\n\")"
   ]
  },
  {
   "cell_type": "markdown",
   "metadata": {},
   "source": [
    "### Load environments, agent and logs"
   ]
  },
  {
   "cell_type": "code",
   "execution_count": 10,
   "metadata": {},
   "outputs": [
    {
     "name": "stdout",
     "output_type": "stream",
     "text": [
      "Environments loaded\n",
      "\n",
      "Agent loaded\n",
      "\n"
     ]
    }
   ],
   "source": [
    "# Load environments\n",
    "\n",
    "envs = []\n",
    "for i in range(args.procs):\n",
    "    env = utils.make_env(args.env, args.seed + 10000 * i)\n",
    "    envs.append(env)\n",
    "env = ParallelEnv(envs)\n",
    "print(\"Environments loaded\\n\")\n",
    "\n",
    "# Load agent\n",
    "\n",
    "model_dir = utils.get_model_dir(args.model)\n",
    "agent = utils.Agent(obs_space=env.observation_space, action_space=env.action_space, model_dir=model_dir, device=device, argmax=args.argmax, num_envs=args.procs, use_memory=args.mem, use_rim=args.use_rim, num_units=args.num_units, k=args.k)\n",
    "print(\"Agent loaded\\n\")\n",
    "\n",
    "# Initialize logs\n",
    "\n",
    "logs = {\"num_frames_per_episode\": [], \"return_per_episode\": []}"
   ]
  },
  {
   "cell_type": "markdown",
   "metadata": {},
   "source": [
    "### Run agent"
   ]
  },
  {
   "cell_type": "code",
   "execution_count": 11,
   "metadata": {},
   "outputs": [
    {
     "name": "stdout",
     "output_type": "stream",
     "text": [
      "Agent run completed\n",
      "\n"
     ]
    }
   ],
   "source": [
    "# Run agent\n",
    "\n",
    "start_time = time.time()\n",
    "\n",
    "obss = env.reset()\n",
    "\n",
    "log_done_counter = 0\n",
    "log_episode_return = torch.zeros(args.procs, device=device)\n",
    "log_episode_num_frames = torch.zeros(args.procs, device=device)\n",
    "\n",
    "while log_done_counter < args.episodes:\n",
    "    actions = agent.get_actions(obss)\n",
    "    obss, rewards, dones, _ = env.step(actions)\n",
    "    agent.analyze_feedbacks(rewards, dones)\n",
    "\n",
    "    log_episode_return += torch.tensor(rewards, device=device, dtype=torch.float)\n",
    "    log_episode_num_frames += torch.ones(args.procs, device=device)\n",
    "\n",
    "    for i, done in enumerate(dones):\n",
    "        if done:\n",
    "            log_done_counter += 1\n",
    "            logs[\"return_per_episode\"].append(log_episode_return[i].item())\n",
    "            logs[\"num_frames_per_episode\"].append(log_episode_num_frames[i].item())\n",
    "\n",
    "    mask = 1 - torch.tensor(dones, device=device, dtype=torch.float)\n",
    "    log_episode_return *= mask\n",
    "    log_episode_num_frames *= mask\n",
    "\n",
    "end_time = time.time()\n",
    "print(\"Agent run completed\\n\")"
   ]
  },
  {
   "cell_type": "markdown",
   "metadata": {},
   "source": [
    "### Print logs and results"
   ]
  },
  {
   "cell_type": "code",
   "execution_count": 12,
   "metadata": {},
   "outputs": [
    {
     "name": "stdout",
     "output_type": "stream",
     "text": [
      "F 1375.0 | FPS 2371 | D 0 | R:μσmM 0.91 0.03 0.84 0.98 | F:μσmM 13.8 4.4 4.0 26.0\n",
      "\n",
      "10 worst episodes:\n",
      "- episode 19: R=0.8374999761581421, F=26.0\n",
      "- episode 16: R=0.8500000238418579, F=24.0\n",
      "- episode 27: R=0.862500011920929, F=22.0\n",
      "- episode 56: R=0.862500011920929, F=22.0\n",
      "- episode 63: R=0.862500011920929, F=22.0\n",
      "- episode 31: R=0.8687499761581421, F=21.0\n",
      "- episode 60: R=0.8687499761581421, F=21.0\n",
      "- episode 84: R=0.8687499761581421, F=21.0\n",
      "- episode 21: R=0.875, F=20.0\n",
      "- episode 51: R=0.875, F=20.0\n"
     ]
    }
   ],
   "source": [
    "# Print logs\n",
    "\n",
    "num_frames = sum(logs[\"num_frames_per_episode\"])\n",
    "fps = num_frames/(end_time - start_time)\n",
    "duration = int(end_time - start_time)\n",
    "return_per_episode = utils.synthesize(logs[\"return_per_episode\"])\n",
    "num_frames_per_episode = utils.synthesize(logs[\"num_frames_per_episode\"])\n",
    "\n",
    "print(\"F {} | FPS {:.0f} | D {} | R:μσmM {:.2f} {:.2f} {:.2f} {:.2f} | F:μσmM {:.1f} {:.1f} {} {}\"\n",
    "      .format(num_frames, fps, duration,\n",
    "              *return_per_episode.values(),\n",
    "              *num_frames_per_episode.values()))\n",
    "\n",
    "# Print worst episodes\n",
    "\n",
    "n = args.worst_episodes_to_show\n",
    "if n > 0:\n",
    "    print(\"\\n{} worst episodes:\".format(n))\n",
    "\n",
    "    indexes = sorted(range(len(logs[\"return_per_episode\"])), key=lambda k: logs[\"return_per_episode\"][k])\n",
    "    for i in indexes[:n]:\n",
    "        print(\"- episode {}: R={}, F={}\".format(i, logs[\"return_per_episode\"][i], logs[\"num_frames_per_episode\"][i]))"
   ]
  },
  {
   "cell_type": "markdown",
   "metadata": {},
   "source": [
    "## Visualization"
   ]
  },
  {
   "cell_type": "markdown",
   "metadata": {},
   "source": [
    "### Load parameters"
   ]
  },
  {
   "cell_type": "code",
   "execution_count": null,
   "metadata": {},
   "outputs": [],
   "source": [
    "import array2gif\n",
    "from pathlib import Path\n",
    "import numpy\n",
    "\n",
    "## Hyper-parameters\n",
    "args = {\n",
    "# General parameters\n",
    "'env':args.env,\n",
    "'model':args.model,\n",
    "'seed':15,\n",
    "'shift':0,\n",
    "'argmax':False,\n",
    "'pause':0.1,\n",
    "'gif':args.model,\n",
    "'episodes':5,\n",
    "# Model Parameters\n",
    "'use_rim':args.use_rim,\n",
    "'num_units':args.num_units,\n",
    "'k':args.k\n",
    "}\n",
    "\n",
    "args = DictList(args)\n",
    "print(args)"
   ]
  },
  {
   "cell_type": "markdown",
   "metadata": {},
   "source": [
    "### Set environment, agent and logs"
   ]
  },
  {
   "cell_type": "code",
   "execution_count": null,
   "metadata": {},
   "outputs": [],
   "source": [
    "# Set seed for all randomness sources\n",
    "\n",
    "utils.seed(args.seed)\n",
    "\n",
    "# Set device\n",
    "\n",
    "device = torch.device(\"cuda\" if torch.cuda.is_available() else \"cpu\")\n",
    "print(f\"Device: {device}\\n\")\n",
    "\n",
    "# Load environment\n",
    "\n",
    "env = utils.make_env(args.env, args.seed)\n",
    "for _ in range(args.shift):\n",
    "    env.reset()\n",
    "print(\"Environment loaded\\n\")\n",
    "\n",
    "# Load agent\n",
    "\n",
    "model_dir = utils.get_model_dir(args.model)\n",
    "agent = utils.Agent(env.observation_space, env.action_space, model_dir, device, args.argmax, use_rim = args.use_rim, num_units = args.num_units, k = args.k)\n",
    "\n",
    "print(\"Agent loaded\\n\")"
   ]
  },
  {
   "cell_type": "markdown",
   "metadata": {},
   "source": [
    "### Make animation"
   ]
  },
  {
   "cell_type": "code",
   "execution_count": null,
   "metadata": {},
   "outputs": [],
   "source": [
    "%%capture\n",
    "# Run the agent\n",
    "\n",
    "if args.gif:\n",
    "   from array2gif import write_gif\n",
    "   frames = []\n",
    "\n",
    "# Create a window to view the environment\n",
    "env.render('human')\n",
    "\n",
    "for episode in range(args.episodes):\n",
    "    obs = env.reset()\n",
    "    done2 = False\n",
    "    while True:\n",
    "        env.render('human')\n",
    "        if args.gif:\n",
    "            frames.append(numpy.moveaxis(env.render(\"rgb_array\"), 2, 0))\n",
    "            \n",
    "\n",
    "        action = agent.get_action(obs)\n",
    "        obs, reward, done, _ = env.step(action)\n",
    "        agent.analyze_feedback(reward, done)\n",
    "        \n",
    "        if done or env.window.closed:\n",
    "            if episode == 4:\n",
    "                done2 = True\n",
    "            break\n",
    "    if done2 == True:\n",
    "        env.close()\n",
    "        break\n",
    "    #if env.window.closed:\n",
    "    #    break\n",
    "print('doneeee')\n",
    "if args.gif:\n",
    "    print(\"Saving gif... \", end=\"\")\n",
    "    utils.create_folders_if_necessary(\"./animation\")\n",
    "    #Path(\"./animation\").mkdir(parents=True, exist_ok=True)\n",
    "    write_gif(numpy.array(frames), \"./animation/\"+args.gif+\".gif\")\n",
    "    print(\"Done.\")"
   ]
  },
  {
   "cell_type": "code",
   "execution_count": null,
   "metadata": {},
   "outputs": [],
   "source": [
    "show_animation(args.model)"
   ]
  },
  {
   "cell_type": "markdown",
   "metadata": {},
   "source": [
    "### Make video"
   ]
  },
  {
   "cell_type": "code",
   "execution_count": null,
   "metadata": {},
   "outputs": [],
   "source": [
    "test_env = wrap_env(env)\n",
    "observation = test_env.reset()\n",
    "\n",
    "done = False\n",
    "episode_reward = 0\n",
    "episode_length = 0\n",
    "\n",
    "while not done:\n",
    "    action = agent.get_action(observation)\n",
    "    observation, reward, done, info = test_env.step(action)\n",
    "    episode_reward += reward\n",
    "    episode_length += 1\n",
    "\n",
    "print('Total reward:', episode_reward)\n",
    "print('Total length:', episode_length)\n",
    "\n",
    "test_env.close()\n",
    "show_video()"
   ]
  },
  {
   "cell_type": "markdown",
   "metadata": {},
   "source": [
    "# Continue meta-RIMs learning on 2nd environment"
   ]
  },
  {
   "cell_type": "markdown",
   "metadata": {},
   "source": [
    "## Configuration"
   ]
  },
  {
   "cell_type": "markdown",
   "metadata": {},
   "source": [
    "### Set parameters"
   ]
  },
  {
   "cell_type": "code",
   "execution_count": 13,
   "metadata": {},
   "outputs": [],
   "source": [
    "#env_id = 'MiniGrid-Empty-8x8-v0'\n",
    "#env_id = 'MiniGrid-LavaGapS5-v0'\n",
    "#env_id = 'MiniGrid-DoorKey-5x5-v0'\n",
    "env_id = 'MiniGrid-DoorKey-6x6-v0'\n",
    "#env_id = 'MiniGrid-WallGapS6-v0'\n",
    "#env_id = 'MiniGrid-Empty-Random-6x6-v0'\n",
    "#env_id = 'MiniGrid-Empty-5x5-v0'\n",
    "\n",
    "add_frames = 500000\n",
    "frames = frames + add_frames\n",
    "\n",
    "## Hyper-parameters\n",
    "args = {\n",
    "# General parameters\n",
    "'algo':'ppo',\n",
    "'env':env_id,\n",
    "'model':model,\n",
    "'seed':1,\n",
    "'log_interval':1,\n",
    "'save_interval':10,\n",
    "'procs':processes,\n",
    "'frames':frames, # default 1e7\n",
    "# Parameters for main algorithm\n",
    "'epochs':4,\n",
    "'batch_size':256,\n",
    "'frames_per_proc':128, # 128 for PPO and 5 per A2C\n",
    "'discount':0.99,\n",
    "#'lr':0.0001, # for Adam\n",
    "'lr':0.0007, # for RMSProp\n",
    "#'gae_lambda':0.95, # 1 means no gae, for Adam\n",
    "'gae_lambda':0.99, # 1 means no gae, for RMSProp\n",
    "'entropy_coef':0.01,\n",
    "'value_loss_coef':0.5,\n",
    "'max_grad_norm':0.5,\n",
    "'optim_eps':1e-8,\n",
    "'optim_alpha':0.99,\n",
    "'clip_eps':0.2,\n",
    "'recurrence':32, # if > 1, a LSTM is added\n",
    "'text':False, # add a GRU for text input\n",
    "# Model Parameters\n",
    "'use_rim':True # action = 'store_true'\n",
    "}\n",
    "\n",
    "#args = utils.dotdict(args)\n",
    "args = DictList(args)\n",
    "\n",
    "args.mem = args.recurrence > 1\n",
    "\n",
    "# RIM specific hyperparameters\n",
    "if args.use_rim:\n",
    "    args.num_units = 5\n",
    "    args.k = 3"
   ]
  },
  {
   "cell_type": "markdown",
   "metadata": {},
   "source": [
    "### Load previous loggers and settings"
   ]
  },
  {
   "cell_type": "code",
   "execution_count": 14,
   "metadata": {},
   "outputs": [
    {
     "name": "stdout",
     "output_type": "stream",
     "text": [
      "{'algo': 'ppo', 'env': 'MiniGrid-DoorKey-6x6-v0', 'model': 'MiniGrid-WallGapS6-v0_meta_RIM_5_3_frames_300k_tasks_2_recur_64_16_proc_16_RMSProp_lr_7e4_gae_099_test_MiniGrid-DoorKey-6x6-v0', 'seed': 1, 'log_interval': 1, 'save_interval': 10, 'procs': 16, 'frames': 900000, 'epochs': 4, 'batch_size': 256, 'frames_per_proc': 128, 'discount': 0.99, 'lr': 0.0007, 'gae_lambda': 0.99, 'entropy_coef': 0.01, 'value_loss_coef': 0.5, 'max_grad_norm': 0.5, 'optim_eps': 1e-08, 'optim_alpha': 0.99, 'clip_eps': 0.2, 'recurrence': 32, 'text': False, 'use_rim': True, 'mem': True, 'num_units': 5, 'k': 3}\n",
      "\n",
      "Device: cpu\n",
      "\n"
     ]
    }
   ],
   "source": [
    "date = datetime.datetime.now().strftime(\"%y-%m-%d-%H-%M-%S\")\n",
    "default_model_name = f\"{args.env}_{args.algo}_seed{args.seed}_{date}\"\n",
    "\n",
    "model_name = args.model or default_model_name\n",
    "model_dir = utils.get_model_dir(model_name)\n",
    "\n",
    "# Load loggers and Tensorboard writer\n",
    "\n",
    "txt_logger = utils.get_txt_logger(model_dir)\n",
    "csv_file, csv_logger = utils.get_csv_logger(model_dir)\n",
    "tb_writer = tensorboardX.SummaryWriter(model_dir)\n",
    "\n",
    "# Log command and all script arguments\n",
    "\n",
    "#txt_logger.info(\"{}\\n\".format(\" \".join(sys.argv)))\n",
    "txt_logger.info(\"{}\\n\".format(args))\n",
    "\n",
    "# Set seed for all randomness sources\n",
    "\n",
    "utils.seed(args.seed)\n",
    "\n",
    "# Set device\n",
    "\n",
    "device = torch.device(\"cuda\" if torch.cuda.is_available() else \"cpu\")\n",
    "txt_logger.info(f\"Device: {device}\\n\")"
   ]
  },
  {
   "cell_type": "markdown",
   "metadata": {},
   "source": [
    "### Load existing environments, model and training status (TEST for CF)"
   ]
  },
  {
   "cell_type": "code",
   "execution_count": 15,
   "metadata": {},
   "outputs": [
    {
     "name": "stdout",
     "output_type": "stream",
     "text": [
      "Environments loaded\n",
      "\n"
     ]
    }
   ],
   "source": [
    "# Load environments\n",
    "\n",
    "envs = []\n",
    "for i in range(args.procs):\n",
    "    envs.append(utils.make_env(args.env, args.seed + 10000 * i))\n",
    "txt_logger.info(\"Environments loaded\\n\")\n",
    "\n",
    "envs = make_envs(args.env, args.procs, args.seed)\n",
    "\n",
    "algo.env = envs"
   ]
  },
  {
   "cell_type": "markdown",
   "metadata": {},
   "source": [
    "### Load existing environments, model and training status"
   ]
  },
  {
   "cell_type": "code",
   "execution_count": 23,
   "metadata": {},
   "outputs": [
    {
     "name": "stdout",
     "output_type": "stream",
     "text": [
      "Environments loaded\n",
      "\n",
      "Training status loaded\n",
      "\n",
      "Observations preprocessor loaded\n",
      "Model loaded\n",
      "\n",
      "ACModel(\n",
      "  (image_conv): Sequential(\n",
      "    (0): Conv2d(3, 16, kernel_size=(2, 2), stride=(1, 1))\n",
      "    (1): ReLU()\n",
      "    (2): MaxPool2d(kernel_size=(2, 2), stride=(2, 2), padding=0, dilation=1, ceil_mode=False)\n",
      "    (3): Conv2d(16, 32, kernel_size=(2, 2), stride=(1, 1))\n",
      "    (4): ReLU()\n",
      "    (5): Conv2d(32, 64, kernel_size=(2, 2), stride=(1, 1))\n",
      "    (6): ReLU()\n",
      "  )\n",
      "  (memory_rnn): RIMCell(\n",
      "    (key): Linear(in_features=64, out_features=64, bias=True)\n",
      "    (value): Linear(in_features=64, out_features=64, bias=True)\n",
      "    (rnn): GroupLSTMCell(\n",
      "      (i2h): GroupLinearLayer()\n",
      "      (h2h): GroupLinearLayer()\n",
      "    )\n",
      "    (query): GroupLinearLayer()\n",
      "    (query_): GroupLinearLayer()\n",
      "    (key_): GroupLinearLayer()\n",
      "    (value_): GroupLinearLayer()\n",
      "    (comm_attention_output): GroupLinearLayer()\n",
      "    (comm_dropout): Dropout(p=0.1, inplace=False)\n",
      "    (input_dropout): Dropout(p=0.1, inplace=False)\n",
      "  )\n",
      "  (actor): Sequential(\n",
      "    (0): Linear(in_features=60, out_features=64, bias=True)\n",
      "    (1): Tanh()\n",
      "    (2): Linear(in_features=64, out_features=7, bias=True)\n",
      "  )\n",
      "  (critic): Sequential(\n",
      "    (0): Linear(in_features=60, out_features=64, bias=True)\n",
      "    (1): Tanh()\n",
      "    (2): Linear(in_features=64, out_features=1, bias=True)\n",
      "  )\n",
      ")\n",
      "\n",
      "Optimizer loaded\n",
      "\n"
     ]
    }
   ],
   "source": [
    "# Load environments\n",
    "\n",
    "envs = []\n",
    "for i in range(args.procs):\n",
    "    envs.append(utils.make_env(args.env, args.seed + 10000 * i))\n",
    "txt_logger.info(\"Environments loaded\\n\")\n",
    "\n",
    "# Load training status\n",
    "\n",
    "try:\n",
    "    status = utils.get_status(model_dir)\n",
    "except OSError:\n",
    "    status = {\"num_frames\": 0, \"update\": 0}\n",
    "txt_logger.info(\"Training status loaded\\n\")\n",
    "\n",
    "# Load observations preprocessor\n",
    "\n",
    "obs_space, preprocess_obss = utils.get_obss_preprocessor(envs[0].observation_space)\n",
    "if \"vocab\" in status:\n",
    "    preprocess_obss.vocab.load_vocab(status[\"vocab\"])\n",
    "txt_logger.info(\"Observations preprocessor loaded\")\n",
    "\n",
    "# Load model\n",
    "\n",
    "acmodel = ACModel(obs_space, envs[0].action_space, args.mem, args.text, args.use_rim, args.num_units, args.k)\n",
    "if \"model_state\" in status:\n",
    "    acmodel.load_state_dict(status[\"model_state\"])\n",
    "acmodel.to(device)\n",
    "txt_logger.info(\"Model loaded\\n\")\n",
    "txt_logger.info(\"{}\\n\".format(acmodel))\n",
    "\n",
    "# Load algo\n",
    "\n",
    "if args.algo == \"a2c\":\n",
    "    algo = torch_ac.A2CAlgo(envs, acmodel, device, args.frames_per_proc, args.discount, args.lr, args.gae_lambda,\n",
    "                            args.entropy_coef, args.value_loss_coef, args.max_grad_norm, args.recurrence,\n",
    "                            args.optim_alpha, args.optim_eps, preprocess_obss)\n",
    "elif args.algo == \"ppo\":\n",
    "    algo = torch_ac.PPOAlgo(envs, acmodel, device, args.frames_per_proc, args.discount, args.lr, args.gae_lambda,\n",
    "                            args.entropy_coef, args.value_loss_coef, args.max_grad_norm, args.recurrence,\n",
    "                            args.optim_eps, args.clip_eps, args.epochs, args.batch_size, preprocess_obss)\n",
    "else:\n",
    "    raise ValueError(\"Incorrect algorithm name: {}\".format(args.algo))\n",
    "\n",
    "# change to RMSProp optimizer\n",
    "algo.optimizer = torch.optim.RMSprop(algo.acmodel.parameters(), args.lr, eps=args.optim_eps)\n",
    "\n",
    "# delete param_groups after it has been created\n",
    "for i in range(len(algo.optimizer.param_groups)):\n",
    "    del algo.optimizer.param_groups[0]\n",
    "\n",
    "# Re-create separate param_groups for different inner and outer loop optimizer lr\n",
    "\n",
    "# inner loop param group\n",
    "algo.optimizer.add_param_group({'params': [\n",
    "    *acmodel.image_conv.parameters(), \n",
    "    *acmodel.memory_rnn.rnn.parameters(), \n",
    "    *acmodel.actor.parameters()], 'lr': lr_alpha})\n",
    "\n",
    "# outer loop param group\n",
    "algo.optimizer.add_param_group({'params': [\n",
    "    *acmodel.critic.parameters(), \n",
    "    *acmodel.memory_rnn.key.parameters(),\n",
    "    *acmodel.memory_rnn.key_.parameters(),\n",
    "    *acmodel.memory_rnn.query.parameters(),\n",
    "    *acmodel.memory_rnn.query_.parameters(),\n",
    "    *acmodel.memory_rnn.value.parameters(),\n",
    "    *acmodel.memory_rnn.value_.parameters(),\n",
    "    *acmodel.memory_rnn.comm_attention_output.parameters()\n",
    "    ], 'lr': lr_beta})\n",
    "\n",
    "if \"optimizer_state\" in status:\n",
    "    algo.optimizer.load_state_dict(status[\"optimizer_state\"])\n",
    "txt_logger.info(\"Optimizer loaded\\n\")"
   ]
  },
  {
   "cell_type": "markdown",
   "metadata": {},
   "source": [
    "## Continue training"
   ]
  },
  {
   "cell_type": "code",
   "execution_count": 16,
   "metadata": {},
   "outputs": [
    {
     "name": "stdout",
     "output_type": "stream",
     "text": [
      "U 91 | F 372736 | FPS 0301 | D 13 | rR:μσmM 0.47 0.38 0.00 0.96 | F:μσmM 196.0 148.1 6.0 378.0 | H 1.663 | V 0.379 | pL 0.199 | vL 0.003 | ∇ 0.070\n",
      "U 92 | F 376832 | FPS 0309 | D 26 | rR:μσmM 0.14 0.21 0.00 0.69 | F:μσmM 318.4 66.4 123.0 360.0 | H 1.813 | V 0.129 | pL 0.116 | vL 0.005 | ∇ 0.091\n",
      "U 93 | F 380928 | FPS 0314 | D 39 | rR:μσmM 0.13 0.20 0.00 0.69 | F:μσmM 321.6 66.4 122.0 360.0 | H 1.874 | V 0.073 | pL 0.014 | vL 0.004 | ∇ 0.085\n",
      "U 94 | F 385024 | FPS 0309 | D 53 | rR:μσmM 0.20 0.30 0.00 0.86 | F:μσmM 344.2 266.8 58.0 1725.0 | H 1.894 | V 0.062 | pL 0.007 | vL 0.006 | ∇ 0.116\n",
      "U 95 | F 389120 | FPS 0317 | D 66 | rR:μσmM 0.30 0.32 0.00 0.86 | F:μσmM 266.4 109.8 66.0 360.0 | H 1.889 | V 0.047 | pL -0.006 | vL 0.004 | ∇ 0.022\n",
      "U 96 | F 393216 | FPS 0310 | D 79 | rR:μσmM 0.30 0.31 0.00 0.86 | F:μσmM 268.1 102.3 58.0 360.0 | H 1.898 | V 0.059 | pL -0.049 | vL 0.017 | ∇ 0.223\n",
      "U 97 | F 397312 | FPS 0316 | D 92 | rR:μσmM 0.22 0.32 0.00 0.94 | F:μσmM 301.1 108.0 24.0 493.0 | H 1.910 | V 0.072 | pL 0.016 | vL 0.005 | ∇ 0.071\n",
      "U 98 | F 401408 | FPS 0303 | D 105 | rR:μσmM 0.27 0.35 0.00 0.94 | F:μσmM 281.0 133.7 24.0 616.0 | H 1.904 | V 0.060 | pL -0.009 | vL 0.007 | ∇ 0.110\n",
      "U 99 | F 405504 | FPS 0317 | D 118 | rR:μσmM 0.22 0.31 0.00 0.81 | F:μσmM 287.4 108.1 75.0 360.0 | H 1.904 | V 0.079 | pL 0.001 | vL 0.006 | ∇ 0.074\n",
      "U 100 | F 409600 | FPS 0310 | D 131 | rR:μσmM 0.24 0.31 0.00 0.95 | F:μσmM 281.2 107.4 21.0 360.0 | H 1.924 | V 0.067 | pL 0.013 | vL 0.005 | ∇ 0.100\n",
      "Status saved\n",
      "U 101 | F 413696 | FPS 0315 | D 145 | rR:μσmM 0.31 0.33 0.00 0.94 | F:μσmM 301.1 255.4 25.0 1561.0 | H 1.914 | V 0.061 | pL 0.008 | vL 0.005 | ∇ 0.112\n",
      "U 102 | F 417792 | FPS 0312 | D 158 | rR:μσmM 0.24 0.29 0.00 0.94 | F:μσmM 283.5 101.8 25.0 360.0 | H 1.895 | V 0.081 | pL -0.005 | vL 0.004 | ∇ 0.056\n",
      "U 103 | F 421888 | FPS 0312 | D 171 | rR:μσmM 0.33 0.32 0.00 0.85 | F:μσmM 250.1 110.7 61.0 360.0 | H 1.923 | V 0.060 | pL 0.024 | vL 0.004 | ∇ 0.082\n",
      "U 104 | F 425984 | FPS 0311 | D 184 | rR:μσmM 0.32 0.34 0.00 0.93 | F:μσmM 301.5 216.5 28.0 1329.0 | H 1.886 | V 0.052 | pL 0.038 | vL 0.003 | ∇ 0.039\n",
      "U 105 | F 430080 | FPS 0310 | D 197 | rR:μσmM 0.45 0.33 0.00 0.92 | F:μσmM 211.3 116.5 34.0 360.0 | H 1.875 | V 0.126 | pL -0.030 | vL 0.020 | ∇ 0.170\n",
      "U 106 | F 434176 | FPS 0308 | D 210 | rR:μσmM 0.32 0.34 0.00 0.90 | F:μσmM 254.9 121.3 38.0 360.0 | H 1.877 | V 0.093 | pL 0.000 | vL 0.011 | ∇ 0.138\n",
      "U 107 | F 438272 | FPS 0315 | D 223 | rR:μσmM 0.39 0.35 0.00 0.88 | F:μσmM 259.7 194.3 46.0 1113.0 | H 1.886 | V 0.100 | pL -0.024 | vL 0.017 | ∇ 0.158\n",
      "U 108 | F 442368 | FPS 0305 | D 237 | rR:μσmM 0.47 0.34 0.00 0.92 | F:μσmM 209.7 124.0 31.0 360.0 | H 1.828 | V 0.188 | pL -0.009 | vL 0.019 | ∇ 0.220\n",
      "U 109 | F 446464 | FPS 0314 | D 250 | rR:μσmM 0.50 0.28 0.00 0.93 | F:μσmM 201.7 103.5 30.0 360.0 | H 1.799 | V 0.274 | pL 0.034 | vL 0.012 | ∇ 0.129\n",
      "U 110 | F 450560 | FPS 0305 | D 263 | rR:μσmM 0.57 0.28 0.00 0.90 | F:μσmM 173.3 106.2 41.0 360.0 | H 1.816 | V 0.257 | pL 0.010 | vL 0.021 | ∇ 0.206\n",
      "Status saved\n",
      "U 111 | F 454656 | FPS 0316 | D 276 | rR:μσmM 0.54 0.31 0.00 0.94 | F:μσmM 177.2 113.0 22.0 360.0 | H 1.855 | V 0.139 | pL 0.048 | vL 0.008 | ∇ 0.103\n",
      "U 112 | F 458752 | FPS 0308 | D 290 | rR:μσmM 0.69 0.23 0.00 0.95 | F:μσmM 124.2 90.3 18.0 360.0 | H 1.773 | V 0.281 | pL -0.056 | vL 0.025 | ∇ 0.092\n",
      "U 113 | F 462848 | FPS 0315 | D 303 | rR:μσmM 0.73 0.23 0.00 0.95 | F:μσmM 106.0 84.6 19.0 360.0 | H 1.714 | V 0.369 | pL -0.007 | vL 0.015 | ∇ 0.074\n",
      "U 114 | F 466944 | FPS 0306 | D 316 | rR:μσmM 0.79 0.15 0.34 0.95 | F:μσmM 83.2 58.1 19.0 266.0 | H 1.711 | V 0.397 | pL -0.029 | vL 0.017 | ∇ 0.113\n",
      "U 115 | F 471040 | FPS 0312 | D 329 | rR:μσmM 0.83 0.15 0.00 0.95 | F:μσmM 68.1 55.2 19.0 360.0 | H 1.662 | V 0.520 | pL -0.024 | vL 0.016 | ∇ 0.144\n",
      "U 116 | F 475136 | FPS 0317 | D 342 | rR:μσmM 0.83 0.14 0.30 0.96 | F:μσmM 66.7 55.4 17.0 281.0 | H 1.634 | V 0.546 | pL -0.003 | vL 0.012 | ∇ 0.092\n",
      "U 117 | F 479232 | FPS 0304 | D 356 | rR:μσmM 0.84 0.13 0.28 0.96 | F:μσmM 64.8 51.9 15.0 286.0 | H 1.674 | V 0.490 | pL 0.035 | vL 0.011 | ∇ 0.088\n",
      "U 118 | F 483328 | FPS 0316 | D 369 | rR:μσmM 0.89 0.06 0.69 0.96 | F:μσmM 44.6 22.9 16.0 122.0 | H 1.551 | V 0.671 | pL -0.050 | vL 0.011 | ∇ 0.095\n",
      "U 119 | F 487424 | FPS 0305 | D 382 | rR:μσmM 0.89 0.06 0.63 0.96 | F:μσmM 45.0 22.9 16.0 147.0 | H 1.566 | V 0.651 | pL 0.022 | vL 0.012 | ∇ 0.136\n",
      "U 120 | F 491520 | FPS 0317 | D 395 | rR:μσmM 0.90 0.05 0.68 0.96 | F:μσmM 41.8 18.6 15.0 127.0 | H 1.506 | V 0.710 | pL 0.040 | vL 0.006 | ∇ 0.066\n",
      "Status saved\n",
      "U 121 | F 495616 | FPS 0309 | D 408 | rR:μσmM 0.91 0.04 0.77 0.96 | F:μσmM 36.2 16.5 16.0 92.0 | H 1.439 | V 0.724 | pL -0.007 | vL 0.009 | ∇ 0.109\n",
      "U 122 | F 499712 | FPS 0317 | D 421 | rR:μσmM 0.92 0.03 0.80 0.97 | F:μσmM 32.6 12.3 13.0 82.0 | H 1.417 | V 0.715 | pL -0.011 | vL 0.005 | ∇ 0.054\n",
      "U 123 | F 503808 | FPS 0310 | D 434 | rR:μσmM 0.91 0.04 0.72 0.96 | F:μσmM 35.3 14.3 17.0 112.0 | H 1.511 | V 0.720 | pL 0.055 | vL 0.006 | ∇ 0.080\n",
      "U 124 | F 507904 | FPS 0308 | D 448 | rR:μσmM 0.92 0.03 0.81 0.98 | F:μσmM 33.4 13.0 9.0 78.0 | H 1.546 | V 0.710 | pL 0.027 | vL 0.009 | ∇ 0.074\n",
      "U 125 | F 512000 | FPS 0309 | D 461 | rR:μσmM 0.90 0.05 0.72 0.96 | F:μσmM 38.6 18.9 14.0 112.0 | H 1.491 | V 0.710 | pL 0.026 | vL 0.007 | ∇ 0.105\n",
      "U 126 | F 516096 | FPS 0317 | D 474 | rR:μσmM 0.91 0.04 0.74 0.97 | F:μσmM 34.4 16.5 11.0 106.0 | H 1.456 | V 0.747 | pL -0.013 | vL 0.005 | ∇ 0.057\n",
      "U 127 | F 520192 | FPS 0308 | D 487 | rR:μσmM 0.92 0.03 0.83 0.97 | F:μσmM 30.7 11.6 12.0 68.0 | H 1.453 | V 0.739 | pL 0.003 | vL 0.006 | ∇ 0.087\n",
      "U 128 | F 524288 | FPS 0310 | D 500 | rR:μσmM 0.93 0.03 0.79 0.97 | F:μσmM 30.0 11.1 13.0 84.0 | H 1.424 | V 0.780 | pL -0.011 | vL 0.003 | ∇ 0.032\n",
      "U 129 | F 528384 | FPS 0310 | D 514 | rR:μσmM 0.92 0.05 0.40 0.97 | F:μσmM 30.5 21.4 12.0 239.0 | H 1.389 | V 0.753 | pL 0.006 | vL 0.006 | ∇ 0.076\n",
      "U 130 | F 532480 | FPS 0308 | D 527 | rR:μσmM 0.93 0.03 0.85 0.98 | F:μσmM 28.8 10.2 9.0 62.0 | H 1.358 | V 0.810 | pL -0.011 | vL 0.002 | ∇ 0.035\n",
      "Status saved\n",
      "U 131 | F 536576 | FPS 0313 | D 540 | rR:μσmM 0.93 0.03 0.77 0.98 | F:μσmM 29.2 13.1 7.0 93.0 | H 1.369 | V 0.803 | pL 0.008 | vL 0.005 | ∇ 0.073\n",
      "U 132 | F 540672 | FPS 0305 | D 553 | rR:μσmM 0.93 0.03 0.80 0.97 | F:μσmM 27.7 10.6 12.0 80.0 | H 1.387 | V 0.801 | pL -0.026 | vL 0.003 | ∇ 0.039\n",
      "U 133 | F 544768 | FPS 0310 | D 567 | rR:μσmM 0.93 0.02 0.86 0.97 | F:μσmM 28.7 9.8 12.0 56.0 | H 1.411 | V 0.792 | pL 0.005 | vL 0.002 | ∇ 0.022\n",
      "U 134 | F 548864 | FPS 0303 | D 580 | rR:μσmM 0.92 0.03 0.84 0.97 | F:μσmM 31.0 11.2 11.0 65.0 | H 1.463 | V 0.778 | pL 0.016 | vL 0.003 | ∇ 0.029\n",
      "U 135 | F 552960 | FPS 0315 | D 593 | rR:μσmM 0.92 0.03 0.80 0.97 | F:μσmM 30.9 11.9 12.0 81.0 | H 1.437 | V 0.774 | pL -0.014 | vL 0.003 | ∇ 0.039\n",
      "U 136 | F 557056 | FPS 0305 | D 607 | rR:μσmM 0.92 0.04 0.79 0.97 | F:μσmM 33.6 14.9 11.0 86.0 | H 1.481 | V 0.776 | pL 0.007 | vL 0.004 | ∇ 0.029\n",
      "U 137 | F 561152 | FPS 0317 | D 620 | rR:μσmM 0.92 0.03 0.74 0.97 | F:μσmM 31.0 12.9 12.0 106.0 | H 1.447 | V 0.783 | pL 0.002 | vL 0.003 | ∇ 0.052\n",
      "U 138 | F 565248 | FPS 0310 | D 633 | rR:μσmM 0.93 0.02 0.85 0.98 | F:μσmM 27.4 9.5 10.0 59.0 | H 1.419 | V 0.796 | pL 0.004 | vL 0.004 | ∇ 0.057\n",
      "U 139 | F 569344 | FPS 0312 | D 646 | rR:μσmM 0.92 0.03 0.85 0.97 | F:μσmM 31.0 11.5 13.0 62.0 | H 1.476 | V 0.792 | pL 0.008 | vL 0.003 | ∇ 0.044\n",
      "U 140 | F 573440 | FPS 0309 | D 659 | rR:μσmM 0.92 0.03 0.81 0.97 | F:μσmM 30.4 12.5 12.0 76.0 | H 1.445 | V 0.779 | pL 0.009 | vL 0.004 | ∇ 0.044\n",
      "Status saved\n",
      "U 141 | F 577536 | FPS 0314 | D 672 | rR:μσmM 0.92 0.07 0.22 0.97 | F:μσmM 32.6 28.2 11.0 314.0 | H 1.456 | V 0.761 | pL 0.021 | vL 0.006 | ∇ 0.049\n",
      "U 142 | F 581632 | FPS 0310 | D 686 | rR:μσmM 0.93 0.03 0.82 0.98 | F:μσmM 26.9 11.3 10.0 71.0 | H 1.381 | V 0.785 | pL -0.011 | vL 0.006 | ∇ 0.062\n",
      "U 143 | F 585728 | FPS 0310 | D 699 | rR:μσmM 0.93 0.03 0.85 0.97 | F:μσmM 26.5 10.1 11.0 61.0 | H 1.353 | V 0.792 | pL 0.006 | vL 0.006 | ∇ 0.064\n",
      "U 144 | F 589824 | FPS 0307 | D 712 | rR:μσmM 0.93 0.08 0.00 0.98 | F:μσmM 28.2 28.7 9.0 360.0 | H 1.354 | V 0.808 | pL 0.009 | vL 0.005 | ∇ 0.074\n",
      "U 145 | F 593920 | FPS 0318 | D 725 | rR:μσmM 0.93 0.03 0.72 0.97 | F:μσmM 28.3 11.5 12.0 112.0 | H 1.400 | V 0.802 | pL 0.005 | vL 0.003 | ∇ 0.042\n",
      "U 146 | F 598016 | FPS 0307 | D 738 | rR:μσmM 0.93 0.03 0.83 0.98 | F:μσmM 26.6 10.7 8.0 66.0 | H 1.373 | V 0.819 | pL -0.028 | vL 0.003 | ∇ 0.062\n",
      "U 147 | F 602112 | FPS 0316 | D 751 | rR:μσmM 0.93 0.03 0.79 0.97 | F:μσmM 28.6 10.7 12.0 83.0 | H 1.455 | V 0.810 | pL 0.014 | vL 0.002 | ∇ 0.033\n",
      "U 148 | F 606208 | FPS 0304 | D 765 | rR:μσmM 0.93 0.03 0.85 0.97 | F:μσmM 29.6 10.4 13.0 61.0 | H 1.448 | V 0.815 | pL -0.009 | vL 0.003 | ∇ 0.025\n",
      "U 149 | F 610304 | FPS 0317 | D 778 | rR:μσmM 0.92 0.03 0.83 0.97 | F:μσmM 31.0 11.4 13.0 66.0 | H 1.472 | V 0.772 | pL 0.017 | vL 0.004 | ∇ 0.026\n",
      "U 150 | F 614400 | FPS 0306 | D 791 | rR:μσmM 0.93 0.03 0.82 0.97 | F:μσmM 27.4 10.8 11.0 70.0 | H 1.455 | V 0.780 | pL -0.003 | vL 0.004 | ∇ 0.044\n",
      "Status saved\n",
      "U 151 | F 618496 | FPS 0312 | D 804 | rR:μσmM 0.93 0.02 0.88 0.98 | F:μσmM 26.4 8.0 10.0 50.0 | H 1.407 | V 0.805 | pL -0.008 | vL 0.002 | ∇ 0.022\n",
      "U 152 | F 622592 | FPS 0307 | D 818 | rR:μσmM 0.93 0.02 0.81 0.97 | F:μσmM 27.0 10.0 12.0 78.0 | H 1.405 | V 0.789 | pL 0.011 | vL 0.004 | ∇ 0.073\n",
      "U 153 | F 626688 | FPS 0318 | D 831 | rR:μσmM 0.93 0.02 0.85 0.97 | F:μσmM 26.2 9.6 13.0 59.0 | H 1.389 | V 0.807 | pL 0.001 | vL 0.004 | ∇ 0.048\n",
      "U 154 | F 630784 | FPS 0308 | D 844 | rR:μσmM 0.94 0.02 0.81 0.98 | F:μσmM 25.3 9.6 10.0 74.0 | H 1.358 | V 0.817 | pL -0.002 | vL 0.003 | ∇ 0.043\n",
      "U 155 | F 634880 | FPS 0309 | D 857 | rR:μσmM 0.93 0.02 0.83 0.98 | F:μσmM 26.8 9.6 10.0 69.0 | H 1.371 | V 0.819 | pL 0.004 | vL 0.004 | ∇ 0.064\n",
      "U 156 | F 638976 | FPS 0311 | D 870 | rR:μσmM 0.94 0.02 0.86 0.97 | F:μσmM 23.4 7.6 11.0 55.0 | H 1.326 | V 0.831 | pL -0.027 | vL 0.002 | ∇ 0.021\n",
      "U 157 | F 643072 | FPS 0311 | D 884 | rR:μσmM 0.93 0.02 0.82 0.98 | F:μσmM 26.4 8.8 9.0 72.0 | H 1.411 | V 0.822 | pL 0.004 | vL 0.002 | ∇ 0.036\n",
      "U 158 | F 647168 | FPS 0309 | D 897 | rR:μσmM 0.93 0.03 0.82 0.98 | F:μσmM 28.7 11.4 10.0 70.0 | H 1.465 | V 0.814 | pL 0.021 | vL 0.005 | ∇ 0.067\n",
      "U 159 | F 651264 | FPS 0314 | D 910 | rR:μσmM 0.93 0.03 0.72 0.97 | F:μσmM 28.7 12.4 12.0 112.0 | H 1.396 | V 0.786 | pL -0.009 | vL 0.003 | ∇ 0.058\n",
      "U 160 | F 655360 | FPS 0308 | D 923 | rR:μσmM 0.93 0.02 0.86 0.98 | F:μσmM 27.1 9.2 10.0 57.0 | H 1.401 | V 0.796 | pL 0.006 | vL 0.003 | ∇ 0.047\n",
      "Status saved\n",
      "U 161 | F 659456 | FPS 0310 | D 936 | rR:μσmM 0.94 0.02 0.83 0.98 | F:μσmM 25.6 9.1 10.0 67.0 | H 1.417 | V 0.811 | pL 0.002 | vL 0.002 | ∇ 0.023\n",
      "U 162 | F 663552 | FPS 0310 | D 950 | rR:μσmM 0.93 0.04 0.62 0.97 | F:μσmM 28.8 16.6 11.0 151.0 | H 1.454 | V 0.808 | pL 0.018 | vL 0.003 | ∇ 0.035\n",
      "U 163 | F 667648 | FPS 0313 | D 963 | rR:μσmM 0.93 0.03 0.61 0.97 | F:μσmM 26.5 13.8 12.0 156.0 | H 1.416 | V 0.794 | pL -0.006 | vL 0.004 | ∇ 0.038\n",
      "U 164 | F 671744 | FPS 0312 | D 976 | rR:μσmM 0.93 0.03 0.78 0.97 | F:μσmM 26.1 11.0 11.0 89.0 | H 1.426 | V 0.792 | pL -0.020 | vL 0.003 | ∇ 0.035\n",
      "U 165 | F 675840 | FPS 0310 | D 989 | rR:μσmM 0.93 0.03 0.77 0.97 | F:μσmM 26.9 11.4 12.0 92.0 | H 1.448 | V 0.809 | pL -0.014 | vL 0.003 | ∇ 0.047\n",
      "U 166 | F 679936 | FPS 0307 | D 1002 | rR:μσmM 0.93 0.04 0.61 0.98 | F:μσmM 28.6 15.2 10.0 157.0 | H 1.443 | V 0.786 | pL -0.004 | vL 0.003 | ∇ 0.033\n",
      "U 167 | F 684032 | FPS 0317 | D 1015 | rR:μσmM 0.92 0.08 0.00 0.97 | F:μσmM 31.1 30.3 13.0 360.0 | H 1.479 | V 0.756 | pL 0.020 | vL 0.003 | ∇ 0.043\n",
      "U 168 | F 688128 | FPS 0309 | D 1029 | rR:μσmM 0.92 0.03 0.82 0.97 | F:μσmM 31.6 11.6 12.0 72.0 | H 1.505 | V 0.760 | pL 0.037 | vL 0.005 | ∇ 0.094\n",
      "U 169 | F 692224 | FPS 0307 | D 1042 | rR:μσmM 0.93 0.03 0.83 0.97 | F:μσmM 29.1 11.6 11.0 69.0 | H 1.422 | V 0.787 | pL -0.029 | vL 0.007 | ∇ 0.072\n",
      "U 170 | F 696320 | FPS 0314 | D 1055 | rR:μσmM 0.94 0.02 0.86 0.98 | F:μσmM 25.6 9.3 10.0 56.0 | H 1.387 | V 0.805 | pL -0.003 | vL 0.003 | ∇ 0.038\n",
      "Status saved\n",
      "U 171 | F 700416 | FPS 0309 | D 1068 | rR:μσmM 0.94 0.02 0.83 0.98 | F:μσmM 25.5 8.7 10.0 67.0 | H 1.441 | V 0.805 | pL -0.001 | vL 0.003 | ∇ 0.027\n",
      "U 172 | F 704512 | FPS 0314 | D 1081 | rR:μσmM 0.94 0.02 0.84 0.97 | F:μσmM 26.0 9.5 11.0 63.0 | H 1.408 | V 0.816 | pL -0.007 | vL 0.002 | ∇ 0.048\n",
      "U 173 | F 708608 | FPS 0303 | D 1095 | rR:μσmM 0.93 0.03 0.81 0.97 | F:μσmM 27.8 10.9 11.0 75.0 | H 1.425 | V 0.801 | pL 0.021 | vL 0.004 | ∇ 0.050\n",
      "U 174 | F 712704 | FPS 0314 | D 1108 | rR:μσmM 0.93 0.02 0.86 0.97 | F:μσmM 27.0 9.4 12.0 58.0 | H 1.437 | V 0.798 | pL -0.007 | vL 0.003 | ∇ 0.068\n",
      "U 175 | F 716800 | FPS 0312 | D 1121 | rR:μσmM 0.92 0.03 0.79 0.97 | F:μσmM 32.5 12.6 11.0 86.0 | H 1.515 | V 0.765 | pL 0.058 | vL 0.006 | ∇ 0.070\n",
      "U 176 | F 720896 | FPS 0316 | D 1134 | rR:μσmM 0.92 0.02 0.87 0.98 | F:μσmM 30.2 10.0 10.0 54.0 | H 1.483 | V 0.757 | pL 0.008 | vL 0.004 | ∇ 0.053\n",
      "U 177 | F 724992 | FPS 0305 | D 1148 | rR:μσmM 0.93 0.03 0.79 0.97 | F:μσmM 28.5 11.9 12.0 85.0 | H 1.464 | V 0.784 | pL 0.004 | vL 0.004 | ∇ 0.050\n",
      "U 178 | F 729088 | FPS 0313 | D 1161 | rR:μσmM 0.93 0.02 0.84 0.97 | F:μσmM 26.0 8.9 12.0 63.0 | H 1.405 | V 0.811 | pL -0.008 | vL 0.003 | ∇ 0.048\n",
      "U 179 | F 733184 | FPS 0310 | D 1174 | rR:μσmM 0.94 0.02 0.87 0.97 | F:μσmM 24.9 8.8 11.0 54.0 | H 1.381 | V 0.806 | pL -0.009 | vL 0.004 | ∇ 0.069\n",
      "U 180 | F 737280 | FPS 0317 | D 1187 | rR:μσmM 0.94 0.02 0.83 0.97 | F:μσmM 25.5 9.4 12.0 67.0 | H 1.468 | V 0.832 | pL 0.005 | vL 0.001 | ∇ 0.013\n",
      "Status saved\n",
      "U 181 | F 741376 | FPS 0304 | D 1200 | rR:μσmM 0.92 0.03 0.80 0.96 | F:μσmM 31.8 12.2 14.0 79.0 | H 1.481 | V 0.750 | pL 0.045 | vL 0.006 | ∇ 0.053\n",
      "U 182 | F 745472 | FPS 0308 | D 1214 | rR:μσmM 0.93 0.03 0.79 0.96 | F:μσmM 28.2 11.0 14.0 83.0 | H 1.462 | V 0.773 | pL -0.028 | vL 0.004 | ∇ 0.075\n",
      "U 183 | F 749568 | FPS 0316 | D 1227 | rR:μσmM 0.93 0.02 0.81 0.97 | F:μσmM 26.7 9.6 12.0 78.0 | H 1.410 | V 0.805 | pL 0.006 | vL 0.004 | ∇ 0.058\n",
      "U 184 | F 753664 | FPS 0310 | D 1240 | rR:μσmM 0.93 0.02 0.85 0.97 | F:μσmM 26.7 9.7 11.0 62.0 | H 1.387 | V 0.796 | pL 0.017 | vL 0.004 | ∇ 0.056\n",
      "U 185 | F 757760 | FPS 0311 | D 1253 | rR:μσmM 0.94 0.02 0.86 0.98 | F:μσmM 24.5 8.0 10.0 56.0 | H 1.400 | V 0.822 | pL -0.010 | vL 0.002 | ∇ 0.028\n",
      "U 186 | F 761856 | FPS 0310 | D 1266 | rR:μσmM 0.93 0.02 0.84 0.98 | F:μσmM 26.3 9.5 10.0 63.0 | H 1.398 | V 0.805 | pL 0.011 | vL 0.003 | ∇ 0.040\n",
      "U 187 | F 765952 | FPS 0316 | D 1279 | rR:μσmM 0.94 0.02 0.87 0.98 | F:μσmM 24.5 7.8 10.0 52.0 | H 1.386 | V 0.833 | pL 0.000 | vL 0.002 | ∇ 0.022\n",
      "U 188 | F 770048 | FPS 0308 | D 1292 | rR:μσmM 0.93 0.02 0.83 0.98 | F:μσmM 26.8 9.6 9.0 66.0 | H 1.432 | V 0.819 | pL 0.007 | vL 0.002 | ∇ 0.041\n",
      "U 189 | F 774144 | FPS 0311 | D 1306 | rR:μσmM 0.93 0.03 0.83 0.97 | F:μσmM 28.6 10.2 11.0 66.0 | H 1.461 | V 0.779 | pL 0.026 | vL 0.003 | ∇ 0.039\n",
      "U 190 | F 778240 | FPS 0309 | D 1319 | rR:μσmM 0.93 0.03 0.84 0.97 | F:μσmM 28.7 10.5 11.0 64.0 | H 1.461 | V 0.785 | pL -0.014 | vL 0.003 | ∇ 0.049\n",
      "Status saved\n",
      "U 191 | F 782336 | FPS 0315 | D 1332 | rR:μσmM 0.94 0.02 0.86 0.98 | F:μσmM 25.7 8.5 9.0 55.0 | H 1.376 | V 0.814 | pL -0.012 | vL 0.003 | ∇ 0.049\n",
      "U 192 | F 786432 | FPS 0307 | D 1345 | rR:μσmM 0.93 0.02 0.85 0.97 | F:μσmM 28.8 9.2 12.0 62.0 | H 1.442 | V 0.817 | pL 0.012 | vL 0.003 | ∇ 0.050\n",
      "U 193 | F 790528 | FPS 0312 | D 1358 | rR:μσmM 0.93 0.02 0.87 0.98 | F:μσmM 26.9 8.7 10.0 53.0 | H 1.405 | V 0.808 | pL -0.012 | vL 0.002 | ∇ 0.029\n",
      "U 194 | F 794624 | FPS 0312 | D 1372 | rR:μσmM 0.93 0.03 0.83 0.98 | F:μσmM 28.1 10.0 9.0 67.0 | H 1.431 | V 0.790 | pL -0.002 | vL 0.003 | ∇ 0.053\n",
      "U 195 | F 798720 | FPS 0312 | D 1385 | rR:μσmM 0.94 0.03 0.67 0.98 | F:μσmM 24.4 11.6 9.0 133.0 | H 1.357 | V 0.824 | pL -0.012 | vL 0.003 | ∇ 0.039\n",
      "U 196 | F 802816 | FPS 0306 | D 1398 | rR:μσmM 0.93 0.02 0.84 0.98 | F:μσmM 27.6 9.9 9.0 63.0 | H 1.427 | V 0.814 | pL 0.015 | vL 0.003 | ∇ 0.038\n",
      "U 197 | F 806912 | FPS 0311 | D 1411 | rR:μσmM 0.94 0.02 0.84 0.97 | F:μσmM 25.7 9.7 11.0 64.0 | H 1.382 | V 0.796 | pL 0.012 | vL 0.003 | ∇ 0.020\n",
      "U 198 | F 811008 | FPS 0315 | D 1424 | rR:μσmM 0.94 0.02 0.86 0.98 | F:μσmM 24.9 9.2 10.0 55.0 | H 1.382 | V 0.821 | pL -0.013 | vL 0.003 | ∇ 0.026\n",
      "U 199 | F 815104 | FPS 0308 | D 1438 | rR:μσmM 0.94 0.02 0.87 0.98 | F:μσmM 25.2 7.5 10.0 53.0 | H 1.382 | V 0.824 | pL -0.014 | vL 0.002 | ∇ 0.026\n",
      "U 200 | F 819200 | FPS 0309 | D 1451 | rR:μσmM 0.93 0.02 0.85 0.97 | F:μσmM 27.4 10.0 12.0 61.0 | H 1.443 | V 0.798 | pL 0.022 | vL 0.002 | ∇ 0.034\n",
      "Status saved\n",
      "U 201 | F 823296 | FPS 0308 | D 1464 | rR:μσmM 0.93 0.04 0.57 0.98 | F:μσmM 26.3 14.8 8.0 172.0 | H 1.374 | V 0.805 | pL 0.010 | vL 0.007 | ∇ 0.066\n",
      "U 202 | F 827392 | FPS 0316 | D 1477 | rR:μσmM 0.94 0.02 0.88 0.97 | F:μσmM 23.4 6.4 11.0 46.0 | H 1.347 | V 0.817 | pL -0.003 | vL 0.002 | ∇ 0.038\n",
      "U 203 | F 831488 | FPS 0309 | D 1490 | rR:μσmM 0.94 0.02 0.85 0.97 | F:μσmM 25.7 8.4 11.0 60.0 | H 1.402 | V 0.820 | pL 0.007 | vL 0.002 | ∇ 0.053\n",
      "U 204 | F 835584 | FPS 0312 | D 1504 | rR:μσmM 0.94 0.03 0.70 0.97 | F:μσmM 25.4 10.5 11.0 119.0 | H 1.394 | V 0.821 | pL -0.014 | vL 0.002 | ∇ 0.042\n",
      "U 205 | F 839680 | FPS 0313 | D 1517 | rR:μσmM 0.94 0.02 0.84 0.98 | F:μσmM 25.8 9.6 9.0 63.0 | H 1.431 | V 0.803 | pL 0.006 | vL 0.003 | ∇ 0.047\n",
      "U 206 | F 843776 | FPS 0314 | D 1530 | rR:μσmM 0.94 0.02 0.86 0.98 | F:μσmM 25.7 8.5 10.0 58.0 | H 1.404 | V 0.804 | pL -0.007 | vL 0.003 | ∇ 0.057\n",
      "U 207 | F 847872 | FPS 0311 | D 1543 | rR:μσmM 0.93 0.02 0.82 0.97 | F:μσmM 26.9 8.8 13.0 70.0 | H 1.489 | V 0.784 | pL 0.015 | vL 0.003 | ∇ 0.035\n",
      "U 208 | F 851968 | FPS 0316 | D 1556 | rR:μσmM 0.93 0.02 0.82 0.97 | F:μσmM 27.3 8.9 12.0 71.0 | H 1.396 | V 0.800 | pL 0.004 | vL 0.002 | ∇ 0.028\n",
      "U 209 | F 856064 | FPS 0311 | D 1569 | rR:μσmM 0.94 0.02 0.84 0.98 | F:μσmM 25.3 8.9 10.0 65.0 | H 1.407 | V 0.817 | pL 0.014 | vL 0.003 | ∇ 0.041\n",
      "U 210 | F 860160 | FPS 0317 | D 1582 | rR:μσmM 0.94 0.02 0.86 0.98 | F:μσmM 25.7 9.2 10.0 58.0 | H 1.405 | V 0.802 | pL -0.007 | vL 0.003 | ∇ 0.077\n",
      "Status saved\n",
      "U 211 | F 864256 | FPS 0309 | D 1595 | rR:μσmM 0.94 0.02 0.83 0.97 | F:μσmM 25.5 8.3 12.0 69.0 | H 1.357 | V 0.790 | pL 0.001 | vL 0.003 | ∇ 0.030\n",
      "U 212 | F 868352 | FPS 0319 | D 1608 | rR:μσmM 0.94 0.02 0.87 0.98 | F:μσmM 24.9 7.4 10.0 54.0 | H 1.381 | V 0.815 | pL 0.004 | vL 0.003 | ∇ 0.038\n",
      "U 213 | F 872448 | FPS 0306 | D 1621 | rR:μσmM 0.93 0.02 0.84 0.98 | F:μσmM 27.2 9.2 10.0 64.0 | H 1.482 | V 0.802 | pL 0.003 | vL 0.003 | ∇ 0.035\n",
      "U 214 | F 876544 | FPS 0317 | D 1634 | rR:μσmM 0.93 0.02 0.86 0.97 | F:μσmM 28.2 9.2 11.0 55.0 | H 1.416 | V 0.799 | pL -0.004 | vL 0.002 | ∇ 0.026\n",
      "U 215 | F 880640 | FPS 0311 | D 1648 | rR:μσmM 0.94 0.02 0.87 0.98 | F:μσmM 25.5 8.1 10.0 54.0 | H 1.409 | V 0.799 | pL -0.015 | vL 0.003 | ∇ 0.024\n",
      "U 216 | F 884736 | FPS 0317 | D 1661 | rR:μσmM 0.94 0.02 0.88 0.97 | F:μσmM 23.9 7.3 11.0 48.0 | H 1.348 | V 0.821 | pL -0.014 | vL 0.002 | ∇ 0.044\n",
      "U 217 | F 888832 | FPS 0313 | D 1674 | rR:μσmM 0.93 0.02 0.87 0.97 | F:μσmM 26.1 8.2 11.0 53.0 | H 1.437 | V 0.809 | pL 0.022 | vL 0.003 | ∇ 0.038\n",
      "U 218 | F 892928 | FPS 0313 | D 1687 | rR:μσmM 0.92 0.05 0.57 0.97 | F:μσmM 31.1 19.1 11.0 170.0 | H 1.471 | V 0.810 | pL 0.016 | vL 0.002 | ∇ 0.030\n",
      "U 219 | F 897024 | FPS 0314 | D 1700 | rR:μσmM 0.93 0.02 0.86 0.97 | F:μσmM 28.3 9.0 11.0 56.0 | H 1.485 | V 0.784 | pL 0.014 | vL 0.005 | ∇ 0.064\n",
      "U 220 | F 901120 | FPS 0307 | D 1713 | rR:μσmM 0.93 0.02 0.87 0.97 | F:μσmM 27.1 9.2 12.0 53.0 | H 1.418 | V 0.791 | pL -0.013 | vL 0.003 | ∇ 0.023\n",
      "Status saved\n",
      "Number of frames:  901120\n"
     ]
    }
   ],
   "source": [
    "# Training loop\n",
    "\n",
    "num_frames = status[\"num_frames\"]\n",
    "update = status[\"update\"]\n",
    "start_time = time.time()\n",
    "\n",
    "# Moving average settings for early stop\n",
    "threshold = 0.90\n",
    "window = 10\n",
    "rreturn_total = 0\n",
    "i = 0\n",
    "\n",
    "# run just once to have initial grads in all parameters and avoid backward error on first pass\n",
    "# exps, _ = algo.collect_experiences()\n",
    "# algo.update_parameters(exps)\n",
    "\n",
    "while num_frames < args.frames: # STEP 2\n",
    "\n",
    "    update_start_time = time.time()\n",
    "\n",
    "    # # run just once to have initial grads in all parameters and avoid backward error on first pass\n",
    "    # exps, _ = algo.collect_experiences()\n",
    "    # algo.update_parameters(exps)\n",
    "\n",
    "    # Sample batch of tasks: STEP 3\n",
    "    tasks_batch = sample_tasks(n_tasks=num_tasks)\n",
    "\n",
    "    for i, task in enumerate(tasks_batch):\n",
    "\n",
    "        algo.env = change_multienv_seed(algo.env, seed=task)\n",
    "        #algo.env = make_envs(args.env, args.procs, seed=task)\n",
    "        # Sample pre-trajectories from each task: STEP 4\n",
    "        pre_exps, pre_logs1 = algo.collect_experiences()\n",
    "         # Unfreeze inner loop params so they can get updated in the inner loop\n",
    "        set_freeze_status(algo.acmodel, inner_params, freeze=False)\n",
    "        # Freeze outer loop parameters, so those grads will be zero in update\n",
    "        set_freeze_status(algo.acmodel, outer_params, freeze=True)\n",
    "        # set inner recurence\n",
    "        algo.recurrence = inner_recurrence\n",
    "        # Update parameters: STEP 6\n",
    "        algo.update_parameters(pre_exps)\n",
    "        # Sample post-trajectories t_i from tasks T_i: STEP 7\n",
    "        post_exps, post_logs1 = algo.collect_experiences()\n",
    "        # Concatenate to get D_meta: STEP 8\n",
    "        meta_exps = post_exps if i==0 else cat_exps(meta_exps, post_exps)\n",
    "        meta_exps = DictList(meta_exps)\n",
    "        meta_exps.obs = DictList(meta_exps.obs)\n",
    "        meta_logs1 = post_logs1 if i==0 else cat_logs(meta_logs1, post_logs1)\n",
    "\n",
    "    # Unfreeze outer loop params so they can get updated in the outer loop\n",
    "    set_freeze_status(algo.acmodel, outer_params, freeze=False)\n",
    "    # Freeze inner loop params \n",
    "    set_freeze_status(algo.acmodel, inner_params, freeze=True)   \n",
    "    \n",
    "    # set outer recurence\n",
    "    algo.recurrence = outer_recurrence\n",
    "\n",
    "    # Update parameters while keeping inner parametes (module and policy) frozen: STEP 9\n",
    "    meta_logs2 = algo.update_parameters(meta_exps)\n",
    "\n",
    "    meta_logs = {**meta_logs1, **meta_logs2}\n",
    "    update_end_time = time.time()\n",
    "\n",
    "    num_frames += meta_logs[\"num_frames\"]\n",
    "    update += 1    \n",
    "    \n",
    "    # Print logs\n",
    "\n",
    "    if update % args.log_interval == 0:\n",
    "        fps = meta_logs[\"num_frames\"]/(update_end_time - update_start_time)\n",
    "        duration = int(time.time() - start_time)\n",
    "        return_per_episode = utils.synthesize(meta_logs[\"return_per_episode\"])\n",
    "        rreturn_per_episode = utils.synthesize(meta_logs[\"reshaped_return_per_episode\"])\n",
    "        num_frames_per_episode = utils.synthesize(meta_logs[\"num_frames_per_episode\"])\n",
    "        # Moving average to break loop if mean reward threshold reached\n",
    "        rreturn_total +=rreturn_per_episode['mean']\n",
    "        i+=1\n",
    "        if i >= window:\n",
    "            rreturn_mavg = rreturn_total / i\n",
    "            if rreturn_mavg >= threshold:\n",
    "                break\n",
    "            else:\n",
    "                i = 0\n",
    "                rreturn_total = 0\n",
    "\n",
    "        header = [\"update\", \"frames\", \"FPS\", \"duration\"]\n",
    "        data = [update, num_frames, fps, duration]\n",
    "        header += [\"rreturn_\" + key for key in rreturn_per_episode.keys()]\n",
    "        data += rreturn_per_episode.values()\n",
    "        header += [\"num_frames_\" + key for key in num_frames_per_episode.keys()]\n",
    "        data += num_frames_per_episode.values()\n",
    "        header += [\"entropy\", \"value\", \"policy_loss\", \"value_loss\", \"grad_norm\"]\n",
    "        data += [meta_logs[\"entropy\"], meta_logs[\"value\"], meta_logs[\"policy_loss\"], meta_logs[\"value_loss\"], meta_logs[\"grad_norm\"]]\n",
    "\n",
    "        txt_logger.info(\n",
    "            \"U {} | F {:06} | FPS {:04.0f} | D {} | rR:μσmM {:.2f} {:.2f} {:.2f} {:.2f} | F:μσmM {:.1f} {:.1f} {} {} | H {:.3f} | V {:.3f} | pL {:.3f} | vL {:.3f} | ∇ {:.3f}\"\n",
    "            .format(*data))\n",
    "\n",
    "        header += [\"return_\" + key for key in return_per_episode.keys()]\n",
    "        data += return_per_episode.values()\n",
    "\n",
    "        if status[\"num_frames\"] == 0:\n",
    "            csv_logger.writerow(header)\n",
    "        csv_logger.writerow(data)\n",
    "        csv_file.flush()\n",
    "\n",
    "        for field, value in zip(header, data):\n",
    "            tb_writer.add_scalar(field, value, num_frames)\n",
    "\n",
    "    # Save status\n",
    "\n",
    "    if args.save_interval > 0 and update % args.save_interval == 0:\n",
    "        status = {\"num_frames\": num_frames, \"update\": update,\n",
    "                  \"model_state\": acmodel.state_dict(), \"optimizer_state\": algo.optimizer.state_dict()}\n",
    "        if hasattr(preprocess_obss, \"vocab\"):\n",
    "            status[\"vocab\"] = preprocess_obss.vocab.vocab\n",
    "        utils.save_status(status, model_dir)\n",
    "        txt_logger.info(\"Status saved\")\n",
    "# STEP 10\n",
    "\n",
    "print(\"Number of frames: \", num_frames)"
   ]
  },
  {
   "cell_type": "markdown",
   "metadata": {},
   "source": [
    "## Evaluate 2nd environment"
   ]
  },
  {
   "cell_type": "markdown",
   "metadata": {},
   "source": [
    "### Set parameters"
   ]
  },
  {
   "cell_type": "code",
   "execution_count": 17,
   "metadata": {},
   "outputs": [
    {
     "name": "stdout",
     "output_type": "stream",
     "text": [
      "{'algo': 'ppo', 'env': 'MiniGrid-DoorKey-6x6-v0', 'model': 'MiniGrid-WallGapS6-v0_meta_RIM_5_3_frames_300k_tasks_2_recur_64_16_proc_16_RMSProp_lr_7e4_gae_099_test_MiniGrid-DoorKey-6x6-v0', 'seed': 2, 'log_interval': 1, 'save_interval': 10, 'procs': 16, 'frames': 900000, 'epochs': 4, 'batch_size': 256, 'frames_per_proc': 128, 'discount': 0.99, 'lr': 0.0007, 'gae_lambda': 0.99, 'entropy_coef': 0.01, 'value_loss_coef': 0.5, 'max_grad_norm': 0.5, 'optim_eps': 1e-08, 'optim_alpha': 0.99, 'clip_eps': 0.2, 'recurrence': 32, 'text': False, 'use_rim': True, 'mem': True, 'num_units': 5, 'k': 3, 'episodes': 100, 'argmax': False, 'worst_episodes_to_show': 10}\n",
      "Device: cpu\n",
      "\n"
     ]
    }
   ],
   "source": [
    "#env_id = 'MiniGrid-Empty-Random-6x6-v0'\n",
    "env_id = 'MiniGrid-DoorKey-6x6-v0'\n",
    "#env_id = 'MiniGrid-Empty-8x8-v0'\n",
    "#env_id = 'MiniGrid-LavaGapS5-v0'\n",
    "#env_id = 'MiniGrid-WallGapS6-v0'\n",
    "\n",
    "## Hyper-parameters\n",
    "args.env = env_id\n",
    "args.episodes = 100\n",
    "args.seed = 2\n",
    "args.argmax = False\n",
    "args.worst_episodes_to_show = 10\n",
    "print(args)\n",
    "\n",
    "# Set seed for all randomness sources\n",
    "utils.seed(args.seed)\n",
    "\n",
    "# Set device\n",
    "device = torch.device(\"cuda\" if torch.cuda.is_available() else \"cpu\")\n",
    "print(f\"Device: {device}\\n\")"
   ]
  },
  {
   "cell_type": "markdown",
   "metadata": {},
   "source": [
    "### Load environments, agent and logs"
   ]
  },
  {
   "cell_type": "code",
   "execution_count": 18,
   "metadata": {},
   "outputs": [
    {
     "name": "stdout",
     "output_type": "stream",
     "text": [
      "Environments loaded\n",
      "\n",
      "Agent loaded\n",
      "\n"
     ]
    }
   ],
   "source": [
    "# Load environments\n",
    "\n",
    "envs = []\n",
    "for i in range(args.procs):\n",
    "    env = utils.make_env(args.env, args.seed + 10000 * i)\n",
    "    envs.append(env)\n",
    "env = ParallelEnv(envs)\n",
    "print(\"Environments loaded\\n\")\n",
    "\n",
    "# Load agent\n",
    "\n",
    "model_dir = utils.get_model_dir(args.model)\n",
    "agent = utils.Agent(obs_space=env.observation_space, action_space=env.action_space, model_dir=model_dir, device=device, argmax=args.argmax, num_envs=args.procs, use_memory=args.mem, use_rim=args.use_rim, num_units=args.num_units, k=args.k)\n",
    "print(\"Agent loaded\\n\")\n",
    "\n",
    "# Initialize logs\n",
    "\n",
    "logs = {\"num_frames_per_episode\": [], \"return_per_episode\": []}"
   ]
  },
  {
   "cell_type": "markdown",
   "metadata": {},
   "source": [
    "### Run agent"
   ]
  },
  {
   "cell_type": "code",
   "execution_count": 19,
   "metadata": {},
   "outputs": [
    {
     "name": "stdout",
     "output_type": "stream",
     "text": [
      "Agent run completed\n",
      "\n"
     ]
    }
   ],
   "source": [
    "# Run agent\n",
    "\n",
    "start_time = time.time()\n",
    "\n",
    "obss = env.reset()\n",
    "\n",
    "log_done_counter = 0\n",
    "log_episode_return = torch.zeros(args.procs, device=device)\n",
    "log_episode_num_frames = torch.zeros(args.procs, device=device)\n",
    "\n",
    "while log_done_counter < args.episodes:\n",
    "    actions = agent.get_actions(obss)\n",
    "    obss, rewards, dones, _ = env.step(actions)\n",
    "    agent.analyze_feedbacks(rewards, dones)\n",
    "\n",
    "    log_episode_return += torch.tensor(rewards, device=device, dtype=torch.float)\n",
    "    log_episode_num_frames += torch.ones(args.procs, device=device)\n",
    "\n",
    "    for i, done in enumerate(dones):\n",
    "        if done:\n",
    "            log_done_counter += 1\n",
    "            logs[\"return_per_episode\"].append(log_episode_return[i].item())\n",
    "            logs[\"num_frames_per_episode\"].append(log_episode_num_frames[i].item())\n",
    "\n",
    "    mask = 1 - torch.tensor(dones, device=device, dtype=torch.float)\n",
    "    log_episode_return *= mask\n",
    "    log_episode_num_frames *= mask\n",
    "\n",
    "end_time = time.time()\n",
    "print(\"Agent run completed\\n\")"
   ]
  },
  {
   "cell_type": "markdown",
   "metadata": {},
   "source": [
    "### Print logs and results"
   ]
  },
  {
   "cell_type": "code",
   "execution_count": 20,
   "metadata": {},
   "outputs": [
    {
     "name": "stdout",
     "output_type": "stream",
     "text": [
      "F 2407.0 | FPS 2902 | D 0 | R:μσmM 0.94 0.02 0.89 0.98 | F:μσmM 24.1 7.1 10.0 44.0\n",
      "\n",
      "10 worst episodes:\n",
      "- episode 53: R=0.8899999856948853, F=44.0\n",
      "- episode 92: R=0.8949999809265137, F=42.0\n",
      "- episode 35: R=0.8974999785423279, F=41.0\n",
      "- episode 43: R=0.8974999785423279, F=41.0\n",
      "- episode 41: R=0.9049999713897705, F=38.0\n",
      "- episode 45: R=0.9049999713897705, F=38.0\n",
      "- episode 97: R=0.9075000286102295, F=37.0\n",
      "- episode 16: R=0.9100000262260437, F=36.0\n",
      "- episode 65: R=0.9100000262260437, F=36.0\n",
      "- episode 33: R=0.9150000214576721, F=34.0\n"
     ]
    }
   ],
   "source": [
    "# Print logs\n",
    "\n",
    "num_frames = sum(logs[\"num_frames_per_episode\"])\n",
    "fps = num_frames/(end_time - start_time)\n",
    "duration = int(end_time - start_time)\n",
    "return_per_episode = utils.synthesize(logs[\"return_per_episode\"])\n",
    "num_frames_per_episode = utils.synthesize(logs[\"num_frames_per_episode\"])\n",
    "\n",
    "print(\"F {} | FPS {:.0f} | D {} | R:μσmM {:.2f} {:.2f} {:.2f} {:.2f} | F:μσmM {:.1f} {:.1f} {} {}\"\n",
    "      .format(num_frames, fps, duration,\n",
    "              *return_per_episode.values(),\n",
    "              *num_frames_per_episode.values()))\n",
    "\n",
    "# Print worst episodes\n",
    "\n",
    "n = args.worst_episodes_to_show\n",
    "if n > 0:\n",
    "    print(\"\\n{} worst episodes:\".format(n))\n",
    "\n",
    "    indexes = sorted(range(len(logs[\"return_per_episode\"])), key=lambda k: logs[\"return_per_episode\"][k])\n",
    "    for i in indexes[:n]:\n",
    "        print(\"- episode {}: R={}, F={}\".format(i, logs[\"return_per_episode\"][i], logs[\"num_frames_per_episode\"][i]))"
   ]
  },
  {
   "cell_type": "markdown",
   "metadata": {},
   "source": [
    "# Re-evaluate 1st enviroment and test CF"
   ]
  },
  {
   "cell_type": "markdown",
   "metadata": {},
   "source": [
    "## Evaluation"
   ]
  },
  {
   "cell_type": "markdown",
   "metadata": {},
   "source": [
    "### Set parameters"
   ]
  },
  {
   "cell_type": "code",
   "execution_count": 21,
   "metadata": {},
   "outputs": [
    {
     "name": "stdout",
     "output_type": "stream",
     "text": [
      "{'algo': 'ppo', 'env': 'MiniGrid-WallGapS6-v0', 'model': 'MiniGrid-WallGapS6-v0_meta_RIM_5_3_frames_300k_tasks_2_recur_64_16_proc_16_RMSProp_lr_7e4_gae_099_test_MiniGrid-DoorKey-6x6-v0', 'seed': 3, 'log_interval': 1, 'save_interval': 10, 'procs': 16, 'frames': 900000, 'epochs': 4, 'batch_size': 256, 'frames_per_proc': 128, 'discount': 0.99, 'lr': 0.0007, 'gae_lambda': 0.99, 'entropy_coef': 0.01, 'value_loss_coef': 0.5, 'max_grad_norm': 0.5, 'optim_eps': 1e-08, 'optim_alpha': 0.99, 'clip_eps': 0.2, 'recurrence': 32, 'text': False, 'use_rim': True, 'mem': True, 'num_units': 5, 'k': 3, 'episodes': 100, 'argmax': False, 'worst_episodes_to_show': 10}\n",
      "Device: cpu\n",
      "\n"
     ]
    }
   ],
   "source": [
    "#env_id = 'MiniGrid-Empty-Random-6x6-v0'\n",
    "#env_id = 'MiniGrid-DoorKey-6x6-v0'\n",
    "#env_id = 'MiniGrid-DoorKey-5x5-v0'\n",
    "#env_id = 'MiniGrid-Empty-8x8-v0'\n",
    "#env_id = 'MiniGrid-LavaGapS5-v0'\n",
    "env_id = 'MiniGrid-WallGapS6-v0'\n",
    "\n",
    "## Hyper-parameters\n",
    "args.env = env_id\n",
    "args.episodes = 100\n",
    "args.seed = 3\n",
    "args.argmax = False\n",
    "args.worst_episodes_to_show = 10\n",
    "print(args)\n",
    "\n",
    "# Set seed for all randomness sources\n",
    "utils.seed(args.seed)\n",
    "\n",
    "# Set device\n",
    "device = torch.device(\"cuda\" if torch.cuda.is_available() else \"cpu\")\n",
    "print(f\"Device: {device}\\n\")"
   ]
  },
  {
   "cell_type": "markdown",
   "metadata": {},
   "source": [
    "### Load environments, agent and logs"
   ]
  },
  {
   "cell_type": "code",
   "execution_count": 22,
   "metadata": {},
   "outputs": [
    {
     "name": "stdout",
     "output_type": "stream",
     "text": [
      "Environments loaded\n",
      "\n",
      "Agent loaded\n",
      "\n"
     ]
    }
   ],
   "source": [
    "# Load environments\n",
    "\n",
    "envs = []\n",
    "for i in range(args.procs):\n",
    "    env = utils.make_env(args.env, args.seed + 10000 * i)\n",
    "    envs.append(env)\n",
    "env = ParallelEnv(envs)\n",
    "print(\"Environments loaded\\n\")\n",
    "\n",
    "# Load agent\n",
    "\n",
    "model_dir = utils.get_model_dir(args.model)\n",
    "agent = utils.Agent(obs_space=env.observation_space, action_space=env.action_space, model_dir=model_dir, device=device, argmax=args.argmax, num_envs=args.procs, use_memory=args.mem, use_rim=args.use_rim, num_units=args.num_units, k=args.k)\n",
    "print(\"Agent loaded\\n\")\n",
    "\n",
    "# Initialize logs\n",
    "\n",
    "logs = {\"num_frames_per_episode\": [], \"return_per_episode\": []}"
   ]
  },
  {
   "cell_type": "markdown",
   "metadata": {},
   "source": [
    "### Run agent"
   ]
  },
  {
   "cell_type": "code",
   "execution_count": 23,
   "metadata": {},
   "outputs": [
    {
     "name": "stdout",
     "output_type": "stream",
     "text": [
      "Agent run completed\n",
      "\n"
     ]
    }
   ],
   "source": [
    "# Run agent\n",
    "\n",
    "start_time = time.time()\n",
    "\n",
    "obss = env.reset()\n",
    "\n",
    "log_done_counter = 0\n",
    "log_episode_return = torch.zeros(args.procs, device=device)\n",
    "log_episode_num_frames = torch.zeros(args.procs, device=device)\n",
    "\n",
    "while log_done_counter < args.episodes:\n",
    "    actions = agent.get_actions(obss)\n",
    "    obss, rewards, dones, _ = env.step(actions)\n",
    "    agent.analyze_feedbacks(rewards, dones)\n",
    "\n",
    "    log_episode_return += torch.tensor(rewards, device=device, dtype=torch.float)\n",
    "    log_episode_num_frames += torch.ones(args.procs, device=device)\n",
    "\n",
    "    for i, done in enumerate(dones):\n",
    "        if done:\n",
    "            log_done_counter += 1\n",
    "            logs[\"return_per_episode\"].append(log_episode_return[i].item())\n",
    "            logs[\"num_frames_per_episode\"].append(log_episode_num_frames[i].item())\n",
    "\n",
    "    mask = 1 - torch.tensor(dones, device=device, dtype=torch.float)\n",
    "    log_episode_return *= mask\n",
    "    log_episode_num_frames *= mask\n",
    "\n",
    "end_time = time.time()\n",
    "print(\"Agent run completed\\n\")"
   ]
  },
  {
   "cell_type": "markdown",
   "metadata": {},
   "source": [
    "### Print logs and results"
   ]
  },
  {
   "cell_type": "code",
   "execution_count": 24,
   "metadata": {},
   "outputs": [
    {
     "name": "stdout",
     "output_type": "stream",
     "text": [
      "F 7448.0 | FPS 3214 | D 2 | R:μσmM 0.51 0.37 0.00 0.98 | F:μσmM 74.5 54.0 4.0 144.0\n",
      "\n",
      "10 worst episodes:\n",
      "- episode 19: R=0.0, F=144.0\n",
      "- episode 20: R=0.0, F=144.0\n",
      "- episode 21: R=0.0, F=144.0\n",
      "- episode 22: R=0.0, F=144.0\n",
      "- episode 23: R=0.0, F=144.0\n",
      "- episode 24: R=0.0, F=144.0\n",
      "- episode 26: R=0.0, F=144.0\n",
      "- episode 36: R=0.0, F=144.0\n",
      "- episode 37: R=0.0, F=144.0\n",
      "- episode 43: R=0.0, F=144.0\n"
     ]
    }
   ],
   "source": [
    "# Print logs\n",
    "\n",
    "num_frames = sum(logs[\"num_frames_per_episode\"])\n",
    "fps = num_frames/(end_time - start_time)\n",
    "duration = int(end_time - start_time)\n",
    "return_per_episode = utils.synthesize(logs[\"return_per_episode\"])\n",
    "num_frames_per_episode = utils.synthesize(logs[\"num_frames_per_episode\"])\n",
    "\n",
    "print(\"F {} | FPS {:.0f} | D {} | R:μσmM {:.2f} {:.2f} {:.2f} {:.2f} | F:μσmM {:.1f} {:.1f} {} {}\"\n",
    "      .format(num_frames, fps, duration,\n",
    "              *return_per_episode.values(),\n",
    "              *num_frames_per_episode.values()))\n",
    "\n",
    "# Print worst episodes\n",
    "\n",
    "n = args.worst_episodes_to_show\n",
    "if n > 0:\n",
    "    print(\"\\n{} worst episodes:\".format(n))\n",
    "\n",
    "    indexes = sorted(range(len(logs[\"return_per_episode\"])), key=lambda k: logs[\"return_per_episode\"][k])\n",
    "    for i in indexes[:n]:\n",
    "        print(\"- episode {}: R={}, F={}\".format(i, logs[\"return_per_episode\"][i], logs[\"num_frames_per_episode\"][i]))"
   ]
  }
 ],
 "metadata": {
  "accelerator": "GPU",
  "colab": {
   "name": "test_minigrid_sb3_curriculum.ipynb",
   "provenance": []
  },
  "kernelspec": {
   "display_name": "tfm-rims",
   "language": "python",
   "name": "tfm-rims"
  },
  "language_info": {
   "codemirror_mode": {
    "name": "ipython",
    "version": 3
   },
   "file_extension": ".py",
   "mimetype": "text/x-python",
   "name": "python",
   "nbconvert_exporter": "python",
   "pygments_lexer": "ipython3",
   "version": "3.7.9"
  },
  "toc-autonumbering": true,
  "toc-showcode": false,
  "toc-showmarkdowntxt": false,
  "toc-showtags": false,
  "vscode": {
   "interpreter": {
    "hash": "d78c29e5a106d8e5aff5a2dd98f2f1ce9953cb30dd1c8e42e77397bf33d62cb1"
   }
  }
 },
 "nbformat": 4,
 "nbformat_minor": 4
}
