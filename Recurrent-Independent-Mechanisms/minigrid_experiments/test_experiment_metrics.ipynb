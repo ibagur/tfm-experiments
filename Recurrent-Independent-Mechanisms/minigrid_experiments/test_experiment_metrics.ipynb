{
 "cells": [
  {
   "cell_type": "code",
   "execution_count": 1,
   "metadata": {},
   "outputs": [],
   "source": [
    "import sys, os, time\n",
    "import numpy as np\n",
    "import pandas as pd\n",
    "import scipy.io as sio\n",
    "import pickle"
   ]
  },
  {
   "cell_type": "code",
   "execution_count": 2,
   "metadata": {},
   "outputs": [],
   "source": [
    "# Accuracy metric\n",
    "def acc(r_val, r_std):\n",
    "    last_row = r_val[len(r_val)-1]\n",
    "    last_row_std = r_std[len(r_std)-1]\n",
    "\n",
    "    acc = round(last_row.sum() / len(r_val), 5)\n",
    "\n",
    "    # Calculate the standard deviation for acc\n",
    "    acc_std = round(np.sqrt((last_row_std**2).sum()) / len(r_val), 5)\n",
    "\n",
    "    return acc, acc_std\n",
    "\n",
    "# Backward Transfer metric\n",
    "def bwt(r_val, r_std):\n",
    "    t = len(r_val)\n",
    "    tmp = []\n",
    "    std_diffs = []\n",
    "    for i in range(t-1):\n",
    "        diff = r_val[t-1][i] - r_val[i][i]\n",
    "        tmp.append(diff)\n",
    "        \n",
    "        # Calculate the standard deviation for each difference\n",
    "        std_diff = np.sqrt(r_std[t-1][i]**2 + r_std[i][i]**2)\n",
    "        std_diffs.append(std_diff)\n",
    "    \n",
    "    tmp_arr = np.array(tmp)\n",
    "    std_diffs_arr = np.array(std_diffs)\n",
    "\n",
    "    bwt = round(tmp_arr.sum() / (t-1), 5)\n",
    "    \n",
    "    # Calculate the standard deviation for bwt\n",
    "    bwt_std = round(np.sqrt((std_diffs_arr**2).sum()) / (t-1), 5)\n",
    "    \n",
    "    return bwt, bwt_std"
   ]
  },
  {
   "cell_type": "code",
   "execution_count": 4,
   "metadata": {},
   "outputs": [
    {
     "name": "stdout",
     "output_type": "stream",
     "text": [
      "Experiment: minigrid-wallgap-doorkey-redbluedoor-crossing \n",
      "\n",
      "Approach: rims\n",
      "ACC: (0.60046, 0.12844)\n",
      "BWT: (-0.43939, 0.1805)\n",
      "\n"
     ]
    }
   ],
   "source": [
    "exp = 'minigrid-wallgap-doorkey-redbluedoor-crossing'\n",
    "\n",
    "approaches = ['rims']\n",
    "metrics_dir = './metrics/'\n",
    "seeds = [123456, 789012, 345678]\n",
    "\n",
    "date = \"2023-11-17\"\n",
    "model = \"wallgap-doorkey-redblue-crossing\"\n",
    "algo = \"ppo\"\n",
    "frames = 1000000\n",
    "num_units = 6\n",
    "k = 4\n",
    "meta_learn = True\n",
    "reshape_reward = False\n",
    "\n",
    "# Experiment details\n",
    "experiments = [\n",
    "    ('2023-11-17', exp, [\n",
    "    (0, 'MiniGrid-WallGapS6-v0'),\n",
    "    (1, 'MiniGrid-DoorKey-6x6-v0'),\n",
    "    (2, 'MiniGrid-RedBlueDoors-6x6-v0'), \n",
    "    (3, 'MiniGrid-SimpleCrossingS9N1-v0')  \n",
    "    ])    \n",
    "    ]\n",
    "\n",
    "for item in experiments:\n",
    "\n",
    "    date = item[0]\n",
    "    experiment = item[1]\n",
    "    tasks_sequence = item[2]\n",
    "    t = len(tasks_sequence)\n",
    "\n",
    "    print('Experiment:',experiment, '\\n')\n",
    "    for i, approach in enumerate(approaches):\n",
    "\n",
    "        # create name of data export file\n",
    "        exp_name = '{}_{}_{}_{}_metalearn_{}_rims_{}_k_{}_reshape_{}'.format(date, model, algo, frames, meta_learn, num_units, k, reshape_reward)\n",
    "        \n",
    "\n",
    "        r_val_file = os.path.join(metrics_dir, exp_name + \"_final_r_val.pkl\")\n",
    "        r_std_file = os.path.join(metrics_dir, exp_name + \"_final_r_std.pkl\")\n",
    "\n",
    "        r_val_df = pd.read_pickle(r_val_file)\n",
    "        r_std_df = pd.read_pickle(r_std_file)\n",
    "\n",
    "        r_val = r_val_df\n",
    "        r_std = r_std_df\n",
    "\n",
    "        print(\"Approach:\", approach)\n",
    "        print(\"ACC: {}\".format(acc(r_val, r_std)))\n",
    "        print(\"BWT: {}\\n\".format(bwt(r_val, r_std)))"
   ]
  },
  {
   "cell_type": "code",
   "execution_count": 12,
   "metadata": {},
   "outputs": [
    {
     "name": "stdout",
     "output_type": "stream",
     "text": [
      "[[0.924375   0.94508333 0.537875   0.92268518]\n",
      " [0.924375   0.94508333 0.537875   0.92268518]\n",
      " [0.924375   0.94508333 0.537875   0.92268518]\n",
      " [0.924375   0.94508333 0.537875   0.92268518]]\n"
     ]
    }
   ],
   "source": [
    "\n",
    "print(r_val_df)"
   ]
  }
 ],
 "metadata": {
  "kernelspec": {
   "display_name": "tfm-experiments",
   "language": "python",
   "name": "tfm-experiments"
  },
  "language_info": {
   "codemirror_mode": {
    "name": "ipython",
    "version": 3
   },
   "file_extension": ".py",
   "mimetype": "text/x-python",
   "name": "python",
   "nbconvert_exporter": "python",
   "pygments_lexer": "ipython3",
   "version": "3.7.9"
  },
  "orig_nbformat": 4
 },
 "nbformat": 4,
 "nbformat_minor": 2
}
