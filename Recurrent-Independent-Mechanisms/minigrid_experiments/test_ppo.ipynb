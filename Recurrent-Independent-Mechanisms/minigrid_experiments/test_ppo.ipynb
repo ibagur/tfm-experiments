{
 "cells": [
  {
   "cell_type": "markdown",
   "metadata": {
    "id": "MNF5-qJ7B0Q3"
   },
   "source": [
    "# MiniGrid settings"
   ]
  },
  {
   "cell_type": "markdown",
   "metadata": {
    "id": "AdM2FnEJB0Q8"
   },
   "source": [
    "## Basic Jupyter Setting"
   ]
  },
  {
   "cell_type": "code",
   "execution_count": 49,
   "metadata": {
    "executionInfo": {
     "elapsed": 319,
     "status": "ok",
     "timestamp": 1647123362972,
     "user": {
      "displayName": "Iñigo",
      "photoUrl": "https://lh3.googleusercontent.com/a/default-user=s64",
      "userId": "14378798962183195551"
     },
     "user_tz": -60
    },
    "id": "aycUmr6OB0Q8"
   },
   "outputs": [],
   "source": [
    "import numpy as np\n",
    "import matplotlib.pyplot as plt\n",
    "from pprint import pprint\n",
    "\n",
    "%matplotlib inline\n",
    "plt.rcParams['figure.figsize'] = (10.0, 8.0) # set default size of plots\n",
    "plt.rcParams['image.interpolation'] = 'nearest'\n",
    "plt.rcParams['image.cmap'] = 'gray'\n",
    "\n",
    "# for auto-reloading external modules\n",
    "# see http://stackoverflow.com/questions/1907993/autoreload-of-modules-in-ipython\n",
    "#%load_ext autoreload\n",
    "#%autoreload 2\n",
    "%reload_ext autoreload\n",
    "%autoreload 2"
   ]
  },
  {
   "cell_type": "markdown",
   "metadata": {
    "id": "ef0DdE0b4pLd"
   },
   "source": [
    "## Initial set-up"
   ]
  },
  {
   "cell_type": "markdown",
   "metadata": {
    "id": "PLM4YYcL5rBt"
   },
   "source": [
    "Import libraries and classes:"
   ]
  },
  {
   "cell_type": "code",
   "execution_count": 50,
   "metadata": {
    "id": "YgenDMtf4pLe"
   },
   "outputs": [],
   "source": [
    "# Imports\n",
    "import time\n",
    "import io\n",
    "import os\n",
    "import glob\n",
    "import torch\n",
    "import base64\n",
    "# import stable_baselines3\n",
    "\n",
    "import numpy as np\n",
    "import matplotlib.pyplot as plt\n",
    "from random import randint \n",
    "\n",
    "import gym\n",
    "from gym import spaces\n",
    "from gym.wrappers import Monitor\n",
    "import gym_minigrid\n",
    "from gym_minigrid.wrappers import FlatObsWrapper, ImgObsWrapper, RGBImgPartialObsWrapper"
   ]
  },
  {
   "cell_type": "markdown",
   "metadata": {
    "id": "28U_WEp25rBu"
   },
   "source": [
    "Define the video function:"
   ]
  },
  {
   "cell_type": "code",
   "execution_count": 3,
   "metadata": {
    "id": "d7eCH8Kf4pLf"
   },
   "outputs": [],
   "source": [
    "import base64\n",
    "import glob\n",
    "import io\n",
    "from IPython.display import HTML\n",
    "from IPython import display \n",
    "\n",
    "def show_video():\n",
    "    mp4list = glob.glob('video/*.mp4')\n",
    "    if len(mp4list) > 0:\n",
    "        mp4 = mp4list[0]\n",
    "        video = io.open(mp4, 'r+b').read()\n",
    "        encoded = base64.b64encode(video)\n",
    "        display.display(HTML(data='''<video alt=\"test\" autoplay \n",
    "                loop controls style=\"height: 400px;\">\n",
    "                <source src=\"data:video/mp4;base64,{0}\" type=\"video/mp4\" />\n",
    "             </video>'''.format(encoded.decode('ascii'))))\n",
    "    else:\n",
    "        print(\"Could not find video\")\n",
    "        \n",
    "def show_animation(experiment):\n",
    "    giflist = glob.glob('animation/*.gif')\n",
    "    if len(giflist) > 0:\n",
    "        matching = [s for s in giflist if experiment in s]\n",
    "        gif_path = matching[0]\n",
    "        b64 = base64.b64encode(open(gif_path,'rb').read()).decode('ascii')\n",
    "        display.display(HTML(f'<img src=\"data:image/gif;base64,{b64}\" height=\"400\" />'))\n",
    "    else:\n",
    "        print(\"Could not find animation\")"
   ]
  },
  {
   "cell_type": "markdown",
   "metadata": {
    "id": "KchGuXpd5rBv"
   },
   "source": [
    "Define the rendering wrappers:"
   ]
  },
  {
   "cell_type": "code",
   "execution_count": 4,
   "metadata": {
    "id": "Gdhk3Oep4pLf"
   },
   "outputs": [],
   "source": [
    "from gym.wrappers import Monitor\n",
    "\n",
    "# Define wrapper for CNN Policy\n",
    "def ImgRGBImgPartialObsWrapper(env):\n",
    "    return ImgObsWrapper(RGBImgPartialObsWrapper(env))\n",
    "\n",
    "# Monitor is a gym wrapper, which helps easy rendering of videos of the wrapped environment.\n",
    "def wrap_env(env):\n",
    "    env = Monitor(env, './video', force=True)\n",
    "    return env\n",
    "\n",
    "def gen_wrapped_env(env_name):\n",
    "    return wrap_env(FlatObsWrapper(gym.make(env_name)))\n",
    "\n",
    "def gen_wrapped_env_cnn(env_name):\n",
    "    return wrap_env(ImgObsWrapper(RGBImgPartialObsWrapper(gym.make(env_name))))"
   ]
  },
  {
   "cell_type": "markdown",
   "metadata": {},
   "source": [
    "Render an environment image:"
   ]
  },
  {
   "cell_type": "code",
   "execution_count": 5,
   "metadata": {
    "colab": {
     "base_uri": "https://localhost:8080/",
     "height": 269
    },
    "executionInfo": {
     "elapsed": 900,
     "status": "ok",
     "timestamp": 1647083269049,
     "user": {
      "displayName": "Iñigo",
      "photoUrl": "https://lh3.googleusercontent.com/a/default-user=s64",
      "userId": "14378798962183195551"
     },
     "user_tz": -60
    },
    "id": "B21JwGYn5rBv",
    "outputId": "54dfa526-2621-4f91-df2b-e4ff7a447aad"
   },
   "outputs": [
    {
     "data": {
      "image/png": "[encoded data removed]",
      "text/plain": [
       "<Figure size 400x400 with 1 Axes>"
      ]
     },
     "metadata": {},
     "output_type": "display_data"
    }
   ],
   "source": [
    "from random import randint\n",
    "#env_id = 'MiniGrid-Empty-5x5-v0'\n",
    "#env_id = 'MiniGrid-Empty-Random-6x6-v0'\n",
    "#env_id = 'MiniGrid-Empty-8x8-v0'\n",
    "#env_id = 'MiniGrid-Empty-16x16-v0'\n",
    "env_id = 'MiniGrid-DoorKey-6x6-v0'\n",
    "#env_id = 'BreakoutNoFrameskip-v4'\n",
    "#env_id = 'MiniGrid-DistShift1-v0'\n",
    "#env_id ='MiniGrid-UnlockPickup-v0'\n",
    "#env_id = 'MiniGrid-RedBlueDoors-6x6-v0'\n",
    "#env_id = 'MiniGrid-LavaGapS6-v0'\n",
    "#env_id = 'MiniGrid-WallGapS6-v0'\n",
    "\n",
    "eval_env = gym.make(env_id)\n",
    "eval_env.seed(10000+randint(0, 10))\n",
    "eval_env.reset()\n",
    "#random_action = eval_env.action_space.sample()\n",
    "#new_obs, reward, done, info = eval_env.step(random_action)\n",
    "\n",
    "before_img = eval_env.render('rgb_array')\n",
    "\n",
    "plt.figure(figsize = (4.,4.))\n",
    "plt.imshow(before_img);"
   ]
  },
  {
   "cell_type": "markdown",
   "metadata": {
    "id": "umY09KJP5rCI"
   },
   "source": [
    "# Standard PPO learning"
   ]
  },
  {
   "cell_type": "markdown",
   "metadata": {
    "id": "yPq1XkeL5rCI"
   },
   "source": [
    "## Define the environments"
   ]
  },
  {
   "cell_type": "markdown",
   "metadata": {},
   "source": [
    "### Import libraries"
   ]
  },
  {
   "cell_type": "code",
   "execution_count": 51,
   "metadata": {},
   "outputs": [],
   "source": [
    "import time\n",
    "import io\n",
    "import os\n",
    "import glob\n",
    "import base64\n",
    "import datetime\n",
    "import torch\n",
    "import torch_ac\n",
    "import tensorboardX\n",
    "import sys\n",
    "import utils\n",
    "from model import ACModel\n",
    "from torch_ac.utils import DictList, ParallelEnv\n",
    "import matplotlib.pyplot as plt\n",
    "from mpl_toolkits.axes_grid1 import ImageGrid\n",
    "import numpy as np\n",
    "import random\n",
    "\n",
    "import gym\n",
    "from gym import spaces\n",
    "from gym.wrappers import Monitor\n",
    "import gym_minigrid\n",
    "from gym_minigrid.wrappers import FlatObsWrapper, ImgObsWrapper, RGBImgPartialObsWrapper"
   ]
  },
  {
   "cell_type": "markdown",
   "metadata": {},
   "source": [
    "### Helper functions"
   ]
  },
  {
   "cell_type": "code",
   "execution_count": 52,
   "metadata": {},
   "outputs": [],
   "source": [
    "def make_envs(env_id, procs, seed=None):\n",
    "    envs = []\n",
    "    for i in range(procs):\n",
    "        if seed:\n",
    "            e = utils.make_env(env_id, seed + 10000 * i)\n",
    "        else:\n",
    "            e = utils.make_env(env_id)\n",
    "        envs.append(e)\n",
    "    env = ParallelEnv(envs)\n",
    "    return env"
   ]
  },
  {
   "cell_type": "markdown",
   "metadata": {},
   "source": [
    "### Render Parallel environment snapshot"
   ]
  },
  {
   "cell_type": "code",
   "execution_count": 8,
   "metadata": {},
   "outputs": [
    {
     "data": {
      "image/png": "[encoded data removed]",
      "text/plain": [
       "<Figure size 800x800 with 32 Axes>"
      ]
     },
     "metadata": {},
     "output_type": "display_data"
    }
   ],
   "source": [
    "import matplotlib.pyplot as plt\n",
    "from mpl_toolkits.axes_grid1 import ImageGrid\n",
    "import numpy as np\n",
    "\n",
    "procs = 16\n",
    "max_tasks = 20\n",
    "seed_list = range(procs * max_tasks, (procs + 1) * max_tasks)\n",
    "\n",
    "#env_id = 'MiniGrid-Empty-Random-6x6-v0'\n",
    "#env_id = 'MiniGrid-Empty-5x5-v0'\n",
    "#env_id = 'MiniGrid-DoorKey-5x5-v0'\n",
    "env_id = 'MiniGrid-DoorKey-6x6-v0'\n",
    "#env_id = 'MiniGrid-SimpleCrossingS9N1-v0'\n",
    "#env_id = 'MiniGrid-SimpleCrossingS9N2-v0'\n",
    "#env_id = 'MiniGrid-SimpleCrossingS9N3-v0'\n",
    "#env_id = 'MiniGrid-SimpleCrossingS11N5-v0'\n",
    "#env_id = 'MiniGrid-WallGapS6-v0'\n",
    "#env_id = 'MiniGrid-LavaCrossingS9N2-v0'\n",
    "\n",
    "seed = 1\n",
    "env = make_envs(env_id, procs, seed)\n",
    "obs = env.reset()\n",
    "\n",
    "im_list = []\n",
    "for e in env.envs:\n",
    "    #print(type(e.render('rgb_array')))\n",
    "    #e.reset()\n",
    "    im_list.append(e.render('rgb_array'))\n",
    "\n",
    "fig = plt.figure(figsize=(8., 8.))\n",
    "grid = ImageGrid(fig, 111,  # similar to subplot(111)\n",
    "                 nrows_ncols=(4, 4),  # creates 2x2 grid of axes\n",
    "                 axes_pad=0.1,  # pad between axes in inch.\n",
    "                 )\n",
    "\n",
    "for ax, im in zip(grid, im_list):\n",
    "    # Iterating over the grid returns the Axes.\n",
    "    ax.imshow(im)\n",
    "\n",
    "#plt.show()\n"
   ]
  },
  {
   "cell_type": "markdown",
   "metadata": {},
   "source": [
    "## Configuration"
   ]
  },
  {
   "cell_type": "markdown",
   "metadata": {},
   "source": [
    "### Load parameters"
   ]
  },
  {
   "cell_type": "code",
   "execution_count": 53,
   "metadata": {},
   "outputs": [],
   "source": [
    "#env_id = 'MiniGrid-Empty-8x8-v0'\n",
    "#env_id = 'MiniGrid-LavaGapS5-v0'\n",
    "#env_id = 'MiniGrid-DoorKey-5x5-v0'\n",
    "#env_id = 'MiniGrid-DoorKey-5x5-v0'\n",
    "#env_id = 'MiniGrid-DoorKey-6x6-v0'\n",
    "env_id = 'MiniGrid-WallGapS6-v0'\n",
    "#env_id = 'MiniGrid-Empty-Random-6x6-v0'\n",
    "#env_id = 'MiniGrid-Empty-5x5-v0'\n",
    "model = 'MiniGrid-WallGapS6-v0_PPO_frames_600k_proc_16_RMSProp_lr_7e4_gae_099_test_MiniGrid-DoorKey-6x6-v0'\n",
    "processes = 16\n",
    "frames = 300000\n",
    "\n",
    "## Hyper-parameters\n",
    "args = {\n",
    "# General parameters\n",
    "'algo':'ppo',\n",
    "'env':env_id,\n",
    "'model':model,\n",
    "'seed':1,\n",
    "'log_interval':1,\n",
    "'save_interval':10,\n",
    "'procs':processes,\n",
    "'frames':frames, # default 1e7\n",
    "# Parameters for main algorithm\n",
    "'epochs':4,\n",
    "'batch_size':256,\n",
    "'frames_per_proc':128, # 128 for PPO and 5 per A2C\n",
    "'discount':0.99,\n",
    "#'lr':0.0001, # for Adam\n",
    "'lr':0.0007, # for RMSProp\n",
    "#'gae_lambda':0.95, # 1 means no gae, for Adam\n",
    "'gae_lambda':0.99, # 1 means no gae, for RMSProp\n",
    "'entropy_coef':0.01,\n",
    "'value_loss_coef':0.5,\n",
    "'max_grad_norm':0.5,\n",
    "'optim_eps':1e-8,\n",
    "'optim_alpha':0.99,\n",
    "'clip_eps':0.2,\n",
    "'recurrence':1, # if > 1, a LSTM is added\n",
    "'text':False, # add a GRU for text input\n",
    "# Model Parameters\n",
    "'use_rim':False # action = 'store_true'\n",
    "}\n",
    "\n",
    "#args = utils.dotdict(args)\n",
    "args = DictList(args)\n",
    "\n",
    "args.mem = args.recurrence > 1\n",
    "\n",
    "# RIM specific hyperparameters\n",
    "if args.use_rim:\n",
    "    args.num_units = 5\n",
    "    args.k = 3"
   ]
  },
  {
   "cell_type": "markdown",
   "metadata": {},
   "source": [
    "### Initial settings"
   ]
  },
  {
   "cell_type": "code",
   "execution_count": 54,
   "metadata": {},
   "outputs": [
    {
     "name": "stdout",
     "output_type": "stream",
     "text": [
      "{'algo': 'ppo', 'env': 'MiniGrid-WallGapS6-v0', 'model': 'MiniGrid-WallGapS6-v0_PPO_frames_600k_proc_16_RMSProp_lr_7e4_gae_099_test_MiniGrid-DoorKey-6x6-v0', 'seed': 1, 'log_interval': 1, 'save_interval': 10, 'procs': 16, 'frames': 300000, 'epochs': 4, 'batch_size': 256, 'frames_per_proc': 128, 'discount': 0.99, 'lr': 0.0007, 'gae_lambda': 0.99, 'entropy_coef': 0.01, 'value_loss_coef': 0.5, 'max_grad_norm': 0.5, 'optim_eps': 1e-08, 'optim_alpha': 0.99, 'clip_eps': 0.2, 'recurrence': 1, 'text': False, 'use_rim': False, 'mem': False}\n",
      "\n",
      "Device: cpu\n",
      "\n"
     ]
    }
   ],
   "source": [
    "# Set run dir\n",
    "\n",
    "date = datetime.datetime.now().strftime(\"%y-%m-%d-%H-%M-%S\")\n",
    "default_model_name = f\"{args.env}_{args.algo}_seed{args.seed}_{date}\"\n",
    "\n",
    "model_name = args.model or default_model_name\n",
    "model_dir = utils.get_model_dir(model_name)\n",
    "\n",
    "# Load loggers and Tensorboard writer\n",
    "\n",
    "txt_logger = utils.get_txt_logger(model_dir)\n",
    "csv_file, csv_logger = utils.get_csv_logger(model_dir)\n",
    "tb_writer = tensorboardX.SummaryWriter(model_dir)\n",
    "\n",
    "# Log command and all script arguments\n",
    "\n",
    "#txt_logger.info(\"{}\\n\".format(\" \".join(sys.argv)))\n",
    "txt_logger.info(\"{}\\n\".format(args))\n",
    "\n",
    "# Set seed for all randomness sources\n",
    "\n",
    "utils.seed(args.seed)\n",
    "\n",
    "# Set device\n",
    "\n",
    "device = torch.device(\"cuda\" if torch.cuda.is_available() else \"cpu\")\n",
    "txt_logger.info(f\"Device: {device}\\n\")"
   ]
  },
  {
   "cell_type": "markdown",
   "metadata": {},
   "source": [
    "### Load environments, model, algo and prepare training settings"
   ]
  },
  {
   "cell_type": "code",
   "execution_count": 55,
   "metadata": {},
   "outputs": [
    {
     "name": "stdout",
     "output_type": "stream",
     "text": [
      "Environments loaded\n",
      "\n",
      "Training status loaded\n",
      "\n",
      "Observations preprocessor loaded\n",
      "Model loaded\n",
      "\n",
      "ACModel(\n",
      "  (image_conv): Sequential(\n",
      "    (0): Conv2d(3, 16, kernel_size=(2, 2), stride=(1, 1))\n",
      "    (1): ReLU()\n",
      "    (2): MaxPool2d(kernel_size=(2, 2), stride=(2, 2), padding=0, dilation=1, ceil_mode=False)\n",
      "    (3): Conv2d(16, 32, kernel_size=(2, 2), stride=(1, 1))\n",
      "    (4): ReLU()\n",
      "    (5): Conv2d(32, 64, kernel_size=(2, 2), stride=(1, 1))\n",
      "    (6): ReLU()\n",
      "  )\n",
      "  (actor): Sequential(\n",
      "    (0): Linear(in_features=64, out_features=64, bias=True)\n",
      "    (1): Tanh()\n",
      "    (2): Linear(in_features=64, out_features=7, bias=True)\n",
      "  )\n",
      "  (critic): Sequential(\n",
      "    (0): Linear(in_features=64, out_features=64, bias=True)\n",
      "    (1): Tanh()\n",
      "    (2): Linear(in_features=64, out_features=1, bias=True)\n",
      "  )\n",
      ")\n",
      "\n"
     ]
    },
    {
     "name": "stdout",
     "output_type": "stream",
     "text": [
      "Optimizer loaded\n",
      "\n"
     ]
    }
   ],
   "source": [
    "# Load environments\n",
    "\n",
    "envs = []\n",
    "for i in range(args.procs):\n",
    "    envs.append(utils.make_env(args.env, args.seed + 10000 * i))\n",
    "txt_logger.info(\"Environments loaded\\n\")\n",
    "\n",
    "# Load training status\n",
    "\n",
    "try:\n",
    "    status = utils.get_status(model_dir)\n",
    "except OSError:\n",
    "    status = {\"num_frames\": 0, \"update\": 0}\n",
    "txt_logger.info(\"Training status loaded\\n\")\n",
    "\n",
    "# Load observations preprocessor\n",
    "\n",
    "obs_space, preprocess_obss = utils.get_obss_preprocessor(envs[0].observation_space)\n",
    "if \"vocab\" in status:\n",
    "    preprocess_obss.vocab.load_vocab(status[\"vocab\"])\n",
    "txt_logger.info(\"Observations preprocessor loaded\")\n",
    "\n",
    "# Load model\n",
    "\n",
    "acmodel = ACModel(obs_space=obs_space, action_space=envs[0].action_space, use_memory=args.mem, use_text=args.text)\n",
    "if \"model_state\" in status:\n",
    "    acmodel.load_state_dict(status[\"model_state\"])\n",
    "acmodel.to(device)\n",
    "txt_logger.info(\"Model loaded\\n\")\n",
    "txt_logger.info(\"{}\\n\".format(acmodel))\n",
    "\n",
    "# Load algo\n",
    "\n",
    "if args.algo == \"a2c\":\n",
    "    algo = torch_ac.A2CAlgo(envs, acmodel, device, args.frames_per_proc, args.discount, args.lr, args.gae_lambda,\n",
    "                            args.entropy_coef, args.value_loss_coef, args.max_grad_norm, args.recurrence,\n",
    "                            args.optim_alpha, args.optim_eps, preprocess_obss)\n",
    "elif args.algo == \"ppo\":\n",
    "    algo = torch_ac.PPOAlgo(envs, acmodel, device, args.frames_per_proc, args.discount, args.lr, args.gae_lambda,\n",
    "                            args.entropy_coef, args.value_loss_coef, args.max_grad_norm, args.recurrence,\n",
    "                            args.optim_eps, args.clip_eps, args.epochs, args.batch_size, preprocess_obss)\n",
    "else:\n",
    "    raise ValueError(\"Incorrect algorithm name: {}\".format(args.algo))\n",
    "\n",
    "# change to RMSProp optimizer\n",
    "algo.optimizer = torch.optim.RMSprop(algo.acmodel.parameters(), args.lr, eps=args.optim_eps)\n",
    "\n",
    "if \"optimizer_state\" in status:\n",
    "    algo.optimizer.load_state_dict(status[\"optimizer_state\"])\n",
    "txt_logger.info(\"Optimizer loaded\\n\")"
   ]
  },
  {
   "cell_type": "markdown",
   "metadata": {},
   "source": [
    "## Training"
   ]
  },
  {
   "cell_type": "code",
   "execution_count": 56,
   "metadata": {},
   "outputs": [
    {
     "name": "stdout",
     "output_type": "stream",
     "text": [
      "U 1 | F 002048 | FPS 2141 | D 0 | rR:μσmM 0.11 0.23 0.00 0.75 | F:μσmM 13.2 29.1 0.0 94.0 | H 1.912 | V -0.071 | pL -0.089 | vL 0.016 | ∇ 0.056\n",
      "U 2 | F 004096 | FPS 1955 | D 2 | rR:μσmM 0.01 0.03 0.00 0.14 | F:μσmM 143.6 1.7 137.0 144.0 | H 1.925 | V -0.026 | pL -0.024 | vL 0.000 | ∇ 0.008\n",
      "U 3 | F 006144 | FPS 1820 | D 3 | rR:μσmM 0.07 0.19 0.00 0.61 | F:μσmM 135.2 25.0 62.0 144.0 | H 1.915 | V 0.008 | pL -0.035 | vL 0.008 | ∇ 0.026\n",
      "U 4 | F 008192 | FPS 1977 | D 4 | rR:μσmM 0.07 0.19 0.00 0.71 | F:μσmM 135.0 25.5 46.0 144.0 | H 1.927 | V 0.022 | pL -0.011 | vL 0.006 | ∇ 0.049\n",
      "U 5 | F 010240 | FPS 2527 | D 5 | rR:μσmM 0.09 0.23 0.00 0.77 | F:μσmM 131.9 31.8 37.0 144.0 | H 1.927 | V 0.031 | pL -0.016 | vL 0.008 | ∇ 0.040\n",
      "U 6 | F 012288 | FPS 2083 | D 6 | rR:μσmM 0.16 0.26 0.00 0.72 | F:μσmM 122.8 34.4 45.0 144.0 | H 1.918 | V 0.039 | pL -0.035 | vL 0.012 | ∇ 0.094\n",
      "U 7 | F 014336 | FPS 2359 | D 6 | rR:μσmM 0.21 0.32 0.00 0.84 | F:μσmM 115.8 44.6 26.0 144.0 | H 1.902 | V 0.072 | pL -0.022 | vL 0.019 | ∇ 0.089\n",
      "U 8 | F 016384 | FPS 2018 | D 7 | rR:μσmM 0.28 0.30 0.00 0.95 | F:μσmM 107.3 41.1 8.0 144.0 | H 1.899 | V 0.099 | pL -0.023 | vL 0.012 | ∇ 0.060\n",
      "U 9 | F 018432 | FPS 1576 | D 9 | rR:μσmM 0.14 0.24 0.00 0.84 | F:μσmM 126.9 32.4 26.0 144.0 | H 1.893 | V 0.083 | pL 0.022 | vL 0.009 | ∇ 0.080\n",
      "U 10 | F 020480 | FPS 1934 | D 10 | rR:μσmM 0.26 0.34 0.00 0.84 | F:μσmM 108.6 47.5 26.0 144.0 | H 1.883 | V 0.075 | pL -0.008 | vL 0.012 | ∇ 0.070\n",
      "Status saved\n",
      "U 11 | F 022528 | FPS 1653 | D 11 | rR:μσmM 0.45 0.36 0.00 0.94 | F:μσmM 83.8 52.7 10.0 144.0 | H 1.872 | V 0.165 | pL -0.074 | vL 0.024 | ∇ 0.093\n",
      "U 12 | F 024576 | FPS 1763 | D 12 | rR:μσmM 0.48 0.35 0.00 0.94 | F:μσmM 78.2 50.2 10.0 144.0 | H 1.845 | V 0.187 | pL -0.040 | vL 0.021 | ∇ 0.074\n",
      "U 13 | F 026624 | FPS 1342 | D 14 | rR:μσmM 0.39 0.34 0.00 0.99 | F:μσmM 92.6 48.3 2.0 144.0 | H 1.799 | V 0.205 | pL 0.022 | vL 0.021 | ∇ 0.101\n",
      "U 14 | F 028672 | FPS 1520 | D 15 | rR:μσmM 0.37 0.36 0.00 0.98 | F:μσmM 94.6 50.1 4.0 144.0 | H 1.861 | V 0.164 | pL 0.018 | vL 0.018 | ∇ 0.082\n",
      "U 15 | F 030720 | FPS 1606 | D 16 | rR:μσmM 0.46 0.34 0.00 0.94 | F:μσmM 83.2 48.9 10.0 144.0 | H 1.821 | V 0.221 | pL -0.022 | vL 0.025 | ∇ 0.118\n",
      "U 16 | F 032768 | FPS 1421 | D 18 | rR:μσmM 0.40 0.34 0.00 0.91 | F:μσmM 90.1 47.5 14.0 144.0 | H 1.831 | V 0.230 | pL 0.017 | vL 0.018 | ∇ 0.099\n",
      "U 17 | F 034816 | FPS 1633 | D 19 | rR:μσmM 0.57 0.29 0.00 0.93 | F:μσmM 66.5 42.1 12.0 144.0 | H 1.800 | V 0.296 | pL -0.073 | vL 0.032 | ∇ 0.129\n",
      "U 18 | F 036864 | FPS 1405 | D 21 | rR:μσmM 0.51 0.30 0.00 0.84 | F:μσmM 75.8 42.5 26.0 144.0 | H 1.790 | V 0.304 | pL -0.009 | vL 0.030 | ∇ 0.100\n",
      "U 19 | F 038912 | FPS 1832 | D 22 | rR:μσmM 0.59 0.26 0.00 0.95 | F:μσmM 64.5 39.6 8.0 144.0 | H 1.771 | V 0.320 | pL -0.032 | vL 0.027 | ∇ 0.166\n",
      "U 20 | F 040960 | FPS 1586 | D 23 | rR:μσmM 0.59 0.31 0.00 0.96 | F:μσmM 62.8 45.5 7.0 144.0 | H 1.769 | V 0.350 | pL 0.009 | vL 0.027 | ∇ 0.126\n",
      "Status saved\n",
      "U 21 | F 043008 | FPS 1246 | D 25 | rR:μσmM 0.68 0.28 0.00 0.98 | F:μσmM 48.9 41.1 4.0 144.0 | H 1.727 | V 0.369 | pL -0.032 | vL 0.033 | ∇ 0.168\n",
      "U 22 | F 045056 | FPS 1363 | D 26 | rR:μσmM 0.63 0.32 0.00 0.97 | F:μσmM 56.5 46.9 5.0 144.0 | H 1.731 | V 0.378 | pL -0.015 | vL 0.036 | ∇ 0.192\n",
      "U 23 | F 047104 | FPS 1300 | D 28 | rR:μσmM 0.70 0.23 0.00 0.96 | F:μσmM 47.7 35.0 6.0 144.0 | H 1.709 | V 0.452 | pL -0.044 | vL 0.028 | ∇ 0.113\n",
      "U 24 | F 049152 | FPS 1177 | D 29 | rR:μσmM 0.72 0.23 0.00 0.99 | F:μσmM 44.7 35.2 2.0 144.0 | H 1.659 | V 0.491 | pL 0.018 | vL 0.026 | ∇ 0.131\n",
      "U 25 | F 051200 | FPS 1410 | D 31 | rR:μσmM 0.74 0.22 0.00 0.96 | F:μσmM 40.2 32.7 6.0 144.0 | H 1.689 | V 0.495 | pL 0.013 | vL 0.026 | ∇ 0.156\n",
      "U 26 | F 053248 | FPS 1736 | D 32 | rR:μσmM 0.75 0.21 0.00 0.98 | F:μσmM 40.4 33.1 3.0 144.0 | H 1.657 | V 0.515 | pL -0.005 | vL 0.026 | ∇ 0.161\n",
      "U 27 | F 055296 | FPS 1962 | D 33 | rR:μσmM 0.76 0.19 0.29 0.98 | F:μσmM 38.3 30.5 4.0 114.0 | H 1.624 | V 0.532 | pL -0.011 | vL 0.025 | ∇ 0.172\n",
      "U 28 | F 057344 | FPS 1465 | D 35 | rR:μσmM 0.82 0.14 0.35 0.97 | F:μσmM 28.8 21.7 5.0 104.0 | H 1.555 | V 0.618 | pL -0.109 | vL 0.018 | ∇ 0.167\n",
      "U 29 | F 059392 | FPS 1730 | D 36 | rR:μσmM 0.83 0.11 0.54 0.97 | F:μσmM 26.8 18.2 5.0 74.0 | H 1.492 | V 0.620 | pL -0.064 | vL 0.017 | ∇ 0.135\n",
      "U 30 | F 061440 | FPS 1557 | D 37 | rR:μσmM 0.84 0.11 0.42 0.98 | F:μσmM 25.4 18.4 4.0 93.0 | H 1.498 | V 0.664 | pL -0.021 | vL 0.015 | ∇ 0.142\n",
      "Status saved\n",
      "U 31 | F 063488 | FPS 1627 | D 38 | rR:μσmM 0.83 0.13 0.37 0.98 | F:μσmM 27.8 20.0 4.0 101.0 | H 1.504 | V 0.657 | pL 0.020 | vL 0.014 | ∇ 0.136\n",
      "U 32 | F 065536 | FPS 1586 | D 40 | rR:μσmM 0.84 0.10 0.51 0.98 | F:μσmM 25.2 16.8 3.0 78.0 | H 1.479 | V 0.671 | pL -0.056 | vL 0.014 | ∇ 0.199\n",
      "U 33 | F 067584 | FPS 1702 | D 41 | rR:μσmM 0.87 0.08 0.68 0.98 | F:μσmM 21.4 12.5 4.0 52.0 | H 1.405 | V 0.731 | pL -0.001 | vL 0.009 | ∇ 0.139\n",
      "U 34 | F 069632 | FPS 1422 | D 42 | rR:μσmM 0.87 0.08 0.56 0.98 | F:μσmM 21.2 12.8 3.0 70.0 | H 1.409 | V 0.729 | pL -0.029 | vL 0.009 | ∇ 0.112\n",
      "U 35 | F 071680 | FPS 1565 | D 44 | rR:μσmM 0.89 0.07 0.53 0.98 | F:μσmM 17.9 11.6 3.0 75.0 | H 1.366 | V 0.750 | pL -0.015 | vL 0.011 | ∇ 0.174\n",
      "U 36 | F 073728 | FPS 1891 | D 45 | rR:μσmM 0.88 0.07 0.49 0.98 | F:μσmM 19.0 12.0 3.0 81.0 | H 1.339 | V 0.765 | pL -0.004 | vL 0.008 | ∇ 0.096\n",
      "U 37 | F 075776 | FPS 1896 | D 46 | rR:μσmM 0.89 0.07 0.53 0.98 | F:μσmM 17.9 11.7 3.0 75.0 | H 1.334 | V 0.760 | pL 0.018 | vL 0.010 | ∇ 0.161\n",
      "U 38 | F 077824 | FPS 1656 | D 47 | rR:μσmM 0.88 0.06 0.66 0.98 | F:μσmM 19.1 10.2 3.0 55.0 | H 1.411 | V 0.771 | pL 0.031 | vL 0.005 | ∇ 0.100\n",
      "U 39 | F 079872 | FPS 1797 | D 48 | rR:μσmM 0.89 0.06 0.68 0.98 | F:μσmM 16.9 9.6 3.0 51.0 | H 1.323 | V 0.783 | pL -0.025 | vL 0.011 | ∇ 0.202\n",
      "U 40 | F 081920 | FPS 1504 | D 50 | rR:μσmM 0.89 0.05 0.68 0.98 | F:μσmM 17.8 8.6 3.0 51.0 | H 1.339 | V 0.780 | pL -0.009 | vL 0.006 | ∇ 0.118\n",
      "Status saved\n",
      "U 41 | F 083968 | FPS 1689 | D 51 | rR:μσmM 0.89 0.05 0.72 0.98 | F:μσmM 16.9 8.5 4.0 45.0 | H 1.274 | V 0.792 | pL -0.047 | vL 0.005 | ∇ 0.114\n",
      "U 42 | F 086016 | FPS 1525 | D 52 | rR:μσmM 0.91 0.04 0.79 0.98 | F:μσmM 14.1 5.8 3.0 34.0 | H 1.206 | V 0.823 | pL -0.061 | vL 0.003 | ∇ 0.098\n",
      "U 43 | F 088064 | FPS 1609 | D 53 | rR:μσmM 0.91 0.04 0.73 0.98 | F:μσmM 13.8 6.5 3.0 43.0 | H 1.260 | V 0.837 | pL 0.021 | vL 0.003 | ∇ 0.097\n",
      "U 44 | F 090112 | FPS 1792 | D 55 | rR:μσmM 0.89 0.06 0.74 0.98 | F:μσmM 17.4 9.3 3.0 42.0 | H 1.367 | V 0.781 | pL 0.048 | vL 0.004 | ∇ 0.094\n",
      "U 45 | F 092160 | FPS 1300 | D 56 | rR:μσmM 0.89 0.05 0.72 0.98 | F:μσmM 16.9 8.0 3.0 45.0 | H 1.378 | V 0.805 | pL 0.018 | vL 0.003 | ∇ 0.062\n",
      "U 46 | F 094208 | FPS 1318 | D 58 | rR:μσmM 0.89 0.06 0.66 0.98 | F:μσmM 16.9 9.2 3.0 55.0 | H 1.358 | V 0.787 | pL 0.014 | vL 0.009 | ∇ 0.182\n",
      "U 47 | F 096256 | FPS 1583 | D 59 | rR:μσmM 0.90 0.06 0.41 0.98 | F:μσmM 16.5 10.0 4.0 95.0 | H 1.372 | V 0.805 | pL 0.038 | vL 0.006 | ∇ 0.084\n",
      "U 48 | F 098304 | FPS 1628 | D 60 | rR:μσmM 0.88 0.07 0.68 0.98 | F:μσmM 19.8 10.9 4.0 52.0 | H 1.365 | V 0.752 | pL 0.019 | vL 0.006 | ∇ 0.097\n",
      "U 49 | F 100352 | FPS 1548 | D 62 | rR:μσmM 0.89 0.06 0.68 0.96 | F:μσmM 17.6 9.5 6.0 52.0 | H 1.262 | V 0.775 | pL -0.033 | vL 0.005 | ∇ 0.077\n",
      "U 50 | F 102400 | FPS 1516 | D 63 | rR:μσmM 0.89 0.06 0.68 0.99 | F:μσmM 17.3 9.3 2.0 51.0 | H 1.256 | V 0.784 | pL -0.025 | vL 0.005 | ∇ 0.094\n",
      "Status saved\n",
      "U 51 | F 104448 | FPS 1329 | D 65 | rR:μσmM 0.90 0.05 0.75 0.97 | F:μσmM 16.1 7.5 5.0 40.0 | H 1.230 | V 0.798 | pL -0.059 | vL 0.004 | ∇ 0.092\n",
      "U 52 | F 106496 | FPS 1334 | D 66 | rR:μσmM 0.90 0.04 0.77 0.98 | F:μσmM 15.3 6.2 4.0 37.0 | H 1.217 | V 0.823 | pL -0.027 | vL 0.003 | ∇ 0.072\n",
      "U 53 | F 108544 | FPS 1294 | D 68 | rR:μσmM 0.91 0.04 0.71 0.98 | F:μσmM 14.0 6.7 3.0 46.0 | H 1.177 | V 0.821 | pL -0.046 | vL 0.004 | ∇ 0.099\n",
      "U 54 | F 110592 | FPS 1683 | D 69 | rR:μσmM 0.92 0.03 0.78 0.98 | F:μσmM 12.2 5.4 3.0 35.0 | H 1.055 | V 0.846 | pL -0.067 | vL 0.002 | ∇ 0.097\n",
      "U 55 | F 112640 | FPS 1366 | D 70 | rR:μσmM 0.92 0.03 0.79 0.99 | F:μσmM 13.0 5.5 2.0 33.0 | H 1.118 | V 0.840 | pL -0.019 | vL 0.002 | ∇ 0.066\n",
      "U 56 | F 114688 | FPS 1365 | D 72 | rR:μσmM 0.92 0.03 0.79 0.98 | F:μσmM 13.0 5.1 3.0 34.0 | H 1.238 | V 0.853 | pL 0.035 | vL 0.002 | ∇ 0.055\n",
      "U 57 | F 116736 | FPS 1540 | D 73 | rR:μσmM 0.91 0.04 0.78 0.98 | F:μσmM 13.9 6.2 3.0 35.0 | H 1.268 | V 0.831 | pL -0.000 | vL 0.004 | ∇ 0.115\n",
      "U 58 | F 118784 | FPS 1770 | D 74 | rR:μσmM 0.91 0.04 0.79 0.98 | F:μσmM 14.9 6.7 3.0 34.0 | H 1.333 | V 0.822 | pL 0.045 | vL 0.003 | ∇ 0.066\n",
      "U 59 | F 120832 | FPS 2264 | D 75 | rR:μσmM 0.90 0.05 0.68 0.98 | F:μσmM 16.5 8.6 3.0 51.0 | H 1.295 | V 0.802 | pL 0.011 | vL 0.005 | ∇ 0.106\n",
      "Number of frames:  122880\n"
     ]
    }
   ],
   "source": [
    "# Train model\n",
    "\n",
    "num_frames = status[\"num_frames\"]\n",
    "update = status[\"update\"]\n",
    "start_time = time.time()\n",
    "\n",
    "# Moving average parameters\n",
    "threshold = 0.90\n",
    "window = 10\n",
    "rreturn_total = 0\n",
    "i = 0\n",
    "\n",
    "while num_frames < args.frames:\n",
    "    # Update model parameters\n",
    "\n",
    "    update_start_time = time.time()\n",
    "    exps, logs1 = algo.collect_experiences()\n",
    "    logs2 = algo.update_parameters(exps)\n",
    "    logs = {**logs1, **logs2}\n",
    "    update_end_time = time.time()\n",
    "\n",
    "    num_frames += logs[\"num_frames\"]\n",
    "    update += 1\n",
    "\n",
    "    # Print logs\n",
    "\n",
    "    if update % args.log_interval == 0:\n",
    "        fps = logs[\"num_frames\"]/(update_end_time - update_start_time)\n",
    "        duration = int(time.time() - start_time)\n",
    "        return_per_episode = utils.synthesize(logs[\"return_per_episode\"])\n",
    "        rreturn_per_episode = utils.synthesize(logs[\"reshaped_return_per_episode\"])\n",
    "        num_frames_per_episode = utils.synthesize(logs[\"num_frames_per_episode\"])\n",
    "        # Moving average to break loop if mean reward threshold reached\n",
    "        rreturn_total +=rreturn_per_episode['mean']\n",
    "        i+=1\n",
    "        if i >= window:\n",
    "            rreturn_mavg = rreturn_total / i\n",
    "            if rreturn_mavg >= threshold:\n",
    "                break_flag = True \n",
    "                break\n",
    "            else:\n",
    "                i = 0\n",
    "                rreturn_total = 0\n",
    "\n",
    "        header = [\"update\", \"frames\", \"FPS\", \"duration\"]\n",
    "        data = [update, num_frames, fps, duration]\n",
    "        header += [\"rreturn_\" + key for key in rreturn_per_episode.keys()]\n",
    "        data += rreturn_per_episode.values()\n",
    "        header += [\"num_frames_\" + key for key in num_frames_per_episode.keys()]\n",
    "        data += num_frames_per_episode.values()\n",
    "        header += [\"entropy\", \"value\", \"policy_loss\", \"value_loss\", \"grad_norm\"]\n",
    "        data += [logs[\"entropy\"], logs[\"value\"], logs[\"policy_loss\"], logs[\"value_loss\"], logs[\"grad_norm\"]]\n",
    "\n",
    "        txt_logger.info(\n",
    "            \"U {} | F {:06} | FPS {:04.0f} | D {} | rR:μσmM {:.2f} {:.2f} {:.2f} {:.2f} | F:μσmM {:.1f} {:.1f} {} {} | H {:.3f} | V {:.3f} | pL {:.3f} | vL {:.3f} | ∇ {:.3f}\"\n",
    "            .format(*data))\n",
    "\n",
    "        header += [\"return_\" + key for key in return_per_episode.keys()]\n",
    "        data += return_per_episode.values()\n",
    "\n",
    "        if status[\"num_frames\"] == 0:\n",
    "            csv_logger.writerow(header)\n",
    "        csv_logger.writerow(data)\n",
    "        csv_file.flush()\n",
    "\n",
    "        for field, value in zip(header, data):\n",
    "            tb_writer.add_scalar(field, value, num_frames)\n",
    "\n",
    "    # Save status\n",
    "\n",
    "    if args.save_interval > 0 and update % args.save_interval == 0:\n",
    "        status = {\"num_frames\": num_frames, \"update\": update,\n",
    "                  \"model_state\": acmodel.state_dict(), \"optimizer_state\": algo.optimizer.state_dict()}\n",
    "        if hasattr(preprocess_obss, \"vocab\"):\n",
    "            status[\"vocab\"] = preprocess_obss.vocab.vocab\n",
    "        utils.save_status(status, model_dir)\n",
    "        txt_logger.info(\"Status saved\")\n",
    "\n",
    "print(\"Number of frames: \", num_frames)"
   ]
  },
  {
   "cell_type": "markdown",
   "metadata": {},
   "source": [
    "## Evaluation"
   ]
  },
  {
   "cell_type": "markdown",
   "metadata": {},
   "source": [
    "### Load parameters"
   ]
  },
  {
   "cell_type": "code",
   "execution_count": 57,
   "metadata": {},
   "outputs": [
    {
     "name": "stdout",
     "output_type": "stream",
     "text": [
      "{'algo': 'ppo', 'env': 'MiniGrid-WallGapS6-v0', 'model': 'MiniGrid-WallGapS6-v0_PPO_frames_600k_proc_16_RMSProp_lr_7e4_gae_099_test_MiniGrid-DoorKey-6x6-v0', 'seed': 2, 'log_interval': 1, 'save_interval': 10, 'procs': 16, 'frames': 300000, 'epochs': 4, 'batch_size': 256, 'frames_per_proc': 128, 'discount': 0.99, 'lr': 0.0007, 'gae_lambda': 0.99, 'entropy_coef': 0.01, 'value_loss_coef': 0.5, 'max_grad_norm': 0.5, 'optim_eps': 1e-08, 'optim_alpha': 0.99, 'clip_eps': 0.2, 'recurrence': 1, 'text': False, 'use_rim': False, 'mem': False, 'episodes': 100, 'argmax': False, 'worst_episodes_to_show': 10}\n",
      "Device: cpu\n",
      "\n"
     ]
    }
   ],
   "source": [
    "from torch_ac.utils.penv import ParallelEnv\n",
    "\n",
    "#env_id = 'MiniGrid-Empty-Random-6x6-v0'\n",
    "#env_id = 'MiniGrid-DoorKey-6x6-v0'\n",
    "#env_id = 'MiniGrid-Empty-8x8-v0'\n",
    "env_id = 'MiniGrid-WallGapS6-v0'\n",
    "\n",
    "## Hyper-parameters\n",
    "args.env = env_id\n",
    "args.episodes = 100\n",
    "args.seed = 2\n",
    "args.argmax = False\n",
    "args.worst_episodes_to_show = 10\n",
    "print(args)\n",
    "\n",
    "# Set seed for all randomness sources\n",
    "utils.seed(args.seed)\n",
    "\n",
    "# Set device\n",
    "device = torch.device(\"cuda\" if torch.cuda.is_available() else \"cpu\")\n",
    "print(f\"Device: {device}\\n\")"
   ]
  },
  {
   "cell_type": "markdown",
   "metadata": {},
   "source": [
    "### Set environments, agent and logs"
   ]
  },
  {
   "cell_type": "code",
   "execution_count": 58,
   "metadata": {},
   "outputs": [
    {
     "name": "stdout",
     "output_type": "stream",
     "text": [
      "Environments loaded\n",
      "\n",
      "Agent loaded\n",
      "\n"
     ]
    }
   ],
   "source": [
    "# Load environments\n",
    "\n",
    "envs = []\n",
    "for i in range(args.procs):\n",
    "    env = utils.make_env(args.env, args.seed + 10000 * i)\n",
    "    envs.append(env)\n",
    "env = ParallelEnv(envs)\n",
    "print(\"Environments loaded\\n\")\n",
    "\n",
    "# Load agent\n",
    "\n",
    "model_dir = utils.get_model_dir(args.model)\n",
    "agent = utils.Agent(obs_space=env.observation_space, action_space=env.action_space, model_dir=model_dir, device=device, argmax=args.argmax, num_envs=args.procs, use_memory=args.mem, use_rim=args.use_rim)\n",
    "print(\"Agent loaded\\n\")\n",
    "\n",
    "# Initialize logs\n",
    "\n",
    "logs = {\"num_frames_per_episode\": [], \"return_per_episode\": []}"
   ]
  },
  {
   "cell_type": "markdown",
   "metadata": {},
   "source": [
    "### Run agent"
   ]
  },
  {
   "cell_type": "code",
   "execution_count": 59,
   "metadata": {},
   "outputs": [
    {
     "name": "stdout",
     "output_type": "stream",
     "text": [
      "Agent run completed\n",
      "\n"
     ]
    }
   ],
   "source": [
    "# Run agent\n",
    "\n",
    "start_time = time.time()\n",
    "\n",
    "obss = env.reset()\n",
    "\n",
    "log_done_counter = 0\n",
    "log_episode_return = torch.zeros(args.procs, device=device)\n",
    "log_episode_num_frames = torch.zeros(args.procs, device=device)\n",
    "\n",
    "while log_done_counter < args.episodes:\n",
    "    actions = agent.get_actions(obss)\n",
    "    obss, rewards, dones, _ = env.step(actions)\n",
    "    agent.analyze_feedbacks(rewards, dones)\n",
    "\n",
    "    log_episode_return += torch.tensor(rewards, device=device, dtype=torch.float)\n",
    "    log_episode_num_frames += torch.ones(args.procs, device=device)\n",
    "\n",
    "    for i, done in enumerate(dones):\n",
    "        if done:\n",
    "            log_done_counter += 1\n",
    "            logs[\"return_per_episode\"].append(log_episode_return[i].item())\n",
    "            logs[\"num_frames_per_episode\"].append(log_episode_num_frames[i].item())\n",
    "\n",
    "    mask = 1 - torch.tensor(dones, device=device, dtype=torch.float)\n",
    "    log_episode_return *= mask\n",
    "    log_episode_num_frames *= mask\n",
    "\n",
    "end_time = time.time()\n",
    "print(\"Agent run completed\\n\")"
   ]
  },
  {
   "cell_type": "markdown",
   "metadata": {},
   "source": [
    "### Print logs and results"
   ]
  },
  {
   "cell_type": "code",
   "execution_count": 60,
   "metadata": {},
   "outputs": [
    {
     "name": "stdout",
     "output_type": "stream",
     "text": [
      "F 1535.0 | FPS 2797 | D 0 | R:μσmM 0.91 0.04 0.71 0.98 | F:μσmM 15.2 6.3 3.0 47.0\n",
      "\n",
      "10 worst episodes:\n",
      "- episode 89: R=0.706250011920929, F=47.0\n",
      "- episode 40: R=0.8062499761581421, F=31.0\n",
      "- episode 93: R=0.8062499761581421, F=31.0\n",
      "- episode 34: R=0.8374999761581421, F=26.0\n",
      "- episode 36: R=0.8374999761581421, F=26.0\n",
      "- episode 35: R=0.84375, F=25.0\n",
      "- episode 56: R=0.84375, F=25.0\n",
      "- episode 15: R=0.8500000238418579, F=24.0\n",
      "- episode 31: R=0.8500000238418579, F=24.0\n",
      "- episode 45: R=0.8500000238418579, F=24.0\n"
     ]
    }
   ],
   "source": [
    "# Print logs\n",
    "\n",
    "num_frames = sum(logs[\"num_frames_per_episode\"])\n",
    "fps = num_frames/(end_time - start_time)\n",
    "duration = int(end_time - start_time)\n",
    "return_per_episode = utils.synthesize(logs[\"return_per_episode\"])\n",
    "num_frames_per_episode = utils.synthesize(logs[\"num_frames_per_episode\"])\n",
    "\n",
    "print(\"F {} | FPS {:.0f} | D {} | R:μσmM {:.2f} {:.2f} {:.2f} {:.2f} | F:μσmM {:.1f} {:.1f} {} {}\"\n",
    "      .format(num_frames, fps, duration,\n",
    "              *return_per_episode.values(),\n",
    "              *num_frames_per_episode.values()))\n",
    "\n",
    "# Print worst episodes\n",
    "\n",
    "n = args.worst_episodes_to_show\n",
    "if n > 0:\n",
    "    print(\"\\n{} worst episodes:\".format(n))\n",
    "\n",
    "    indexes = sorted(range(len(logs[\"return_per_episode\"])), key=lambda k: logs[\"return_per_episode\"][k])\n",
    "    for i in indexes[:n]:\n",
    "        print(\"- episode {}: R={}, F={}\".format(i, logs[\"return_per_episode\"][i], logs[\"num_frames_per_episode\"][i]))"
   ]
  },
  {
   "cell_type": "markdown",
   "metadata": {},
   "source": [
    "## Visualization"
   ]
  },
  {
   "cell_type": "markdown",
   "metadata": {},
   "source": [
    "### Load parameters"
   ]
  },
  {
   "cell_type": "code",
   "execution_count": 43,
   "metadata": {},
   "outputs": [
    {
     "name": "stdout",
     "output_type": "stream",
     "text": [
      "{'env': 'MiniGrid-WallGapS6-v0', 'model': 'MiniGrid-WallGapS6-v0_PPO_frames_600k_proc_16_RMSProp_lr_7e4_gae_099_test_MiniGrid-DoorKey-6x6-v0', 'procs': 16, 'seed': 15, 'shift': 0, 'argmax': False, 'pause': 0.1, 'gif': 'MiniGrid-WallGapS6-v0_PPO_frames_600k_proc_16_RMSProp_lr_7e4_gae_099_test_MiniGrid-DoorKey-6x6-v0', 'episodes': 5, 'mem': False, 'use_rim': False}\n"
     ]
    }
   ],
   "source": [
    "import array2gif\n",
    "from pathlib import Path\n",
    "import numpy\n",
    "\n",
    "## Hyper-parameters\n",
    "args = {\n",
    "# General parameters\n",
    "'env':args.env,\n",
    "'model':args.model,\n",
    "'procs':processes,\n",
    "'seed':15,\n",
    "'shift':0,\n",
    "'argmax':False,\n",
    "'pause':0.1,\n",
    "'gif':args.model,\n",
    "'episodes':5,\n",
    "'mem':args.mem,\n",
    "# Model Parameters\n",
    "'use_rim':args.use_rim,\n",
    "# 'num_units':args.num_units,\n",
    "# 'k':args.k\n",
    "}\n",
    "\n",
    "args = DictList(args)\n",
    "print(args)"
   ]
  },
  {
   "cell_type": "markdown",
   "metadata": {},
   "source": [
    "### Set environment, agent and logs"
   ]
  },
  {
   "cell_type": "code",
   "execution_count": 44,
   "metadata": {},
   "outputs": [
    {
     "name": "stdout",
     "output_type": "stream",
     "text": [
      "Device: cpu\n",
      "\n",
      "Environment loaded\n",
      "\n",
      "Agent loaded\n",
      "\n"
     ]
    }
   ],
   "source": [
    "# Set seed for all randomness sources\n",
    "\n",
    "utils.seed(args.seed)\n",
    "\n",
    "# Set device\n",
    "\n",
    "device = torch.device(\"cuda\" if torch.cuda.is_available() else \"cpu\")\n",
    "print(f\"Device: {device}\\n\")\n",
    "\n",
    "# Load environment\n",
    "\n",
    "env = utils.make_env(args.env, args.seed)\n",
    "for _ in range(args.shift):\n",
    "    env.reset()\n",
    "print(\"Environment loaded\\n\")\n",
    "\n",
    "# Load agent\n",
    "\n",
    "model_dir = utils.get_model_dir(args.model)\n",
    "agent = utils.Agent(obs_space=env.observation_space, action_space=env.action_space, model_dir=model_dir, device=device, argmax=args.argmax, num_envs=args.procs, use_memory=args.mem, use_rim=args.use_rim)\n",
    "\n",
    "print(\"Agent loaded\\n\")"
   ]
  },
  {
   "cell_type": "markdown",
   "metadata": {},
   "source": [
    "### Make animation"
   ]
  },
  {
   "cell_type": "code",
   "execution_count": 45,
   "metadata": {},
   "outputs": [],
   "source": [
    "%%capture\n",
    "# Run the agent\n",
    "\n",
    "if args.gif:\n",
    "   from array2gif import write_gif\n",
    "   frames = []\n",
    "\n",
    "# Create a window to view the environment\n",
    "env.render('human')\n",
    "\n",
    "for episode in range(args.episodes):\n",
    "    obs = env.reset()\n",
    "    done2 = False\n",
    "    while True:\n",
    "        env.render('human')\n",
    "        if args.gif:\n",
    "            frames.append(numpy.moveaxis(env.render(\"rgb_array\"), 2, 0))\n",
    "            \n",
    "\n",
    "        action = agent.get_action(obs)\n",
    "        obs, reward, done, _ = env.step(action)\n",
    "        agent.analyze_feedback(reward, done)\n",
    "        \n",
    "        if done or env.window.closed:\n",
    "            if episode == 4:\n",
    "                done2 = True\n",
    "            break\n",
    "    if done2 == True:\n",
    "        env.close()\n",
    "        break\n",
    "    #if env.window.closed:\n",
    "    #    break\n",
    "print('doneeee')\n",
    "if args.gif:\n",
    "    print(\"Saving gif... \", end=\"\")\n",
    "    utils.create_folders_if_necessary(\"./animation\")\n",
    "    #Path(\"./animation\").mkdir(parents=True, exist_ok=True)\n",
    "    write_gif(numpy.array(frames), \"./animation/\"+args.gif+\".gif\")\n",
    "    print(\"Done.\")"
   ]
  },
  {
   "cell_type": "code",
   "execution_count": 46,
   "metadata": {},
   "outputs": [
    {
     "data": {
      "text/html": [
       "<img src=\"data:image/gif;base64,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\" height=\"400\" />"
      ],
      "text/plain": [
       "<IPython.core.display.HTML object>"
      ]
     },
     "metadata": {},
     "output_type": "display_data"
    }
   ],
   "source": [
    "show_animation(args.model)"
   ]
  },
  {
   "cell_type": "markdown",
   "metadata": {},
   "source": [
    "### Make video"
   ]
  },
  {
   "cell_type": "code",
   "execution_count": 48,
   "metadata": {},
   "outputs": [
    {
     "name": "stdout",
     "output_type": "stream",
     "text": [
      "Total reward: 0.925\n",
      "Total length: 12\n"
     ]
    },
    {
     "data": {
      "text/html": [
       "<video alt=\"test\" autoplay \n",
       "                loop controls style=\"height: 400px;\">\n",
       "                <source src=\"data:video/mp4;base64,AAAAIGZ0eXBpc29tAAACAGlzb21pc28yYXZjMW1wNDEAAAAIZnJlZQAADpJtZGF0AAACrgYF//+q3EXpvebZSLeWLNgg2SPu73gyNjQgLSBjb3JlIDE2NCByMzEwOCAzMWUxOWY5IC0gSC4yNjQvTVBFRy00IEFWQyBjb2RlYyAtIENvcHlsZWZ0IDIwMDMtMjAyMyAtIGh0dHA6Ly93d3cudmlkZW9sYW4ub3JnL3gyNjQuaHRtbCAtIG9wdGlvbnM6IGNhYmFjPTEgcmVmPTMgZGVibG9jaz0xOjA6MCBhbmFseXNlPTB4MzoweDExMyBtZT1oZXggc3VibWU9NyBwc3k9MSBwc3lfcmQ9MS4wMDowLjAwIG1peGVkX3JlZj0xIG1lX3JhbmdlPTE2IGNocm9tYV9tZT0xIHRyZWxsaXM9MSA4eDhkY3Q9MSBjcW09MCBkZWFkem9uZT0yMSwxMSBmYXN0X3Bza2lwPTEgY2hyb21hX3FwX29mZnNldD0tMiB0aHJlYWRzPTYgbG9va2FoZWFkX3RocmVhZHM9MSBzbGljZWRfdGhyZWFkcz0wIG5yPTAgZGVjaW1hdGU9MSBpbnRlcmxhY2VkPTAgYmx1cmF5X2NvbXBhdD0wIGNvbnN0cmFpbmVkX2ludHJhPTAgYmZyYW1lcz0zIGJfcHlyYW1pZD0yIGJfYWRhcHQ9MSBiX2JpYXM9MCBkaXJlY3Q9MSB3ZWlnaHRiPTEgb3Blbl9nb3A9MCB3ZWlnaHRwPTIga2V5aW50PTI1MCBrZXlpbnRfbWluPTEwIHNjZW5lY3V0PTQwIGludHJhX3JlZnJlc2g9MCByY19sb29rYWhlYWQ9NDAgcmM9Y3JmIG1idHJlZT0xIGNyZj0yMy4wIHFjb21wPTAuNjAgcXBtaW49MCBxcG1heD02OSBxcHN0ZXA9NCBpcF9yYXRpbz0xLjQwIGFxPTE6MS4wMACAAAACBGWIhAA3//728P4FMEtFCXEc3onTMfvxW4upRV30uod9B2uPgiMJXt1cCfysUO4YZfw6fj0Ey7k6aC7fqgV+74fRwyOTWnpg1f7Kxq85E4e91DM1hoQd8rJSQD8WKe8HZsBHWjmr93cpzoDtOZ5ccVgEjU++5oqcM+ELB8ra7i6jtBMm6Rnf9pj+9tMrll4iJnBf/Efhf9tQdcTpF3uXT3CE2M0IOOBdT5+EWdtLzmed6gkHwlL1hE56Dkiz2EbiJ0Mz15PsFNnuhBWPPKr6/CGW6xu1QdkA1oL3J0G6KPBNOmX58+S90UxRenQZyzUyJ3yY1T9+8tjQcRv3lYNE6qLO2sy5f8K7T9An/0T5P5/tgRIDLJl64kEbQYwn///kunh8Rz/Wvjme7YDmrFjbEQ39JRs2bVbczH5zf4WtTgENDnwqxmkqkmf/+h0nbBIBtzm+4/2lIBhjnuJWIfXcdAPiXHAmKpJLPa3STywY5lk69i1TNHFPKlRDylxZ1/rFBzYnbbZAEueCl6bNpw7bMZkm7rY5eWcW3QqHF446Iu8wmZA9FMjIkxV8eheElYaeJu0pjovq29kW0C5vy2WkwdSn6tZf5Bkxnjk1xCn/Boc0cF70IjslS/YgMpggQb2tR76wQeISgT9XfK6p3LWvBy5lZ3M13q2mg4CWm+Q5czEEBum6BQAAATtBmiFsQ3/KaY+ZYZAoX7lp6ITSAdjPe411Oioxcf3YZtWoesDhyFI+AUkLNypWf8xMxa0GWAzlemJvauO+zGF0vBaFPfp/zAA4eDxIXXw++rIgecgMEZ97F38IbyVElWH7SIBVx40Pmu1toocyN1chO5VJr344jyLU89Lx5oZ+j//EGN4a9X3OzRm4Sg/ypTLF1Iyst9lYvI6n2umbb0TMAtYc+s+pRov362P4zWLkgsShQYj0ipP3Otw1KRhBMyKUbEVz4Dm5Vq3dSuNz5Va1A3MkWVGsC+YBcW92CdvmBL8WALoei+Ni0tLpsayB8MDLTtZ5EwfE7zCdpPxDVkzxiY6RGFq+IpGa6ds0VwCPdQplGL0ZI46dqQz3ool4Z3G/dzQ4/yDvZrUzgwyY7SK54L7y+2Mc76DvmGAAAAD9QZpCPCGTKYQ3//6nhAEcMqqABPXYee9FRsJgaExEK0qj0ret+8Uj1qQ2ZykTou9l9tQ2HuVRviKIgGCjlDm28f46x/KpUIqlYQGJDTWBSnYcDPTT2FdzrvV0fDLOVI3g60q0BI8F+vLtyz0VVHwt7F25Os0MwO1n6HtC1qRWauf+vsASd5w+VYCYlFpDiPVy4yn5uGtsGK8+GKV9LCbfcvMw/VUdVkAD6niuwiOQAka0WSS2p//4g4GeWeVwKzxCscEBUd4Kl0s/CFNa3/XjMhc5AziMrbfAgyq7PbMwD1Yv/q72s787fhj5GdvsRHYBc6qIuQldtbjfOCqhpQAAAYpBmmZJ4Q8mUwIf/5eeO43kF5UJUowYe6OHItiyW7ubYsR0kf/dLlm9AY6WCAKb1THnZWq3NQSsYXS8HgfEGCm/L/wYyFVq/XWn1AX9QOIV91WxsI7/z+CvhHxL0u/fddmoiQa5TyuuzSzisCJ1VHJwl2+Qvv/y3xS/GtlDqZzheqiyGz9MJgiCVO7WHSswvKWPRl0Snird9zkp6YNqPfvoQAE8sZrPSKljZ3ngLMF4PNx9FtOQQhEZM9+jhUxZyohxnxi97iW41J/afiEArzN72NkwL4NgyFGdaZYQqxpaYhRPNA1KFrUD5HUd42QBnDDzioGTvVN9IN6oWREkKIbu1DRvZLd2GjjyTxVRP0JHrENcFhXDlMkkF9rPiOlVcff26k78/a7B4S7ZybYR6bGSpawk/wue6kwQgUx60ic0CGcpBgmDzU22sw20WDotiSvBtxdSvWUu1dAFHJ10enxRL+Wa31DSsP+1w4Zwr+rsW9SEcd4UO3JI/wVvz21eOXfzFHm8L1ltwgE4AAAAWUGehEURPDf/73drRTrwCTT4RS9gzZ7ixOA8GOPM+pOaxVUpRVqV0EjcHAeN/l7PJ3J8B4uIgfrLURPpsR7L6IgDhBv5F7SOwr+LTe2FuWhMOx/tlSdgPAWvAAAAvAGeo3RDf/Fv7fMaGr6AFP8jR1JnED6h8GvgY6jNBWE0nSuGTD9Amdbg7dpTJC3i8/r9ZJdhNuJxj+KWFwxOs34gdYbZuzMDD94fv34I2uytvciPWXv9qtN+K2gg251ydBOJjb2ch7NpXZ1VSdJoHr2DTVGbY01A6FcYwt8Ca/1jICEnwxYsnKOAVbOcF8pmXZTcF+kgmq3NW811//8fw7eKYUdkJLpN+KbA/JaUHIxjd/GhhgS9qG/DbnlBAAAAtAGepWpDf4J6WMmEhleQyjHh8wyw3ESHAC3rlIgvj//rk9bsGfytlfhS8uUSuGHRijOeQRcKGXWmm3vheOCmX8TTZQ5H7zfYD6jJ/T5aiXttIEOLzZy4gyK3GvqJjNysgUiWDq48I4tswe9DeUz2EGTcwky4zTAog2C+INKmapCfQT0HYpHpirF+HYD1CDdB1GkJZyYEyoyDe+qkQep29xLWYpojZB6vCkQVTMyBcRL6iZJfrQAAAN9BmqlJqEFomUwIb//+p4QmmSn9U5esxkRif9pmFNZICBpYG/Xy7WSnJKXn3g9bz4pKN7kSBz///cFS+qhF2tyXP10jC0DeJGKM55BFwoZdaabe+F44KZfxNNlDkfvN9gP4h3m+lX8oPw2kt5s5cQZFbjX1Exm5WQKRLB4M8eLofUe4p00T+j/V9eAfl+pROkM8f7RXPou88sbtZgUQbBfEGlTNUhPoJ6DsUj0xVi/DyGi8AzxhuOVkzu/xWjNoXMJbGaEHt7iWsxTRGyD1eFImTeSObWtOcB3Ol5qd7PeBAAAAF0Gex0URLDf/Ac06RMV1mj33wN0msvvgAAAACQGe6GpDfwAQ8AAAAPRBmutJqEFsmUwUTDv//qjAfmKGfRXr/3wK7RsWv0BtAl05F7PgBYYAXz/e9PsahpqV/Q/fKJUDYaUYJiXrQIEYvv/ubsaJ/Pbvcy8P5cdMYRZOmBHrrCSTb/xOfhgRo9kaIF+38TbQIxg4daJyTgIKKzQg4dXStsd3PgTlmvTS4ivTgeZjaHQ/y8bye62+T8dXx5F7vTySbY7gVOltt7dQ1A073fUgWpwKJeihHfVrsfxKe8Wh7qTxOxA8IiaQRV/SlS22qF5iNoOcr653yXQmsYvHw2c12+AzB+lDk/58BfXpslzni4RRB9ClnGLtq2rHy2fvAAABOwGfCmpDfxxmroeKS674aSDfEJwkAIe5d1KxIryaz25OBSn1rotS/WYdoczv3SIfTq1TdzbDdXhr1mFd2FXSqO/wEboC53SKuI4KML7oXDJBnV8sYQEEDDqwVtjtikb+UVfWkX6qWFmZPMpVjh9/kKSQQMGGWo9NMQq/BSPv1/RpQgexhKX4SxH3LKw9maqUGHabxDse4cqQYOH0oPf+UA+lCtp5+i5dc7xZqu0h+X6F13c+tU2www8Ohvy6niJmbgUxoJg4ln9AicLti5q11aZZZh38DNaT0QE50Zt3sz5r8Yo4ra7yKJXId6wJZETMi6QOphGVKVlV31emc/ly0IfG9H1Whxvcnrvf/jJA+RzJ0XYOq5HHeT1gRb3qYUxg14esBRrYPKQvrGlxEUDXPAZTAhQtRC2hoxG6tQAAAOdBmwxJ4QpSZTAhv/6nhAD8p19y4h38QmxYAWVy7qViKXFuA2kzzc0QlK0dUkukvuTnNAl6VE2xLqOzElmRZn5uJpRzqvg2n/WWgoGr/1uw4jNi5aLKPmMatwTS4iRurKbB2RL0eSl1MDKAm3JB2UA9f0aOz3XHrjdaLbGm4WT2unWfOCERmp/oBbONrTb3xFQMmSdGWOp47oTlnTBer/XarPs99oloK/HSqLMn2nFtykPmrfehcurIvYl/N8iIkdGEQPdQWkicCL0vs9N3YN4x6cwN5YB4GI1+v6YVLlaEw3ZCoVyV4x8AAAOsbW9vdgAAAGxtdmhkAAAAAAAAAAAAAAAAAAAD6AAABRQAAQAAAQAAAAAAAAAAAAAAAAEAAAAAAAAAAAAAAAAAAAABAAAAAAAAAAAAAAAAAABAAAAAAAAAAAAAAAAAAAAAAAAAAAAAAAAAAAAAAAAAAgAAAtd0cmFrAAAAXHRraGQAAAADAAAAAAAAAAAAAAABAAAAAAAABRQAAAAAAAAAAAAAAAAAAAAAAAEAAAAAAAAAAAAAAAAAAAABAAAAAAAAAAAAAAAAAABAAAAAAMAAAADAAAAAAAAkZWR0cwAAABxlbHN0AAAAAAAAAAEAAAUUAAAIAAABAAAAAAJPbWRpYQAAACBtZGhkAAAAAAAAAAAAAAAAAAAoAAAANABVxAAAAAAALWhkbHIAAAAAAAAAAHZpZGUAAAAAAAAAAAAAAABWaWRlb0hhbmRsZXIAAAAB+m1pbmYAAAAUdm1oZAAAAAEAAAAAAAAAAAAAACRkaW5mAAAAHGRyZWYAAAAAAAAAAQAAAAx1cmwgAAAAAQAAAbpzdGJsAAAArnN0c2QAAAAAAAAAAQAAAJ5hdmMxAAAAAAAAAAEAAAAAAAAAAAAAAAAAAAAAAMAAwABIAAAASAAAAAAAAAABFExhdmM2MC4zLjEwMCBsaWJ4MjY0AAAAAAAAAAAAAAAAGP//AAAANGF2Y0MBZAAL/+EAF2dkAAus2UMGaEAAAAMAQAAABQPFCmWAAQAGaOvjyyLA/fj4AAAAABRidHJ0AAAAAAAAWXgAAFl4AAAAGHN0dHMAAAAAAAAAAQAAAA0AAAQAAAAAFHN0c3MAAAAAAAAAAQAAAAEAAABgY3R0cwAAAAAAAAAKAAAAAwAACAAAAAABAAAUAAAAAAEAAAgAAAAAAQAAAAAAAAABAAAEAAAAAAEAABAAAAAAAgAABAAAAAABAAAMAAAAAAEAAAQAAAAAAQAACAAAAAAcc3RzYwAAAAAAAAABAAAAAQAAAA0AAAABAAAASHN0c3oAAAAAAAAAAAAAAA0AAAS6AAABPwAAAQEAAAGOAAAAXQAAAMAAAAC4AAAA4wAAABsAAAANAAAA+AAAAT8AAADrAAAAFHN0Y28AAAAAAAAAAQAAADAAAABhdWR0YQAAAFltZXRhAAAAAAAAACFoZGxyAAAAAAAAAABtZGlyYXBwbAAAAAAAAAAAAAAAACxpbHN0AAAAJKl0b28AAAAcZGF0YQAAAAEAAAAATGF2ZjYwLjMuMTAw\" type=\"video/mp4\" />\n",
       "             </video>"
      ],
      "text/plain": [
       "<IPython.core.display.HTML object>"
      ]
     },
     "metadata": {},
     "output_type": "display_data"
    }
   ],
   "source": [
    "test_env = wrap_env(env)\n",
    "observation = test_env.reset()\n",
    "\n",
    "done = False\n",
    "episode_reward = 0\n",
    "episode_length = 0\n",
    "\n",
    "while not done:\n",
    "    action = agent.get_action(observation)\n",
    "    observation, reward, done, info = test_env.step(action)\n",
    "    episode_reward += reward\n",
    "    episode_length += 1\n",
    "\n",
    "print('Total reward:', episode_reward)\n",
    "print('Total length:', episode_length)\n",
    "\n",
    "test_env.close()\n",
    "show_video()"
   ]
  },
  {
   "cell_type": "markdown",
   "metadata": {},
   "source": [
    "# Continue learning on 2nd environment"
   ]
  },
  {
   "cell_type": "markdown",
   "metadata": {},
   "source": [
    "## Configuration"
   ]
  },
  {
   "cell_type": "markdown",
   "metadata": {},
   "source": [
    "### Set general parameters"
   ]
  },
  {
   "cell_type": "code",
   "execution_count": 13,
   "metadata": {},
   "outputs": [],
   "source": [
    "#env_id = 'MiniGrid-Empty-8x8-v0'\n",
    "#env_id = 'MiniGrid-LavaGapS5-v0'\n",
    "#env_id = 'MiniGrid-DoorKey-5x5-v0'\n",
    "env_id = 'MiniGrid-DoorKey-6x6-v0'\n",
    "#env_id = 'MiniGrid-Empty-Random-6x6-v0'\n",
    "#env_id = 'MiniGrid-Empty-5x5-v0'\n",
    "\n",
    "#model = 'MiniGrid-DoorKey-6x6-v0_meta_RIM_5_3_frames_500k_tasks_2_recur_64_16_proc_16_RMSProp_lr_7e4_gae_099_newloop_changeseed'\n",
    "\n",
    "add_frames = 300000\n",
    "frames = frames + add_frames\n",
    "\n",
    "## Hyper-parameters\n",
    "args = {\n",
    "# General parameters\n",
    "'algo':'ppo',\n",
    "'env':env_id,\n",
    "'model':model,\n",
    "'seed':1,\n",
    "'log_interval':1,\n",
    "'save_interval':10,\n",
    "'procs':processes,\n",
    "'frames':frames, # default 1e7\n",
    "# Parameters for main algorithm\n",
    "'epochs':4,\n",
    "'batch_size':256,\n",
    "'frames_per_proc':128, # 128 for PPO and 5 per A2C\n",
    "'discount':0.99,\n",
    "#'lr':0.0001, # for Adam\n",
    "'lr':0.0007, # for RMSProp\n",
    "#'gae_lambda':0.95, # 1 means no gae, for Adam\n",
    "'gae_lambda':0.99, # 1 means no gae, for RMSProp\n",
    "'entropy_coef':0.01,\n",
    "'value_loss_coef':0.5,\n",
    "'max_grad_norm':0.5,\n",
    "'optim_eps':1e-8,\n",
    "'optim_alpha':0.99,\n",
    "'clip_eps':0.2,\n",
    "'recurrence':1, # if > 1, a LSTM is added\n",
    "'text':False, # add a GRU for text input\n",
    "# Model Parameters\n",
    "'use_rim':False # action = 'store_true'\n",
    "}\n",
    "\n",
    "#args = utils.dotdict(args)\n",
    "args = DictList(args)\n",
    "\n",
    "args.mem = args.recurrence > 1\n",
    "\n",
    "# RIM specific hyperparameters\n",
    "if args.use_rim:\n",
    "    args.num_units = 5\n",
    "    args.k = 3"
   ]
  },
  {
   "cell_type": "markdown",
   "metadata": {},
   "source": [
    "### Load previous loggers and settings"
   ]
  },
  {
   "cell_type": "code",
   "execution_count": 14,
   "metadata": {},
   "outputs": [
    {
     "name": "stdout",
     "output_type": "stream",
     "text": [
      "{'algo': 'ppo', 'env': 'MiniGrid-DoorKey-6x6-v0', 'model': 'MiniGrid-WallGapS6-v0_PPO_frames_600k_proc_16_RMSProp_lr_7e4_gae_099_test_MiniGrid-DoorKey-6x6-v0', 'seed': 1, 'log_interval': 1, 'save_interval': 10, 'procs': 16, 'frames': 600000, 'epochs': 4, 'batch_size': 256, 'frames_per_proc': 128, 'discount': 0.99, 'lr': 0.0007, 'gae_lambda': 0.99, 'entropy_coef': 0.01, 'value_loss_coef': 0.5, 'max_grad_norm': 0.5, 'optim_eps': 1e-08, 'optim_alpha': 0.99, 'clip_eps': 0.2, 'recurrence': 1, 'text': False, 'use_rim': False, 'mem': False}\n",
      "\n",
      "Device: cpu\n",
      "\n"
     ]
    }
   ],
   "source": [
    "date = datetime.datetime.now().strftime(\"%y-%m-%d-%H-%M-%S\")\n",
    "default_model_name = f\"{args.env}_{args.algo}_seed{args.seed}_{date}\"\n",
    "\n",
    "model_name = args.model or default_model_name\n",
    "model_dir = utils.get_model_dir(model_name)\n",
    "\n",
    "# Load loggers and Tensorboard writer\n",
    "\n",
    "txt_logger = utils.get_txt_logger(model_dir)\n",
    "csv_file, csv_logger = utils.get_csv_logger(model_dir)\n",
    "tb_writer = tensorboardX.SummaryWriter(model_dir)\n",
    "\n",
    "# Log command and all script arguments\n",
    "\n",
    "#txt_logger.info(\"{}\\n\".format(\" \".join(sys.argv)))\n",
    "txt_logger.info(\"{}\\n\".format(args))\n",
    "\n",
    "# Set seed for all randomness sources\n",
    "\n",
    "utils.seed(args.seed)\n",
    "\n",
    "# Set device\n",
    "\n",
    "device = torch.device(\"cuda\" if torch.cuda.is_available() else \"cpu\")\n",
    "txt_logger.info(f\"Device: {device}\\n\")"
   ]
  },
  {
   "cell_type": "markdown",
   "metadata": {},
   "source": [
    "### Load existing environments, model and training status (TEST for CF)"
   ]
  },
  {
   "cell_type": "code",
   "execution_count": 15,
   "metadata": {},
   "outputs": [
    {
     "name": "stdout",
     "output_type": "stream",
     "text": [
      "Environments loaded\n",
      "\n"
     ]
    }
   ],
   "source": [
    "# Load environments\n",
    "\n",
    "envs = []\n",
    "for i in range(args.procs):\n",
    "    envs.append(utils.make_env(args.env, args.seed + 10000 * i))\n",
    "txt_logger.info(\"Environments loaded\\n\")\n",
    "\n",
    "envs = make_envs(args.env, args.procs, args.seed)\n",
    "\n",
    "algo.env = envs"
   ]
  },
  {
   "cell_type": "markdown",
   "metadata": {},
   "source": [
    "### Load existing environments, model and training status"
   ]
  },
  {
   "cell_type": "code",
   "execution_count": null,
   "metadata": {},
   "outputs": [],
   "source": [
    "# Load environments\n",
    "\n",
    "envs = []\n",
    "for i in range(args.procs):\n",
    "    envs.append(utils.make_env(args.env, args.seed + 10000 * i))\n",
    "txt_logger.info(\"Environments loaded\\n\")\n",
    "\n",
    "# Load training status\n",
    "\n",
    "try:\n",
    "    status = utils.get_status(model_dir)\n",
    "except OSError:\n",
    "    status = {\"num_frames\": 0, \"update\": 0}\n",
    "txt_logger.info(\"Training status loaded\\n\")\n",
    "\n",
    "# Load observations preprocessor\n",
    "\n",
    "obs_space, preprocess_obss = utils.get_obss_preprocessor(envs[0].observation_space)\n",
    "if \"vocab\" in status:\n",
    "    preprocess_obss.vocab.load_vocab(status[\"vocab\"])\n",
    "txt_logger.info(\"Observations preprocessor loaded\")\n",
    "\n",
    "# Load model\n",
    "\n",
    "acmodel = ACModel(obs_space, envs[0].action_space, args.mem, args.text, args.use_rim, args.num_units, args.k)\n",
    "if \"model_state\" in status:\n",
    "    acmodel.load_state_dict(status[\"model_state\"])\n",
    "acmodel.to(device)\n",
    "txt_logger.info(\"Model loaded\\n\")\n",
    "txt_logger.info(\"{}\\n\".format(acmodel))\n",
    "\n",
    "# Load algo\n",
    "\n",
    "if args.algo == \"a2c\":\n",
    "    algo = torch_ac.A2CAlgo(envs, acmodel, device, args.frames_per_proc, args.discount, args.lr, args.gae_lambda,\n",
    "                            args.entropy_coef, args.value_loss_coef, args.max_grad_norm, args.recurrence,\n",
    "                            args.optim_alpha, args.optim_eps, preprocess_obss)\n",
    "elif args.algo == \"ppo\":\n",
    "    algo = torch_ac.PPOAlgo(envs, acmodel, device, args.frames_per_proc, args.discount, args.lr, args.gae_lambda,\n",
    "                            args.entropy_coef, args.value_loss_coef, args.max_grad_norm, args.recurrence,\n",
    "                            args.optim_eps, args.clip_eps, args.epochs, args.batch_size, preprocess_obss)\n",
    "else:\n",
    "    raise ValueError(\"Incorrect algorithm name: {}\".format(args.algo))\n",
    "\n",
    "# change to RMSProp optimizer\n",
    "algo.optimizer = torch.optim.RMSprop(algo.acmodel.parameters(), args.lr, eps=args.optim_eps)\n",
    "\n",
    "if \"optimizer_state\" in status:\n",
    "    algo.optimizer.load_state_dict(status[\"optimizer_state\"])\n",
    "txt_logger.info(\"Optimizer loaded\\n\")"
   ]
  },
  {
   "cell_type": "markdown",
   "metadata": {},
   "source": [
    "## Continue training"
   ]
  },
  {
   "cell_type": "code",
   "execution_count": 16,
   "metadata": {},
   "outputs": [
    {
     "name": "stdout",
     "output_type": "stream",
     "text": [
      "U 41 | F 083968 | FPS 2949 | D 0 | rR:μσmM 0.91 0.04 0.81 0.97 | F:μσmM 17.9 20.1 5.0 93.0 | H 1.618 | V 0.588 | pL 0.249 | vL 0.017 | ∇ 0.247\n",
      "U 42 | F 086016 | FPS 3351 | D 1 | rR:μσmM 0.88 0.12 0.43 0.97 | F:μσmM 32.0 56.8 5.0 238.0 | H 1.753 | V 0.385 | pL 0.181 | vL 0.005 | ∇ 0.160\n",
      "U 43 | F 088064 | FPS 3255 | D 1 | rR:μσmM 0.09 0.22 0.00 0.81 | F:μσmM 338.2 71.0 93.0 378.0 | H 1.785 | V 0.188 | pL 0.206 | vL 0.010 | ∇ 0.147\n",
      "U 44 | F 090112 | FPS 3059 | D 2 | rR:μσmM 0.04 0.11 0.00 0.43 | F:μσmM 354.9 32.3 238.0 378.0 | H 1.823 | V 0.132 | pL 0.066 | vL 0.001 | ∇ 0.044\n",
      "U 45 | F 092160 | FPS 3031 | D 3 | rR:μσmM 0.05 0.14 0.00 0.48 | F:μσmM 347.9 46.7 209.0 378.0 | H 1.854 | V 0.104 | pL 0.030 | vL 0.002 | ∇ 0.033\n",
      "U 46 | F 094208 | FPS 2882 | D 4 | rR:μσmM 0.05 0.14 0.00 0.48 | F:μσmM 343.2 44.7 209.0 360.0 | H 1.886 | V 0.058 | pL 0.045 | vL 0.001 | ∇ 0.031\n",
      "U 47 | F 096256 | FPS 2867 | D 4 | rR:μσmM 0.06 0.16 0.00 0.54 | F:μσmM 341.8 49.2 186.0 360.0 | H 1.886 | V 0.047 | pL 0.007 | vL 0.002 | ∇ 0.027\n",
      "U 48 | F 098304 | FPS 3237 | D 5 | rR:μσmM 0.09 0.17 0.00 0.54 | F:μσmM 334.1 50.3 186.0 360.0 | H 1.887 | V 0.054 | pL 0.006 | vL 0.002 | ∇ 0.026\n",
      "U 49 | F 100352 | FPS 3080 | D 6 | rR:μσmM 0.16 0.23 0.00 0.80 | F:μσmM 314.9 77.7 82.0 360.0 | H 1.907 | V 0.036 | pL 0.008 | vL 0.002 | ∇ 0.025\n",
      "U 50 | F 102400 | FPS 2967 | D 6 | rR:μσmM 0.16 0.23 0.00 0.80 | F:μσmM 313.9 79.3 82.0 360.0 | H 1.914 | V 0.037 | pL 0.001 | vL 0.002 | ∇ 0.021\n",
      "Status saved\n",
      "U 51 | F 104448 | FPS 3010 | D 7 | rR:μσmM 0.07 0.16 0.00 0.57 | F:μσmM 340.3 49.8 171.0 360.0 | H 1.917 | V 0.031 | pL 0.004 | vL 0.001 | ∇ 0.023\n",
      "U 52 | F 106496 | FPS 2847 | D 8 | rR:μσmM 0.15 0.25 0.00 0.76 | F:μσmM 314.3 82.2 96.0 360.0 | H 1.896 | V 0.064 | pL -0.023 | vL 0.007 | ∇ 0.048\n",
      "U 53 | F 108544 | FPS 2733 | D 8 | rR:μσmM 0.31 0.32 0.00 0.80 | F:μσmM 256.8 110.7 80.0 360.0 | H 1.887 | V 0.068 | pL -0.018 | vL 0.007 | ∇ 0.060\n",
      "U 54 | F 110592 | FPS 3031 | D 9 | rR:μσmM 0.33 0.31 0.00 0.80 | F:μσmM 250.5 105.8 80.0 360.0 | H 1.897 | V 0.078 | pL 0.001 | vL 0.007 | ∇ 0.044\n",
      "U 55 | F 112640 | FPS 2975 | D 10 | rR:μσmM 0.35 0.35 0.00 0.89 | F:μσmM 241.7 121.5 42.0 360.0 | H 1.866 | V 0.117 | pL -0.045 | vL 0.017 | ∇ 0.094\n",
      "U 56 | F 114688 | FPS 2840 | D 11 | rR:μσmM 0.41 0.36 0.00 0.89 | F:μσmM 222.7 128.5 42.0 360.0 | H 1.875 | V 0.107 | pL 0.028 | vL 0.006 | ∇ 0.045\n",
      "U 57 | F 116736 | FPS 2759 | D 11 | rR:μσmM 0.34 0.35 0.00 0.94 | F:μσmM 247.9 124.2 26.0 360.0 | H 1.859 | V 0.148 | pL -0.017 | vL 0.015 | ∇ 0.069\n",
      "U 58 | F 118784 | FPS 2453 | D 12 | rR:μσmM 0.51 0.37 0.00 0.94 | F:μσmM 182.7 132.5 23.0 360.0 | H 1.825 | V 0.192 | pL -0.029 | vL 0.018 | ∇ 0.105\n",
      "U 59 | F 120832 | FPS 3121 | D 13 | rR:μσmM 0.54 0.33 0.00 0.94 | F:μσmM 175.8 115.3 23.0 360.0 | H 1.860 | V 0.202 | pL 0.004 | vL 0.014 | ∇ 0.073\n",
      "U 60 | F 122880 | FPS 2870 | D 14 | rR:μσmM 0.52 0.26 0.00 0.88 | F:μσmM 187.2 94.7 47.0 360.0 | H 1.851 | V 0.166 | pL 0.013 | vL 0.009 | ∇ 0.061\n",
      "Status saved\n",
      "U 61 | F 124928 | FPS 3069 | D 14 | rR:μσmM 0.55 0.24 0.00 0.88 | F:μσmM 177.8 92.2 47.0 360.0 | H 1.875 | V 0.143 | pL 0.013 | vL 0.007 | ∇ 0.064\n",
      "U 62 | F 126976 | FPS 2922 | D 15 | rR:μσmM 0.29 0.30 0.00 0.84 | F:μσmM 266.8 103.0 65.0 360.0 | H 1.882 | V 0.108 | pL 0.019 | vL 0.007 | ∇ 0.061\n",
      "U 63 | F 129024 | FPS 2899 | D 16 | rR:μσmM 0.31 0.30 0.00 0.78 | F:μσmM 256.8 101.0 87.0 360.0 | H 1.884 | V 0.115 | pL -0.005 | vL 0.007 | ∇ 0.050\n",
      "U 64 | F 131072 | FPS 3064 | D 16 | rR:μσmM 0.49 0.26 0.00 0.84 | F:μσmM 197.4 91.5 65.0 360.0 | H 1.841 | V 0.155 | pL -0.019 | vL 0.010 | ∇ 0.084\n",
      "U 65 | F 133120 | FPS 2806 | D 17 | rR:μσmM 0.43 0.35 0.00 0.93 | F:μσmM 213.8 123.2 29.0 360.0 | H 1.855 | V 0.159 | pL -0.022 | vL 0.012 | ∇ 0.075\n",
      "U 66 | F 135168 | FPS 2945 | D 18 | rR:μσmM 0.50 0.32 0.00 0.90 | F:μσmM 192.6 116.7 38.0 360.0 | H 1.848 | V 0.196 | pL -0.020 | vL 0.013 | ∇ 0.105\n",
      "U 67 | F 137216 | FPS 2880 | D 18 | rR:μσmM 0.51 0.31 0.00 0.94 | F:μσmM 188.9 113.6 23.0 360.0 | H 1.843 | V 0.143 | pL 0.010 | vL 0.010 | ∇ 0.076\n",
      "U 68 | F 139264 | FPS 2971 | D 19 | rR:μσmM 0.46 0.36 0.00 0.90 | F:μσmM 204.7 127.6 40.0 360.0 | H 1.843 | V 0.153 | pL -0.003 | vL 0.013 | ∇ 0.083\n",
      "U 69 | F 141312 | FPS 2899 | D 20 | rR:μσmM 0.48 0.34 0.00 0.93 | F:μσmM 201.2 126.2 27.0 360.0 | H 1.834 | V 0.178 | pL -0.020 | vL 0.019 | ∇ 0.111\n",
      "U 70 | F 143360 | FPS 2951 | D 21 | rR:μσmM 0.50 0.32 0.00 0.86 | F:μσmM 193.9 119.7 56.0 360.0 | H 1.836 | V 0.181 | pL -0.002 | vL 0.013 | ∇ 0.092\n",
      "Status saved\n",
      "U 71 | F 145408 | FPS 3118 | D 21 | rR:μσmM 0.60 0.35 0.00 0.97 | F:μσmM 151.6 127.6 13.0 360.0 | H 1.789 | V 0.274 | pL -0.048 | vL 0.030 | ∇ 0.171\n",
      "U 72 | F 147456 | FPS 3071 | D 22 | rR:μσmM 0.69 0.26 0.00 0.93 | F:μσmM 120.5 93.2 30.0 360.0 | H 1.801 | V 0.294 | pL -0.046 | vL 0.021 | ∇ 0.131\n",
      "U 73 | F 149504 | FPS 2998 | D 23 | rR:μσmM 0.79 0.14 0.45 0.97 | F:μσmM 83.5 56.2 11.0 221.0 | H 1.736 | V 0.396 | pL -0.067 | vL 0.022 | ∇ 0.132\n",
      "U 74 | F 151552 | FPS 3015 | D 23 | rR:μσmM 0.78 0.20 0.14 0.94 | F:μσmM 87.3 79.3 25.0 345.0 | H 1.733 | V 0.431 | pL -0.018 | vL 0.019 | ∇ 0.144\n",
      "U 75 | F 153600 | FPS 3186 | D 24 | rR:μσmM 0.81 0.15 0.35 0.96 | F:μσmM 75.4 59.9 14.0 258.0 | H 1.714 | V 0.505 | pL -0.071 | vL 0.017 | ∇ 0.131\n",
      "U 76 | F 155648 | FPS 3057 | D 25 | rR:μσmM 0.87 0.07 0.62 0.95 | F:μσmM 53.0 28.0 19.0 150.0 | H 1.696 | V 0.512 | pL -0.020 | vL 0.015 | ∇ 0.151\n",
      "U 77 | F 157696 | FPS 2808 | D 25 | rR:μσmM 0.78 0.19 0.29 0.95 | F:μσmM 88.6 76.3 20.0 285.0 | H 1.736 | V 0.434 | pL -0.024 | vL 0.023 | ∇ 0.192\n",
      "U 78 | F 159744 | FPS 2899 | D 26 | rR:μσmM 0.83 0.12 0.41 0.95 | F:μσmM 66.9 49.0 20.0 235.0 | H 1.710 | V 0.449 | pL -0.025 | vL 0.023 | ∇ 0.156\n",
      "U 79 | F 161792 | FPS 2723 | D 27 | rR:μσmM 0.76 0.21 0.00 0.95 | F:μσmM 92.5 76.3 18.0 360.0 | H 1.709 | V 0.458 | pL 0.005 | vL 0.018 | ∇ 0.175\n",
      "U 80 | F 163840 | FPS 2871 | D 28 | rR:μσmM 0.84 0.18 0.00 0.96 | F:μσmM 63.6 67.0 15.0 360.0 | H 1.631 | V 0.544 | pL -0.023 | vL 0.017 | ∇ 0.123\n",
      "Status saved\n",
      "U 81 | F 165888 | FPS 3236 | D 28 | rR:μσmM 0.86 0.13 0.22 0.96 | F:μσmM 56.5 51.5 15.0 311.0 | H 1.617 | V 0.591 | pL -0.031 | vL 0.016 | ∇ 0.134\n",
      "U 82 | F 167936 | FPS 2806 | D 29 | rR:μσmM 0.88 0.07 0.61 0.96 | F:μσmM 47.2 27.8 14.0 155.0 | H 1.542 | V 0.633 | pL -0.067 | vL 0.010 | ∇ 0.154\n",
      "U 83 | F 169984 | FPS 2791 | D 30 | rR:μσmM 0.88 0.07 0.62 0.96 | F:μσmM 46.0 29.6 17.0 150.0 | H 1.595 | V 0.588 | pL -0.014 | vL 0.014 | ∇ 0.163\n",
      "U 84 | F 172032 | FPS 2712 | D 30 | rR:μσmM 0.85 0.10 0.54 0.96 | F:μσmM 60.3 38.8 16.0 185.0 | H 1.570 | V 0.582 | pL -0.013 | vL 0.012 | ∇ 0.125\n",
      "U 85 | F 174080 | FPS 3079 | D 31 | rR:μσmM 0.87 0.09 0.56 0.98 | F:μσmM 50.3 34.8 10.0 176.0 | H 1.528 | V 0.642 | pL -0.036 | vL 0.011 | ∇ 0.120\n",
      "U 86 | F 176128 | FPS 2585 | D 32 | rR:μσmM 0.89 0.07 0.69 0.97 | F:μσmM 44.3 27.6 13.0 123.0 | H 1.464 | V 0.666 | pL -0.025 | vL 0.011 | ∇ 0.136\n",
      "U 87 | F 178176 | FPS 2987 | D 33 | rR:μσmM 0.91 0.04 0.76 0.96 | F:μσmM 37.3 18.0 15.0 97.0 | H 1.476 | V 0.687 | pL -0.032 | vL 0.009 | ∇ 0.160\n",
      "U 88 | F 180224 | FPS 2721 | D 33 | rR:μσmM 0.91 0.05 0.68 0.97 | F:μσmM 35.6 21.6 12.0 127.0 | H 1.426 | V 0.734 | pL -0.026 | vL 0.007 | ∇ 0.137\n",
      "U 89 | F 182272 | FPS 2948 | D 34 | rR:μσmM 0.92 0.04 0.76 0.98 | F:μσmM 31.9 18.0 10.0 97.0 | H 1.432 | V 0.758 | pL -0.004 | vL 0.006 | ∇ 0.116\n",
      "U 90 | F 184320 | FPS 2872 | D 35 | rR:μσmM 0.91 0.05 0.72 0.97 | F:μσmM 34.4 19.6 12.0 112.0 | H 1.378 | V 0.720 | pL -0.004 | vL 0.007 | ∇ 0.096\n",
      "Status saved\n",
      "U 91 | F 186368 | FPS 2902 | D 36 | rR:μσmM 0.92 0.04 0.76 0.97 | F:μσmM 30.5 16.0 11.0 95.0 | H 1.428 | V 0.762 | pL -0.015 | vL 0.006 | ∇ 0.123\n",
      "U 92 | F 188416 | FPS 2898 | D 36 | rR:μσmM 0.93 0.03 0.79 0.97 | F:μσmM 27.4 12.4 11.0 85.0 | H 1.464 | V 0.798 | pL 0.047 | vL 0.005 | ∇ 0.071\n",
      "U 93 | F 190464 | FPS 3102 | D 37 | rR:μσmM 0.91 0.05 0.61 0.97 | F:μσmM 36.0 21.3 11.0 156.0 | H 1.474 | V 0.755 | pL 0.036 | vL 0.005 | ∇ 0.090\n",
      "U 94 | F 192512 | FPS 3174 | D 38 | rR:μσmM 0.92 0.04 0.82 0.97 | F:μσmM 33.9 17.0 12.0 70.0 | H 1.529 | V 0.728 | pL 0.038 | vL 0.007 | ∇ 0.131\n",
      "U 95 | F 194560 | FPS 3114 | D 38 | rR:μσmM 0.89 0.06 0.66 0.98 | F:μσmM 42.8 25.9 10.0 137.0 | H 1.510 | V 0.707 | pL 0.004 | vL 0.009 | ∇ 0.116\n",
      "U 96 | F 196608 | FPS 3165 | D 39 | rR:μσmM 0.91 0.05 0.70 0.98 | F:μσmM 36.3 20.8 10.0 120.0 | H 1.515 | V 0.711 | pL 0.002 | vL 0.008 | ∇ 0.122\n",
      "U 97 | F 198656 | FPS 3243 | D 40 | rR:μσmM 0.90 0.06 0.64 0.96 | F:μσmM 41.2 24.4 14.0 143.0 | H 1.477 | V 0.697 | pL -0.017 | vL 0.007 | ∇ 0.121\n",
      "U 98 | F 200704 | FPS 3221 | D 40 | rR:μσmM 0.91 0.05 0.74 0.97 | F:μσmM 34.1 18.2 11.0 103.0 | H 1.448 | V 0.718 | pL -0.033 | vL 0.008 | ∇ 0.139\n",
      "U 99 | F 202752 | FPS 3262 | D 41 | rR:μσmM 0.90 0.05 0.71 0.96 | F:μσmM 38.1 19.6 16.0 114.0 | H 1.465 | V 0.714 | pL -0.012 | vL 0.006 | ∇ 0.087\n",
      "Number of frames:  204800\n"
     ]
    }
   ],
   "source": [
    "# Train model\n",
    "\n",
    "num_frames = status[\"num_frames\"]\n",
    "update = status[\"update\"]\n",
    "start_time = time.time()\n",
    "\n",
    "# Moving average parameters\n",
    "threshold = 0.90\n",
    "window = 10\n",
    "rreturn_total = 0\n",
    "i = 0\n",
    "\n",
    "while num_frames < args.frames:\n",
    "    # Update model parameters\n",
    "\n",
    "    update_start_time = time.time()\n",
    "    exps, logs1 = algo.collect_experiences()\n",
    "    logs2 = algo.update_parameters(exps)\n",
    "    logs = {**logs1, **logs2}\n",
    "    update_end_time = time.time()\n",
    "\n",
    "    num_frames += logs[\"num_frames\"]\n",
    "    update += 1\n",
    "\n",
    "    # Print logs\n",
    "\n",
    "    if update % args.log_interval == 0:\n",
    "        fps = logs[\"num_frames\"]/(update_end_time - update_start_time)\n",
    "        duration = int(time.time() - start_time)\n",
    "        return_per_episode = utils.synthesize(logs[\"return_per_episode\"])\n",
    "        rreturn_per_episode = utils.synthesize(logs[\"reshaped_return_per_episode\"])\n",
    "        num_frames_per_episode = utils.synthesize(logs[\"num_frames_per_episode\"])\n",
    "        # Moving average to break loop if mean reward threshold reached\n",
    "        rreturn_total +=rreturn_per_episode['mean']\n",
    "        i+=1\n",
    "        if i >= window:\n",
    "            rreturn_mavg = rreturn_total / i\n",
    "            if rreturn_mavg >= threshold:\n",
    "                break_flag = True \n",
    "                break\n",
    "            else:\n",
    "                i = 0\n",
    "                rreturn_total = 0\n",
    "\n",
    "        header = [\"update\", \"frames\", \"FPS\", \"duration\"]\n",
    "        data = [update, num_frames, fps, duration]\n",
    "        header += [\"rreturn_\" + key for key in rreturn_per_episode.keys()]\n",
    "        data += rreturn_per_episode.values()\n",
    "        header += [\"num_frames_\" + key for key in num_frames_per_episode.keys()]\n",
    "        data += num_frames_per_episode.values()\n",
    "        header += [\"entropy\", \"value\", \"policy_loss\", \"value_loss\", \"grad_norm\"]\n",
    "        data += [logs[\"entropy\"], logs[\"value\"], logs[\"policy_loss\"], logs[\"value_loss\"], logs[\"grad_norm\"]]\n",
    "\n",
    "        txt_logger.info(\n",
    "            \"U {} | F {:06} | FPS {:04.0f} | D {} | rR:μσmM {:.2f} {:.2f} {:.2f} {:.2f} | F:μσmM {:.1f} {:.1f} {} {} | H {:.3f} | V {:.3f} | pL {:.3f} | vL {:.3f} | ∇ {:.3f}\"\n",
    "            .format(*data))\n",
    "\n",
    "        header += [\"return_\" + key for key in return_per_episode.keys()]\n",
    "        data += return_per_episode.values()\n",
    "\n",
    "        if status[\"num_frames\"] == 0:\n",
    "            csv_logger.writerow(header)\n",
    "        csv_logger.writerow(data)\n",
    "        csv_file.flush()\n",
    "\n",
    "        for field, value in zip(header, data):\n",
    "            tb_writer.add_scalar(field, value, num_frames)\n",
    "\n",
    "    # Save status\n",
    "\n",
    "    if args.save_interval > 0 and update % args.save_interval == 0:\n",
    "        status = {\"num_frames\": num_frames, \"update\": update,\n",
    "                  \"model_state\": acmodel.state_dict(), \"optimizer_state\": algo.optimizer.state_dict()}\n",
    "        if hasattr(preprocess_obss, \"vocab\"):\n",
    "            status[\"vocab\"] = preprocess_obss.vocab.vocab\n",
    "        utils.save_status(status, model_dir)\n",
    "        txt_logger.info(\"Status saved\")\n",
    "\n",
    "print(\"Number of frames: \", num_frames)"
   ]
  },
  {
   "cell_type": "markdown",
   "metadata": {},
   "source": [
    "## Evaluate 2nd environment"
   ]
  },
  {
   "cell_type": "markdown",
   "metadata": {},
   "source": [
    "### Load parameters"
   ]
  },
  {
   "cell_type": "code",
   "execution_count": 17,
   "metadata": {},
   "outputs": [
    {
     "name": "stdout",
     "output_type": "stream",
     "text": [
      "{'algo': 'ppo', 'env': 'MiniGrid-DoorKey-6x6-v0', 'model': 'MiniGrid-WallGapS6-v0_PPO_frames_600k_proc_16_RMSProp_lr_7e4_gae_099_test_MiniGrid-DoorKey-6x6-v0', 'seed': 2, 'log_interval': 1, 'save_interval': 10, 'procs': 16, 'frames': 600000, 'epochs': 4, 'batch_size': 256, 'frames_per_proc': 128, 'discount': 0.99, 'lr': 0.0007, 'gae_lambda': 0.99, 'entropy_coef': 0.01, 'value_loss_coef': 0.5, 'max_grad_norm': 0.5, 'optim_eps': 1e-08, 'optim_alpha': 0.99, 'clip_eps': 0.2, 'recurrence': 1, 'text': False, 'use_rim': False, 'mem': False, 'episodes': 100, 'argmax': False, 'worst_episodes_to_show': 10}\n",
      "Device: cpu\n",
      "\n"
     ]
    }
   ],
   "source": [
    "#env_id = 'MiniGrid-Empty-Random-6x6-v0'\n",
    "env_id = 'MiniGrid-DoorKey-6x6-v0'\n",
    "#env_id = 'MiniGrid-Empty-8x8-v0'\n",
    "#env_id = 'MiniGrid-LavaGapS5-v0'\n",
    "args.env = env_id\n",
    "\n",
    "## Hyper-parameters\n",
    "args.env = env_id\n",
    "args.episodes = 100\n",
    "args.seed = 2\n",
    "args.argmax = False\n",
    "args.worst_episodes_to_show = 10\n",
    "print(args)\n",
    "\n",
    "# Set seed for all randomness sources\n",
    "utils.seed(args.seed)\n",
    "\n",
    "# Set device\n",
    "device = torch.device(\"cuda\" if torch.cuda.is_available() else \"cpu\")\n",
    "print(f\"Device: {device}\\n\")"
   ]
  },
  {
   "cell_type": "markdown",
   "metadata": {},
   "source": [
    "### Set environments, agent and logs"
   ]
  },
  {
   "cell_type": "code",
   "execution_count": 18,
   "metadata": {},
   "outputs": [
    {
     "name": "stdout",
     "output_type": "stream",
     "text": [
      "Environments loaded\n",
      "\n",
      "Agent loaded\n",
      "\n"
     ]
    }
   ],
   "source": [
    "# Load environments\n",
    "\n",
    "envs = []\n",
    "for i in range(args.procs):\n",
    "    env = utils.make_env(args.env, args.seed + 10000 * i)\n",
    "    envs.append(env)\n",
    "env = ParallelEnv(envs)\n",
    "print(\"Environments loaded\\n\")\n",
    "\n",
    "# Load agent\n",
    "\n",
    "model_dir = utils.get_model_dir(args.model)\n",
    "agent = utils.Agent(obs_space=env.observation_space, action_space=env.action_space, model_dir=model_dir, device=device, argmax=args.argmax, num_envs=args.procs, use_memory=args.mem, use_rim=args.use_rim)\n",
    "print(\"Agent loaded\\n\")\n",
    "\n",
    "# Initialize logs\n",
    "\n",
    "logs = {\"num_frames_per_episode\": [], \"return_per_episode\": []}"
   ]
  },
  {
   "cell_type": "markdown",
   "metadata": {},
   "source": [
    "### Run agent"
   ]
  },
  {
   "cell_type": "code",
   "execution_count": 19,
   "metadata": {},
   "outputs": [
    {
     "name": "stdout",
     "output_type": "stream",
     "text": [
      "Agent run completed\n",
      "\n"
     ]
    }
   ],
   "source": [
    "# Run agent\n",
    "\n",
    "start_time = time.time()\n",
    "\n",
    "obss = env.reset()\n",
    "\n",
    "log_done_counter = 0\n",
    "log_episode_return = torch.zeros(args.procs, device=device)\n",
    "log_episode_num_frames = torch.zeros(args.procs, device=device)\n",
    "\n",
    "while log_done_counter < args.episodes:\n",
    "    actions = agent.get_actions(obss)\n",
    "    obss, rewards, dones, _ = env.step(actions)\n",
    "    agent.analyze_feedbacks(rewards, dones)\n",
    "\n",
    "    log_episode_return += torch.tensor(rewards, device=device, dtype=torch.float)\n",
    "    log_episode_num_frames += torch.ones(args.procs, device=device)\n",
    "\n",
    "    for i, done in enumerate(dones):\n",
    "        if done:\n",
    "            log_done_counter += 1\n",
    "            logs[\"return_per_episode\"].append(log_episode_return[i].item())\n",
    "            logs[\"num_frames_per_episode\"].append(log_episode_num_frames[i].item())\n",
    "\n",
    "    mask = 1 - torch.tensor(dones, device=device, dtype=torch.float)\n",
    "    log_episode_return *= mask\n",
    "    log_episode_num_frames *= mask\n",
    "\n",
    "end_time = time.time()\n",
    "print(\"Agent run completed\\n\")"
   ]
  },
  {
   "cell_type": "markdown",
   "metadata": {},
   "source": [
    "### Print logs and results"
   ]
  },
  {
   "cell_type": "code",
   "execution_count": 20,
   "metadata": {},
   "outputs": [
    {
     "name": "stdout",
     "output_type": "stream",
     "text": [
      "F 2908.0 | FPS 3370 | D 0 | R:μσmM 0.93 0.03 0.82 0.97 | F:μσmM 29.1 12.0 12.0 72.0\n",
      "\n",
      "10 worst episodes:\n",
      "- episode 79: R=0.8199999928474426, F=72.0\n",
      "- episode 59: R=0.8550000190734863, F=58.0\n",
      "- episode 55: R=0.8575000166893005, F=57.0\n",
      "- episode 89: R=0.8600000143051147, F=56.0\n",
      "- episode 35: R=0.862500011920929, F=55.0\n",
      "- episode 72: R=0.862500011920929, F=55.0\n",
      "- episode 88: R=0.8650000095367432, F=54.0\n",
      "- episode 40: R=0.8774999976158142, F=49.0\n",
      "- episode 52: R=0.8774999976158142, F=49.0\n",
      "- episode 36: R=0.8799999952316284, F=48.0\n"
     ]
    }
   ],
   "source": [
    "# Print logs\n",
    "\n",
    "num_frames = sum(logs[\"num_frames_per_episode\"])\n",
    "fps = num_frames/(end_time - start_time)\n",
    "duration = int(end_time - start_time)\n",
    "return_per_episode = utils.synthesize(logs[\"return_per_episode\"])\n",
    "num_frames_per_episode = utils.synthesize(logs[\"num_frames_per_episode\"])\n",
    "\n",
    "print(\"F {} | FPS {:.0f} | D {} | R:μσmM {:.2f} {:.2f} {:.2f} {:.2f} | F:μσmM {:.1f} {:.1f} {} {}\"\n",
    "      .format(num_frames, fps, duration,\n",
    "              *return_per_episode.values(),\n",
    "              *num_frames_per_episode.values()))\n",
    "\n",
    "# Print worst episodes\n",
    "\n",
    "n = args.worst_episodes_to_show\n",
    "if n > 0:\n",
    "    print(\"\\n{} worst episodes:\".format(n))\n",
    "\n",
    "    indexes = sorted(range(len(logs[\"return_per_episode\"])), key=lambda k: logs[\"return_per_episode\"][k])\n",
    "    for i in indexes[:n]:\n",
    "        print(\"- episode {}: R={}, F={}\".format(i, logs[\"return_per_episode\"][i], logs[\"num_frames_per_episode\"][i]))"
   ]
  },
  {
   "cell_type": "markdown",
   "metadata": {},
   "source": [
    "# Re-evaluate 1st environment and test CF"
   ]
  },
  {
   "cell_type": "markdown",
   "metadata": {},
   "source": [
    "## Evaluation"
   ]
  },
  {
   "cell_type": "markdown",
   "metadata": {},
   "source": [
    "### Load parameters"
   ]
  },
  {
   "cell_type": "code",
   "execution_count": 21,
   "metadata": {},
   "outputs": [
    {
     "name": "stdout",
     "output_type": "stream",
     "text": [
      "{'algo': 'ppo', 'env': 'MiniGrid-WallGapS6-v0', 'model': 'MiniGrid-WallGapS6-v0_PPO_frames_600k_proc_16_RMSProp_lr_7e4_gae_099_test_MiniGrid-DoorKey-6x6-v0', 'seed': 3, 'log_interval': 1, 'save_interval': 10, 'procs': 16, 'frames': 600000, 'epochs': 4, 'batch_size': 256, 'frames_per_proc': 128, 'discount': 0.99, 'lr': 0.0007, 'gae_lambda': 0.99, 'entropy_coef': 0.01, 'value_loss_coef': 0.5, 'max_grad_norm': 0.5, 'optim_eps': 1e-08, 'optim_alpha': 0.99, 'clip_eps': 0.2, 'recurrence': 1, 'text': False, 'use_rim': False, 'mem': False, 'episodes': 100, 'argmax': False, 'worst_episodes_to_show': 10}\n",
      "Device: cpu\n",
      "\n"
     ]
    }
   ],
   "source": [
    "#env_id = 'MiniGrid-Empty-Random-6x6-v0'\n",
    "#env_id = 'MiniGrid-DoorKey-6x6-v0'\n",
    "#env_id = 'MiniGrid-Empty-8x8-v0'\n",
    "#env_id = 'MiniGrid-LavaGapS5-v0'\n",
    "env_id = 'MiniGrid-WallGapS6-v0'\n",
    "\n",
    "## Hyper-parameters\n",
    "args.env = env_id\n",
    "args.episodes = 100\n",
    "args.seed = 3\n",
    "args.argmax = False\n",
    "args.worst_episodes_to_show = 10\n",
    "print(args)\n",
    "\n",
    "# Set seed for all randomness sources\n",
    "utils.seed(args.seed)\n",
    "\n",
    "# Set device\n",
    "device = torch.device(\"cuda\" if torch.cuda.is_available() else \"cpu\")\n",
    "print(f\"Device: {device}\\n\")"
   ]
  },
  {
   "cell_type": "markdown",
   "metadata": {},
   "source": [
    "### Set environments, agent and logs"
   ]
  },
  {
   "cell_type": "code",
   "execution_count": 22,
   "metadata": {},
   "outputs": [
    {
     "name": "stdout",
     "output_type": "stream",
     "text": [
      "Environments loaded\n",
      "\n",
      "Agent loaded\n",
      "\n"
     ]
    }
   ],
   "source": [
    "# Load environments\n",
    "\n",
    "envs = []\n",
    "for i in range(args.procs):\n",
    "    env = utils.make_env(args.env, args.seed + 10000 * i)\n",
    "    envs.append(env)\n",
    "env = ParallelEnv(envs)\n",
    "print(\"Environments loaded\\n\")\n",
    "\n",
    "# Load agent\n",
    "\n",
    "model_dir = utils.get_model_dir(args.model)\n",
    "agent = utils.Agent(obs_space=env.observation_space, action_space=env.action_space, model_dir=model_dir, device=device, argmax=args.argmax, num_envs=args.procs, use_memory=args.mem, use_rim=args.use_rim)\n",
    "print(\"Agent loaded\\n\")\n",
    "\n",
    "# Initialize logs\n",
    "\n",
    "logs = {\"num_frames_per_episode\": [], \"return_per_episode\": []}"
   ]
  },
  {
   "cell_type": "markdown",
   "metadata": {},
   "source": [
    "### Run agent"
   ]
  },
  {
   "cell_type": "code",
   "execution_count": 23,
   "metadata": {},
   "outputs": [
    {
     "name": "stdout",
     "output_type": "stream",
     "text": [
      "Agent run completed\n",
      "\n"
     ]
    }
   ],
   "source": [
    "# Run agent\n",
    "\n",
    "start_time = time.time()\n",
    "\n",
    "obss = env.reset()\n",
    "\n",
    "log_done_counter = 0\n",
    "log_episode_return = torch.zeros(args.procs, device=device)\n",
    "log_episode_num_frames = torch.zeros(args.procs, device=device)\n",
    "\n",
    "while log_done_counter < args.episodes:\n",
    "    actions = agent.get_actions(obss)\n",
    "    obss, rewards, dones, _ = env.step(actions)\n",
    "    agent.analyze_feedbacks(rewards, dones)\n",
    "\n",
    "    log_episode_return += torch.tensor(rewards, device=device, dtype=torch.float)\n",
    "    log_episode_num_frames += torch.ones(args.procs, device=device)\n",
    "\n",
    "    for i, done in enumerate(dones):\n",
    "        if done:\n",
    "            log_done_counter += 1\n",
    "            logs[\"return_per_episode\"].append(log_episode_return[i].item())\n",
    "            logs[\"num_frames_per_episode\"].append(log_episode_num_frames[i].item())\n",
    "\n",
    "    mask = 1 - torch.tensor(dones, device=device, dtype=torch.float)\n",
    "    log_episode_return *= mask\n",
    "    log_episode_num_frames *= mask\n",
    "\n",
    "end_time = time.time()\n",
    "print(\"Agent run completed\\n\")"
   ]
  },
  {
   "cell_type": "markdown",
   "metadata": {},
   "source": [
    "### Print logs and results"
   ]
  },
  {
   "cell_type": "code",
   "execution_count": 24,
   "metadata": {},
   "outputs": [
    {
     "name": "stdout",
     "output_type": "stream",
     "text": [
      "F 5204.0 | FPS 3995 | D 1 | R:μσmM 0.65 0.37 0.00 0.98 | F:μσmM 52.0 53.6 3.0 144.0\n",
      "\n",
      "10 worst episodes:\n",
      "- episode 42: R=0.0, F=144.0\n",
      "- episode 43: R=0.0, F=144.0\n",
      "- episode 44: R=0.0, F=144.0\n",
      "- episode 46: R=0.0, F=144.0\n",
      "- episode 47: R=0.0, F=144.0\n",
      "- episode 51: R=0.0, F=144.0\n",
      "- episode 53: R=0.0, F=144.0\n",
      "- episode 55: R=0.0, F=144.0\n",
      "- episode 58: R=0.0, F=144.0\n",
      "- episode 62: R=0.0, F=144.0\n"
     ]
    }
   ],
   "source": [
    "# Print logs\n",
    "\n",
    "num_frames = sum(logs[\"num_frames_per_episode\"])\n",
    "fps = num_frames/(end_time - start_time)\n",
    "duration = int(end_time - start_time)\n",
    "return_per_episode = utils.synthesize(logs[\"return_per_episode\"])\n",
    "num_frames_per_episode = utils.synthesize(logs[\"num_frames_per_episode\"])\n",
    "\n",
    "print(\"F {} | FPS {:.0f} | D {} | R:μσmM {:.2f} {:.2f} {:.2f} {:.2f} | F:μσmM {:.1f} {:.1f} {} {}\"\n",
    "      .format(num_frames, fps, duration,\n",
    "              *return_per_episode.values(),\n",
    "              *num_frames_per_episode.values()))\n",
    "\n",
    "# Print worst episodes\n",
    "\n",
    "n = args.worst_episodes_to_show\n",
    "if n > 0:\n",
    "    print(\"\\n{} worst episodes:\".format(n))\n",
    "\n",
    "    indexes = sorted(range(len(logs[\"return_per_episode\"])), key=lambda k: logs[\"return_per_episode\"][k])\n",
    "    for i in indexes[:n]:\n",
    "        print(\"- episode {}: R={}, F={}\".format(i, logs[\"return_per_episode\"][i], logs[\"num_frames_per_episode\"][i]))"
   ]
  }
 ],
 "metadata": {
  "accelerator": "GPU",
  "colab": {
   "name": "test_minigrid_sb3_curriculum.ipynb",
   "provenance": []
  },
  "kernelspec": {
   "display_name": "tfm-experiments",
   "language": "python",
   "name": "tfm-experiments"
  },
  "language_info": {
   "codemirror_mode": {
    "name": "ipython",
    "version": 3
   },
   "file_extension": ".py",
   "mimetype": "text/x-python",
   "name": "python",
   "nbconvert_exporter": "python",
   "pygments_lexer": "ipython3",
   "version": "3.7.9"
  },
  "toc-autonumbering": true,
  "toc-showcode": false,
  "toc-showmarkdowntxt": false,
  "toc-showtags": false
 },
 "nbformat": 4,
 "nbformat_minor": 4
}
