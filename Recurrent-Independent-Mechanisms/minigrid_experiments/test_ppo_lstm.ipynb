{
 "cells": [
  {
   "cell_type": "markdown",
   "metadata": {
    "id": "MNF5-qJ7B0Q3"
   },
   "source": [
    "# MiniGrid settings"
   ]
  },
  {
   "cell_type": "markdown",
   "metadata": {
    "id": "AdM2FnEJB0Q8"
   },
   "source": [
    "## Basic Jupyter Setting"
   ]
  },
  {
   "cell_type": "code",
   "execution_count": 1,
   "metadata": {
    "executionInfo": {
     "elapsed": 319,
     "status": "ok",
     "timestamp": 1647123362972,
     "user": {
      "displayName": "Iñigo",
      "photoUrl": "https://lh3.googleusercontent.com/a/default-user=s64",
      "userId": "14378798962183195551"
     },
     "user_tz": -60
    },
    "id": "aycUmr6OB0Q8"
   },
   "outputs": [],
   "source": [
    "import numpy as np\n",
    "import matplotlib.pyplot as plt\n",
    "from pprint import pprint\n",
    "\n",
    "%matplotlib inline\n",
    "plt.rcParams['figure.figsize'] = (10.0, 8.0) # set default size of plots\n",
    "plt.rcParams['image.interpolation'] = 'nearest'\n",
    "plt.rcParams['image.cmap'] = 'gray'\n",
    "\n",
    "# for auto-reloading external modules\n",
    "# see http://stackoverflow.com/questions/1907993/autoreload-of-modules-in-ipython\n",
    "#%load_ext autoreload\n",
    "#%autoreload 2\n",
    "%reload_ext autoreload\n",
    "%autoreload 2"
   ]
  },
  {
   "cell_type": "markdown",
   "metadata": {
    "id": "ef0DdE0b4pLd"
   },
   "source": [
    "## Initial set-up"
   ]
  },
  {
   "cell_type": "markdown",
   "metadata": {
    "id": "PLM4YYcL5rBt"
   },
   "source": [
    "Import libraries and classes:"
   ]
  },
  {
   "cell_type": "code",
   "execution_count": null,
   "metadata": {
    "id": "YgenDMtf4pLe"
   },
   "outputs": [],
   "source": [
    "# Imports\n",
    "import time\n",
    "import io\n",
    "import os\n",
    "import glob\n",
    "import torch\n",
    "import base64\n",
    "# import stable_baselines3\n",
    "\n",
    "import numpy as np\n",
    "import matplotlib.pyplot as plt\n",
    "from random import randint \n",
    "\n",
    "import gym\n",
    "from gym import spaces\n",
    "from gym.wrappers import Monitor\n",
    "import gym_minigrid\n",
    "from gym_minigrid.wrappers import FlatObsWrapper, ImgObsWrapper, RGBImgPartialObsWrapper"
   ]
  },
  {
   "cell_type": "markdown",
   "metadata": {
    "id": "28U_WEp25rBu"
   },
   "source": [
    "Define the video function:"
   ]
  },
  {
   "cell_type": "code",
   "execution_count": null,
   "metadata": {
    "id": "d7eCH8Kf4pLf"
   },
   "outputs": [],
   "source": [
    "import base64\n",
    "import glob\n",
    "import io\n",
    "from IPython.display import HTML\n",
    "from IPython import display \n",
    "\n",
    "def show_video():\n",
    "    mp4list = glob.glob('video/*.mp4')\n",
    "    if len(mp4list) > 0:\n",
    "        mp4 = mp4list[0]\n",
    "        video = io.open(mp4, 'r+b').read()\n",
    "        encoded = base64.b64encode(video)\n",
    "        display.display(HTML(data='''<video alt=\"test\" autoplay \n",
    "                loop controls style=\"height: 400px;\">\n",
    "                <source src=\"data:video/mp4;base64,{0}\" type=\"video/mp4\" />\n",
    "             </video>'''.format(encoded.decode('ascii'))))\n",
    "    else:\n",
    "        print(\"Could not find video\")\n",
    "        \n",
    "def show_animation(experiment):\n",
    "    giflist = glob.glob('animation/*.gif')\n",
    "    if len(giflist) > 0:\n",
    "        matching = [s for s in giflist if experiment in s]\n",
    "        gif_path = matching[0]\n",
    "        b64 = base64.b64encode(open(gif_path,'rb').read()).decode('ascii')\n",
    "        display.display(HTML(f'<img src=\"data:image/gif;base64,{b64}\" height=\"400\" />'))\n",
    "    else:\n",
    "        print(\"Could not find animation\")"
   ]
  },
  {
   "cell_type": "markdown",
   "metadata": {
    "id": "KchGuXpd5rBv"
   },
   "source": [
    "Define the rendering wrappers:"
   ]
  },
  {
   "cell_type": "code",
   "execution_count": null,
   "metadata": {
    "id": "Gdhk3Oep4pLf"
   },
   "outputs": [],
   "source": [
    "from gym.wrappers import Monitor\n",
    "\n",
    "# Define wrapper for CNN Policy\n",
    "def ImgRGBImgPartialObsWrapper(env):\n",
    "    return ImgObsWrapper(RGBImgPartialObsWrapper(env))\n",
    "\n",
    "# Monitor is a gym wrapper, which helps easy rendering of videos of the wrapped environment.\n",
    "def wrap_env(env):\n",
    "    env = Monitor(env, './video', force=True)\n",
    "    return env\n",
    "\n",
    "def gen_wrapped_env(env_name):\n",
    "    return wrap_env(FlatObsWrapper(gym.make(env_name)))\n",
    "\n",
    "def gen_wrapped_env_cnn(env_name):\n",
    "    return wrap_env(ImgObsWrapper(RGBImgPartialObsWrapper(gym.make(env_name))))"
   ]
  },
  {
   "cell_type": "markdown",
   "metadata": {},
   "source": [
    "Render an environment image:"
   ]
  },
  {
   "cell_type": "code",
   "execution_count": null,
   "metadata": {
    "colab": {
     "base_uri": "https://localhost:8080/",
     "height": 269
    },
    "executionInfo": {
     "elapsed": 900,
     "status": "ok",
     "timestamp": 1647083269049,
     "user": {
      "displayName": "Iñigo",
      "photoUrl": "https://lh3.googleusercontent.com/a/default-user=s64",
      "userId": "14378798962183195551"
     },
     "user_tz": -60
    },
    "id": "B21JwGYn5rBv",
    "outputId": "54dfa526-2621-4f91-df2b-e4ff7a447aad"
   },
   "outputs": [],
   "source": [
    "from random import randint\n",
    "#env_id = 'MiniGrid-Empty-5x5-v0'\n",
    "env_id = 'MiniGrid-Empty-Random-6x6-v0'\n",
    "#env_id = 'MiniGrid-Empty-8x8-v0'\n",
    "#env_id = 'MiniGrid-Empty-16x16-v0'\n",
    "#env_id = 'MiniGrid-DoorKey-6x6-v0'\n",
    "#env_id = 'BreakoutNoFrameskip-v4'\n",
    "#env_id = 'MiniGrid-DistShift1-v0'\n",
    "#env_id ='MiniGrid-UnlockPickup-v0'\n",
    "#env_id = 'MiniGrid-RedBlueDoors-6x6-v0'\n",
    "#env_id = 'MiniGrid-LavaGapS6-v0'\n",
    "\n",
    "eval_env = gym.make(env_id)\n",
    "eval_env.seed(10000+randint(0, 10))\n",
    "eval_env.reset()\n",
    "#random_action = eval_env.action_space.sample()\n",
    "#new_obs, reward, done, info = eval_env.step(random_action)\n",
    "\n",
    "before_img = eval_env.render('rgb_array')\n",
    "\n",
    "plt.figure(figsize = (4.,4.))\n",
    "plt.imshow(before_img);"
   ]
  },
  {
   "cell_type": "markdown",
   "metadata": {
    "id": "umY09KJP5rCI"
   },
   "source": [
    "# PPO+LSTM learning"
   ]
  },
  {
   "cell_type": "markdown",
   "metadata": {
    "id": "yPq1XkeL5rCI"
   },
   "source": [
    "## Define the environments"
   ]
  },
  {
   "cell_type": "markdown",
   "metadata": {},
   "source": [
    "### Import libraries"
   ]
  },
  {
   "cell_type": "code",
   "execution_count": 2,
   "metadata": {},
   "outputs": [],
   "source": [
    "import time\n",
    "import io\n",
    "import os\n",
    "import glob\n",
    "import torch\n",
    "import base64\n",
    "import datetime\n",
    "import torch\n",
    "import torch_ac\n",
    "import tensorboardX\n",
    "import sys\n",
    "import utils\n",
    "from model import ACModel\n",
    "from torch_ac.utils import DictList, ParallelEnv\n",
    "import matplotlib.pyplot as plt\n",
    "from mpl_toolkits.axes_grid1 import ImageGrid\n",
    "import numpy as np\n",
    "import random\n",
    "\n",
    "import gym\n",
    "from gym import spaces\n",
    "from gym.wrappers import Monitor\n",
    "import gym_minigrid\n",
    "from gym_minigrid.wrappers import FlatObsWrapper, ImgObsWrapper, RGBImgPartialObsWrapper"
   ]
  },
  {
   "cell_type": "markdown",
   "metadata": {},
   "source": [
    "### Helper functions"
   ]
  },
  {
   "cell_type": "code",
   "execution_count": 3,
   "metadata": {},
   "outputs": [],
   "source": [
    "def make_envs(env_id, procs, seed=None):\n",
    "    envs = []\n",
    "    for i in range(procs):\n",
    "        if seed:\n",
    "            e = utils.make_env(env_id, seed + 10000 * i)\n",
    "        else:\n",
    "            e = utils.make_env(env_id)\n",
    "        envs.append(e)\n",
    "    env = ParallelEnv(envs)\n",
    "    return env"
   ]
  },
  {
   "cell_type": "markdown",
   "metadata": {},
   "source": [
    "### Render Parallel environment snapshot"
   ]
  },
  {
   "cell_type": "code",
   "execution_count": null,
   "metadata": {},
   "outputs": [],
   "source": [
    "#env_id = 'MiniGrid-Empty-Random-6x6-v0'\n",
    "#env_id = 'MiniGrid-Empty-5x5-v0'\n",
    "#env_id = 'MiniGrid-DoorKey-5x5-v0'\n",
    "#env_id = 'MiniGrid-SimpleCrossingS9N1-v0'\n",
    "env_id = 'MiniGrid-SimpleCrossingS9N2-v0'\n",
    "#env_id = 'MiniGrid-SimpleCrossingS9N3-v0'\n",
    "#env_id = 'MiniGrid-SimpleCrossingS11N5-v0'\n",
    "seed = 1\n",
    "env = make_envs(env_id, procs, seed)\n",
    "obs = env.reset()\n",
    "\n",
    "im_list = []\n",
    "for e in env.envs:\n",
    "    #print(type(e.render('rgb_array')))\n",
    "    #e.reset()\n",
    "    im_list.append(e.render('rgb_array'))\n",
    "\n",
    "fig = plt.figure(figsize=(8., 8.))\n",
    "grid = ImageGrid(fig, 111,  # similar to subplot(111)\n",
    "                 nrows_ncols=(4, 4),  # creates 2x2 grid of axes\n",
    "                 axes_pad=0.1,  # pad between axes in inch.\n",
    "                 )\n",
    "\n",
    "for ax, im in zip(grid, im_list):\n",
    "    # Iterating over the grid returns the Axes.\n",
    "    ax.imshow(im)\n",
    "\n",
    "#plt.show()\n"
   ]
  },
  {
   "cell_type": "markdown",
   "metadata": {},
   "source": [
    "## Configuration"
   ]
  },
  {
   "cell_type": "markdown",
   "metadata": {},
   "source": [
    "### Load parameters"
   ]
  },
  {
   "cell_type": "code",
   "execution_count": 4,
   "metadata": {},
   "outputs": [],
   "source": [
    "#env_id = 'MiniGrid-Empty-8x8-v0'\n",
    "#env_id = 'MiniGrid-LavaGapS5-v0'\n",
    "#env_id = 'MiniGrid-DoorKey-5x5-v0'\n",
    "#env_id = 'MiniGrid-DoorKey-5x5-v0'\n",
    "#env_id = 'MiniGrid-DoorKey-6x6-v0'\n",
    "env_id = 'MiniGrid-WallGapS6-v0'\n",
    "#env_id = 'MiniGrid-Empty-Random-6x6-v0'\n",
    "#env_id = 'MiniGrid-Empty-5x5-v0'\n",
    "model = 'MiniGrid-WallGapS6-v0_PPO_lstm_frames_600k_recur_32_proc_16_RMSProp_lr_7e4_gae_099_test_MiniGrid-DoorKey-6x6-v0'\n",
    "frames = 300000\n",
    "processes = 16\n",
    "\n",
    "## Hyper-parameters\n",
    "args = {\n",
    "# General parameters\n",
    "'algo':'ppo',\n",
    "'env':env_id,\n",
    "'model':model,\n",
    "'seed':1,\n",
    "'log_interval':1,\n",
    "'save_interval':10,\n",
    "'procs':processes,\n",
    "'frames':frames, # default 1e7\n",
    "# Parameters for main algorithm\n",
    "'epochs':4,\n",
    "'batch_size':256,\n",
    "'frames_per_proc':128, # 128 for PPO and 5 per A2C\n",
    "'discount':0.99,\n",
    "#'lr':0.0001, # for Adam\n",
    "'lr':0.0007, # for RMSProp\n",
    "#'gae_lambda':0.95, # 1 means no gae, for Adam\n",
    "'gae_lambda':0.99, # 1 means no gae, for RMSProp\n",
    "'entropy_coef':0.01,\n",
    "'value_loss_coef':0.5,\n",
    "'max_grad_norm':0.5,\n",
    "'optim_eps':1e-8,\n",
    "'optim_alpha':0.99,\n",
    "'clip_eps':0.2,\n",
    "'recurrence':32, # if > 1, a LSTM is added\n",
    "'text':False, # add a GRU for text input\n",
    "# Model Parameters\n",
    "'use_rim':False # action = 'store_true'\n",
    "}\n",
    "\n",
    "#args = utils.dotdict(args)\n",
    "args = DictList(args)\n",
    "\n",
    "args.mem = args.recurrence > 1\n",
    "\n",
    "# RIM specific hyperparameters\n",
    "if args.use_rim:\n",
    "    args.num_units = 5\n",
    "    args.k = 3"
   ]
  },
  {
   "cell_type": "markdown",
   "metadata": {},
   "source": [
    "### Initial settings"
   ]
  },
  {
   "cell_type": "code",
   "execution_count": 5,
   "metadata": {},
   "outputs": [
    {
     "name": "stdout",
     "output_type": "stream",
     "text": [
      "{'algo': 'ppo', 'env': 'MiniGrid-WallGapS6-v0', 'model': 'MiniGrid-WallGapS6-v0_PPO_lstm_frames_600k_recur_32_proc_16_RMSProp_lr_7e4_gae_099_test_MiniGrid-DoorKey-6x6-v0', 'seed': 1, 'log_interval': 1, 'save_interval': 10, 'procs': 16, 'frames': 300000, 'epochs': 4, 'batch_size': 256, 'frames_per_proc': 128, 'discount': 0.99, 'lr': 0.0007, 'gae_lambda': 0.99, 'entropy_coef': 0.01, 'value_loss_coef': 0.5, 'max_grad_norm': 0.5, 'optim_eps': 1e-08, 'optim_alpha': 0.99, 'clip_eps': 0.2, 'recurrence': 32, 'text': False, 'use_rim': False, 'mem': True}\n",
      "\n",
      "Device: cpu\n",
      "\n"
     ]
    }
   ],
   "source": [
    "# Set run dir\n",
    "\n",
    "date = datetime.datetime.now().strftime(\"%y-%m-%d-%H-%M-%S\")\n",
    "default_model_name = f\"{args.env}_{args.algo}_seed{args.seed}_{date}\"\n",
    "\n",
    "model_name = args.model or default_model_name\n",
    "model_dir = utils.get_model_dir(model_name)\n",
    "\n",
    "# Load loggers and Tensorboard writer\n",
    "\n",
    "txt_logger = utils.get_txt_logger(model_dir)\n",
    "csv_file, csv_logger = utils.get_csv_logger(model_dir)\n",
    "tb_writer = tensorboardX.SummaryWriter(model_dir)\n",
    "\n",
    "# Log command and all script arguments\n",
    "\n",
    "#txt_logger.info(\"{}\\n\".format(\" \".join(sys.argv)))\n",
    "txt_logger.info(\"{}\\n\".format(args))\n",
    "\n",
    "# Set seed for all randomness sources\n",
    "\n",
    "utils.seed(args.seed)\n",
    "\n",
    "# Set device\n",
    "\n",
    "device = torch.device(\"cuda\" if torch.cuda.is_available() else \"cpu\")\n",
    "txt_logger.info(f\"Device: {device}\\n\")"
   ]
  },
  {
   "cell_type": "markdown",
   "metadata": {},
   "source": [
    "### Load environments, model, algo and prepare training settings"
   ]
  },
  {
   "cell_type": "code",
   "execution_count": 6,
   "metadata": {},
   "outputs": [
    {
     "name": "stdout",
     "output_type": "stream",
     "text": [
      "Environments loaded\n",
      "\n",
      "Training status loaded\n",
      "\n",
      "Observations preprocessor loaded\n",
      "Model loaded\n",
      "\n",
      "ACModel(\n",
      "  (image_conv): Sequential(\n",
      "    (0): Conv2d(3, 16, kernel_size=(2, 2), stride=(1, 1))\n",
      "    (1): ReLU()\n",
      "    (2): MaxPool2d(kernel_size=(2, 2), stride=(2, 2), padding=0, dilation=1, ceil_mode=False)\n",
      "    (3): Conv2d(16, 32, kernel_size=(2, 2), stride=(1, 1))\n",
      "    (4): ReLU()\n",
      "    (5): Conv2d(32, 64, kernel_size=(2, 2), stride=(1, 1))\n",
      "    (6): ReLU()\n",
      "  )\n",
      "  (memory_rnn): LSTMCell(64, 64)\n",
      "  (actor): Sequential(\n",
      "    (0): Linear(in_features=64, out_features=64, bias=True)\n",
      "    (1): Tanh()\n",
      "    (2): Linear(in_features=64, out_features=7, bias=True)\n",
      "  )\n",
      "  (critic): Sequential(\n",
      "    (0): Linear(in_features=64, out_features=64, bias=True)\n",
      "    (1): Tanh()\n",
      "    (2): Linear(in_features=64, out_features=1, bias=True)\n",
      "  )\n",
      ")\n",
      "\n",
      "Optimizer loaded\n",
      "\n"
     ]
    }
   ],
   "source": [
    "# Load environments\n",
    "\n",
    "envs = []\n",
    "for i in range(args.procs):\n",
    "    envs.append(utils.make_env(args.env, args.seed + 10000 * i))\n",
    "txt_logger.info(\"Environments loaded\\n\")\n",
    "\n",
    "# Load training status\n",
    "\n",
    "try:\n",
    "    status = utils.get_status(model_dir)\n",
    "except OSError:\n",
    "    status = {\"num_frames\": 0, \"update\": 0}\n",
    "txt_logger.info(\"Training status loaded\\n\")\n",
    "\n",
    "# Load observations preprocessor\n",
    "\n",
    "obs_space, preprocess_obss = utils.get_obss_preprocessor(envs[0].observation_space)\n",
    "if \"vocab\" in status:\n",
    "    preprocess_obss.vocab.load_vocab(status[\"vocab\"])\n",
    "txt_logger.info(\"Observations preprocessor loaded\")\n",
    "\n",
    "# Load model\n",
    "\n",
    "acmodel = ACModel(obs_space=obs_space, action_space=envs[0].action_space, use_memory=args.mem, use_text=args.text)\n",
    "if \"model_state\" in status:\n",
    "    acmodel.load_state_dict(status[\"model_state\"])\n",
    "acmodel.to(device)\n",
    "txt_logger.info(\"Model loaded\\n\")\n",
    "txt_logger.info(\"{}\\n\".format(acmodel))\n",
    "\n",
    "# Load algo\n",
    "\n",
    "if args.algo == \"a2c\":\n",
    "    algo = torch_ac.A2CAlgo(envs, acmodel, device, args.frames_per_proc, args.discount, args.lr, args.gae_lambda,\n",
    "                            args.entropy_coef, args.value_loss_coef, args.max_grad_norm, args.recurrence,\n",
    "                            args.optim_alpha, args.optim_eps, preprocess_obss)\n",
    "elif args.algo == \"ppo\":\n",
    "    algo = torch_ac.PPOAlgo(envs, acmodel, device, args.frames_per_proc, args.discount, args.lr, args.gae_lambda,\n",
    "                            args.entropy_coef, args.value_loss_coef, args.max_grad_norm, args.recurrence,\n",
    "                            args.optim_eps, args.clip_eps, args.epochs, args.batch_size, preprocess_obss)\n",
    "else:\n",
    "    raise ValueError(\"Incorrect algorithm name: {}\".format(args.algo))\n",
    "\n",
    "# change to RMSProp optimizer\n",
    "algo.optimizer = torch.optim.RMSprop(algo.acmodel.parameters(), args.lr, eps=args.optim_eps)\n",
    "\n",
    "if \"optimizer_state\" in status:\n",
    "    algo.optimizer.load_state_dict(status[\"optimizer_state\"])\n",
    "txt_logger.info(\"Optimizer loaded\\n\")"
   ]
  },
  {
   "cell_type": "markdown",
   "metadata": {},
   "source": [
    "## Training"
   ]
  },
  {
   "cell_type": "code",
   "execution_count": 7,
   "metadata": {},
   "outputs": [
    {
     "name": "stdout",
     "output_type": "stream",
     "text": [
      "U 1 | F 002048 | FPS 0647 | D 3 | rR:μσmM 0.00 0.00 0.00 0.00 | F:μσmM 0.0 0.0 0 0 | H 1.932 | V 0.057 | pL 0.030 | vL 0.000 | ∇ 0.006\n",
      "U 2 | F 004096 | FPS 0667 | D 6 | rR:μσmM 0.08 0.22 0.00 0.80 | F:μσmM 133.2 31.0 32.0 144.0 | H 1.921 | V 0.062 | pL -0.008 | vL 0.012 | ∇ 0.053\n",
      "U 3 | F 006144 | FPS 0690 | D 9 | rR:μσmM 0.11 0.21 0.00 0.69 | F:μσmM 130.4 28.3 50.0 144.0 | H 1.918 | V 0.046 | pL -0.020 | vL 0.012 | ∇ 0.032\n",
      "U 4 | F 008192 | FPS 0672 | D 12 | rR:μσmM 0.12 0.26 0.00 0.89 | F:μσmM 127.8 35.9 17.0 144.0 | H 1.900 | V 0.064 | pL 0.020 | vL 0.011 | ∇ 0.050\n",
      "U 5 | F 010240 | FPS 0701 | D 15 | rR:μσmM 0.17 0.27 0.00 0.74 | F:μσmM 122.1 36.4 42.0 144.0 | H 1.928 | V 0.091 | pL -0.021 | vL 0.020 | ∇ 0.094\n",
      "U 6 | F 012288 | FPS 0682 | D 18 | rR:μσmM 0.10 0.22 0.00 0.81 | F:μσmM 131.3 29.7 31.0 144.0 | H 1.934 | V 0.034 | pL 0.009 | vL 0.002 | ∇ 0.027\n",
      "U 7 | F 014336 | FPS 0682 | D 21 | rR:μσmM 0.08 0.16 0.00 0.51 | F:μσmM 134.8 19.5 78.0 144.0 | H 1.934 | V 0.024 | pL 0.001 | vL 0.002 | ∇ 0.030\n",
      "U 8 | F 016384 | FPS 0618 | D 24 | rR:μσmM 0.10 0.23 0.00 0.82 | F:μσmM 131.3 31.6 29.0 144.0 | H 1.929 | V 0.044 | pL -0.001 | vL 0.011 | ∇ 0.059\n",
      "U 9 | F 018432 | FPS 0675 | D 27 | rR:μσmM 0.08 0.18 0.00 0.66 | F:μσmM 134.0 23.9 54.0 144.0 | H 1.931 | V 0.012 | pL 0.002 | vL 0.002 | ∇ 0.018\n",
      "U 10 | F 020480 | FPS 0625 | D 30 | rR:μσmM 0.04 0.11 0.00 0.41 | F:μσmM 139.9 11.9 95.0 144.0 | H 1.934 | V 0.020 | pL -0.012 | vL 0.003 | ∇ 0.034\n",
      "Status saved\n",
      "U 11 | F 022528 | FPS 0660 | D 33 | rR:μσmM 0.12 0.28 0.00 0.88 | F:μσmM 127.6 38.6 20.0 144.0 | H 1.934 | V 0.021 | pL -0.022 | vL 0.011 | ∇ 0.043\n",
      "U 12 | F 024576 | FPS 0593 | D 37 | rR:μσmM 0.27 0.36 0.00 0.89 | F:μσmM 107.2 50.7 17.0 144.0 | H 1.918 | V 0.088 | pL -0.057 | vL 0.032 | ∇ 0.120\n",
      "U 13 | F 026624 | FPS 0606 | D 40 | rR:μσmM 0.36 0.31 0.00 0.86 | F:μσmM 97.2 42.1 22.0 144.0 | H 1.920 | V 0.100 | pL -0.032 | vL 0.013 | ∇ 0.066\n",
      "U 14 | F 028672 | FPS 0663 | D 43 | rR:μσmM 0.24 0.33 0.00 0.98 | F:μσmM 112.2 46.9 4.0 144.0 | H 1.916 | V 0.109 | pL 0.037 | vL 0.016 | ∇ 0.083\n",
      "U 15 | F 030720 | FPS 0697 | D 46 | rR:μσmM 0.24 0.28 0.00 0.82 | F:μσmM 113.1 38.9 29.0 144.0 | H 1.894 | V 0.125 | pL 0.012 | vL 0.012 | ∇ 0.046\n",
      "U 16 | F 032768 | FPS 0688 | D 49 | rR:μσmM 0.15 0.28 0.00 0.94 | F:μσmM 124.8 38.7 9.0 144.0 | H 1.908 | V 0.077 | pL 0.017 | vL 0.009 | ∇ 0.055\n",
      "U 17 | F 034816 | FPS 0705 | D 52 | rR:μσmM 0.19 0.36 0.00 0.94 | F:μσmM 116.8 50.4 9.0 144.0 | H 1.926 | V 0.038 | pL 0.002 | vL 0.008 | ∇ 0.037\n",
      "U 18 | F 036864 | FPS 0732 | D 55 | rR:μσmM 0.38 0.36 0.00 0.96 | F:μσmM 93.6 51.2 6.0 144.0 | H 1.901 | V 0.113 | pL -0.020 | vL 0.019 | ∇ 0.078\n",
      "U 19 | F 038912 | FPS 0653 | D 58 | rR:μσmM 0.28 0.33 0.00 0.94 | F:μσmM 108.0 46.9 10.0 144.0 | H 1.886 | V 0.130 | pL -0.004 | vL 0.020 | ∇ 0.084\n",
      "U 20 | F 040960 | FPS 0678 | D 61 | rR:μσmM 0.43 0.28 0.00 0.91 | F:μσmM 89.6 40.9 14.0 144.0 | H 1.882 | V 0.152 | pL -0.020 | vL 0.017 | ∇ 0.093\n",
      "Status saved\n",
      "U 21 | F 043008 | FPS 0644 | D 64 | rR:μσmM 0.30 0.36 0.00 0.86 | F:μσmM 102.5 50.9 23.0 144.0 | H 1.870 | V 0.129 | pL 0.000 | vL 0.021 | ∇ 0.153\n",
      "U 22 | F 045056 | FPS 0556 | D 68 | rR:μσmM 0.25 0.28 0.00 0.69 | F:μσmM 112.2 38.0 50.0 144.0 | H 1.866 | V 0.123 | pL -0.023 | vL 0.024 | ∇ 0.144\n",
      "U 23 | F 047104 | FPS 0391 | D 73 | rR:μσmM 0.46 0.34 0.00 0.93 | F:μσmM 81.7 48.6 12.0 144.0 | H 1.846 | V 0.188 | pL -0.065 | vL 0.028 | ∇ 0.116\n",
      "U 24 | F 049152 | FPS 0370 | D 79 | rR:μσmM 0.36 0.35 0.00 0.94 | F:μσmM 96.0 49.4 9.0 144.0 | H 1.812 | V 0.186 | pL 0.062 | vL 0.019 | ∇ 0.110\n",
      "U 25 | F 051200 | FPS 0478 | D 83 | rR:μσmM 0.52 0.33 0.00 0.96 | F:μσmM 75.0 48.3 6.0 144.0 | H 1.812 | V 0.230 | pL -0.009 | vL 0.022 | ∇ 0.092\n",
      "U 26 | F 053248 | FPS 0646 | D 86 | rR:μσmM 0.56 0.32 0.00 0.96 | F:μσmM 68.9 48.4 6.0 144.0 | H 1.766 | V 0.276 | pL -0.038 | vL 0.035 | ∇ 0.103\n",
      "U 27 | F 055296 | FPS 0675 | D 89 | rR:μσmM 0.55 0.33 0.00 0.95 | F:μσmM 68.5 46.2 8.0 144.0 | H 1.756 | V 0.297 | pL -0.010 | vL 0.033 | ∇ 0.149\n",
      "U 28 | F 057344 | FPS 0638 | D 93 | rR:μσmM 0.58 0.31 0.00 0.96 | F:μσmM 65.4 45.4 7.0 144.0 | H 1.729 | V 0.274 | pL 0.052 | vL 0.024 | ∇ 0.105\n",
      "U 29 | F 059392 | FPS 0547 | D 96 | rR:μσmM 0.51 0.35 0.00 0.93 | F:μσmM 74.1 49.8 11.0 144.0 | H 1.736 | V 0.310 | pL -0.030 | vL 0.035 | ∇ 0.171\n",
      "U 30 | F 061440 | FPS 0546 | D 100 | rR:μσmM 0.57 0.29 0.00 0.96 | F:μσmM 67.5 44.8 6.0 144.0 | H 1.746 | V 0.262 | pL -0.020 | vL 0.030 | ∇ 0.129\n",
      "Status saved\n",
      "U 31 | F 063488 | FPS 0582 | D 104 | rR:μσmM 0.55 0.31 0.00 0.98 | F:μσmM 69.1 45.7 4.0 144.0 | H 1.702 | V 0.311 | pL -0.006 | vL 0.029 | ∇ 0.114\n",
      "U 32 | F 065536 | FPS 0639 | D 107 | rR:μσmM 0.66 0.30 0.00 0.99 | F:μσmM 52.7 46.4 2.0 144.0 | H 1.723 | V 0.320 | pL -0.019 | vL 0.033 | ∇ 0.184\n",
      "U 33 | F 067584 | FPS 0594 | D 110 | rR:μσmM 0.69 0.29 0.00 0.98 | F:μσmM 47.4 43.0 3.0 144.0 | H 1.639 | V 0.417 | pL -0.091 | vL 0.039 | ∇ 0.208\n",
      "U 34 | F 069632 | FPS 0695 | D 113 | rR:μσmM 0.70 0.27 0.00 0.97 | F:μσmM 46.6 39.3 5.0 144.0 | H 1.717 | V 0.409 | pL 0.033 | vL 0.029 | ∇ 0.142\n",
      "U 35 | F 071680 | FPS 0713 | D 116 | rR:μσmM 0.59 0.35 0.00 0.96 | F:μσmM 63.2 50.3 6.0 144.0 | H 1.748 | V 0.336 | pL 0.020 | vL 0.046 | ∇ 0.203\n",
      "U 36 | F 073728 | FPS 0730 | D 119 | rR:μσmM 0.63 0.28 0.00 0.97 | F:μσmM 58.1 42.5 5.0 144.0 | H 1.734 | V 0.335 | pL -0.004 | vL 0.025 | ∇ 0.160\n",
      "U 37 | F 075776 | FPS 0720 | D 122 | rR:μσmM 0.70 0.29 0.00 0.98 | F:μσmM 46.7 44.0 4.0 144.0 | H 1.693 | V 0.339 | pL -0.082 | vL 0.037 | ∇ 0.198\n",
      "U 38 | F 077824 | FPS 0723 | D 125 | rR:μσmM 0.77 0.21 0.00 0.98 | F:μσmM 36.8 32.3 3.0 144.0 | H 1.663 | V 0.510 | pL -0.086 | vL 0.033 | ∇ 0.149\n",
      "U 39 | F 079872 | FPS 0723 | D 128 | rR:μσmM 0.74 0.22 0.12 0.97 | F:μσmM 42.3 35.4 5.0 140.0 | H 1.670 | V 0.438 | pL -0.024 | vL 0.025 | ∇ 0.160\n",
      "U 40 | F 081920 | FPS 0700 | D 131 | rR:μσmM 0.75 0.26 0.00 0.98 | F:μσmM 39.2 38.6 3.0 144.0 | H 1.636 | V 0.482 | pL 0.016 | vL 0.030 | ∇ 0.198\n",
      "Status saved\n",
      "U 41 | F 083968 | FPS 0724 | D 133 | rR:μσmM 0.77 0.17 0.29 0.98 | F:μσmM 37.5 26.8 3.0 114.0 | H 1.651 | V 0.513 | pL -0.026 | vL 0.022 | ∇ 0.134\n",
      "U 42 | F 086016 | FPS 0720 | D 136 | rR:μσmM 0.81 0.14 0.36 0.97 | F:μσmM 30.2 22.5 5.0 103.0 | H 1.560 | V 0.609 | pL -0.027 | vL 0.021 | ∇ 0.171\n",
      "U 43 | F 088064 | FPS 0701 | D 139 | rR:μσmM 0.80 0.19 0.00 0.98 | F:μσmM 31.5 27.8 4.0 144.0 | H 1.564 | V 0.549 | pL 0.006 | vL 0.027 | ∇ 0.177\n",
      "U 44 | F 090112 | FPS 0674 | D 142 | rR:μσmM 0.85 0.11 0.36 0.96 | F:μσmM 23.9 18.2 6.0 103.0 | H 1.449 | V 0.667 | pL -0.069 | vL 0.016 | ∇ 0.129\n",
      "U 45 | F 092160 | FPS 0692 | D 145 | rR:μσmM 0.85 0.11 0.44 0.98 | F:μσmM 23.7 17.0 3.0 89.0 | H 1.465 | V 0.687 | pL -0.019 | vL 0.015 | ∇ 0.151\n",
      "U 46 | F 094208 | FPS 0700 | D 148 | rR:μσmM 0.85 0.09 0.54 0.96 | F:μσmM 23.5 14.0 7.0 74.0 | H 1.425 | V 0.673 | pL -0.039 | vL 0.012 | ∇ 0.135\n",
      "U 47 | F 096256 | FPS 0598 | D 152 | rR:μσmM 0.83 0.12 0.46 0.98 | F:μσmM 27.2 19.9 3.0 87.0 | H 1.407 | V 0.622 | pL 0.033 | vL 0.013 | ∇ 0.179\n",
      "U 48 | F 098304 | FPS 0637 | D 155 | rR:μσmM 0.85 0.11 0.43 0.98 | F:μσmM 23.5 17.4 3.0 91.0 | H 1.447 | V 0.699 | pL 0.065 | vL 0.013 | ∇ 0.217\n",
      "U 49 | F 100352 | FPS 0664 | D 158 | rR:μσmM 0.86 0.09 0.41 0.98 | F:μσmM 22.2 15.1 3.0 94.0 | H 1.365 | V 0.705 | pL 0.027 | vL 0.010 | ∇ 0.107\n",
      "U 50 | F 102400 | FPS 0697 | D 161 | rR:μσmM 0.87 0.07 0.60 0.97 | F:μσmM 21.2 11.1 5.0 64.0 | H 1.399 | V 0.725 | pL -0.006 | vL 0.006 | ∇ 0.086\n",
      "Status saved\n",
      "U 51 | F 104448 | FPS 0718 | D 164 | rR:μσmM 0.89 0.07 0.43 0.98 | F:μσmM 17.9 10.5 4.0 92.0 | H 1.319 | V 0.792 | pL -0.013 | vL 0.004 | ∇ 0.065\n",
      "U 52 | F 106496 | FPS 0754 | D 166 | rR:μσmM 0.88 0.06 0.57 0.98 | F:μσmM 18.7 10.2 4.0 69.0 | H 1.363 | V 0.786 | pL 0.023 | vL 0.005 | ∇ 0.087\n",
      "U 53 | F 108544 | FPS 0756 | D 169 | rR:μσmM 0.89 0.06 0.57 0.99 | F:μσmM 17.8 10.0 2.0 68.0 | H 1.339 | V 0.762 | pL -0.008 | vL 0.006 | ∇ 0.115\n",
      "U 54 | F 110592 | FPS 0725 | D 172 | rR:μσmM 0.89 0.06 0.60 0.98 | F:μσmM 17.7 9.3 4.0 64.0 | H 1.312 | V 0.792 | pL 0.004 | vL 0.004 | ∇ 0.083\n",
      "U 55 | F 112640 | FPS 0706 | D 175 | rR:μσmM 0.90 0.06 0.64 0.98 | F:μσmM 16.4 9.0 3.0 57.0 | H 1.296 | V 0.811 | pL -0.007 | vL 0.004 | ∇ 0.083\n",
      "U 56 | F 114688 | FPS 0705 | D 178 | rR:μσmM 0.90 0.05 0.71 0.98 | F:μσmM 16.5 8.0 3.0 46.0 | H 1.238 | V 0.797 | pL 0.000 | vL 0.004 | ∇ 0.088\n",
      "U 57 | F 116736 | FPS 0695 | D 181 | rR:μσmM 0.91 0.04 0.74 0.98 | F:μσmM 15.2 6.3 4.0 41.0 | H 1.223 | V 0.821 | pL -0.011 | vL 0.003 | ∇ 0.049\n",
      "U 58 | F 118784 | FPS 0711 | D 184 | rR:μσmM 0.91 0.04 0.77 0.98 | F:μσmM 15.2 6.5 3.0 36.0 | H 1.217 | V 0.820 | pL -0.003 | vL 0.003 | ∇ 0.087\n",
      "U 59 | F 120832 | FPS 0740 | D 186 | rR:μσmM 0.91 0.04 0.76 0.98 | F:μσmM 14.5 6.6 3.0 38.0 | H 1.171 | V 0.821 | pL -0.032 | vL 0.003 | ∇ 0.076\n",
      "U 60 | F 122880 | FPS 0745 | D 189 | rR:μσmM 0.91 0.03 0.77 0.98 | F:μσmM 13.8 5.5 3.0 36.0 | H 1.245 | V 0.841 | pL -0.009 | vL 0.001 | ∇ 0.038\n",
      "Status saved\n",
      "U 61 | F 124928 | FPS 0738 | D 192 | rR:μσmM 0.91 0.04 0.77 0.98 | F:μσmM 14.6 6.7 3.0 37.0 | H 1.294 | V 0.821 | pL 0.017 | vL 0.003 | ∇ 0.073\n",
      "U 62 | F 126976 | FPS 0730 | D 195 | rR:μσmM 0.87 0.08 0.62 0.99 | F:μσmM 20.9 12.7 2.0 61.0 | H 1.458 | V 0.725 | pL 0.105 | vL 0.009 | ∇ 0.199\n",
      "U 63 | F 129024 | FPS 0713 | D 198 | rR:μσmM 0.86 0.08 0.59 0.97 | F:μσmM 21.9 12.0 5.0 66.0 | H 1.389 | V 0.743 | pL 0.009 | vL 0.010 | ∇ 0.128\n",
      "U 64 | F 131072 | FPS 0719 | D 201 | rR:μσmM 0.88 0.08 0.56 0.99 | F:μσmM 18.7 12.0 2.0 71.0 | H 1.308 | V 0.739 | pL -0.044 | vL 0.009 | ∇ 0.113\n",
      "U 65 | F 133120 | FPS 0720 | D 203 | rR:μσmM 0.89 0.06 0.56 0.98 | F:μσmM 17.3 10.3 3.0 71.0 | H 1.195 | V 0.781 | pL -0.026 | vL 0.006 | ∇ 0.105\n",
      "U 66 | F 135168 | FPS 0738 | D 206 | rR:μσmM 0.91 0.04 0.68 0.98 | F:μσmM 13.8 7.1 3.0 51.0 | H 1.114 | V 0.835 | pL -0.029 | vL 0.003 | ∇ 0.063\n",
      "U 67 | F 137216 | FPS 0744 | D 209 | rR:μσmM 0.91 0.04 0.73 0.98 | F:μσmM 13.9 6.7 3.0 44.0 | H 1.090 | V 0.834 | pL -0.011 | vL 0.002 | ∇ 0.041\n",
      "U 68 | F 139264 | FPS 0758 | D 212 | rR:μσmM 0.92 0.03 0.81 0.99 | F:μσmM 12.7 5.2 2.0 30.0 | H 1.111 | V 0.855 | pL -0.012 | vL 0.002 | ∇ 0.040\n",
      "U 69 | F 141312 | FPS 0743 | D 214 | rR:μσmM 0.91 0.04 0.78 0.98 | F:μσmM 13.6 6.1 3.0 35.0 | H 1.116 | V 0.830 | pL 0.005 | vL 0.003 | ∇ 0.056\n",
      "U 70 | F 143360 | FPS 0650 | D 218 | rR:μσmM 0.92 0.03 0.81 0.97 | F:μσmM 13.2 5.1 5.0 31.0 | H 1.079 | V 0.839 | pL -0.035 | vL 0.002 | ∇ 0.052\n",
      "Status saved\n",
      "U 71 | F 145408 | FPS 0621 | D 221 | rR:μσmM 0.92 0.03 0.83 0.98 | F:μσmM 12.6 4.6 3.0 27.0 | H 1.133 | V 0.849 | pL -0.009 | vL 0.001 | ∇ 0.038\n",
      "U 72 | F 147456 | FPS 0572 | D 224 | rR:μσmM 0.92 0.03 0.84 0.99 | F:μσmM 12.5 4.7 2.0 26.0 | H 1.198 | V 0.847 | pL 0.001 | vL 0.002 | ∇ 0.045\n",
      "U 73 | F 149504 | FPS 0739 | D 227 | rR:μσmM 0.91 0.03 0.82 0.98 | F:μσmM 13.7 5.1 4.0 29.0 | H 1.306 | V 0.843 | pL 0.019 | vL 0.001 | ∇ 0.045\n",
      "U 74 | F 151552 | FPS 0757 | D 230 | rR:μσmM 0.90 0.04 0.77 0.98 | F:μσmM 15.6 6.7 4.0 37.0 | H 1.305 | V 0.819 | pL 0.020 | vL 0.003 | ∇ 0.080\n",
      "U 75 | F 153600 | FPS 0770 | D 233 | rR:μσmM 0.90 0.06 0.66 0.98 | F:μσmM 16.3 9.3 4.0 55.0 | H 1.250 | V 0.774 | pL -0.034 | vL 0.005 | ∇ 0.109\n",
      "U 76 | F 155648 | FPS 0777 | D 235 | rR:μσmM 0.91 0.05 0.73 0.98 | F:μσmM 14.5 7.3 4.0 43.0 | H 1.251 | V 0.805 | pL -0.016 | vL 0.003 | ∇ 0.065\n",
      "U 77 | F 157696 | FPS 0756 | D 238 | rR:μσmM 0.91 0.05 0.73 0.99 | F:μσmM 14.7 7.5 2.0 43.0 | H 1.241 | V 0.817 | pL 0.005 | vL 0.003 | ∇ 0.050\n",
      "U 78 | F 159744 | FPS 0668 | D 241 | rR:μσmM 0.91 0.05 0.71 0.99 | F:μσmM 14.4 7.5 2.0 47.0 | H 1.182 | V 0.817 | pL -0.016 | vL 0.003 | ∇ 0.048\n",
      "U 79 | F 161792 | FPS 0699 | D 244 | rR:μσmM 0.91 0.04 0.69 0.98 | F:μσmM 14.5 6.9 3.0 50.0 | H 1.186 | V 0.829 | pL -0.018 | vL 0.002 | ∇ 0.050\n",
      "Number of frames:  163840\n"
     ]
    }
   ],
   "source": [
    "# Train model\n",
    "\n",
    "num_frames = status[\"num_frames\"]\n",
    "update = status[\"update\"]\n",
    "start_time = time.time()\n",
    "\n",
    "# Moving average parameters\n",
    "threshold = 0.90\n",
    "window = 10\n",
    "rreturn_total = 0\n",
    "i = 0\n",
    "\n",
    "while num_frames < args.frames:\n",
    "    # Update model parameters\n",
    "\n",
    "    update_start_time = time.time()\n",
    "    exps, logs1 = algo.collect_experiences()\n",
    "    logs2 = algo.update_parameters(exps)\n",
    "    logs = {**logs1, **logs2}\n",
    "    update_end_time = time.time()\n",
    "\n",
    "    num_frames += logs[\"num_frames\"]\n",
    "    update += 1\n",
    "\n",
    "    # Print logs\n",
    "\n",
    "    if update % args.log_interval == 0:\n",
    "        fps = logs[\"num_frames\"]/(update_end_time - update_start_time)\n",
    "        duration = int(time.time() - start_time)\n",
    "        return_per_episode = utils.synthesize(logs[\"return_per_episode\"])\n",
    "        rreturn_per_episode = utils.synthesize(logs[\"reshaped_return_per_episode\"])\n",
    "        num_frames_per_episode = utils.synthesize(logs[\"num_frames_per_episode\"])\n",
    "        # Moving average to break loop if mean reward threshold reached\n",
    "        rreturn_total +=rreturn_per_episode['mean']\n",
    "        i+=1\n",
    "        if i >= window:\n",
    "            rreturn_mavg = rreturn_total / i\n",
    "            if rreturn_mavg >= threshold:\n",
    "                break_flag = True \n",
    "                break\n",
    "            else:\n",
    "                i = 0\n",
    "                rreturn_total = 0\n",
    "\n",
    "        header = [\"update\", \"frames\", \"FPS\", \"duration\"]\n",
    "        data = [update, num_frames, fps, duration]\n",
    "        header += [\"rreturn_\" + key for key in rreturn_per_episode.keys()]\n",
    "        data += rreturn_per_episode.values()\n",
    "        header += [\"num_frames_\" + key for key in num_frames_per_episode.keys()]\n",
    "        data += num_frames_per_episode.values()\n",
    "        header += [\"entropy\", \"value\", \"policy_loss\", \"value_loss\", \"grad_norm\"]\n",
    "        data += [logs[\"entropy\"], logs[\"value\"], logs[\"policy_loss\"], logs[\"value_loss\"], logs[\"grad_norm\"]]\n",
    "\n",
    "        txt_logger.info(\n",
    "            \"U {} | F {:06} | FPS {:04.0f} | D {} | rR:μσmM {:.2f} {:.2f} {:.2f} {:.2f} | F:μσmM {:.1f} {:.1f} {} {} | H {:.3f} | V {:.3f} | pL {:.3f} | vL {:.3f} | ∇ {:.3f}\"\n",
    "            .format(*data))\n",
    "\n",
    "        header += [\"return_\" + key for key in return_per_episode.keys()]\n",
    "        data += return_per_episode.values()\n",
    "\n",
    "        if status[\"num_frames\"] == 0:\n",
    "            csv_logger.writerow(header)\n",
    "        csv_logger.writerow(data)\n",
    "        csv_file.flush()\n",
    "\n",
    "        for field, value in zip(header, data):\n",
    "            tb_writer.add_scalar(field, value, num_frames)\n",
    "\n",
    "    # Save status\n",
    "\n",
    "    if args.save_interval > 0 and update % args.save_interval == 0:\n",
    "        status = {\"num_frames\": num_frames, \"update\": update,\n",
    "                  \"model_state\": acmodel.state_dict(), \"optimizer_state\": algo.optimizer.state_dict()}\n",
    "        if hasattr(preprocess_obss, \"vocab\"):\n",
    "            status[\"vocab\"] = preprocess_obss.vocab.vocab\n",
    "        utils.save_status(status, model_dir)\n",
    "        txt_logger.info(\"Status saved\")\n",
    "\n",
    "print(\"Number of frames: \", num_frames)"
   ]
  },
  {
   "cell_type": "markdown",
   "metadata": {},
   "source": [
    "## Evaluation"
   ]
  },
  {
   "cell_type": "markdown",
   "metadata": {},
   "source": [
    "### Load parameters"
   ]
  },
  {
   "cell_type": "code",
   "execution_count": 8,
   "metadata": {},
   "outputs": [
    {
     "name": "stdout",
     "output_type": "stream",
     "text": [
      "{'algo': 'ppo', 'env': 'MiniGrid-WallGapS6-v0', 'model': 'MiniGrid-WallGapS6-v0_PPO_lstm_frames_600k_recur_32_proc_16_RMSProp_lr_7e4_gae_099_test_MiniGrid-DoorKey-6x6-v0', 'seed': 2, 'log_interval': 1, 'save_interval': 10, 'procs': 16, 'frames': 300000, 'epochs': 4, 'batch_size': 256, 'frames_per_proc': 128, 'discount': 0.99, 'lr': 0.0007, 'gae_lambda': 0.99, 'entropy_coef': 0.01, 'value_loss_coef': 0.5, 'max_grad_norm': 0.5, 'optim_eps': 1e-08, 'optim_alpha': 0.99, 'clip_eps': 0.2, 'recurrence': 32, 'text': False, 'use_rim': False, 'mem': True, 'episodes': 100, 'argmax': False, 'worst_episodes_to_show': 10}\n",
      "Device: cpu\n",
      "\n"
     ]
    }
   ],
   "source": [
    "#env_id = 'MiniGrid-Empty-Random-6x6-v0'\n",
    "#env_id = 'MiniGrid-DoorKey-6x6-v0'\n",
    "#env_id = 'MiniGrid-Empty-8x8-v0'\n",
    "env_id = 'MiniGrid-WallGapS6-v0'\n",
    "\n",
    "## Hyper-parameters\n",
    "args.env = env_id\n",
    "args.episodes = 100\n",
    "args.seed = 2\n",
    "args.argmax = False\n",
    "args.worst_episodes_to_show = 10\n",
    "print(args)\n",
    "\n",
    "# Set seed for all randomness sources\n",
    "utils.seed(args.seed)\n",
    "\n",
    "# Set device\n",
    "device = torch.device(\"cuda\" if torch.cuda.is_available() else \"cpu\")\n",
    "print(f\"Device: {device}\\n\")"
   ]
  },
  {
   "cell_type": "markdown",
   "metadata": {},
   "source": [
    "### Set environments, agent and logs"
   ]
  },
  {
   "cell_type": "code",
   "execution_count": 9,
   "metadata": {},
   "outputs": [
    {
     "name": "stdout",
     "output_type": "stream",
     "text": [
      "Environments loaded\n",
      "\n",
      "Agent loaded\n",
      "\n"
     ]
    }
   ],
   "source": [
    "# Load environments\n",
    "\n",
    "envs = []\n",
    "for i in range(args.procs):\n",
    "    env = utils.make_env(args.env, args.seed + 10000 * i)\n",
    "    envs.append(env)\n",
    "env = ParallelEnv(envs)\n",
    "print(\"Environments loaded\\n\")\n",
    "\n",
    "# Load agent\n",
    "\n",
    "model_dir = utils.get_model_dir(args.model)\n",
    "agent = utils.Agent(obs_space=env.observation_space, action_space=env.action_space, model_dir=model_dir, device=device, argmax=args.argmax, num_envs=args.procs, use_memory=args.mem, use_rim=args.use_rim)\n",
    "print(\"Agent loaded\\n\")\n",
    "\n",
    "# Initialize logs\n",
    "\n",
    "logs = {\"num_frames_per_episode\": [], \"return_per_episode\": []}"
   ]
  },
  {
   "cell_type": "markdown",
   "metadata": {},
   "source": [
    "### Run agent"
   ]
  },
  {
   "cell_type": "code",
   "execution_count": 10,
   "metadata": {},
   "outputs": [
    {
     "name": "stdout",
     "output_type": "stream",
     "text": [
      "Agent run completed\n",
      "\n"
     ]
    }
   ],
   "source": [
    "# Run agent\n",
    "\n",
    "start_time = time.time()\n",
    "\n",
    "obss = env.reset()\n",
    "\n",
    "log_done_counter = 0\n",
    "log_episode_return = torch.zeros(args.procs, device=device)\n",
    "log_episode_num_frames = torch.zeros(args.procs, device=device)\n",
    "\n",
    "while log_done_counter < args.episodes:\n",
    "    actions = agent.get_actions(obss)\n",
    "    obss, rewards, dones, _ = env.step(actions)\n",
    "    agent.analyze_feedbacks(rewards, dones)\n",
    "\n",
    "    log_episode_return += torch.tensor(rewards, device=device, dtype=torch.float)\n",
    "    log_episode_num_frames += torch.ones(args.procs, device=device)\n",
    "\n",
    "    for i, done in enumerate(dones):\n",
    "        if done:\n",
    "            log_done_counter += 1\n",
    "            logs[\"return_per_episode\"].append(log_episode_return[i].item())\n",
    "            logs[\"num_frames_per_episode\"].append(log_episode_num_frames[i].item())\n",
    "\n",
    "    mask = 1 - torch.tensor(dones, device=device, dtype=torch.float)\n",
    "    log_episode_return *= mask\n",
    "    log_episode_num_frames *= mask\n",
    "\n",
    "end_time = time.time()\n",
    "print(\"Agent run completed\\n\")"
   ]
  },
  {
   "cell_type": "markdown",
   "metadata": {},
   "source": [
    "### Print logs and results"
   ]
  },
  {
   "cell_type": "code",
   "execution_count": 11,
   "metadata": {},
   "outputs": [
    {
     "name": "stdout",
     "output_type": "stream",
     "text": [
      "F 1260.0 | FPS 3673 | D 0 | R:μσmM 0.92 0.03 0.83 0.98 | F:μσmM 12.5 4.6 3.0 27.0\n",
      "\n",
      "10 worst episodes:\n",
      "- episode 23: R=0.831250011920929, F=27.0\n",
      "- episode 39: R=0.8374999761581421, F=26.0\n",
      "- episode 66: R=0.8374999761581421, F=26.0\n",
      "- episode 19: R=0.8500000238418579, F=24.0\n",
      "- episode 69: R=0.856249988079071, F=23.0\n",
      "- episode 35: R=0.875, F=20.0\n",
      "- episode 85: R=0.875, F=20.0\n",
      "- episode 13: R=0.8812500238418579, F=19.0\n",
      "- episode 65: R=0.8812500238418579, F=19.0\n",
      "- episode 95: R=0.8812500238418579, F=19.0\n"
     ]
    }
   ],
   "source": [
    "# Print logs\n",
    "\n",
    "num_frames = sum(logs[\"num_frames_per_episode\"])\n",
    "fps = num_frames/(end_time - start_time)\n",
    "duration = int(end_time - start_time)\n",
    "return_per_episode = utils.synthesize(logs[\"return_per_episode\"])\n",
    "num_frames_per_episode = utils.synthesize(logs[\"num_frames_per_episode\"])\n",
    "\n",
    "print(\"F {} | FPS {:.0f} | D {} | R:μσmM {:.2f} {:.2f} {:.2f} {:.2f} | F:μσmM {:.1f} {:.1f} {} {}\"\n",
    "      .format(num_frames, fps, duration,\n",
    "              *return_per_episode.values(),\n",
    "              *num_frames_per_episode.values()))\n",
    "\n",
    "# Print worst episodes\n",
    "\n",
    "n = args.worst_episodes_to_show\n",
    "if n > 0:\n",
    "    print(\"\\n{} worst episodes:\".format(n))\n",
    "\n",
    "    indexes = sorted(range(len(logs[\"return_per_episode\"])), key=lambda k: logs[\"return_per_episode\"][k])\n",
    "    for i in indexes[:n]:\n",
    "        print(\"- episode {}: R={}, F={}\".format(i, logs[\"return_per_episode\"][i], logs[\"num_frames_per_episode\"][i]))"
   ]
  },
  {
   "cell_type": "markdown",
   "metadata": {},
   "source": [
    "## Visualization"
   ]
  },
  {
   "cell_type": "markdown",
   "metadata": {},
   "source": [
    "### Load parameters"
   ]
  },
  {
   "cell_type": "code",
   "execution_count": null,
   "metadata": {},
   "outputs": [],
   "source": [
    "import array2gif\n",
    "from pathlib import Path\n",
    "import numpy\n",
    "\n",
    "## Hyper-parameters\n",
    "args = {\n",
    "# General parameters\n",
    "'env':args.env,\n",
    "'model':args.model,\n",
    "'seed':15,\n",
    "'shift':0,\n",
    "'argmax':False,\n",
    "'pause':0.1,\n",
    "'gif':args.model,\n",
    "'episodes':5,\n",
    "# Model Parameters\n",
    "'use_rim':args.use_rim,\n",
    "'num_units':args.num_units,\n",
    "'k':args.k\n",
    "}\n",
    "\n",
    "args = DictList(args)\n",
    "print(args)"
   ]
  },
  {
   "cell_type": "markdown",
   "metadata": {},
   "source": [
    "### Set environment, agent and logs"
   ]
  },
  {
   "cell_type": "code",
   "execution_count": null,
   "metadata": {},
   "outputs": [],
   "source": [
    "# Set seed for all randomness sources\n",
    "\n",
    "utils.seed(args.seed)\n",
    "\n",
    "# Set device\n",
    "\n",
    "device = torch.device(\"cuda\" if torch.cuda.is_available() else \"cpu\")\n",
    "print(f\"Device: {device}\\n\")\n",
    "\n",
    "# Load environment\n",
    "\n",
    "env = utils.make_env(args.env, args.seed)\n",
    "for _ in range(args.shift):\n",
    "    env.reset()\n",
    "print(\"Environment loaded\\n\")\n",
    "\n",
    "# Load agent\n",
    "\n",
    "model_dir = utils.get_model_dir(args.model)\n",
    "agent = utils.Agent(env.observation_space, env.action_space, model_dir, device, args.argmax, use_rim = args.use_rim, num_units = args.num_units, k = args.k)\n",
    "\n",
    "print(\"Agent loaded\\n\")"
   ]
  },
  {
   "cell_type": "markdown",
   "metadata": {},
   "source": [
    "### Make animation"
   ]
  },
  {
   "cell_type": "code",
   "execution_count": null,
   "metadata": {},
   "outputs": [],
   "source": [
    "%%capture\n",
    "# Run the agent\n",
    "\n",
    "if args.gif:\n",
    "   from array2gif import write_gif\n",
    "   frames = []\n",
    "\n",
    "# Create a window to view the environment\n",
    "env.render('human')\n",
    "\n",
    "for episode in range(args.episodes):\n",
    "    obs = env.reset()\n",
    "    done2 = False\n",
    "    while True:\n",
    "        env.render('human')\n",
    "        if args.gif:\n",
    "            frames.append(numpy.moveaxis(env.render(\"rgb_array\"), 2, 0))\n",
    "            \n",
    "\n",
    "        action = agent.get_action(obs)\n",
    "        obs, reward, done, _ = env.step(action)\n",
    "        agent.analyze_feedback(reward, done)\n",
    "        \n",
    "        if done or env.window.closed:\n",
    "            if episode == 4:\n",
    "                done2 = True\n",
    "            break\n",
    "    if done2 == True:\n",
    "        env.close()\n",
    "        break\n",
    "    #if env.window.closed:\n",
    "    #    break\n",
    "print('doneeee')\n",
    "if args.gif:\n",
    "    print(\"Saving gif... \", end=\"\")\n",
    "    utils.create_folders_if_necessary(\"./animation\")\n",
    "    #Path(\"./animation\").mkdir(parents=True, exist_ok=True)\n",
    "    write_gif(numpy.array(frames), \"./animation/\"+args.gif+\".gif\")\n",
    "    print(\"Done.\")"
   ]
  },
  {
   "cell_type": "code",
   "execution_count": null,
   "metadata": {},
   "outputs": [],
   "source": [
    "show_animation(args.model)"
   ]
  },
  {
   "cell_type": "markdown",
   "metadata": {},
   "source": [
    "### Make video"
   ]
  },
  {
   "cell_type": "code",
   "execution_count": null,
   "metadata": {},
   "outputs": [],
   "source": [
    "test_env = wrap_env(env)\n",
    "observation = test_env.reset()\n",
    "\n",
    "done = False\n",
    "episode_reward = 0\n",
    "episode_length = 0\n",
    "\n",
    "while not done:\n",
    "    action = agent.get_action(observation)\n",
    "    observation, reward, done, info = test_env.step(action)\n",
    "    episode_reward += reward\n",
    "    episode_length += 1\n",
    "\n",
    "print('Total reward:', episode_reward)\n",
    "print('Total length:', episode_length)\n",
    "\n",
    "test_env.close()\n",
    "show_video()"
   ]
  },
  {
   "cell_type": "markdown",
   "metadata": {},
   "source": [
    "# Continue RIMs learning on 2nd environment"
   ]
  },
  {
   "cell_type": "markdown",
   "metadata": {},
   "source": [
    "## Configuration"
   ]
  },
  {
   "cell_type": "markdown",
   "metadata": {},
   "source": [
    "### Set general parameters"
   ]
  },
  {
   "cell_type": "code",
   "execution_count": 12,
   "metadata": {},
   "outputs": [],
   "source": [
    "#env_id = 'MiniGrid-Empty-8x8-v0'\n",
    "#env_id = 'MiniGrid-LavaGapS5-v0'\n",
    "#env_id = 'MiniGrid-DoorKey-5x5-v0'\n",
    "env_id = 'MiniGrid-DoorKey-6x6-v0'\n",
    "#env_id = 'MiniGrid-Empty-Random-6x6-v0'\n",
    "#env_id = 'MiniGrid-Empty-5x5-v0'\n",
    "\n",
    "#model = 'MiniGrid-DoorKey-6x6-v0_meta_RIM_5_3_frames_500k_tasks_2_recur_64_16_proc_16_RMSProp_lr_7e4_gae_099_newloop_changeseed'\n",
    "\n",
    "add_frames = 300000\n",
    "frames = frames + add_frames\n",
    "\n",
    "## Hyper-parameters\n",
    "args = {\n",
    "# General parameters\n",
    "'algo':'ppo',\n",
    "'env':env_id,\n",
    "'model':model,\n",
    "'seed':1,\n",
    "'log_interval':1,\n",
    "'save_interval':10,\n",
    "'procs':processes,\n",
    "'frames':frames, # default 1e7\n",
    "# Parameters for main algorithm\n",
    "'epochs':4,\n",
    "'batch_size':256,\n",
    "'frames_per_proc':128, # 128 for PPO and 5 per A2C\n",
    "'discount':0.99,\n",
    "#'lr':0.0001, # for Adam\n",
    "'lr':0.0007, # for RMSProp\n",
    "#'gae_lambda':0.95, # 1 means no gae, for Adam\n",
    "'gae_lambda':0.99, # 1 means no gae, for RMSProp\n",
    "'entropy_coef':0.01,\n",
    "'value_loss_coef':0.5,\n",
    "'max_grad_norm':0.5,\n",
    "'optim_eps':1e-8,\n",
    "'optim_alpha':0.99,\n",
    "'clip_eps':0.2,\n",
    "'recurrence':32, # if > 1, a LSTM is added\n",
    "'text':False, # add a GRU for text input\n",
    "# Model Parameters\n",
    "'use_rim':False # action = 'store_true'\n",
    "}\n",
    "\n",
    "#args = utils.dotdict(args)\n",
    "args = DictList(args)\n",
    "\n",
    "args.mem = args.recurrence > 1\n",
    "\n",
    "# RIM specific hyperparameters\n",
    "if args.use_rim:\n",
    "    args.num_units = 5\n",
    "    args.k = 3"
   ]
  },
  {
   "cell_type": "markdown",
   "metadata": {},
   "source": [
    "### Load previous loggers and settings"
   ]
  },
  {
   "cell_type": "code",
   "execution_count": 13,
   "metadata": {},
   "outputs": [
    {
     "name": "stdout",
     "output_type": "stream",
     "text": [
      "{'algo': 'ppo', 'env': 'MiniGrid-DoorKey-6x6-v0', 'model': 'MiniGrid-WallGapS6-v0_PPO_lstm_frames_600k_recur_32_proc_16_RMSProp_lr_7e4_gae_099_test_MiniGrid-DoorKey-6x6-v0', 'seed': 1, 'log_interval': 1, 'save_interval': 10, 'procs': 16, 'frames': 600000, 'epochs': 4, 'batch_size': 256, 'frames_per_proc': 128, 'discount': 0.99, 'lr': 0.0007, 'gae_lambda': 0.99, 'entropy_coef': 0.01, 'value_loss_coef': 0.5, 'max_grad_norm': 0.5, 'optim_eps': 1e-08, 'optim_alpha': 0.99, 'clip_eps': 0.2, 'recurrence': 32, 'text': False, 'use_rim': False, 'mem': True}\n",
      "\n",
      "Device: cpu\n",
      "\n"
     ]
    }
   ],
   "source": [
    "date = datetime.datetime.now().strftime(\"%y-%m-%d-%H-%M-%S\")\n",
    "default_model_name = f\"{args.env}_{args.algo}_seed{args.seed}_{date}\"\n",
    "\n",
    "model_name = args.model or default_model_name\n",
    "model_dir = utils.get_model_dir(model_name)\n",
    "\n",
    "# Load loggers and Tensorboard writer\n",
    "\n",
    "txt_logger = utils.get_txt_logger(model_dir)\n",
    "csv_file, csv_logger = utils.get_csv_logger(model_dir)\n",
    "tb_writer = tensorboardX.SummaryWriter(model_dir)\n",
    "\n",
    "# Log command and all script arguments\n",
    "\n",
    "#txt_logger.info(\"{}\\n\".format(\" \".join(sys.argv)))\n",
    "txt_logger.info(\"{}\\n\".format(args))\n",
    "\n",
    "# Set seed for all randomness sources\n",
    "\n",
    "utils.seed(args.seed)\n",
    "\n",
    "# Set device\n",
    "\n",
    "device = torch.device(\"cuda\" if torch.cuda.is_available() else \"cpu\")\n",
    "txt_logger.info(f\"Device: {device}\\n\")"
   ]
  },
  {
   "cell_type": "markdown",
   "metadata": {},
   "source": [
    "### Load existing environments, model and training status (TEST for CF)"
   ]
  },
  {
   "cell_type": "code",
   "execution_count": 14,
   "metadata": {},
   "outputs": [
    {
     "name": "stdout",
     "output_type": "stream",
     "text": [
      "Environments loaded\n",
      "\n"
     ]
    }
   ],
   "source": [
    "# Load environments\n",
    "\n",
    "envs = []\n",
    "for i in range(args.procs):\n",
    "    envs.append(utils.make_env(args.env, args.seed + 10000 * i))\n",
    "txt_logger.info(\"Environments loaded\\n\")\n",
    "\n",
    "envs = make_envs(args.env, args.procs, args.seed)\n",
    "\n",
    "algo.env = envs"
   ]
  },
  {
   "cell_type": "markdown",
   "metadata": {},
   "source": [
    "### Load existing environments, model and training status"
   ]
  },
  {
   "cell_type": "code",
   "execution_count": null,
   "metadata": {},
   "outputs": [],
   "source": [
    "# Load environments\n",
    "\n",
    "envs = []\n",
    "for i in range(args.procs):\n",
    "    envs.append(utils.make_env(args.env, args.seed + 10000 * i))\n",
    "txt_logger.info(\"Environments loaded\\n\")\n",
    "\n",
    "# Load training status\n",
    "\n",
    "try:\n",
    "    status = utils.get_status(model_dir)\n",
    "except OSError:\n",
    "    status = {\"num_frames\": 0, \"update\": 0}\n",
    "txt_logger.info(\"Training status loaded\\n\")\n",
    "\n",
    "# Load observations preprocessor\n",
    "\n",
    "obs_space, preprocess_obss = utils.get_obss_preprocessor(envs[0].observation_space)\n",
    "if \"vocab\" in status:\n",
    "    preprocess_obss.vocab.load_vocab(status[\"vocab\"])\n",
    "txt_logger.info(\"Observations preprocessor loaded\")\n",
    "\n",
    "# Load model\n",
    "\n",
    "acmodel = ACModel(obs_space, envs[0].action_space, args.mem, args.text, args.use_rim, args.num_units, args.k)\n",
    "if \"model_state\" in status:\n",
    "    acmodel.load_state_dict(status[\"model_state\"])\n",
    "acmodel.to(device)\n",
    "txt_logger.info(\"Model loaded\\n\")\n",
    "txt_logger.info(\"{}\\n\".format(acmodel))\n",
    "\n",
    "# Load algo\n",
    "\n",
    "if args.algo == \"a2c\":\n",
    "    algo = torch_ac.A2CAlgo(envs, acmodel, device, args.frames_per_proc, args.discount, args.lr, args.gae_lambda,\n",
    "                            args.entropy_coef, args.value_loss_coef, args.max_grad_norm, args.recurrence,\n",
    "                            args.optim_alpha, args.optim_eps, preprocess_obss)\n",
    "elif args.algo == \"ppo\":\n",
    "    algo = torch_ac.PPOAlgo(envs, acmodel, device, args.frames_per_proc, args.discount, args.lr, args.gae_lambda,\n",
    "                            args.entropy_coef, args.value_loss_coef, args.max_grad_norm, args.recurrence,\n",
    "                            args.optim_eps, args.clip_eps, args.epochs, args.batch_size, preprocess_obss)\n",
    "else:\n",
    "    raise ValueError(\"Incorrect algorithm name: {}\".format(args.algo))\n",
    "\n",
    "# change to RMSProp optimizer\n",
    "algo.optimizer = torch.optim.RMSprop(algo.acmodel.parameters(), args.lr, eps=args.optim_eps)\n",
    "\n",
    "if \"optimizer_state\" in status:\n",
    "    algo.optimizer.load_state_dict(status[\"optimizer_state\"])\n",
    "txt_logger.info(\"Optimizer loaded\\n\")"
   ]
  },
  {
   "cell_type": "markdown",
   "metadata": {},
   "source": [
    "## Continue training"
   ]
  },
  {
   "cell_type": "code",
   "execution_count": 15,
   "metadata": {},
   "outputs": [
    {
     "name": "stdout",
     "output_type": "stream",
     "text": [
      "U 71 | F 145408 | FPS 0677 | D 3 | rR:μσmM 0.90 0.06 0.71 0.96 | F:μσmM 23.6 28.1 7.0 122.0 | H 1.704 | V 0.479 | pL 0.214 | vL 0.007 | ∇ 0.192\n",
      "U 72 | F 147456 | FPS 0694 | D 5 | rR:μσmM 0.83 0.18 0.36 0.96 | F:μσmM 52.8 79.5 7.0 265.0 | H 1.722 | V 0.298 | pL 0.151 | vL 0.002 | ∇ 0.113\n",
      "U 73 | F 149504 | FPS 0663 | D 9 | rR:μσmM 0.16 0.27 0.00 0.86 | F:μσmM 315.8 95.4 60.0 380.0 | H 1.739 | V 0.141 | pL 0.184 | vL 0.005 | ∇ 0.127\n",
      "U 74 | F 151552 | FPS 0648 | D 12 | rR:μσmM 0.08 0.20 0.00 0.77 | F:μσmM 341.4 69.7 93.0 380.0 | H 1.815 | V 0.115 | pL 0.041 | vL 0.006 | ∇ 0.060\n",
      "U 75 | F 153600 | FPS 0694 | D 15 | rR:μσmM 0.21 0.29 0.00 0.77 | F:μσmM 296.5 99.7 93.0 378.0 | H 1.829 | V 0.113 | pL 0.026 | vL 0.005 | ∇ 0.084\n",
      "U 76 | F 155648 | FPS 0697 | D 18 | rR:μσmM 0.21 0.28 0.00 0.71 | F:μσmM 290.9 93.3 114.0 360.0 | H 1.866 | V 0.067 | pL 0.008 | vL 0.008 | ∇ 0.081\n",
      "U 77 | F 157696 | FPS 0706 | D 21 | rR:μσmM 0.18 0.28 0.00 0.80 | F:μσmM 299.6 95.3 81.0 360.0 | H 1.888 | V 0.030 | pL 0.011 | vL 0.002 | ∇ 0.035\n",
      "U 78 | F 159744 | FPS 0705 | D 23 | rR:μσmM 0.08 0.21 0.00 0.80 | F:μσmM 334.7 72.2 81.0 360.0 | H 1.906 | V 0.014 | pL 0.004 | vL 0.001 | ∇ 0.021\n",
      "U 79 | F 161792 | FPS 0724 | D 26 | rR:μσmM 0.05 0.12 0.00 0.41 | F:μσmM 346.8 35.8 234.0 360.0 | H 1.916 | V 0.024 | pL -0.002 | vL 0.003 | ∇ 0.045\n",
      "U 80 | F 163840 | FPS 0735 | D 29 | rR:μσmM 0.15 0.27 0.00 0.82 | F:μσmM 311.8 91.0 73.0 360.0 | H 1.911 | V 0.034 | pL -0.025 | vL 0.006 | ∇ 0.057\n",
      "Status saved\n",
      "U 81 | F 165888 | FPS 0741 | D 32 | rR:μσmM 0.27 0.32 0.00 0.92 | F:μσmM 274.0 110.4 31.0 360.0 | H 1.891 | V 0.056 | pL -0.013 | vL 0.010 | ∇ 0.082\n",
      "U 82 | F 167936 | FPS 0730 | D 35 | rR:μσmM 0.31 0.36 0.00 0.92 | F:μσmM 256.6 125.3 31.0 360.0 | H 1.904 | V 0.062 | pL -0.040 | vL 0.018 | ∇ 0.150\n",
      "U 83 | F 169984 | FPS 0711 | D 38 | rR:μσmM 0.34 0.35 0.00 0.88 | F:μσmM 244.8 123.5 50.0 360.0 | H 1.897 | V 0.062 | pL -0.010 | vL 0.007 | ∇ 0.075\n",
      "U 84 | F 172032 | FPS 0703 | D 41 | rR:μσmM 0.29 0.31 0.00 0.86 | F:μσmM 267.8 106.7 56.0 360.0 | H 1.911 | V 0.042 | pL -0.002 | vL 0.005 | ∇ 0.049\n",
      "U 85 | F 174080 | FPS 0709 | D 43 | rR:μσmM 0.21 0.26 0.00 0.67 | F:μσmM 295.1 85.6 133.0 360.0 | H 1.908 | V 0.037 | pL -0.004 | vL 0.003 | ∇ 0.032\n",
      "U 86 | F 176128 | FPS 0703 | D 46 | rR:μσmM 0.28 0.28 0.00 0.71 | F:μσmM 270.3 97.1 114.0 360.0 | H 1.891 | V 0.102 | pL -0.050 | vL 0.012 | ∇ 0.090\n",
      "U 87 | F 178176 | FPS 0721 | D 49 | rR:μσmM 0.41 0.33 0.00 0.81 | F:μσmM 223.1 115.3 74.0 360.0 | H 1.878 | V 0.099 | pL -0.055 | vL 0.015 | ∇ 0.143\n",
      "U 88 | F 180224 | FPS 0723 | D 52 | rR:μσmM 0.35 0.34 0.00 0.81 | F:μσmM 241.1 118.7 74.0 360.0 | H 1.887 | V 0.107 | pL 0.043 | vL 0.007 | ∇ 0.065\n",
      "U 89 | F 182272 | FPS 0665 | D 55 | rR:μσmM 0.33 0.28 0.00 0.78 | F:μσmM 253.4 95.4 88.0 360.0 | H 1.859 | V 0.152 | pL 0.013 | vL 0.011 | ∇ 0.075\n",
      "U 90 | F 184320 | FPS 0727 | D 58 | rR:μσmM 0.36 0.32 0.00 0.83 | F:μσmM 240.0 109.3 68.0 360.0 | H 1.874 | V 0.105 | pL -0.005 | vL 0.006 | ∇ 0.072\n",
      "Status saved\n",
      "U 91 | F 186368 | FPS 0713 | D 61 | rR:μσmM 0.36 0.33 0.00 0.88 | F:μσmM 241.2 118.2 46.0 360.0 | H 1.878 | V 0.083 | pL 0.006 | vL 0.008 | ∇ 0.048\n",
      "U 92 | F 188416 | FPS 0719 | D 64 | rR:μσmM 0.36 0.36 0.00 0.96 | F:μσmM 240.5 125.4 17.0 360.0 | H 1.876 | V 0.102 | pL -0.027 | vL 0.017 | ∇ 0.112\n",
      "U 93 | F 190464 | FPS 0716 | D 67 | rR:μσmM 0.32 0.32 0.00 0.82 | F:μσmM 258.2 114.8 70.0 360.0 | H 1.874 | V 0.122 | pL -0.042 | vL 0.011 | ∇ 0.064\n",
      "U 94 | F 192512 | FPS 0728 | D 69 | rR:μσmM 0.42 0.27 0.00 0.82 | F:μσmM 223.4 95.8 70.0 360.0 | H 1.864 | V 0.147 | pL -0.007 | vL 0.010 | ∇ 0.074\n",
      "U 95 | F 194560 | FPS 0742 | D 72 | rR:μσmM 0.47 0.30 0.00 0.87 | F:μσmM 200.4 102.7 51.0 360.0 | H 1.857 | V 0.127 | pL 0.011 | vL 0.007 | ∇ 0.073\n",
      "U 96 | F 196608 | FPS 0723 | D 75 | rR:μσmM 0.46 0.33 0.00 0.92 | F:μσmM 210.4 121.6 31.0 360.0 | H 1.818 | V 0.148 | pL -0.037 | vL 0.026 | ∇ 0.128\n",
      "U 97 | F 198656 | FPS 0747 | D 78 | rR:μσmM 0.57 0.30 0.00 0.89 | F:μσmM 167.9 109.2 44.0 360.0 | H 1.808 | V 0.219 | pL -0.013 | vL 0.012 | ∇ 0.105\n",
      "U 98 | F 200704 | FPS 0762 | D 80 | rR:μσmM 0.58 0.27 0.00 0.92 | F:μσmM 166.2 104.3 34.0 360.0 | H 1.792 | V 0.235 | pL 0.004 | vL 0.023 | ∇ 0.159\n",
      "U 99 | F 202752 | FPS 0732 | D 83 | rR:μσmM 0.61 0.26 0.00 0.93 | F:μσmM 155.6 99.7 30.0 360.0 | H 1.775 | V 0.271 | pL -0.001 | vL 0.017 | ∇ 0.126\n",
      "U 100 | F 204800 | FPS 0722 | D 86 | rR:μσmM 0.65 0.24 0.00 0.92 | F:μσmM 136.8 88.7 31.0 360.0 | H 1.783 | V 0.252 | pL -0.027 | vL 0.023 | ∇ 0.139\n",
      "Status saved\n",
      "U 101 | F 206848 | FPS 0719 | D 89 | rR:μσmM 0.62 0.22 0.00 0.91 | F:μσmM 150.1 82.5 35.0 360.0 | H 1.834 | V 0.204 | pL 0.007 | vL 0.010 | ∇ 0.115\n",
      "U 102 | F 208896 | FPS 0719 | D 92 | rR:μσmM 0.55 0.32 0.00 0.95 | F:μσmM 173.4 117.2 19.0 360.0 | H 1.795 | V 0.234 | pL -0.006 | vL 0.019 | ∇ 0.149\n",
      "U 103 | F 210944 | FPS 0683 | D 95 | rR:μσmM 0.59 0.31 0.00 0.92 | F:μσmM 154.8 109.9 34.0 360.0 | H 1.801 | V 0.257 | pL -0.031 | vL 0.016 | ∇ 0.103\n",
      "U 104 | F 212992 | FPS 0669 | D 98 | rR:μσmM 0.57 0.30 0.00 0.91 | F:μσmM 169.5 113.6 36.0 360.0 | H 1.759 | V 0.295 | pL -0.066 | vL 0.023 | ∇ 0.163\n",
      "U 105 | F 215040 | FPS 0619 | D 101 | rR:μσmM 0.79 0.17 0.22 0.95 | F:μσmM 85.3 67.3 18.0 310.0 | H 1.732 | V 0.383 | pL 0.006 | vL 0.015 | ∇ 0.113\n",
      "U 106 | F 217088 | FPS 0742 | D 104 | rR:μσmM 0.72 0.17 0.23 0.93 | F:μσmM 110.3 68.2 28.0 307.0 | H 1.710 | V 0.403 | pL -0.019 | vL 0.019 | ∇ 0.136\n",
      "U 107 | F 219136 | FPS 0729 | D 107 | rR:μσmM 0.77 0.19 0.19 0.93 | F:μσmM 91.6 76.5 29.0 324.0 | H 1.721 | V 0.436 | pL -0.006 | vL 0.017 | ∇ 0.134\n",
      "U 108 | F 221184 | FPS 0737 | D 110 | rR:μσmM 0.79 0.11 0.51 0.94 | F:μσmM 85.2 42.4 22.0 195.0 | H 1.703 | V 0.450 | pL 0.013 | vL 0.010 | ∇ 0.140\n",
      "U 109 | F 223232 | FPS 0728 | D 112 | rR:μσmM 0.75 0.17 0.29 0.93 | F:μσmM 99.1 69.8 27.0 282.0 | H 1.717 | V 0.369 | pL -0.007 | vL 0.019 | ∇ 0.120\n",
      "U 110 | F 225280 | FPS 0753 | D 115 | rR:μσmM 0.79 0.18 0.22 0.94 | F:μσmM 83.2 72.8 26.0 314.0 | H 1.659 | V 0.520 | pL -0.061 | vL 0.016 | ∇ 0.148\n",
      "Status saved\n",
      "U 111 | F 227328 | FPS 0734 | D 118 | rR:μσmM 0.85 0.10 0.45 0.96 | F:μσmM 60.6 39.8 17.0 219.0 | H 1.645 | V 0.510 | pL -0.053 | vL 0.020 | ∇ 0.167\n",
      "U 112 | F 229376 | FPS 0708 | D 121 | rR:μσmM 0.83 0.11 0.51 0.95 | F:μσmM 67.1 43.3 18.0 196.0 | H 1.649 | V 0.510 | pL -0.033 | vL 0.018 | ∇ 0.158\n",
      "U 113 | F 231424 | FPS 0774 | D 123 | rR:μσmM 0.83 0.16 0.14 0.96 | F:μσmM 66.1 62.3 15.0 343.0 | H 1.628 | V 0.504 | pL 0.013 | vL 0.020 | ∇ 0.130\n",
      "U 114 | F 233472 | FPS 0755 | D 126 | rR:μσmM 0.84 0.11 0.55 0.96 | F:μσmM 63.6 43.0 15.0 180.0 | H 1.630 | V 0.553 | pL -0.022 | vL 0.016 | ∇ 0.149\n",
      "U 115 | F 235520 | FPS 0758 | D 129 | rR:μσmM 0.86 0.13 0.32 0.96 | F:μσmM 57.3 53.5 15.0 271.0 | H 1.568 | V 0.594 | pL 0.003 | vL 0.014 | ∇ 0.149\n",
      "U 116 | F 237568 | FPS 0738 | D 132 | rR:μσmM 0.87 0.07 0.67 0.96 | F:μσmM 52.5 29.8 14.0 132.0 | H 1.571 | V 0.621 | pL -0.028 | vL 0.011 | ∇ 0.129\n",
      "U 117 | F 239616 | FPS 0738 | D 134 | rR:μσmM 0.87 0.07 0.72 0.95 | F:μσmM 50.4 26.1 20.0 111.0 | H 1.515 | V 0.604 | pL -0.018 | vL 0.012 | ∇ 0.135\n",
      "U 118 | F 241664 | FPS 0754 | D 137 | rR:μσmM 0.90 0.07 0.64 0.97 | F:μσmM 41.2 27.2 11.0 143.0 | H 1.454 | V 0.725 | pL -0.019 | vL 0.009 | ∇ 0.125\n",
      "U 119 | F 243712 | FPS 0775 | D 140 | rR:μσmM 0.91 0.04 0.81 0.96 | F:μσmM 37.3 16.4 15.0 78.0 | H 1.421 | V 0.725 | pL 0.024 | vL 0.008 | ∇ 0.093\n",
      "U 120 | F 245760 | FPS 0776 | D 143 | rR:μσmM 0.90 0.05 0.70 0.97 | F:μσmM 39.8 21.2 12.0 119.0 | H 1.436 | V 0.699 | pL 0.014 | vL 0.007 | ∇ 0.092\n",
      "Status saved\n",
      "U 121 | F 247808 | FPS 0761 | D 145 | rR:μσmM 0.89 0.13 0.00 0.96 | F:μσmM 41.3 47.7 14.0 360.0 | H 1.477 | V 0.698 | pL 0.010 | vL 0.008 | ∇ 0.105\n",
      "U 122 | F 249856 | FPS 0751 | D 148 | rR:μσmM 0.91 0.05 0.69 0.98 | F:μσmM 34.7 19.0 10.0 122.0 | H 1.409 | V 0.747 | pL -0.001 | vL 0.007 | ∇ 0.100\n",
      "U 123 | F 251904 | FPS 0714 | D 151 | rR:μσmM 0.91 0.04 0.78 0.98 | F:μσmM 34.9 15.2 10.0 87.0 | H 1.399 | V 0.761 | pL -0.005 | vL 0.005 | ∇ 0.076\n",
      "U 124 | F 253952 | FPS 0718 | D 154 | rR:μσmM 0.92 0.04 0.76 0.97 | F:μσmM 30.0 15.7 13.0 96.0 | H 1.365 | V 0.752 | pL -0.020 | vL 0.007 | ∇ 0.082\n",
      "U 125 | F 256000 | FPS 0720 | D 157 | rR:μσmM 0.92 0.04 0.78 0.98 | F:μσmM 31.6 14.4 10.0 89.0 | H 1.352 | V 0.759 | pL -0.029 | vL 0.006 | ∇ 0.098\n",
      "U 126 | F 258048 | FPS 0728 | D 159 | rR:μσmM 0.92 0.04 0.77 0.97 | F:μσmM 31.2 15.1 11.0 90.0 | H 1.342 | V 0.762 | pL -0.023 | vL 0.005 | ∇ 0.085\n",
      "U 127 | F 260096 | FPS 0731 | D 162 | rR:μσmM 0.93 0.04 0.69 0.97 | F:μσmM 28.9 16.5 12.0 125.0 | H 1.339 | V 0.782 | pL -0.031 | vL 0.005 | ∇ 0.095\n",
      "U 128 | F 262144 | FPS 0744 | D 165 | rR:μσmM 0.93 0.03 0.81 0.98 | F:μσmM 28.6 12.5 9.0 75.0 | H 1.379 | V 0.771 | pL -0.010 | vL 0.006 | ∇ 0.070\n",
      "U 129 | F 264192 | FPS 0776 | D 168 | rR:μσmM 0.92 0.04 0.71 0.97 | F:μσmM 31.9 17.1 11.0 115.0 | H 1.361 | V 0.778 | pL -0.003 | vL 0.004 | ∇ 0.059\n",
      "Number of frames:  266240\n"
     ]
    }
   ],
   "source": [
    "# Train model\n",
    "\n",
    "num_frames = status[\"num_frames\"]\n",
    "update = status[\"update\"]\n",
    "start_time = time.time()\n",
    "\n",
    "# Moving average parameters\n",
    "threshold = 0.90\n",
    "window = 10\n",
    "rreturn_total = 0\n",
    "i = 0\n",
    "\n",
    "while num_frames < args.frames:\n",
    "    # Update model parameters\n",
    "\n",
    "    update_start_time = time.time()\n",
    "    exps, logs1 = algo.collect_experiences()\n",
    "    logs2 = algo.update_parameters(exps)\n",
    "    logs = {**logs1, **logs2}\n",
    "    update_end_time = time.time()\n",
    "\n",
    "    num_frames += logs[\"num_frames\"]\n",
    "    update += 1\n",
    "\n",
    "    # Print logs\n",
    "\n",
    "    if update % args.log_interval == 0:\n",
    "        fps = logs[\"num_frames\"]/(update_end_time - update_start_time)\n",
    "        duration = int(time.time() - start_time)\n",
    "        return_per_episode = utils.synthesize(logs[\"return_per_episode\"])\n",
    "        rreturn_per_episode = utils.synthesize(logs[\"reshaped_return_per_episode\"])\n",
    "        num_frames_per_episode = utils.synthesize(logs[\"num_frames_per_episode\"])\n",
    "        # Moving average to break loop if mean reward threshold reached\n",
    "        rreturn_total +=rreturn_per_episode['mean']\n",
    "        i+=1\n",
    "        if i >= window:\n",
    "            rreturn_mavg = rreturn_total / i\n",
    "            if rreturn_mavg >= threshold:\n",
    "                break_flag = True \n",
    "                break\n",
    "            else:\n",
    "                i = 0\n",
    "                rreturn_total = 0\n",
    "\n",
    "        header = [\"update\", \"frames\", \"FPS\", \"duration\"]\n",
    "        data = [update, num_frames, fps, duration]\n",
    "        header += [\"rreturn_\" + key for key in rreturn_per_episode.keys()]\n",
    "        data += rreturn_per_episode.values()\n",
    "        header += [\"num_frames_\" + key for key in num_frames_per_episode.keys()]\n",
    "        data += num_frames_per_episode.values()\n",
    "        header += [\"entropy\", \"value\", \"policy_loss\", \"value_loss\", \"grad_norm\"]\n",
    "        data += [logs[\"entropy\"], logs[\"value\"], logs[\"policy_loss\"], logs[\"value_loss\"], logs[\"grad_norm\"]]\n",
    "\n",
    "        txt_logger.info(\n",
    "            \"U {} | F {:06} | FPS {:04.0f} | D {} | rR:μσmM {:.2f} {:.2f} {:.2f} {:.2f} | F:μσmM {:.1f} {:.1f} {} {} | H {:.3f} | V {:.3f} | pL {:.3f} | vL {:.3f} | ∇ {:.3f}\"\n",
    "            .format(*data))\n",
    "\n",
    "        header += [\"return_\" + key for key in return_per_episode.keys()]\n",
    "        data += return_per_episode.values()\n",
    "\n",
    "        if status[\"num_frames\"] == 0:\n",
    "            csv_logger.writerow(header)\n",
    "        csv_logger.writerow(data)\n",
    "        csv_file.flush()\n",
    "\n",
    "        for field, value in zip(header, data):\n",
    "            tb_writer.add_scalar(field, value, num_frames)\n",
    "\n",
    "    # Save status\n",
    "\n",
    "    if args.save_interval > 0 and update % args.save_interval == 0:\n",
    "        status = {\"num_frames\": num_frames, \"update\": update,\n",
    "                  \"model_state\": acmodel.state_dict(), \"optimizer_state\": algo.optimizer.state_dict()}\n",
    "        if hasattr(preprocess_obss, \"vocab\"):\n",
    "            status[\"vocab\"] = preprocess_obss.vocab.vocab\n",
    "        utils.save_status(status, model_dir)\n",
    "        txt_logger.info(\"Status saved\")\n",
    "\n",
    "print(\"Number of frames: \", num_frames)"
   ]
  },
  {
   "cell_type": "markdown",
   "metadata": {},
   "source": [
    "## Evaluate 2nd environment"
   ]
  },
  {
   "cell_type": "markdown",
   "metadata": {},
   "source": [
    "### Load parameters"
   ]
  },
  {
   "cell_type": "code",
   "execution_count": 16,
   "metadata": {},
   "outputs": [
    {
     "name": "stdout",
     "output_type": "stream",
     "text": [
      "{'algo': 'ppo', 'env': 'MiniGrid-DoorKey-6x6-v0', 'model': 'MiniGrid-WallGapS6-v0_PPO_lstm_frames_600k_recur_32_proc_16_RMSProp_lr_7e4_gae_099_test_MiniGrid-DoorKey-6x6-v0', 'seed': 2, 'log_interval': 1, 'save_interval': 10, 'procs': 16, 'frames': 600000, 'epochs': 4, 'batch_size': 256, 'frames_per_proc': 128, 'discount': 0.99, 'lr': 0.0007, 'gae_lambda': 0.99, 'entropy_coef': 0.01, 'value_loss_coef': 0.5, 'max_grad_norm': 0.5, 'optim_eps': 1e-08, 'optim_alpha': 0.99, 'clip_eps': 0.2, 'recurrence': 32, 'text': False, 'use_rim': False, 'mem': True, 'episodes': 100, 'argmax': False, 'worst_episodes_to_show': 10}\n",
      "Device: cpu\n",
      "\n"
     ]
    }
   ],
   "source": [
    "#env_id = 'MiniGrid-Empty-Random-6x6-v0'\n",
    "env_id = 'MiniGrid-DoorKey-6x6-v0'\n",
    "#env_id = 'MiniGrid-Empty-8x8-v0'\n",
    "#env_id = 'MiniGrid-LavaGapS5-v0'\n",
    "args.env = env_id\n",
    "\n",
    "## Hyper-parameters\n",
    "args.env = env_id\n",
    "args.episodes = 100\n",
    "args.seed = 2\n",
    "args.argmax = False\n",
    "args.worst_episodes_to_show = 10\n",
    "print(args)\n",
    "\n",
    "# Set seed for all randomness sources\n",
    "utils.seed(args.seed)\n",
    "\n",
    "# Set device\n",
    "device = torch.device(\"cuda\" if torch.cuda.is_available() else \"cpu\")\n",
    "print(f\"Device: {device}\\n\")"
   ]
  },
  {
   "cell_type": "markdown",
   "metadata": {},
   "source": [
    "### Set environments, agent and logs"
   ]
  },
  {
   "cell_type": "code",
   "execution_count": 17,
   "metadata": {},
   "outputs": [
    {
     "name": "stdout",
     "output_type": "stream",
     "text": [
      "Environments loaded\n",
      "\n",
      "Agent loaded\n",
      "\n"
     ]
    }
   ],
   "source": [
    "# Load environments\n",
    "\n",
    "envs = []\n",
    "for i in range(args.procs):\n",
    "    env = utils.make_env(args.env, args.seed + 10000 * i)\n",
    "    envs.append(env)\n",
    "env = ParallelEnv(envs)\n",
    "print(\"Environments loaded\\n\")\n",
    "\n",
    "# Load agent\n",
    "\n",
    "model_dir = utils.get_model_dir(args.model)\n",
    "agent = utils.Agent(obs_space=env.observation_space, action_space=env.action_space, model_dir=model_dir, device=device, argmax=args.argmax, num_envs=args.procs, use_memory=args.mem, use_rim=args.use_rim)\n",
    "print(\"Agent loaded\\n\")\n",
    "\n",
    "# Initialize logs\n",
    "\n",
    "logs = {\"num_frames_per_episode\": [], \"return_per_episode\": []}"
   ]
  },
  {
   "cell_type": "markdown",
   "metadata": {},
   "source": [
    "### Run agent"
   ]
  },
  {
   "cell_type": "code",
   "execution_count": 18,
   "metadata": {},
   "outputs": [
    {
     "name": "stdout",
     "output_type": "stream",
     "text": [
      "Agent run completed\n",
      "\n"
     ]
    }
   ],
   "source": [
    "# Run agent\n",
    "\n",
    "start_time = time.time()\n",
    "\n",
    "obss = env.reset()\n",
    "\n",
    "log_done_counter = 0\n",
    "log_episode_return = torch.zeros(args.procs, device=device)\n",
    "log_episode_num_frames = torch.zeros(args.procs, device=device)\n",
    "\n",
    "while log_done_counter < args.episodes:\n",
    "    actions = agent.get_actions(obss)\n",
    "    obss, rewards, dones, _ = env.step(actions)\n",
    "    agent.analyze_feedbacks(rewards, dones)\n",
    "\n",
    "    log_episode_return += torch.tensor(rewards, device=device, dtype=torch.float)\n",
    "    log_episode_num_frames += torch.ones(args.procs, device=device)\n",
    "\n",
    "    for i, done in enumerate(dones):\n",
    "        if done:\n",
    "            log_done_counter += 1\n",
    "            logs[\"return_per_episode\"].append(log_episode_return[i].item())\n",
    "            logs[\"num_frames_per_episode\"].append(log_episode_num_frames[i].item())\n",
    "\n",
    "    mask = 1 - torch.tensor(dones, device=device, dtype=torch.float)\n",
    "    log_episode_return *= mask\n",
    "    log_episode_num_frames *= mask\n",
    "\n",
    "end_time = time.time()\n",
    "print(\"Agent run completed\\n\")"
   ]
  },
  {
   "cell_type": "markdown",
   "metadata": {},
   "source": [
    "### Print logs and results"
   ]
  },
  {
   "cell_type": "code",
   "execution_count": 19,
   "metadata": {},
   "outputs": [
    {
     "name": "stdout",
     "output_type": "stream",
     "text": [
      "F 3058.0 | FPS 4024 | D 0 | R:μσmM 0.93 0.03 0.76 0.98 | F:μσmM 30.0 13.7 10.0 94.0\n",
      "\n",
      "10 worst episodes:\n",
      "- episode 81: R=0.7649999856948853, F=94.0\n",
      "- episode 29: R=0.8349999785423279, F=66.0\n",
      "- episode 72: R=0.8399999737739563, F=64.0\n",
      "- episode 84: R=0.8450000286102295, F=62.0\n",
      "- episode 80: R=0.8550000190734863, F=58.0\n",
      "- episode 56: R=0.862500011920929, F=55.0\n",
      "- episode 20: R=0.8650000095367432, F=54.0\n",
      "- episode 33: R=0.8675000071525574, F=53.0\n",
      "- episode 26: R=0.8725000023841858, F=51.0\n",
      "- episode 79: R=0.8774999976158142, F=49.0\n"
     ]
    }
   ],
   "source": [
    "# Print logs\n",
    "\n",
    "num_frames = sum(logs[\"num_frames_per_episode\"])\n",
    "fps = num_frames/(end_time - start_time)\n",
    "duration = int(end_time - start_time)\n",
    "return_per_episode = utils.synthesize(logs[\"return_per_episode\"])\n",
    "num_frames_per_episode = utils.synthesize(logs[\"num_frames_per_episode\"])\n",
    "\n",
    "print(\"F {} | FPS {:.0f} | D {} | R:μσmM {:.2f} {:.2f} {:.2f} {:.2f} | F:μσmM {:.1f} {:.1f} {} {}\"\n",
    "      .format(num_frames, fps, duration,\n",
    "              *return_per_episode.values(),\n",
    "              *num_frames_per_episode.values()))\n",
    "\n",
    "# Print worst episodes\n",
    "\n",
    "n = args.worst_episodes_to_show\n",
    "if n > 0:\n",
    "    print(\"\\n{} worst episodes:\".format(n))\n",
    "\n",
    "    indexes = sorted(range(len(logs[\"return_per_episode\"])), key=lambda k: logs[\"return_per_episode\"][k])\n",
    "    for i in indexes[:n]:\n",
    "        print(\"- episode {}: R={}, F={}\".format(i, logs[\"return_per_episode\"][i], logs[\"num_frames_per_episode\"][i]))"
   ]
  },
  {
   "cell_type": "markdown",
   "metadata": {},
   "source": [
    "# Re-evaluate 1st environment and test CF"
   ]
  },
  {
   "cell_type": "markdown",
   "metadata": {},
   "source": [
    "## Evaluation"
   ]
  },
  {
   "cell_type": "markdown",
   "metadata": {},
   "source": [
    "### Load parameters"
   ]
  },
  {
   "cell_type": "code",
   "execution_count": 20,
   "metadata": {},
   "outputs": [
    {
     "name": "stdout",
     "output_type": "stream",
     "text": [
      "{'algo': 'ppo', 'env': 'MiniGrid-WallGapS6-v0', 'model': 'MiniGrid-WallGapS6-v0_PPO_lstm_frames_600k_recur_32_proc_16_RMSProp_lr_7e4_gae_099_test_MiniGrid-DoorKey-6x6-v0', 'seed': 3, 'log_interval': 1, 'save_interval': 10, 'procs': 16, 'frames': 600000, 'epochs': 4, 'batch_size': 256, 'frames_per_proc': 128, 'discount': 0.99, 'lr': 0.0007, 'gae_lambda': 0.99, 'entropy_coef': 0.01, 'value_loss_coef': 0.5, 'max_grad_norm': 0.5, 'optim_eps': 1e-08, 'optim_alpha': 0.99, 'clip_eps': 0.2, 'recurrence': 32, 'text': False, 'use_rim': False, 'mem': True, 'episodes': 100, 'argmax': False, 'worst_episodes_to_show': 10}\n",
      "Device: cpu\n",
      "\n"
     ]
    }
   ],
   "source": [
    "#env_id = 'MiniGrid-Empty-Random-6x6-v0'\n",
    "#env_id = 'MiniGrid-DoorKey-6x6-v0'\n",
    "#env_id = 'MiniGrid-Empty-8x8-v0'\n",
    "#env_id = 'MiniGrid-LavaGapS5-v0'\n",
    "env_id = 'MiniGrid-WallGapS6-v0'\n",
    "\n",
    "## Hyper-parameters\n",
    "args.env = env_id\n",
    "args.episodes = 100\n",
    "args.seed = 3\n",
    "args.argmax = False\n",
    "args.worst_episodes_to_show = 10\n",
    "print(args)\n",
    "\n",
    "# Set seed for all randomness sources\n",
    "utils.seed(args.seed)\n",
    "\n",
    "# Set device\n",
    "device = torch.device(\"cuda\" if torch.cuda.is_available() else \"cpu\")\n",
    "print(f\"Device: {device}\\n\")"
   ]
  },
  {
   "cell_type": "markdown",
   "metadata": {},
   "source": [
    "### Set environments, agent and logs"
   ]
  },
  {
   "cell_type": "code",
   "execution_count": 21,
   "metadata": {},
   "outputs": [
    {
     "name": "stdout",
     "output_type": "stream",
     "text": [
      "Environments loaded\n",
      "\n",
      "Agent loaded\n",
      "\n"
     ]
    }
   ],
   "source": [
    "# Load environments\n",
    "\n",
    "envs = []\n",
    "for i in range(args.procs):\n",
    "    env = utils.make_env(args.env, args.seed + 10000 * i)\n",
    "    envs.append(env)\n",
    "env = ParallelEnv(envs)\n",
    "print(\"Environments loaded\\n\")\n",
    "\n",
    "# Load agent\n",
    "\n",
    "model_dir = utils.get_model_dir(args.model)\n",
    "agent = utils.Agent(obs_space=env.observation_space, action_space=env.action_space, model_dir=model_dir, device=device, argmax=args.argmax, num_envs=args.procs, use_memory=args.mem, use_rim=args.use_rim)\n",
    "print(\"Agent loaded\\n\")\n",
    "\n",
    "# Initialize logs\n",
    "\n",
    "logs = {\"num_frames_per_episode\": [], \"return_per_episode\": []}"
   ]
  },
  {
   "cell_type": "markdown",
   "metadata": {},
   "source": [
    "### Run agent"
   ]
  },
  {
   "cell_type": "code",
   "execution_count": 22,
   "metadata": {},
   "outputs": [
    {
     "name": "stdout",
     "output_type": "stream",
     "text": [
      "Agent run completed\n",
      "\n"
     ]
    }
   ],
   "source": [
    "# Run agent\n",
    "\n",
    "start_time = time.time()\n",
    "\n",
    "obss = env.reset()\n",
    "\n",
    "log_done_counter = 0\n",
    "log_episode_return = torch.zeros(args.procs, device=device)\n",
    "log_episode_num_frames = torch.zeros(args.procs, device=device)\n",
    "\n",
    "while log_done_counter < args.episodes:\n",
    "    actions = agent.get_actions(obss)\n",
    "    obss, rewards, dones, _ = env.step(actions)\n",
    "    agent.analyze_feedbacks(rewards, dones)\n",
    "\n",
    "    log_episode_return += torch.tensor(rewards, device=device, dtype=torch.float)\n",
    "    log_episode_num_frames += torch.ones(args.procs, device=device)\n",
    "\n",
    "    for i, done in enumerate(dones):\n",
    "        if done:\n",
    "            log_done_counter += 1\n",
    "            logs[\"return_per_episode\"].append(log_episode_return[i].item())\n",
    "            logs[\"num_frames_per_episode\"].append(log_episode_num_frames[i].item())\n",
    "\n",
    "    mask = 1 - torch.tensor(dones, device=device, dtype=torch.float)\n",
    "    log_episode_return *= mask\n",
    "    log_episode_num_frames *= mask\n",
    "\n",
    "end_time = time.time()\n",
    "print(\"Agent run completed\\n\")"
   ]
  },
  {
   "cell_type": "markdown",
   "metadata": {},
   "source": [
    "### Print logs and results"
   ]
  },
  {
   "cell_type": "code",
   "execution_count": 23,
   "metadata": {},
   "outputs": [
    {
     "name": "stdout",
     "output_type": "stream",
     "text": [
      "F 5698.0 | FPS 3695 | D 1 | R:μσmM 0.62 0.39 0.00 0.97 | F:μσmM 57.0 56.0 5.0 144.0\n",
      "\n",
      "10 worst episodes:\n",
      "- episode 21: R=0.0, F=144.0\n",
      "- episode 22: R=0.0, F=144.0\n",
      "- episode 23: R=0.0, F=144.0\n",
      "- episode 24: R=0.0, F=144.0\n",
      "- episode 25: R=0.0, F=144.0\n",
      "- episode 26: R=0.0, F=144.0\n",
      "- episode 30: R=0.0, F=144.0\n",
      "- episode 31: R=0.0, F=144.0\n",
      "- episode 33: R=0.0, F=144.0\n",
      "- episode 37: R=0.0, F=144.0\n"
     ]
    }
   ],
   "source": [
    "# Print logs\n",
    "\n",
    "num_frames = sum(logs[\"num_frames_per_episode\"])\n",
    "fps = num_frames/(end_time - start_time)\n",
    "duration = int(end_time - start_time)\n",
    "return_per_episode = utils.synthesize(logs[\"return_per_episode\"])\n",
    "num_frames_per_episode = utils.synthesize(logs[\"num_frames_per_episode\"])\n",
    "\n",
    "print(\"F {} | FPS {:.0f} | D {} | R:μσmM {:.2f} {:.2f} {:.2f} {:.2f} | F:μσmM {:.1f} {:.1f} {} {}\"\n",
    "      .format(num_frames, fps, duration,\n",
    "              *return_per_episode.values(),\n",
    "              *num_frames_per_episode.values()))\n",
    "\n",
    "# Print worst episodes\n",
    "\n",
    "n = args.worst_episodes_to_show\n",
    "if n > 0:\n",
    "    print(\"\\n{} worst episodes:\".format(n))\n",
    "\n",
    "    indexes = sorted(range(len(logs[\"return_per_episode\"])), key=lambda k: logs[\"return_per_episode\"][k])\n",
    "    for i in indexes[:n]:\n",
    "        print(\"- episode {}: R={}, F={}\".format(i, logs[\"return_per_episode\"][i], logs[\"num_frames_per_episode\"][i]))"
   ]
  }
 ],
 "metadata": {
  "accelerator": "GPU",
  "colab": {
   "name": "test_minigrid_sb3_curriculum.ipynb",
   "provenance": []
  },
  "kernelspec": {
   "display_name": "tfm-rims",
   "language": "python",
   "name": "tfm-rims"
  },
  "language_info": {
   "codemirror_mode": {
    "name": "ipython",
    "version": 3
   },
   "file_extension": ".py",
   "mimetype": "text/x-python",
   "name": "python",
   "nbconvert_exporter": "python",
   "pygments_lexer": "ipython3",
   "version": "3.7.9"
  },
  "toc-autonumbering": true,
  "toc-showcode": false,
  "toc-showmarkdowntxt": false,
  "toc-showtags": false,
  "vscode": {
   "interpreter": {
    "hash": "d78c29e5a106d8e5aff5a2dd98f2f1ce9953cb30dd1c8e42e77397bf33d62cb1"
   }
  }
 },
 "nbformat": 4,
 "nbformat_minor": 4
}
