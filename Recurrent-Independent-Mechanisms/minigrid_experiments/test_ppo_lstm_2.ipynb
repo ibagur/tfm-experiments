{
 "cells": [
  {
   "cell_type": "markdown",
   "metadata": {
    "id": "MNF5-qJ7B0Q3"
   },
   "source": [
    "# MiniGrid settings"
   ]
  },
  {
   "cell_type": "markdown",
   "metadata": {
    "id": "AdM2FnEJB0Q8"
   },
   "source": [
    "## Basic Jupyter Setting"
   ]
  },
  {
   "cell_type": "code",
   "execution_count": 55,
   "metadata": {
    "executionInfo": {
     "elapsed": 319,
     "status": "ok",
     "timestamp": 1647123362972,
     "user": {
      "displayName": "Iñigo",
      "photoUrl": "https://lh3.googleusercontent.com/a/default-user=s64",
      "userId": "14378798962183195551"
     },
     "user_tz": -60
    },
    "id": "aycUmr6OB0Q8"
   },
   "outputs": [],
   "source": [
    "import numpy as np\n",
    "import matplotlib.pyplot as plt\n",
    "from pprint import pprint\n",
    "\n",
    "%matplotlib inline\n",
    "plt.rcParams['figure.figsize'] = (10.0, 8.0) # set default size of plots\n",
    "plt.rcParams['image.interpolation'] = 'nearest'\n",
    "plt.rcParams['image.cmap'] = 'gray'\n",
    "\n",
    "# for auto-reloading external modules\n",
    "# see http://stackoverflow.com/questions/1907993/autoreload-of-modules-in-ipython\n",
    "#%load_ext autoreload\n",
    "#%autoreload 2\n",
    "%reload_ext autoreload\n",
    "%autoreload 2"
   ]
  },
  {
   "cell_type": "markdown",
   "metadata": {
    "id": "ef0DdE0b4pLd"
   },
   "source": [
    "## Initial set-up"
   ]
  },
  {
   "cell_type": "markdown",
   "metadata": {
    "id": "PLM4YYcL5rBt"
   },
   "source": [
    "Import libraries and classes:"
   ]
  },
  {
   "cell_type": "code",
   "execution_count": 56,
   "metadata": {
    "id": "YgenDMtf4pLe"
   },
   "outputs": [],
   "source": [
    "# Imports\n",
    "import time\n",
    "import io\n",
    "import os\n",
    "import glob\n",
    "import torch\n",
    "import base64\n",
    "# import stable_baselines3\n",
    "\n",
    "import numpy as np\n",
    "import matplotlib.pyplot as plt\n",
    "from random import randint \n",
    "\n",
    "import gym\n",
    "from gym import spaces\n",
    "from gym.wrappers import Monitor\n",
    "import gym_minigrid\n",
    "from gym_minigrid.wrappers import FlatObsWrapper, ImgObsWrapper, RGBImgPartialObsWrapper"
   ]
  },
  {
   "cell_type": "markdown",
   "metadata": {
    "id": "28U_WEp25rBu"
   },
   "source": [
    "Define the video function:"
   ]
  },
  {
   "cell_type": "code",
   "execution_count": 3,
   "metadata": {
    "id": "d7eCH8Kf4pLf"
   },
   "outputs": [],
   "source": [
    "import base64\n",
    "import glob\n",
    "import io\n",
    "from IPython.display import HTML\n",
    "from IPython import display \n",
    "\n",
    "def show_video():\n",
    "    mp4list = glob.glob('video/*.mp4')\n",
    "    if len(mp4list) > 0:\n",
    "        mp4 = mp4list[0]\n",
    "        video = io.open(mp4, 'r+b').read()\n",
    "        encoded = base64.b64encode(video)\n",
    "        display.display(HTML(data='''<video alt=\"test\" autoplay \n",
    "                loop controls style=\"height: 400px;\">\n",
    "                <source src=\"data:video/mp4;base64,{0}\" type=\"video/mp4\" />\n",
    "             </video>'''.format(encoded.decode('ascii'))))\n",
    "    else:\n",
    "        print(\"Could not find video\")\n",
    "        \n",
    "def show_animation(experiment):\n",
    "    giflist = glob.glob('animation/*.gif')\n",
    "    if len(giflist) > 0:\n",
    "        matching = [s for s in giflist if experiment in s]\n",
    "        gif_path = matching[0]\n",
    "        b64 = base64.b64encode(open(gif_path,'rb').read()).decode('ascii')\n",
    "        display.display(HTML(f'<img src=\"data:image/gif;base64,{b64}\" height=\"400\" />'))\n",
    "    else:\n",
    "        print(\"Could not find animation\")"
   ]
  },
  {
   "cell_type": "markdown",
   "metadata": {
    "id": "KchGuXpd5rBv"
   },
   "source": [
    "Define the rendering wrappers:"
   ]
  },
  {
   "cell_type": "code",
   "execution_count": 4,
   "metadata": {
    "id": "Gdhk3Oep4pLf"
   },
   "outputs": [],
   "source": [
    "from gym.wrappers import Monitor\n",
    "\n",
    "# Define wrapper for CNN Policy\n",
    "def ImgRGBImgPartialObsWrapper(env):\n",
    "    return ImgObsWrapper(RGBImgPartialObsWrapper(env))\n",
    "\n",
    "# Monitor is a gym wrapper, which helps easy rendering of videos of the wrapped environment.\n",
    "def wrap_env(env):\n",
    "    env = Monitor(env, './video', force=True)\n",
    "    return env\n",
    "\n",
    "def gen_wrapped_env(env_name):\n",
    "    return wrap_env(FlatObsWrapper(gym.make(env_name)))\n",
    "\n",
    "def gen_wrapped_env_cnn(env_name):\n",
    "    return wrap_env(ImgObsWrapper(RGBImgPartialObsWrapper(gym.make(env_name))))"
   ]
  },
  {
   "cell_type": "markdown",
   "metadata": {},
   "source": [
    "Render an environment image:"
   ]
  },
  {
   "cell_type": "code",
   "execution_count": 6,
   "metadata": {
    "colab": {
     "base_uri": "https://localhost:8080/",
     "height": 269
    },
    "executionInfo": {
     "elapsed": 900,
     "status": "ok",
     "timestamp": 1647083269049,
     "user": {
      "displayName": "Iñigo",
      "photoUrl": "https://lh3.googleusercontent.com/a/default-user=s64",
      "userId": "14378798962183195551"
     },
     "user_tz": -60
    },
    "id": "B21JwGYn5rBv",
    "outputId": "54dfa526-2621-4f91-df2b-e4ff7a447aad"
   },
   "outputs": [
    {
     "data": {
      "image/png": "[encoded data removed]",
      "text/plain": [
       "<Figure size 400x400 with 1 Axes>"
      ]
     },
     "metadata": {},
     "output_type": "display_data"
    }
   ],
   "source": [
    "from random import randint\n",
    "#env_id = 'MiniGrid-Empty-5x5-v0'\n",
    "env_id = 'MiniGrid-Empty-Random-6x6-v0'\n",
    "#env_id = 'MiniGrid-Empty-8x8-v0'\n",
    "#env_id = 'MiniGrid-Empty-16x16-v0'\n",
    "#env_id = 'MiniGrid-DoorKey-6x6-v0'\n",
    "#env_id = 'BreakoutNoFrameskip-v4'\n",
    "#env_id = 'MiniGrid-DistShift1-v0'\n",
    "#env_id ='MiniGrid-UnlockPickup-v0'\n",
    "#env_id = 'MiniGrid-RedBlueDoors-6x6-v0'\n",
    "#env_id = 'MiniGrid-LavaGapS6-v0'\n",
    "\n",
    "eval_env = gym.make(env_id)\n",
    "eval_env.seed(10000+randint(0, 10))\n",
    "eval_env.reset()\n",
    "#random_action = eval_env.action_space.sample()\n",
    "#new_obs, reward, done, info = eval_env.step(random_action)\n",
    "\n",
    "before_img = eval_env.render('rgb_array')\n",
    "\n",
    "plt.figure(figsize = (4.,4.))\n",
    "plt.imshow(before_img);"
   ]
  },
  {
   "cell_type": "markdown",
   "metadata": {
    "id": "umY09KJP5rCI"
   },
   "source": [
    "# PPO+LSTM learning"
   ]
  },
  {
   "cell_type": "markdown",
   "metadata": {
    "id": "yPq1XkeL5rCI"
   },
   "source": [
    "## Define the environments"
   ]
  },
  {
   "cell_type": "markdown",
   "metadata": {},
   "source": [
    "### Import libraries"
   ]
  },
  {
   "cell_type": "code",
   "execution_count": 57,
   "metadata": {},
   "outputs": [],
   "source": [
    "import time\n",
    "import datetime\n",
    "import torch\n",
    "import torch_ac\n",
    "import tensorboardX\n",
    "import sys\n",
    "\n",
    "import utils\n",
    "from model import ACModel\n",
    "from torch_ac.utils import DictList, ParallelEnv"
   ]
  },
  {
   "cell_type": "markdown",
   "metadata": {},
   "source": [
    "### Helper functions"
   ]
  },
  {
   "cell_type": "code",
   "execution_count": 6,
   "metadata": {},
   "outputs": [],
   "source": [
    "def make_envs(env_id, procs, seed=None):\n",
    "    envs = []\n",
    "    for i in range(procs):\n",
    "        if seed:\n",
    "            e = utils.make_env(env_id, seed + 10000 * i)\n",
    "        else:\n",
    "            e = utils.make_env(env_id)\n",
    "        envs.append(e)\n",
    "    env = ParallelEnv(envs)\n",
    "    return env"
   ]
  },
  {
   "cell_type": "markdown",
   "metadata": {},
   "source": [
    "### Render Parallel environment snapshot"
   ]
  },
  {
   "cell_type": "code",
   "execution_count": 54,
   "metadata": {},
   "outputs": [
    {
     "data": {
      "image/png": "[encoded data removed]",
      "text/plain": [
       "<Figure size 800x800 with 32 Axes>"
      ]
     },
     "metadata": {},
     "output_type": "display_data"
    }
   ],
   "source": [
    "import matplotlib.pyplot as plt\n",
    "from mpl_toolkits.axes_grid1 import ImageGrid\n",
    "import numpy as np\n",
    "\n",
    "procs = 16\n",
    "max_tasks = 20\n",
    "seed_list = range(procs * max_tasks, (procs + 1) * max_tasks)\n",
    "\n",
    "#env_id = 'MiniGrid-Empty-Random-6x6-v0'\n",
    "#env_id = 'MiniGrid-Empty-5x5-v0'\n",
    "#env_id = 'MiniGrid-DoorKey-5x5-v0'\n",
    "env_id = 'MiniGrid-SimpleCrossingS9N1-v0'\n",
    "#env_id = 'MiniGrid-SimpleCrossingS9N2-v0'\n",
    "#env_id = 'MiniGrid-SimpleCrossingS9N3-v0'\n",
    "#env_id = 'MiniGrid-SimpleCrossingS11N5-v0'\n",
    "seed = 1\n",
    "env = make_envs(env_id, procs, seed)\n",
    "obs = env.reset()\n",
    "\n",
    "im_list = []\n",
    "for e in env.envs:\n",
    "    #print(type(e.render('rgb_array')))\n",
    "    #e.reset()\n",
    "    im_list.append(e.render('rgb_array'))\n",
    "\n",
    "fig = plt.figure(figsize=(8., 8.))\n",
    "grid = ImageGrid(fig, 111,  # similar to subplot(111)\n",
    "                 nrows_ncols=(4, 4),  # creates 2x2 grid of axes\n",
    "                 axes_pad=0.1,  # pad between axes in inch.\n",
    "                 )\n",
    "\n",
    "for ax, im in zip(grid, im_list):\n",
    "    # Iterating over the grid returns the Axes.\n",
    "    ax.imshow(im)\n",
    "\n",
    "#plt.show()\n"
   ]
  },
  {
   "cell_type": "markdown",
   "metadata": {},
   "source": [
    "## Configuration"
   ]
  },
  {
   "cell_type": "markdown",
   "metadata": {},
   "source": [
    "### Load parameters"
   ]
  },
  {
   "cell_type": "code",
   "execution_count": 73,
   "metadata": {},
   "outputs": [],
   "source": [
    "#env_id = 'MiniGrid-Empty-8x8-v0'\n",
    "#env_id = 'MiniGrid-LavaGapS5-v0'\n",
    "#env_id = 'MiniGrid-DoorKey-5x5-v0'\n",
    "#env_id = 'MiniGrid-DoorKey-5x5-v0'\n",
    "#env_id = 'MiniGrid-DoorKey-6x6-v0'\n",
    "#env_id = 'MiniGrid-WallGapS6-v0'\n",
    "#env_id = 'MiniGrid-Empty-Random-6x6-v0'\n",
    "#env_id = 'MiniGrid-Empty-5x5-v0'\n",
    "env_id = 'MiniGrid-SimpleCrossingS9N1-v0'\n",
    "#env_id = 'MiniGrid-SimpleCrossingS9N2-v0'\n",
    "#env_id = 'MiniGrid-SimpleCrossingS9N3-v0'\n",
    "#env_id = 'MiniGrid-SimpleCrossingS11N5-v0'\n",
    "#env_id = 'MiniGrid-LavaCrossingS9N2-v0'\n",
    "\n",
    "model = 'MiniGrid-SimpleCrossingS9N1-v0_PPO_lstm_frames_1M_recur_32_proc_16_RMSProp_lr_7e4_gae_099_test_MiniGrid-LavaCrossingS9N1-v0'\n",
    "frames = 1e6\n",
    "\n",
    "## Hyper-parameters\n",
    "args = {\n",
    "# General parameters\n",
    "'algo':'ppo',\n",
    "'env':env_id,\n",
    "'model':model,\n",
    "'seed':1,\n",
    "'log_interval':1,\n",
    "'save_interval':10,\n",
    "'procs':16,\n",
    "'frames':frames, # default 1e7\n",
    "# Parameters for main algorithm\n",
    "'epochs':4,\n",
    "'batch_size':256,\n",
    "'frames_per_proc':128, # 128 for PPO and 5 per A2C\n",
    "'discount':0.99,\n",
    "#'lr':0.0001, # for Adam\n",
    "'lr':0.0007, # for RMSProp\n",
    "#'gae_lambda':0.95, # 1 means no gae, for Adam\n",
    "'gae_lambda':0.99, # 1 means no gae, for RMSProp\n",
    "'entropy_coef':0.01,\n",
    "'value_loss_coef':0.5,\n",
    "'max_grad_norm':0.5,\n",
    "'optim_eps':1e-8,\n",
    "'optim_alpha':0.99,\n",
    "'clip_eps':0.2,\n",
    "'recurrence':32, # if > 1, a LSTM is added\n",
    "'text':False, # add a GRU for text input\n",
    "# Model Parameters\n",
    "'use_rim':False # action = 'store_true'\n",
    "}\n",
    "\n",
    "#args = utils.dotdict(args)\n",
    "args = DictList(args)\n",
    "\n",
    "args.mem = args.recurrence > 1\n",
    "\n",
    "# RIM specific hyperparameters\n",
    "if args.use_rim:\n",
    "    args.num_units = 5\n",
    "    args.k = 3"
   ]
  },
  {
   "cell_type": "markdown",
   "metadata": {},
   "source": [
    "### Initial settings"
   ]
  },
  {
   "cell_type": "code",
   "execution_count": 74,
   "metadata": {},
   "outputs": [
    {
     "name": "stdout",
     "output_type": "stream",
     "text": [
      "{'algo': 'ppo', 'env': 'MiniGrid-SimpleCrossingS9N1-v0', 'model': 'MiniGrid-SimpleCrossingS9N1-v0_PPO_lstm_frames_1M_recur_32_proc_16_RMSProp_lr_7e4_gae_099_test_MiniGrid-LavaCrossingS9N1-v0', 'seed': 1, 'log_interval': 1, 'save_interval': 10, 'procs': 16, 'frames': 1000000.0, 'epochs': 4, 'batch_size': 256, 'frames_per_proc': 128, 'discount': 0.99, 'lr': 0.0007, 'gae_lambda': 0.99, 'entropy_coef': 0.01, 'value_loss_coef': 0.5, 'max_grad_norm': 0.5, 'optim_eps': 1e-08, 'optim_alpha': 0.99, 'clip_eps': 0.2, 'recurrence': 32, 'text': False, 'use_rim': False, 'mem': True}\n",
      "\n",
      "Device: cpu\n",
      "\n"
     ]
    }
   ],
   "source": [
    "# Set run dir\n",
    "\n",
    "date = datetime.datetime.now().strftime(\"%y-%m-%d-%H-%M-%S\")\n",
    "default_model_name = f\"{args.env}_{args.algo}_seed{args.seed}_{date}\"\n",
    "\n",
    "model_name = args.model or default_model_name\n",
    "model_dir = utils.get_model_dir(model_name)\n",
    "\n",
    "# Load loggers and Tensorboard writer\n",
    "\n",
    "txt_logger = utils.get_txt_logger(model_dir)\n",
    "csv_file, csv_logger = utils.get_csv_logger(model_dir)\n",
    "tb_writer = tensorboardX.SummaryWriter(model_dir)\n",
    "\n",
    "# Log command and all script arguments\n",
    "\n",
    "#txt_logger.info(\"{}\\n\".format(\" \".join(sys.argv)))\n",
    "txt_logger.info(\"{}\\n\".format(args))\n",
    "\n",
    "# Set seed for all randomness sources\n",
    "\n",
    "utils.seed(args.seed)\n",
    "\n",
    "# Set device\n",
    "\n",
    "device = torch.device(\"cuda\" if torch.cuda.is_available() else \"cpu\")\n",
    "txt_logger.info(f\"Device: {device}\\n\")"
   ]
  },
  {
   "cell_type": "markdown",
   "metadata": {},
   "source": [
    "### Load environments, model, algo and prepare training settings"
   ]
  },
  {
   "cell_type": "code",
   "execution_count": 75,
   "metadata": {},
   "outputs": [
    {
     "name": "stdout",
     "output_type": "stream",
     "text": [
      "Environments loaded\n",
      "\n",
      "Training status loaded\n",
      "\n",
      "Observations preprocessor loaded\n",
      "Model loaded\n",
      "\n",
      "ACModel(\n",
      "  (image_conv): Sequential(\n",
      "    (0): Conv2d(3, 16, kernel_size=(2, 2), stride=(1, 1))\n",
      "    (1): ReLU()\n",
      "    (2): MaxPool2d(kernel_size=(2, 2), stride=(2, 2), padding=0, dilation=1, ceil_mode=False)\n",
      "    (3): Conv2d(16, 32, kernel_size=(2, 2), stride=(1, 1))\n",
      "    (4): ReLU()\n",
      "    (5): Conv2d(32, 64, kernel_size=(2, 2), stride=(1, 1))\n",
      "    (6): ReLU()\n",
      "  )\n",
      "  (memory_rnn): LSTMCell(64, 64)\n",
      "  (actor): Sequential(\n",
      "    (0): Linear(in_features=64, out_features=64, bias=True)\n",
      "    (1): Tanh()\n",
      "    (2): Linear(in_features=64, out_features=7, bias=True)\n",
      "  )\n",
      "  (critic): Sequential(\n",
      "    (0): Linear(in_features=64, out_features=64, bias=True)\n",
      "    (1): Tanh()\n",
      "    (2): Linear(in_features=64, out_features=1, bias=True)\n",
      "  )\n",
      ")\n",
      "\n",
      "Optimizer loaded\n",
      "\n"
     ]
    }
   ],
   "source": [
    "# Load environments\n",
    "\n",
    "envs = []\n",
    "for i in range(args.procs):\n",
    "    envs.append(utils.make_env(args.env, args.seed + 10000 * i))\n",
    "txt_logger.info(\"Environments loaded\\n\")\n",
    "\n",
    "# Load training status\n",
    "\n",
    "try:\n",
    "    status = utils.get_status(model_dir)\n",
    "except OSError:\n",
    "    status = {\"num_frames\": 0, \"update\": 0}\n",
    "txt_logger.info(\"Training status loaded\\n\")\n",
    "\n",
    "# Load observations preprocessor\n",
    "\n",
    "obs_space, preprocess_obss = utils.get_obss_preprocessor(envs[0].observation_space)\n",
    "if \"vocab\" in status:\n",
    "    preprocess_obss.vocab.load_vocab(status[\"vocab\"])\n",
    "txt_logger.info(\"Observations preprocessor loaded\")\n",
    "\n",
    "# Load model\n",
    "\n",
    "acmodel = ACModel(obs_space=obs_space, action_space=envs[0].action_space, use_memory=args.mem, use_text=args.text)\n",
    "if \"model_state\" in status:\n",
    "    acmodel.load_state_dict(status[\"model_state\"])\n",
    "acmodel.to(device)\n",
    "txt_logger.info(\"Model loaded\\n\")\n",
    "txt_logger.info(\"{}\\n\".format(acmodel))\n",
    "\n",
    "# Load algo\n",
    "\n",
    "if args.algo == \"a2c\":\n",
    "    algo = torch_ac.A2CAlgo(envs, acmodel, device, args.frames_per_proc, args.discount, args.lr, args.gae_lambda,\n",
    "                            args.entropy_coef, args.value_loss_coef, args.max_grad_norm, args.recurrence,\n",
    "                            args.optim_alpha, args.optim_eps, preprocess_obss)\n",
    "elif args.algo == \"ppo\":\n",
    "    algo = torch_ac.PPOAlgo(envs, acmodel, device, args.frames_per_proc, args.discount, args.lr, args.gae_lambda,\n",
    "                            args.entropy_coef, args.value_loss_coef, args.max_grad_norm, args.recurrence,\n",
    "                            args.optim_eps, args.clip_eps, args.epochs, args.batch_size, preprocess_obss)\n",
    "else:\n",
    "    raise ValueError(\"Incorrect algorithm name: {}\".format(args.algo))\n",
    "\n",
    "# change to RMSProp optimizer\n",
    "algo.optimizer = torch.optim.RMSprop(algo.acmodel.parameters(), args.lr, eps=args.optim_eps)\n",
    "\n",
    "if \"optimizer_state\" in status:\n",
    "    algo.optimizer.load_state_dict(status[\"optimizer_state\"])\n",
    "txt_logger.info(\"Optimizer loaded\\n\")"
   ]
  },
  {
   "cell_type": "markdown",
   "metadata": {},
   "source": [
    "## Training"
   ]
  },
  {
   "cell_type": "code",
   "execution_count": 76,
   "metadata": {},
   "outputs": [
    {
     "name": "stdout",
     "output_type": "stream",
     "text": [
      "U 1 | F 002048 | FPS 0351 | D 5 | rR:μσmM 0.00 0.00 0.00 0.00 | F:μσmM 0.0 0.0 0 0 | H 1.924 | V 0.056 | pL 0.030 | vL 0.000 | ∇ 0.012\n",
      "U 2 | F 004096 | FPS 0698 | D 8 | rR:μσmM 0.09 0.19 0.00 0.62 | F:μσmM 36.6 78.6 0.0 242.0 | H 1.918 | V 0.048 | pL -0.001 | vL 0.004 | ∇ 0.055\n",
      "U 3 | F 006144 | FPS 0641 | D 11 | rR:μσmM 0.09 0.19 0.00 0.62 | F:μσmM 299.9 53.7 136.0 324.0 | H 1.938 | V 0.027 | pL 0.025 | vL 0.000 | ∇ 0.011\n",
      "U 4 | F 008192 | FPS 0724 | D 14 | rR:μσmM 0.05 0.13 0.00 0.42 | F:μσmM 311.6 33.3 208.0 324.0 | H 1.943 | V 0.014 | pL 0.009 | vL 0.000 | ∇ 0.003\n",
      "U 5 | F 010240 | FPS 0736 | D 17 | rR:μσmM 0.00 0.00 0.00 0.00 | F:μσmM 324.0 0.0 324.0 324.0 | H 1.945 | V 0.005 | pL 0.003 | vL 0.000 | ∇ 0.003\n",
      "U 6 | F 012288 | FPS 0770 | D 20 | rR:μσmM 0.00 0.00 0.00 0.00 | F:μσmM 324.0 0.0 324.0 324.0 | H 1.945 | V 0.005 | pL 0.002 | vL 0.000 | ∇ 0.002\n",
      "U 7 | F 014336 | FPS 0720 | D 23 | rR:μσmM 0.05 0.13 0.00 0.46 | F:μσmM 310.6 36.4 195.0 324.0 | H 1.941 | V 0.025 | pL -0.012 | vL 0.004 | ∇ 0.046\n",
      "U 8 | F 016384 | FPS 0792 | D 25 | rR:μσmM 0.06 0.14 0.00 0.46 | F:μσmM 308.9 36.3 195.0 324.0 | H 1.942 | V 0.012 | pL 0.004 | vL 0.000 | ∇ 0.015\n",
      "U 9 | F 018432 | FPS 0746 | D 28 | rR:μσmM 0.04 0.12 0.00 0.46 | F:μσmM 314.2 31.5 195.0 324.0 | H 1.945 | V 0.015 | pL 0.009 | vL 0.000 | ∇ 0.005\n",
      "U 10 | F 020480 | FPS 0761 | D 31 | rR:μσmM 0.00 0.00 0.00 0.00 | F:μσmM 324.0 0.0 324.0 324.0 | H 1.945 | V 0.010 | pL 0.005 | vL 0.000 | ∇ 0.003\n",
      "Status saved\n",
      "U 11 | F 022528 | FPS 0749 | D 33 | rR:μσmM 0.00 0.00 0.00 0.00 | F:μσmM 324.0 0.0 324.0 324.0 | H 1.945 | V 0.012 | pL 0.006 | vL 0.000 | ∇ 0.002\n",
      "U 12 | F 024576 | FPS 0789 | D 36 | rR:μσmM 0.08 0.22 0.00 0.76 | F:μσmM 299.1 67.3 85.0 324.0 | H 1.938 | V 0.036 | pL -0.025 | vL 0.011 | ∇ 0.057\n",
      "U 13 | F 026624 | FPS 0715 | D 39 | rR:μσmM 0.08 0.22 0.00 0.76 | F:μσmM 299.1 67.3 85.0 324.0 | H 1.942 | V 0.005 | pL 0.006 | vL 0.000 | ∇ 0.004\n",
      "U 14 | F 028672 | FPS 0784 | D 42 | rR:μσmM 0.05 0.18 0.00 0.76 | F:μσmM 309.1 57.9 85.0 324.0 | H 1.944 | V 0.003 | pL 0.002 | vL 0.000 | ∇ 0.002\n",
      "U 15 | F 030720 | FPS 0784 | D 44 | rR:μσmM 0.04 0.15 0.00 0.61 | F:μσmM 312.6 44.3 141.0 324.0 | H 1.940 | V 0.012 | pL -0.013 | vL 0.004 | ∇ 0.034\n",
      "U 16 | F 032768 | FPS 0791 | D 47 | rR:μσmM 0.08 0.22 0.00 0.70 | F:μσmM 299.1 66.1 109.0 324.0 | H 1.933 | V 0.025 | pL -0.016 | vL 0.006 | ∇ 0.025\n",
      "U 17 | F 034816 | FPS 0748 | D 49 | rR:μσmM 0.10 0.22 0.00 0.70 | F:μσmM 293.4 66.1 109.0 324.0 | H 1.930 | V 0.034 | pL -0.011 | vL 0.005 | ∇ 0.028\n",
      "U 18 | F 036864 | FPS 0786 | D 52 | rR:μσmM 0.13 0.22 0.00 0.70 | F:μσmM 286.7 65.4 109.0 324.0 | H 1.936 | V 0.025 | pL 0.012 | vL 0.001 | ∇ 0.009\n",
      "U 19 | F 038912 | FPS 0768 | D 55 | rR:μσmM 0.09 0.15 0.00 0.44 | F:μσmM 302.4 40.9 200.0 324.0 | H 1.932 | V 0.030 | pL 0.011 | vL 0.002 | ∇ 0.025\n",
      "U 20 | F 040960 | FPS 0784 | D 57 | rR:μσmM 0.06 0.13 0.00 0.44 | F:μσmM 309.3 33.9 200.0 324.0 | H 1.937 | V 0.030 | pL -0.000 | vL 0.001 | ∇ 0.020\n",
      "Status saved\n",
      "U 21 | F 043008 | FPS 0761 | D 60 | rR:μσmM 0.06 0.13 0.00 0.44 | F:μσmM 309.3 33.9 200.0 324.0 | H 1.942 | V 0.018 | pL 0.012 | vL 0.000 | ∇ 0.005\n",
      "U 22 | F 045056 | FPS 0782 | D 63 | rR:μσmM 0.04 0.10 0.00 0.36 | F:μσmM 315.4 24.5 230.0 324.0 | H 1.939 | V 0.015 | pL 0.000 | vL 0.001 | ∇ 0.008\n",
      "U 23 | F 047104 | FPS 0744 | D 65 | rR:μσmM 0.02 0.09 0.00 0.36 | F:μσmM 318.1 22.8 230.0 324.0 | H 1.939 | V 0.022 | pL 0.017 | vL 0.000 | ∇ 0.006\n",
      "U 24 | F 049152 | FPS 0740 | D 68 | rR:μσmM 0.02 0.09 0.00 0.36 | F:μσmM 318.1 22.8 230.0 324.0 | H 1.942 | V 0.014 | pL 0.007 | vL 0.000 | ∇ 0.003\n",
      "U 25 | F 051200 | FPS 0735 | D 71 | rR:μσmM 0.00 0.00 0.00 0.00 | F:μσmM 324.0 0.0 324.0 324.0 | H 1.944 | V 0.008 | pL 0.006 | vL 0.000 | ∇ 0.002\n",
      "U 26 | F 053248 | FPS 0730 | D 74 | rR:μσmM 0.00 0.00 0.00 0.00 | F:μσmM 324.0 0.0 324.0 324.0 | H 1.945 | V 0.005 | pL 0.003 | vL 0.000 | ∇ 0.002\n",
      "U 27 | F 055296 | FPS 0737 | D 77 | rR:μσmM 0.00 0.00 0.00 0.00 | F:μσmM 324.0 0.0 324.0 324.0 | H 1.945 | V 0.003 | pL 0.002 | vL 0.000 | ∇ 0.002\n",
      "U 28 | F 057344 | FPS 0718 | D 80 | rR:μσmM 0.01 0.03 0.00 0.14 | F:μσmM 323.0 3.9 308.0 324.0 | H 1.943 | V 0.003 | pL -0.001 | vL 0.000 | ∇ 0.014\n",
      "U 29 | F 059392 | FPS 0742 | D 82 | rR:μσmM 0.05 0.14 0.00 0.58 | F:μσmM 312.2 41.6 152.0 324.0 | H 1.938 | V 0.026 | pL -0.013 | vL 0.005 | ∇ 0.047\n",
      "U 30 | F 061440 | FPS 0759 | D 85 | rR:μσmM 0.05 0.15 0.00 0.58 | F:μσmM 310.4 42.3 152.0 324.0 | H 1.942 | V 0.000 | pL 0.000 | vL 0.000 | ∇ 0.005\n",
      "Status saved\n",
      "U 31 | F 063488 | FPS 0731 | D 88 | rR:μσmM 0.05 0.15 0.00 0.58 | F:μσmM 310.4 42.3 152.0 324.0 | H 1.944 | V -0.001 | pL -0.001 | vL 0.000 | ∇ 0.001\n",
      "U 32 | F 065536 | FPS 0763 | D 91 | rR:μσmM 0.00 0.00 0.00 0.00 | F:μσmM 324.0 0.0 324.0 324.0 | H 1.944 | V 0.000 | pL -0.004 | vL 0.000 | ∇ 0.007\n",
      "U 33 | F 067584 | FPS 0743 | D 93 | rR:μσmM 0.00 0.00 0.00 0.00 | F:μσmM 324.0 0.0 324.0 324.0 | H 1.943 | V 0.009 | pL 0.007 | vL 0.000 | ∇ 0.021\n",
      "U 34 | F 069632 | FPS 0711 | D 96 | rR:μσmM 0.00 0.00 0.00 0.00 | F:μσmM 324.0 0.0 324.0 324.0 | H 1.944 | V 0.001 | pL 0.001 | vL 0.000 | ∇ 0.002\n",
      "U 35 | F 071680 | FPS 0727 | D 99 | rR:μσmM 0.00 0.00 0.00 0.00 | F:μσmM 324.0 0.0 324.0 324.0 | H 1.945 | V -0.001 | pL -0.000 | vL 0.000 | ∇ 0.001\n",
      "U 36 | F 073728 | FPS 0671 | D 102 | rR:μσmM 0.00 0.00 0.00 0.00 | F:μσmM 324.0 0.0 324.0 324.0 | H 1.945 | V 0.000 | pL -0.001 | vL 0.000 | ∇ 0.005\n",
      "U 37 | F 075776 | FPS 0648 | D 105 | rR:μσmM 0.00 0.00 0.00 0.00 | F:μσmM 324.0 0.0 324.0 324.0 | H 1.946 | V -0.002 | pL -0.002 | vL 0.000 | ∇ 0.002\n",
      "U 38 | F 077824 | FPS 0624 | D 109 | rR:μσmM 0.00 0.00 0.00 0.00 | F:μσmM 324.0 0.0 324.0 324.0 | H 1.946 | V -0.003 | pL -0.003 | vL 0.000 | ∇ 0.006\n",
      "U 39 | F 079872 | FPS 0689 | D 111 | rR:μσmM 0.00 0.00 0.00 0.00 | F:μσmM 324.0 0.0 324.0 324.0 | H 1.946 | V -0.005 | pL -0.003 | vL 0.000 | ∇ 0.003\n",
      "U 40 | F 081920 | FPS 0759 | D 114 | rR:μσmM 0.00 0.00 0.00 0.00 | F:μσmM 324.0 0.0 324.0 324.0 | H 1.946 | V -0.002 | pL -0.002 | vL 0.000 | ∇ 0.002\n",
      "Status saved\n",
      "U 41 | F 083968 | FPS 0771 | D 117 | rR:μσmM 0.03 0.11 0.00 0.45 | F:μσmM 316.1 30.7 197.0 324.0 | H 1.939 | V 0.011 | pL -0.012 | vL 0.003 | ∇ 0.020\n",
      "U 42 | F 086016 | FPS 0729 | D 120 | rR:μσmM 0.08 0.21 0.00 0.79 | F:μσmM 300.4 66.0 74.0 324.0 | H 1.940 | V 0.015 | pL -0.014 | vL 0.006 | ∇ 0.028\n",
      "U 43 | F 088064 | FPS 0700 | D 123 | rR:μσmM 0.12 0.22 0.00 0.79 | F:μσmM 292.8 66.8 74.0 324.0 | H 1.938 | V 0.024 | pL -0.004 | vL 0.002 | ∇ 0.018\n",
      "U 44 | F 090112 | FPS 0675 | D 126 | rR:μσmM 0.05 0.10 0.00 0.34 | F:μσmM 315.2 21.6 239.0 324.0 | H 1.940 | V 0.010 | pL 0.005 | vL 0.000 | ∇ 0.005\n",
      "U 45 | F 092160 | FPS 0693 | D 129 | rR:μσmM 0.04 0.07 0.00 0.19 | F:μσmM 319.8 9.2 290.0 324.0 | H 1.944 | V 0.003 | pL 0.001 | vL 0.000 | ∇ 0.002\n",
      "U 46 | F 094208 | FPS 0721 | D 131 | rR:μσmM 0.05 0.15 0.00 0.63 | F:μσmM 311.3 45.9 134.0 324.0 | H 1.935 | V 0.021 | pL -0.016 | vL 0.006 | ∇ 0.036\n",
      "U 47 | F 096256 | FPS 0699 | D 134 | rR:μσmM 0.10 0.20 0.00 0.63 | F:μσmM 296.4 59.2 134.0 324.0 | H 1.934 | V 0.028 | pL -0.020 | vL 0.003 | ∇ 0.027\n",
      "U 48 | F 098304 | FPS 0690 | D 137 | rR:μσmM 0.10 0.20 0.00 0.63 | F:μσmM 296.4 59.2 134.0 324.0 | H 1.936 | V 0.009 | pL 0.004 | vL 0.000 | ∇ 0.005\n",
      "U 49 | F 100352 | FPS 0760 | D 140 | rR:μσmM 0.09 0.16 0.00 0.49 | F:μσmM 301.8 43.7 182.0 324.0 | H 1.940 | V 0.012 | pL 0.000 | vL 0.001 | ∇ 0.013\n",
      "U 50 | F 102400 | FPS 0675 | D 143 | rR:μσmM 0.08 0.16 0.00 0.61 | F:μσmM 305.3 46.2 142.0 324.0 | H 1.940 | V 0.015 | pL -0.001 | vL 0.003 | ∇ 0.017\n",
      "Status saved\n",
      "U 51 | F 104448 | FPS 0692 | D 146 | rR:μσmM 0.06 0.15 0.00 0.61 | F:μσmM 309.4 44.3 142.0 324.0 | H 1.939 | V 0.005 | pL 0.000 | vL 0.000 | ∇ 0.009\n",
      "U 52 | F 106496 | FPS 0684 | D 149 | rR:μσmM 0.05 0.16 0.00 0.65 | F:μσmM 309.2 48.0 127.0 324.0 | H 1.939 | V 0.027 | pL -0.012 | vL 0.005 | ∇ 0.041\n",
      "U 53 | F 108544 | FPS 0730 | D 152 | rR:μσmM 0.04 0.16 0.00 0.65 | F:μσmM 311.7 47.7 127.0 324.0 | H 1.935 | V 0.019 | pL 0.011 | vL 0.001 | ∇ 0.007\n",
      "U 54 | F 110592 | FPS 0721 | D 155 | rR:μσmM 0.09 0.20 0.00 0.65 | F:μσmM 298.5 57.6 127.0 324.0 | H 1.933 | V 0.022 | pL -0.003 | vL 0.001 | ∇ 0.013\n",
      "U 55 | F 112640 | FPS 0725 | D 158 | rR:μσmM 0.08 0.16 0.00 0.49 | F:μσmM 303.3 43.6 184.0 324.0 | H 1.933 | V 0.020 | pL -0.004 | vL 0.002 | ∇ 0.017\n",
      "U 56 | F 114688 | FPS 0709 | D 161 | rR:μσmM 0.05 0.12 0.00 0.41 | F:μσmM 312.1 31.0 212.0 324.0 | H 1.940 | V 0.021 | pL 0.012 | vL 0.000 | ∇ 0.004\n",
      "U 57 | F 116736 | FPS 0733 | D 163 | rR:μσmM 0.07 0.16 0.00 0.53 | F:μσmM 306.8 44.8 169.0 324.0 | H 1.933 | V 0.023 | pL 0.001 | vL 0.002 | ∇ 0.019\n",
      "U 58 | F 118784 | FPS 0698 | D 166 | rR:μσmM 0.17 0.26 0.00 0.74 | F:μσmM 274.6 77.4 94.0 324.0 | H 1.910 | V 0.061 | pL -0.036 | vL 0.010 | ∇ 0.047\n",
      "U 59 | F 120832 | FPS 0698 | D 169 | rR:μσmM 0.20 0.25 0.00 0.74 | F:μσmM 269.4 76.6 94.0 324.0 | H 1.926 | V 0.030 | pL -0.000 | vL 0.002 | ∇ 0.027\n",
      "U 60 | F 122880 | FPS 0705 | D 172 | rR:μσmM 0.14 0.21 0.00 0.69 | F:μσmM 287.1 61.0 112.0 324.0 | H 1.939 | V 0.010 | pL 0.008 | vL 0.000 | ∇ 0.004\n",
      "Status saved\n",
      "U 61 | F 124928 | FPS 0710 | D 175 | rR:μσmM 0.08 0.17 0.00 0.58 | F:μσmM 303.0 49.4 150.0 324.0 | H 1.930 | V 0.025 | pL -0.008 | vL 0.003 | ∇ 0.032\n",
      "U 62 | F 126976 | FPS 0712 | D 178 | rR:μσmM 0.11 0.23 0.00 0.70 | F:μσmM 292.3 68.2 109.0 324.0 | H 1.936 | V 0.019 | pL -0.000 | vL 0.002 | ∇ 0.023\n",
      "U 63 | F 129024 | FPS 0711 | D 181 | rR:μσmM 0.10 0.20 0.00 0.70 | F:μσmM 296.2 59.4 109.0 324.0 | H 1.917 | V 0.039 | pL -0.017 | vL 0.003 | ∇ 0.036\n",
      "U 64 | F 131072 | FPS 0722 | D 184 | rR:μσmM 0.07 0.13 0.00 0.43 | F:μσmM 308.9 34.5 204.0 324.0 | H 1.939 | V 0.031 | pL 0.014 | vL 0.000 | ∇ 0.007\n",
      "U 65 | F 133120 | FPS 0651 | D 187 | rR:μσmM 0.06 0.13 0.00 0.43 | F:μσmM 310.2 34.7 204.0 324.0 | H 1.937 | V 0.020 | pL 0.014 | vL 0.000 | ∇ 0.008\n",
      "U 66 | F 135168 | FPS 0673 | D 190 | rR:μσmM 0.08 0.15 0.00 0.57 | F:μσmM 305.4 42.9 154.0 324.0 | H 1.930 | V 0.033 | pL -0.016 | vL 0.003 | ∇ 0.026\n",
      "U 67 | F 137216 | FPS 0683 | D 193 | rR:μσmM 0.15 0.23 0.00 0.73 | F:μσmM 283.3 69.0 96.0 324.0 | H 1.938 | V 0.030 | pL 0.001 | vL 0.001 | ∇ 0.018\n",
      "U 68 | F 139264 | FPS 0715 | D 196 | rR:μσmM 0.12 0.23 0.00 0.73 | F:μσmM 288.3 70.0 96.0 324.0 | H 1.939 | V 0.015 | pL 0.006 | vL 0.000 | ∇ 0.011\n",
      "U 69 | F 141312 | FPS 0743 | D 198 | rR:μσmM 0.10 0.22 0.00 0.66 | F:μσmM 294.4 65.3 124.0 324.0 | H 1.929 | V 0.046 | pL -0.026 | vL 0.008 | ∇ 0.050\n",
      "U 70 | F 143360 | FPS 0701 | D 201 | rR:μσmM 0.19 0.28 0.00 0.80 | F:μσmM 269.8 85.5 71.0 324.0 | H 1.895 | V 0.095 | pL 0.018 | vL 0.009 | ∇ 0.067\n",
      "Status saved\n",
      "U 71 | F 145408 | FPS 0736 | D 204 | rR:μσmM 0.18 0.25 0.00 0.80 | F:μσmM 275.6 77.9 71.0 324.0 | H 1.912 | V 0.049 | pL 0.023 | vL 0.001 | ∇ 0.020\n",
      "U 72 | F 147456 | FPS 0701 | D 207 | rR:μσmM 0.11 0.21 0.00 0.78 | F:μσmM 295.2 64.6 80.0 324.0 | H 1.924 | V 0.043 | pL 0.005 | vL 0.003 | ∇ 0.023\n",
      "U 73 | F 149504 | FPS 0679 | D 210 | rR:μσmM 0.11 0.22 0.00 0.78 | F:μσmM 293.6 65.8 80.0 324.0 | H 1.920 | V 0.047 | pL 0.003 | vL 0.002 | ∇ 0.018\n",
      "U 74 | F 151552 | FPS 0715 | D 213 | rR:μσmM 0.08 0.14 0.00 0.36 | F:μσmM 304.8 34.1 230.0 324.0 | H 1.932 | V 0.032 | pL 0.015 | vL 0.001 | ∇ 0.014\n",
      "U 75 | F 153600 | FPS 0774 | D 216 | rR:μσmM 0.24 0.28 0.00 0.81 | F:μσmM 255.8 85.1 68.0 324.0 | H 1.905 | V 0.082 | pL -0.043 | vL 0.013 | ∇ 0.068\n",
      "U 76 | F 155648 | FPS 0751 | D 218 | rR:μσmM 0.28 0.31 0.00 0.81 | F:μσmM 240.7 95.5 68.0 324.0 | H 1.900 | V 0.085 | pL -0.016 | vL 0.006 | ∇ 0.039\n",
      "U 77 | F 157696 | FPS 0741 | D 221 | rR:μσmM 0.22 0.25 0.00 0.78 | F:μσmM 261.1 75.1 78.0 324.0 | H 1.906 | V 0.058 | pL 0.008 | vL 0.004 | ∇ 0.034\n",
      "U 78 | F 159744 | FPS 0774 | D 224 | rR:μσmM 0.24 0.27 0.00 0.73 | F:μσmM 256.2 80.0 97.0 324.0 | H 1.904 | V 0.063 | pL -0.003 | vL 0.003 | ∇ 0.038\n",
      "U 79 | F 161792 | FPS 0749 | D 227 | rR:μσmM 0.27 0.30 0.00 0.71 | F:μσmM 245.8 92.3 104.0 324.0 | H 1.891 | V 0.063 | pL -0.013 | vL 0.006 | ∇ 0.043\n",
      "U 80 | F 163840 | FPS 0648 | D 230 | rR:μσmM 0.27 0.31 0.00 0.84 | F:μσmM 246.4 96.8 59.0 324.0 | H 1.889 | V 0.049 | pL -0.001 | vL 0.005 | ∇ 0.051\n",
      "Status saved\n",
      "U 81 | F 165888 | FPS 0678 | D 233 | rR:μσmM 0.29 0.27 0.00 0.66 | F:μσmM 243.8 82.6 124.0 324.0 | H 1.871 | V 0.088 | pL -0.042 | vL 0.008 | ∇ 0.072\n",
      "U 82 | F 167936 | FPS 0699 | D 236 | rR:μσmM 0.37 0.31 0.00 0.84 | F:μσmM 215.4 100.1 59.0 324.0 | H 1.864 | V 0.102 | pL -0.020 | vL 0.011 | ∇ 0.058\n",
      "U 83 | F 169984 | FPS 0586 | D 239 | rR:μσmM 0.46 0.30 0.00 0.84 | F:μσmM 189.1 98.5 59.0 324.0 | H 1.901 | V 0.069 | pL -0.001 | vL 0.008 | ∇ 0.048\n",
      "U 84 | F 172032 | FPS 0712 | D 242 | rR:μσmM 0.22 0.30 0.00 0.83 | F:μσmM 259.5 93.0 62.0 324.0 | H 1.909 | V 0.071 | pL 0.020 | vL 0.005 | ∇ 0.050\n",
      "U 85 | F 174080 | FPS 0683 | D 245 | rR:μσmM 0.26 0.30 0.00 0.74 | F:μσmM 246.5 92.4 95.0 324.0 | H 1.883 | V 0.115 | pL -0.032 | vL 0.010 | ∇ 0.052\n",
      "U 86 | F 176128 | FPS 0649 | D 248 | rR:μσmM 0.37 0.32 0.00 0.82 | F:μσmM 212.4 98.4 66.0 324.0 | H 1.879 | V 0.138 | pL -0.008 | vL 0.015 | ∇ 0.086\n",
      "U 87 | F 178176 | FPS 0672 | D 251 | rR:μσmM 0.34 0.34 0.00 0.93 | F:μσmM 222.2 105.7 24.0 324.0 | H 1.869 | V 0.143 | pL 0.021 | vL 0.013 | ∇ 0.096\n",
      "U 88 | F 180224 | FPS 0695 | D 254 | rR:μσmM 0.34 0.30 0.00 0.93 | F:μσmM 225.9 93.3 24.0 324.0 | H 1.878 | V 0.136 | pL -0.013 | vL 0.010 | ∇ 0.061\n",
      "U 89 | F 182272 | FPS 0733 | D 257 | rR:μσmM 0.37 0.28 0.00 0.73 | F:μσmM 217.3 86.0 97.0 324.0 | H 1.874 | V 0.129 | pL 0.007 | vL 0.007 | ∇ 0.063\n",
      "U 90 | F 184320 | FPS 0778 | D 260 | rR:μσmM 0.36 0.34 0.00 0.85 | F:μσmM 215.4 105.0 55.0 324.0 | H 1.868 | V 0.106 | pL -0.005 | vL 0.011 | ∇ 0.088\n",
      "Status saved\n",
      "U 91 | F 186368 | FPS 0740 | D 263 | rR:μσmM 0.34 0.32 0.00 0.85 | F:μσmM 223.4 103.2 55.0 324.0 | H 1.867 | V 0.101 | pL 0.012 | vL 0.007 | ∇ 0.048\n",
      "U 92 | F 188416 | FPS 0697 | D 265 | rR:μσmM 0.23 0.27 0.00 0.78 | F:μσmM 260.2 83.5 80.0 324.0 | H 1.875 | V 0.086 | pL 0.016 | vL 0.007 | ∇ 0.056\n",
      "U 93 | F 190464 | FPS 0710 | D 268 | rR:μσmM 0.29 0.29 0.00 0.92 | F:μσmM 241.5 89.6 28.0 324.0 | H 1.851 | V 0.116 | pL -0.024 | vL 0.015 | ∇ 0.060\n",
      "U 94 | F 192512 | FPS 0715 | D 271 | rR:μσmM 0.32 0.29 0.00 0.92 | F:μσmM 232.5 90.7 28.0 324.0 | H 1.865 | V 0.086 | pL 0.027 | vL 0.003 | ∇ 0.041\n",
      "U 95 | F 194560 | FPS 0653 | D 274 | rR:μσmM 0.22 0.28 0.00 0.79 | F:μσmM 259.8 84.4 77.0 324.0 | H 1.905 | V 0.042 | pL 0.028 | vL 0.001 | ∇ 0.016\n",
      "U 96 | F 196608 | FPS 0678 | D 277 | rR:μσmM 0.16 0.32 0.00 0.91 | F:μσmM 274.9 102.6 34.0 324.0 | H 1.887 | V 0.055 | pL -0.013 | vL 0.012 | ∇ 0.071\n",
      "U 97 | F 198656 | FPS 0697 | D 280 | rR:μσmM 0.23 0.36 0.00 0.91 | F:μσmM 251.8 112.1 34.0 324.0 | H 1.850 | V 0.109 | pL -0.024 | vL 0.016 | ∇ 0.090\n",
      "U 98 | F 200704 | FPS 0767 | D 283 | rR:μσmM 0.35 0.31 0.00 0.90 | F:μσmM 219.8 96.6 37.0 324.0 | H 1.859 | V 0.106 | pL -0.018 | vL 0.012 | ∇ 0.072\n",
      "U 99 | F 202752 | FPS 0764 | D 286 | rR:μσmM 0.37 0.30 0.00 0.81 | F:μσmM 214.4 95.9 69.0 324.0 | H 1.844 | V 0.146 | pL -0.002 | vL 0.011 | ∇ 0.088\n",
      "U 100 | F 204800 | FPS 0748 | D 288 | rR:μσmM 0.50 0.29 0.00 0.84 | F:μσmM 174.9 95.2 58.0 324.0 | H 1.816 | V 0.170 | pL -0.003 | vL 0.013 | ∇ 0.077\n",
      "Status saved\n",
      "U 101 | F 206848 | FPS 0687 | D 291 | rR:μσmM 0.35 0.33 0.00 0.87 | F:μσmM 219.9 105.9 46.0 324.0 | H 1.849 | V 0.136 | pL -0.007 | vL 0.013 | ∇ 0.085\n",
      "U 102 | F 208896 | FPS 0760 | D 294 | rR:μσmM 0.29 0.32 0.00 0.87 | F:μσmM 236.4 98.9 46.0 324.0 | H 1.878 | V 0.130 | pL 0.005 | vL 0.008 | ∇ 0.061\n",
      "U 103 | F 210944 | FPS 0747 | D 297 | rR:μσmM 0.33 0.29 0.00 0.73 | F:μσmM 228.4 90.2 97.0 324.0 | H 1.876 | V 0.119 | pL 0.025 | vL 0.004 | ∇ 0.040\n",
      "U 104 | F 212992 | FPS 0771 | D 300 | rR:μσmM 0.28 0.30 0.00 0.82 | F:μσmM 244.2 95.4 64.0 324.0 | H 1.854 | V 0.152 | pL -0.006 | vL 0.010 | ∇ 0.071\n",
      "U 105 | F 215040 | FPS 0761 | D 302 | rR:μσmM 0.50 0.26 0.00 0.87 | F:μσmM 176.6 86.4 48.0 324.0 | H 1.838 | V 0.142 | pL -0.032 | vL 0.011 | ∇ 0.083\n",
      "U 106 | F 217088 | FPS 0775 | D 305 | rR:μσmM 0.39 0.33 0.00 0.87 | F:μσmM 205.1 100.9 48.0 324.0 | H 1.856 | V 0.161 | pL -0.021 | vL 0.016 | ∇ 0.080\n",
      "U 107 | F 219136 | FPS 0725 | D 308 | rR:μσmM 0.40 0.27 0.00 0.71 | F:μσmM 208.1 84.3 104.0 324.0 | H 1.864 | V 0.159 | pL 0.014 | vL 0.007 | ∇ 0.070\n",
      "U 108 | F 221184 | FPS 0692 | D 311 | rR:μσmM 0.36 0.25 0.00 0.71 | F:μσmM 221.7 78.6 104.0 324.0 | H 1.875 | V 0.137 | pL 0.048 | vL 0.003 | ∇ 0.055\n",
      "U 109 | F 223232 | FPS 0663 | D 314 | rR:μσmM 0.24 0.24 0.00 0.75 | F:μσmM 258.9 69.7 90.0 324.0 | H 1.871 | V 0.105 | pL 0.021 | vL 0.005 | ∇ 0.041\n",
      "U 110 | F 225280 | FPS 0683 | D 317 | rR:μσmM 0.21 0.24 0.00 0.75 | F:μσmM 267.8 71.3 90.0 324.0 | H 1.881 | V 0.094 | pL 0.021 | vL 0.004 | ∇ 0.034\n",
      "Status saved\n",
      "U 111 | F 227328 | FPS 0740 | D 320 | rR:μσmM 0.24 0.29 0.00 0.82 | F:μσmM 255.8 88.5 65.0 324.0 | H 1.885 | V 0.069 | pL 0.021 | vL 0.004 | ∇ 0.040\n",
      "U 112 | F 229376 | FPS 0768 | D 322 | rR:μσmM 0.18 0.26 0.00 0.76 | F:μσmM 273.7 80.4 88.0 324.0 | H 1.876 | V 0.093 | pL -0.020 | vL 0.011 | ∇ 0.063\n",
      "U 113 | F 231424 | FPS 0774 | D 325 | rR:μσmM 0.38 0.31 0.00 0.78 | F:μσmM 210.7 98.2 80.0 324.0 | H 1.883 | V 0.084 | pL -0.005 | vL 0.008 | ∇ 0.052\n",
      "U 114 | F 233472 | FPS 0750 | D 328 | rR:μσmM 0.37 0.32 0.00 0.86 | F:μσmM 212.2 100.9 52.0 324.0 | H 1.899 | V 0.089 | pL -0.020 | vL 0.009 | ∇ 0.061\n",
      "U 115 | F 235520 | FPS 0746 | D 330 | rR:μσmM 0.32 0.35 0.00 0.89 | F:μσmM 228.5 110.8 41.0 324.0 | H 1.878 | V 0.117 | pL -0.012 | vL 0.016 | ∇ 0.084\n",
      "U 116 | F 237568 | FPS 0730 | D 333 | rR:μσmM 0.39 0.34 0.00 0.89 | F:μσmM 207.1 108.2 41.0 324.0 | H 1.881 | V 0.134 | pL -0.022 | vL 0.011 | ∇ 0.086\n",
      "U 117 | F 239616 | FPS 0717 | D 336 | rR:μσmM 0.44 0.33 0.00 0.88 | F:μσmM 193.5 105.4 43.0 324.0 | H 1.819 | V 0.145 | pL -0.034 | vL 0.020 | ∇ 0.089\n",
      "U 118 | F 241664 | FPS 0714 | D 339 | rR:μσmM 0.39 0.30 0.00 0.88 | F:μσmM 210.4 96.8 43.0 324.0 | H 1.846 | V 0.173 | pL -0.001 | vL 0.011 | ∇ 0.054\n",
      "U 119 | F 243712 | FPS 0706 | D 342 | rR:μσmM 0.40 0.27 0.00 0.87 | F:μσmM 207.1 84.8 48.0 324.0 | H 1.878 | V 0.150 | pL 0.017 | vL 0.007 | ∇ 0.062\n",
      "U 120 | F 245760 | FPS 0689 | D 345 | rR:μσmM 0.38 0.32 0.00 0.87 | F:μσmM 210.6 97.6 48.0 324.0 | H 1.885 | V 0.112 | pL 0.011 | vL 0.005 | ∇ 0.057\n",
      "Status saved\n",
      "U 121 | F 247808 | FPS 0679 | D 348 | rR:μσmM 0.34 0.32 0.00 0.81 | F:μσmM 222.2 97.2 67.0 324.0 | H 1.866 | V 0.177 | pL -0.031 | vL 0.012 | ∇ 0.086\n",
      "U 122 | F 249856 | FPS 0718 | D 351 | rR:μσmM 0.46 0.31 0.00 0.82 | F:μσmM 186.5 97.2 63.0 324.0 | H 1.895 | V 0.092 | pL 0.001 | vL 0.008 | ∇ 0.061\n",
      "U 123 | F 251904 | FPS 0728 | D 354 | rR:μσmM 0.38 0.31 0.00 0.82 | F:μσmM 211.2 96.8 63.0 324.0 | H 1.911 | V 0.091 | pL 0.024 | vL 0.002 | ∇ 0.038\n",
      "U 124 | F 253952 | FPS 0676 | D 357 | rR:μσmM 0.22 0.28 0.00 0.69 | F:μσmM 260.0 84.9 112.0 324.0 | H 1.903 | V 0.080 | pL 0.041 | vL 0.003 | ∇ 0.038\n",
      "U 125 | F 256000 | FPS 0706 | D 360 | rR:μσmM 0.12 0.23 0.00 0.72 | F:μσmM 291.5 69.0 100.0 324.0 | H 1.916 | V 0.051 | pL 0.012 | vL 0.006 | ∇ 0.037\n",
      "U 126 | F 258048 | FPS 0712 | D 362 | rR:μσmM 0.18 0.30 0.00 0.84 | F:μσmM 269.9 91.3 56.0 324.0 | H 1.895 | V 0.082 | pL -0.018 | vL 0.008 | ∇ 0.057\n",
      "U 127 | F 260096 | FPS 0737 | D 365 | rR:μσmM 0.29 0.30 0.00 0.84 | F:μσmM 238.1 94.7 56.0 324.0 | H 1.907 | V 0.077 | pL -0.021 | vL 0.006 | ∇ 0.059\n",
      "U 128 | F 262144 | FPS 0724 | D 368 | rR:μσmM 0.35 0.33 0.00 0.79 | F:μσmM 218.2 100.9 77.0 324.0 | H 1.907 | V 0.101 | pL -0.037 | vL 0.007 | ∇ 0.051\n",
      "U 129 | F 264192 | FPS 0732 | D 371 | rR:μσmM 0.27 0.34 0.00 0.79 | F:μσmM 241.2 104.5 77.0 324.0 | H 1.911 | V 0.068 | pL 0.022 | vL 0.004 | ∇ 0.033\n",
      "U 130 | F 266240 | FPS 0731 | D 374 | rR:μσmM 0.16 0.27 0.00 0.78 | F:μσmM 277.1 83.8 78.0 324.0 | H 1.899 | V 0.089 | pL -0.001 | vL 0.008 | ∇ 0.065\n",
      "Status saved\n",
      "U 131 | F 268288 | FPS 0711 | D 377 | rR:μσmM 0.36 0.30 0.00 0.83 | F:μσmM 215.6 93.9 60.0 324.0 | H 1.877 | V 0.129 | pL -0.034 | vL 0.008 | ∇ 0.065\n",
      "U 132 | F 270336 | FPS 0683 | D 380 | rR:μσmM 0.43 0.34 0.00 0.88 | F:μσmM 194.7 107.1 43.0 324.0 | H 1.859 | V 0.151 | pL -0.043 | vL 0.018 | ∇ 0.100\n",
      "U 133 | F 272384 | FPS 0713 | D 382 | rR:μσmM 0.59 0.31 0.00 0.89 | F:μσmM 141.8 98.5 38.0 324.0 | H 1.868 | V 0.151 | pL 0.002 | vL 0.014 | ∇ 0.080\n",
      "U 134 | F 274432 | FPS 0705 | D 385 | rR:μσmM 0.31 0.35 0.00 0.89 | F:μσmM 228.6 110.3 40.0 324.0 | H 1.864 | V 0.199 | pL 0.066 | vL 0.008 | ∇ 0.076\n",
      "U 135 | F 276480 | FPS 0754 | D 388 | rR:μσmM 0.35 0.35 0.00 0.89 | F:μσmM 217.0 108.7 40.0 324.0 | H 1.858 | V 0.185 | pL 0.041 | vL 0.013 | ∇ 0.092\n",
      "U 136 | F 278528 | FPS 0723 | D 391 | rR:μσmM 0.42 0.32 0.00 0.89 | F:μσmM 200.1 103.2 41.0 324.0 | H 1.864 | V 0.181 | pL 0.013 | vL 0.010 | ∇ 0.068\n",
      "U 137 | F 280576 | FPS 0732 | D 394 | rR:μσmM 0.44 0.35 0.00 0.87 | F:μσmM 188.9 113.4 46.0 324.0 | H 1.851 | V 0.182 | pL -0.018 | vL 0.020 | ∇ 0.083\n",
      "U 138 | F 282624 | FPS 0755 | D 396 | rR:μσmM 0.43 0.31 0.00 0.80 | F:μσmM 196.6 100.0 71.0 324.0 | H 1.828 | V 0.242 | pL -0.041 | vL 0.022 | ∇ 0.110\n",
      "U 139 | F 284672 | FPS 0589 | D 400 | rR:μσmM 0.56 0.28 0.00 0.92 | F:μσmM 154.4 93.5 28.0 324.0 | H 1.825 | V 0.238 | pL 0.034 | vL 0.016 | ∇ 0.088\n",
      "U 140 | F 286720 | FPS 0650 | D 403 | rR:μσmM 0.46 0.29 0.00 0.92 | F:μσmM 188.1 93.6 28.0 324.0 | H 1.872 | V 0.180 | pL 0.034 | vL 0.009 | ∇ 0.076\n",
      "Status saved\n",
      "U 141 | F 288768 | FPS 0652 | D 406 | rR:μσmM 0.44 0.32 0.00 0.87 | F:μσmM 192.4 101.8 46.0 324.0 | H 1.874 | V 0.182 | pL 0.009 | vL 0.012 | ∇ 0.080\n",
      "U 142 | F 290816 | FPS 0648 | D 409 | rR:μσmM 0.53 0.29 0.00 0.86 | F:μσmM 164.1 90.5 50.0 324.0 | H 1.833 | V 0.228 | pL -0.038 | vL 0.014 | ∇ 0.086\n",
      "U 143 | F 292864 | FPS 0714 | D 412 | rR:μσmM 0.69 0.19 0.27 0.92 | F:μσmM 112.4 66.8 30.0 262.0 | H 1.778 | V 0.339 | pL -0.043 | vL 0.018 | ∇ 0.106\n",
      "U 144 | F 294912 | FPS 0740 | D 415 | rR:μσmM 0.67 0.28 0.00 0.92 | F:μσmM 112.8 91.4 30.0 324.0 | H 1.797 | V 0.316 | pL 0.021 | vL 0.018 | ∇ 0.121\n",
      "U 145 | F 296960 | FPS 0734 | D 418 | rR:μσmM 0.57 0.30 0.00 0.89 | F:μσmM 148.1 95.7 38.0 324.0 | H 1.836 | V 0.238 | pL 0.060 | vL 0.015 | ∇ 0.099\n",
      "U 146 | F 299008 | FPS 0759 | D 421 | rR:μσmM 0.47 0.31 0.00 0.92 | F:μσmM 181.8 99.0 29.0 324.0 | H 1.832 | V 0.213 | pL 0.040 | vL 0.013 | ∇ 0.079\n",
      "U 147 | F 301056 | FPS 0760 | D 423 | rR:μσmM 0.55 0.30 0.00 0.91 | F:μσmM 158.9 99.2 34.0 324.0 | H 1.816 | V 0.236 | pL -0.023 | vL 0.022 | ∇ 0.123\n",
      "U 148 | F 303104 | FPS 0701 | D 426 | rR:μσmM 0.56 0.31 0.00 0.91 | F:μσmM 150.1 100.6 34.0 324.0 | H 1.828 | V 0.221 | pL 0.011 | vL 0.011 | ∇ 0.067\n",
      "U 149 | F 305152 | FPS 0687 | D 429 | rR:μσmM 0.56 0.30 0.00 0.86 | F:μσmM 155.4 98.5 50.0 324.0 | H 1.796 | V 0.244 | pL 0.000 | vL 0.019 | ∇ 0.114\n",
      "U 150 | F 307200 | FPS 0677 | D 432 | rR:μσmM 0.51 0.36 0.00 0.91 | F:μσmM 164.8 113.6 33.0 324.0 | H 1.802 | V 0.235 | pL -0.008 | vL 0.016 | ∇ 0.114\n",
      "Status saved\n",
      "U 151 | F 309248 | FPS 0674 | D 435 | rR:μσmM 0.59 0.29 0.00 0.93 | F:μσmM 144.5 98.9 26.0 324.0 | H 1.786 | V 0.234 | pL -0.022 | vL 0.025 | ∇ 0.129\n",
      "U 152 | F 311296 | FPS 0668 | D 438 | rR:μσmM 0.64 0.23 0.20 0.88 | F:μσmM 127.9 81.4 42.0 287.0 | H 1.768 | V 0.260 | pL -0.016 | vL 0.021 | ∇ 0.124\n",
      "U 153 | F 313344 | FPS 0709 | D 441 | rR:μσmM 0.52 0.28 0.00 0.89 | F:μσmM 167.2 91.6 39.0 324.0 | H 1.774 | V 0.231 | pL 0.041 | vL 0.012 | ∇ 0.084\n",
      "U 154 | F 315392 | FPS 0670 | D 444 | rR:μσmM 0.50 0.32 0.00 0.93 | F:μσmM 174.7 107.3 24.0 324.0 | H 1.766 | V 0.218 | pL 0.009 | vL 0.017 | ∇ 0.092\n",
      "U 155 | F 317440 | FPS 0690 | D 447 | rR:μσmM 0.49 0.31 0.00 0.93 | F:μσmM 177.4 102.3 24.0 324.0 | H 1.738 | V 0.212 | pL 0.019 | vL 0.014 | ∇ 0.091\n",
      "U 156 | F 319488 | FPS 0697 | D 450 | rR:μσmM 0.64 0.27 0.00 0.88 | F:μσmM 127.3 88.7 43.0 324.0 | H 1.721 | V 0.302 | pL -0.081 | vL 0.027 | ∇ 0.150\n",
      "U 157 | F 321536 | FPS 0663 | D 453 | rR:μσmM 0.62 0.30 0.00 0.85 | F:μσmM 132.6 97.3 54.0 324.0 | H 1.818 | V 0.200 | pL -0.021 | vL 0.019 | ∇ 0.101\n",
      "U 158 | F 323584 | FPS 0678 | D 456 | rR:μσmM 0.54 0.29 0.00 0.91 | F:μσmM 161.5 97.8 34.0 324.0 | H 1.771 | V 0.209 | pL 0.008 | vL 0.016 | ∇ 0.076\n",
      "U 159 | F 325632 | FPS 0598 | D 460 | rR:μσmM 0.64 0.28 0.00 0.91 | F:μσmM 124.9 92.2 33.0 324.0 | H 1.782 | V 0.289 | pL -0.029 | vL 0.023 | ∇ 0.128\n",
      "U 160 | F 327680 | FPS 0597 | D 463 | rR:μσmM 0.61 0.31 0.00 0.92 | F:μσmM 135.5 102.3 30.0 324.0 | H 1.768 | V 0.269 | pL -0.009 | vL 0.018 | ∇ 0.099\n",
      "Status saved\n",
      "U 161 | F 329728 | FPS 0671 | D 466 | rR:μσmM 0.60 0.17 0.29 0.86 | F:μσmM 145.3 62.9 51.0 257.0 | H 1.765 | V 0.271 | pL -0.037 | vL 0.018 | ∇ 0.121\n",
      "U 162 | F 331776 | FPS 0671 | D 469 | rR:μσmM 0.66 0.20 0.11 0.91 | F:μσmM 123.2 71.3 34.0 319.0 | H 1.805 | V 0.287 | pL -0.051 | vL 0.019 | ∇ 0.119\n",
      "U 163 | F 333824 | FPS 0647 | D 473 | rR:μσmM 0.60 0.30 0.00 0.88 | F:μσmM 138.4 96.5 43.0 324.0 | H 1.736 | V 0.276 | pL 0.003 | vL 0.025 | ∇ 0.131\n",
      "U 164 | F 335872 | FPS 0710 | D 476 | rR:μσmM 0.73 0.13 0.45 0.93 | F:μσmM 96.9 47.2 24.0 197.0 | H 1.712 | V 0.363 | pL -0.045 | vL 0.020 | ∇ 0.150\n",
      "U 165 | F 337920 | FPS 0687 | D 478 | rR:μσmM 0.68 0.20 0.23 0.89 | F:μσmM 114.9 70.7 41.0 278.0 | H 1.747 | V 0.336 | pL -0.004 | vL 0.017 | ∇ 0.090\n",
      "U 166 | F 339968 | FPS 0712 | D 481 | rR:μσmM 0.67 0.23 0.00 0.91 | F:μσmM 117.6 77.2 34.0 324.0 | H 1.763 | V 0.232 | pL 0.031 | vL 0.013 | ∇ 0.089\n",
      "U 167 | F 342016 | FPS 0730 | D 484 | rR:μσmM 0.50 0.34 0.00 0.90 | F:μσmM 172.4 111.2 35.0 324.0 | H 1.759 | V 0.244 | pL 0.018 | vL 0.011 | ∇ 0.102\n",
      "U 168 | F 344064 | FPS 0736 | D 487 | rR:μσmM 0.57 0.33 0.00 0.92 | F:μσmM 151.2 110.7 28.0 324.0 | H 1.784 | V 0.260 | pL -0.004 | vL 0.019 | ∇ 0.120\n",
      "U 169 | F 346112 | FPS 0716 | D 490 | rR:μσmM 0.74 0.14 0.43 0.94 | F:μσmM 94.5 50.1 20.0 205.0 | H 1.763 | V 0.275 | pL -0.022 | vL 0.017 | ∇ 0.112\n",
      "U 170 | F 348160 | FPS 0666 | D 493 | rR:μσmM 0.55 0.31 0.00 0.93 | F:μσmM 155.6 99.4 25.0 324.0 | H 1.830 | V 0.220 | pL -0.000 | vL 0.015 | ∇ 0.114\n",
      "Status saved\n",
      "U 171 | F 350208 | FPS 0673 | D 496 | rR:μσmM 0.52 0.28 0.00 0.82 | F:μσmM 164.8 88.4 64.0 324.0 | H 1.810 | V 0.270 | pL -0.005 | vL 0.012 | ∇ 0.093\n",
      "U 172 | F 352256 | FPS 0671 | D 499 | rR:μσmM 0.63 0.18 0.23 0.88 | F:μσmM 133.0 63.9 44.0 276.0 | H 1.791 | V 0.301 | pL -0.022 | vL 0.014 | ∇ 0.103\n",
      "U 173 | F 354304 | FPS 0651 | D 502 | rR:μσmM 0.64 0.24 0.00 0.90 | F:μσmM 128.1 80.8 36.0 324.0 | H 1.766 | V 0.263 | pL 0.016 | vL 0.014 | ∇ 0.131\n",
      "U 174 | F 356352 | FPS 0701 | D 505 | rR:μσmM 0.61 0.25 0.00 0.89 | F:μσmM 137.0 86.6 39.0 324.0 | H 1.731 | V 0.310 | pL -0.004 | vL 0.014 | ∇ 0.099\n",
      "U 175 | F 358400 | FPS 0732 | D 508 | rR:μσmM 0.64 0.29 0.00 0.92 | F:μσmM 124.6 93.4 28.0 324.0 | H 1.753 | V 0.291 | pL 0.008 | vL 0.018 | ∇ 0.137\n",
      "U 176 | F 360448 | FPS 0763 | D 511 | rR:μσmM 0.63 0.27 0.00 0.93 | F:μσmM 132.1 92.2 26.0 324.0 | H 1.764 | V 0.278 | pL 0.036 | vL 0.015 | ∇ 0.099\n",
      "U 177 | F 362496 | FPS 0762 | D 513 | rR:μσmM 0.67 0.28 0.00 0.94 | F:μσmM 114.3 92.7 22.0 324.0 | H 1.759 | V 0.311 | pL -0.024 | vL 0.013 | ∇ 0.104\n",
      "U 178 | F 364544 | FPS 0789 | D 516 | rR:μσmM 0.68 0.29 0.00 0.90 | F:μσmM 112.1 94.2 36.0 324.0 | H 1.784 | V 0.290 | pL 0.017 | vL 0.016 | ∇ 0.104\n",
      "U 179 | F 366592 | FPS 0583 | D 519 | rR:μσmM 0.66 0.28 0.00 0.94 | F:μσmM 120.0 94.2 23.0 324.0 | H 1.750 | V 0.331 | pL -0.026 | vL 0.022 | ∇ 0.175\n",
      "U 180 | F 368640 | FPS 0602 | D 523 | rR:μσmM 0.59 0.28 0.00 0.94 | F:μσmM 146.6 95.7 23.0 324.0 | H 1.792 | V 0.240 | pL -0.005 | vL 0.013 | ∇ 0.098\n",
      "Status saved\n",
      "U 181 | F 370688 | FPS 0601 | D 526 | rR:μσmM 0.70 0.20 0.27 0.89 | F:μσmM 108.5 71.0 40.0 262.0 | H 1.755 | V 0.282 | pL -0.020 | vL 0.013 | ∇ 0.106\n",
      "U 182 | F 372736 | FPS 0576 | D 530 | rR:μσmM 0.58 0.32 0.00 0.92 | F:μσmM 147.4 106.8 29.0 324.0 | H 1.768 | V 0.278 | pL 0.014 | vL 0.012 | ∇ 0.099\n",
      "U 183 | F 374784 | FPS 0738 | D 533 | rR:μσmM 0.50 0.28 0.00 0.89 | F:μσmM 176.2 94.8 38.0 324.0 | H 1.818 | V 0.199 | pL 0.039 | vL 0.008 | ∇ 0.085\n",
      "U 184 | F 376832 | FPS 0758 | D 535 | rR:μσmM 0.50 0.26 0.00 0.88 | F:μσmM 173.8 84.9 43.0 324.0 | H 1.819 | V 0.209 | pL 0.019 | vL 0.009 | ∇ 0.074\n",
      "U 185 | F 378880 | FPS 0775 | D 538 | rR:μσmM 0.58 0.24 0.00 0.86 | F:μσmM 147.3 82.7 49.0 324.0 | H 1.818 | V 0.207 | pL 0.008 | vL 0.012 | ∇ 0.094\n",
      "U 186 | F 380928 | FPS 0741 | D 541 | rR:μσmM 0.42 0.30 0.00 0.80 | F:μσmM 198.4 95.2 73.0 324.0 | H 1.811 | V 0.220 | pL 0.003 | vL 0.011 | ∇ 0.084\n",
      "U 187 | F 382976 | FPS 0750 | D 544 | rR:μσmM 0.56 0.30 0.00 0.90 | F:μσmM 152.3 99.9 36.0 324.0 | H 1.796 | V 0.248 | pL -0.029 | vL 0.015 | ∇ 0.126\n",
      "U 188 | F 385024 | FPS 0560 | D 547 | rR:μσmM 0.62 0.31 0.00 0.89 | F:μσmM 130.8 100.2 39.0 324.0 | H 1.778 | V 0.260 | pL -0.059 | vL 0.017 | ∇ 0.116\n",
      "U 189 | F 387072 | FPS 0639 | D 550 | rR:μσmM 0.56 0.34 0.00 0.91 | F:μσmM 150.2 108.3 34.0 324.0 | H 1.784 | V 0.306 | pL -0.001 | vL 0.018 | ∇ 0.137\n",
      "U 190 | F 389120 | FPS 0638 | D 554 | rR:μσmM 0.65 0.26 0.00 0.91 | F:μσmM 124.6 88.4 34.0 324.0 | H 1.787 | V 0.292 | pL -0.019 | vL 0.018 | ∇ 0.098\n",
      "Status saved\n",
      "U 191 | F 391168 | FPS 0672 | D 557 | rR:μσmM 0.68 0.33 0.00 0.92 | F:μσmM 108.5 106.4 28.0 324.0 | H 1.748 | V 0.325 | pL -0.016 | vL 0.016 | ∇ 0.156\n",
      "U 192 | F 393216 | FPS 0656 | D 560 | rR:μσmM 0.64 0.33 0.00 0.93 | F:μσmM 124.8 109.4 24.0 324.0 | H 1.719 | V 0.305 | pL 0.018 | vL 0.021 | ∇ 0.116\n",
      "U 193 | F 395264 | FPS 0715 | D 563 | rR:μσmM 0.69 0.29 0.00 0.92 | F:μσmM 108.8 92.0 29.0 324.0 | H 1.783 | V 0.238 | pL 0.005 | vL 0.011 | ∇ 0.096\n",
      "U 194 | F 397312 | FPS 0623 | D 566 | rR:μσmM 0.57 0.31 0.00 0.93 | F:μσmM 148.2 102.3 24.0 324.0 | H 1.752 | V 0.325 | pL -0.027 | vL 0.021 | ∇ 0.148\n",
      "U 195 | F 399360 | FPS 0664 | D 569 | rR:μσmM 0.69 0.29 0.00 0.94 | F:μσmM 106.7 96.0 21.0 324.0 | H 1.734 | V 0.343 | pL -0.032 | vL 0.020 | ∇ 0.130\n",
      "U 196 | F 401408 | FPS 0635 | D 572 | rR:μσmM 0.78 0.18 0.35 0.94 | F:μσmM 77.8 64.1 23.0 234.0 | H 1.753 | V 0.332 | pL 0.006 | vL 0.014 | ∇ 0.108\n",
      "U 197 | F 403456 | FPS 0687 | D 575 | rR:μσmM 0.62 0.25 0.00 0.91 | F:μσmM 133.7 87.4 33.0 324.0 | H 1.729 | V 0.359 | pL 0.003 | vL 0.026 | ∇ 0.161\n",
      "U 198 | F 405504 | FPS 0691 | D 578 | rR:μσmM 0.76 0.19 0.00 0.93 | F:μσmM 84.2 63.3 24.0 324.0 | H 1.700 | V 0.427 | pL -0.049 | vL 0.017 | ∇ 0.121\n",
      "U 199 | F 407552 | FPS 0755 | D 581 | rR:μσmM 0.79 0.13 0.40 0.94 | F:μσmM 75.0 48.5 21.0 216.0 | H 1.672 | V 0.457 | pL -0.042 | vL 0.023 | ∇ 0.169\n",
      "U 200 | F 409600 | FPS 0724 | D 584 | rR:μσmM 0.74 0.21 0.00 0.92 | F:μσmM 90.6 70.2 29.0 324.0 | H 1.730 | V 0.381 | pL 0.033 | vL 0.016 | ∇ 0.125\n",
      "Status saved\n",
      "U 201 | F 411648 | FPS 0710 | D 587 | rR:μσmM 0.81 0.12 0.52 0.94 | F:μσmM 70.0 42.6 22.0 174.0 | H 1.656 | V 0.472 | pL -0.025 | vL 0.022 | ∇ 0.159\n",
      "U 202 | F 413696 | FPS 0717 | D 590 | rR:μσmM 0.71 0.18 0.31 0.92 | F:μσmM 103.1 66.5 29.0 248.0 | H 1.685 | V 0.402 | pL -0.021 | vL 0.020 | ∇ 0.111\n",
      "U 203 | F 415744 | FPS 0694 | D 593 | rR:μσmM 0.76 0.16 0.36 0.91 | F:μσmM 86.7 59.2 32.0 230.0 | H 1.690 | V 0.392 | pL -0.007 | vL 0.013 | ∇ 0.091\n",
      "U 204 | F 417792 | FPS 0646 | D 596 | rR:μσmM 0.77 0.14 0.34 0.93 | F:μσmM 81.1 50.3 25.0 237.0 | H 1.656 | V 0.427 | pL 0.024 | vL 0.014 | ∇ 0.140\n",
      "U 205 | F 419840 | FPS 0722 | D 599 | rR:μσmM 0.70 0.26 0.00 0.93 | F:μσmM 103.3 86.3 27.0 324.0 | H 1.706 | V 0.390 | pL -0.013 | vL 0.012 | ∇ 0.104\n",
      "U 206 | F 421888 | FPS 0753 | D 601 | rR:μσmM 0.73 0.18 0.14 0.91 | F:μσmM 97.3 65.7 32.0 310.0 | H 1.727 | V 0.394 | pL 0.010 | vL 0.007 | ∇ 0.077\n",
      "U 207 | F 423936 | FPS 0735 | D 604 | rR:μσmM 0.66 0.23 0.00 0.93 | F:μσmM 121.5 78.6 26.0 324.0 | H 1.682 | V 0.434 | pL 0.023 | vL 0.011 | ∇ 0.097\n",
      "U 208 | F 425984 | FPS 0718 | D 607 | rR:μσmM 0.76 0.19 0.00 0.93 | F:μσmM 83.0 62.2 26.0 324.0 | H 1.680 | V 0.445 | pL 0.018 | vL 0.015 | ∇ 0.107\n",
      "U 209 | F 428032 | FPS 0662 | D 610 | rR:μσmM 0.75 0.15 0.25 0.93 | F:μσmM 90.5 54.0 26.0 269.0 | H 1.670 | V 0.474 | pL -0.018 | vL 0.012 | ∇ 0.191\n",
      "U 210 | F 430080 | FPS 0669 | D 613 | rR:μσmM 0.81 0.10 0.59 0.95 | F:μσmM 68.0 36.3 17.0 149.0 | H 1.661 | V 0.460 | pL 0.024 | vL 0.015 | ∇ 0.130\n",
      "Status saved\n",
      "U 211 | F 432128 | FPS 0700 | D 616 | rR:μσmM 0.80 0.17 0.19 0.95 | F:μσmM 73.8 62.7 19.0 290.0 | H 1.617 | V 0.498 | pL -0.006 | vL 0.021 | ∇ 0.127\n",
      "U 212 | F 434176 | FPS 0739 | D 619 | rR:μσmM 0.78 0.26 0.00 0.95 | F:μσmM 75.1 82.9 18.0 324.0 | H 1.603 | V 0.505 | pL -0.043 | vL 0.023 | ∇ 0.192\n",
      "U 213 | F 436224 | FPS 0714 | D 622 | rR:μσmM 0.83 0.14 0.30 0.93 | F:μσmM 61.6 51.6 24.0 253.0 | H 1.579 | V 0.523 | pL 0.017 | vL 0.019 | ∇ 0.123\n",
      "U 214 | F 438272 | FPS 0709 | D 625 | rR:μσmM 0.83 0.17 0.00 0.94 | F:μσmM 60.3 54.0 21.0 324.0 | H 1.596 | V 0.516 | pL 0.012 | vL 0.016 | ∇ 0.126\n",
      "U 215 | F 440320 | FPS 0717 | D 627 | rR:μσmM 0.79 0.18 0.00 0.93 | F:μσmM 73.4 60.6 27.0 324.0 | H 1.642 | V 0.498 | pL -0.056 | vL 0.017 | ∇ 0.144\n",
      "U 216 | F 442368 | FPS 0739 | D 630 | rR:μσmM 0.85 0.11 0.31 0.94 | F:μσmM 55.5 39.3 21.0 249.0 | H 1.599 | V 0.579 | pL -0.021 | vL 0.012 | ∇ 0.128\n",
      "U 217 | F 444416 | FPS 0708 | D 633 | rR:μσmM 0.84 0.09 0.54 0.92 | F:μσmM 58.7 33.3 29.0 167.0 | H 1.588 | V 0.596 | pL 0.012 | vL 0.011 | ∇ 0.107\n",
      "U 218 | F 446464 | FPS 0642 | D 636 | rR:μσmM 0.83 0.09 0.63 0.94 | F:μσmM 62.6 33.6 23.0 132.0 | H 1.599 | V 0.568 | pL 0.007 | vL 0.014 | ∇ 0.090\n",
      "U 219 | F 448512 | FPS 0687 | D 639 | rR:μσmM 0.86 0.09 0.58 0.95 | F:μσmM 51.6 31.9 19.0 150.0 | H 1.522 | V 0.605 | pL -0.017 | vL 0.013 | ∇ 0.117\n",
      "U 220 | F 450560 | FPS 0682 | D 642 | rR:μσmM 0.85 0.08 0.63 0.94 | F:μσmM 55.6 28.0 21.0 132.0 | H 1.581 | V 0.600 | pL 0.032 | vL 0.012 | ∇ 0.109\n",
      "Status saved\n",
      "U 221 | F 452608 | FPS 0678 | D 645 | rR:μσmM 0.84 0.12 0.31 0.94 | F:μσmM 58.1 44.8 21.0 248.0 | H 1.574 | V 0.553 | pL 0.033 | vL 0.010 | ∇ 0.116\n",
      "U 222 | F 454656 | FPS 0677 | D 648 | rR:μσmM 0.83 0.16 0.00 0.94 | F:μσmM 58.9 52.8 23.0 324.0 | H 1.620 | V 0.519 | pL 0.045 | vL 0.017 | ∇ 0.127\n",
      "U 223 | F 456704 | FPS 0712 | D 651 | rR:μσmM 0.79 0.24 0.00 0.95 | F:μσmM 74.1 81.0 19.0 324.0 | H 1.597 | V 0.501 | pL 0.032 | vL 0.022 | ∇ 0.144\n",
      "U 224 | F 458752 | FPS 0768 | D 654 | rR:μσmM 0.83 0.14 0.25 0.94 | F:μσmM 62.7 50.4 22.0 271.0 | H 1.572 | V 0.535 | pL -0.023 | vL 0.016 | ∇ 0.118\n",
      "U 225 | F 460800 | FPS 0733 | D 657 | rR:μσmM 0.83 0.10 0.55 0.93 | F:μσmM 61.0 36.5 26.0 163.0 | H 1.511 | V 0.584 | pL 0.010 | vL 0.013 | ∇ 0.120\n",
      "U 226 | F 462848 | FPS 0702 | D 660 | rR:μσmM 0.87 0.07 0.68 0.94 | F:μσmM 45.5 23.9 21.0 115.0 | H 1.513 | V 0.572 | pL -0.043 | vL 0.015 | ∇ 0.139\n",
      "U 227 | F 464896 | FPS 0706 | D 663 | rR:μσmM 0.86 0.11 0.32 0.94 | F:μσmM 51.5 39.0 21.0 243.0 | H 1.557 | V 0.532 | pL -0.004 | vL 0.015 | ∇ 0.107\n",
      "U 228 | F 466944 | FPS 0685 | D 666 | rR:μσmM 0.84 0.16 0.00 0.95 | F:μσmM 55.9 53.2 19.0 324.0 | H 1.496 | V 0.561 | pL 0.004 | vL 0.017 | ∇ 0.101\n",
      "U 229 | F 468992 | FPS 0701 | D 669 | rR:μσmM 0.85 0.14 0.00 0.95 | F:μσmM 52.7 47.3 18.0 324.0 | H 1.455 | V 0.632 | pL -0.039 | vL 0.012 | ∇ 0.115\n",
      "U 230 | F 471040 | FPS 0702 | D 672 | rR:μσmM 0.88 0.09 0.36 0.95 | F:μσmM 43.7 33.0 18.0 231.0 | H 1.505 | V 0.621 | pL -0.008 | vL 0.012 | ∇ 0.110\n",
      "Status saved\n",
      "U 231 | F 473088 | FPS 0748 | D 674 | rR:μσmM 0.88 0.09 0.47 0.95 | F:μσmM 43.4 30.8 19.0 189.0 | H 1.466 | V 0.643 | pL -0.003 | vL 0.012 | ∇ 0.088\n",
      "U 232 | F 475136 | FPS 0735 | D 677 | rR:μσmM 0.86 0.15 0.00 0.95 | F:μσmM 49.5 50.4 18.0 324.0 | H 1.489 | V 0.622 | pL 0.029 | vL 0.014 | ∇ 0.112\n",
      "U 233 | F 477184 | FPS 0759 | D 680 | rR:μσmM 0.87 0.09 0.62 0.96 | F:μσmM 46.4 32.9 16.0 137.0 | H 1.510 | V 0.619 | pL 0.029 | vL 0.011 | ∇ 0.102\n",
      "U 234 | F 479232 | FPS 0700 | D 683 | rR:μσmM 0.85 0.15 0.00 0.96 | F:μσmM 53.4 48.9 16.0 324.0 | H 1.491 | V 0.611 | pL 0.022 | vL 0.010 | ∇ 0.092\n",
      "U 235 | F 481280 | FPS 0721 | D 686 | rR:μσmM 0.88 0.05 0.76 0.94 | F:μσmM 43.2 19.4 21.0 85.0 | H 1.540 | V 0.565 | pL 0.002 | vL 0.017 | ∇ 0.175\n",
      "U 236 | F 483328 | FPS 0720 | D 688 | rR:μσmM 0.84 0.17 0.00 0.94 | F:μσmM 55.7 57.1 20.0 324.0 | H 1.495 | V 0.589 | pL -0.041 | vL 0.013 | ∇ 0.110\n",
      "U 237 | F 485376 | FPS 0712 | D 691 | rR:μσmM 0.90 0.05 0.71 0.95 | F:μσmM 36.0 16.9 17.0 105.0 | H 1.451 | V 0.622 | pL -0.019 | vL 0.011 | ∇ 0.136\n",
      "U 238 | F 487424 | FPS 0659 | D 694 | rR:μσmM 0.87 0.15 0.00 0.94 | F:μσmM 47.9 50.2 20.0 324.0 | H 1.476 | V 0.673 | pL -0.021 | vL 0.009 | ∇ 0.106\n",
      "U 239 | F 489472 | FPS 0673 | D 697 | rR:μσmM 0.88 0.08 0.64 0.95 | F:μσmM 42.6 28.3 17.0 131.0 | H 1.485 | V 0.619 | pL 0.037 | vL 0.011 | ∇ 0.085\n",
      "U 240 | F 491520 | FPS 0723 | D 700 | rR:μσmM 0.90 0.05 0.71 0.95 | F:μσmM 37.7 19.7 17.0 105.0 | H 1.446 | V 0.612 | pL -0.005 | vL 0.011 | ∇ 0.090\n",
      "Status saved\n",
      "U 241 | F 493568 | FPS 0749 | D 703 | rR:μσmM 0.87 0.15 0.00 0.95 | F:μσmM 45.9 51.1 17.0 324.0 | H 1.511 | V 0.552 | pL 0.024 | vL 0.017 | ∇ 0.172\n",
      "U 242 | F 495616 | FPS 0737 | D 706 | rR:μσmM 0.86 0.14 0.29 0.95 | F:μσmM 51.5 51.6 17.0 254.0 | H 1.523 | V 0.542 | pL -0.050 | vL 0.017 | ∇ 0.141\n",
      "U 243 | F 497664 | FPS 0677 | D 709 | rR:μσmM 0.86 0.15 0.00 0.95 | F:μσmM 50.7 47.7 18.0 324.0 | H 1.503 | V 0.579 | pL 0.005 | vL 0.015 | ∇ 0.103\n",
      "U 244 | F 499712 | FPS 0634 | D 712 | rR:μσmM 0.86 0.16 0.00 0.95 | F:μσmM 50.7 52.7 19.0 324.0 | H 1.493 | V 0.594 | pL -0.033 | vL 0.014 | ∇ 0.162\n",
      "U 245 | F 501760 | FPS 0679 | D 715 | rR:μσmM 0.88 0.06 0.63 0.95 | F:μσmM 42.6 22.9 18.0 132.0 | H 1.474 | V 0.665 | pL -0.039 | vL 0.012 | ∇ 0.122\n",
      "U 246 | F 503808 | FPS 0689 | D 718 | rR:μσmM 0.90 0.05 0.66 0.95 | F:μσmM 36.2 18.5 19.0 122.0 | H 1.471 | V 0.653 | pL 0.014 | vL 0.012 | ∇ 0.096\n",
      "U 247 | F 505856 | FPS 0684 | D 721 | rR:μσmM 0.88 0.08 0.58 0.95 | F:μσmM 41.9 27.4 19.0 151.0 | H 1.447 | V 0.648 | pL -0.023 | vL 0.008 | ∇ 0.092\n",
      "U 248 | F 507904 | FPS 0663 | D 724 | rR:μσmM 0.88 0.13 0.20 0.95 | F:μσmM 41.6 45.0 17.0 288.0 | H 1.376 | V 0.707 | pL -0.006 | vL 0.010 | ∇ 0.083\n",
      "U 249 | F 509952 | FPS 0683 | D 727 | rR:μσmM 0.91 0.05 0.63 0.96 | F:μσmM 33.1 19.2 15.0 132.0 | H 1.341 | V 0.730 | pL 0.006 | vL 0.010 | ∇ 0.091\n",
      "U 250 | F 512000 | FPS 0720 | D 730 | rR:μσmM 0.91 0.05 0.74 0.95 | F:μσmM 33.3 19.6 18.0 94.0 | H 1.391 | V 0.672 | pL 0.037 | vL 0.012 | ∇ 0.145\n",
      "Status saved\n",
      "U 251 | F 514048 | FPS 0736 | D 733 | rR:μσmM 0.88 0.10 0.36 0.95 | F:μσmM 44.1 36.5 19.0 231.0 | H 1.402 | V 0.680 | pL -0.013 | vL 0.014 | ∇ 0.119\n",
      "U 252 | F 516096 | FPS 0718 | D 736 | rR:μσmM 0.88 0.08 0.49 0.95 | F:μσmM 41.7 30.2 17.0 182.0 | H 1.427 | V 0.673 | pL -0.021 | vL 0.010 | ∇ 0.094\n",
      "U 253 | F 518144 | FPS 0722 | D 739 | rR:μσmM 0.91 0.04 0.73 0.96 | F:μσmM 33.0 16.1 16.0 99.0 | H 1.349 | V 0.743 | pL -0.047 | vL 0.007 | ∇ 0.089\n",
      "U 254 | F 520192 | FPS 0714 | D 741 | rR:μσmM 0.91 0.04 0.74 0.95 | F:μσmM 33.4 15.4 17.0 93.0 | H 1.350 | V 0.728 | pL 0.015 | vL 0.008 | ∇ 0.083\n",
      "U 255 | F 522240 | FPS 0734 | D 744 | rR:μσmM 0.91 0.07 0.51 0.96 | F:μσmM 32.2 23.8 15.0 178.0 | H 1.360 | V 0.742 | pL -0.004 | vL 0.008 | ∇ 0.088\n",
      "U 256 | F 524288 | FPS 0700 | D 747 | rR:μσmM 0.91 0.04 0.73 0.95 | F:μσmM 33.3 15.9 17.0 99.0 | H 1.445 | V 0.740 | pL 0.006 | vL 0.006 | ∇ 0.067\n",
      "U 257 | F 526336 | FPS 0764 | D 750 | rR:μσmM 0.90 0.05 0.70 0.95 | F:μσmM 34.8 16.9 19.0 107.0 | H 1.461 | V 0.749 | pL 0.027 | vL 0.007 | ∇ 0.081\n",
      "U 258 | F 528384 | FPS 0760 | D 753 | rR:μσmM 0.90 0.06 0.54 0.95 | F:μσmM 37.5 22.6 19.0 165.0 | H 1.492 | V 0.708 | pL 0.012 | vL 0.010 | ∇ 0.092\n",
      "U 259 | F 530432 | FPS 0715 | D 755 | rR:μσmM 0.89 0.05 0.71 0.95 | F:μσmM 40.6 17.6 19.0 104.0 | H 1.442 | V 0.695 | pL 0.009 | vL 0.005 | ∇ 0.055\n",
      "U 260 | F 532480 | FPS 0708 | D 758 | rR:μσmM 0.88 0.06 0.60 0.94 | F:μσmM 42.5 21.7 20.0 143.0 | H 1.502 | V 0.648 | pL 0.021 | vL 0.012 | ∇ 0.126\n",
      "Status saved\n",
      "U 261 | F 534528 | FPS 0718 | D 761 | rR:μσmM 0.88 0.09 0.41 0.95 | F:μσmM 44.7 32.7 18.0 212.0 | H 1.514 | V 0.653 | pL 0.029 | vL 0.010 | ∇ 0.084\n",
      "U 262 | F 536576 | FPS 0739 | D 764 | rR:μσmM 0.90 0.05 0.71 0.95 | F:μσmM 37.2 16.4 18.0 106.0 | H 1.526 | V 0.669 | pL -0.018 | vL 0.008 | ∇ 0.081\n",
      "U 263 | F 538624 | FPS 0705 | D 767 | rR:μσmM 0.87 0.15 0.00 0.95 | F:μσmM 45.8 48.3 19.0 324.0 | H 1.489 | V 0.699 | pL -0.007 | vL 0.008 | ∇ 0.067\n",
      "U 264 | F 540672 | FPS 0746 | D 770 | rR:μσmM 0.89 0.05 0.68 0.96 | F:μσmM 38.0 19.8 16.0 117.0 | H 1.414 | V 0.716 | pL -0.006 | vL 0.007 | ∇ 0.058\n",
      "U 265 | F 542720 | FPS 0734 | D 772 | rR:μσmM 0.91 0.05 0.73 0.95 | F:μσmM 34.0 16.3 19.0 96.0 | H 1.356 | V 0.694 | pL -0.024 | vL 0.009 | ∇ 0.092\n",
      "U 266 | F 544768 | FPS 0728 | D 775 | rR:μσmM 0.90 0.07 0.50 0.96 | F:μσmM 34.8 26.3 14.0 181.0 | H 1.308 | V 0.748 | pL -0.027 | vL 0.008 | ∇ 0.071\n",
      "U 267 | F 546816 | FPS 0715 | D 778 | rR:μσmM 0.90 0.05 0.68 0.96 | F:μσmM 35.6 19.3 15.0 117.0 | H 1.330 | V 0.729 | pL -0.005 | vL 0.006 | ∇ 0.069\n",
      "U 268 | F 548864 | FPS 0720 | D 781 | rR:μσmM 0.92 0.03 0.82 0.96 | F:μσmM 30.2 12.4 15.0 66.0 | H 1.313 | V 0.751 | pL -0.019 | vL 0.007 | ∇ 0.083\n",
      "U 269 | F 550912 | FPS 0748 | D 784 | rR:μσmM 0.90 0.05 0.73 0.95 | F:μσmM 34.4 17.8 19.0 96.0 | H 1.351 | V 0.738 | pL -0.032 | vL 0.006 | ∇ 0.070\n",
      "Number of frames:  552960\n"
     ]
    }
   ],
   "source": [
    "# Train model\n",
    "\n",
    "num_frames = status[\"num_frames\"]\n",
    "update = status[\"update\"]\n",
    "start_time = time.time()\n",
    "\n",
    "# Moving average parameters\n",
    "threshold = 0.90\n",
    "window = 5\n",
    "rreturn_total = 0\n",
    "i = 0\n",
    "\n",
    "while num_frames < args.frames:\n",
    "    # Update model parameters\n",
    "\n",
    "    update_start_time = time.time()\n",
    "    exps, logs1 = algo.collect_experiences()\n",
    "    logs2 = algo.update_parameters(exps)\n",
    "    logs = {**logs1, **logs2}\n",
    "    update_end_time = time.time()\n",
    "\n",
    "    num_frames += logs[\"num_frames\"]\n",
    "    update += 1\n",
    "\n",
    "    # Print logs\n",
    "\n",
    "    if update % args.log_interval == 0:\n",
    "        fps = logs[\"num_frames\"]/(update_end_time - update_start_time)\n",
    "        duration = int(time.time() - start_time)\n",
    "        return_per_episode = utils.synthesize(logs[\"return_per_episode\"])\n",
    "        rreturn_per_episode = utils.synthesize(logs[\"reshaped_return_per_episode\"])\n",
    "        num_frames_per_episode = utils.synthesize(logs[\"num_frames_per_episode\"])\n",
    "        # Moving average to break loop if mean reward threshold reached\n",
    "        rreturn_total +=rreturn_per_episode['mean']\n",
    "        i+=1\n",
    "        if i >= window:\n",
    "            rreturn_mavg = rreturn_total / i\n",
    "            if rreturn_mavg >= threshold: \n",
    "                break\n",
    "            else:\n",
    "                i = 0\n",
    "                rreturn_total = 0\n",
    "\n",
    "        header = [\"update\", \"frames\", \"FPS\", \"duration\"]\n",
    "        data = [update, num_frames, fps, duration]\n",
    "        header += [\"rreturn_\" + key for key in rreturn_per_episode.keys()]\n",
    "        data += rreturn_per_episode.values()\n",
    "        header += [\"num_frames_\" + key for key in num_frames_per_episode.keys()]\n",
    "        data += num_frames_per_episode.values()\n",
    "        header += [\"entropy\", \"value\", \"policy_loss\", \"value_loss\", \"grad_norm\"]\n",
    "        data += [logs[\"entropy\"], logs[\"value\"], logs[\"policy_loss\"], logs[\"value_loss\"], logs[\"grad_norm\"]]\n",
    "\n",
    "        txt_logger.info(\n",
    "            \"U {} | F {:06} | FPS {:04.0f} | D {} | rR:μσmM {:.2f} {:.2f} {:.2f} {:.2f} | F:μσmM {:.1f} {:.1f} {} {} | H {:.3f} | V {:.3f} | pL {:.3f} | vL {:.3f} | ∇ {:.3f}\"\n",
    "            .format(*data))\n",
    "\n",
    "        header += [\"return_\" + key for key in return_per_episode.keys()]\n",
    "        data += return_per_episode.values()\n",
    "\n",
    "        if status[\"num_frames\"] == 0:\n",
    "            csv_logger.writerow(header)\n",
    "        csv_logger.writerow(data)\n",
    "        csv_file.flush()\n",
    "\n",
    "        for field, value in zip(header, data):\n",
    "            tb_writer.add_scalar(field, value, num_frames)\n",
    "\n",
    "    # Save status\n",
    "\n",
    "    if args.save_interval > 0 and update % args.save_interval == 0:\n",
    "        status = {\"num_frames\": num_frames, \"update\": update,\n",
    "                  \"model_state\": acmodel.state_dict(), \"optimizer_state\": algo.optimizer.state_dict()}\n",
    "        if hasattr(preprocess_obss, \"vocab\"):\n",
    "            status[\"vocab\"] = preprocess_obss.vocab.vocab\n",
    "        utils.save_status(status, model_dir)\n",
    "        txt_logger.info(\"Status saved\")\n",
    "        \n",
    "print(\"Number of frames: \", num_frames)"
   ]
  },
  {
   "cell_type": "markdown",
   "metadata": {},
   "source": [
    "## Evaluation"
   ]
  },
  {
   "cell_type": "markdown",
   "metadata": {},
   "source": [
    "### Load parameters"
   ]
  },
  {
   "cell_type": "code",
   "execution_count": 77,
   "metadata": {},
   "outputs": [
    {
     "name": "stdout",
     "output_type": "stream",
     "text": [
      "{'env': 'MiniGrid-SimpleCrossingS9N1-v0', 'model': 'MiniGrid-SimpleCrossingS9N1-v0_PPO_lstm_frames_1M_recur_32_proc_16_RMSProp_lr_7e4_gae_099_test_MiniGrid-LavaCrossingS9N1-v0', 'episodes': 100, 'seed': 3, 'procs': 16, 'argmax': False, 'worst_episodes_to_show': 10, 'mem': True, 'use_rim': False}\n"
     ]
    }
   ],
   "source": [
    "from torch_ac.utils.penv import ParallelEnv\n",
    "\n",
    "#env_id = 'MiniGrid-Empty-Random-6x6-v0'\n",
    "#env_id = 'MiniGrid-DoorKey-6x6-v0'\n",
    "#env_id = 'MiniGrid-Empty-8x8-v0'\n",
    "#env_id = 'MiniGrid-WallGapS6-v0'\n",
    "env_id = 'MiniGrid-SimpleCrossingS9N1-v0'\n",
    "#env_id = 'MiniGrid-SimpleCrossingS9N2-v0'\n",
    "#env_id = 'MiniGrid-SimpleCrossingS9N3-v0'\n",
    "#env_id = 'MiniGrid-SimpleCrossingS11N5-v0'\n",
    "#env_id = 'MiniGrid-LavaCrossingS9N2-v0'\n",
    "args.env = env_id\n",
    "\n",
    "## Hyper-parameters\n",
    "args = {\n",
    "# General parameters\n",
    "'env':args.env,\n",
    "'model':model,\n",
    "'episodes':100,\n",
    "'seed':3,\n",
    "'procs':16,\n",
    "'argmax':False,\n",
    "'worst_episodes_to_show':10,\n",
    "'mem':args.mem,\n",
    "'use_rim':args.use_rim\n",
    "#'num_units':args.num_units,\n",
    "#'k':args.k\n",
    "}\n",
    "\n",
    "args = DictList(args)\n",
    "print(args)"
   ]
  },
  {
   "cell_type": "markdown",
   "metadata": {},
   "source": [
    "### Set environments, agent and logs"
   ]
  },
  {
   "cell_type": "code",
   "execution_count": 78,
   "metadata": {},
   "outputs": [
    {
     "name": "stdout",
     "output_type": "stream",
     "text": [
      "Device: cpu\n",
      "\n",
      "Environments loaded\n",
      "\n",
      "Agent loaded\n",
      "\n"
     ]
    }
   ],
   "source": [
    "# Set seed for all randomness sources\n",
    "\n",
    "utils.seed(args.seed)\n",
    "\n",
    "# Set device\n",
    "\n",
    "device = torch.device(\"cuda\" if torch.cuda.is_available() else \"cpu\")\n",
    "print(f\"Device: {device}\\n\")\n",
    "\n",
    "# Load environments\n",
    "\n",
    "envs = []\n",
    "for i in range(args.procs):\n",
    "    env = utils.make_env(args.env, args.seed + 10000 * i)\n",
    "    envs.append(env)\n",
    "env = ParallelEnv(envs)\n",
    "print(\"Environments loaded\\n\")\n",
    "\n",
    "# Load agent\n",
    "\n",
    "model_dir = utils.get_model_dir(args.model)\n",
    "agent = utils.Agent(obs_space=env.observation_space, action_space=env.action_space, model_dir=model_dir, device=device, argmax=args.argmax, num_envs=args.procs, use_memory=args.mem, use_rim=args.use_rim)\n",
    "print(\"Agent loaded\\n\")\n",
    "\n",
    "# Initialize logs\n",
    "\n",
    "logs = {\"num_frames_per_episode\": [], \"return_per_episode\": []}"
   ]
  },
  {
   "cell_type": "markdown",
   "metadata": {},
   "source": [
    "### Run agent"
   ]
  },
  {
   "cell_type": "code",
   "execution_count": 79,
   "metadata": {},
   "outputs": [
    {
     "name": "stdout",
     "output_type": "stream",
     "text": [
      "Agent run completed\n",
      "\n"
     ]
    }
   ],
   "source": [
    "# Run agent\n",
    "\n",
    "start_time = time.time()\n",
    "\n",
    "obss = env.reset()\n",
    "\n",
    "log_done_counter = 0\n",
    "log_episode_return = torch.zeros(args.procs, device=device)\n",
    "log_episode_num_frames = torch.zeros(args.procs, device=device)\n",
    "\n",
    "while log_done_counter < args.episodes:\n",
    "    actions = agent.get_actions(obss)\n",
    "    obss, rewards, dones, _ = env.step(actions)\n",
    "    agent.analyze_feedbacks(rewards, dones)\n",
    "\n",
    "    log_episode_return += torch.tensor(rewards, device=device, dtype=torch.float)\n",
    "    log_episode_num_frames += torch.ones(args.procs, device=device)\n",
    "\n",
    "    for i, done in enumerate(dones):\n",
    "        if done:\n",
    "            log_done_counter += 1\n",
    "            logs[\"return_per_episode\"].append(log_episode_return[i].item())\n",
    "            logs[\"num_frames_per_episode\"].append(log_episode_num_frames[i].item())\n",
    "\n",
    "    mask = 1 - torch.tensor(dones, device=device, dtype=torch.float)\n",
    "    log_episode_return *= mask\n",
    "    log_episode_num_frames *= mask\n",
    "\n",
    "end_time = time.time()\n",
    "print(\"Agent run completed\\n\")"
   ]
  },
  {
   "cell_type": "markdown",
   "metadata": {},
   "source": [
    "### Print logs and results"
   ]
  },
  {
   "cell_type": "code",
   "execution_count": 81,
   "metadata": {},
   "outputs": [
    {
     "name": "stdout",
     "output_type": "stream",
     "text": [
      "F 3841.0 | FPS 3734 | D 1 | R:μσmM 0.89 0.05 0.68 0.95 | F:μσmM 38.4 19.2 17.0 114.0\n",
      "\n",
      "10 worst episodes:\n",
      "- episode 37: R=0.6833333373069763, F=114.0\n",
      "- episode 81: R=0.6888889074325562, F=112.0\n",
      "- episode 46: R=0.7388888597488403, F=94.0\n",
      "- episode 93: R=0.7555555701255798, F=88.0\n",
      "- episode 72: R=0.7666666507720947, F=84.0\n",
      "- episode 68: R=0.7777777910232544, F=80.0\n",
      "- episode 78: R=0.7777777910232544, F=80.0\n",
      "- episode 62: R=0.7972221970558167, F=73.0\n",
      "- episode 45: R=0.8027777671813965, F=71.0\n",
      "- episode 91: R=0.824999988079071, F=63.0\n"
     ]
    }
   ],
   "source": [
    "# Print logs\n",
    "\n",
    "num_frames = sum(logs[\"num_frames_per_episode\"])\n",
    "fps = num_frames/(end_time - start_time)\n",
    "duration = int(end_time - start_time)\n",
    "return_per_episode = utils.synthesize(logs[\"return_per_episode\"])\n",
    "num_frames_per_episode = utils.synthesize(logs[\"num_frames_per_episode\"])\n",
    "\n",
    "print(\"F {} | FPS {:.0f} | D {} | R:μσmM {:.2f} {:.2f} {:.2f} {:.2f} | F:μσmM {:.1f} {:.1f} {} {}\"\n",
    "      .format(num_frames, fps, duration,\n",
    "              *return_per_episode.values(),\n",
    "              *num_frames_per_episode.values()))\n",
    "\n",
    "# Print worst episodes\n",
    "\n",
    "n = args.worst_episodes_to_show\n",
    "if n > 0:\n",
    "    print(\"\\n{} worst episodes:\".format(n))\n",
    "\n",
    "    indexes = sorted(range(len(logs[\"return_per_episode\"])), key=lambda k: logs[\"return_per_episode\"][k])\n",
    "    for i in indexes[:n]:\n",
    "        print(\"- episode {}: R={}, F={}\".format(i, logs[\"return_per_episode\"][i], logs[\"num_frames_per_episode\"][i]))"
   ]
  },
  {
   "cell_type": "markdown",
   "metadata": {},
   "source": [
    "## Visualization"
   ]
  },
  {
   "cell_type": "markdown",
   "metadata": {},
   "source": [
    "### Load parameters"
   ]
  },
  {
   "cell_type": "code",
   "execution_count": 22,
   "metadata": {},
   "outputs": [
    {
     "name": "stdout",
     "output_type": "stream",
     "text": [
      "{'env': 'MiniGrid-Empty-Random-6x6-v0', 'model': 'MiniGrid-Empty-Random-6x6-v0_meta_RIM_5_3_200k_test_2', 'seed': 15, 'shift': 0, 'argmax': False, 'pause': 0.1, 'gif': 'MiniGrid-Empty-Random-6x6-v0_meta_RIM_5_3_200k_test_2', 'episodes': 5, 'use_rim': True, 'num_units': 5, 'k': 3}\n"
     ]
    }
   ],
   "source": [
    "import array2gif\n",
    "from pathlib import Path\n",
    "import numpy\n",
    "\n",
    "## Hyper-parameters\n",
    "args = {\n",
    "# General parameters\n",
    "'env':args.env,\n",
    "'model':args.model,\n",
    "'seed':15,\n",
    "'shift':0,\n",
    "'argmax':False,\n",
    "'pause':0.1,\n",
    "'gif':args.model,\n",
    "'episodes':5,\n",
    "# Model Parameters\n",
    "'use_rim':args.use_rim,\n",
    "'num_units':args.num_units,\n",
    "'k':args.k\n",
    "}\n",
    "\n",
    "args = DictList(args)\n",
    "print(args)"
   ]
  },
  {
   "cell_type": "markdown",
   "metadata": {},
   "source": [
    "### Set environment, agent and logs"
   ]
  },
  {
   "cell_type": "code",
   "execution_count": 23,
   "metadata": {},
   "outputs": [
    {
     "name": "stdout",
     "output_type": "stream",
     "text": [
      "Device: cpu\n",
      "\n",
      "Environment loaded\n",
      "\n",
      "Agent loaded\n",
      "\n"
     ]
    }
   ],
   "source": [
    "# Set seed for all randomness sources\n",
    "\n",
    "utils.seed(args.seed)\n",
    "\n",
    "# Set device\n",
    "\n",
    "device = torch.device(\"cuda\" if torch.cuda.is_available() else \"cpu\")\n",
    "print(f\"Device: {device}\\n\")\n",
    "\n",
    "# Load environment\n",
    "\n",
    "env = utils.make_env(args.env, args.seed)\n",
    "for _ in range(args.shift):\n",
    "    env.reset()\n",
    "print(\"Environment loaded\\n\")\n",
    "\n",
    "# Load agent\n",
    "\n",
    "model_dir = utils.get_model_dir(args.model)\n",
    "agent = utils.Agent(env.observation_space, env.action_space, model_dir, device, args.argmax, use_rim = args.use_rim, num_units = args.num_units, k = args.k)\n",
    "\n",
    "print(\"Agent loaded\\n\")"
   ]
  },
  {
   "cell_type": "markdown",
   "metadata": {},
   "source": [
    "### Make animation"
   ]
  },
  {
   "cell_type": "code",
   "execution_count": 66,
   "metadata": {},
   "outputs": [],
   "source": [
    "%%capture\n",
    "# Run the agent\n",
    "\n",
    "if args.gif:\n",
    "   from array2gif import write_gif\n",
    "   frames = []\n",
    "\n",
    "# Create a window to view the environment\n",
    "env.render('human')\n",
    "\n",
    "for episode in range(args.episodes):\n",
    "    obs = env.reset()\n",
    "    done2 = False\n",
    "    while True:\n",
    "        env.render('human')\n",
    "        if args.gif:\n",
    "            frames.append(numpy.moveaxis(env.render(\"rgb_array\"), 2, 0))\n",
    "            \n",
    "\n",
    "        action = agent.get_action(obs)\n",
    "        obs, reward, done, _ = env.step(action)\n",
    "        agent.analyze_feedback(reward, done)\n",
    "        \n",
    "        if done or env.window.closed:\n",
    "            if episode == 4:\n",
    "                done2 = True\n",
    "            break\n",
    "    if done2 == True:\n",
    "        env.close()\n",
    "        break\n",
    "    #if env.window.closed:\n",
    "    #    break\n",
    "print('doneeee')\n",
    "if args.gif:\n",
    "    print(\"Saving gif... \", end=\"\")\n",
    "    utils.create_folders_if_necessary(\"./animation\")\n",
    "    #Path(\"./animation\").mkdir(parents=True, exist_ok=True)\n",
    "    write_gif(numpy.array(frames), \"./animation/\"+args.gif+\".gif\")\n",
    "    print(\"Done.\")"
   ]
  },
  {
   "cell_type": "code",
   "execution_count": 67,
   "metadata": {},
   "outputs": [
    {
     "data": {
      "text/html": [
       "<img src=\"data:image/gif;base64,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\" height=\"400\" />"
      ],
      "text/plain": [
       "<IPython.core.display.HTML object>"
      ]
     },
     "metadata": {},
     "output_type": "display_data"
    }
   ],
   "source": [
    "show_animation(args.model)"
   ]
  },
  {
   "cell_type": "markdown",
   "metadata": {},
   "source": [
    "### Make video"
   ]
  },
  {
   "cell_type": "code",
   "execution_count": 24,
   "metadata": {},
   "outputs": [
    {
     "name": "stdout",
     "output_type": "stream",
     "text": [
      "Total reward: 0.89375\n",
      "Total length: 17\n"
     ]
    },
    {
     "data": {
      "text/html": [
       "<video alt=\"test\" autoplay \n",
       "                loop controls style=\"height: 400px;\">\n",
       "                <source src=\"data:video/mp4;base64,AAAAIGZ0eXBpc29tAAACAGlzb21pc28yYXZjMW1wNDEAAAAIZnJlZQAADchtZGF0AAACrgYF//+q3EXpvebZSLeWLNgg2SPu73gyNjQgLSBjb3JlIDE2NCByMzA5NSBiYWVlNDAwIC0gSC4yNjQvTVBFRy00IEFWQyBjb2RlYyAtIENvcHlsZWZ0IDIwMDMtMjAyMiAtIGh0dHA6Ly93d3cudmlkZW9sYW4ub3JnL3gyNjQuaHRtbCAtIG9wdGlvbnM6IGNhYmFjPTEgcmVmPTMgZGVibG9jaz0xOjA6MCBhbmFseXNlPTB4MzoweDExMyBtZT1oZXggc3VibWU9NyBwc3k9MSBwc3lfcmQ9MS4wMDowLjAwIG1peGVkX3JlZj0xIG1lX3JhbmdlPTE2IGNocm9tYV9tZT0xIHRyZWxsaXM9MSA4eDhkY3Q9MSBjcW09MCBkZWFkem9uZT0yMSwxMSBmYXN0X3Bza2lwPTEgY2hyb21hX3FwX29mZnNldD0tMiB0aHJlYWRzPTYgbG9va2FoZWFkX3RocmVhZHM9MSBzbGljZWRfdGhyZWFkcz0wIG5yPTAgZGVjaW1hdGU9MSBpbnRlcmxhY2VkPTAgYmx1cmF5X2NvbXBhdD0wIGNvbnN0cmFpbmVkX2ludHJhPTAgYmZyYW1lcz0zIGJfcHlyYW1pZD0yIGJfYWRhcHQ9MSBiX2JpYXM9MCBkaXJlY3Q9MSB3ZWlnaHRiPTEgb3Blbl9nb3A9MCB3ZWlnaHRwPTIga2V5aW50PTI1MCBrZXlpbnRfbWluPTEwIHNjZW5lY3V0PTQwIGludHJhX3JlZnJlc2g9MCByY19sb29rYWhlYWQ9NDAgcmM9Y3JmIG1idHJlZT0xIGNyZj0yMy4wIHFjb21wPTAuNjAgcXBtaW49MCBxcG1heD02OSBxcHN0ZXA9NCBpcF9yYXRpbz0xLjQwIGFxPTE6MS4wMACAAAACMWWIhAA7//73Tr8ClPI6gOTc/3D7mmw/JI5Sx1T0P3J8XRAMkS2YE4pKm3EwfCC/kAFjM/xkS611IkPzaSN/Z+3f0OXbOzX10KHbHBIXuTG4dIY8fpTrRNDaiMdV49mHhRPxNq4fm7iV+Ksj2IjDYrJzblkmKojv9WPGzGj9ES2dQBICniH28Lt0BXMgaZaeL3Z30IbjQp8rhxnezn29Mf2ecXTLv7eC7PZMAGECUtU8dcjWh85ugNDWc3OMVAYLAciqDKGURdH5/Nx2d9BmV4zAKCSq8aSfs9Mr3HHAckql6btbPNxIw6Y6lmfRB69AjcGTZO1YjXyUnaH07fOskaFFF6oquE9Fu4V1cWjwORZmeSln9nX/2s5KkQpdnJa4AE3DoUNbE9PTU/ztV+AJgDFXbW3dmXCvnZMOZIppgVlA/yYYovZwOlTNHd3LxIsNMiPzaf0LOwJOdNU2qfehFmIeXSBM2rxihYGB/sCAarjFe5Y70dgcQwfB9qnVbHuC8s+ndX5hoMUl7NSCL0kOdX88hM1f0XMZsLQJ0iWgXhvQ52VyZsSfVwWGjlJYSgcyULWXEMUnLN/9XxOfBmf5xrXDwxaAQVUs1efL4kD9DBcqK69VMGxf0ZcX8FQkCKjRGzhhQj+ZI8rxIOWLZoQ19FrguENQJvkx/SIaZbNgBCutBgUq/ftpFQwpnX/aQJLk9iwMR0HMmfez2cYAdyIfQeWjUSyN7tWPAmDve0nHcgdRsQAAAVJBmiRsQ//+obWoXlQlSDBB7wk6Sa1QEwNYYOH4w6QvQBE1tN0ffGIRR8YwKmAEqrO1cpFWZaDvLVk8M29aUicuGN7Frc+DTHi5pc4d8FkGMJIpGJ/hVh7Y3dGtaIUhhQuKkbbQl63g7JaFl4amp+mnMVeyIGYea/LAFQzn9EmV7jWW1CURK6HVDh56L+YD2h+HDtsMQlvPWyR+t9G0lc2Edoi1qejhEzyq080ThPe3WqhqMWS+genwWEPDQRrs5NL9RWZ/yxajNAEuC4hXTQUtPo4wBFX7s45NjIheB1M5xySQoDC+xOm+i2gG40TFDT//x+u+vH1WPe2eNQm/yRq0cCzaN8o7Q57zAPvOU6I/s1pn8Axba+06FiLRX7GNltv2pRuhgegsvOZwnW17ZHVkIX2Rs1r4yUFGssUpa41Giou3I6RcnnX9KavgQutV/HHLgAAAABxBnkJ4hv8sS/AqtGvNaxcyPyeCN61Cc4osdqDhAAAACQGeYXRDfwAQ8AAAAB0BnmNqQ38r/ooccFX6EQBk3FVrmN0rhsF04jSQ8QAAAaVBmmhJqEFomUwII//YlSnApm3eDVByXSxe2nXDoSuGpOpv4jf65Y/zsACH2ZM+EmfeLKf4Jsg1PiUBdhXRQhfV9JpxS3/63fQG3XNYWov2Ar7nA/OzSxGCSdHVjb7kiOSqWp9GZVg1HBObptmgDklA+/aR0FX6Wv70CcwR3SBUXgSenYd5a0KqpjhoTe3mFNmOTI3KQwqlcGTzQoWBbaMiDmoKDqYOqzUSDpJbSxQmVqHNbSgttNQHdwvjvgGT4MRaWWLH9a1U7ZceNm601zh8fUuGd3h5q2L2pJCIkXh98uPCXQUAcdM9GFwEfqemsNNsmBnW258JHnWimSqNNZ2FuDKdiRrX7mFJYQEDPB5UhNwPpGAtvG+FfwSHyG8ln/ItDR9Frp53lX7AaO2nW3+xLN0pi/UenSXaqAsHeC8FgAEJm5HPS9y6+61hbDHHjp/tftT64ePgpIWNUhABHtZO9PqzrToZXFM0AUL+s+5zKg4rMy/o8nwJa0eszolQHWc9XEkAyvpoNF8afdoHyPAd0UURox84GAzspsxMzxrgAPxlKUxFAAAAFEGehkURLDf/8K6y9ZFsOVqLAt+BAAAADAGepXRDfwBDX2dvgQAAAAwBnqdqQ3/vd2XqzVgAAAD1QZqsSahBbJlMCCH//nO6A9qU+s8d6UrBCslB3gpfv8f8eQA18slSi/BY+iQoPc3zYgw9JgtiJJFdWDDPV4Faq0+7UsS93KzjD//baZrCmzStx/3cDK8gP/EhenPLYA02jpCegX8fiyMLyBqdcTHtRrSUMhu9V4pZ7DjFRbPjP108Bj2LCKClfLk5BUX+gKQCNzxbIebOM2/RH98lMHBPUFWPgCLjEEzb9QElJoW9VLkt99D/nkM4KD2DscF6CHPHgIKVfZo9yA6oZ1HIqsl2ikXCqolKp0FivLH9TzvFTFMcJPC7HEgxlJ1AGwwATa9HL5vA1NMAAAAqQZ7KRRUsO/9CkYb43I7akmlq7eJ/nFt7vcVOipDHFZJUF4XWdqlsc7NBAAAAFQGe6XRDf0fmiewwbSe52g3Z32wyZAAAABYBnutqQ38sMMUTiG4IQEQd4MOubvwQAAABN0Ga8EmoQWyZTAh3//6owH5ihn0V6/98Cu0bC//IPgn8GgBYYAXz/e9PsahUuzbLMT/NfxysubGK9iYblSp/z4yOT3vXCx2lK6646zAdlZeSihwWvCaRK5brxKCpeB0xQkCiVr26Fs3wKHAG70sqwq+6//+PqCIb2yqdH+JcHSDECLvsOrpW2O7nwJyzXppcRXpwPMxtDof5v8XJiQbmkb7s37y/qRo9dwKnS229uoagad7vqQLU4FEvRQjvu8bxrDY2ieqm6VsBzLBl814eAskZ49V3CR88xG0HOV9c75LoTW+nwRvHri5Bs8buQ5P+fAX16bJc54uEUQfX1VTHQeF5TkHgjVqR92E+dzJ/LsOM+1eYxim4tFRSm23ZwBFNOFa3576TpSALY+W1Hi91YWf8yAAArqqhAAABEUGfDkUVLDv/F+s8p7pCI5fEJzkAROAF8//ZgUNKT0TPWgohS1OjL8SIgRGwtDNsB+afXuI/XhO5MVBf+KH8TqItTmNxb//lsCIKQQff3TPd0kDTYZomFcZnPprLoHEgg/qvo6p4sGlW2fzUsoyYdHhiLHkJxj2DIOvGAyfLCdrUJADN18DnVcjIHB/HknAltYwtDB0UM4ZomXn/O7WY7SOT4P1bkNmdS7Hvr1Y5jnbXYeWYrTdkbeL4YqgdajagcO7g8xj+BKeCNLjUjjYa5ees0M4ri3qrFDU3IHFcmUZJ5spABBKgm/QKMJzIv4aqiA4R4Nhf0fYZE7g9BjcfFFX0hOkVESi1DOOKKE56B1s5YQAAACQBny10Q38cUndBoq5TIAER4tFLwuPox60k5HIZqTy7Og33qqEAAACGAZ8vakN/AmvkpGGwwScSnQ7aNVj4z9A2TzgBb1p5FI2H/60+txMO2Ty8TH7H6EeeJDFw6sFbY7sfAjTAfobyIXNOb/ZpAh/mxl6zAHY/6YSQFAZvE3QNVsZQKnSw2767Bv6d6Fxc3Ami8L8o3ciiOm/+n2Pt4StU8MxaqtKUR/JxPpEolUAAAAD0QZsxSahBbJlMCG///qeEARxbOKBJTlzXdmTx+ITzsAFrcsrSnj8iitMV2shqpWjZXR61/u/28jzQQJwQ5TtRNsS6jsxJZkWRBFeVvbT3ASNse9sXT/91uG+bjId/3h3mlgHi8nB/hfiU7nojb69lmEH9LwESodNuLe+oHr5eoWdbStm9JgsEUaNi1rc6/lRo8DHk/gI1U7oG7KJDl+I6Ypwoter7fKtySHaZ56iQps86AwxzcXKG3ze43XjagjHOIRaZM4w+rjEmEVzQNYZvkfqI49lV/Jis8ZyO3thnLLZn9Pl07hZKYYnavhOvYz8Fae7DYAAABAFtb292AAAAbG12aGQAAAAAAAAAAAAAAAAAAAPoAAAHCAABAAABAAAAAAAAAAAAAAAAAQAAAAAAAAAAAAAAAAAAAAEAAAAAAAAAAAAAAAAAAEAAAAAAAAAAAAAAAAAAAAAAAAAAAAAAAAAAAAAAAAACAAADK3RyYWsAAABcdGtoZAAAAAMAAAAAAAAAAAAAAAEAAAAAAAAHCAAAAAAAAAAAAAAAAAAAAAAAAQAAAAAAAAAAAAAAAAAAAAEAAAAAAAAAAAAAAAAAAEAAAAAAwAAAAMAAAAAAACRlZHRzAAAAHGVsc3QAAAAAAAAAAQAABwgAAAgAAAEAAAAAAqNtZGlhAAAAIG1kaGQAAAAAAAAAAAAAAAAAACgAAABIAFXEAAAAAAAtaGRscgAAAAAAAAAAdmlkZQAAAAAAAAAAAAAAAFZpZGVvSGFuZGxlcgAAAAJObWluZgAAABR2bWhkAAAAAQAAAAAAAAAAAAAAJGRpbmYAAAAcZHJlZgAAAAAAAAABAAAADHVybCAAAAABAAACDnN0YmwAAACuc3RzZAAAAAAAAAABAAAAnmF2YzEAAAAAAAAAAQAAAAAAAAAAAAAAAAAAAAAAwADAAEgAAABIAAAAAAAAAAEVTGF2YzU5LjM3LjEwMCBsaWJ4MjY0AAAAAAAAAAAAAAAY//8AAAA0YXZjQwFkAAv/4QAXZ2QAC6zZQwZoQAAAAwBAAAAFA8UKZYABAAZo6+PLIsD9+PgAAAAAFGJ0cnQAAAAAAAA9HAAAPRwAAAAYc3R0cwAAAAAAAAABAAAAEgAABAAAAAAUc3RzcwAAAAAAAAABAAAAAQAAAKBjdHRzAAAAAAAAABIAAAABAAAIAAAAAAEAABQAAAAAAQAACAAAAAABAAAAAAAAAAEAAAQAAAAAAQAAFAAAAAABAAAIAAAAAAEAAAAAAAAAAQAABAAAAAABAAAUAAAAAAEAAAgAAAAAAQAAAAAAAAABAAAEAAAAAAEAABQAAAAAAQAACAAAAAABAAAAAAAAAAEAAAQAAAAAAQAACAAAAAAcc3RzYwAAAAAAAAABAAAAAQAAABIAAAABAAAAXHN0c3oAAAAAAAAAAAAAABIAAATnAAABVgAAACAAAAANAAAAIQAAAakAAAAYAAAAEAAAABAAAAD5AAAALgAAABkAAAAaAAABOwAAARUAAAAoAAAAigAAAPgAAAAUc3RjbwAAAAAAAAABAAAAMAAAAGJ1ZHRhAAAAWm1ldGEAAAAAAAAAIWhkbHIAAAAAAAAAAG1kaXJhcHBsAAAAAAAAAAAAAAAALWlsc3QAAAAlqXRvbwAAAB1kYXRhAAAAAQAAAABMYXZmNTkuMjcuMTAw\" type=\"video/mp4\" />\n",
       "             </video>"
      ],
      "text/plain": [
       "<IPython.core.display.HTML object>"
      ]
     },
     "metadata": {},
     "output_type": "display_data"
    }
   ],
   "source": [
    "test_env = wrap_env(env)\n",
    "observation = test_env.reset()\n",
    "\n",
    "done = False\n",
    "episode_reward = 0\n",
    "episode_length = 0\n",
    "\n",
    "while not done:\n",
    "    action = agent.get_action(observation)\n",
    "    observation, reward, done, info = test_env.step(action)\n",
    "    episode_reward += reward\n",
    "    episode_length += 1\n",
    "\n",
    "print('Total reward:', episode_reward)\n",
    "print('Total length:', episode_length)\n",
    "\n",
    "test_env.close()\n",
    "show_video()"
   ]
  },
  {
   "cell_type": "markdown",
   "metadata": {},
   "source": [
    "# Continue learning on 2nd environment"
   ]
  },
  {
   "cell_type": "markdown",
   "metadata": {},
   "source": [
    "## Configuration"
   ]
  },
  {
   "cell_type": "markdown",
   "metadata": {},
   "source": [
    "### Set general parameters"
   ]
  },
  {
   "cell_type": "code",
   "execution_count": 82,
   "metadata": {},
   "outputs": [],
   "source": [
    "#env_id = 'MiniGrid-Empty-8x8-v0'\n",
    "#env_id = 'MiniGrid-LavaGapS5-v0'\n",
    "#env_id = 'MiniGrid-DoorKey-5x5-v0'\n",
    "#env_id = 'MiniGrid-DoorKey-6x6-v0'\n",
    "#env_id = 'MiniGrid-Empty-Random-6x6-v0'\n",
    "#env_id = 'MiniGrid-Empty-5x5-v0'\n",
    "#env_id = 'MiniGrid-SimpleCrossingS9N1-v0'\n",
    "#env_id = 'MiniGrid-SimpleCrossingS9N2-v0'\n",
    "#env_id = 'MiniGrid-SimpleCrossingS9N3-v0'\n",
    "#env_id = 'MiniGrid-SimpleCrossingS11N5-v0'\n",
    "env_id = 'MiniGrid-LavaCrossingS9N1-v0'\n",
    "\n",
    "#model = 'MiniGrid-DoorKey-6x6-v0_meta_RIM_5_3_frames_500k_tasks_2_recur_64_16_proc_16_RMSProp_lr_7e4_gae_099_newloop_changeseed'\n",
    "\n",
    "add_frames = 2.5e6\n",
    "frames = frames + add_frames\n",
    "\n",
    "## Hyper-parameters\n",
    "args = {\n",
    "# General parameters\n",
    "'algo':'ppo',\n",
    "'env':env_id,\n",
    "'model':model,\n",
    "'seed':1,\n",
    "'log_interval':1,\n",
    "'save_interval':10,\n",
    "'procs':16,\n",
    "'frames':frames, # default 1e7\n",
    "# Parameters for main algorithm\n",
    "'epochs':4,\n",
    "'batch_size':256,\n",
    "'frames_per_proc':128, # 128 for PPO and 5 per A2C\n",
    "'discount':0.99,\n",
    "#'lr':0.0001, # for Adam\n",
    "'lr':0.0007, # for RMSProp\n",
    "#'gae_lambda':0.95, # 1 means no gae, for Adam\n",
    "'gae_lambda':0.99, # 1 means no gae, for RMSProp\n",
    "'entropy_coef':0.01,\n",
    "'value_loss_coef':0.5,\n",
    "'max_grad_norm':0.5,\n",
    "'optim_eps':1e-8,\n",
    "'optim_alpha':0.99,\n",
    "'clip_eps':0.2,\n",
    "'recurrence':32, # if > 1, a LSTM is added\n",
    "'text':False, # add a GRU for text input\n",
    "# Model Parameters\n",
    "'use_rim':False # action = 'store_true'\n",
    "}\n",
    "\n",
    "#args = utils.dotdict(args)\n",
    "args = DictList(args)\n",
    "\n",
    "args.mem = args.recurrence > 1\n",
    "\n",
    "# RIM specific hyperparameters\n",
    "if args.use_rim:\n",
    "    args.num_units = 5\n",
    "    args.k = 3"
   ]
  },
  {
   "cell_type": "markdown",
   "metadata": {},
   "source": [
    "### Load previous loggers and settings"
   ]
  },
  {
   "cell_type": "code",
   "execution_count": 83,
   "metadata": {},
   "outputs": [
    {
     "name": "stdout",
     "output_type": "stream",
     "text": [
      "{'algo': 'ppo', 'env': 'MiniGrid-LavaCrossingS9N1-v0', 'model': 'MiniGrid-SimpleCrossingS9N1-v0_PPO_lstm_frames_1M_recur_32_proc_16_RMSProp_lr_7e4_gae_099_test_MiniGrid-LavaCrossingS9N1-v0', 'seed': 1, 'log_interval': 1, 'save_interval': 10, 'procs': 16, 'frames': 3500000.0, 'epochs': 4, 'batch_size': 256, 'frames_per_proc': 128, 'discount': 0.99, 'lr': 0.0007, 'gae_lambda': 0.99, 'entropy_coef': 0.01, 'value_loss_coef': 0.5, 'max_grad_norm': 0.5, 'optim_eps': 1e-08, 'optim_alpha': 0.99, 'clip_eps': 0.2, 'recurrence': 32, 'text': False, 'use_rim': False, 'mem': True}\n",
      "\n",
      "Device: cpu\n",
      "\n"
     ]
    }
   ],
   "source": [
    "date = datetime.datetime.now().strftime(\"%y-%m-%d-%H-%M-%S\")\n",
    "default_model_name = f\"{args.env}_{args.algo}_seed{args.seed}_{date}\"\n",
    "\n",
    "model_name = args.model or default_model_name\n",
    "model_dir = utils.get_model_dir(model_name)\n",
    "\n",
    "# Load loggers and Tensorboard writer\n",
    "\n",
    "txt_logger = utils.get_txt_logger(model_dir)\n",
    "csv_file, csv_logger = utils.get_csv_logger(model_dir)\n",
    "tb_writer = tensorboardX.SummaryWriter(model_dir)\n",
    "\n",
    "# Log command and all script arguments\n",
    "\n",
    "#txt_logger.info(\"{}\\n\".format(\" \".join(sys.argv)))\n",
    "txt_logger.info(\"{}\\n\".format(args))\n",
    "\n",
    "# Set seed for all randomness sources\n",
    "\n",
    "utils.seed(args.seed)\n",
    "\n",
    "# Set device\n",
    "\n",
    "device = torch.device(\"cuda\" if torch.cuda.is_available() else \"cpu\")\n",
    "txt_logger.info(f\"Device: {device}\\n\")"
   ]
  },
  {
   "cell_type": "markdown",
   "metadata": {},
   "source": [
    "### Load existing environments, model and training status (TEST for CF)"
   ]
  },
  {
   "cell_type": "code",
   "execution_count": 84,
   "metadata": {},
   "outputs": [
    {
     "name": "stdout",
     "output_type": "stream",
     "text": [
      "Environments loaded\n",
      "\n"
     ]
    }
   ],
   "source": [
    "# Load environments\n",
    "\n",
    "envs = []\n",
    "for i in range(args.procs):\n",
    "    envs.append(utils.make_env(args.env, args.seed + 10000 * i))\n",
    "txt_logger.info(\"Environments loaded\\n\")\n",
    "\n",
    "envs = make_envs(args.env, args.procs, args.seed)\n",
    "\n",
    "algo.env = envs"
   ]
  },
  {
   "cell_type": "markdown",
   "metadata": {},
   "source": [
    "### Load existing environments, model and training status"
   ]
  },
  {
   "cell_type": "code",
   "execution_count": 51,
   "metadata": {},
   "outputs": [
    {
     "name": "stdout",
     "output_type": "stream",
     "text": [
      "Environments loaded\n",
      "\n",
      "Training status loaded\n",
      "\n",
      "Observations preprocessor loaded\n",
      "Model loaded\n",
      "\n",
      "ACModel(\n",
      "  (image_conv): Sequential(\n",
      "    (0): Conv2d(3, 16, kernel_size=(2, 2), stride=(1, 1))\n",
      "    (1): ReLU()\n",
      "    (2): MaxPool2d(kernel_size=(2, 2), stride=(2, 2), padding=0, dilation=1, ceil_mode=False)\n",
      "    (3): Conv2d(16, 32, kernel_size=(2, 2), stride=(1, 1))\n",
      "    (4): ReLU()\n",
      "    (5): Conv2d(32, 64, kernel_size=(2, 2), stride=(1, 1))\n",
      "    (6): ReLU()\n",
      "  )\n",
      "  (memory_rnn): LSTMCell(64, 64)\n",
      "  (actor): Sequential(\n",
      "    (0): Linear(in_features=64, out_features=64, bias=True)\n",
      "    (1): Tanh()\n",
      "    (2): Linear(in_features=64, out_features=7, bias=True)\n",
      "  )\n",
      "  (critic): Sequential(\n",
      "    (0): Linear(in_features=64, out_features=64, bias=True)\n",
      "    (1): Tanh()\n",
      "    (2): Linear(in_features=64, out_features=1, bias=True)\n",
      "  )\n",
      ")\n",
      "\n",
      "Optimizer loaded\n",
      "\n"
     ]
    }
   ],
   "source": [
    "# Load environments\n",
    "\n",
    "envs = []\n",
    "for i in range(args.procs):\n",
    "    envs.append(utils.make_env(args.env, args.seed + 10000 * i))\n",
    "txt_logger.info(\"Environments loaded\\n\")\n",
    "\n",
    "# Load training status\n",
    "\n",
    "try:\n",
    "    status = utils.get_status(model_dir)\n",
    "except OSError:\n",
    "    status = {\"num_frames\": 0, \"update\": 0}\n",
    "txt_logger.info(\"Training status loaded\\n\")\n",
    "\n",
    "# Load observations preprocessor\n",
    "\n",
    "obs_space, preprocess_obss = utils.get_obss_preprocessor(envs[0].observation_space)\n",
    "if \"vocab\" in status:\n",
    "    preprocess_obss.vocab.load_vocab(status[\"vocab\"])\n",
    "txt_logger.info(\"Observations preprocessor loaded\")\n",
    "\n",
    "# Load model\n",
    "\n",
    "acmodel = ACModel(obs_space=obs_space, action_space=envs[0].action_space, use_memory=args.mem, use_text=args.text)\n",
    "if \"model_state\" in status:\n",
    "    acmodel.load_state_dict(status[\"model_state\"])\n",
    "acmodel.to(device)\n",
    "txt_logger.info(\"Model loaded\\n\")\n",
    "txt_logger.info(\"{}\\n\".format(acmodel))\n",
    "\n",
    "# Load algo\n",
    "\n",
    "if args.algo == \"a2c\":\n",
    "    algo = torch_ac.A2CAlgo(envs, acmodel, device, args.frames_per_proc, args.discount, args.lr, args.gae_lambda,\n",
    "                            args.entropy_coef, args.value_loss_coef, args.max_grad_norm, args.recurrence,\n",
    "                            args.optim_alpha, args.optim_eps, preprocess_obss)\n",
    "elif args.algo == \"ppo\":\n",
    "    algo = torch_ac.PPOAlgo(envs, acmodel, device, args.frames_per_proc, args.discount, args.lr, args.gae_lambda,\n",
    "                            args.entropy_coef, args.value_loss_coef, args.max_grad_norm, args.recurrence,\n",
    "                            args.optim_eps, args.clip_eps, args.epochs, args.batch_size, preprocess_obss)\n",
    "else:\n",
    "    raise ValueError(\"Incorrect algorithm name: {}\".format(args.algo))\n",
    "\n",
    "# change to RMSProp optimizer\n",
    "algo.optimizer = torch.optim.RMSprop(algo.acmodel.parameters(), args.lr, eps=args.optim_eps)\n",
    "\n",
    "if \"optimizer_state\" in status:\n",
    "    algo.optimizer.load_state_dict(status[\"optimizer_state\"])\n",
    "txt_logger.info(\"Optimizer loaded\\n\")"
   ]
  },
  {
   "cell_type": "markdown",
   "metadata": {},
   "source": [
    "## Continue training"
   ]
  },
  {
   "cell_type": "code",
   "execution_count": 85,
   "metadata": {},
   "outputs": [
    {
     "name": "stdout",
     "output_type": "stream",
     "text": [
      "U 261 | F 534528 | FPS 0680 | D 3 | rR:μσmM 0.01 0.11 0.00 0.94 | F:μσmM 10.7 14.3 1.0 186.0 | H 1.283 | V 0.617 | pL 0.788 | vL 0.396 | ∇ 0.514\n",
      "U 262 | F 536576 | FPS 0619 | D 6 | rR:μσmM 0.02 0.13 0.00 0.96 | F:μσmM 10.3 6.8 1.0 35.0 | H 1.404 | V 0.394 | pL 0.528 | vL 0.158 | ∇ 0.352\n",
      "U 263 | F 538624 | FPS 0739 | D 9 | rR:μσmM 0.01 0.08 0.00 0.92 | F:μσmM 13.3 9.6 1.0 52.0 | H 1.468 | V 0.142 | pL 0.299 | vL 0.027 | ∇ 0.169\n",
      "U 264 | F 540672 | FPS 0744 | D 11 | rR:μσmM 0.02 0.13 0.00 0.93 | F:μσmM 14.9 13.4 1.0 100.0 | H 1.542 | V 0.035 | pL 0.093 | vL 0.012 | ∇ 0.095\n",
      "U 265 | F 542720 | FPS 0692 | D 14 | rR:μσmM 0.01 0.09 0.00 0.90 | F:μσmM 18.7 16.0 1.0 73.0 | H 1.589 | V 0.012 | pL -0.003 | vL 0.011 | ∇ 0.062\n",
      "U 266 | F 544768 | FPS 0717 | D 17 | rR:μσmM 0.02 0.13 0.00 0.93 | F:μσmM 21.1 15.7 1.0 76.0 | H 1.630 | V 0.031 | pL 0.041 | vL 0.011 | ∇ 0.089\n",
      "U 267 | F 546816 | FPS 0759 | D 20 | rR:μσmM 0.06 0.22 0.00 0.93 | F:μσmM 25.8 19.2 1.0 87.0 | H 1.657 | V 0.076 | pL -0.037 | vL 0.027 | ∇ 0.128\n",
      "U 268 | F 548864 | FPS 0734 | D 23 | rR:μσmM 0.03 0.14 0.00 0.86 | F:μσmM 30.9 21.2 1.0 80.0 | H 1.672 | V 0.008 | pL 0.028 | vL 0.001 | ∇ 0.030\n",
      "U 269 | F 550912 | FPS 0750 | D 25 | rR:μσmM 0.05 0.21 0.00 0.92 | F:μσmM 25.7 21.6 1.0 111.0 | H 1.606 | V 0.075 | pL -0.046 | vL 0.030 | ∇ 0.149\n",
      "U 270 | F 552960 | FPS 0706 | D 28 | rR:μσmM 0.07 0.24 0.00 0.94 | F:μσmM 25.1 17.1 1.0 77.0 | H 1.625 | V 0.076 | pL -0.060 | vL 0.037 | ∇ 0.106\n",
      "Status saved\n",
      "U 271 | F 555008 | FPS 0701 | D 31 | rR:μσmM 0.07 0.23 0.00 0.92 | F:μσmM 29.7 25.0 1.0 145.0 | H 1.657 | V 0.054 | pL -0.004 | vL 0.023 | ∇ 0.130\n",
      "U 272 | F 557056 | FPS 0738 | D 34 | rR:μσmM 0.06 0.23 0.00 0.93 | F:μσmM 33.4 30.5 1.0 152.0 | H 1.674 | V 0.073 | pL -0.004 | vL 0.026 | ∇ 0.122\n",
      "U 273 | F 559104 | FPS 0753 | D 37 | rR:μσmM 0.06 0.22 0.00 0.94 | F:μσmM 26.5 19.4 1.0 72.0 | H 1.693 | V 0.057 | pL 0.004 | vL 0.021 | ∇ 0.151\n",
      "U 274 | F 561152 | FPS 0763 | D 39 | rR:μσmM 0.12 0.30 0.00 0.95 | F:μσmM 33.0 26.4 1.0 106.0 | H 1.690 | V 0.074 | pL -0.034 | vL 0.027 | ∇ 0.164\n",
      "U 275 | F 563200 | FPS 0748 | D 42 | rR:μσmM 0.04 0.18 0.00 0.91 | F:μσmM 29.6 26.4 1.0 158.0 | H 1.719 | V 0.058 | pL 0.035 | vL 0.014 | ∇ 0.106\n",
      "U 276 | F 565248 | FPS 0760 | D 45 | rR:μσmM 0.07 0.24 0.00 0.92 | F:μσmM 34.0 30.4 1.0 127.0 | H 1.726 | V 0.081 | pL 0.002 | vL 0.021 | ∇ 0.195\n",
      "U 277 | F 567296 | FPS 0729 | D 48 | rR:μσmM 0.05 0.21 0.00 0.91 | F:μσmM 41.8 39.8 1.0 149.0 | H 1.726 | V 0.056 | pL 0.013 | vL 0.016 | ∇ 0.135\n",
      "U 278 | F 569344 | FPS 0717 | D 51 | rR:μσmM 0.09 0.26 0.00 0.93 | F:μσmM 46.4 43.9 1.0 243.0 | H 1.729 | V 0.075 | pL -0.034 | vL 0.021 | ∇ 0.124\n",
      "U 279 | F 571392 | FPS 0708 | D 54 | rR:μσmM 0.13 0.31 0.00 0.90 | F:μσmM 52.8 39.7 2.0 148.0 | H 1.732 | V 0.084 | pL -0.036 | vL 0.011 | ∇ 0.095\n",
      "U 280 | F 573440 | FPS 0673 | D 57 | rR:μσmM 0.06 0.20 0.00 0.89 | F:μσmM 67.0 46.8 14.0 238.0 | H 1.749 | V 0.075 | pL 0.027 | vL 0.009 | ∇ 0.077\n",
      "Status saved\n",
      "U 281 | F 575488 | FPS 0696 | D 60 | rR:μσmM 0.08 0.24 0.00 0.91 | F:μσmM 43.5 37.3 1.0 147.0 | H 1.752 | V 0.106 | pL -0.048 | vL 0.022 | ∇ 0.114\n",
      "U 282 | F 577536 | FPS 0738 | D 62 | rR:μσmM 0.07 0.24 0.00 0.93 | F:μσmM 48.5 54.6 1.0 316.0 | H 1.735 | V 0.077 | pL -0.007 | vL 0.017 | ∇ 0.104\n",
      "U 283 | F 579584 | FPS 0745 | D 65 | rR:μσmM 0.16 0.34 0.00 0.93 | F:μσmM 40.3 27.7 1.0 117.0 | H 1.726 | V 0.125 | pL -0.001 | vL 0.027 | ∇ 0.304\n",
      "U 284 | F 581632 | FPS 0721 | D 68 | rR:μσmM 0.08 0.24 0.00 0.93 | F:μσmM 43.5 39.1 1.0 224.0 | H 1.738 | V 0.053 | pL -0.019 | vL 0.016 | ∇ 0.146\n",
      "U 285 | F 583680 | FPS 0713 | D 71 | rR:μσmM 0.12 0.30 0.00 0.91 | F:μσmM 41.0 29.7 1.0 120.0 | H 1.743 | V 0.086 | pL -0.059 | vL 0.030 | ∇ 0.198\n",
      "U 286 | F 585728 | FPS 0753 | D 74 | rR:μσmM 0.11 0.29 0.00 0.93 | F:μσmM 43.2 30.3 1.0 122.0 | H 1.751 | V 0.064 | pL -0.018 | vL 0.012 | ∇ 0.092\n",
      "U 287 | F 587776 | FPS 0711 | D 76 | rR:μσmM 0.11 0.30 0.00 0.93 | F:μσmM 45.5 45.5 1.0 212.0 | H 1.743 | V 0.088 | pL -0.011 | vL 0.012 | ∇ 0.101\n",
      "U 288 | F 589824 | FPS 0740 | D 79 | rR:μσmM 0.17 0.34 0.00 0.95 | F:μσmM 37.4 38.1 1.0 148.0 | H 1.712 | V 0.132 | pL -0.008 | vL 0.024 | ∇ 0.158\n",
      "U 289 | F 591872 | FPS 0724 | D 82 | rR:μσmM 0.15 0.32 0.00 0.96 | F:μσmM 62.8 44.8 1.0 205.0 | H 1.781 | V 0.084 | pL 0.010 | vL 0.010 | ∇ 0.090\n",
      "U 290 | F 593920 | FPS 0739 | D 85 | rR:μσmM 0.19 0.37 0.00 0.92 | F:μσmM 57.6 52.9 9.0 235.0 | H 1.763 | V 0.105 | pL -0.034 | vL 0.017 | ∇ 0.123\n",
      "Status saved\n",
      "U 291 | F 595968 | FPS 0727 | D 88 | rR:μσmM 0.09 0.26 0.00 0.89 | F:μσmM 69.0 57.4 1.0 234.0 | H 1.762 | V 0.088 | pL 0.020 | vL 0.016 | ∇ 0.126\n",
      "U 292 | F 598016 | FPS 0725 | D 90 | rR:μσmM 0.14 0.33 0.00 0.94 | F:μσmM 51.9 54.1 1.0 245.0 | H 1.752 | V 0.085 | pL 0.028 | vL 0.007 | ∇ 0.085\n",
      "U 293 | F 600064 | FPS 0694 | D 93 | rR:μσmM 0.22 0.38 0.00 0.94 | F:μσmM 75.4 83.5 1.0 324.0 | H 1.807 | V 0.056 | pL 0.008 | vL 0.004 | ∇ 0.097\n",
      "U 294 | F 602112 | FPS 0573 | D 97 | rR:μσmM 0.12 0.32 0.00 0.96 | F:μσmM 189.2 121.9 16.0 324.0 | H 1.817 | V 0.015 | pL 0.019 | vL 0.002 | ∇ 0.034\n",
      "U 295 | F 604160 | FPS 0520 | D 101 | rR:μσmM 0.17 0.35 0.00 0.93 | F:μσmM 109.1 106.3 1.0 324.0 | H 1.821 | V 0.029 | pL -0.007 | vL 0.004 | ∇ 0.050\n",
      "U 296 | F 606208 | FPS 0634 | D 104 | rR:μσmM 0.11 0.28 0.00 0.94 | F:μσmM 147.7 105.0 1.0 324.0 | H 1.856 | V 0.047 | pL 0.004 | vL 0.006 | ∇ 0.051\n",
      "U 297 | F 608256 | FPS 0633 | D 107 | rR:μσmM 0.05 0.21 0.00 0.93 | F:μσmM 113.4 103.7 4.0 324.0 | H 1.845 | V 0.043 | pL 0.036 | vL 0.002 | ∇ 0.033\n",
      "U 298 | F 610304 | FPS 0722 | D 110 | rR:μσmM 0.04 0.17 0.00 0.77 | F:μσmM 101.8 104.8 1.0 324.0 | H 1.867 | V 0.022 | pL 0.006 | vL 0.002 | ∇ 0.026\n",
      "U 299 | F 612352 | FPS 0712 | D 113 | rR:μσmM 0.04 0.17 0.00 0.82 | F:μσmM 128.2 101.5 2.0 324.0 | H 1.878 | V 0.018 | pL 0.013 | vL 0.006 | ∇ 0.064\n",
      "U 300 | F 614400 | FPS 0658 | D 116 | rR:μσmM 0.10 0.28 0.00 0.94 | F:μσmM 52.8 50.9 2.0 253.0 | H 1.866 | V 0.041 | pL -0.005 | vL 0.004 | ∇ 0.043\n",
      "Status saved\n",
      "U 301 | F 616448 | FPS 0653 | D 119 | rR:μσmM 0.14 0.29 0.00 0.94 | F:μσmM 83.1 78.6 1.0 324.0 | H 1.851 | V 0.038 | pL -0.010 | vL 0.013 | ∇ 0.111\n",
      "U 302 | F 618496 | FPS 0662 | D 123 | rR:μσmM 0.06 0.21 0.00 0.87 | F:μσmM 87.4 70.2 1.0 324.0 | H 1.851 | V 0.046 | pL -0.014 | vL 0.010 | ∇ 0.089\n",
      "U 303 | F 620544 | FPS 0649 | D 126 | rR:μσmM 0.13 0.28 0.00 0.87 | F:μσmM 101.6 84.6 1.0 324.0 | H 1.856 | V 0.044 | pL -0.028 | vL 0.010 | ∇ 0.062\n",
      "U 304 | F 622592 | FPS 0701 | D 129 | rR:μσmM 0.06 0.15 0.00 0.54 | F:μσmM 162.3 112.3 1.0 324.0 | H 1.865 | V 0.040 | pL 0.010 | vL 0.002 | ∇ 0.037\n",
      "U 305 | F 624640 | FPS 0668 | D 132 | rR:μσmM 0.06 0.20 0.00 0.91 | F:μσmM 101.4 104.8 1.0 324.0 | H 1.874 | V 0.031 | pL 0.000 | vL 0.003 | ∇ 0.037\n",
      "U 306 | F 626688 | FPS 0715 | D 135 | rR:μσmM 0.17 0.36 0.00 0.91 | F:μσmM 106.8 86.7 24.0 324.0 | H 1.877 | V 0.028 | pL -0.000 | vL 0.004 | ∇ 0.054\n",
      "U 307 | F 628736 | FPS 0728 | D 137 | rR:μσmM 0.05 0.19 0.00 0.78 | F:μσmM 157.4 97.0 29.0 324.0 | H 1.884 | V 0.023 | pL -0.021 | vL 0.008 | ∇ 0.065\n",
      "U 308 | F 630784 | FPS 0702 | D 140 | rR:μσmM 0.09 0.26 0.00 0.94 | F:μσmM 127.4 107.9 1.0 324.0 | H 1.874 | V 0.026 | pL -0.027 | vL 0.005 | ∇ 0.066\n",
      "U 309 | F 632832 | FPS 0665 | D 143 | rR:μσmM 0.15 0.31 0.00 0.82 | F:μσmM 139.9 93.0 52.0 324.0 | H 1.862 | V 0.062 | pL -0.019 | vL 0.006 | ∇ 0.056\n",
      "U 310 | F 634880 | FPS 0659 | D 147 | rR:μσmM 0.09 0.24 0.00 0.87 | F:μσmM 135.7 112.7 6.0 324.0 | H 1.871 | V 0.059 | pL 0.002 | vL 0.007 | ∇ 0.058\n",
      "Status saved\n",
      "U 311 | F 636928 | FPS 0717 | D 149 | rR:μσmM 0.18 0.34 0.00 0.90 | F:μσmM 95.4 77.2 5.0 310.0 | H 1.859 | V 0.092 | pL 0.023 | vL 0.008 | ∇ 0.159\n",
      "U 312 | F 638976 | FPS 0707 | D 152 | rR:μσmM 0.07 0.22 0.00 0.82 | F:μσmM 106.4 82.6 2.0 324.0 | H 1.882 | V 0.033 | pL -0.003 | vL 0.003 | ∇ 0.033\n",
      "U 313 | F 641024 | FPS 0742 | D 155 | rR:μσmM 0.09 0.27 0.00 0.90 | F:μσmM 97.7 102.5 1.0 324.0 | H 1.887 | V 0.038 | pL -0.002 | vL 0.001 | ∇ 0.026\n",
      "U 314 | F 643072 | FPS 0734 | D 158 | rR:μσmM 0.05 0.19 0.00 0.79 | F:μσmM 150.9 107.0 1.0 324.0 | H 1.895 | V 0.010 | pL 0.016 | vL 0.003 | ∇ 0.028\n",
      "U 315 | F 645120 | FPS 0727 | D 161 | rR:μσmM 0.00 0.00 0.00 0.00 | F:μσmM 183.1 105.0 61.0 324.0 | H 1.911 | V 0.000 | pL -0.002 | vL 0.000 | ∇ 0.007\n",
      "U 316 | F 647168 | FPS 0730 | D 164 | rR:μσmM 0.07 0.22 0.00 0.89 | F:μσmM 138.9 90.4 27.0 294.0 | H 1.905 | V 0.014 | pL -0.004 | vL 0.001 | ∇ 0.022\n",
      "U 317 | F 649216 | FPS 0729 | D 166 | rR:μσmM 0.05 0.12 0.00 0.41 | F:μσmM 112.1 98.5 2.0 324.0 | H 1.905 | V 0.021 | pL -0.002 | vL 0.003 | ∇ 0.030\n",
      "U 318 | F 651264 | FPS 0696 | D 169 | rR:μσmM 0.04 0.18 0.00 0.75 | F:μσmM 129.6 107.8 2.0 324.0 | H 1.904 | V 0.038 | pL 0.004 | vL 0.001 | ∇ 0.029\n",
      "U 319 | F 653312 | FPS 0665 | D 172 | rR:μσmM 0.04 0.18 0.00 0.78 | F:μσmM 126.0 107.2 4.0 324.0 | H 1.890 | V 0.036 | pL -0.007 | vL 0.009 | ∇ 0.073\n",
      "U 320 | F 655360 | FPS 0727 | D 175 | rR:μσmM 0.13 0.25 0.00 0.69 | F:μσmM 139.8 78.9 28.0 324.0 | H 1.873 | V 0.067 | pL -0.021 | vL 0.007 | ∇ 0.073\n",
      "Status saved\n",
      "U 321 | F 657408 | FPS 0740 | D 178 | rR:μσmM 0.06 0.21 0.00 0.82 | F:μσmM 72.9 49.2 1.0 201.0 | H 1.905 | V 0.015 | pL 0.001 | vL 0.000 | ∇ 0.014\n",
      "U 322 | F 659456 | FPS 0767 | D 181 | rR:μσmM 0.05 0.19 0.00 0.80 | F:μσmM 119.7 89.2 1.0 314.0 | H 1.908 | V 0.025 | pL -0.015 | vL 0.003 | ∇ 0.041\n",
      "U 323 | F 661504 | FPS 0779 | D 183 | rR:μσmM 0.02 0.09 0.00 0.35 | F:μσmM 119.8 105.1 4.0 314.0 | H 1.919 | V 0.007 | pL -0.002 | vL 0.001 | ∇ 0.015\n",
      "U 324 | F 663552 | FPS 0756 | D 186 | rR:μσmM 0.07 0.21 0.00 0.79 | F:μσmM 141.7 114.9 1.0 324.0 | H 1.901 | V 0.052 | pL -0.013 | vL 0.007 | ∇ 0.074\n",
      "U 325 | F 665600 | FPS 0737 | D 189 | rR:μσmM 0.14 0.28 0.00 0.86 | F:μσmM 120.7 85.5 23.0 324.0 | H 1.879 | V 0.064 | pL -0.008 | vL 0.003 | ∇ 0.034\n",
      "U 326 | F 667648 | FPS 0724 | D 192 | rR:μσmM 0.09 0.24 0.00 0.86 | F:μσmM 131.9 97.6 28.0 324.0 | H 1.899 | V 0.032 | pL 0.017 | vL 0.002 | ∇ 0.036\n",
      "U 327 | F 669696 | FPS 0723 | D 194 | rR:μσmM 0.00 0.00 0.00 0.00 | F:μσmM 118.6 111.6 2.0 324.0 | H 1.923 | V 0.010 | pL 0.010 | vL 0.000 | ∇ 0.010\n",
      "U 328 | F 671744 | FPS 0711 | D 197 | rR:μσmM 0.04 0.18 0.00 0.84 | F:μσmM 93.4 88.8 1.0 324.0 | H 1.913 | V 0.029 | pL -0.003 | vL 0.003 | ∇ 0.033\n",
      "U 329 | F 673792 | FPS 0734 | D 200 | rR:μσmM 0.01 0.05 0.00 0.22 | F:μσmM 133.2 115.2 6.0 324.0 | H 1.925 | V 0.003 | pL 0.002 | vL 0.001 | ∇ 0.016\n",
      "U 330 | F 675840 | FPS 0719 | D 203 | rR:μσmM 0.04 0.17 0.00 0.76 | F:μσmM 131.0 100.1 1.0 324.0 | H 1.909 | V 0.020 | pL -0.018 | vL 0.006 | ∇ 0.043\n",
      "Status saved\n",
      "U 331 | F 677888 | FPS 0695 | D 206 | rR:μσmM 0.13 0.29 0.00 0.84 | F:μσmM 92.6 95.4 1.0 324.0 | H 1.887 | V 0.052 | pL -0.053 | vL 0.016 | ∇ 0.077\n",
      "U 332 | F 679936 | FPS 0659 | D 209 | rR:μσmM 0.11 0.25 0.00 0.83 | F:μσmM 144.7 110.4 1.0 324.0 | H 1.904 | V 0.040 | pL 0.001 | vL 0.004 | ∇ 0.040\n",
      "U 333 | F 681984 | FPS 0615 | D 212 | rR:μσmM 0.07 0.22 0.00 0.82 | F:μσmM 111.4 102.4 7.0 324.0 | H 1.902 | V 0.021 | pL 0.001 | vL 0.003 | ∇ 0.029\n",
      "U 334 | F 684032 | FPS 0669 | D 216 | rR:μσmM 0.00 0.00 0.00 0.00 | F:μσmM 117.2 93.5 2.0 324.0 | H 1.923 | V 0.012 | pL 0.003 | vL 0.000 | ∇ 0.015\n",
      "U 335 | F 686080 | FPS 0659 | D 219 | rR:μσmM 0.02 0.08 0.00 0.32 | F:μσmM 156.9 94.1 2.0 324.0 | H 1.925 | V 0.012 | pL 0.004 | vL 0.001 | ∇ 0.015\n",
      "U 336 | F 688128 | FPS 0660 | D 222 | rR:μσmM 0.00 0.00 0.00 0.00 | F:μσmM 110.3 90.8 2.0 324.0 | H 1.928 | V 0.005 | pL 0.000 | vL 0.000 | ∇ 0.008\n",
      "U 337 | F 690176 | FPS 0657 | D 225 | rR:μσmM 0.04 0.16 0.00 0.65 | F:μσmM 165.3 109.1 6.0 324.0 | H 1.927 | V 0.009 | pL -0.000 | vL 0.001 | ∇ 0.017\n",
      "U 338 | F 692224 | FPS 0717 | D 228 | rR:μσmM 0.02 0.07 0.00 0.28 | F:μσmM 166.9 137.7 1.0 324.0 | H 1.922 | V 0.010 | pL -0.008 | vL 0.001 | ∇ 0.017\n",
      "U 339 | F 694272 | FPS 0648 | D 231 | rR:μσmM 0.12 0.25 0.00 0.76 | F:μσmM 118.6 95.1 16.0 324.0 | H 1.921 | V 0.027 | pL 0.001 | vL 0.002 | ∇ 0.027\n",
      "U 340 | F 696320 | FPS 0770 | D 234 | rR:μσmM 0.03 0.13 0.00 0.62 | F:μσmM 102.8 101.1 1.0 324.0 | H 1.916 | V 0.039 | pL 0.003 | vL 0.004 | ∇ 0.036\n",
      "Status saved\n",
      "U 341 | F 698368 | FPS 0748 | D 236 | rR:μσmM 0.13 0.28 0.00 0.78 | F:μσmM 82.9 79.6 1.0 287.0 | H 1.905 | V 0.045 | pL -0.005 | vL 0.005 | ∇ 0.042\n",
      "U 342 | F 700416 | FPS 0753 | D 239 | rR:μσmM 0.11 0.29 0.00 0.87 | F:μσmM 128.1 116.1 3.0 324.0 | H 1.900 | V 0.053 | pL -0.014 | vL 0.004 | ∇ 0.023\n",
      "U 343 | F 702464 | FPS 0781 | D 242 | rR:μσmM 0.05 0.19 0.00 0.80 | F:μσmM 106.1 91.0 3.0 312.0 | H 1.920 | V 0.019 | pL -0.004 | vL 0.003 | ∇ 0.027\n",
      "U 344 | F 704512 | FPS 0774 | D 244 | rR:μσmM 0.06 0.18 0.00 0.75 | F:μσmM 157.2 107.0 1.0 324.0 | H 1.906 | V 0.057 | pL 0.026 | vL 0.004 | ∇ 0.035\n",
      "U 345 | F 706560 | FPS 0795 | D 247 | rR:μσmM 0.06 0.20 0.00 0.82 | F:μσmM 151.1 115.1 10.0 324.0 | H 1.917 | V 0.023 | pL 0.019 | vL 0.000 | ∇ 0.012\n",
      "U 346 | F 708608 | FPS 0767 | D 250 | rR:μσmM 0.09 0.25 0.00 0.79 | F:μσmM 178.6 115.1 4.0 324.0 | H 1.904 | V 0.048 | pL -0.027 | vL 0.010 | ∇ 0.068\n",
      "U 347 | F 710656 | FPS 0745 | D 252 | rR:μσmM 0.05 0.21 0.00 0.85 | F:μσmM 148.6 119.4 2.0 324.0 | H 1.922 | V 0.026 | pL 0.014 | vL 0.000 | ∇ 0.013\n",
      "U 348 | F 712704 | FPS 0758 | D 255 | rR:μσmM 0.04 0.17 0.00 0.70 | F:μσmM 153.1 116.3 8.0 324.0 | H 1.925 | V 0.021 | pL 0.015 | vL 0.000 | ∇ 0.015\n",
      "U 349 | F 714752 | FPS 0762 | D 258 | rR:μσmM 0.15 0.32 0.00 0.86 | F:μσmM 186.6 115.1 38.0 324.0 | H 1.908 | V 0.040 | pL -0.001 | vL 0.002 | ∇ 0.022\n",
      "U 350 | F 716800 | FPS 0766 | D 260 | rR:μσmM 0.12 0.26 0.00 0.81 | F:μσmM 118.1 87.4 5.0 324.0 | H 1.912 | V 0.033 | pL -0.015 | vL 0.003 | ∇ 0.031\n",
      "Status saved\n",
      "U 351 | F 718848 | FPS 0791 | D 263 | rR:μσmM 0.03 0.15 0.00 0.75 | F:μσmM 125.5 107.5 3.0 324.0 | H 1.907 | V 0.021 | pL -0.004 | vL 0.003 | ∇ 0.020\n",
      "U 352 | F 720896 | FPS 0805 | D 266 | rR:μσmM 0.04 0.17 0.00 0.81 | F:μσmM 76.0 77.4 1.0 305.0 | H 1.916 | V 0.009 | pL 0.012 | vL 0.000 | ∇ 0.010\n",
      "U 353 | F 722944 | FPS 0796 | D 268 | rR:μσmM 0.04 0.15 0.00 0.64 | F:μσmM 94.4 54.5 1.0 161.0 | H 1.928 | V 0.009 | pL 0.003 | vL 0.000 | ∇ 0.011\n",
      "U 354 | F 724992 | FPS 0785 | D 271 | rR:μσmM 0.03 0.11 0.00 0.45 | F:μσmM 173.6 121.9 4.0 324.0 | H 1.925 | V 0.023 | pL 0.002 | vL 0.001 | ∇ 0.017\n",
      "U 355 | F 727040 | FPS 0771 | D 273 | rR:μσmM 0.00 0.00 0.00 0.00 | F:μσmM 145.9 120.4 3.0 324.0 | H 1.934 | V 0.001 | pL 0.001 | vL 0.000 | ∇ 0.005\n",
      "U 356 | F 729088 | FPS 0762 | D 276 | rR:μσmM 0.00 0.00 0.00 0.00 | F:μσmM 133.4 116.3 3.0 324.0 | H 1.938 | V 0.001 | pL -0.000 | vL 0.000 | ∇ 0.003\n",
      "U 357 | F 731136 | FPS 0763 | D 279 | rR:μσmM 0.00 0.00 0.00 0.00 | F:μσmM 167.2 128.6 11.0 324.0 | H 1.937 | V 0.000 | pL 0.000 | vL 0.000 | ∇ 0.005\n",
      "U 358 | F 733184 | FPS 0768 | D 282 | rR:μσmM 0.03 0.14 0.00 0.68 | F:μσmM 118.4 101.2 1.0 324.0 | H 1.932 | V 0.011 | pL -0.011 | vL 0.005 | ∇ 0.030\n",
      "U 359 | F 735232 | FPS 0785 | D 284 | rR:μσmM 0.03 0.13 0.00 0.52 | F:μσmM 81.3 83.2 1.0 324.0 | H 1.927 | V 0.008 | pL -0.012 | vL 0.003 | ∇ 0.021\n",
      "U 360 | F 737280 | FPS 0810 | D 287 | rR:μσmM 0.03 0.13 0.00 0.54 | F:μσmM 152.3 113.2 1.0 324.0 | H 1.923 | V 0.023 | pL 0.020 | vL 0.000 | ∇ 0.007\n",
      "Status saved\n",
      "U 361 | F 739328 | FPS 0806 | D 289 | rR:μσmM 0.06 0.20 0.00 0.85 | F:μσmM 85.0 80.2 2.0 324.0 | H 1.918 | V 0.027 | pL 0.003 | vL 0.002 | ∇ 0.022\n",
      "U 362 | F 741376 | FPS 0804 | D 292 | rR:μσmM 0.06 0.18 0.00 0.66 | F:μσmM 132.6 115.6 9.0 324.0 | H 1.911 | V 0.033 | pL -0.024 | vL 0.007 | ∇ 0.053\n",
      "U 363 | F 743424 | FPS 0797 | D 294 | rR:μσmM 0.05 0.20 0.00 0.83 | F:μσmM 129.6 90.8 9.0 324.0 | H 1.909 | V 0.054 | pL 0.020 | vL 0.007 | ∇ 0.050\n",
      "U 364 | F 745472 | FPS 0781 | D 297 | rR:μσmM 0.04 0.17 0.00 0.88 | F:μσmM 92.0 92.5 1.0 324.0 | H 1.896 | V 0.038 | pL 0.022 | vL 0.002 | ∇ 0.029\n",
      "U 365 | F 747520 | FPS 0767 | D 300 | rR:μσmM 0.12 0.25 0.00 0.72 | F:μσmM 104.3 75.8 12.0 324.0 | H 1.899 | V 0.057 | pL -0.019 | vL 0.008 | ∇ 0.057\n",
      "U 366 | F 749568 | FPS 0762 | D 302 | rR:μσmM 0.04 0.19 0.00 0.88 | F:μσmM 113.5 81.0 3.0 291.0 | H 1.905 | V 0.047 | pL 0.011 | vL 0.006 | ∇ 0.055\n",
      "U 367 | F 751616 | FPS 0785 | D 305 | rR:μσmM 0.00 0.00 0.00 0.00 | F:μσmM 136.4 94.9 32.0 324.0 | H 1.929 | V 0.014 | pL 0.017 | vL 0.000 | ∇ 0.015\n",
      "U 368 | F 753664 | FPS 0793 | D 308 | rR:μσmM 0.03 0.13 0.00 0.54 | F:μσmM 177.0 117.9 1.0 324.0 | H 1.930 | V 0.014 | pL 0.007 | vL 0.000 | ∇ 0.007\n",
      "U 369 | F 755712 | FPS 0782 | D 310 | rR:μσmM 0.00 0.00 0.00 0.00 | F:μσmM 215.0 117.2 29.0 324.0 | H 1.937 | V 0.008 | pL 0.004 | vL 0.000 | ∇ 0.006\n",
      "U 370 | F 757760 | FPS 0804 | D 313 | rR:μσmM 0.00 0.00 0.00 0.00 | F:μσmM 149.9 128.7 1.0 324.0 | H 1.938 | V 0.003 | pL 0.003 | vL 0.000 | ∇ 0.003\n",
      "Status saved\n",
      "U 371 | F 759808 | FPS 0800 | D 315 | rR:μσmM 0.02 0.07 0.00 0.29 | F:μσmM 154.1 126.8 1.0 324.0 | H 1.930 | V 0.007 | pL -0.004 | vL 0.001 | ∇ 0.010\n",
      "U 372 | F 761856 | FPS 0786 | D 318 | rR:μσmM 0.04 0.16 0.00 0.66 | F:μσmM 137.4 100.5 14.0 324.0 | H 1.927 | V 0.016 | pL 0.000 | vL 0.002 | ∇ 0.017\n",
      "U 373 | F 763904 | FPS 0759 | D 321 | rR:μσmM 0.04 0.15 0.00 0.64 | F:μσmM 132.9 110.4 13.0 324.0 | H 1.921 | V 0.019 | pL -0.008 | vL 0.003 | ∇ 0.021\n",
      "U 374 | F 765952 | FPS 0765 | D 323 | rR:μσmM 0.09 0.21 0.00 0.64 | F:μσmM 153.9 101.7 8.0 324.0 | H 1.916 | V 0.042 | pL 0.003 | vL 0.004 | ∇ 0.031\n",
      "U 375 | F 768000 | FPS 0772 | D 326 | rR:μσmM 0.04 0.16 0.00 0.70 | F:μσmM 92.2 93.4 1.0 324.0 | H 1.923 | V 0.032 | pL 0.003 | vL 0.003 | ∇ 0.029\n",
      "U 376 | F 770048 | FPS 0774 | D 329 | rR:μσmM 0.09 0.24 0.00 0.80 | F:μσmM 107.4 90.1 4.0 324.0 | H 1.916 | V 0.051 | pL 0.012 | vL 0.004 | ∇ 0.028\n",
      "U 377 | F 772096 | FPS 0803 | D 331 | rR:μσmM 0.04 0.15 0.00 0.62 | F:μσmM 154.8 114.1 4.0 324.0 | H 1.931 | V 0.025 | pL 0.020 | vL 0.000 | ∇ 0.010\n",
      "U 378 | F 774144 | FPS 0794 | D 334 | rR:μσmM 0.04 0.15 0.00 0.64 | F:μσmM 153.8 121.3 2.0 324.0 | H 1.919 | V 0.021 | pL 0.004 | vL 0.003 | ∇ 0.019\n",
      "U 379 | F 776192 | FPS 0757 | D 337 | rR:μσmM 0.05 0.20 0.00 0.82 | F:μσmM 166.4 127.7 3.0 324.0 | H 1.924 | V 0.016 | pL -0.004 | vL 0.002 | ∇ 0.022\n",
      "U 380 | F 778240 | FPS 0767 | D 339 | rR:μσmM 0.01 0.06 0.00 0.31 | F:μσmM 123.9 101.7 6.0 324.0 | H 1.923 | V 0.011 | pL 0.005 | vL 0.001 | ∇ 0.012\n",
      "Status saved\n",
      "U 381 | F 780288 | FPS 0765 | D 342 | rR:μσmM 0.02 0.07 0.00 0.31 | F:μσmM 107.0 99.6 6.0 324.0 | H 1.937 | V 0.007 | pL 0.007 | vL 0.000 | ∇ 0.004\n",
      "U 382 | F 782336 | FPS 0770 | D 345 | rR:μσmM 0.00 0.00 0.00 0.00 | F:μσmM 180.9 116.8 24.0 324.0 | H 1.939 | V 0.004 | pL 0.005 | vL 0.000 | ∇ 0.003\n",
      "U 383 | F 784384 | FPS 0789 | D 347 | rR:μσmM 0.00 0.00 0.00 0.00 | F:μσmM 150.2 107.9 5.0 324.0 | H 1.939 | V 0.002 | pL 0.003 | vL 0.000 | ∇ 0.002\n",
      "U 384 | F 786432 | FPS 0810 | D 350 | rR:μσmM 0.00 0.00 0.00 0.00 | F:μσmM 120.9 78.5 5.0 270.0 | H 1.940 | V 0.002 | pL 0.001 | vL 0.000 | ∇ 0.002\n",
      "U 385 | F 788480 | FPS 0804 | D 352 | rR:μσmM 0.00 0.00 0.00 0.00 | F:μσmM 189.5 112.8 30.0 324.0 | H 1.941 | V 0.001 | pL -0.001 | vL 0.000 | ∇ 0.003\n",
      "U 386 | F 790528 | FPS 0804 | D 355 | rR:μσmM 0.00 0.00 0.00 0.00 | F:μσmM 137.9 92.5 3.0 324.0 | H 1.941 | V -0.000 | pL -0.000 | vL 0.000 | ∇ 0.006\n",
      "U 387 | F 792576 | FPS 0780 | D 357 | rR:μσmM 0.00 0.00 0.00 0.00 | F:μσmM 155.3 109.9 15.0 324.0 | H 1.942 | V 0.001 | pL 0.001 | vL 0.000 | ∇ 0.006\n",
      "U 388 | F 794624 | FPS 0781 | D 360 | rR:μσmM 0.00 0.00 0.00 0.00 | F:μσmM 177.9 122.6 15.0 324.0 | H 1.942 | V -0.001 | pL -0.002 | vL 0.000 | ∇ 0.002\n",
      "U 389 | F 796672 | FPS 0770 | D 363 | rR:μσmM 0.00 0.00 0.00 0.00 | F:μσmM 152.6 129.9 3.0 324.0 | H 1.943 | V -0.000 | pL -0.001 | vL 0.000 | ∇ 0.011\n",
      "U 390 | F 798720 | FPS 0764 | D 365 | rR:μσmM 0.00 0.00 0.00 0.00 | F:μσmM 198.5 126.4 5.0 324.0 | H 1.943 | V 0.004 | pL 0.004 | vL 0.000 | ∇ 0.002\n",
      "Status saved\n",
      "U 391 | F 800768 | FPS 0786 | D 368 | rR:μσmM 0.00 0.00 0.00 0.00 | F:μσmM 140.4 121.8 1.0 324.0 | H 1.943 | V 0.002 | pL 0.001 | vL 0.000 | ∇ 0.011\n",
      "U 392 | F 802816 | FPS 0805 | D 371 | rR:μσmM 0.00 0.00 0.00 0.00 | F:μσmM 137.8 134.8 4.0 324.0 | H 1.943 | V 0.003 | pL 0.003 | vL 0.000 | ∇ 0.006\n",
      "U 393 | F 804864 | FPS 0804 | D 373 | rR:μσmM 0.00 0.00 0.00 0.00 | F:μσmM 143.2 122.4 4.0 324.0 | H 1.944 | V -0.001 | pL -0.001 | vL 0.000 | ∇ 0.009\n",
      "U 394 | F 806912 | FPS 0779 | D 376 | rR:μσmM 0.00 0.00 0.00 0.00 | F:μσmM 159.8 120.2 8.0 324.0 | H 1.944 | V 0.002 | pL 0.002 | vL 0.000 | ∇ 0.002\n",
      "U 395 | F 808960 | FPS 0774 | D 378 | rR:μσmM 0.00 0.00 0.00 0.00 | F:μσmM 193.4 113.5 24.0 324.0 | H 1.942 | V 0.004 | pL 0.002 | vL 0.000 | ∇ 0.010\n",
      "U 396 | F 811008 | FPS 0763 | D 381 | rR:μσmM 0.03 0.12 0.00 0.51 | F:μσmM 165.0 110.7 3.0 324.0 | H 1.942 | V 0.006 | pL 0.003 | vL 0.000 | ∇ 0.006\n",
      "U 397 | F 813056 | FPS 0765 | D 384 | rR:μσmM 0.00 0.00 0.00 0.00 | F:μσmM 127.0 108.0 12.0 324.0 | H 1.944 | V 0.001 | pL 0.001 | vL 0.000 | ∇ 0.002\n",
      "U 398 | F 815104 | FPS 0765 | D 387 | rR:μσmM 0.00 0.00 0.00 0.00 | F:μσmM 162.2 126.7 1.0 324.0 | H 1.944 | V 0.001 | pL 0.001 | vL 0.000 | ∇ 0.002\n",
      "U 399 | F 817152 | FPS 0780 | D 389 | rR:μσmM 0.00 0.00 0.00 0.00 | F:μσmM 163.5 104.2 24.0 324.0 | H 1.945 | V 0.001 | pL 0.001 | vL 0.000 | ∇ 0.002\n",
      "U 400 | F 819200 | FPS 0795 | D 392 | rR:μσmM 0.02 0.11 0.00 0.51 | F:μσmM 115.7 89.7 4.0 324.0 | H 1.936 | V 0.010 | pL -0.012 | vL 0.002 | ∇ 0.021\n",
      "Status saved\n",
      "U 401 | F 821248 | FPS 0809 | D 394 | rR:μσmM 0.00 0.00 0.00 0.00 | F:μσmM 67.9 53.2 1.0 176.0 | H 1.943 | V 0.000 | pL 0.000 | vL 0.000 | ∇ 0.002\n",
      "U 402 | F 823296 | FPS 0808 | D 397 | rR:μσmM 0.00 0.00 0.00 0.00 | F:μσmM 131.4 97.5 9.0 324.0 | H 1.944 | V 0.001 | pL 0.001 | vL 0.000 | ∇ 0.002\n",
      "U 403 | F 825344 | FPS 0805 | D 399 | rR:μσmM 0.00 0.00 0.00 0.00 | F:μσmM 166.9 133.8 8.0 324.0 | H 1.945 | V -0.000 | pL 0.000 | vL 0.000 | ∇ 0.001\n",
      "U 404 | F 827392 | FPS 0766 | D 402 | rR:μσmM 0.00 0.00 0.00 0.00 | F:μσmM 154.4 124.1 12.0 324.0 | H 1.945 | V -0.000 | pL 0.000 | vL 0.000 | ∇ 0.001\n",
      "U 405 | F 829440 | FPS 0763 | D 405 | rR:μσmM 0.00 0.00 0.00 0.00 | F:μσmM 181.7 116.2 12.0 324.0 | H 1.945 | V 0.000 | pL -0.000 | vL 0.000 | ∇ 0.003\n",
      "U 406 | F 831488 | FPS 0764 | D 407 | rR:μσmM 0.03 0.12 0.00 0.51 | F:μσmM 204.4 89.4 30.0 324.0 | H 1.936 | V 0.014 | pL -0.011 | vL 0.002 | ∇ 0.018\n",
      "U 407 | F 833536 | FPS 0775 | D 410 | rR:μσmM 0.00 0.00 0.00 0.00 | F:μσmM 110.5 99.4 2.0 301.0 | H 1.943 | V -0.001 | pL 0.000 | vL 0.000 | ∇ 0.001\n",
      "U 408 | F 835584 | FPS 0787 | D 413 | rR:μσmM 0.00 0.00 0.00 0.00 | F:μσmM 124.2 109.7 1.0 324.0 | H 1.944 | V 0.000 | pL 0.000 | vL 0.000 | ∇ 0.001\n",
      "U 409 | F 837632 | FPS 0800 | D 415 | rR:μσmM 0.04 0.15 0.00 0.67 | F:μσmM 123.0 101.9 1.0 324.0 | H 1.936 | V 0.015 | pL -0.017 | vL 0.003 | ∇ 0.018\n",
      "U 410 | F 839680 | FPS 0770 | D 418 | rR:μσmM 0.00 0.00 0.00 0.00 | F:μσmM 111.9 95.6 1.0 324.0 | H 1.934 | V 0.022 | pL -0.010 | vL 0.003 | ∇ 0.029\n",
      "Status saved\n",
      "U 411 | F 841728 | FPS 0786 | D 421 | rR:μσmM 0.12 0.25 0.00 0.76 | F:μσmM 127.0 108.0 1.0 324.0 | H 1.928 | V 0.029 | pL -0.020 | vL 0.005 | ∇ 0.030\n",
      "U 412 | F 843776 | FPS 0770 | D 423 | rR:μσmM 0.13 0.27 0.00 0.74 | F:μσmM 102.8 80.3 8.0 324.0 | H 1.919 | V 0.056 | pL -0.035 | vL 0.010 | ∇ 0.048\n",
      "U 413 | F 845824 | FPS 0764 | D 426 | rR:μσmM 0.13 0.27 0.00 0.84 | F:μσmM 141.3 82.9 21.0 312.0 | H 1.919 | V 0.060 | pL -0.008 | vL 0.010 | ∇ 0.045\n",
      "U 414 | F 847872 | FPS 0761 | D 429 | rR:μσmM 0.05 0.19 0.00 0.81 | F:μσmM 137.0 94.7 8.0 324.0 | H 1.915 | V 0.074 | pL 0.030 | vL 0.003 | ∇ 0.021\n",
      "U 415 | F 849920 | FPS 0788 | D 431 | rR:μσmM 0.10 0.26 0.00 0.81 | F:μσmM 109.6 104.9 13.0 324.0 | H 1.920 | V 0.053 | pL 0.021 | vL 0.001 | ∇ 0.015\n",
      "U 416 | F 851968 | FPS 0756 | D 434 | rR:μσmM 0.00 0.00 0.00 0.00 | F:μσmM 160.9 124.7 18.0 324.0 | H 1.927 | V 0.018 | pL 0.017 | vL 0.000 | ∇ 0.012\n",
      "U 417 | F 854016 | FPS 0793 | D 437 | rR:μσmM 0.05 0.20 0.00 0.83 | F:μσmM 170.8 115.9 13.0 324.0 | H 1.927 | V 0.032 | pL -0.001 | vL 0.001 | ∇ 0.012\n",
      "U 418 | F 856064 | FPS 0750 | D 439 | rR:μσmM 0.05 0.20 0.00 0.83 | F:μσmM 164.4 114.1 13.0 324.0 | H 1.935 | V 0.009 | pL 0.003 | vL 0.000 | ∇ 0.005\n",
      "U 419 | F 858112 | FPS 0739 | D 442 | rR:μσmM 0.05 0.19 0.00 0.78 | F:μσmM 199.1 123.4 2.0 324.0 | H 1.925 | V 0.030 | pL -0.006 | vL 0.001 | ∇ 0.014\n",
      "U 420 | F 860160 | FPS 0742 | D 445 | rR:μσmM 0.05 0.19 0.00 0.78 | F:μσmM 205.9 129.9 1.0 324.0 | H 1.927 | V 0.008 | pL 0.009 | vL 0.000 | ∇ 0.006\n",
      "Status saved\n",
      "U 421 | F 862208 | FPS 0752 | D 448 | rR:μσmM 0.06 0.20 0.00 0.86 | F:μσmM 126.0 130.6 1.0 324.0 | H 1.909 | V 0.031 | pL -0.010 | vL 0.006 | ∇ 0.033\n",
      "U 422 | F 864256 | FPS 0779 | D 450 | rR:μσmM 0.00 0.00 0.00 0.00 | F:μσmM 161.1 115.1 12.0 324.0 | H 1.933 | V 0.012 | pL 0.011 | vL 0.000 | ∇ 0.005\n",
      "U 423 | F 866304 | FPS 0809 | D 453 | rR:μσmM 0.08 0.23 0.00 0.83 | F:μσmM 115.1 96.1 13.0 324.0 | H 1.925 | V 0.038 | pL -0.018 | vL 0.004 | ∇ 0.028\n",
      "U 424 | F 868352 | FPS 0805 | D 455 | rR:μσmM 0.05 0.18 0.00 0.76 | F:μσmM 160.8 116.8 13.0 324.0 | H 1.931 | V 0.015 | pL 0.012 | vL 0.000 | ∇ 0.005\n",
      "U 425 | F 870400 | FPS 0802 | D 458 | rR:μσmM 0.11 0.24 0.00 0.64 | F:μσmM 213.5 103.1 31.0 324.0 | H 1.915 | V 0.068 | pL -0.011 | vL 0.005 | ∇ 0.034\n",
      "U 426 | F 872448 | FPS 0787 | D 460 | rR:μσmM 0.16 0.29 0.00 0.81 | F:μσmM 205.8 108.1 31.0 324.0 | H 1.929 | V 0.025 | pL 0.007 | vL 0.001 | ∇ 0.013\n",
      "U 427 | F 874496 | FPS 0785 | D 463 | rR:μσmM 0.05 0.19 0.00 0.81 | F:μσmM 179.9 101.1 1.0 324.0 | H 1.915 | V 0.046 | pL 0.005 | vL 0.004 | ∇ 0.028\n",
      "U 428 | F 876544 | FPS 0785 | D 466 | rR:μσmM 0.06 0.19 0.00 0.82 | F:μσmM 113.0 102.1 7.0 324.0 | H 1.919 | V 0.026 | pL -0.003 | vL 0.006 | ∇ 0.030\n",
      "U 429 | F 878592 | FPS 0782 | D 468 | rR:μσmM 0.19 0.33 0.00 0.84 | F:μσmM 100.8 70.5 13.0 239.0 | H 1.911 | V 0.052 | pL -0.013 | vL 0.008 | ∇ 0.041\n",
      "U 430 | F 880640 | FPS 0767 | D 471 | rR:μσmM 0.11 0.29 0.00 0.87 | F:μσmM 106.6 104.1 1.0 324.0 | H 1.888 | V 0.074 | pL -0.019 | vL 0.013 | ∇ 0.046\n",
      "Status saved\n",
      "U 431 | F 882688 | FPS 0758 | D 474 | rR:μσmM 0.18 0.32 0.00 0.87 | F:μσmM 103.5 86.0 1.0 324.0 | H 1.906 | V 0.032 | pL -0.000 | vL 0.003 | ∇ 0.020\n",
      "U 432 | F 884736 | FPS 0759 | D 476 | rR:μσmM 0.04 0.14 0.00 0.57 | F:μσmM 165.2 123.8 1.0 324.0 | H 1.917 | V 0.024 | pL 0.007 | vL 0.001 | ∇ 0.014\n",
      "U 433 | F 886784 | FPS 0772 | D 479 | rR:μσmM 0.13 0.24 0.00 0.78 | F:μσmM 194.8 132.2 1.0 324.0 | H 1.887 | V 0.081 | pL -0.020 | vL 0.006 | ∇ 0.028\n",
      "U 434 | F 888832 | FPS 0791 | D 482 | rR:μσmM 0.15 0.26 0.00 0.78 | F:μσmM 185.1 118.4 1.0 324.0 | H 1.895 | V 0.052 | pL 0.023 | vL 0.004 | ∇ 0.027\n",
      "U 435 | F 890880 | FPS 0811 | D 484 | rR:μσmM 0.07 0.20 0.00 0.61 | F:μσmM 214.8 113.8 9.0 324.0 | H 1.916 | V 0.029 | pL 0.003 | vL 0.002 | ∇ 0.018\n",
      "U 436 | F 892928 | FPS 0807 | D 487 | rR:μσmM 0.06 0.17 0.00 0.58 | F:μσmM 212.5 119.7 9.0 324.0 | H 1.915 | V 0.032 | pL 0.006 | vL 0.001 | ∇ 0.013\n",
      "U 437 | F 894976 | FPS 0799 | D 489 | rR:μσmM 0.15 0.28 0.00 0.89 | F:μσmM 216.1 119.3 12.0 324.0 | H 1.900 | V 0.046 | pL -0.005 | vL 0.001 | ∇ 0.021\n",
      "U 438 | F 897024 | FPS 0784 | D 492 | rR:μσmM 0.15 0.32 0.00 0.86 | F:μσmM 102.1 98.3 2.0 324.0 | H 1.922 | V 0.016 | pL 0.004 | vL 0.001 | ∇ 0.010\n",
      "U 439 | F 899072 | FPS 0786 | D 495 | rR:μσmM 0.04 0.16 0.00 0.67 | F:μσmM 155.5 114.2 2.0 324.0 | H 1.921 | V 0.029 | pL -0.010 | vL 0.002 | ∇ 0.021\n",
      "U 440 | F 901120 | FPS 0765 | D 497 | rR:μσmM 0.09 0.25 0.00 0.82 | F:μσmM 193.2 127.7 1.0 324.0 | H 1.934 | V 0.004 | pL 0.005 | vL 0.000 | ∇ 0.005\n",
      "Status saved\n",
      "U 441 | F 903168 | FPS 0756 | D 500 | rR:μσmM 0.00 0.00 0.00 0.00 | F:μσmM 194.0 131.5 1.0 324.0 | H 1.932 | V 0.001 | pL 0.002 | vL 0.000 | ∇ 0.012\n",
      "U 442 | F 905216 | FPS 0774 | D 503 | rR:μσmM 0.05 0.18 0.00 0.73 | F:μσmM 184.2 139.2 1.0 324.0 | H 1.909 | V 0.033 | pL -0.009 | vL 0.006 | ∇ 0.042\n",
      "U 443 | F 907264 | FPS 0792 | D 505 | rR:μσmM 0.05 0.21 0.00 0.85 | F:μσmM 169.1 127.5 1.0 324.0 | H 1.931 | V 0.000 | pL 0.000 | vL 0.000 | ∇ 0.008\n",
      "U 444 | F 909312 | FPS 0791 | D 508 | rR:μσmM 0.00 0.00 0.00 0.00 | F:μσmM 146.1 108.1 16.0 324.0 | H 1.932 | V 0.001 | pL 0.002 | vL 0.000 | ∇ 0.004\n",
      "U 445 | F 911360 | FPS 0793 | D 510 | rR:μσmM 0.05 0.19 0.00 0.83 | F:μσmM 116.2 106.4 1.0 324.0 | H 1.914 | V 0.032 | pL -0.016 | vL 0.007 | ∇ 0.057\n",
      "U 446 | F 913408 | FPS 0755 | D 513 | rR:μσmM 0.05 0.18 0.00 0.73 | F:μσmM 117.9 77.5 1.0 271.0 | H 1.912 | V 0.017 | pL -0.010 | vL 0.002 | ∇ 0.024\n",
      "U 447 | F 915456 | FPS 0762 | D 516 | rR:μσmM 0.11 0.25 0.00 0.78 | F:μσmM 147.6 100.3 2.0 324.0 | H 1.911 | V 0.021 | pL -0.026 | vL 0.007 | ∇ 0.033\n",
      "U 448 | F 917504 | FPS 0760 | D 519 | rR:μσmM 0.04 0.18 0.00 0.75 | F:μσmM 128.6 113.2 4.0 324.0 | H 1.911 | V 0.024 | pL 0.005 | vL 0.001 | ∇ 0.010\n",
      "U 449 | F 919552 | FPS 0619 | D 522 | rR:μσmM 0.08 0.22 0.00 0.69 | F:μσmM 144.4 123.2 15.0 324.0 | H 1.903 | V 0.051 | pL -0.011 | vL 0.002 | ∇ 0.025\n",
      "U 450 | F 921600 | FPS 0633 | D 525 | rR:μσmM 0.10 0.26 0.00 0.82 | F:μσmM 102.8 88.1 4.0 324.0 | H 1.907 | V 0.037 | pL -0.010 | vL 0.001 | ∇ 0.013\n",
      "Status saved\n",
      "U 451 | F 923648 | FPS 0634 | D 528 | rR:μσmM 0.22 0.36 0.00 0.88 | F:μσmM 125.6 121.9 6.0 324.0 | H 1.895 | V 0.062 | pL -0.025 | vL 0.004 | ∇ 0.056\n",
      "U 452 | F 925696 | FPS 0667 | D 531 | rR:μσmM 0.10 0.27 0.00 0.89 | F:μσmM 112.8 93.4 1.0 324.0 | H 1.907 | V 0.038 | pL -0.007 | vL 0.001 | ∇ 0.021\n",
      "U 453 | F 927744 | FPS 0704 | D 534 | rR:μσmM 0.16 0.34 0.00 0.89 | F:μσmM 116.1 108.0 1.0 324.0 | H 1.923 | V 0.024 | pL -0.000 | vL 0.001 | ∇ 0.028\n",
      "U 454 | F 929792 | FPS 0680 | D 537 | rR:μσmM 0.02 0.08 0.00 0.31 | F:μσmM 165.6 119.1 26.0 324.0 | H 1.925 | V 0.015 | pL 0.007 | vL 0.002 | ∇ 0.022\n",
      "U 455 | F 931840 | FPS 0714 | D 540 | rR:μσmM 0.13 0.30 0.00 0.91 | F:μσmM 126.7 130.8 5.0 324.0 | H 1.910 | V 0.033 | pL -0.010 | vL 0.002 | ∇ 0.025\n",
      "U 456 | F 933888 | FPS 0693 | D 543 | rR:μσmM 0.08 0.23 0.00 0.91 | F:μσmM 142.5 106.2 34.0 324.0 | H 1.913 | V 0.017 | pL -0.000 | vL 0.002 | ∇ 0.025\n",
      "U 457 | F 935936 | FPS 0675 | D 546 | rR:μσmM 0.11 0.28 0.00 0.88 | F:μσmM 147.8 130.2 1.0 324.0 | H 1.919 | V 0.027 | pL -0.007 | vL 0.001 | ∇ 0.012\n",
      "U 458 | F 937984 | FPS 0670 | D 549 | rR:μσmM 0.00 0.00 0.00 0.00 | F:μσmM 137.1 129.1 1.0 324.0 | H 1.929 | V 0.005 | pL 0.006 | vL 0.000 | ∇ 0.008\n",
      "U 459 | F 940032 | FPS 0672 | D 552 | rR:μσmM 0.24 0.37 0.00 0.89 | F:μσmM 155.6 133.9 4.0 324.0 | H 1.908 | V 0.056 | pL -0.015 | vL 0.002 | ∇ 0.018\n",
      "U 460 | F 942080 | FPS 0705 | D 555 | rR:μσmM 0.07 0.25 0.00 0.89 | F:μσmM 118.0 111.6 4.0 324.0 | H 1.921 | V 0.023 | pL -0.002 | vL 0.000 | ∇ 0.013\n",
      "Status saved\n",
      "U 461 | F 944128 | FPS 0713 | D 558 | rR:μσmM 0.06 0.21 0.00 0.88 | F:μσmM 105.7 96.3 1.0 324.0 | H 1.930 | V 0.012 | pL -0.008 | vL 0.001 | ∇ 0.018\n",
      "U 462 | F 946176 | FPS 0719 | D 561 | rR:μσmM 0.16 0.33 0.00 0.91 | F:μσmM 162.6 115.4 3.0 324.0 | H 1.930 | V 0.018 | pL 0.003 | vL 0.000 | ∇ 0.008\n",
      "U 463 | F 948224 | FPS 0708 | D 564 | rR:μσmM 0.05 0.21 0.00 0.86 | F:μσmM 177.6 114.6 9.0 324.0 | H 1.931 | V 0.002 | pL 0.001 | vL 0.000 | ∇ 0.006\n",
      "U 464 | F 950272 | FPS 0651 | D 567 | rR:μσmM 0.01 0.04 0.00 0.19 | F:μσmM 134.5 122.1 2.0 324.0 | H 1.935 | V 0.006 | pL -0.000 | vL 0.001 | ∇ 0.017\n",
      "U 465 | F 952320 | FPS 0679 | D 570 | rR:μσmM 0.00 0.00 0.00 0.00 | F:μσmM 140.2 117.2 3.0 324.0 | H 1.940 | V 0.005 | pL -0.000 | vL 0.000 | ∇ 0.006\n",
      "U 466 | F 954368 | FPS 0674 | D 573 | rR:μσmM 0.05 0.20 0.00 0.82 | F:μσmM 134.6 94.8 7.0 324.0 | H 1.929 | V 0.022 | pL -0.012 | vL 0.003 | ∇ 0.027\n",
      "U 467 | F 956416 | FPS 0695 | D 576 | rR:μσmM 0.16 0.33 0.00 0.87 | F:μσmM 178.8 128.7 17.0 324.0 | H 1.907 | V 0.057 | pL -0.010 | vL 0.003 | ∇ 0.019\n",
      "U 468 | F 958464 | FPS 0719 | D 579 | rR:μσmM 0.08 0.23 0.00 0.83 | F:μσmM 136.1 105.0 4.0 324.0 | H 1.908 | V 0.055 | pL 0.032 | vL 0.007 | ∇ 0.053\n",
      "U 469 | F 960512 | FPS 0725 | D 582 | rR:μσmM 0.19 0.36 0.00 0.91 | F:μσmM 132.2 125.8 1.0 324.0 | H 1.912 | V 0.050 | pL -0.008 | vL 0.001 | ∇ 0.010\n",
      "U 470 | F 962560 | FPS 0706 | D 585 | rR:μσmM 0.04 0.17 0.00 0.71 | F:μσmM 136.9 114.2 2.0 324.0 | H 1.927 | V 0.023 | pL -0.001 | vL 0.000 | ∇ 0.009\n",
      "Status saved\n",
      "U 471 | F 964608 | FPS 0692 | D 588 | rR:μσmM 0.10 0.26 0.00 0.85 | F:μσmM 113.8 125.5 1.0 324.0 | H 1.916 | V 0.052 | pL 0.007 | vL 0.001 | ∇ 0.032\n",
      "U 472 | F 966656 | FPS 0684 | D 591 | rR:μσmM 0.08 0.22 0.00 0.68 | F:μσmM 190.5 108.7 6.0 324.0 | H 1.932 | V 0.014 | pL 0.003 | vL 0.000 | ∇ 0.005\n",
      "U 473 | F 968704 | FPS 0655 | D 594 | rR:μσmM 0.00 0.00 0.00 0.00 | F:μσmM 150.6 110.0 14.0 324.0 | H 1.936 | V 0.004 | pL 0.010 | vL 0.000 | ∇ 0.007\n",
      "U 474 | F 970752 | FPS 0674 | D 597 | rR:μσmM 0.07 0.22 0.00 0.89 | F:μσmM 152.8 131.6 2.0 324.0 | H 1.921 | V 0.034 | pL -0.029 | vL 0.004 | ∇ 0.033\n",
      "U 475 | F 972800 | FPS 0696 | D 600 | rR:μσmM 0.16 0.28 0.00 0.82 | F:μσmM 131.5 104.3 1.0 324.0 | H 1.908 | V 0.076 | pL -0.011 | vL 0.009 | ∇ 0.050\n",
      "U 476 | F 974848 | FPS 0709 | D 603 | rR:μσmM 0.09 0.21 0.00 0.82 | F:μσmM 163.7 112.7 1.0 324.0 | H 1.930 | V 0.037 | pL 0.021 | vL 0.001 | ∇ 0.017\n",
      "U 477 | F 976896 | FPS 0690 | D 606 | rR:μσmM 0.01 0.05 0.00 0.21 | F:μσmM 206.2 110.5 1.0 324.0 | H 1.935 | V 0.017 | pL 0.015 | vL 0.000 | ∇ 0.005\n",
      "U 478 | F 978944 | FPS 0651 | D 609 | rR:μσmM 0.05 0.19 0.00 0.80 | F:μσmM 179.9 114.5 1.0 324.0 | H 1.921 | V 0.032 | pL -0.012 | vL 0.001 | ∇ 0.020\n",
      "U 479 | F 980992 | FPS 0590 | D 612 | rR:μσmM 0.18 0.32 0.00 0.86 | F:μσmM 143.7 107.7 5.0 324.0 | H 1.900 | V 0.081 | pL -0.021 | vL 0.004 | ∇ 0.027\n",
      "U 480 | F 983040 | FPS 0659 | D 615 | rR:μσmM 0.09 0.23 0.00 0.74 | F:μσmM 169.0 106.3 24.0 324.0 | H 1.925 | V 0.037 | pL 0.003 | vL 0.002 | ∇ 0.024\n",
      "Status saved\n",
      "U 481 | F 985088 | FPS 0729 | D 618 | rR:μσmM 0.03 0.12 0.00 0.51 | F:μσmM 152.9 93.7 24.0 324.0 | H 1.919 | V 0.049 | pL 0.016 | vL 0.000 | ∇ 0.013\n",
      "U 482 | F 987136 | FPS 0738 | D 621 | rR:μσmM 0.05 0.20 0.00 0.82 | F:μσmM 168.6 114.5 2.0 324.0 | H 1.932 | V 0.016 | pL 0.013 | vL 0.000 | ∇ 0.007\n",
      "U 483 | F 989184 | FPS 0802 | D 624 | rR:μσmM 0.05 0.21 0.00 0.86 | F:μσmM 154.0 114.4 2.0 324.0 | H 1.924 | V 0.035 | pL 0.005 | vL 0.000 | ∇ 0.012\n",
      "U 484 | F 991232 | FPS 0798 | D 626 | rR:μσmM 0.10 0.27 0.00 0.86 | F:μσmM 170.1 127.9 7.0 324.0 | H 1.925 | V 0.029 | pL -0.000 | vL 0.002 | ∇ 0.026\n",
      "U 485 | F 993280 | FPS 0778 | D 629 | rR:μσmM 0.10 0.27 0.00 0.85 | F:μσmM 168.1 137.6 1.0 324.0 | H 1.913 | V 0.027 | pL -0.006 | vL 0.002 | ∇ 0.019\n",
      "U 486 | F 995328 | FPS 0766 | D 632 | rR:μσmM 0.11 0.29 0.00 0.88 | F:μσmM 173.0 127.3 5.0 324.0 | H 1.933 | V 0.005 | pL 0.000 | vL 0.000 | ∇ 0.003\n",
      "U 487 | F 997376 | FPS 0751 | D 634 | rR:μσmM 0.16 0.34 0.00 0.90 | F:μσmM 135.5 126.6 7.0 324.0 | H 1.918 | V 0.046 | pL -0.011 | vL 0.001 | ∇ 0.011\n",
      "U 488 | F 999424 | FPS 0762 | D 637 | rR:μσmM 0.04 0.18 0.00 0.80 | F:μσmM 141.8 131.7 2.0 324.0 | H 1.932 | V 0.025 | pL -0.006 | vL 0.002 | ∇ 0.013\n",
      "U 489 | F 1001472 | FPS 0772 | D 640 | rR:μσmM 0.24 0.37 0.00 0.89 | F:μσmM 140.6 111.5 11.0 324.0 | H 1.911 | V 0.074 | pL -0.004 | vL 0.003 | ∇ 0.034\n",
      "U 490 | F 1003520 | FPS 0804 | D 642 | rR:μσmM 0.15 0.31 0.00 0.84 | F:μσmM 120.9 115.0 2.0 324.0 | H 1.901 | V 0.071 | pL -0.004 | vL 0.002 | ∇ 0.025\n",
      "Status saved\n",
      "U 491 | F 1005568 | FPS 0783 | D 645 | rR:μσmM 0.10 0.26 0.00 0.88 | F:μσmM 104.6 107.6 1.0 324.0 | H 1.911 | V 0.042 | pL 0.038 | vL 0.003 | ∇ 0.025\n",
      "U 492 | F 1007616 | FPS 0799 | D 647 | rR:μσmM 0.11 0.29 0.00 0.91 | F:μσmM 105.5 95.5 3.0 324.0 | H 1.916 | V 0.031 | pL -0.001 | vL 0.001 | ∇ 0.017\n",
      "U 493 | F 1009664 | FPS 0792 | D 650 | rR:μσmM 0.11 0.30 0.00 0.94 | F:μσmM 136.9 116.2 1.0 324.0 | H 1.914 | V 0.032 | pL 0.005 | vL 0.001 | ∇ 0.017\n",
      "U 494 | F 1011712 | FPS 0779 | D 653 | rR:μσmM 0.23 0.40 0.00 0.94 | F:μσmM 132.4 131.7 1.0 324.0 | H 1.922 | V 0.039 | pL 0.001 | vL 0.001 | ∇ 0.020\n",
      "U 495 | F 1013760 | FPS 0761 | D 655 | rR:μσmM 0.22 0.38 0.00 0.94 | F:μσmM 144.5 103.6 3.0 324.0 | H 1.908 | V 0.046 | pL -0.004 | vL 0.003 | ∇ 0.024\n",
      "U 496 | F 1015808 | FPS 0762 | D 658 | rR:μσmM 0.18 0.36 0.00 0.93 | F:μσmM 146.2 131.1 2.0 324.0 | H 1.900 | V 0.059 | pL 0.007 | vL 0.001 | ∇ 0.009\n",
      "U 497 | F 1017856 | FPS 0773 | D 661 | rR:μσmM 0.11 0.28 0.00 0.93 | F:μσmM 84.0 81.0 1.0 324.0 | H 1.906 | V 0.040 | pL -0.009 | vL 0.002 | ∇ 0.024\n",
      "U 498 | F 1019904 | FPS 0795 | D 663 | rR:μσmM 0.15 0.35 0.00 0.95 | F:μσmM 126.9 121.8 1.0 324.0 | H 1.910 | V 0.048 | pL 0.012 | vL 0.000 | ∇ 0.010\n",
      "U 499 | F 1021952 | FPS 0795 | D 666 | rR:μσmM 0.11 0.30 0.00 0.93 | F:μσmM 117.8 125.8 3.0 324.0 | H 1.937 | V 0.008 | pL 0.005 | vL 0.000 | ∇ 0.004\n",
      "U 500 | F 1024000 | FPS 0802 | D 668 | rR:μσmM 0.22 0.39 0.00 0.93 | F:μσmM 129.9 112.2 1.0 324.0 | H 1.899 | V 0.067 | pL -0.013 | vL 0.003 | ∇ 0.020\n",
      "Status saved\n",
      "U 501 | F 1026048 | FPS 0798 | D 671 | rR:μσmM 0.19 0.36 0.00 0.94 | F:μσmM 132.8 121.6 14.0 324.0 | H 1.913 | V 0.029 | pL -0.007 | vL 0.004 | ∇ 0.025\n",
      "U 502 | F 1028096 | FPS 0787 | D 674 | rR:μσmM 0.21 0.37 0.00 0.94 | F:μσmM 80.2 71.5 4.0 257.0 | H 1.876 | V 0.088 | pL 0.004 | vL 0.007 | ∇ 0.045\n",
      "U 503 | F 1030144 | FPS 0787 | D 676 | rR:μσmM 0.32 0.43 0.00 0.94 | F:μσmM 115.7 117.8 4.0 324.0 | H 1.868 | V 0.102 | pL -0.007 | vL 0.000 | ∇ 0.014\n",
      "U 504 | F 1032192 | FPS 0757 | D 679 | rR:μσmM 0.15 0.32 0.00 0.94 | F:μσmM 143.2 127.3 2.0 324.0 | H 1.919 | V 0.030 | pL -0.007 | vL 0.003 | ∇ 0.022\n",
      "U 505 | F 1034240 | FPS 0756 | D 682 | rR:μσmM 0.06 0.22 0.00 0.92 | F:μσmM 121.7 96.8 2.0 324.0 | H 1.923 | V 0.024 | pL 0.007 | vL 0.002 | ∇ 0.007\n",
      "U 506 | F 1036288 | FPS 0776 | D 684 | rR:μσmM 0.08 0.26 0.00 0.93 | F:μσmM 118.0 116.7 1.0 324.0 | H 1.922 | V 0.025 | pL -0.000 | vL 0.000 | ∇ 0.007\n",
      "U 507 | F 1038336 | FPS 0790 | D 687 | rR:μσmM 0.20 0.37 0.00 0.92 | F:μσmM 100.4 98.5 1.0 324.0 | H 1.900 | V 0.067 | pL 0.000 | vL 0.001 | ∇ 0.015\n",
      "U 508 | F 1040384 | FPS 0808 | D 689 | rR:μσmM 0.11 0.29 0.00 0.89 | F:μσmM 113.8 100.5 1.0 324.0 | H 1.918 | V 0.034 | pL 0.010 | vL 0.000 | ∇ 0.010\n",
      "U 509 | F 1042432 | FPS 0812 | D 692 | rR:μσmM 0.17 0.32 0.00 0.88 | F:μσmM 132.8 109.1 3.0 324.0 | H 1.893 | V 0.079 | pL -0.005 | vL 0.002 | ∇ 0.026\n",
      "U 510 | F 1044480 | FPS 0802 | D 694 | rR:μσmM 0.13 0.29 0.00 0.89 | F:μσmM 147.8 112.7 2.0 324.0 | H 1.907 | V 0.064 | pL -0.003 | vL 0.002 | ∇ 0.022\n",
      "Status saved\n",
      "U 511 | F 1046528 | FPS 0784 | D 697 | rR:μσmM 0.16 0.34 0.00 0.89 | F:μσmM 104.6 89.1 18.0 324.0 | H 1.904 | V 0.059 | pL 0.009 | vL 0.000 | ∇ 0.012\n",
      "U 512 | F 1048576 | FPS 0748 | D 700 | rR:μσmM 0.17 0.35 0.00 0.91 | F:μσmM 102.9 93.6 6.0 324.0 | H 1.911 | V 0.042 | pL -0.005 | vL 0.001 | ∇ 0.023\n",
      "U 513 | F 1050624 | FPS 0765 | D 703 | rR:μσmM 0.18 0.34 0.00 0.93 | F:μσmM 142.9 121.8 1.0 324.0 | H 1.910 | V 0.042 | pL 0.004 | vL 0.000 | ∇ 0.011\n",
      "U 514 | F 1052672 | FPS 0769 | D 705 | rR:μσmM 0.16 0.35 0.00 0.93 | F:μσmM 122.4 103.9 21.0 324.0 | H 1.908 | V 0.042 | pL -0.008 | vL 0.003 | ∇ 0.036\n",
      "U 515 | F 1054720 | FPS 0785 | D 708 | rR:μσmM 0.03 0.13 0.00 0.57 | F:μσmM 81.5 85.1 7.0 324.0 | H 1.925 | V 0.010 | pL 0.014 | vL 0.001 | ∇ 0.016\n",
      "U 516 | F 1056768 | FPS 0804 | D 710 | rR:μσmM 0.00 0.00 0.00 0.00 | F:μσmM 106.3 124.5 3.0 324.0 | H 1.924 | V 0.009 | pL -0.001 | vL 0.001 | ∇ 0.015\n",
      "U 517 | F 1058816 | FPS 0808 | D 713 | rR:μσmM 0.05 0.18 0.00 0.77 | F:μσmM 110.7 104.2 9.0 324.0 | H 1.921 | V 0.013 | pL -0.009 | vL 0.003 | ∇ 0.019\n",
      "U 518 | F 1060864 | FPS 0788 | D 716 | rR:μσmM 0.13 0.27 0.00 0.80 | F:μσmM 80.7 77.0 1.0 324.0 | H 1.894 | V 0.064 | pL -0.014 | vL 0.005 | ∇ 0.041\n",
      "U 519 | F 1062912 | FPS 0779 | D 718 | rR:μσmM 0.17 0.34 0.00 0.90 | F:μσmM 79.4 72.6 11.0 273.0 | H 1.906 | V 0.047 | pL 0.012 | vL 0.000 | ∇ 0.009\n",
      "U 520 | F 1064960 | FPS 0745 | D 721 | rR:μσmM 0.17 0.33 0.00 0.91 | F:μσmM 117.2 109.3 2.0 324.0 | H 1.898 | V 0.063 | pL -0.004 | vL 0.002 | ∇ 0.022\n",
      "Status saved\n",
      "U 521 | F 1067008 | FPS 0761 | D 724 | rR:μσmM 0.16 0.34 0.00 0.91 | F:μσmM 113.9 94.5 7.0 324.0 | H 1.912 | V 0.050 | pL -0.006 | vL 0.004 | ∇ 0.028\n",
      "U 522 | F 1069056 | FPS 0762 | D 726 | rR:μσmM 0.20 0.32 0.00 0.94 | F:μσmM 101.1 85.4 2.0 324.0 | H 1.898 | V 0.073 | pL -0.027 | vL 0.012 | ∇ 0.052\n",
      "U 523 | F 1071104 | FPS 0789 | D 729 | rR:μσmM 0.20 0.35 0.00 0.95 | F:μσmM 93.7 95.1 3.0 324.0 | H 1.883 | V 0.123 | pL -0.024 | vL 0.010 | ∇ 0.066\n",
      "U 524 | F 1073152 | FPS 0806 | D 731 | rR:μσmM 0.38 0.42 0.00 0.94 | F:μσmM 99.9 77.5 7.0 265.0 | H 1.857 | V 0.168 | pL 0.010 | vL 0.015 | ∇ 0.090\n",
      "U 525 | F 1075200 | FPS 0738 | D 734 | rR:μσmM 0.40 0.42 0.00 0.93 | F:μσmM 98.2 63.1 24.0 233.0 | H 1.862 | V 0.188 | pL 0.020 | vL 0.020 | ∇ 0.086\n",
      "U 526 | F 1077248 | FPS 0789 | D 737 | rR:μσmM 0.24 0.37 0.00 0.93 | F:μσmM 106.0 99.8 6.0 324.0 | H 1.855 | V 0.180 | pL 0.024 | vL 0.013 | ∇ 0.087\n",
      "U 527 | F 1079296 | FPS 0758 | D 740 | rR:μσmM 0.20 0.33 0.00 0.85 | F:μσmM 93.2 81.1 1.0 324.0 | H 1.873 | V 0.157 | pL 0.036 | vL 0.011 | ∇ 0.065\n",
      "U 528 | F 1081344 | FPS 0750 | D 742 | rR:μσmM 0.41 0.42 0.00 0.91 | F:μσmM 113.1 102.5 5.0 324.0 | H 1.821 | V 0.176 | pL 0.033 | vL 0.013 | ∇ 0.070\n",
      "U 529 | F 1083392 | FPS 0762 | D 745 | rR:μσmM 0.27 0.37 0.00 0.91 | F:μσmM 145.9 119.0 4.0 324.0 | H 1.830 | V 0.167 | pL 0.020 | vL 0.016 | ∇ 0.075\n",
      "U 530 | F 1085440 | FPS 0748 | D 748 | rR:μσmM 0.25 0.37 0.00 0.86 | F:μσmM 131.8 108.1 2.0 324.0 | H 1.852 | V 0.096 | pL 0.021 | vL 0.014 | ∇ 0.060\n",
      "Status saved\n",
      "U 531 | F 1087488 | FPS 0759 | D 750 | rR:μσmM 0.24 0.34 0.00 0.93 | F:μσmM 112.4 88.1 1.0 324.0 | H 1.851 | V 0.107 | pL -0.025 | vL 0.009 | ∇ 0.059\n",
      "U 532 | F 1089536 | FPS 0760 | D 753 | rR:μσmM 0.13 0.28 0.00 0.84 | F:μσmM 139.9 120.3 13.0 324.0 | H 1.872 | V 0.047 | pL 0.047 | vL 0.002 | ∇ 0.028\n",
      "U 533 | F 1091584 | FPS 0802 | D 756 | rR:μσmM 0.24 0.36 0.00 0.92 | F:μσmM 156.8 126.8 1.0 324.0 | H 1.860 | V 0.088 | pL -0.021 | vL 0.018 | ∇ 0.107\n",
      "U 534 | F 1093632 | FPS 0804 | D 758 | rR:μσmM 0.19 0.30 0.00 0.88 | F:μσmM 219.6 104.0 45.0 324.0 | H 1.847 | V 0.161 | pL 0.011 | vL 0.009 | ∇ 0.083\n",
      "U 535 | F 1095680 | FPS 0801 | D 761 | rR:μσmM 0.44 0.32 0.00 0.89 | F:μσmM 164.4 85.8 38.0 324.0 | H 1.851 | V 0.126 | pL -0.003 | vL 0.004 | ∇ 0.042\n",
      "U 536 | F 1097728 | FPS 0778 | D 764 | rR:μσmM 0.17 0.27 0.00 0.83 | F:μσmM 158.2 97.3 1.0 324.0 | H 1.855 | V 0.083 | pL 0.025 | vL 0.007 | ∇ 0.056\n",
      "U 537 | F 1099776 | FPS 0760 | D 766 | rR:μσmM 0.18 0.27 0.00 0.73 | F:μσmM 172.2 111.5 1.0 324.0 | H 1.867 | V 0.108 | pL -0.016 | vL 0.007 | ∇ 0.051\n",
      "U 538 | F 1101824 | FPS 0768 | D 769 | rR:μσmM 0.26 0.34 0.00 0.86 | F:μσmM 184.4 121.8 4.0 324.0 | H 1.861 | V 0.096 | pL 0.028 | vL 0.011 | ∇ 0.051\n",
      "U 539 | F 1103872 | FPS 0776 | D 772 | rR:μσmM 0.25 0.35 0.00 0.90 | F:μσmM 174.8 122.1 5.0 324.0 | H 1.853 | V 0.108 | pL -0.022 | vL 0.013 | ∇ 0.069\n",
      "U 540 | F 1105920 | FPS 0798 | D 774 | rR:μσmM 0.36 0.41 0.00 0.89 | F:μσmM 105.3 94.4 17.0 324.0 | H 1.831 | V 0.122 | pL -0.012 | vL 0.009 | ∇ 0.054\n",
      "Status saved\n",
      "U 541 | F 1107968 | FPS 0792 | D 777 | rR:μσmM 0.30 0.37 0.00 0.94 | F:μσmM 125.5 110.5 1.0 324.0 | H 1.824 | V 0.147 | pL -0.010 | vL 0.018 | ∇ 0.067\n",
      "U 542 | F 1110016 | FPS 0799 | D 779 | rR:μσmM 0.25 0.38 0.00 0.92 | F:μσmM 148.4 131.9 1.0 324.0 | H 1.856 | V 0.111 | pL -0.004 | vL 0.010 | ∇ 0.054\n",
      "U 543 | F 1112064 | FPS 0736 | D 782 | rR:μσmM 0.32 0.37 0.00 0.94 | F:μσmM 114.4 91.7 3.0 324.0 | H 1.822 | V 0.121 | pL -0.033 | vL 0.015 | ∇ 0.062\n",
      "U 544 | F 1114112 | FPS 0666 | D 785 | rR:μσmM 0.24 0.35 0.00 0.87 | F:μσmM 119.1 96.4 12.0 324.0 | H 1.814 | V 0.121 | pL 0.002 | vL 0.020 | ∇ 0.076\n",
      "U 545 | F 1116160 | FPS 0615 | D 788 | rR:μσmM 0.38 0.38 0.00 0.94 | F:μσmM 115.9 95.7 2.0 324.0 | H 1.848 | V 0.119 | pL -0.009 | vL 0.010 | ∇ 0.050\n",
      "U 546 | F 1118208 | FPS 0663 | D 792 | rR:μσmM 0.29 0.35 0.00 0.91 | F:μσmM 146.1 111.6 16.0 324.0 | H 1.797 | V 0.161 | pL -0.003 | vL 0.019 | ∇ 0.068\n",
      "U 547 | F 1120256 | FPS 0709 | D 794 | rR:μσmM 0.30 0.37 0.00 0.92 | F:μσmM 122.9 100.8 1.0 324.0 | H 1.808 | V 0.161 | pL 0.001 | vL 0.012 | ∇ 0.074\n",
      "U 548 | F 1122304 | FPS 0653 | D 798 | rR:μσmM 0.28 0.35 0.00 0.91 | F:μσmM 104.6 76.9 3.0 279.0 | H 1.770 | V 0.155 | pL 0.028 | vL 0.011 | ∇ 0.067\n",
      "U 549 | F 1124352 | FPS 0664 | D 801 | rR:μσmM 0.42 0.40 0.00 0.94 | F:μσmM 91.5 85.7 17.0 324.0 | H 1.771 | V 0.180 | pL -0.015 | vL 0.017 | ∇ 0.089\n",
      "U 550 | F 1126400 | FPS 0706 | D 804 | rR:μσmM 0.48 0.38 0.00 0.93 | F:μσmM 103.3 84.5 19.0 324.0 | H 1.746 | V 0.224 | pL -0.052 | vL 0.022 | ∇ 0.111\n",
      "Status saved\n",
      "U 551 | F 1128448 | FPS 0719 | D 807 | rR:μσmM 0.36 0.39 0.00 0.91 | F:μσmM 79.9 38.3 4.0 153.0 | H 1.770 | V 0.174 | pL 0.008 | vL 0.018 | ∇ 0.087\n",
      "U 552 | F 1130496 | FPS 0750 | D 809 | rR:μσmM 0.48 0.42 0.00 0.94 | F:μσmM 119.6 110.9 23.0 324.0 | H 1.743 | V 0.238 | pL 0.015 | vL 0.019 | ∇ 0.090\n",
      "U 553 | F 1132544 | FPS 0746 | D 812 | rR:μσmM 0.42 0.40 0.00 0.95 | F:μσmM 98.9 86.5 19.0 324.0 | H 1.775 | V 0.201 | pL 0.036 | vL 0.011 | ∇ 0.059\n",
      "U 554 | F 1134592 | FPS 0789 | D 815 | rR:μσmM 0.42 0.40 0.00 0.95 | F:μσmM 112.4 97.3 17.0 324.0 | H 1.793 | V 0.142 | pL 0.022 | vL 0.008 | ∇ 0.065\n",
      "U 555 | F 1136640 | FPS 0796 | D 817 | rR:μσmM 0.36 0.39 0.00 0.93 | F:μσmM 133.4 105.5 2.0 324.0 | H 1.800 | V 0.173 | pL -0.037 | vL 0.017 | ∇ 0.086\n",
      "U 556 | F 1138688 | FPS 0749 | D 820 | rR:μσmM 0.32 0.36 0.00 0.90 | F:μσmM 96.4 63.9 2.0 260.0 | H 1.791 | V 0.183 | pL -0.038 | vL 0.023 | ∇ 0.085\n",
      "U 557 | F 1140736 | FPS 0753 | D 823 | rR:μσmM 0.53 0.39 0.00 0.94 | F:μσmM 91.2 86.4 22.0 324.0 | H 1.773 | V 0.196 | pL 0.015 | vL 0.011 | ∇ 0.068\n",
      "U 558 | F 1142784 | FPS 0741 | D 825 | rR:μσmM 0.31 0.36 0.00 0.87 | F:μσmM 196.4 109.2 47.0 324.0 | H 1.800 | V 0.148 | pL -0.013 | vL 0.017 | ∇ 0.074\n",
      "U 559 | F 1144832 | FPS 0759 | D 828 | rR:μσmM 0.41 0.37 0.00 0.93 | F:μσmM 137.9 91.6 25.0 313.0 | H 1.784 | V 0.212 | pL -0.036 | vL 0.024 | ∇ 0.081\n",
      "U 560 | F 1146880 | FPS 0747 | D 831 | rR:μσmM 0.58 0.38 0.00 0.95 | F:μσmM 84.0 65.3 18.0 324.0 | H 1.750 | V 0.250 | pL -0.022 | vL 0.021 | ∇ 0.101\n",
      "Status saved\n",
      "U 561 | F 1148928 | FPS 0785 | D 834 | rR:μσmM 0.47 0.38 0.00 0.95 | F:μσmM 119.7 87.5 18.0 324.0 | H 1.750 | V 0.204 | pL 0.009 | vL 0.023 | ∇ 0.096\n",
      "U 562 | F 1150976 | FPS 0787 | D 836 | rR:μσmM 0.37 0.41 0.00 0.95 | F:μσmM 72.7 59.6 2.0 269.0 | H 1.757 | V 0.180 | pL 0.001 | vL 0.021 | ∇ 0.094\n",
      "U 563 | F 1153024 | FPS 0788 | D 839 | rR:μσmM 0.24 0.36 0.00 0.91 | F:μσmM 107.1 96.5 3.0 308.0 | H 1.733 | V 0.170 | pL 0.016 | vL 0.019 | ∇ 0.092\n",
      "U 564 | F 1155072 | FPS 0751 | D 841 | rR:μσmM 0.53 0.38 0.00 0.91 | F:μσmM 103.1 83.7 25.0 324.0 | H 1.719 | V 0.165 | pL 0.005 | vL 0.021 | ∇ 0.104\n",
      "U 565 | F 1157120 | FPS 0654 | D 845 | rR:μσmM 0.32 0.34 0.00 0.88 | F:μσmM 139.1 100.1 12.0 324.0 | H 1.731 | V 0.156 | pL -0.005 | vL 0.015 | ∇ 0.109\n",
      "U 566 | F 1159168 | FPS 0688 | D 848 | rR:μσmM 0.32 0.36 0.00 0.81 | F:μσmM 145.1 103.1 14.0 324.0 | H 1.732 | V 0.145 | pL -0.023 | vL 0.018 | ∇ 0.082\n",
      "U 567 | F 1161216 | FPS 0671 | D 851 | rR:μσmM 0.38 0.34 0.00 0.81 | F:μσmM 165.9 92.6 39.0 324.0 | H 1.756 | V 0.108 | pL 0.015 | vL 0.009 | ∇ 0.054\n",
      "U 568 | F 1163264 | FPS 0661 | D 854 | rR:μσmM 0.15 0.28 0.00 0.89 | F:μσmM 153.9 115.6 9.0 324.0 | H 1.756 | V 0.115 | pL 0.023 | vL 0.011 | ∇ 0.062\n",
      "U 569 | F 1165312 | FPS 0710 | D 857 | rR:μσmM 0.25 0.34 0.00 0.95 | F:μσmM 160.1 116.3 2.0 324.0 | H 1.780 | V 0.106 | pL 0.011 | vL 0.013 | ∇ 0.063\n",
      "U 570 | F 1167360 | FPS 0715 | D 860 | rR:μσmM 0.35 0.41 0.00 0.92 | F:μσmM 131.6 99.0 28.0 310.0 | H 1.764 | V 0.126 | pL -0.029 | vL 0.015 | ∇ 0.079\n",
      "Status saved\n",
      "U 571 | F 1169408 | FPS 0751 | D 862 | rR:μσmM 0.25 0.34 0.00 0.92 | F:μσmM 128.4 110.9 18.0 324.0 | H 1.763 | V 0.139 | pL 0.034 | vL 0.018 | ∇ 0.095\n",
      "U 572 | F 1171456 | FPS 0730 | D 865 | rR:μσmM 0.51 0.34 0.00 0.92 | F:μσmM 119.2 87.6 23.0 324.0 | H 1.722 | V 0.212 | pL -0.040 | vL 0.024 | ∇ 0.099\n",
      "U 573 | F 1173504 | FPS 0690 | D 868 | rR:μσmM 0.35 0.35 0.00 0.92 | F:μσmM 143.8 95.9 25.0 324.0 | H 1.775 | V 0.140 | pL 0.037 | vL 0.013 | ∇ 0.075\n",
      "U 574 | F 1175552 | FPS 0689 | D 871 | rR:μσmM 0.31 0.37 0.00 0.88 | F:μσmM 150.4 96.8 42.0 324.0 | H 1.783 | V 0.125 | pL 0.009 | vL 0.007 | ∇ 0.050\n",
      "U 575 | F 1177600 | FPS 0658 | D 874 | rR:μσmM 0.33 0.39 0.00 0.88 | F:μσmM 133.7 94.2 11.0 324.0 | H 1.818 | V 0.089 | pL -0.005 | vL 0.009 | ∇ 0.052\n",
      "U 576 | F 1179648 | FPS 0693 | D 877 | rR:μσmM 0.22 0.29 0.00 0.89 | F:μσmM 196.1 102.0 36.0 324.0 | H 1.799 | V 0.096 | pL 0.005 | vL 0.011 | ∇ 0.059\n",
      "U 577 | F 1181696 | FPS 0724 | D 880 | rR:μσmM 0.42 0.36 0.00 0.89 | F:μσmM 116.4 74.3 8.0 271.0 | H 1.795 | V 0.144 | pL -0.039 | vL 0.017 | ∇ 0.084\n",
      "U 578 | F 1183744 | FPS 0732 | D 883 | rR:μσmM 0.32 0.38 0.00 0.88 | F:μσmM 127.8 107.8 2.0 324.0 | H 1.785 | V 0.153 | pL -0.012 | vL 0.014 | ∇ 0.077\n",
      "U 579 | F 1185792 | FPS 0712 | D 886 | rR:μσmM 0.44 0.36 0.00 0.88 | F:μσmM 144.3 90.5 25.0 324.0 | H 1.775 | V 0.165 | pL -0.009 | vL 0.013 | ∇ 0.076\n",
      "U 580 | F 1187840 | FPS 0691 | D 889 | rR:μσmM 0.36 0.36 0.00 0.92 | F:μσmM 116.8 87.4 15.0 324.0 | H 1.765 | V 0.205 | pL -0.021 | vL 0.017 | ∇ 0.099\n",
      "Status saved\n",
      "U 581 | F 1189888 | FPS 0714 | D 891 | rR:μσmM 0.45 0.35 0.00 0.87 | F:μσmM 130.9 84.2 19.0 324.0 | H 1.785 | V 0.186 | pL -0.015 | vL 0.017 | ∇ 0.092\n",
      "U 582 | F 1191936 | FPS 0692 | D 894 | rR:μσmM 0.27 0.34 0.00 0.83 | F:μσmM 138.1 102.5 3.0 324.0 | H 1.799 | V 0.131 | pL 0.036 | vL 0.008 | ∇ 0.051\n",
      "U 583 | F 1193984 | FPS 0727 | D 897 | rR:μσmM 0.30 0.34 0.00 0.90 | F:μσmM 140.7 100.8 3.0 324.0 | H 1.778 | V 0.154 | pL 0.010 | vL 0.012 | ∇ 0.077\n",
      "U 584 | F 1196032 | FPS 0728 | D 900 | rR:μσmM 0.42 0.38 0.00 0.93 | F:μσmM 154.6 111.5 27.0 324.0 | H 1.754 | V 0.190 | pL -0.026 | vL 0.017 | ∇ 0.085\n",
      "U 585 | F 1198080 | FPS 0749 | D 903 | rR:μσmM 0.43 0.32 0.00 0.91 | F:μσmM 162.3 102.7 18.0 324.0 | H 1.784 | V 0.156 | pL 0.015 | vL 0.012 | ∇ 0.072\n",
      "U 586 | F 1200128 | FPS 0680 | D 906 | rR:μσmM 0.38 0.30 0.00 0.91 | F:μσmM 152.4 73.1 18.0 278.0 | H 1.788 | V 0.153 | pL 0.000 | vL 0.010 | ∇ 0.070\n",
      "U 587 | F 1202176 | FPS 0532 | D 910 | rR:μσmM 0.35 0.32 0.00 0.89 | F:μσmM 207.4 94.1 41.0 324.0 | H 1.779 | V 0.136 | pL 0.017 | vL 0.014 | ∇ 0.077\n",
      "U 588 | F 1204224 | FPS 0548 | D 913 | rR:μσmM 0.39 0.38 0.00 0.94 | F:μσmM 161.1 117.0 2.0 324.0 | H 1.766 | V 0.164 | pL -0.014 | vL 0.015 | ∇ 0.076\n",
      "U 589 | F 1206272 | FPS 0503 | D 918 | rR:μσmM 0.56 0.37 0.00 0.91 | F:μσmM 114.2 87.8 34.0 320.0 | H 1.750 | V 0.208 | pL -0.002 | vL 0.018 | ∇ 0.097\n",
      "U 590 | F 1208320 | FPS 0499 | D 922 | rR:μσmM 0.47 0.37 0.00 0.94 | F:μσmM 135.2 94.7 21.0 324.0 | H 1.714 | V 0.271 | pL -0.031 | vL 0.017 | ∇ 0.109\n",
      "Status saved\n",
      "U 591 | F 1210368 | FPS 0616 | D 925 | rR:μσmM 0.46 0.32 0.00 0.89 | F:μσmM 145.0 83.4 28.0 324.0 | H 1.750 | V 0.201 | pL 0.004 | vL 0.015 | ∇ 0.079\n",
      "U 592 | F 1212416 | FPS 0647 | D 928 | rR:μσmM 0.53 0.38 0.00 0.94 | F:μσmM 119.0 105.4 17.0 324.0 | H 1.682 | V 0.288 | pL -0.013 | vL 0.021 | ∇ 0.101\n",
      "U 593 | F 1214464 | FPS 0646 | D 931 | rR:μσmM 0.60 0.32 0.00 0.95 | F:μσmM 110.9 79.1 18.0 324.0 | H 1.701 | V 0.260 | pL -0.006 | vL 0.014 | ∇ 0.114\n",
      "U 594 | F 1216512 | FPS 0701 | D 934 | rR:μσmM 0.47 0.42 0.00 0.96 | F:μσmM 106.0 102.6 4.0 324.0 | H 1.697 | V 0.210 | pL 0.052 | vL 0.015 | ∇ 0.098\n",
      "U 595 | F 1218560 | FPS 0685 | D 937 | rR:μσmM 0.62 0.30 0.00 0.96 | F:μσmM 119.9 88.7 16.0 324.0 | H 1.674 | V 0.266 | pL -0.039 | vL 0.019 | ∇ 0.093\n",
      "U 596 | F 1220608 | FPS 0692 | D 940 | rR:μσmM 0.54 0.37 0.00 0.95 | F:μσmM 106.0 92.1 17.0 324.0 | H 1.647 | V 0.243 | pL -0.006 | vL 0.018 | ∇ 0.108\n",
      "U 597 | F 1222656 | FPS 0748 | D 943 | rR:μσmM 0.62 0.32 0.00 0.95 | F:μσmM 118.1 89.3 17.0 324.0 | H 1.698 | V 0.206 | pL 0.021 | vL 0.012 | ∇ 0.079\n",
      "U 598 | F 1224704 | FPS 0769 | D 946 | rR:μσmM 0.52 0.37 0.00 0.94 | F:μσmM 159.7 117.3 23.0 324.0 | H 1.681 | V 0.219 | pL 0.004 | vL 0.015 | ∇ 0.091\n",
      "U 599 | F 1226752 | FPS 0740 | D 948 | rR:μσmM 0.59 0.36 0.00 0.96 | F:μσmM 139.2 114.0 16.0 324.0 | H 1.691 | V 0.243 | pL -0.052 | vL 0.018 | ∇ 0.095\n",
      "U 600 | F 1228800 | FPS 0727 | D 951 | rR:μσmM 0.61 0.29 0.00 0.96 | F:μσmM 131.0 89.4 16.0 324.0 | H 1.663 | V 0.329 | pL -0.029 | vL 0.022 | ∇ 0.111\n",
      "Status saved\n",
      "U 601 | F 1230848 | FPS 0758 | D 954 | rR:μσmM 0.55 0.36 0.00 0.94 | F:μσmM 77.6 44.8 2.0 149.0 | H 1.677 | V 0.303 | pL 0.023 | vL 0.022 | ∇ 0.137\n",
      "U 602 | F 1232896 | FPS 0769 | D 957 | rR:μσmM 0.44 0.35 0.00 0.94 | F:μσmM 120.3 49.1 22.0 201.0 | H 1.707 | V 0.213 | pL 0.060 | vL 0.011 | ∇ 0.086\n",
      "U 603 | F 1234944 | FPS 0789 | D 959 | rR:μσmM 0.53 0.35 0.00 0.95 | F:μσmM 108.0 79.7 18.0 324.0 | H 1.705 | V 0.269 | pL -0.033 | vL 0.021 | ∇ 0.130\n",
      "U 604 | F 1236992 | FPS 0806 | D 962 | rR:μσmM 0.65 0.34 0.00 0.95 | F:μσmM 95.3 90.2 13.0 324.0 | H 1.683 | V 0.215 | pL 0.013 | vL 0.017 | ∇ 0.078\n",
      "U 605 | F 1239040 | FPS 0798 | D 964 | rR:μσmM 0.60 0.31 0.00 0.95 | F:μσmM 119.1 80.7 19.0 324.0 | H 1.657 | V 0.253 | pL -0.019 | vL 0.016 | ∇ 0.086\n",
      "U 606 | F 1241088 | FPS 0746 | D 967 | rR:μσmM 0.58 0.35 0.00 0.95 | F:μσmM 119.4 93.2 19.0 324.0 | H 1.689 | V 0.235 | pL 0.003 | vL 0.024 | ∇ 0.131\n",
      "U 607 | F 1243136 | FPS 0573 | D 971 | rR:μσmM 0.61 0.33 0.00 0.93 | F:μσmM 111.4 79.9 24.0 324.0 | H 1.685 | V 0.181 | pL 0.000 | vL 0.016 | ∇ 0.112\n",
      "U 608 | F 1245184 | FPS 0614 | D 974 | rR:μσmM 0.59 0.36 0.00 0.93 | F:μσmM 121.3 105.7 24.0 324.0 | H 1.643 | V 0.280 | pL -0.078 | vL 0.028 | ∇ 0.145\n",
      "U 609 | F 1247232 | FPS 0603 | D 978 | rR:μσmM 0.57 0.37 0.00 0.94 | F:μσmM 112.1 92.7 21.0 324.0 | H 1.650 | V 0.287 | pL -0.015 | vL 0.024 | ∇ 0.116\n",
      "U 610 | F 1249280 | FPS 0654 | D 981 | rR:μσmM 0.68 0.26 0.00 0.91 | F:μσmM 100.0 71.3 31.0 324.0 | H 1.618 | V 0.357 | pL -0.032 | vL 0.018 | ∇ 0.135\n",
      "Status saved\n",
      "U 611 | F 1251328 | FPS 0664 | D 984 | rR:μσmM 0.65 0.29 0.00 0.93 | F:μσmM 105.5 76.3 25.0 324.0 | H 1.599 | V 0.388 | pL -0.026 | vL 0.022 | ∇ 0.121\n",
      "U 612 | F 1253376 | FPS 0719 | D 987 | rR:μσmM 0.64 0.31 0.00 0.94 | F:μσmM 94.1 70.6 22.0 324.0 | H 1.641 | V 0.374 | pL 0.027 | vL 0.018 | ∇ 0.121\n",
      "U 613 | F 1255424 | FPS 0737 | D 989 | rR:μσmM 0.67 0.23 0.00 0.90 | F:μσmM 93.5 42.5 12.0 182.0 | H 1.641 | V 0.392 | pL -0.047 | vL 0.015 | ∇ 0.108\n",
      "U 614 | F 1257472 | FPS 0646 | D 993 | rR:μσmM 0.81 0.12 0.47 0.95 | F:μσmM 67.9 44.0 19.0 192.0 | H 1.636 | V 0.386 | pL 0.006 | vL 0.014 | ∇ 0.102\n",
      "U 615 | F 1259520 | FPS 0682 | D 996 | rR:μσmM 0.43 0.33 0.00 0.93 | F:μσmM 157.6 91.3 24.0 324.0 | H 1.694 | V 0.278 | pL 0.057 | vL 0.017 | ∇ 0.088\n",
      "U 616 | F 1261568 | FPS 0683 | D 999 | rR:μσmM 0.65 0.32 0.00 0.95 | F:μσmM 80.0 59.3 17.0 219.0 | H 1.674 | V 0.322 | pL -0.014 | vL 0.017 | ∇ 0.118\n",
      "U 617 | F 1263616 | FPS 0692 | D 1002 | rR:μσmM 0.52 0.40 0.00 0.93 | F:μσmM 122.2 106.2 24.0 324.0 | H 1.655 | V 0.333 | pL -0.016 | vL 0.019 | ∇ 0.205\n",
      "U 618 | F 1265664 | FPS 0741 | D 1004 | rR:μσmM 0.74 0.30 0.00 0.94 | F:μσmM 74.1 68.8 21.0 324.0 | H 1.603 | V 0.366 | pL -0.059 | vL 0.026 | ∇ 0.152\n",
      "U 619 | F 1267712 | FPS 0747 | D 1007 | rR:μσmM 0.58 0.37 0.00 0.93 | F:μσmM 69.4 52.9 13.0 248.0 | H 1.637 | V 0.390 | pL 0.027 | vL 0.024 | ∇ 0.133\n",
      "U 620 | F 1269760 | FPS 0751 | D 1010 | rR:μσmM 0.75 0.24 0.00 0.94 | F:μσmM 74.3 66.8 6.0 275.0 | H 1.620 | V 0.354 | pL 0.017 | vL 0.020 | ∇ 0.113\n",
      "Status saved\n",
      "U 621 | F 1271808 | FPS 0740 | D 1013 | rR:μσmM 0.50 0.40 0.00 0.94 | F:μσmM 125.7 106.0 18.0 324.0 | H 1.641 | V 0.319 | pL 0.026 | vL 0.019 | ∇ 0.100\n",
      "U 622 | F 1273856 | FPS 0733 | D 1015 | rR:μσmM 0.49 0.40 0.00 0.93 | F:μσmM 96.8 78.5 19.0 324.0 | H 1.621 | V 0.294 | pL 0.041 | vL 0.018 | ∇ 0.128\n",
      "U 623 | F 1275904 | FPS 0660 | D 1019 | rR:μσmM 0.73 0.23 0.00 0.93 | F:μσmM 76.8 54.5 24.0 200.0 | H 1.656 | V 0.294 | pL -0.040 | vL 0.024 | ∇ 0.129\n",
      "U 624 | F 1277952 | FPS 0709 | D 1021 | rR:μσmM 0.56 0.35 0.00 0.95 | F:μσmM 112.3 94.7 19.0 324.0 | H 1.629 | V 0.320 | pL 0.011 | vL 0.029 | ∇ 0.132\n",
      "U 625 | F 1280000 | FPS 0726 | D 1024 | rR:μσmM 0.71 0.28 0.00 0.95 | F:μσmM 99.2 89.7 18.0 324.0 | H 1.617 | V 0.273 | pL -0.013 | vL 0.017 | ∇ 0.104\n",
      "U 626 | F 1282048 | FPS 0723 | D 1027 | rR:μσmM 0.75 0.23 0.00 0.96 | F:μσmM 87.0 75.8 14.0 324.0 | H 1.626 | V 0.312 | pL -0.035 | vL 0.020 | ∇ 0.135\n",
      "U 627 | F 1284096 | FPS 0729 | D 1030 | rR:μσmM 0.64 0.32 0.00 0.94 | F:μσmM 125.8 108.7 22.0 324.0 | H 1.614 | V 0.290 | pL 0.019 | vL 0.018 | ∇ 0.110\n",
      "U 628 | F 1286144 | FPS 0744 | D 1033 | rR:μσmM 0.52 0.42 0.00 0.94 | F:μσmM 115.5 117.3 21.0 324.0 | H 1.614 | V 0.235 | pL 0.043 | vL 0.013 | ∇ 0.121\n",
      "U 629 | F 1288192 | FPS 0730 | D 1035 | rR:μσmM 0.60 0.35 0.00 0.95 | F:μσmM 119.1 99.9 19.0 324.0 | H 1.673 | V 0.283 | pL 0.002 | vL 0.021 | ∇ 0.111\n",
      "U 630 | F 1290240 | FPS 0688 | D 1038 | rR:μσmM 0.65 0.36 0.00 0.94 | F:μσmM 84.9 83.9 15.0 324.0 | H 1.597 | V 0.310 | pL -0.027 | vL 0.031 | ∇ 0.177\n",
      "Status saved\n",
      "U 631 | F 1292288 | FPS 0635 | D 1042 | rR:μσmM 0.60 0.37 0.00 0.94 | F:μσmM 95.7 91.5 6.0 324.0 | H 1.634 | V 0.293 | pL 0.025 | vL 0.020 | ∇ 0.142\n",
      "U 632 | F 1294336 | FPS 0681 | D 1045 | rR:μσmM 0.64 0.34 0.00 0.94 | F:μσmM 94.7 73.1 22.0 264.0 | H 1.587 | V 0.312 | pL -0.020 | vL 0.025 | ∇ 0.145\n",
      "U 633 | F 1296384 | FPS 0698 | D 1048 | rR:μσmM 0.69 0.33 0.00 0.94 | F:μσmM 87.2 86.1 20.0 324.0 | H 1.582 | V 0.402 | pL -0.016 | vL 0.027 | ∇ 0.126\n",
      "U 634 | F 1298432 | FPS 0711 | D 1051 | rR:μσmM 0.67 0.34 0.00 0.94 | F:μσmM 75.6 71.4 4.0 324.0 | H 1.590 | V 0.390 | pL -0.006 | vL 0.021 | ∇ 0.123\n",
      "U 635 | F 1300480 | FPS 0726 | D 1053 | rR:μσmM 0.71 0.32 0.00 0.93 | F:μσmM 77.2 82.2 1.0 324.0 | H 1.626 | V 0.345 | pL 0.006 | vL 0.019 | ∇ 0.121\n",
      "U 636 | F 1302528 | FPS 0751 | D 1056 | rR:μσmM 0.67 0.34 0.00 0.94 | F:μσmM 92.7 93.0 20.0 324.0 | H 1.662 | V 0.299 | pL 0.053 | vL 0.014 | ∇ 0.112\n",
      "U 637 | F 1304576 | FPS 0699 | D 1059 | rR:μσmM 0.60 0.34 0.00 0.95 | F:μσmM 135.9 110.5 17.0 324.0 | H 1.632 | V 0.330 | pL 0.006 | vL 0.015 | ∇ 0.109\n",
      "U 638 | F 1306624 | FPS 0656 | D 1062 | rR:μσmM 0.70 0.31 0.00 0.95 | F:μσmM 71.9 68.5 9.0 324.0 | H 1.578 | V 0.418 | pL -0.046 | vL 0.027 | ∇ 0.184\n",
      "U 639 | F 1308672 | FPS 0665 | D 1065 | rR:μσmM 0.73 0.25 0.00 0.93 | F:μσmM 71.3 46.1 17.0 234.0 | H 1.633 | V 0.416 | pL -0.006 | vL 0.020 | ∇ 0.122\n",
      "U 640 | F 1310720 | FPS 0684 | D 1068 | rR:μσmM 0.72 0.29 0.00 0.95 | F:μσmM 69.1 56.5 18.0 256.0 | H 1.564 | V 0.438 | pL 0.003 | vL 0.024 | ∇ 0.134\n",
      "Status saved\n",
      "U 641 | F 1312768 | FPS 0712 | D 1071 | rR:μσmM 0.63 0.37 0.00 0.95 | F:μσmM 90.2 84.5 17.0 324.0 | H 1.603 | V 0.377 | pL 0.027 | vL 0.019 | ∇ 0.129\n",
      "U 642 | F 1314816 | FPS 0717 | D 1074 | rR:μσmM 0.77 0.26 0.00 0.94 | F:μσmM 65.0 65.1 3.0 324.0 | H 1.598 | V 0.357 | pL -0.022 | vL 0.015 | ∇ 0.108\n",
      "U 643 | F 1316864 | FPS 0698 | D 1077 | rR:μσmM 0.56 0.38 0.00 0.94 | F:μσmM 112.5 101.5 20.0 324.0 | H 1.608 | V 0.352 | pL 0.018 | vL 0.022 | ∇ 0.132\n",
      "U 644 | F 1318912 | FPS 0696 | D 1080 | rR:μσmM 0.74 0.26 0.00 0.95 | F:μσmM 89.7 82.9 18.0 324.0 | H 1.640 | V 0.359 | pL 0.005 | vL 0.015 | ∇ 0.122\n",
      "U 645 | F 1320960 | FPS 0694 | D 1083 | rR:μσmM 0.71 0.29 0.00 0.94 | F:μσmM 80.2 69.8 22.0 324.0 | H 1.589 | V 0.416 | pL 0.034 | vL 0.021 | ∇ 0.116\n",
      "U 646 | F 1323008 | FPS 0678 | D 1086 | rR:μσmM 0.69 0.34 0.00 0.94 | F:μσmM 89.0 90.9 23.0 324.0 | H 1.581 | V 0.402 | pL -0.020 | vL 0.022 | ∇ 0.131\n",
      "U 647 | F 1325056 | FPS 0690 | D 1089 | rR:μσmM 0.85 0.08 0.62 0.95 | F:μσmM 52.8 30.2 18.0 135.0 | H 1.548 | V 0.414 | pL -0.029 | vL 0.015 | ∇ 0.110\n",
      "U 648 | F 1327104 | FPS 0695 | D 1092 | rR:μσmM 0.70 0.35 0.00 0.95 | F:μσmM 89.0 93.1 18.0 324.0 | H 1.575 | V 0.362 | pL 0.017 | vL 0.016 | ∇ 0.117\n",
      "U 649 | F 1329152 | FPS 0731 | D 1095 | rR:μσmM 0.68 0.34 0.00 0.94 | F:μσmM 72.3 63.4 22.0 324.0 | H 1.583 | V 0.392 | pL 0.007 | vL 0.023 | ∇ 0.134\n",
      "U 650 | F 1331200 | FPS 0723 | D 1098 | rR:μσmM 0.71 0.31 0.00 0.94 | F:μσmM 92.8 89.8 21.0 324.0 | H 1.616 | V 0.390 | pL 0.029 | vL 0.012 | ∇ 0.100\n",
      "Status saved\n",
      "U 651 | F 1333248 | FPS 0714 | D 1100 | rR:μσmM 0.76 0.27 0.00 0.94 | F:μσmM 64.6 58.4 20.0 324.0 | H 1.580 | V 0.435 | pL -0.026 | vL 0.020 | ∇ 0.138\n",
      "U 652 | F 1335296 | FPS 0752 | D 1103 | rR:μσmM 0.79 0.18 0.00 0.94 | F:μσmM 64.3 27.7 22.0 114.0 | H 1.597 | V 0.487 | pL 0.016 | vL 0.019 | ∇ 0.128\n",
      "U 653 | F 1337344 | FPS 0719 | D 1106 | rR:μσmM 0.70 0.31 0.00 0.94 | F:μσmM 88.6 88.8 1.0 324.0 | H 1.594 | V 0.419 | pL 0.029 | vL 0.025 | ∇ 0.144\n",
      "U 654 | F 1339392 | FPS 0709 | D 1109 | rR:μσmM 0.82 0.19 0.00 0.95 | F:μσmM 56.7 45.7 19.0 182.0 | H 1.526 | V 0.450 | pL -0.029 | vL 0.018 | ∇ 0.129\n",
      "U 655 | F 1341440 | FPS 0646 | D 1112 | rR:μσmM 0.74 0.32 0.00 0.95 | F:μσmM 63.3 75.1 10.0 324.0 | H 1.515 | V 0.477 | pL -0.030 | vL 0.019 | ∇ 0.120\n",
      "U 656 | F 1343488 | FPS 0688 | D 1115 | rR:μσmM 0.73 0.29 0.00 0.96 | F:μσmM 77.5 74.7 16.0 324.0 | H 1.548 | V 0.436 | pL 0.023 | vL 0.021 | ∇ 0.137\n",
      "U 657 | F 1345536 | FPS 0701 | D 1118 | rR:μσmM 0.81 0.20 0.00 0.94 | F:μσmM 64.7 57.8 20.0 273.0 | H 1.567 | V 0.389 | pL 0.026 | vL 0.017 | ∇ 0.142\n",
      "U 658 | F 1347584 | FPS 0687 | D 1121 | rR:μσmM 0.65 0.30 0.00 0.94 | F:μσmM 108.9 92.7 21.0 324.0 | H 1.600 | V 0.328 | pL -0.003 | vL 0.017 | ∇ 0.128\n",
      "U 659 | F 1349632 | FPS 0672 | D 1124 | rR:μσmM 0.67 0.36 0.00 0.95 | F:μσmM 69.1 76.9 9.0 324.0 | H 1.573 | V 0.363 | pL 0.038 | vL 0.025 | ∇ 0.149\n",
      "U 660 | F 1351680 | FPS 0662 | D 1127 | rR:μσmM 0.70 0.32 0.00 0.95 | F:μσmM 72.6 64.0 18.0 324.0 | H 1.545 | V 0.342 | pL -0.007 | vL 0.020 | ∇ 0.144\n",
      "Status saved\n",
      "U 661 | F 1353728 | FPS 0646 | D 1130 | rR:μσmM 0.66 0.36 0.00 0.95 | F:μσmM 84.4 85.4 15.0 324.0 | H 1.545 | V 0.357 | pL 0.014 | vL 0.022 | ∇ 0.129\n",
      "U 662 | F 1355776 | FPS 0676 | D 1133 | rR:μσmM 0.75 0.28 0.00 0.96 | F:μσmM 75.9 81.1 10.0 324.0 | H 1.540 | V 0.418 | pL -0.026 | vL 0.015 | ∇ 0.109\n",
      "U 663 | F 1357824 | FPS 0674 | D 1136 | rR:μσmM 0.83 0.15 0.31 0.96 | F:μσmM 62.4 54.4 15.0 248.0 | H 1.525 | V 0.465 | pL -0.011 | vL 0.020 | ∇ 0.134\n",
      "U 664 | F 1359872 | FPS 0722 | D 1139 | rR:μσmM 0.77 0.25 0.00 0.95 | F:μσmM 71.4 71.0 18.0 324.0 | H 1.538 | V 0.477 | pL -0.011 | vL 0.017 | ∇ 0.102\n",
      "U 665 | F 1361920 | FPS 0665 | D 1142 | rR:μσmM 0.78 0.26 0.00 0.95 | F:μσmM 54.3 32.7 19.0 151.0 | H 1.541 | V 0.478 | pL -0.006 | vL 0.022 | ∇ 0.148\n",
      "U 666 | F 1363968 | FPS 0668 | D 1145 | rR:μσmM 0.78 0.23 0.00 0.96 | F:μσmM 69.7 67.2 15.0 296.0 | H 1.522 | V 0.505 | pL 0.005 | vL 0.019 | ∇ 0.113\n",
      "U 667 | F 1366016 | FPS 0687 | D 1148 | rR:μσmM 0.82 0.21 0.00 0.95 | F:μσmM 50.6 38.0 19.0 218.0 | H 1.500 | V 0.548 | pL -0.047 | vL 0.021 | ∇ 0.146\n",
      "U 668 | F 1368064 | FPS 0737 | D 1151 | rR:μσmM 0.83 0.20 0.00 0.95 | F:μσmM 53.1 50.9 17.0 324.0 | H 1.484 | V 0.602 | pL 0.001 | vL 0.021 | ∇ 0.113\n",
      "U 669 | F 1370112 | FPS 0739 | D 1154 | rR:μσmM 0.85 0.16 0.00 0.96 | F:μσmM 49.0 34.6 15.0 162.0 | H 1.480 | V 0.549 | pL 0.036 | vL 0.020 | ∇ 0.137\n",
      "U 670 | F 1372160 | FPS 0786 | D 1157 | rR:μσmM 0.86 0.15 0.17 0.96 | F:μσmM 50.9 54.4 15.0 297.0 | H 1.522 | V 0.493 | pL 0.060 | vL 0.013 | ∇ 0.114\n",
      "Status saved\n",
      "U 671 | F 1374208 | FPS 0798 | D 1159 | rR:μσmM 0.68 0.31 0.00 0.94 | F:μσmM 84.1 81.5 14.0 324.0 | H 1.523 | V 0.501 | pL 0.032 | vL 0.023 | ∇ 0.164\n",
      "U 672 | F 1376256 | FPS 0808 | D 1162 | rR:μσmM 0.80 0.25 0.00 0.94 | F:μσmM 46.5 33.7 20.0 185.0 | H 1.498 | V 0.526 | pL -0.002 | vL 0.023 | ∇ 0.136\n",
      "U 673 | F 1378304 | FPS 0806 | D 1164 | rR:μσmM 0.83 0.20 0.00 0.94 | F:μσmM 45.5 27.8 21.0 152.0 | H 1.495 | V 0.568 | pL 0.000 | vL 0.019 | ∇ 0.129\n",
      "U 674 | F 1380352 | FPS 0801 | D 1167 | rR:μσmM 0.83 0.19 0.00 0.95 | F:μσmM 53.3 48.2 19.0 256.0 | H 1.481 | V 0.566 | pL -0.017 | vL 0.020 | ∇ 0.134\n",
      "U 675 | F 1382400 | FPS 0785 | D 1169 | rR:μσmM 0.86 0.13 0.19 0.96 | F:μσmM 51.8 48.0 16.0 292.0 | H 1.460 | V 0.553 | pL 0.023 | vL 0.017 | ∇ 0.139\n",
      "U 676 | F 1384448 | FPS 0763 | D 1172 | rR:μσmM 0.86 0.15 0.00 0.94 | F:μσmM 51.3 49.8 20.0 324.0 | H 1.481 | V 0.540 | pL -0.044 | vL 0.009 | ∇ 0.102\n",
      "U 677 | F 1386496 | FPS 0761 | D 1175 | rR:μσmM 0.86 0.16 0.00 0.95 | F:μσmM 49.5 52.5 17.0 324.0 | H 1.502 | V 0.536 | pL 0.029 | vL 0.012 | ∇ 0.114\n",
      "U 678 | F 1388544 | FPS 0777 | D 1177 | rR:μσmM 0.84 0.21 0.00 0.96 | F:μσmM 50.9 57.3 15.0 324.0 | H 1.487 | V 0.535 | pL 0.037 | vL 0.016 | ∇ 0.116\n",
      "U 679 | F 1390592 | FPS 0798 | D 1180 | rR:μσmM 0.77 0.25 0.00 0.94 | F:μσmM 64.7 58.3 21.0 324.0 | H 1.536 | V 0.545 | pL 0.019 | vL 0.014 | ∇ 0.120\n",
      "U 680 | F 1392640 | FPS 0804 | D 1183 | rR:μσmM 0.82 0.20 0.00 0.94 | F:μσmM 54.3 52.6 13.0 324.0 | H 1.482 | V 0.624 | pL -0.024 | vL 0.010 | ∇ 0.098\n",
      "Status saved\n",
      "U 681 | F 1394688 | FPS 0813 | D 1185 | rR:μσmM 0.83 0.22 0.00 0.94 | F:μσmM 39.9 19.3 15.0 129.0 | H 1.463 | V 0.621 | pL 0.002 | vL 0.017 | ∇ 0.138\n",
      "U 682 | F 1396736 | FPS 0790 | D 1188 | rR:μσmM 0.84 0.20 0.00 0.95 | F:μσmM 41.0 22.2 19.0 113.0 | H 1.461 | V 0.569 | pL -0.023 | vL 0.016 | ∇ 0.116\n",
      "U 683 | F 1398784 | FPS 0785 | D 1190 | rR:μσmM 0.83 0.21 0.00 0.95 | F:μσmM 54.8 57.1 19.0 324.0 | H 1.423 | V 0.601 | pL -0.013 | vL 0.014 | ∇ 0.108\n",
      "U 684 | F 1400832 | FPS 0766 | D 1193 | rR:μσmM 0.81 0.27 0.00 0.95 | F:μσmM 43.9 46.3 7.0 324.0 | H 1.377 | V 0.615 | pL 0.037 | vL 0.013 | ∇ 0.120\n",
      "U 685 | F 1402880 | FPS 0717 | D 1196 | rR:μσmM 0.85 0.16 0.00 0.95 | F:μσmM 46.2 30.9 19.0 136.0 | H 1.445 | V 0.551 | pL 0.030 | vL 0.016 | ∇ 0.119\n",
      "U 686 | F 1404928 | FPS 0683 | D 1199 | rR:μσmM 0.79 0.28 0.00 0.95 | F:μσmM 45.2 49.8 15.0 284.0 | H 1.426 | V 0.571 | pL -0.001 | vL 0.021 | ∇ 0.166\n",
      "U 687 | F 1406976 | FPS 0791 | D 1201 | rR:μσmM 0.83 0.23 0.00 0.95 | F:μσmM 52.2 61.7 18.0 324.0 | H 1.427 | V 0.597 | pL 0.019 | vL 0.018 | ∇ 0.116\n",
      "U 688 | F 1409024 | FPS 0786 | D 1204 | rR:μσmM 0.88 0.13 0.00 0.96 | F:μσmM 35.1 15.2 16.0 101.0 | H 1.401 | V 0.656 | pL -0.001 | vL 0.014 | ∇ 0.123\n",
      "U 689 | F 1411072 | FPS 0793 | D 1207 | rR:μσmM 0.86 0.18 0.00 0.95 | F:μσmM 48.7 49.7 17.0 249.0 | H 1.426 | V 0.572 | pL 0.004 | vL 0.015 | ∇ 0.127\n",
      "U 690 | F 1413120 | FPS 0806 | D 1209 | rR:μσmM 0.82 0.23 0.00 0.95 | F:μσmM 45.1 28.3 14.0 147.0 | H 1.434 | V 0.577 | pL -0.002 | vL 0.021 | ∇ 0.135\n",
      "Status saved\n",
      "U 691 | F 1415168 | FPS 0781 | D 1212 | rR:μσmM 0.88 0.14 0.00 0.96 | F:μσmM 36.9 18.9 16.0 113.0 | H 1.404 | V 0.632 | pL -0.018 | vL 0.016 | ∇ 0.105\n",
      "U 692 | F 1417216 | FPS 0767 | D 1215 | rR:μσmM 0.81 0.24 0.00 0.96 | F:μσmM 49.9 48.9 16.0 324.0 | H 1.450 | V 0.576 | pL 0.032 | vL 0.018 | ∇ 0.109\n",
      "U 693 | F 1419264 | FPS 0771 | D 1217 | rR:μσmM 0.81 0.22 0.00 0.95 | F:μσmM 59.2 61.5 19.0 324.0 | H 1.455 | V 0.564 | pL 0.019 | vL 0.017 | ∇ 0.149\n",
      "U 694 | F 1421312 | FPS 0785 | D 1220 | rR:μσmM 0.83 0.21 0.00 0.95 | F:μσmM 45.4 24.6 9.0 121.0 | H 1.465 | V 0.552 | pL 0.025 | vL 0.017 | ∇ 0.108\n",
      "U 695 | F 1423360 | FPS 0805 | D 1222 | rR:μσmM 0.82 0.23 0.00 0.95 | F:μσmM 44.3 39.5 6.0 248.0 | H 1.451 | V 0.584 | pL -0.004 | vL 0.017 | ∇ 0.120\n",
      "U 696 | F 1425408 | FPS 0784 | D 1225 | rR:μσmM 0.80 0.27 0.00 0.95 | F:μσmM 52.3 49.4 18.0 324.0 | H 1.484 | V 0.560 | pL 0.034 | vL 0.019 | ∇ 0.119\n",
      "U 697 | F 1427456 | FPS 0808 | D 1228 | rR:μσmM 0.81 0.23 0.00 0.94 | F:μσmM 50.3 35.8 20.0 184.0 | H 1.528 | V 0.502 | pL 0.045 | vL 0.021 | ∇ 0.166\n",
      "U 698 | F 1429504 | FPS 0790 | D 1230 | rR:μσmM 0.75 0.30 0.00 0.95 | F:μσmM 53.4 51.5 1.0 324.0 | H 1.466 | V 0.599 | pL -0.042 | vL 0.018 | ∇ 0.117\n",
      "U 699 | F 1431552 | FPS 0764 | D 1233 | rR:μσmM 0.86 0.15 0.00 0.96 | F:μσmM 44.6 23.8 16.0 120.0 | H 1.478 | V 0.597 | pL -0.042 | vL 0.016 | ∇ 0.124\n",
      "U 700 | F 1433600 | FPS 0769 | D 1236 | rR:μσmM 0.79 0.27 0.00 0.95 | F:μσmM 43.2 34.9 1.0 190.0 | H 1.493 | V 0.575 | pL 0.048 | vL 0.023 | ∇ 0.142\n",
      "Status saved\n",
      "U 701 | F 1435648 | FPS 0783 | D 1238 | rR:μσmM 0.80 0.21 0.00 0.96 | F:μσmM 54.3 38.7 8.0 189.0 | H 1.495 | V 0.557 | pL 0.028 | vL 0.017 | ∇ 0.099\n",
      "U 702 | F 1437696 | FPS 0778 | D 1241 | rR:μσmM 0.84 0.21 0.00 0.95 | F:μσmM 55.5 67.3 17.0 324.0 | H 1.460 | V 0.558 | pL 0.022 | vL 0.018 | ∇ 0.141\n",
      "U 703 | F 1439744 | FPS 0799 | D 1243 | rR:μσmM 0.84 0.21 0.00 0.95 | F:μσmM 46.1 40.5 19.0 232.0 | H 1.516 | V 0.560 | pL -0.006 | vL 0.019 | ∇ 0.141\n",
      "U 704 | F 1441792 | FPS 0786 | D 1246 | rR:μσmM 0.82 0.17 0.00 0.95 | F:μσmM 54.5 38.7 15.0 192.0 | H 1.534 | V 0.554 | pL 0.002 | vL 0.016 | ∇ 0.118\n",
      "U 705 | F 1443840 | FPS 0769 | D 1249 | rR:μσmM 0.83 0.19 0.00 0.95 | F:μσmM 54.1 49.0 18.0 284.0 | H 1.487 | V 0.588 | pL -0.009 | vL 0.017 | ∇ 0.128\n",
      "U 706 | F 1445888 | FPS 0763 | D 1251 | rR:μσmM 0.87 0.07 0.63 0.94 | F:μσmM 46.2 25.7 20.0 132.0 | H 1.454 | V 0.604 | pL -0.034 | vL 0.014 | ∇ 0.101\n",
      "U 707 | F 1447936 | FPS 0769 | D 1254 | rR:μσmM 0.81 0.23 0.00 0.95 | F:μσmM 55.4 53.0 17.0 288.0 | H 1.448 | V 0.577 | pL 0.013 | vL 0.016 | ∇ 0.110\n",
      "U 708 | F 1449984 | FPS 0708 | D 1257 | rR:μσmM 0.86 0.15 0.00 0.95 | F:μσmM 43.1 27.4 3.0 146.0 | H 1.433 | V 0.603 | pL -0.035 | vL 0.015 | ∇ 0.111\n",
      "U 709 | F 1452032 | FPS 0696 | D 1260 | rR:μσmM 0.87 0.15 0.00 0.95 | F:μσmM 40.9 31.1 17.0 158.0 | H 1.412 | V 0.630 | pL -0.031 | vL 0.011 | ∇ 0.097\n",
      "U 710 | F 1454080 | FPS 0738 | D 1263 | rR:μσmM 0.80 0.30 0.00 0.96 | F:μσmM 40.0 46.4 9.0 324.0 | H 1.426 | V 0.627 | pL 0.027 | vL 0.018 | ∇ 0.142\n",
      "Status saved\n",
      "U 711 | F 1456128 | FPS 0691 | D 1266 | rR:μσmM 0.86 0.15 0.00 0.95 | F:μσmM 43.0 30.2 18.0 154.0 | H 1.450 | V 0.624 | pL 0.034 | vL 0.015 | ∇ 0.130\n",
      "U 712 | F 1458176 | FPS 0695 | D 1269 | rR:μσmM 0.88 0.06 0.73 0.95 | F:μσmM 43.1 22.4 19.0 99.0 | H 1.465 | V 0.623 | pL -0.002 | vL 0.012 | ∇ 0.102\n",
      "U 713 | F 1460224 | FPS 0710 | D 1271 | rR:μσmM 0.83 0.21 0.00 0.95 | F:μσmM 48.4 38.7 17.0 205.0 | H 1.456 | V 0.622 | pL -0.028 | vL 0.013 | ∇ 0.100\n",
      "U 714 | F 1462272 | FPS 0755 | D 1274 | rR:μσmM 0.87 0.18 0.00 0.95 | F:μσmM 37.1 20.4 18.0 111.0 | H 1.436 | V 0.626 | pL 0.039 | vL 0.024 | ∇ 0.122\n",
      "U 715 | F 1464320 | FPS 0772 | D 1277 | rR:μσmM 0.83 0.21 0.00 0.95 | F:μσmM 54.0 52.5 17.0 324.0 | H 1.449 | V 0.570 | pL -0.007 | vL 0.014 | ∇ 0.109\n",
      "U 716 | F 1466368 | FPS 0801 | D 1279 | rR:μσmM 0.83 0.17 0.00 0.94 | F:μσmM 52.9 40.5 20.0 206.0 | H 1.481 | V 0.600 | pL 0.009 | vL 0.016 | ∇ 0.146\n",
      "U 717 | F 1468416 | FPS 0761 | D 1282 | rR:μσmM 0.83 0.24 0.00 0.95 | F:μσmM 38.1 23.3 2.0 117.0 | H 1.403 | V 0.646 | pL -0.015 | vL 0.017 | ∇ 0.123\n",
      "U 718 | F 1470464 | FPS 0740 | D 1285 | rR:μσmM 0.89 0.06 0.63 0.96 | F:μσmM 39.5 21.3 16.0 134.0 | H 1.393 | V 0.694 | pL -0.036 | vL 0.007 | ∇ 0.073\n",
      "U 719 | F 1472512 | FPS 0698 | D 1288 | rR:μσmM 0.86 0.18 0.00 0.94 | F:μσmM 38.9 19.6 13.0 112.0 | H 1.403 | V 0.670 | pL 0.014 | vL 0.016 | ∇ 0.120\n",
      "U 720 | F 1474560 | FPS 0693 | D 1291 | rR:μσmM 0.88 0.14 0.00 0.95 | F:μσmM 37.7 25.7 17.0 159.0 | H 1.371 | V 0.684 | pL 0.006 | vL 0.014 | ∇ 0.090\n",
      "Status saved\n",
      "U 721 | F 1476608 | FPS 0658 | D 1294 | rR:μσmM 0.89 0.13 0.00 0.95 | F:μσmM 35.1 17.6 18.0 131.0 | H 1.339 | V 0.724 | pL -0.024 | vL 0.011 | ∇ 0.111\n",
      "U 722 | F 1478656 | FPS 0709 | D 1297 | rR:μσmM 0.89 0.12 0.00 0.95 | F:μσmM 33.2 13.8 2.0 79.0 | H 1.374 | V 0.736 | pL -0.021 | vL 0.008 | ∇ 0.102\n",
      "U 723 | F 1480704 | FPS 0759 | D 1300 | rR:μσmM 0.89 0.13 0.00 0.95 | F:μσmM 34.0 18.0 17.0 103.0 | H 1.364 | V 0.730 | pL 0.010 | vL 0.011 | ∇ 0.090\n",
      "U 724 | F 1482752 | FPS 0755 | D 1302 | rR:μσmM 0.87 0.18 0.00 0.96 | F:μσmM 34.6 17.3 15.0 96.0 | H 1.398 | V 0.677 | pL 0.043 | vL 0.016 | ∇ 0.111\n",
      "U 725 | F 1484800 | FPS 0730 | D 1305 | rR:μσmM 0.83 0.20 0.00 0.95 | F:μσmM 48.2 36.6 17.0 223.0 | H 1.511 | V 0.633 | pL 0.007 | vL 0.019 | ∇ 0.123\n",
      "U 726 | F 1486848 | FPS 0738 | D 1308 | rR:μσmM 0.87 0.15 0.00 0.94 | F:μσmM 38.8 29.6 18.0 204.0 | H 1.461 | V 0.663 | pL 0.024 | vL 0.013 | ∇ 0.096\n",
      "U 727 | F 1488896 | FPS 0699 | D 1311 | rR:μσmM 0.84 0.17 0.00 0.94 | F:μσmM 51.9 35.2 22.0 188.0 | H 1.494 | V 0.585 | pL -0.004 | vL 0.021 | ∇ 0.149\n",
      "U 728 | F 1490944 | FPS 0703 | D 1314 | rR:μσmM 0.82 0.24 0.00 0.94 | F:μσmM 47.7 36.1 21.0 200.0 | H 1.451 | V 0.595 | pL 0.023 | vL 0.016 | ∇ 0.107\n",
      "U 729 | F 1492992 | FPS 0630 | D 1317 | rR:μσmM 0.82 0.23 0.00 0.96 | F:μσmM 45.9 27.2 16.0 138.0 | H 1.468 | V 0.575 | pL -0.026 | vL 0.019 | ∇ 0.123\n",
      "U 730 | F 1495040 | FPS 0640 | D 1320 | rR:μσmM 0.89 0.06 0.69 0.95 | F:μσmM 37.9 20.0 19.0 113.0 | H 1.389 | V 0.714 | pL -0.042 | vL 0.008 | ∇ 0.093\n",
      "Status saved\n",
      "U 731 | F 1497088 | FPS 0643 | D 1323 | rR:μσmM 0.89 0.06 0.69 0.95 | F:μσmM 39.1 21.4 18.0 113.0 | H 1.428 | V 0.667 | pL 0.014 | vL 0.010 | ∇ 0.080\n",
      "U 732 | F 1499136 | FPS 0673 | D 1326 | rR:μσmM 0.86 0.15 0.00 0.96 | F:μσmM 43.3 32.1 10.0 185.0 | H 1.403 | V 0.668 | pL 0.007 | vL 0.013 | ∇ 0.084\n",
      "U 733 | F 1501184 | FPS 0700 | D 1329 | rR:μσmM 0.90 0.07 0.45 0.95 | F:μσmM 36.3 25.8 17.0 198.0 | H 1.382 | V 0.689 | pL -0.031 | vL 0.010 | ∇ 0.077\n",
      "U 734 | F 1503232 | FPS 0720 | D 1332 | rR:μσmM 0.86 0.18 0.00 0.96 | F:μσmM 40.4 25.8 8.0 135.0 | H 1.371 | V 0.690 | pL 0.018 | vL 0.015 | ∇ 0.110\n",
      "U 735 | F 1505280 | FPS 0661 | D 1335 | rR:μσmM 0.87 0.18 0.00 0.95 | F:μσmM 33.6 14.5 17.0 83.0 | H 1.428 | V 0.624 | pL 0.030 | vL 0.018 | ∇ 0.115\n",
      "U 736 | F 1507328 | FPS 0612 | D 1339 | rR:μσmM 0.87 0.15 0.00 0.96 | F:μσmM 41.6 28.1 16.0 161.0 | H 1.421 | V 0.645 | pL -0.015 | vL 0.014 | ∇ 0.124\n",
      "U 737 | F 1509376 | FPS 0577 | D 1342 | rR:μσmM 0.87 0.16 0.00 0.95 | F:μσmM 41.6 38.5 17.0 261.0 | H 1.381 | V 0.705 | pL -0.027 | vL 0.012 | ∇ 0.079\n",
      "U 738 | F 1511424 | FPS 0589 | D 1346 | rR:μσmM 0.86 0.20 0.00 0.95 | F:μσmM 33.6 15.2 1.0 98.0 | H 1.378 | V 0.711 | pL -0.002 | vL 0.022 | ∇ 0.151\n",
      "U 739 | F 1513472 | FPS 0585 | D 1349 | rR:μσmM 0.89 0.13 0.00 0.95 | F:μσmM 33.6 16.7 16.0 85.0 | H 1.366 | V 0.666 | pL -0.017 | vL 0.015 | ∇ 0.116\n",
      "U 740 | F 1515520 | FPS 0580 | D 1353 | rR:μσmM 0.90 0.05 0.67 0.96 | F:μσmM 36.2 17.7 15.0 120.0 | H 1.336 | V 0.703 | pL -0.028 | vL 0.009 | ∇ 0.076\n",
      "Status saved\n",
      "U 741 | F 1517568 | FPS 0676 | D 1356 | rR:μσmM 0.85 0.22 0.00 0.95 | F:μσmM 41.1 40.7 18.0 282.0 | H 1.384 | V 0.650 | pL 0.030 | vL 0.020 | ∇ 0.128\n",
      "U 742 | F 1519616 | FPS 0679 | D 1359 | rR:μσmM 0.89 0.13 0.00 0.95 | F:μσmM 33.9 14.5 18.0 82.0 | H 1.404 | V 0.633 | pL -0.009 | vL 0.013 | ∇ 0.093\n",
      "U 743 | F 1521664 | FPS 0693 | D 1362 | rR:μσmM 0.79 0.28 0.00 0.96 | F:μσmM 46.8 42.9 15.0 246.0 | H 1.360 | V 0.635 | pL -0.006 | vL 0.025 | ∇ 0.132\n",
      "U 744 | F 1523712 | FPS 0659 | D 1365 | rR:μσmM 0.92 0.03 0.76 0.96 | F:μσmM 29.6 12.2 16.0 85.0 | H 1.272 | V 0.718 | pL -0.049 | vL 0.012 | ∇ 0.090\n",
      "U 745 | F 1525760 | FPS 0491 | D 1369 | rR:μσmM 0.89 0.16 0.00 0.96 | F:μσmM 29.8 22.6 1.0 152.0 | H 1.202 | V 0.763 | pL -0.012 | vL 0.013 | ∇ 0.106\n",
      "U 746 | F 1527808 | FPS 0639 | D 1372 | rR:μσmM 0.92 0.04 0.69 0.96 | F:μσmM 28.5 15.3 16.0 110.0 | H 1.252 | V 0.777 | pL -0.020 | vL 0.005 | ∇ 0.069\n",
      "U 747 | F 1529856 | FPS 0642 | D 1376 | rR:μσmM 0.91 0.11 0.00 0.96 | F:μσmM 29.2 11.6 16.0 79.0 | H 1.303 | V 0.769 | pL 0.000 | vL 0.012 | ∇ 0.094\n",
      "U 748 | F 1531904 | FPS 0617 | D 1379 | rR:μσmM 0.91 0.11 0.00 0.96 | F:μσmM 27.7 10.2 16.0 87.0 | H 1.305 | V 0.751 | pL -0.003 | vL 0.013 | ∇ 0.090\n",
      "U 749 | F 1533952 | FPS 0614 | D 1382 | rR:μσmM 0.87 0.19 0.00 0.95 | F:μσmM 32.6 14.5 9.0 104.0 | H 1.320 | V 0.750 | pL 0.009 | vL 0.010 | ∇ 0.074\n",
      "Number of frames:  1536000\n"
     ]
    }
   ],
   "source": [
    "# Train model\n",
    "\n",
    "num_frames = status[\"num_frames\"]\n",
    "update = status[\"update\"]\n",
    "start_time = time.time()\n",
    "\n",
    "# Moving average parameters\n",
    "threshold = 0.90\n",
    "window = 5\n",
    "rreturn_total = 0\n",
    "i = 0\n",
    "\n",
    "while num_frames < args.frames:\n",
    "    # Update model parameters\n",
    "\n",
    "    update_start_time = time.time()\n",
    "    exps, logs1 = algo.collect_experiences()\n",
    "    logs2 = algo.update_parameters(exps)\n",
    "    logs = {**logs1, **logs2}\n",
    "    update_end_time = time.time()\n",
    "\n",
    "    num_frames += logs[\"num_frames\"]\n",
    "    update += 1\n",
    "\n",
    "    # Print logs\n",
    "\n",
    "    if update % args.log_interval == 0:\n",
    "        fps = logs[\"num_frames\"]/(update_end_time - update_start_time)\n",
    "        duration = int(time.time() - start_time)\n",
    "        return_per_episode = utils.synthesize(logs[\"return_per_episode\"])\n",
    "        rreturn_per_episode = utils.synthesize(logs[\"reshaped_return_per_episode\"])\n",
    "        num_frames_per_episode = utils.synthesize(logs[\"num_frames_per_episode\"])\n",
    "        # Moving average to break loop if mean reward threshold reached\n",
    "        rreturn_total +=rreturn_per_episode['mean']\n",
    "        i+=1\n",
    "        if i >= window:\n",
    "            rreturn_mavg = rreturn_total / i\n",
    "            if rreturn_mavg >= threshold: \n",
    "                break\n",
    "            else:\n",
    "                i = 0\n",
    "                rreturn_total = 0\n",
    "\n",
    "        header = [\"update\", \"frames\", \"FPS\", \"duration\"]\n",
    "        data = [update, num_frames, fps, duration]\n",
    "        header += [\"rreturn_\" + key for key in rreturn_per_episode.keys()]\n",
    "        data += rreturn_per_episode.values()\n",
    "        header += [\"num_frames_\" + key for key in num_frames_per_episode.keys()]\n",
    "        data += num_frames_per_episode.values()\n",
    "        header += [\"entropy\", \"value\", \"policy_loss\", \"value_loss\", \"grad_norm\"]\n",
    "        data += [logs[\"entropy\"], logs[\"value\"], logs[\"policy_loss\"], logs[\"value_loss\"], logs[\"grad_norm\"]]\n",
    "\n",
    "        txt_logger.info(\n",
    "            \"U {} | F {:06} | FPS {:04.0f} | D {} | rR:μσmM {:.2f} {:.2f} {:.2f} {:.2f} | F:μσmM {:.1f} {:.1f} {} {} | H {:.3f} | V {:.3f} | pL {:.3f} | vL {:.3f} | ∇ {:.3f}\"\n",
    "            .format(*data))\n",
    "\n",
    "        header += [\"return_\" + key for key in return_per_episode.keys()]\n",
    "        data += return_per_episode.values()\n",
    "\n",
    "        if status[\"num_frames\"] == 0:\n",
    "            csv_logger.writerow(header)\n",
    "        csv_logger.writerow(data)\n",
    "        csv_file.flush()\n",
    "\n",
    "        for field, value in zip(header, data):\n",
    "            tb_writer.add_scalar(field, value, num_frames)\n",
    "\n",
    "    # Save status\n",
    "\n",
    "    if args.save_interval > 0 and update % args.save_interval == 0:\n",
    "        status = {\"num_frames\": num_frames, \"update\": update,\n",
    "                  \"model_state\": acmodel.state_dict(), \"optimizer_state\": algo.optimizer.state_dict()}\n",
    "        if hasattr(preprocess_obss, \"vocab\"):\n",
    "            status[\"vocab\"] = preprocess_obss.vocab.vocab\n",
    "        utils.save_status(status, model_dir)\n",
    "        txt_logger.info(\"Status saved\")\n",
    "\n",
    "print(\"Number of frames: \", num_frames)"
   ]
  },
  {
   "cell_type": "markdown",
   "metadata": {},
   "source": [
    "## Evaluate 2nd environment"
   ]
  },
  {
   "cell_type": "markdown",
   "metadata": {},
   "source": [
    "### Load parameters"
   ]
  },
  {
   "cell_type": "code",
   "execution_count": 86,
   "metadata": {},
   "outputs": [
    {
     "name": "stdout",
     "output_type": "stream",
     "text": [
      "{'env': 'MiniGrid-LavaCrossingS9N1-v0', 'model': 'MiniGrid-SimpleCrossingS9N1-v0_PPO_lstm_frames_1M_recur_32_proc_16_RMSProp_lr_7e4_gae_099_test_MiniGrid-LavaCrossingS9N1-v0', 'episodes': 100, 'seed': 2, 'procs': 16, 'argmax': False, 'worst_episodes_to_show': 10, 'mem': True, 'use_rim': False}\n",
      "Device: cpu\n",
      "\n"
     ]
    }
   ],
   "source": [
    "#env_id = 'MiniGrid-Empty-8x8-v0'\n",
    "#env_id = 'MiniGrid-LavaGapS5-v0'\n",
    "#env_id = 'MiniGrid-DoorKey-5x5-v0'\n",
    "#env_id = 'MiniGrid-DoorKey-6x6-v0'\n",
    "#env_id = 'MiniGrid-Empty-Random-6x6-v0'\n",
    "#env_id = 'MiniGrid-Empty-5x5-v0'\n",
    "#env_id = 'MiniGrid-SimpleCrossingS9N1-v0'\n",
    "#env_id = 'MiniGrid-SimpleCrossingS9N2-v0'\n",
    "#env_id = 'MiniGrid-SimpleCrossingS9N3-v0'\n",
    "#env_id = 'MiniGrid-SimpleCrossingS11N5-v0'\n",
    "env_id = 'MiniGrid-LavaCrossingS9N1-v0'\n",
    "args.env = env_id\n",
    "\n",
    "## Hyper-parameters\n",
    "args = {\n",
    "# General parameters\n",
    "'env':args.env,\n",
    "'model':model,\n",
    "'episodes':100,\n",
    "'seed':2,\n",
    "'procs':16,\n",
    "'argmax':False,\n",
    "'worst_episodes_to_show':10,\n",
    "'mem':args.mem,\n",
    "'use_rim':args.use_rim\n",
    "}\n",
    "\n",
    "args = DictList(args)\n",
    "print(args)\n",
    "\n",
    "# Set seed for all randomness sources\n",
    "\n",
    "utils.seed(args.seed)\n",
    "\n",
    "# Set device\n",
    "\n",
    "device = torch.device(\"cuda\" if torch.cuda.is_available() else \"cpu\")\n",
    "print(f\"Device: {device}\\n\")"
   ]
  },
  {
   "cell_type": "markdown",
   "metadata": {},
   "source": [
    "### Set environments, agent and logs"
   ]
  },
  {
   "cell_type": "code",
   "execution_count": 87,
   "metadata": {},
   "outputs": [
    {
     "name": "stdout",
     "output_type": "stream",
     "text": [
      "Environments loaded\n",
      "\n",
      "Agent loaded\n",
      "\n"
     ]
    }
   ],
   "source": [
    "# Load environments\n",
    "\n",
    "envs = []\n",
    "for i in range(args.procs):\n",
    "    env = utils.make_env(args.env, args.seed + 10000 * i)\n",
    "    envs.append(env)\n",
    "env = ParallelEnv(envs)\n",
    "print(\"Environments loaded\\n\")\n",
    "\n",
    "# Load agent\n",
    "\n",
    "model_dir = utils.get_model_dir(args.model)\n",
    "agent = utils.Agent(obs_space=env.observation_space, action_space=env.action_space, model_dir=model_dir, device=device, argmax=args.argmax, num_envs=args.procs, use_memory=args.mem, use_rim=args.use_rim)\n",
    "print(\"Agent loaded\\n\")\n",
    "\n",
    "# Initialize logs\n",
    "\n",
    "logs = {\"num_frames_per_episode\": [], \"return_per_episode\": []}"
   ]
  },
  {
   "cell_type": "markdown",
   "metadata": {},
   "source": [
    "### Run agent"
   ]
  },
  {
   "cell_type": "code",
   "execution_count": 88,
   "metadata": {},
   "outputs": [
    {
     "name": "stdout",
     "output_type": "stream",
     "text": [
      "Agent run completed\n",
      "\n"
     ]
    }
   ],
   "source": [
    "# Run agent\n",
    "\n",
    "start_time = time.time()\n",
    "\n",
    "obss = env.reset()\n",
    "\n",
    "log_done_counter = 0\n",
    "log_episode_return = torch.zeros(args.procs, device=device)\n",
    "log_episode_num_frames = torch.zeros(args.procs, device=device)\n",
    "\n",
    "while log_done_counter < args.episodes:\n",
    "    actions = agent.get_actions(obss)\n",
    "    obss, rewards, dones, _ = env.step(actions)\n",
    "    agent.analyze_feedbacks(rewards, dones)\n",
    "\n",
    "    log_episode_return += torch.tensor(rewards, device=device, dtype=torch.float)\n",
    "    log_episode_num_frames += torch.ones(args.procs, device=device)\n",
    "\n",
    "    for i, done in enumerate(dones):\n",
    "        if done:\n",
    "            log_done_counter += 1\n",
    "            logs[\"return_per_episode\"].append(log_episode_return[i].item())\n",
    "            logs[\"num_frames_per_episode\"].append(log_episode_num_frames[i].item())\n",
    "\n",
    "    mask = 1 - torch.tensor(dones, device=device, dtype=torch.float)\n",
    "    log_episode_return *= mask\n",
    "    log_episode_num_frames *= mask\n",
    "\n",
    "end_time = time.time()\n",
    "print(\"Agent run completed\\n\")"
   ]
  },
  {
   "cell_type": "markdown",
   "metadata": {},
   "source": [
    "### Print logs and results"
   ]
  },
  {
   "cell_type": "code",
   "execution_count": 89,
   "metadata": {},
   "outputs": [
    {
     "name": "stdout",
     "output_type": "stream",
     "text": [
      "F 3247.0 | FPS 3586 | D 0 | R:μσmM 0.90 0.10 0.00 0.96 | F:μσmM 32.5 15.1 15.0 112.0\n",
      "\n",
      "10 worst episodes:\n",
      "- episode 38: R=0.0, F=29.0\n",
      "- episode 46: R=0.6888889074325562, F=112.0\n",
      "- episode 55: R=0.7027778029441833, F=107.0\n",
      "- episode 21: R=0.8138889074325562, F=67.0\n",
      "- episode 60: R=0.824999988079071, F=63.0\n",
      "- episode 64: R=0.8361111283302307, F=59.0\n",
      "- episode 86: R=0.8583333492279053, F=51.0\n",
      "- episode 66: R=0.8611111044883728, F=50.0\n",
      "- episode 16: R=0.8638888597488403, F=49.0\n",
      "- episode 96: R=0.8638888597488403, F=49.0\n"
     ]
    }
   ],
   "source": [
    "# Print logs\n",
    "\n",
    "num_frames = sum(logs[\"num_frames_per_episode\"])\n",
    "fps = num_frames/(end_time - start_time)\n",
    "duration = int(end_time - start_time)\n",
    "return_per_episode = utils.synthesize(logs[\"return_per_episode\"])\n",
    "num_frames_per_episode = utils.synthesize(logs[\"num_frames_per_episode\"])\n",
    "\n",
    "print(\"F {} | FPS {:.0f} | D {} | R:μσmM {:.2f} {:.2f} {:.2f} {:.2f} | F:μσmM {:.1f} {:.1f} {} {}\"\n",
    "      .format(num_frames, fps, duration,\n",
    "              *return_per_episode.values(),\n",
    "              *num_frames_per_episode.values()))\n",
    "\n",
    "# Print worst episodes\n",
    "\n",
    "n = args.worst_episodes_to_show\n",
    "if n > 0:\n",
    "    print(\"\\n{} worst episodes:\".format(n))\n",
    "\n",
    "    indexes = sorted(range(len(logs[\"return_per_episode\"])), key=lambda k: logs[\"return_per_episode\"][k])\n",
    "    for i in indexes[:n]:\n",
    "        print(\"- episode {}: R={}, F={}\".format(i, logs[\"return_per_episode\"][i], logs[\"num_frames_per_episode\"][i]))"
   ]
  },
  {
   "cell_type": "markdown",
   "metadata": {},
   "source": [
    "# Re-evaluate 1st environment and test CF"
   ]
  },
  {
   "cell_type": "markdown",
   "metadata": {},
   "source": [
    "## Evaluation"
   ]
  },
  {
   "cell_type": "markdown",
   "metadata": {},
   "source": [
    "### Load parameters"
   ]
  },
  {
   "cell_type": "code",
   "execution_count": 102,
   "metadata": {},
   "outputs": [
    {
     "name": "stdout",
     "output_type": "stream",
     "text": [
      "{'env': 'MiniGrid-SimpleCrossingS9N1-v0', 'model': 'MiniGrid-SimpleCrossingS9N1-v0_PPO_lstm_frames_1M_recur_32_proc_16_RMSProp_lr_7e4_gae_099_test_MiniGrid-LavaCrossingS9N1-v0', 'episodes': 100, 'seed': 3, 'procs': 16, 'argmax': False, 'worst_episodes_to_show': 10, 'mem': True, 'use_rim': False}\n",
      "Device: cpu\n",
      "\n"
     ]
    }
   ],
   "source": [
    "#env_id = 'MiniGrid-Empty-8x8-v0'\n",
    "#env_id = 'MiniGrid-LavaGapS5-v0'\n",
    "#env_id = 'MiniGrid-DoorKey-5x5-v0'\n",
    "#env_id = 'MiniGrid-DoorKey-6x6-v0'\n",
    "#env_id = 'MiniGrid-Empty-Random-6x6-v0'\n",
    "#env_id = 'MiniGrid-Empty-5x5-v0'\n",
    "env_id = 'MiniGrid-SimpleCrossingS9N1-v0'\n",
    "#env_id = 'MiniGrid-SimpleCrossingS9N2-v0'\n",
    "#env_id = 'MiniGrid-SimpleCrossingS9N3-v0'\n",
    "#env_id = 'MiniGrid-SimpleCrossingS11N5-v0'\n",
    "#env_id = 'MiniGrid-LavaCrossingS9N1-v0'\n",
    "\n",
    "args.env = env_id\n",
    "\n",
    "## Hyper-parameters\n",
    "args = {\n",
    "# General parameters\n",
    "'env':args.env,\n",
    "'model':model,\n",
    "'episodes':100,\n",
    "'seed':3,\n",
    "'procs':16,\n",
    "'argmax':False,\n",
    "'worst_episodes_to_show':10,\n",
    "'mem':args.mem,\n",
    "'use_rim':args.use_rim\n",
    "}\n",
    "\n",
    "args = DictList(args)\n",
    "print(args)\n",
    "\n",
    "# Set seed for all randomness sources\n",
    "\n",
    "utils.seed(args.seed)\n",
    "\n",
    "# Set device\n",
    "\n",
    "device = torch.device(\"cuda\" if torch.cuda.is_available() else \"cpu\")\n",
    "print(f\"Device: {device}\\n\")"
   ]
  },
  {
   "cell_type": "markdown",
   "metadata": {},
   "source": [
    "### Set environments, agent and logs"
   ]
  },
  {
   "cell_type": "code",
   "execution_count": 103,
   "metadata": {},
   "outputs": [
    {
     "name": "stdout",
     "output_type": "stream",
     "text": [
      "Environments loaded\n",
      "\n",
      "Agent loaded\n",
      "\n"
     ]
    }
   ],
   "source": [
    "# Load environments\n",
    "\n",
    "envs = []\n",
    "for i in range(args.procs):\n",
    "    env = utils.make_env(args.env, args.seed + 10000 * i)\n",
    "    envs.append(env)\n",
    "env = ParallelEnv(envs)\n",
    "print(\"Environments loaded\\n\")\n",
    "\n",
    "# Load agent\n",
    "\n",
    "model_dir = utils.get_model_dir(args.model)\n",
    "agent = utils.Agent(obs_space=env.observation_space, action_space=env.action_space, model_dir=model_dir, device=device, argmax=args.argmax, num_envs=args.procs, use_memory=args.mem, use_rim=args.use_rim)\n",
    "print(\"Agent loaded\\n\")\n",
    "\n",
    "# Initialize logs\n",
    "\n",
    "logs = {\"num_frames_per_episode\": [], \"return_per_episode\": []}"
   ]
  },
  {
   "cell_type": "markdown",
   "metadata": {},
   "source": [
    "### Run agent"
   ]
  },
  {
   "cell_type": "code",
   "execution_count": 104,
   "metadata": {},
   "outputs": [
    {
     "name": "stdout",
     "output_type": "stream",
     "text": [
      "Agent run completed\n",
      "\n"
     ]
    }
   ],
   "source": [
    "# Run agent\n",
    "\n",
    "start_time = time.time()\n",
    "\n",
    "obss = env.reset()\n",
    "\n",
    "log_done_counter = 0\n",
    "log_episode_return = torch.zeros(args.procs, device=device)\n",
    "log_episode_num_frames = torch.zeros(args.procs, device=device)\n",
    "\n",
    "while log_done_counter < args.episodes:\n",
    "    actions = agent.get_actions(obss)\n",
    "    obss, rewards, dones, _ = env.step(actions)\n",
    "    agent.analyze_feedbacks(rewards, dones)\n",
    "\n",
    "    log_episode_return += torch.tensor(rewards, device=device, dtype=torch.float)\n",
    "    log_episode_num_frames += torch.ones(args.procs, device=device)\n",
    "\n",
    "    for i, done in enumerate(dones):\n",
    "        if done:\n",
    "            log_done_counter += 1\n",
    "            logs[\"return_per_episode\"].append(log_episode_return[i].item())\n",
    "            logs[\"num_frames_per_episode\"].append(log_episode_num_frames[i].item())\n",
    "\n",
    "    mask = 1 - torch.tensor(dones, device=device, dtype=torch.float)\n",
    "    log_episode_return *= mask\n",
    "    log_episode_num_frames *= mask\n",
    "\n",
    "end_time = time.time()\n",
    "print(\"Agent run completed\\n\")"
   ]
  },
  {
   "cell_type": "markdown",
   "metadata": {},
   "source": [
    "### Print logs and results"
   ]
  },
  {
   "cell_type": "code",
   "execution_count": 105,
   "metadata": {},
   "outputs": [
    {
     "name": "stdout",
     "output_type": "stream",
     "text": [
      "F 14540.0 | FPS 3684 | D 3 | R:μσmM 0.58 0.34 0.00 0.95 | F:μσmM 145.4 111.2 17.0 324.0\n",
      "\n",
      "10 worst episodes:\n",
      "- episode 28: R=0.0, F=324.0\n",
      "- episode 29: R=0.0, F=324.0\n",
      "- episode 30: R=0.0, F=324.0\n",
      "- episode 31: R=0.0, F=324.0\n",
      "- episode 34: R=0.0, F=324.0\n",
      "- episode 39: R=0.0, F=324.0\n",
      "- episode 42: R=0.0, F=324.0\n",
      "- episode 51: R=0.0, F=324.0\n",
      "- episode 66: R=0.0, F=324.0\n",
      "- episode 67: R=0.0, F=324.0\n"
     ]
    }
   ],
   "source": [
    "# Print logs\n",
    "\n",
    "num_frames = sum(logs[\"num_frames_per_episode\"])\n",
    "fps = num_frames/(end_time - start_time)\n",
    "duration = int(end_time - start_time)\n",
    "return_per_episode = utils.synthesize(logs[\"return_per_episode\"])\n",
    "num_frames_per_episode = utils.synthesize(logs[\"num_frames_per_episode\"])\n",
    "\n",
    "print(\"F {} | FPS {:.0f} | D {} | R:μσmM {:.2f} {:.2f} {:.2f} {:.2f} | F:μσmM {:.1f} {:.1f} {} {}\"\n",
    "      .format(num_frames, fps, duration,\n",
    "              *return_per_episode.values(),\n",
    "              *num_frames_per_episode.values()))\n",
    "\n",
    "# Print worst episodes\n",
    "\n",
    "n = args.worst_episodes_to_show\n",
    "if n > 0:\n",
    "    print(\"\\n{} worst episodes:\".format(n))\n",
    "\n",
    "    indexes = sorted(range(len(logs[\"return_per_episode\"])), key=lambda k: logs[\"return_per_episode\"][k])\n",
    "    for i in indexes[:n]:\n",
    "        print(\"- episode {}: R={}, F={}\".format(i, logs[\"return_per_episode\"][i], logs[\"num_frames_per_episode\"][i]))"
   ]
  },
  {
   "cell_type": "markdown",
   "metadata": {},
   "source": [
    "# RIMs Zero-shot test"
   ]
  },
  {
   "cell_type": "markdown",
   "metadata": {},
   "source": [
    "## Evaluation"
   ]
  },
  {
   "cell_type": "markdown",
   "metadata": {},
   "source": [
    "### Load parameters"
   ]
  },
  {
   "cell_type": "code",
   "execution_count": 20,
   "metadata": {},
   "outputs": [
    {
     "name": "stdout",
     "output_type": "stream",
     "text": [
      "{'env': 'MiniGrid-Empty-8x8-v0', 'model': 'MiniGrid-Empty-Random-6x6-v0_RIM_5_3_200k', 'episodes': 100, 'seed': 10, 'procs': 16, 'argmax': False, 'worst_episodes_to_show': 10, 'use_rim': True, 'num_units': 5, 'k': 3}\n"
     ]
    }
   ],
   "source": [
    "from torch_ac.utils.penv import ParallelEnv\n",
    "\n",
    "env_id = 'MiniGrid-Empty-8x8-v0'\n",
    "\n",
    "## Hyper-parameters\n",
    "args = {\n",
    "# General parameters\n",
    "'env':env_id,\n",
    "'model':'MiniGrid-Empty-Random-6x6-v0_RIM_5_3_200k',\n",
    "'episodes':100,\n",
    "'seed':10,\n",
    "'procs':16,\n",
    "'argmax':False,\n",
    "'worst_episodes_to_show':10,\n",
    "'use_rim':args.use_rim,\n",
    "'num_units':args.num_units,\n",
    "'k':args.k\n",
    "}\n",
    "\n",
    "args = DictList(args)\n",
    "print(args)"
   ]
  },
  {
   "cell_type": "markdown",
   "metadata": {},
   "source": [
    "### Set agent and test environments"
   ]
  },
  {
   "cell_type": "code",
   "execution_count": 21,
   "metadata": {},
   "outputs": [
    {
     "name": "stdout",
     "output_type": "stream",
     "text": [
      "Device: cpu\n",
      "\n",
      "Environments loaded\n",
      "\n",
      "Agent loaded\n",
      "\n"
     ]
    }
   ],
   "source": [
    "# Set seed for all randomness sources\n",
    "\n",
    "utils.seed(args.seed)\n",
    "\n",
    "# Set device\n",
    "\n",
    "device = torch.device(\"cuda\" if torch.cuda.is_available() else \"cpu\")\n",
    "print(f\"Device: {device}\\n\")\n",
    "\n",
    "# Load environments\n",
    "\n",
    "envs = []\n",
    "for i in range(args.procs):\n",
    "    env = utils.make_env(args.env, args.seed + 10000 * i)\n",
    "    envs.append(env)\n",
    "env = ParallelEnv(envs)\n",
    "print(\"Environments loaded\\n\")\n",
    "\n",
    "# Load agent\n",
    "\n",
    "model_dir = utils.get_model_dir(args.model)\n",
    "agent = utils.Agent(env.observation_space, env.action_space, model_dir, device, args.argmax, args.procs, args.use_rim, args.num_units, args.k)\n",
    "print(\"Agent loaded\\n\")\n",
    "\n",
    "# Initialize logs\n",
    "\n",
    "logs = {\"num_frames_per_episode\": [], \"return_per_episode\": []}"
   ]
  },
  {
   "cell_type": "markdown",
   "metadata": {},
   "source": [
    "### Run agent"
   ]
  },
  {
   "cell_type": "code",
   "execution_count": 22,
   "metadata": {},
   "outputs": [
    {
     "name": "stdout",
     "output_type": "stream",
     "text": [
      "Agent run completed\n",
      "\n"
     ]
    }
   ],
   "source": [
    "# Run agent\n",
    "\n",
    "start_time = time.time()\n",
    "\n",
    "obss = env.reset()\n",
    "\n",
    "log_done_counter = 0\n",
    "log_episode_return = torch.zeros(args.procs, device=device)\n",
    "log_episode_num_frames = torch.zeros(args.procs, device=device)\n",
    "\n",
    "while log_done_counter < args.episodes:\n",
    "    actions = agent.get_actions(obss)\n",
    "    obss, rewards, dones, _ = env.step(actions)\n",
    "    agent.analyze_feedbacks(rewards, dones)\n",
    "\n",
    "    log_episode_return += torch.tensor(rewards, device=device, dtype=torch.float)\n",
    "    log_episode_num_frames += torch.ones(args.procs, device=device)\n",
    "\n",
    "    for i, done in enumerate(dones):\n",
    "        if done:\n",
    "            log_done_counter += 1\n",
    "            logs[\"return_per_episode\"].append(log_episode_return[i].item())\n",
    "            logs[\"num_frames_per_episode\"].append(log_episode_num_frames[i].item())\n",
    "\n",
    "    mask = 1 - torch.tensor(dones, device=device, dtype=torch.float)\n",
    "    log_episode_return *= mask\n",
    "    log_episode_num_frames *= mask\n",
    "\n",
    "end_time = time.time()\n",
    "print(\"Agent run completed\\n\")"
   ]
  },
  {
   "cell_type": "markdown",
   "metadata": {},
   "source": [
    "### Print logs and results"
   ]
  },
  {
   "cell_type": "code",
   "execution_count": 25,
   "metadata": {},
   "outputs": [
    {
     "name": "stdout",
     "output_type": "stream",
     "text": [
      "F 3169.0 | FPS 3031 | D 1 | R:μσmM 0.89 0.04 0.76 0.94 | F:μσmM 31.1 10.3 17.0 67.0\n",
      "\n",
      "10 worst episodes:\n",
      "- episode 28: R=0.764453113079071, F=67.0\n",
      "- episode 69: R=0.799609363079071, F=57.0\n",
      "- episode 21: R=0.8031250238418579, F=56.0\n",
      "- episode 93: R=0.813671886920929, F=53.0\n",
      "- episode 66: R=0.817187488079071, F=52.0\n",
      "- episode 98: R=0.817187488079071, F=52.0\n",
      "- episode 67: R=0.8207031488418579, F=51.0\n",
      "- episode 56: R=0.82421875, F=50.0\n",
      "- episode 29: R=0.834765613079071, F=47.0\n",
      "- episode 44: R=0.8382812738418579, F=46.0\n"
     ]
    }
   ],
   "source": [
    "# Print logs\n",
    "\n",
    "num_frames = sum(logs[\"num_frames_per_episode\"])\n",
    "fps = num_frames/(end_time - start_time)\n",
    "duration = int(end_time - start_time)\n",
    "return_per_episode = utils.synthesize(logs[\"return_per_episode\"])\n",
    "num_frames_per_episode = utils.synthesize(logs[\"num_frames_per_episode\"])\n",
    "\n",
    "print(\"F {} | FPS {:.0f} | D {} | R:μσmM {:.2f} {:.2f} {:.2f} {:.2f} | F:μσmM {:.1f} {:.1f} {} {}\"\n",
    "      .format(num_frames, fps, duration,\n",
    "              *return_per_episode.values(),\n",
    "              *num_frames_per_episode.values()))\n",
    "\n",
    "# Print worst episodes\n",
    "\n",
    "n = args.worst_episodes_to_show\n",
    "if n > 0:\n",
    "    print(\"\\n{} worst episodes:\".format(n))\n",
    "\n",
    "    indexes = sorted(range(len(logs[\"return_per_episode\"])), key=lambda k: logs[\"return_per_episode\"][k])\n",
    "    for i in indexes[:n]:\n",
    "        print(\"- episode {}: R={}, F={}\".format(i, logs[\"return_per_episode\"][i], logs[\"num_frames_per_episode\"][i]))"
   ]
  },
  {
   "cell_type": "markdown",
   "metadata": {},
   "source": [
    "## Visualization"
   ]
  },
  {
   "cell_type": "markdown",
   "metadata": {},
   "source": [
    "### Configuration"
   ]
  },
  {
   "cell_type": "code",
   "execution_count": 30,
   "metadata": {},
   "outputs": [
    {
     "name": "stdout",
     "output_type": "stream",
     "text": [
      "{'env': 'MiniGrid-Empty-8x8-v0', 'model': 'MiniGrid-Empty-Random-6x6-v0_meta_RIM_5_3_200k_test_2', 'seed': 15, 'shift': 0, 'argmax': False, 'pause': 0.1, 'gif': 'MiniGrid-Empty-Random-6x6-v0_meta_RIM_5_3_200k_test_MiniGrid-Empty-8x8-v0', 'episodes': 5, 'use_rim': True, 'num_units': 5, 'k': 3}\n"
     ]
    }
   ],
   "source": [
    "import array2gif\n",
    "from pathlib import Path\n",
    "import numpy\n",
    "\n",
    "## Hyper-parameters\n",
    "args = {\n",
    "# General parameters\n",
    "'env':args.env,\n",
    "'model':args.model,\n",
    "'seed':15,\n",
    "'shift':0,\n",
    "'argmax':False,\n",
    "'pause':0.1,\n",
    "'gif':'MiniGrid-Empty-Random-6x6-v0_meta_RIM_5_3_200k_test_MiniGrid-Empty-8x8-v0',\n",
    "'episodes':5,\n",
    "# Model Parameters\n",
    "'use_rim':args.use_rim,\n",
    "'num_units':args.num_units,\n",
    "'k':args.k\n",
    "}\n",
    "\n",
    "args = DictList(args)\n",
    "print(args)"
   ]
  },
  {
   "cell_type": "markdown",
   "metadata": {},
   "source": [
    "### Load agent and environments"
   ]
  },
  {
   "cell_type": "code",
   "execution_count": 31,
   "metadata": {},
   "outputs": [
    {
     "name": "stdout",
     "output_type": "stream",
     "text": [
      "Device: cpu\n",
      "\n",
      "Environment loaded\n",
      "\n",
      "Agent loaded\n",
      "\n"
     ]
    }
   ],
   "source": [
    "# Set seed for all randomness sources\n",
    "\n",
    "utils.seed(args.seed)\n",
    "\n",
    "# Set device\n",
    "\n",
    "device = torch.device(\"cuda\" if torch.cuda.is_available() else \"cpu\")\n",
    "print(f\"Device: {device}\\n\")\n",
    "\n",
    "# Load environment\n",
    "\n",
    "env = utils.make_env(args.env, args.seed)\n",
    "for _ in range(args.shift):\n",
    "    env.reset()\n",
    "print(\"Environment loaded\\n\")\n",
    "\n",
    "# Load agent\n",
    "\n",
    "model_dir = utils.get_model_dir(args.model)\n",
    "agent = utils.Agent(env.observation_space, env.action_space, model_dir, device, args.argmax, use_rim = args.use_rim, num_units = args.num_units, k = args.k)\n",
    "\n",
    "print(\"Agent loaded\\n\")"
   ]
  },
  {
   "cell_type": "markdown",
   "metadata": {},
   "source": [
    "### Make video"
   ]
  },
  {
   "cell_type": "code",
   "execution_count": 32,
   "metadata": {},
   "outputs": [
    {
     "name": "stdout",
     "output_type": "stream",
     "text": [
      "Total reward: 0.883984375\n",
      "Total length: 33\n"
     ]
    },
    {
     "data": {
      "text/html": [
       "<video alt=\"test\" autoplay \n",
       "                loop controls style=\"height: 400px;\">\n",
       "                <source src=\"data:video/mp4;base64,AAAAIGZ0eXBpc29tAAACAGlzb21pc28yYXZjMW1wNDEAAAAIZnJlZQAAGVBtZGF0AAACrgYF//+q3EXpvebZSLeWLNgg2SPu73gyNjQgLSBjb3JlIDE2NCByMzA5NSBiYWVlNDAwIC0gSC4yNjQvTVBFRy00IEFWQyBjb2RlYyAtIENvcHlsZWZ0IDIwMDMtMjAyMiAtIGh0dHA6Ly93d3cudmlkZW9sYW4ub3JnL3gyNjQuaHRtbCAtIG9wdGlvbnM6IGNhYmFjPTEgcmVmPTMgZGVibG9jaz0xOjA6MCBhbmFseXNlPTB4MzoweDExMyBtZT1oZXggc3VibWU9NyBwc3k9MSBwc3lfcmQ9MS4wMDowLjAwIG1peGVkX3JlZj0xIG1lX3JhbmdlPTE2IGNocm9tYV9tZT0xIHRyZWxsaXM9MSA4eDhkY3Q9MSBjcW09MCBkZWFkem9uZT0yMSwxMSBmYXN0X3Bza2lwPTEgY2hyb21hX3FwX29mZnNldD0tMiB0aHJlYWRzPTggbG9va2FoZWFkX3RocmVhZHM9MSBzbGljZWRfdGhyZWFkcz0wIG5yPTAgZGVjaW1hdGU9MSBpbnRlcmxhY2VkPTAgYmx1cmF5X2NvbXBhdD0wIGNvbnN0cmFpbmVkX2ludHJhPTAgYmZyYW1lcz0zIGJfcHlyYW1pZD0yIGJfYWRhcHQ9MSBiX2JpYXM9MCBkaXJlY3Q9MSB3ZWlnaHRiPTEgb3Blbl9nb3A9MCB3ZWlnaHRwPTIga2V5aW50PTI1MCBrZXlpbnRfbWluPTEwIHNjZW5lY3V0PTQwIGludHJhX3JlZnJlc2g9MCByY19sb29rYWhlYWQ9NDAgcmM9Y3JmIG1idHJlZT0xIGNyZj0yMy4wIHFjb21wPTAuNjAgcXBtaW49MCBxcG1heD02OSBxcHN0ZXA9NCBpcF9yYXRpbz0xLjQwIGFxPTE6MS4wMACAAAADsWWIhAAR//73iB8yyY1+rXckLmRxbM+T3bdl1EPcemaOfbTIQCYJ4NzUBp0Cv8Ewp+27/9bUU2ACOYnxpSC8qGuYZHlW46Hta46vdz19jNZQQ5wtCQR64Wjc9w8JYVP56Zmkg/Go1JqIE9+zR9z4IEJEWUcl/IhW/KqfsgjDnnT4swKkjSpuuu3nDhaPmSKN/xeBtBIl7lML/XKM7sO5aUU6fsreTgICD7BazywpVFnzGyYG/Y1GZsWy3QVw04YEP5NMv9homr3K8MQwcCCuRr3l897xez8d7bUhxbrj8braL07Zosol7+eNFeT2CCEJRuNT5CM9/u3vdE/LZmSxaxk/aixVjuo9VsbdZRCP+vNFdzuFIT01QzcNuQuIrTV0M6YPskugwidN7iTBp8o8e2OLLS3zWwTKSwo73+Rn+S8YbBrHSaaCEfYLgXfYd902qqfhfZz2CfPsA/EQa8hVqArsgF8dzXkh/nQQGp3D4SiP9/+UuFjm0DIloCQ76WnvI45JSzKT5wxROZ0dV9ZdWUSh/dYIxkd9I//zI1d1bhqrEL4Qtig7pHRrOZ8SB0w1FHrtsBPAydfzUnEpgZrEYtbp/4BSr1qYCVjBrO3SeWnaPbJ9ioKeiSiyPwbnfzWVI1AvRojgrRKQJ6nKXh0BYbEoKhsfEV+XNWDQusivm/uNmaSnwu3nxbne/CXubWfLPtqA2mArudou42PUtBv0X2DgI7jWyFhMsZpHbzZn3gplN7Y6CY+BJwH5ngHweRRl+fNXP0aAArQWi0E0Owxqx/OJS759p8Bh+6LE7O8bO4KqXJBRS444sfJB/GvJ653oZZymO8488ug21a3A1OfsHAR/mDieAapnjeZJFfdZdnRJvqC/lcKzvD0b3oRaHAyyTcfH0Z8tg5179XlAB/QgAXow/1UICpU20N7bNVmw3zNTJTpgC2kjlA++sG7G62tsFdGagfzUePc1ammoR+uz0WuguDWc/gtaA+z7riUytVEeE7AGTXObPD4++6JzMI8XFDVRbYUPlCoCL8adcPi4Eso4SAMlFWZP03+xiwPXNiV0hg7eln6F3b8fHDnYsEbPLmyFLmNCnacFqfclSA38/OsHDc6W6FevqBembG+7pRYZ0q0tpNwptU+9CLSKVdHiLsKXNE68rmW8yVdyNkr+EZtJ6HrAXQY+4UfZ+s1adzyTJvdM6rbABrxwFoD5+r2w5peHZkBZLDRwC9ZO3a1IC7OTmpzo8swsdkIg2wtgAAjNwQAAAT5BmiRsQQ/8Yvw9ql6ehmOG4hFNqbIP+uoAbceBq29cyoaglYwul4eZbA7RkKVX60tq//4vMgbNrx2aAm9KD0ZN+vrH6QOXBh22Ud7G/886RFMfkWkRGFy1xM9/vjJN6OovkCux87+baa2IM0CBhOnacG9r9+oWpA/6IGlA1u8+wW2rFkNwKLDSk3sEKhUc6gfIVRmWbqzUec0lTwt3IvLRoOkIX/BrTG6Hn6YwM4C6rJ3RoqUJxTxMdxxu0ghLKQSUjwqL1usv+JnMVM0UDW+9fd1QkZd2K2Bcix53Qn+pmAa7Dd1bTpYBiZqP+JiFiTKmFjIgJDrCJDw62Vu/h7IADo2xqqtL1CgfVFtmTji73QfOTZnuRCq7LZMDvLGx0A5nMxHQQWPfBiXBoBt8jnGy6HQevw0RPAuMFmubcYAAAAAhQZ5CeId/fPaM9Rl0nzNbYvEi8TqxdnizGwfx5u50tqJVAAAAEgGeYXRDfwC6nfgOop7aCE+BoAAAABsBnmNqQ3+CeiZDmB6E6iRtx/ure/AHlHF7V+EAAAEEQZpoSahBaJlMCCH//nO6A9ql5WnAgbiH+pQP5/11ABdm8lQ/fDCKLvx2ZKICUIPwxQQv/1wi6E9XUZqZSSHKjegfxIXpzy2ANNo6QnoF/H4sjC8ganXEx7Ua0lDIf2R3rUv1AOTpzzU+/PAY9iwigpXy5OQVF/oCkUUemlDw3y/X/sU8xTTHKBupGVJIMkcl5QQAbXzzMI3lO02bTrOL20QqCHbkcCyuPkBJGYjYmp/11lMBxb0TuUTRbMWGFy28dgPux+Onw7cbqe8k2yis834IRzLUgWam26Gpsx6uqYbHao3moyYrF6SMT9O2NuOBUCIpGHNSsW7K8rGEWZMY7r9Pn2cAAAAdQZ6GRREsO/9C0zNKXcJBSbE/dKfRrm2iFPmKfwkAAAAOAZ6ldEN/ADS9Ye7oovMAAAAbAZ6nakN/SBzfMAiYywAFt5w6DZ5cA2qTtjuUAAACO0GarEmoQWyZTAhv//6aZv+kWd30nkg1U2tZmR/afR3mAASHmpD//CTnp4pdjBKLHyMAZBv5Xil3o/rbox3nWDBMk8MkpDmjoqc/BLfu4i0OZK579DFDoNr5xG182tt9cfL2bAzfg90Wz2Q6yyNPQjivh8/do/DEXuTM/UzzJ5kC3/14+rwv1QPWN+fV9yc1/KVWgRp3rF4PrAb+nehnXNF9c2l2VEd999zVh4xJmrL53d1A+PW+Ut8x3GEIY1ELFvCC37Bir6c3Jg31N5dN6+ufDSUcKLi2tFqUIyGY7ZSYGTABWtyL1V33HyQgPjHutZ152JWFPHMOvFxMc2ikkaZNFNDMo2se32eZDAEiVjV8eKS0Nk1dg7TMsE7jOT2ZeL2E7RyH9soeIJPTe5FHDeMwoODPf/UgAvJPcedK4psT7ptyHRDuGZCBb63wJ6HiX0Hz8vW91+OTSUpPQKrMEgjsgjglZVDswLjkMefcPXFbHhZ9rJrG0AhCB4Q+kSR2ukcknhLO9o5Z+XjcefFWLYGLAJVsYXnn0O+aq0WRH7dmT3jnVwCgMUvEARW5TAK9+nykaPMfGDb/X6hMrJ6xLA2F5LXW9w2svGCbH9fLOxQDpN6K2lRxOFYDZNIjBm6ur5I41lpmxbL6ZPrOB///EGiYvw1yRvBmJGJBiPCSMnlwbr7MP2Bl8lWSljOgW91ddxCEJJWj+q8jWvW/Y/TAcxG+yHXvFDXiSxicx/yMUHzcZfUdZ6RLuNJ5pXQAAAArQZ7KRRUsO/8m/njCrgi0tM/DNY+xIAhcw51Cmp7GshR8dTizoAAAo/8kEQAAABUBnul0Q38r3ATalgOVOLJzdTVruv8AAAAMAZ7rakN/ADTF2Y/4AAABfUGa70moQWyZTAh3//6plg2NtAHZpiroCPvr5LZ0Ca0FxqFXcqrPBNqIXPt7R+HlF0ttbAH4/qtA0PzjOSyTBiEU9CTRBxDPyJdgtUSjxoKjKnv2J4b+tE+5ctSDGEVSdRsexQoQdlJ+FM4qUqder7qjX6ydUUEpRM53qWOlGSmQ6XHEpjd8ZenPvv2nBrouYt2g+teZHVaaV9eGDQRr3m8ukKE6Jh4Cc+NIfwv0DwjlBZGlzzsIONk7T1plFvd7AvvSP0IXR0QuqyH2398Pcdy12YvaOuQjCgray8lR8hhpbW52b+ZOE3qScdht4QwT4zEMG6R5Agc/9/Q9PLxhlxeBP0P2jId9h1dK2x3c+BOWa9NLiK9OB5mNodD/TA3y3ftNd/jtLi29VhWNNceu4FTpbbe3UNQNO931IFqcCiXooR33fXflvjowtxEdK43x6rxkELzEbQc+IssQRJB/FwhO33r0waoEdcxuVpPcALckCmMRec5b9RrY9MiqYQAAAK5Bnw1FFSw3/wGYGS5aqhfIj9v2qODUvEi/+t/QEFtqMAIytO6WjH73/+Wn0v0oNH3jHT4yhr20KfjiD8Nz6wsVY9rmpJYbRVtD2Vatfgs9voBasb/57OL45cz0mapP82nm4aHlqFzFBx1mvAK4RuF26+EV71/jHIRaFvMLOuS/W4NZ+V8rr6wcCTo64Tqu3fe7l9Xh7/M/6uMZDCZXIFF0xytWO+iwGjcSCjSjDUkAAAAZAZ8uakN/AINZqxH93oPsJ74IsCtuqbiCLwAAApZBmzNJqEFsmUwIIf/+qlPFb8I/wF//CUSbfyR+3AjlnxCtg5ZKhTgpowVZLirAaroFesU67d4dBnK0P9YP2PiCmwlukKQTZpNwcebhbkkL6oJhc+PeX2b/HuryVvx4p53gtGjioJ9Dxho4oV2kdntZQ2M7fkfM/L0yLZhMsu8zPZhG6xNKLHItu/I7+JZ+su2YC97PlW85+gOB1td6wx9R723A+/x8rIAjjT6l5oMIiskaxFOHCzM/KE9AbcFY8TpXI+n0/hd4CL/bVq3LSHTqHwWTGRylNWwtEpDJjiT95wtojj3l10ulShqXnHZfOlQu2ErRV64Am4MmVk3ftVFldlJ/cTTFtLBAeZ6b2wijCyUCRPuArEHDF7W1TJj89bbe7TCJN42E0H+4l57+FqvYGbUiUw1vkH9Qqh35xyqXs+G1P5ZurxB0ri+W5tANMQLdZbQMhc2Z3ubAHbMODOhpfOBLiYUsrgIcmD1aHcIv0KzjPoS1atsAYf8WVpav1Ju8kU/YXvMF14jNAFiEEaz09asNa4y0T992U4a/6IhMQkPgcm6YVxBKs9X/W1LrLZpHQ6lX+Stpq02uANVKNlcYmL8AG+rzjh/ChikYuA0Z08k/9qzz2SMv6zLvhxdaIJyFo9dEAyPBfEsE/Hgo5vQued+eOJIVQhqoO7ziC+5OT+nQHFDh5Ixj1a1Yxf+QkQ1Y50yVjw89FN6zbuoNGbZHVHSRl8XFs2lOxW6IZqTMtlTAwumOCyz7NnKzCMLFiFpJeSaD7vOIM+GWC9mzpgZ5r9xASL5i/36PTL4CFLBkX5kgaim7tnT4Ld/4vI7/D7q/Yz9lWNMgah28Qkcr0ijzCAyOs6Lw8oGVRiUMnBxnBt//0AB+0wAAAExBn1FFFSw7/xfbYmDFzevcAHThJjpxa/KmD4mteHeOl3bEiVXcRPAkg1AEL4c9ChAUWRnTdv5z3CxHS00GOCgFIs2dhWqtHrU8JtXQAAAANQGfcHRDfyvH9c7nVFjOpw9SVdsE+CJgT7Qosy1RZ/sAAFJnxIUMjIMTrZQblt7bUlz1uA6BAAAAIAGfcmpDfxyDgnUJqDdD5vXNJu+x7D7BBMqJ2RTx8lpvAAABJUGbd0moQWyZTAgh//6qVNLMmiD8F0FXsFwWF3EK7N/WyWP98BYB8uyYYDIFurtSQAY9ZPt3hvYH5nImQdyaSULv+DCavnGlcB94AWPjpXaKZJAiHGuxiPKjJid4ALMFPsxyOdWFEjsR9mp9RckUhZ7XW49VWf/+JqCI4vlKhNNVQ6OKltm4syC+n4tO3GpYJBruMGcKjCzl0IQcKDgdbHO2A9B1PQOHCLTXe19TwViKv0TuSpJV/Kf1Tk2sgFb7decg0bX2s8B0oc578JPCjEHi907GYGt6Z9ViBmd933BkStv9oQf0krePRoHR0Lj7tOxS2P728EESISQdrOl1RHyiBZk6eU0/i1Sx9RWoT60UJGjgTtWqjI2EovbAHuYBI5wAAIp8AAAAJEGflUUVLDv/D0Yw0B79b96He7zBhnSpTu34kLKhP3u9JMeCwQAAAAoBn7R0Q38AAPSAAAAAIwGftmpDfxM7VxypNeJ7vEbdzBJaFQfKoaEcFXOgGlgDOU6BAAABLEGbukmoQWyZTAh3//6plgCwoIvgBYQL2saiFUQcyDCt51qRN+A6c+P/eVeqcEj+zzo4qCfVBMUUEuvpS40MiAnm3ogAYNNB63orzq3gusLWrpu0tjTsVj7NyN83HChv3whAAmpCW4ORUpwe70sDP7NbmtcEwC9Us4iApPJFHo5MI//26ELJADnCb76pZRSEcAFBFQroD67QE6zfxFqxv0s2kpi/3T/k7Okjx5i+oCcNqDh2dOfx23kYCqUFQgEz2iGsxnmbqBxW/zlko4jR6BYqdlOB/nXwOG7kOIQN6EMAMKV8XC43yCzvw3V4wwXjebtSXYYfZNQlP09MQJAaHbb9tmljYzdJCsxMx+MboZVxx6RnMJB8iosOMLPyOALNo2G47znLhwIK/LV/cQAAAGFBn9hFFSw3/wA0wAoazoMEnErQAPaTXx6J0FyRv/jsBF5on6k8ALK5ZjgDraKaQF72GHJb19Njf05mPxcOrBW2O2KRv5RV9aRfqpYWZk8ylWOH3+T+cfUYbY5j0OUTyohwAAAAHwGf+WpDfwAXROkNZ0GCTiT5PIbe2py/zjKryBiRtjkAAAGOQZv+SahBbJlMCH///qmWAKDUybrUGLtwMifiE6LAC1yV5xoY0875rc1NTZHAz8jjgUzNsAcxMuCoPh46dd+tx1BJh31tOgk2CBtZRgqm+6AjMMXpekivhogH9Vw0+KjLfTL4ltQvgBX6cZGxDUAbVP0+zJJ3z8ELFa6OMJA70lb1FhiQPR1ph9hQWmqITQe1IHQHe9tySfZH14p5nw0hervaJUBwOUZahCzleDt0RF/u+40Shd7rI/VQRPmeNvW0qcK4GbPLd4us5h3YDXLHnNSkWYF/xyORiw+9cmnUcehd6DhjnaPhXAQBfnv+zRZAVaG7DsYsy/w/9CuLMq5SvXJKvzw43Fp4k2pKh77DqE0JyHvCBtxGqOJqL1e6BE98GdOhSSIfwgeMYCTQWYydBzjHE289aL/7K3Q8/6yTwW4ylRKrB4FN4Ur/zMZmAZ+RfkpTwGs10ZwnSGT75wYswAWIQG55lvNaoIqHHt10bEaiZ+tKt01QmpP/926dxVfQ2ViuKnI3GM/Q1AAAHhgAAABlQZ4cRRUsO/8ASBoD+xB3lvjPwAFVUd2kwG6T25YAQjJZ0TKseNR/K3oDMcuBMJLtzU9/MMMnPWJX22jEq4Pf2fW0nDDI8aWbHfwiWaEZK6Hl7ooEtiXNZzJZlbwefMtns+ShMWkAAAAjAZ47dEN/AGa6qlVYoppPq6dP/9vHqh4PWv08QQZYG41kDoEAAAAkAZ49akN/AGbLpMhvJau5KyNKTGXWGABcktqHDkqzmTPjfiLaAAABE0GaIUmoQWyZTAhv//6nhBFoC0wjeiGMUgBXRzcTlKEtq5Ngxyx76NtDjBTwHEuoV9wWgpqPjNgODD/TvxLPKIqCswsFji0TkGhFFX4LLzErTqxG8vEzbaeGGF4MDOAY7X0n/f/upw+a92C/Exiw0OFmQgLW1H8/RyeO/vmkk0eVDOXFgr5FbcF9QPXtl7ZptK2bsTuMEdj/tPyH4McEeU97hVE1qU7oStZ4Yn4brDoxUuzP7e754Dm0zz0P0yVaVSVgpAM4MUwxzcXKG3ze43Xjaf5N5zotMmR6b0o8uEVzQNZBEobqI2FPm9Bb4138yivBVYo2fZn9VFjFyRwAU/nZd8usCq9GxhYcUqi/8CpGAI/gAAAA90GeX0UVLDf/AObOkTHGZVtt9ZXbEwJScwHP/o3NTGeicPOn+VwBerrEkbSn4eLH4FqgeCyZOGCGhayBc84KDUjGxyAAUXlV/+LmSkpNr9UdYey/49M28Go6I2VpmgFrw/6IXDvAuFogG6cLQooWpPdRmfejOa/4x4UFU7tIdsnAW5zTewTUtOkhSAfegyEwXlVil4HsFfXQmwBNBkbWHEp2i9q0HwEhw9pZZfAShYuChO8+VLmhyZ3lllK8Bwh8vlSnrCVi9yd/N5xT7g8GNyB3nsyXye2w6SxBaIA4ts3ujKt3R+JEEtW2AdahVcWpcdVqA6sbWXEAAAAfAZ5gakN/AAmtegHOelruvdfNaj1+lid3202hTJdFzAAABKptb292AAAAbG12aGQAAAAAAAAAAAAAAAAAAAPoAAANSAABAAABAAAAAAAAAAAAAAAAAQAAAAAAAAAAAAAAAAAAAAEAAAAAAAAAAAAAAAAAAEAAAAAAAAAAAAAAAAAAAAAAAAAAAAAAAAAAAAAAAAACAAAD1HRyYWsAAABcdGtoZAAAAAMAAAAAAAAAAAAAAAEAAAAAAAANSAAAAAAAAAAAAAAAAAAAAAAAAQAAAAAAAAAAAAAAAAAAAAEAAAAAAAAAAAAAAAAAAEAAAAABAAAAAQAAAAAAACRlZHRzAAAAHGVsc3QAAAAAAAAAAQAADUgAAAgAAAEAAAAAA0xtZGlhAAAAIG1kaGQAAAAAAAAAAAAAAAAAACgAAACIAFXEAAAAAAAtaGRscgAAAAAAAAAAdmlkZQAAAAAAAAAAAAAAAFZpZGVvSGFuZGxlcgAAAAL3bWluZgAAABR2bWhkAAAAAQAAAAAAAAAAAAAAJGRpbmYAAAAcZHJlZgAAAAAAAAABAAAADHVybCAAAAABAAACt3N0YmwAAACvc3RzZAAAAAAAAAABAAAAn2F2YzEAAAAAAAAAAQAAAAAAAAAAAAAAAAAAAAABAAEAAEgAAABIAAAAAAAAAAEVTGF2YzU5LjM3LjEwMCBsaWJ4MjY0AAAAAAAAAAAAAAAY//8AAAA1YXZjQwFkAAz/4QAYZ2QADKzZQQCGhAAAAwAEAAADAFA8UKZYAQAGaOvjyyLA/fj4AAAAABRidHJ0AAAAAAAAO3wAADt8AAAAGHN0dHMAAAAAAAAAAQAAACIAAAQAAAAAFHN0c3MAAAAAAAAAAQAAAAEAAAEIY3R0cwAAAAAAAAAfAAAAAQAACAAAAAABAAAUAAAAAAEAAAgAAAAAAQAAAAAAAAABAAAEAAAAAAEAABQAAAAAAQAACAAAAAABAAAAAAAAAAEAAAQAAAAAAQAAFAAAAAABAAAIAAAAAAEAAAAAAAAAAQAABAAAAAABAAAQAAAAAAIAAAQAAAAAAQAAFAAAAAABAAAIAAAAAAEAAAAAAAAAAQAABAAAAAABAAAUAAAAAAEAAAgAAAAAAQAAAAAAAAABAAAEAAAAAAEAABAAAAAAAgAABAAAAAABAAAUAAAAAAEAAAgAAAAAAQAAAAAAAAABAAAEAAAAAAEAABAAAAAAAgAABAAAAAAcc3RzYwAAAAAAAAABAAAAAQAAACIAAAABAAAAnHN0c3oAAAAAAAAAAAAAACIAAAZnAAABQgAAACUAAAAWAAAAHwAAAQgAAAAhAAAAEgAAAB8AAAI/AAAALwAAABkAAAAQAAABgQAAALIAAAAdAAACmgAAAFAAAAA5AAAAJAAAASkAAAAoAAAADgAAACcAAAEwAAAAZQAAACMAAAGSAAAAaQAAACcAAAAoAAABFwAAAPsAAAAjAAAAFHN0Y28AAAAAAAAAAQAAADAAAABidWR0YQAAAFptZXRhAAAAAAAAACFoZGxyAAAAAAAAAABtZGlyYXBwbAAAAAAAAAAAAAAAAC1pbHN0AAAAJal0b28AAAAdZGF0YQAAAAEAAAAATGF2ZjU5LjI3LjEwMA==\" type=\"video/mp4\" />\n",
       "             </video>"
      ],
      "text/plain": [
       "<IPython.core.display.HTML object>"
      ]
     },
     "metadata": {},
     "output_type": "display_data"
    }
   ],
   "source": [
    "test_env = wrap_env(env)\n",
    "observation = test_env.reset()\n",
    "\n",
    "done = False\n",
    "episode_reward = 0\n",
    "episode_length = 0\n",
    "\n",
    "while not done:\n",
    "    action = agent.get_action(observation)\n",
    "    observation, reward, done, info = test_env.step(action)\n",
    "    episode_reward += reward\n",
    "    episode_length += 1\n",
    "\n",
    "print('Total reward:', episode_reward)\n",
    "print('Total length:', episode_length)\n",
    "\n",
    "test_env.close()\n",
    "show_video()"
   ]
  }
 ],
 "metadata": {
  "accelerator": "GPU",
  "colab": {
   "name": "test_minigrid_sb3_curriculum.ipynb",
   "provenance": []
  },
  "kernelspec": {
   "display_name": "tfm-rims",
   "language": "python",
   "name": "tfm-rims"
  },
  "language_info": {
   "codemirror_mode": {
    "name": "ipython",
    "version": 3
   },
   "file_extension": ".py",
   "mimetype": "text/x-python",
   "name": "python",
   "nbconvert_exporter": "python",
   "pygments_lexer": "ipython3",
   "version": "3.7.9"
  },
  "toc-autonumbering": true,
  "toc-showcode": false,
  "toc-showmarkdowntxt": false,
  "toc-showtags": false,
  "vscode": {
   "interpreter": {
    "hash": "d78c29e5a106d8e5aff5a2dd98f2f1ce9953cb30dd1c8e42e77397bf33d62cb1"
   }
  }
 },
 "nbformat": 4,
 "nbformat_minor": 4
}
