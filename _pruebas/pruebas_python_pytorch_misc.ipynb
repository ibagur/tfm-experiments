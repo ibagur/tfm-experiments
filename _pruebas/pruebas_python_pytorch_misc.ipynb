{
 "cells": [
  {
   "cell_type": "markdown",
   "metadata": {},
   "source": [
    "## Freezing parameters"
   ]
  },
  {
   "cell_type": "markdown",
   "metadata": {},
   "source": [
    "### Test 1.a\n",
    "- Use required_grad=False and grad=none to force freeze the layer\n",
    "- Use default Adam optimizer\n",
    "- Do not add paramgroup to model after unfreezing layer"
   ]
  },
  {
   "cell_type": "code",
   "execution_count": 8,
   "metadata": {},
   "outputs": [
    {
     "name": "stdout",
     "output_type": "stream",
     "text": [
      "fc2 weight before train :\n",
      "Parameter containing:\n",
      "tensor([[ 0.3154,  0.2075,  0.0163,  0.0879, -0.0423],\n",
      "        [-0.2459, -0.1690, -0.2723,  0.3715,  0.2461],\n",
      "        [ 0.1564, -0.3429,  0.3451,  0.1402,  0.3094],\n",
      "        [-0.1759,  0.0948,  0.4367,  0.3008,  0.3587],\n",
      "        [-0.0939,  0.3407, -0.3503,  0.0387, -0.2518]], requires_grad=True)\n",
      "fc2 weight (frozen) after retrain:\n",
      "Parameter containing:\n",
      "tensor([[ 0.3154,  0.2075,  0.0163,  0.0879, -0.0423],\n",
      "        [-0.2459, -0.1690, -0.2723,  0.3715,  0.2461],\n",
      "        [ 0.1564, -0.3429,  0.3451,  0.1402,  0.3094],\n",
      "        [-0.1759,  0.0948,  0.4367,  0.3008,  0.3587],\n",
      "        [-0.0939,  0.3407, -0.3503,  0.0387, -0.2518]])\n",
      "fc2 weight (unfrozen) after re-retrain:\n",
      "Parameter containing:\n",
      "tensor([[ 0.3715,  0.1309, -0.0031,  0.1554, -0.1729],\n",
      "        [-0.2248, -0.2089, -0.2611,  0.4118,  0.1516],\n",
      "        [ 0.2117, -0.4130,  0.3157,  0.2232,  0.1875],\n",
      "        [-0.1910,  0.1295,  0.4166,  0.2696,  0.4489],\n",
      "        [-0.0478,  0.2866, -0.3830,  0.1320, -0.3555]], requires_grad=True)\n",
      "fc2 weight (freeze again) after re-retrain:\n",
      "Parameter containing:\n",
      "tensor([[ 0.3715,  0.1309, -0.0031,  0.1554, -0.1729],\n",
      "        [-0.2248, -0.2089, -0.2611,  0.4118,  0.1516],\n",
      "        [ 0.2117, -0.4130,  0.3157,  0.2232,  0.1875],\n",
      "        [-0.1910,  0.1295,  0.4166,  0.2696,  0.4489],\n",
      "        [-0.0478,  0.2866, -0.3830,  0.1320, -0.3555]])\n"
     ]
    }
   ],
   "source": [
    "import torch\n",
    "from torch import nn\n",
    "import torch.nn.functional as F\n",
    "import torch.optim as optim\n",
    "import random\n",
    "import numpy as np\n",
    "\n",
    "seed = 123\n",
    "random.seed(seed)\n",
    "np.random.seed(seed)\n",
    "torch.manual_seed(seed)\n",
    "\n",
    "# toy feed-forward net\n",
    "class Net(nn.Module):\n",
    "    def __init__(self):\n",
    "        super(Net, self).__init__()\n",
    "        self.fc1 = nn.Linear(10, 5)\n",
    "        self.fc2 = nn.Linear(5, 5)\n",
    "        self.fc3 = nn.Linear(5, 1)\n",
    "    def forward(self, x):\n",
    "        x = self.fc1(x)\n",
    "        x = self.fc2(x)\n",
    "        x = self.fc3(x)\n",
    "        return x\n",
    "\n",
    "\n",
    "# define random data\n",
    "random_input = torch.randn((10,), requires_grad = True)\n",
    "random_target = torch.randn((1,), requires_grad = True)\n",
    "#random_input = torch.ones(10, requires_grad = True)\n",
    "#random_target = torch.ones(1, requires_grad = True)\n",
    "\n",
    "# define net\n",
    "net = Net()\n",
    "\n",
    "# define optimizer\n",
    "criterion = nn.MSELoss()\n",
    "optimizer = optim.Adam(net.parameters(), lr=0.1)\n",
    "#optimizer = optim.SGD(net.parameters(), lr=0.1)\n",
    "#optimizer = optim.Adam(filter(lambda p: p.requires_grad, net.parameters()), lr=0.1)\n",
    "\n",
    "# print the initial fc2 weight\n",
    "print('fc2 weight before train :')\n",
    "print(net.fc2.weight)\n",
    "\n",
    "# we want to freeze the fc2 layer: only train fc1 and fc3\n",
    "net.fc2.weight.requires_grad = False\n",
    "net.fc2.bias.requires_grad = False\n",
    "# In Adam optimizer the parameter updates are not based solely on the gradient at the current step but on an average of past squared gradients. Therefore, unset also the gradients of net.fc2 all together instead of having them as zero tensors (because of the zero_grad). \n",
    "net.fc2.weight.grad = None\n",
    "net.fc2.bias.grad = None\n",
    "\n",
    "for i in range(10):\n",
    "    net.zero_grad()\n",
    "    output = net(random_input)\n",
    "    loss = criterion(output, random_target)\n",
    "    loss.backward()\n",
    "    optimizer.step()\n",
    "\n",
    "# print the trained fc2 weight\n",
    "# note that the weight is same as the one before training: only fc1 & fc3 changed\n",
    "print('fc2 weight (frozen) after retrain:')\n",
    "print(net.fc2.weight)\n",
    "\n",
    "# let's unfreeze the fc2 layer this time for extra tuning\n",
    "net.fc2.weight.requires_grad = True\n",
    "net.fc2.bias.requires_grad = True\n",
    "#net.fc2.weight.grad = torch.zeros_like(net.fc2.weight)\n",
    "#net.fc2.bias.grad = torch.zeros_like(net.fc2.bias)\n",
    "\n",
    "# re-retrain\n",
    "for i in range(10):\n",
    "    net.zero_grad()\n",
    "    output = net(random_input)\n",
    "    loss = criterion(output, random_target)\n",
    "    loss.backward()\n",
    "    optimizer.step()\n",
    "\n",
    "# print the re-retrained fc2 weight\n",
    "# note that this time the fc2 weight also changed\n",
    "print('fc2 weight (unfrozen) after re-retrain:')\n",
    "print(net.fc2.weight)\n",
    "\n",
    "# let's freeze the fc2 layer again\n",
    "net.fc2.weight.requires_grad = False\n",
    "net.fc2.bias.requires_grad = False\n",
    "net.fc2.weight.grad = None\n",
    "net.fc2.bias.grad = None\n",
    "\n",
    "\n",
    "# re-retrain\n",
    "for i in range(10):\n",
    "    net.zero_grad()\n",
    "    output = net(random_input)\n",
    "    loss = criterion(output, random_target)\n",
    "    loss.backward()\n",
    "    optimizer.step()\n",
    "\n",
    "# print the re-retrained fc2 weight\n",
    "# note that this time the fc2 weight also changed, BUT why?\n",
    "print('fc2 weight (freeze again) after re-retrain:')\n",
    "print(net.fc2.weight)"
   ]
  },
  {
   "cell_type": "code",
   "execution_count": 7,
   "metadata": {},
   "outputs": [
    {
     "name": "stdout",
     "output_type": "stream",
     "text": [
      "fc2 weight before train :\n",
      "Parameter containing:\n",
      "tensor([[ 0.3154,  0.2075,  0.0163,  0.0879, -0.0423],\n",
      "        [-0.2459, -0.1690, -0.2723,  0.3715,  0.2461],\n",
      "        [ 0.1564, -0.3429,  0.3451,  0.1402,  0.3094],\n",
      "        [-0.1759,  0.0948,  0.4367,  0.3008,  0.3587],\n",
      "        [-0.0939,  0.3407, -0.3503,  0.0387, -0.2518]], requires_grad=True)\n",
      "fc2 weight (frozen) after retrain:\n",
      "Parameter containing:\n",
      "tensor([[ 0.3154,  0.2075,  0.0163,  0.0879, -0.0423],\n",
      "        [-0.2459, -0.1690, -0.2723,  0.3715,  0.2461],\n",
      "        [ 0.1564, -0.3429,  0.3451,  0.1402,  0.3094],\n",
      "        [-0.1759,  0.0948,  0.4367,  0.3008,  0.3587],\n",
      "        [-0.0939,  0.3407, -0.3503,  0.0387, -0.2518]])\n",
      "fc2 weight (unfrozen) after re-retrain:\n",
      "Parameter containing:\n",
      "tensor([[ 0.3715,  0.1309, -0.0031,  0.1554, -0.1729],\n",
      "        [-0.2248, -0.2089, -0.2611,  0.4118,  0.1516],\n",
      "        [ 0.2117, -0.4130,  0.3157,  0.2232,  0.1875],\n",
      "        [-0.1910,  0.1295,  0.4166,  0.2696,  0.4489],\n",
      "        [-0.0478,  0.2866, -0.3830,  0.1320, -0.3555]], requires_grad=True)\n",
      "fc2 weight (freeze again) after re-retrain:\n",
      "Parameter containing:\n",
      "tensor([[ 0.3715,  0.1309, -0.0031,  0.1554, -0.1729],\n",
      "        [-0.2248, -0.2089, -0.2611,  0.4118,  0.1516],\n",
      "        [ 0.2117, -0.4130,  0.3157,  0.2232,  0.1875],\n",
      "        [-0.1910,  0.1295,  0.4166,  0.2696,  0.4489],\n",
      "        [-0.0478,  0.2866, -0.3830,  0.1320, -0.3555]])\n"
     ]
    }
   ],
   "source": [
    "import torch\n",
    "from torch import nn\n",
    "import torch.nn.functional as F\n",
    "import torch.optim as optim\n",
    "import random\n",
    "import numpy as np\n",
    "\n",
    "seed = 123\n",
    "random.seed(seed)\n",
    "np.random.seed(seed)\n",
    "torch.manual_seed(seed)\n",
    "\n",
    "def freeze_params(model, params, freeze=True):\n",
    "    for name, param in model.named_parameters():\n",
    "        if any(ext in name for ext in params):\n",
    "            param.requires_grad = False if freeze else True\n",
    "            param.grad = None if freeze else param.grad\n",
    "\n",
    "# toy feed-forward net\n",
    "class Net(nn.Module):\n",
    "    def __init__(self):\n",
    "        super(Net, self).__init__()\n",
    "        self.fc1 = nn.Linear(10, 5)\n",
    "        self.fc2 = nn.Linear(5, 5)\n",
    "        self.fc3 = nn.Linear(5, 1)\n",
    "    def forward(self, x):\n",
    "        x = self.fc1(x)\n",
    "        x = self.fc2(x)\n",
    "        x = self.fc3(x)\n",
    "        return x\n",
    "\n",
    "params = ['fc2']\n",
    "\n",
    "# define random data\n",
    "random_input = torch.randn((10,), requires_grad = True)\n",
    "random_target = torch.randn((1,), requires_grad = True)\n",
    "#random_input = torch.ones(10, requires_grad = True)\n",
    "#random_target = torch.ones(1, requires_grad = True)\n",
    "\n",
    "# define net\n",
    "net = Net()\n",
    "\n",
    "# define optimizer\n",
    "criterion = nn.MSELoss()\n",
    "optimizer = optim.Adam(net.parameters(), lr=0.1)\n",
    "#optimizer = optim.SGD(net.parameters(), lr=0.1)\n",
    "#optimizer = optim.Adam(filter(lambda p: p.requires_grad, net.parameters()), lr=0.1)\n",
    "\n",
    "# print the initial fc2 weight\n",
    "print('fc2 weight before train :')\n",
    "print(net.fc2.weight)\n",
    "\n",
    "# we want to freeze the fc2 layer: only train fc1 and fc3\n",
    "freeze_params(net, params, freeze=True)\n",
    "\n",
    "\n",
    "for i in range(10):\n",
    "    net.zero_grad()\n",
    "    output = net(random_input)\n",
    "    loss = criterion(output, random_target)\n",
    "    loss.backward()\n",
    "    optimizer.step()\n",
    "\n",
    "# print the trained fc2 weight\n",
    "# note that the weight is same as the one before training: only fc1 & fc3 changed\n",
    "print('fc2 weight (frozen) after retrain:')\n",
    "print(net.fc2.weight)\n",
    "\n",
    "# let's unfreeze the fc2 layer this time for extra tuning\n",
    "freeze_params(net, params, freeze=False)\n",
    "\n",
    "# re-retrain\n",
    "for i in range(10):\n",
    "    net.zero_grad()\n",
    "    output = net(random_input)\n",
    "    loss = criterion(output, random_target)\n",
    "    loss.backward()\n",
    "    optimizer.step()\n",
    "\n",
    "# print the re-retrained fc2 weight\n",
    "# note that this time the fc2 weight also changed\n",
    "print('fc2 weight (unfrozen) after re-retrain:')\n",
    "print(net.fc2.weight)\n",
    "\n",
    "# let's freeze the fc2 layer again\n",
    "freeze_params(net, params, freeze=True)\n",
    "\n",
    "# re-retrain\n",
    "for i in range(10):\n",
    "    net.zero_grad()\n",
    "    output = net(random_input)\n",
    "    loss = criterion(output, random_target)\n",
    "    loss.backward()\n",
    "    optimizer.step()\n",
    "\n",
    "# print the re-retrained fc2 weight\n",
    "# note that this time the fc2 weight also changed, BUT why?\n",
    "print('fc2 weight (freeze again) after re-retrain:')\n",
    "print(net.fc2.weight)"
   ]
  },
  {
   "cell_type": "markdown",
   "metadata": {},
   "source": [
    "### Test 1.b"
   ]
  },
  {
   "cell_type": "code",
   "execution_count": 7,
   "metadata": {},
   "outputs": [
    {
     "name": "stdout",
     "output_type": "stream",
     "text": [
      "fc2 weight before train :\n",
      "Parameter containing:\n",
      "tensor([[ 0.3154,  0.2075,  0.0163,  0.0879, -0.0423],\n",
      "        [-0.2459, -0.1690, -0.2723,  0.3715,  0.2461],\n",
      "        [ 0.1564, -0.3429,  0.3451,  0.1402,  0.3094],\n",
      "        [-0.1759,  0.0948,  0.4367,  0.3008,  0.3587],\n",
      "        [-0.0939,  0.3407, -0.3503,  0.0387, -0.2518]], requires_grad=True)\n",
      "fc2 weight (frozen) after retrain:\n",
      "Parameter containing:\n",
      "tensor([[ 0.3154,  0.2075,  0.0163,  0.0879, -0.0423],\n",
      "        [-0.2459, -0.1690, -0.2723,  0.3715,  0.2461],\n",
      "        [ 0.1564, -0.3429,  0.3451,  0.1402,  0.3094],\n",
      "        [-0.1759,  0.0948,  0.4367,  0.3008,  0.3587],\n",
      "        [-0.0939,  0.3407, -0.3503,  0.0387, -0.2518]])\n",
      "fc2 weight (unfrozen) after re-retrain:\n",
      "Parameter containing:\n",
      "tensor([[ 0.3715,  0.1309, -0.0031,  0.1554, -0.1729],\n",
      "        [-0.2248, -0.2089, -0.2611,  0.4118,  0.1516],\n",
      "        [ 0.2117, -0.4130,  0.3157,  0.2232,  0.1875],\n",
      "        [-0.1910,  0.1295,  0.4166,  0.2696,  0.4489],\n",
      "        [-0.0478,  0.2866, -0.3830,  0.1320, -0.3555]], requires_grad=True)\n",
      "fc2 weight (freeze again) after re-retrain:\n",
      "Parameter containing:\n",
      "tensor([[ 0.4180,  0.0763, -0.0242,  0.1956, -0.2514],\n",
      "        [-0.1808, -0.2658, -0.2771,  0.4415,  0.0705],\n",
      "        [ 0.2656, -0.4748,  0.2821,  0.2754,  0.1034],\n",
      "        [-0.2182,  0.1614,  0.4227,  0.2397,  0.5047],\n",
      "        [ 0.0150,  0.2141, -0.4294,  0.1940, -0.4486]])\n"
     ]
    }
   ],
   "source": [
    "import torch\n",
    "from torch import nn\n",
    "import torch.nn.functional as F\n",
    "import torch.optim as optim\n",
    "import random\n",
    "import numpy as np\n",
    "\n",
    "seed = 123\n",
    "random.seed(seed)\n",
    "np.random.seed(seed)\n",
    "torch.manual_seed(seed)\n",
    "\n",
    "# toy feed-forward net\n",
    "class Net(nn.Module):\n",
    "    def __init__(self):\n",
    "        super(Net, self).__init__()\n",
    "        self.fc1 = nn.Linear(10, 5)\n",
    "        self.fc2 = nn.Linear(5, 5)\n",
    "        self.fc3 = nn.Linear(5, 1)\n",
    "    def forward(self, x):\n",
    "        x = self.fc1(x)\n",
    "        x = self.fc2(x)\n",
    "        x = self.fc3(x)\n",
    "        return x\n",
    "\n",
    "# define random data\n",
    "#random_input = Variable(torch.randn(10,))\n",
    "#random_target = Variable(torch.randn(1,))\n",
    "\n",
    "random_input = torch.randn((10,), requires_grad = True)\n",
    "random_target = torch.randn((1,), requires_grad = True)\n",
    "\n",
    "#random_input = torch.ones(10, requires_grad = True)\n",
    "#random_target = torch.ones(1, requires_grad = True)\n",
    "\n",
    "# define net\n",
    "net = Net()\n",
    "\n",
    "# define optimizer\n",
    "criterion = nn.MSELoss()\n",
    "#optimizer = optim.Adam(net.parameters(), lr=0.1)\n",
    "#optimizer = optim.SGD(net.parameters(), lr=0.1)\n",
    "optimizer = optim.Adam(filter(lambda p: p.requires_grad, net.parameters()), lr=0.1)\n",
    "\n",
    "# print the initial fc2 weight\n",
    "print('fc2 weight before train :')\n",
    "print(net.fc2.weight)\n",
    "\n",
    "# we want to freeze the fc2 layer: only train fc1 and fc3\n",
    "net.fc2.weight.requires_grad = False\n",
    "net.fc2.bias.requires_grad = False\n",
    "#net.fc2.weight.grad = None\n",
    "#net.fc2.bias.grad = None\n",
    "\n",
    "for i in range(10):\n",
    "    net.zero_grad()\n",
    "    output = net(random_input)\n",
    "    loss = criterion(output, random_target)\n",
    "    loss.backward()\n",
    "    optimizer.step()\n",
    "\n",
    "# print the trained fc2 weight\n",
    "# note that the weight is same as the one before training: only fc1 & fc3 changed\n",
    "print('fc2 weight (frozen) after retrain:')\n",
    "print(net.fc2.weight)\n",
    "\n",
    "# let's unfreeze the fc2 layer this time for extra tuning\n",
    "net.fc2.weight.requires_grad = True\n",
    "net.fc2.bias.requires_grad = True\n",
    "#net.fc2.weight.grad = torch.zeros_like(net.fc2.weight)\n",
    "#net.fc2.bias.grad = torch.zeros_like(net.fc2.bias)\n",
    "\n",
    "# add the unfrozen fc2 weight to the current optimizer\n",
    "#optimizer.add_param_group({'params': net.fc2.parameters()})\n",
    "\n",
    "# re-retrain\n",
    "for i in range(10):\n",
    "    net.zero_grad()\n",
    "    output = net(random_input)\n",
    "    loss = criterion(output, random_target)\n",
    "    loss.backward()\n",
    "    optimizer.step()\n",
    "\n",
    "# print the re-retrained fc2 weight\n",
    "# note that this time the fc2 weight also changed\n",
    "print('fc2 weight (unfrozen) after re-retrain:')\n",
    "print(net.fc2.weight)\n",
    "\n",
    "# let's freeze the fc2 layer again\n",
    "net.fc2.weight.requires_grad = False\n",
    "net.fc2.bias.requires_grad = False\n",
    "#net.fc2.weight.grad = None\n",
    "#net.fc2.bias.grad = None\n",
    "\n",
    "# re-retrain\n",
    "for i in range(10):\n",
    "    net.zero_grad()\n",
    "    output = net(random_input)\n",
    "    loss = criterion(output, random_target)\n",
    "    loss.backward()\n",
    "    optimizer.step()\n",
    "\n",
    "# print the re-retrained fc2 weight\n",
    "# note that this time the fc2 weight also changed, BUT why?\n",
    "print('fc2 weight (freeze again) after re-retrain:')\n",
    "print(net.fc2.weight)"
   ]
  },
  {
   "cell_type": "markdown",
   "metadata": {},
   "source": [
    "### Test 2.a"
   ]
  },
  {
   "cell_type": "code",
   "execution_count": 21,
   "metadata": {},
   "outputs": [
    {
     "name": "stdout",
     "output_type": "stream",
     "text": [
      "fc2 weight before train:\n",
      "Parameter containing:\n",
      "tensor([[-0.3703, -0.3340,  0.1541, -0.2650,  0.2642],\n",
      "        [ 0.3688,  0.1676, -0.3093, -0.1919, -0.0269],\n",
      "        [ 0.1880, -0.2799, -0.3967, -0.3259, -0.4128],\n",
      "        [ 0.0453,  0.2523, -0.2920,  0.0482,  0.3641],\n",
      "        [ 0.1120,  0.0288,  0.1036,  0.3823, -0.2721]], requires_grad=True)\n",
      "fc2 weight after train:\n",
      "Parameter containing:\n",
      "tensor([[-0.2833, -0.3700,  0.1228, -0.3608,  0.1716],\n",
      "        [ 0.4600,  0.1327, -0.3391, -0.2903, -0.1227],\n",
      "        [ 0.2085, -0.2775, -0.3930, -0.3414, -0.4281],\n",
      "        [ 0.0494,  0.2465, -0.2973,  0.0421,  0.3560],\n",
      "        [ 0.1444,  0.0159,  0.0918,  0.3451, -0.3039]], requires_grad=True)\n",
      "fc2 pretrained weight (same as the one above):\n",
      "Parameter containing:\n",
      "tensor([[-0.2833, -0.3700,  0.1228, -0.3608,  0.1716],\n",
      "        [ 0.4600,  0.1327, -0.3391, -0.2903, -0.1227],\n",
      "        [ 0.2085, -0.2775, -0.3930, -0.3414, -0.4281],\n",
      "        [ 0.0494,  0.2465, -0.2973,  0.0421,  0.3560],\n",
      "        [ 0.1444,  0.0159,  0.0918,  0.3451, -0.3039]], requires_grad=True)\n",
      "fc2 weight (frozen) after retrain:\n",
      "Parameter containing:\n",
      "tensor([[-0.2833, -0.3700,  0.1228, -0.3608,  0.1716],\n",
      "        [ 0.4600,  0.1327, -0.3391, -0.2903, -0.1227],\n",
      "        [ 0.2085, -0.2775, -0.3930, -0.3414, -0.4281],\n",
      "        [ 0.0494,  0.2465, -0.2973,  0.0421,  0.3560],\n",
      "        [ 0.1444,  0.0159,  0.0918,  0.3451, -0.3039]])\n",
      "fc2 weight (unfrozen) after re-retrain:\n",
      "Parameter containing:\n",
      "tensor([[-0.6635,  0.2913,  0.1123,  0.2015,  0.8315],\n",
      "        [ 0.2308,  0.4202, -0.1499,  0.1287,  0.1497],\n",
      "        [-0.2945,  0.3707, -0.0393,  0.3751,  0.2013],\n",
      "        [ 0.3095, -0.2125, -0.2959, -0.3997, -0.0914],\n",
      "        [ 0.0055,  0.2880,  0.0094,  0.4543, -0.0111]], requires_grad=True)\n"
     ]
    }
   ],
   "source": [
    "import torch\n",
    "from torch import nn\n",
    "from torch.autograd import Variable\n",
    "import torch.nn.functional as F\n",
    "import torch.optim as optim\n",
    "import random\n",
    "import numpy as np\n",
    "\n",
    "seed = 124\n",
    "random.seed(seed)\n",
    "np.random.seed(seed)\n",
    "torch.manual_seed(seed)\n",
    "\n",
    "# toy feed-forward net\n",
    "class Net(nn.Module):\n",
    "    def __init__(self):\n",
    "        super(Net, self).__init__()\n",
    "        self.fc1 = nn.Linear(10, 5)\n",
    "        self.fc2 = nn.Linear(5, 5)\n",
    "        self.fc3 = nn.Linear(5, 1)\n",
    "    def forward(self, x):\n",
    "        x = self.fc1(x)\n",
    "        x = self.fc2(x)\n",
    "        x = self.fc3(x)\n",
    "        return x\n",
    "\n",
    "\n",
    "# define random data\n",
    "random_input = Variable(torch.randn(10,))\n",
    "random_target = Variable(torch.randn(1,))\n",
    "\n",
    "# define net\n",
    "net = Net()\n",
    "\n",
    "# print fc2 weight\n",
    "print('fc2 weight before train:')\n",
    "print(net.fc2.weight)\n",
    "\n",
    "# train the net\n",
    "criterion = nn.MSELoss()\n",
    "optimizer = optim.SGD(net.parameters(), lr=0.1)\n",
    "for i in range(100):\n",
    "    net.zero_grad()\n",
    "    output = net(random_input)\n",
    "    loss = criterion(output, random_target)\n",
    "    loss.backward()\n",
    "    optimizer.step()\n",
    "\n",
    "# print the trained fc2 weight\n",
    "print('fc2 weight after train:')\n",
    "print(net.fc2.weight)\n",
    "\n",
    "# save the net\n",
    "torch.save(net.state_dict(), 'model')\n",
    "\n",
    "# delete and redefine the net\n",
    "del net\n",
    "net = Net()\n",
    "\n",
    "# load the weight\n",
    "net.load_state_dict(torch.load('model'))\n",
    "\n",
    "# print the pre-trained fc2 weight\n",
    "print('fc2 pretrained weight (same as the one above):')\n",
    "print(net.fc2.weight)\n",
    "\n",
    "# define new random data\n",
    "random_input = Variable(torch.randn(10,))\n",
    "random_target = Variable(torch.randn(1,))\n",
    "\n",
    "# we want to freeze the fc2 layer this time: only train fc1 and fc3\n",
    "net.fc2.weight.requires_grad = False\n",
    "net.fc2.bias.requires_grad = False\n",
    "#net.fc2.weight.grad = None\n",
    "#net.fc2.bias.grad = None\n",
    "\n",
    "# train again\n",
    "criterion = nn.MSELoss()\n",
    "\n",
    "# NOTE: pytorch optimizer explicitly accepts parameter that requires grad\n",
    "# see https://github.com/pytorch/pytorch/issues/679\n",
    "optimizer = optim.Adam(filter(lambda p: p.requires_grad, net.parameters()), lr=0.1)\n",
    "# this raises ValueError: optimizing a parameter that doesn't require gradients\n",
    "#optimizer = optim.Adam(net.parameters(), lr=0.1)\n",
    "\n",
    "for i in range(100):\n",
    "    net.zero_grad()\n",
    "    output = net(random_input)\n",
    "    loss = criterion(output, random_target)\n",
    "    loss.backward()\n",
    "    optimizer.step()\n",
    "\n",
    "# print the retrained fc2 weight\n",
    "# note that the weight is same as the one before retraining: only fc1 & fc3 changed\n",
    "print('fc2 weight (frozen) after retrain:')\n",
    "print(net.fc2.weight)\n",
    "\n",
    "# let's unfreeze the fc2 layer this time for extra tuning\n",
    "net.fc2.weight.requires_grad = True\n",
    "net.fc2.bias.requires_grad = True\n",
    "\n",
    "# add the unfrozen fc2 weight to the current optimizer\n",
    "optimizer.add_param_group({'params': net.fc2.parameters()})\n",
    "\n",
    "# re-retrain\n",
    "for i in range(100):\n",
    "    net.zero_grad()\n",
    "    output = net(random_input)\n",
    "    loss = criterion(output, random_target)\n",
    "    loss.backward()\n",
    "    optimizer.step()\n",
    "\n",
    "# print the re-retrained fc2 weight\n",
    "# note that this time the fc2 weight also changed\n",
    "print('fc2 weight (unfrozen) after re-retrain:')\n",
    "print(net.fc2.weight)"
   ]
  },
  {
   "cell_type": "markdown",
   "metadata": {},
   "source": [
    "### Test 2.b"
   ]
  },
  {
   "cell_type": "code",
   "execution_count": 9,
   "metadata": {},
   "outputs": [
    {
     "name": "stdout",
     "output_type": "stream",
     "text": [
      "fc2 weight before train:\n",
      "Parameter containing:\n",
      "tensor([[-0.3703, -0.3340,  0.1541, -0.2650,  0.2642],\n",
      "        [ 0.3688,  0.1676, -0.3093, -0.1919, -0.0269],\n",
      "        [ 0.1880, -0.2799, -0.3967, -0.3259, -0.4128],\n",
      "        [ 0.0453,  0.2523, -0.2920,  0.0482,  0.3641],\n",
      "        [ 0.1120,  0.0288,  0.1036,  0.3823, -0.2721]], requires_grad=True)\n",
      "fc2 weight after train:\n",
      "Parameter containing:\n",
      "tensor([[-0.2833, -0.3700,  0.1228, -0.3608,  0.1716],\n",
      "        [ 0.4600,  0.1327, -0.3391, -0.2903, -0.1227],\n",
      "        [ 0.2085, -0.2775, -0.3930, -0.3414, -0.4281],\n",
      "        [ 0.0494,  0.2465, -0.2973,  0.0421,  0.3560],\n",
      "        [ 0.1444,  0.0159,  0.0918,  0.3451, -0.3039]], requires_grad=True)\n",
      "fc2 pretrained weight (same as the one above):\n",
      "Parameter containing:\n",
      "tensor([[-0.2833, -0.3700,  0.1228, -0.3608,  0.1716],\n",
      "        [ 0.4600,  0.1327, -0.3391, -0.2903, -0.1227],\n",
      "        [ 0.2085, -0.2775, -0.3930, -0.3414, -0.4281],\n",
      "        [ 0.0494,  0.2465, -0.2973,  0.0421,  0.3560],\n",
      "        [ 0.1444,  0.0159,  0.0918,  0.3451, -0.3039]], requires_grad=True)\n",
      "fc2 weight (frozen) after retrain:\n",
      "Parameter containing:\n",
      "tensor([[-0.2833, -0.3700,  0.1228, -0.3608,  0.1716],\n",
      "        [ 0.4600,  0.1327, -0.3391, -0.2903, -0.1227],\n",
      "        [ 0.2085, -0.2775, -0.3930, -0.3414, -0.4281],\n",
      "        [ 0.0494,  0.2465, -0.2973,  0.0421,  0.3560],\n",
      "        [ 0.1444,  0.0159,  0.0918,  0.3451, -0.3039]])\n",
      "fc2 weight (unfrozen) after re-retrain:\n",
      "Parameter containing:\n",
      "tensor([[-0.6635,  0.2913,  0.1123,  0.2015,  0.8315],\n",
      "        [ 0.2308,  0.4202, -0.1499,  0.1287,  0.1497],\n",
      "        [-0.2945,  0.3707, -0.0393,  0.3751,  0.2013],\n",
      "        [ 0.3095, -0.2125, -0.2959, -0.3997, -0.0914],\n",
      "        [ 0.0055,  0.2880,  0.0094,  0.4543, -0.0111]], requires_grad=True)\n"
     ]
    }
   ],
   "source": [
    "import torch\n",
    "from torch import nn\n",
    "from torch.autograd import Variable\n",
    "import torch.nn.functional as F\n",
    "import torch.optim as optim\n",
    "import random\n",
    "import numpy as np\n",
    "\n",
    "seed = 124\n",
    "random.seed(seed)\n",
    "np.random.seed(seed)\n",
    "torch.manual_seed(seed)\n",
    "\n",
    "# toy feed-forward net\n",
    "class Net(nn.Module):\n",
    "    def __init__(self):\n",
    "        super(Net, self).__init__()\n",
    "        self.fc1 = nn.Linear(10, 5)\n",
    "        self.fc2 = nn.Linear(5, 5)\n",
    "        self.fc3 = nn.Linear(5, 1)\n",
    "    def forward(self, x):\n",
    "        x = self.fc1(x)\n",
    "        x = self.fc2(x)\n",
    "        x = self.fc3(x)\n",
    "        return x\n",
    "\n",
    "\n",
    "# define random data\n",
    "random_input = Variable(torch.randn(10,))\n",
    "random_target = Variable(torch.randn(1,))\n",
    "\n",
    "# define net\n",
    "net = Net()\n",
    "\n",
    "# print fc2 weight\n",
    "print('fc2 weight before train:')\n",
    "print(net.fc2.weight)\n",
    "\n",
    "# train the net\n",
    "criterion = nn.MSELoss()\n",
    "optimizer = optim.SGD(net.parameters(), lr=0.1)\n",
    "for i in range(100):\n",
    "    net.zero_grad()\n",
    "    output = net(random_input)\n",
    "    loss = criterion(output, random_target)\n",
    "    loss.backward()\n",
    "    optimizer.step()\n",
    "\n",
    "# print the trained fc2 weight\n",
    "print('fc2 weight after train:')\n",
    "print(net.fc2.weight)\n",
    "\n",
    "# save the net\n",
    "torch.save(net.state_dict(), 'model')\n",
    "\n",
    "# delete and redefine the net\n",
    "del net\n",
    "net = Net()\n",
    "\n",
    "# load the weight\n",
    "net.load_state_dict(torch.load('model'))\n",
    "\n",
    "# print the pre-trained fc2 weight\n",
    "print('fc2 pretrained weight (same as the one above):')\n",
    "print(net.fc2.weight)\n",
    "\n",
    "# define new random data\n",
    "random_input = Variable(torch.randn(10,))\n",
    "random_target = Variable(torch.randn(1,))\n",
    "\n",
    "# we want to freeze the fc2 layer this time: only train fc1 and fc3\n",
    "net.fc2.weight.requires_grad = False\n",
    "net.fc2.bias.requires_grad = False\n",
    "net.fc2.weight.grad = None\n",
    "net.fc2.bias.grad = None\n",
    "\n",
    "# train again\n",
    "criterion = nn.MSELoss()\n",
    "\n",
    "# NOTE: pytorch optimizer explicitly accepts parameter that requires grad\n",
    "# see https://github.com/pytorch/pytorch/issues/679\n",
    "#optimizer = optim.Adam(filter(lambda p: p.requires_grad, net.parameters()), lr=0.1)\n",
    "# this raises ValueError: optimizing a parameter that doesn't require gradients\n",
    "optimizer = optim.Adam(net.parameters(), lr=0.1)\n",
    "\n",
    "for i in range(100):\n",
    "    net.zero_grad()\n",
    "    output = net(random_input)\n",
    "    loss = criterion(output, random_target)\n",
    "    loss.backward()\n",
    "    optimizer.step()\n",
    "\n",
    "# print the retrained fc2 weight\n",
    "# note that the weight is same as the one before retraining: only fc1 & fc3 changed\n",
    "print('fc2 weight (frozen) after retrain:')\n",
    "print(net.fc2.weight)\n",
    "\n",
    "# let's unfreeze the fc2 layer this time for extra tuning\n",
    "net.fc2.weight.requires_grad = True\n",
    "net.fc2.bias.requires_grad = True\n",
    "\n",
    "# add the unfrozen fc2 weight to the current optimizer\n",
    "#optimizer.add_param_group({'params': net.fc2.parameters()})\n",
    "\n",
    "# re-retrain\n",
    "for i in range(100):\n",
    "    net.zero_grad()\n",
    "    output = net(random_input)\n",
    "    loss = criterion(output, random_target)\n",
    "    loss.backward()\n",
    "    optimizer.step()\n",
    "\n",
    "# print the re-retrained fc2 weight\n",
    "# note that this time the fc2 weight also changed\n",
    "print('fc2 weight (unfrozen) after re-retrain:')\n",
    "print(net.fc2.weight)"
   ]
  },
  {
   "cell_type": "code",
   "execution_count": 62,
   "metadata": {},
   "outputs": [
    {
     "name": "stdout",
     "output_type": "stream",
     "text": [
      "lin0: None\n",
      "lin1: None\n",
      "lin2: tensor([[-1.2708,  0.6635],\n",
      "        [-1.2708,  0.6635]])\n"
     ]
    }
   ],
   "source": [
    "x = torch.randn(2, 2)\n",
    "x.requires_grad = True\n",
    "\n",
    "lin0 = nn.Linear(2, 2)\n",
    "lin1 = nn.Linear(2, 2)\n",
    "lin2 = nn.Linear(2, 2)\n",
    "x1 = lin0(x)\n",
    "with torch.no_grad():    \n",
    "    x2 = lin1(x1)\n",
    "x3 = lin2(x2)\n",
    "x3.sum().backward()\n",
    "print('lin0:', lin0.weight.grad)\n",
    "print('lin1:', lin1.weight.grad)\n",
    "print('lin2:', lin2.weight.grad)"
   ]
  },
  {
   "cell_type": "code",
   "execution_count": 53,
   "metadata": {},
   "outputs": [
    {
     "name": "stdout",
     "output_type": "stream",
     "text": [
      "lin0: tensor([[ 0.0368, -0.0246],\n",
      "        [ 0.2934, -0.1960]])\n",
      "lin1: tensor([[-0.8294,  1.1526],\n",
      "        [ 0.1166, -0.1621]])\n",
      "lin2: tensor([[-1.9462, -0.6254],\n",
      "        [-1.9462, -0.6254]])\n"
     ]
    }
   ],
   "source": [
    "x = torch.randn(2, 2)\n",
    "x.requires_grad = True\n",
    "\n",
    "lin0 = nn.Linear(2, 2)\n",
    "lin1 = nn.Linear(2, 2)\n",
    "lin2 = nn.Linear(2, 2)\n",
    "x1 = lin0(x)\n",
    "x2 = lin1(x1)\n",
    "# with torch.no_grad():    \n",
    "#     x2 = lin1(x1)\n",
    "x3 = lin2(x2)\n",
    "x3.sum().backward()\n",
    "print('lin0:', lin0.weight.grad)\n",
    "print('lin1:', lin1.weight.grad)\n",
    "print('lin2:', lin2.weight.grad)"
   ]
  },
  {
   "cell_type": "code",
   "execution_count": 14,
   "metadata": {},
   "outputs": [],
   "source": [
    "import torch.nn as nn\n",
    "from torch.autograd import Variable\n",
    "import torch.optim as optim\n",
    "class Net(nn.Module):\n",
    "    \n",
    "    def __init__(self):\n",
    "        super().__init__()\n",
    "        self.fc1 = nn.Linear(2, 4)\n",
    "        self.relu1 = nn.ReLU()\n",
    "        #dout = nn.Dropout(0.2)\n",
    "        self.fc2 = nn.Linear(4, 3)\n",
    "        self.relu2 = nn.ReLU(1)\n",
    "        self.out = nn.Linear(3, 1)\n",
    "        self.out_act = nn.Sigmoid()\n",
    "        \n",
    "    def forward(self, inputs):\n",
    "        a1 = self.fc1(inputs)\n",
    "        h1 = self.relu1(a1)\n",
    "        a2 = self.fc2(h1)\n",
    "        h2 = self.relu2(a2)\n",
    "        a3 = self.out(h2)\n",
    "        y = self.out_act(a3)\n",
    "        return y"
   ]
  },
  {
   "cell_type": "code",
   "execution_count": 15,
   "metadata": {},
   "outputs": [
    {
     "data": {
      "text/plain": [
       "odict_keys(['fc1.weight', 'fc1.bias', 'fc2.weight', 'fc2.bias', 'out.weight', 'out.bias'])"
      ]
     },
     "execution_count": 15,
     "metadata": {},
     "output_type": "execute_result"
    }
   ],
   "source": [
    "net = Net()\n",
    "params = net.state_dict()\n",
    "params.keys()"
   ]
  },
  {
   "cell_type": "code",
   "execution_count": 16,
   "metadata": {},
   "outputs": [
    {
     "name": "stdout",
     "output_type": "stream",
     "text": [
      "fc1.weight\n",
      "fc1.bias\n",
      "fc2.weight\n",
      "fc2.bias\n",
      "out.weight\n",
      "out.bias\n"
     ]
    }
   ],
   "source": [
    "for name, param in net.named_parameters():\n",
    "    if param.requires_grad:print(name)"
   ]
  },
  {
   "cell_type": "code",
   "execution_count": 18,
   "metadata": {},
   "outputs": [
    {
     "name": "stdout",
     "output_type": "stream",
     "text": [
      "fc1.weight Parameter containing:\n",
      "tensor([[ 0.0828, -0.5417],\n",
      "        [ 0.0817,  0.2378],\n",
      "        [ 0.6045, -0.2202],\n",
      "        [ 0.2546,  0.7068]])\n",
      "fc1.bias Parameter containing:\n",
      "tensor([-0.3033,  0.6722, -0.3511,  0.3117])\n",
      "fc2.weight Parameter containing:\n",
      "tensor([[ 0.1959,  0.1397,  0.3954, -0.2021],\n",
      "        [ 0.1314,  0.0028, -0.3761, -0.1214],\n",
      "        [-0.3339,  0.2211,  0.0449,  0.0490]], requires_grad=True)\n",
      "fc2.bias Parameter containing:\n",
      "tensor([-0.1517,  0.0024, -0.1555], requires_grad=True)\n",
      "out.weight Parameter containing:\n",
      "tensor([[0.1659, 0.5607, 0.0875]], requires_grad=True)\n",
      "out.bias Parameter containing:\n",
      "tensor([-0.2557], requires_grad=True)\n"
     ]
    }
   ],
   "source": [
    "for name, param in net.named_parameters():\n",
    "    if param.requires_grad and 'fc1' in name:\n",
    "        param.requires_grad = False\n",
    "\n",
    "for name, param in net.named_parameters():print(name, param)"
   ]
  },
  {
   "cell_type": "code",
   "execution_count": 19,
   "metadata": {},
   "outputs": [],
   "source": [
    "optimizer = optim.SGD(filter(lambda p: p.requires_grad, net.parameters()), lr=0.1)"
   ]
  },
  {
   "cell_type": "markdown",
   "metadata": {},
   "source": [
    "## Concatenate tensors"
   ]
  },
  {
   "cell_type": "markdown",
   "metadata": {},
   "source": [
    "### Using cat()"
   ]
  },
  {
   "cell_type": "code",
   "execution_count": 3,
   "metadata": {},
   "outputs": [
    {
     "name": "stdout",
     "output_type": "stream",
     "text": [
      "T1: tensor([1., 2., 3., 4.])\n",
      "T2: tensor([0., 3., 4., 1.])\n",
      "T3: tensor([4., 3., 2., 5.])\n",
      "T: tensor([1., 2., 3., 4., 0., 3., 4., 1., 4., 3., 2., 5.])\n"
     ]
    }
   ],
   "source": [
    "# Python program to join tensors in PyTorch\n",
    "# import necessary library\n",
    "import torch\n",
    "\n",
    "# create tensors\n",
    "T1 = torch.Tensor([1,2,3,4])\n",
    "T2 = torch.Tensor([0,3,4,1])\n",
    "T3 = torch.Tensor([4,3,2,5])\n",
    "\n",
    "# print above created tensors\n",
    "print(\"T1:\", T1)\n",
    "print(\"T2:\", T2)\n",
    "print(\"T3:\", T3)\n",
    "\n",
    "# join (concatenate) above tensors using torch.cat()\n",
    "T = torch.cat((T1,T2,T3))\n",
    "# print final tensor after concatenation\n",
    "print(\"T:\",T)\n"
   ]
  },
  {
   "cell_type": "code",
   "execution_count": 19,
   "metadata": {},
   "outputs": [
    {
     "name": "stdout",
     "output_type": "stream",
     "text": [
      "T1:\n",
      " tensor([[1., 2.],\n",
      "        [3., 4.]])\n",
      "T2:\n",
      " tensor([[0., 3.],\n",
      "        [4., 1.]])\n",
      "T3:\n",
      " tensor([[4., 3.],\n",
      "        [2., 5.]])\n",
      "join(concatenate) tensors in the 0 dimension\n",
      "T:\n",
      " tensor([[1., 2.],\n",
      "        [3., 4.],\n",
      "        [0., 3.],\n",
      "        [4., 1.],\n",
      "        [4., 3.],\n",
      "        [2., 5.]])\n",
      "join(concatenate) tensors in the -1 dimension\n",
      "T:\n",
      " tensor([[1., 2., 0., 3., 4., 3.],\n",
      "        [3., 4., 4., 1., 2., 5.]])\n"
     ]
    }
   ],
   "source": [
    "# import necessary library\n",
    "import torch\n",
    "\n",
    "# create tensors\n",
    "T1 = torch.Tensor([[1,2],[3,4]])\n",
    "T2 = torch.Tensor([[0,3],[4,1]])\n",
    "T3 = torch.Tensor([[4,3],[2,5]])\n",
    "\n",
    "# print above created tensors\n",
    "print(\"T1:\\n\", T1)\n",
    "print(\"T2:\\n\", T2)\n",
    "print(\"T3:\\n\", T3)\n",
    "\n",
    "print(\"join(concatenate) tensors in the 0 dimension\")\n",
    "T = torch.cat((T1,T2,T3), 0)\n",
    "print(\"T:\\n\", T)\n",
    "\n",
    "print(\"join(concatenate) tensors in the -1 dimension\")\n",
    "T = torch.cat((T1,T2,T3), -1)\n",
    "print(\"T:\\n\", T)"
   ]
  },
  {
   "cell_type": "code",
   "execution_count": 20,
   "metadata": {},
   "outputs": [
    {
     "name": "stdout",
     "output_type": "stream",
     "text": [
      "a: tensor([1, 2, 3])\n",
      "b: tensor([4, 5, 6])\n",
      "ab: tensor([1, 2, 3, 4, 5, 6])\n",
      "ba: tensor([4, 5, 6, 1, 2, 3])\n",
      "a shape: torch.Size([3])\n",
      "ab shape: torch.Size([6])\n",
      "c: tensor([[1, 2],\n",
      "        [3, 4],\n",
      "        [5, 6]])\n",
      "d: tensor([[ 7,  8],\n",
      "        [ 9, 10],\n",
      "        [11, 12]])\n",
      "cd: tensor([[ 1,  2],\n",
      "        [ 3,  4],\n",
      "        [ 5,  6],\n",
      "        [ 7,  8],\n",
      "        [ 9, 10],\n",
      "        [11, 12]])\n",
      "dc: tensor([[ 7,  8],\n",
      "        [ 9, 10],\n",
      "        [11, 12],\n",
      "        [ 1,  2],\n",
      "        [ 3,  4],\n",
      "        [ 5,  6]])\n",
      "c shape: torch.Size([3, 2])\n",
      "cd shape: torch.Size([6, 2])\n",
      "cd1: tensor([[ 1,  2,  7,  8],\n",
      "        [ 3,  4,  9, 10],\n",
      "        [ 5,  6, 11, 12]])\n",
      "cd1 shape: torch.Size([3, 4])\n"
     ]
    }
   ],
   "source": [
    "import torch\n",
    "\n",
    "a = torch.tensor([1, 2, 3])\n",
    "b = torch.tensor([4, 5, 6])\n",
    "\n",
    "ab = torch.cat((a, b), 0)\n",
    "ba = torch.cat((b, a), 0)\n",
    "print('a:', a)\n",
    "print('b:', b)\n",
    "print('ab:', ab)\n",
    "print('ba:', ba)\n",
    "print('a shape:', a.shape)\n",
    "print('ab shape:', ab.shape)\n",
    "\n",
    "c_ = torch.tensor([[1, 2, 3],[4, 5, 6]])\n",
    "d_ = torch.tensor([[7, 8, 9],[10,11, 12]])\n",
    "c = c_.reshape(3,2)\n",
    "d = d_.reshape(3,2)\n",
    "\n",
    "cd = torch.cat((c, d))\n",
    "dc = torch.cat((d, c))\n",
    "print('c:', c)\n",
    "print('d:', d)\n",
    "print('cd:', cd)\n",
    "print('dc:', dc)\n",
    "print('c shape:', c.shape)\n",
    "print('cd shape:', cd.shape)\n",
    "\n",
    "cd1 = torch.cat((c, d), 1)\n",
    "dc1 = torch.cat((d, c), 1)\n",
    "print('cd1:', cd1)\n",
    "print('cd1 shape:', cd1.shape)\n",
    "\n"
   ]
  },
  {
   "cell_type": "code",
   "execution_count": 21,
   "metadata": {},
   "outputs": [
    {
     "name": "stdout",
     "output_type": "stream",
     "text": [
      "0: tensor([[1, 2, 3],\n",
      "        [4, 5, 6]])\n",
      "1: tensor([[1, 2, 3, 4, 5, 6]])\n"
     ]
    }
   ],
   "source": [
    "import torch\n",
    "\n",
    "a = torch.tensor([[1, 2, 3]])\n",
    "b = torch.tensor([[4, 5, 6]])\n",
    "\n",
    "print('0:', torch.cat((a, b), 0))\n",
    "print('1:', torch.cat((a, b), 1))"
   ]
  },
  {
   "cell_type": "markdown",
   "metadata": {},
   "source": [
    "### Using stack()"
   ]
  },
  {
   "cell_type": "code",
   "execution_count": 22,
   "metadata": {},
   "outputs": [
    {
     "name": "stdout",
     "output_type": "stream",
     "text": [
      "T1: tensor([1., 2., 3., 4.])\n",
      "T2: tensor([0., 3., 4., 1.])\n",
      "T3: tensor([4., 3., 2., 5.])\n",
      "join(stack) tensors\n",
      "T:\n",
      " tensor([[1., 2., 3., 4.],\n",
      "        [0., 3., 4., 1.],\n",
      "        [4., 3., 2., 5.]])\n",
      "join(stack) tensors in the 0 dimension\n",
      "T:\n",
      " tensor([[1., 2., 3., 4.],\n",
      "        [0., 3., 4., 1.],\n",
      "        [4., 3., 2., 5.]])\n",
      "join(stack) tensors in the -1 dimension\n",
      "T:\n",
      " tensor([[1., 0., 4.],\n",
      "        [2., 3., 3.],\n",
      "        [3., 4., 2.],\n",
      "        [4., 1., 5.]])\n"
     ]
    }
   ],
   "source": [
    "# Python program to join tensors in PyTorch\n",
    "# import necessary library\n",
    "import torch\n",
    "\n",
    "# create tensors\n",
    "T1 = torch.Tensor([1,2,3,4])\n",
    "T2 = torch.Tensor([0,3,4,1])\n",
    "T3 = torch.Tensor([4,3,2,5])\n",
    "\n",
    "# print above created tensors\n",
    "print(\"T1:\", T1)\n",
    "print(\"T2:\", T2)\n",
    "print(\"T3:\", T3)\n",
    "\n",
    "# join above tensor using \"torch.stack()\"\n",
    "print(\"join(stack) tensors\")\n",
    "T = torch.stack((T1,T2,T3))\n",
    "\n",
    "# print final tensor after join\n",
    "print(\"T:\\n\",T)\n",
    "print(\"join(stack) tensors in the 0 dimension\")\n",
    "T = torch.stack((T1,T2,T3), 0)\n",
    "\n",
    "print(\"T:\\n\", T)\n",
    "print(\"join(stack) tensors in the -1 dimension\")\n",
    "T = torch.stack((T1,T2,T3), -1)\n",
    "print(\"T:\\n\", T)"
   ]
  },
  {
   "cell_type": "code",
   "execution_count": 23,
   "metadata": {},
   "outputs": [
    {
     "name": "stdout",
     "output_type": "stream",
     "text": [
      "T1:\n",
      " tensor([[1., 2.],\n",
      "        [3., 4.]])\n",
      "T2:\n",
      " tensor([[0., 3.],\n",
      "        [4., 1.]])\n",
      "T3:\n",
      " tensor([[4., 3.],\n",
      "        [2., 5.]])\n",
      "Join (stack)tensors in the 0 dimension\n",
      "T:\n",
      " tensor([[[1., 2.],\n",
      "         [3., 4.]],\n",
      "\n",
      "        [[0., 3.],\n",
      "         [4., 1.]],\n",
      "\n",
      "        [[4., 3.],\n",
      "         [2., 5.]]])\n",
      "Join(stack) tensors in the -1 dimension\n",
      "T:\n",
      " tensor([[[1., 0., 4.],\n",
      "         [2., 3., 3.]],\n",
      "\n",
      "        [[3., 4., 2.],\n",
      "         [4., 1., 5.]]])\n"
     ]
    }
   ],
   "source": [
    "# import necessary library\n",
    "import torch\n",
    "\n",
    "# create tensors\n",
    "T1 = torch.Tensor([[1,2],[3,4]])\n",
    "T2 = torch.Tensor([[0,3],[4,1]])\n",
    "T3 = torch.Tensor([[4,3],[2,5]])\n",
    "\n",
    "# print above created tensors\n",
    "print(\"T1:\\n\", T1)\n",
    "print(\"T2:\\n\", T2)\n",
    "print(\"T3:\\n\", T3)\n",
    "\n",
    "print(\"Join (stack)tensors in the 0 dimension\")\n",
    "T = torch.stack((T1,T2,T3), 0)\n",
    "print(\"T:\\n\", T)\n",
    "\n",
    "print(\"Join(stack) tensors in the -1 dimension\")\n",
    "T = torch.stack((T1,T2,T3), -1)\n",
    "print(\"T:\\n\", T)"
   ]
  },
  {
   "cell_type": "code",
   "execution_count": 24,
   "metadata": {},
   "outputs": [
    {
     "name": "stdout",
     "output_type": "stream",
     "text": [
      "Name,Kushi,Class,LKG\n"
     ]
    }
   ],
   "source": [
    "dictionary = {'Name': 'Kushi', 'Class': 'LKG'}\n",
    "new_dict= ','.join(map(','.join, dictionary.items()))\n",
    "print(new_dict)"
   ]
  },
  {
   "cell_type": "code",
   "execution_count": 2,
   "metadata": {},
   "outputs": [
    {
     "name": "stdout",
     "output_type": "stream",
     "text": [
      "['apple', 'banana', 'cherry', ['Ford', 'BMW', 'Volvo']]\n"
     ]
    }
   ],
   "source": [
    "a = [\"apple\", \"banana\", \"cherry\"]\n",
    "b = [\"Ford\", \"BMW\", \"Volvo\"]\n",
    "a.append(b)\n",
    "print(a)"
   ]
  },
  {
   "cell_type": "markdown",
   "metadata": {},
   "source": [
    "## Reshape tensors"
   ]
  },
  {
   "cell_type": "code",
   "execution_count": 59,
   "metadata": {},
   "outputs": [
    {
     "name": "stdout",
     "output_type": "stream",
     "text": [
      "torch.Size([16, 60])\n",
      "16\n"
     ]
    }
   ],
   "source": [
    "import torch\n",
    "\n",
    "procs = 16\n",
    "num_units = 5\n",
    "img_size = 64\n",
    "hidden_size = img_size // num_units\n",
    "mem_size = num_units*(img_size // num_units)\n",
    "\n",
    "x = torch.randn(procs, mem_size)\n",
    "print(x.size())\n",
    "print(x.size(0))\n"
   ]
  },
  {
   "cell_type": "code",
   "execution_count": 58,
   "metadata": {},
   "outputs": [
    {
     "name": "stdout",
     "output_type": "stream",
     "text": [
      "torch.Size([16, 5, 12])\n"
     ]
    }
   ],
   "source": [
    "y = x.view(x.size(0),num_units,-1)\n",
    "print(y.size())"
   ]
  },
  {
   "cell_type": "code",
   "execution_count": 22,
   "metadata": {},
   "outputs": [
    {
     "name": "stdout",
     "output_type": "stream",
     "text": [
      "tensor([[-0.6404,  1.3916,  0.5072,  0.9984],\n",
      "        [ 0.0878, -0.7080,  0.6619,  0.0041]])\n",
      "tensor(-0.7080)\n",
      "tensor([[[-0.6404,  1.3916,  0.5072,  0.9984]],\n",
      "\n",
      "        [[ 0.0878, -0.7080,  0.6619,  0.0041]]])\n",
      "tensor(-0.7080)\n"
     ]
    }
   ],
   "source": [
    "x = torch.randn(2, 4)\n",
    "print(x)\n",
    "print(x[1][1])\n",
    "xx = x.unsqueeze(1)\n",
    "print(xx)\n",
    "print(xx[1][0][1])"
   ]
  },
  {
   "cell_type": "code",
   "execution_count": 27,
   "metadata": {},
   "outputs": [
    {
     "name": "stdout",
     "output_type": "stream",
     "text": [
      "torch.Size([8, 64])\n",
      "torch.Size([8, 1, 64])\n"
     ]
    }
   ],
   "source": [
    "x = torch.randn(8, 64)\n",
    "print(x.size())\n",
    "xx = x.unsqueeze(1)\n",
    "print(xx.size())"
   ]
  },
  {
   "cell_type": "markdown",
   "metadata": {},
   "source": [
    "## Optimizer parameter groups"
   ]
  },
  {
   "cell_type": "code",
   "execution_count": 8,
   "metadata": {},
   "outputs": [
    {
     "name": "stdout",
     "output_type": "stream",
     "text": [
      "[{'params': [tensor([[ 0.8359, -0.2358,  1.7205],\n",
      "        [ 0.2683, -0.9925,  0.1718],\n",
      "        [ 0.1968, -0.3249, -0.2430]], requires_grad=True)], 'lr': 0.001, 'betas': (0.9, 0.999), 'eps': 1e-08, 'weight_decay': 0, 'amsgrad': False}]\n",
      "<class 'torch.optim.adam.Adam'>\n"
     ]
    }
   ],
   "source": [
    "import torch\n",
    "import torch.optim as optim\n",
    "\n",
    "\n",
    "w1 = torch.randn(3, 3)\n",
    "w1.requires_grad = True\n",
    "w2 = torch.randn(3, 3)\n",
    "w2.requires_grad = True\n",
    "o = optim.Adam([w1])\n",
    "print(o.param_groups)\n",
    "print(type(o))"
   ]
  },
  {
   "cell_type": "code",
   "execution_count": 9,
   "metadata": {},
   "outputs": [
    {
     "name": "stdout",
     "output_type": "stream",
     "text": [
      "[{'params': [tensor([[ 0.8359, -0.2358,  1.7205],\n",
      "        [ 0.2683, -0.9925,  0.1718],\n",
      "        [ 0.1968, -0.3249, -0.2430]], requires_grad=True)], 'lr': 0.001, 'betas': (0.9, 0.999), 'eps': 1e-08, 'weight_decay': 0, 'amsgrad': False}, {'params': [tensor([[ 0.0881,  0.3921,  1.9908],\n",
      "        [ 0.4503, -0.3137, -0.7562],\n",
      "        [-0.6558,  0.7539,  0.6395]], requires_grad=True)], 'lr': 0.1, 'betas': (0.9, 0.999), 'eps': 1e-08, 'weight_decay': 0, 'amsgrad': False}]\n"
     ]
    }
   ],
   "source": [
    "# add new param group with own lr\n",
    "o.add_param_group({'params': w2, 'lr': 1e-1})\n",
    "print(o.param_groups)"
   ]
  },
  {
   "cell_type": "code",
   "execution_count": 53,
   "metadata": {},
   "outputs": [],
   "source": [
    "import torch.nn as nn\n",
    "import torch.optim\n",
    "\n",
    "net = nn.Sequential(\n",
    "    nn.Linear(1, 3),\n",
    "    nn.Linear(3, 5),\n",
    "    nn.Linear(5, 1)\n",
    ")\n",
    "\n",
    "opt1 = torch.optim.Adam(params=net[0].parameters(), lr=0.1)\n",
    "# add several sets of parameters under same group\n",
    "opt2 = torch.optim.Adam(params=[*net[1].parameters(), *net[2].parameters()], lr=0.001)"
   ]
  },
  {
   "cell_type": "code",
   "execution_count": 51,
   "metadata": {},
   "outputs": [
    {
     "name": "stdout",
     "output_type": "stream",
     "text": [
      "[{'params': [Parameter containing:\n",
      "tensor([[-0.0553, -0.5476,  0.2743],\n",
      "        [-0.1505, -0.1308,  0.2236],\n",
      "        [ 0.4361, -0.4416,  0.1806],\n",
      "        [ 0.1396, -0.5152,  0.2281],\n",
      "        [-0.2189, -0.5197,  0.1517]], requires_grad=True), Parameter containing:\n",
      "tensor([ 0.1861,  0.4835, -0.1680,  0.4405,  0.2483], requires_grad=True), Parameter containing:\n",
      "tensor([[ 0.2723,  0.0223, -0.3387,  0.3122,  0.2869]], requires_grad=True), Parameter containing:\n",
      "tensor([0.1453], requires_grad=True)], 'lr': 0.001, 'betas': (0.9, 0.999), 'eps': 1e-08, 'weight_decay': 0, 'amsgrad': False, 'maximize': False, 'foreach': None, 'capturable': False}]\n"
     ]
    }
   ],
   "source": [
    "print(opt2.param_groups)"
   ]
  },
  {
   "cell_type": "code",
   "execution_count": 7,
   "metadata": {},
   "outputs": [],
   "source": [
    "import torch.nn as nn\n",
    "import torch.optim\n",
    "\n",
    "minet = nn.Module()\n",
    "minet.linear1 = nn.Sequential(\n",
    "    nn.Linear(1, 3),\n",
    "    nn.Linear(3, 5),\n",
    "    nn.Linear(5, 1)\n",
    ")\n",
    "\n",
    "minet.linear2 = nn.Sequential(\n",
    "    nn.Linear(1, 4),\n",
    "    nn.Linear(4, 8),\n",
    "    nn.Linear(8, 1)\n",
    ")\n",
    "\n",
    "minet.linear3 = nn.Sequential(\n",
    "    nn.Linear(1, 2),\n",
    "    nn.Linear(2, 4),\n",
    "    nn.Linear(4, 1)\n",
    ")\n",
    "\n",
    "opt = torch.optim.Adam(params=minet.parameters(), lr=0.1)"
   ]
  },
  {
   "cell_type": "code",
   "execution_count": 9,
   "metadata": {},
   "outputs": [
    {
     "name": "stdout",
     "output_type": "stream",
     "text": [
      "[{'params': [Parameter containing:\n",
      "tensor([[ 0.5115],\n",
      "        [-0.1744],\n",
      "        [-0.5801]], requires_grad=True), Parameter containing:\n",
      "tensor([ 0.9481, -0.3183, -0.0052], requires_grad=True), Parameter containing:\n",
      "tensor([[ 0.3654, -0.1769, -0.0197],\n",
      "        [ 0.4849, -0.0077, -0.1101],\n",
      "        [ 0.0595, -0.1652, -0.1800],\n",
      "        [ 0.4834,  0.4457,  0.5394],\n",
      "        [ 0.0611, -0.5246,  0.4998]], requires_grad=True), Parameter containing:\n",
      "tensor([ 0.3877,  0.3558, -0.2553, -0.3426, -0.0570], requires_grad=True), Parameter containing:\n",
      "tensor([[ 0.2762, -0.4364, -0.1395,  0.0304,  0.3995]], requires_grad=True), Parameter containing:\n",
      "tensor([0.3906], requires_grad=True), Parameter containing:\n",
      "tensor([[-0.7687],\n",
      "        [-0.5739],\n",
      "        [-0.0855],\n",
      "        [ 0.7660]], requires_grad=True), Parameter containing:\n",
      "tensor([-0.1951, -0.3155, -0.1701, -0.3888], requires_grad=True), Parameter containing:\n",
      "tensor([[-0.3788, -0.3123,  0.4817,  0.4455],\n",
      "        [ 0.2345, -0.3259, -0.4985,  0.0034],\n",
      "        [-0.0890, -0.2540,  0.2981, -0.1639],\n",
      "        [-0.0145,  0.3680,  0.4005, -0.1339],\n",
      "        [-0.1124, -0.0441,  0.3635,  0.2342],\n",
      "        [ 0.3450,  0.3110,  0.2812, -0.1943],\n",
      "        [-0.2120, -0.4852,  0.3547, -0.4306],\n",
      "        [-0.4428,  0.3192, -0.0333,  0.0413]], requires_grad=True), Parameter containing:\n",
      "tensor([-0.2265, -0.2607, -0.2318, -0.3721, -0.0100,  0.4209, -0.2616,  0.2169],\n",
      "       requires_grad=True), Parameter containing:\n",
      "tensor([[ 0.0685,  0.3013,  0.3066,  0.3187, -0.1728,  0.0670, -0.0493, -0.1225]],\n",
      "       requires_grad=True), Parameter containing:\n",
      "tensor([-0.3369], requires_grad=True), Parameter containing:\n",
      "tensor([[-0.0646],\n",
      "        [ 0.9877]], requires_grad=True), Parameter containing:\n",
      "tensor([0.5765, 0.0840], requires_grad=True), Parameter containing:\n",
      "tensor([[ 0.6270, -0.2548],\n",
      "        [ 0.2080,  0.5551],\n",
      "        [ 0.4005,  0.5395],\n",
      "        [-0.4873, -0.5238]], requires_grad=True), Parameter containing:\n",
      "tensor([ 0.4214,  0.4028, -0.4321, -0.5054], requires_grad=True), Parameter containing:\n",
      "tensor([[-0.1921,  0.4781,  0.3624,  0.0668]], requires_grad=True), Parameter containing:\n",
      "tensor([0.3325], requires_grad=True)], 'lr': 0.1, 'betas': (0.9, 0.999), 'eps': 1e-08, 'weight_decay': 0, 'amsgrad': False, 'maximize': False, 'foreach': None, 'capturable': False}]\n"
     ]
    }
   ],
   "source": [
    "print(opt.param_groups)"
   ]
  },
  {
   "cell_type": "code",
   "execution_count": 70,
   "metadata": {},
   "outputs": [],
   "source": [
    "# delete param_groups after it has been created\n",
    "del opt.param_groups[0]"
   ]
  },
  {
   "cell_type": "code",
   "execution_count": 71,
   "metadata": {},
   "outputs": [],
   "source": [
    "# re-assign param_groups\n",
    "opt.add_param_group({'params': minet.linear1.parameters(), 'lr': 2e-1})\n",
    "opt.add_param_group({'params': [*minet.linear2.parameters(), *minet.linear3.parameters()], 'lr': 5e-1})"
   ]
  },
  {
   "cell_type": "code",
   "execution_count": 72,
   "metadata": {},
   "outputs": [
    {
     "name": "stdout",
     "output_type": "stream",
     "text": [
      "[{'params': [Parameter containing:\n",
      "tensor([[-0.0821],\n",
      "        [-0.5898],\n",
      "        [ 0.9587]], requires_grad=True), Parameter containing:\n",
      "tensor([ 0.0660,  0.3029, -0.7830], requires_grad=True), Parameter containing:\n",
      "tensor([[-0.0279,  0.0895,  0.4057],\n",
      "        [-0.3290, -0.2559,  0.0500],\n",
      "        [-0.0235, -0.5398,  0.0434],\n",
      "        [-0.3965, -0.2057,  0.3941],\n",
      "        [ 0.2467,  0.1260,  0.0426]], requires_grad=True), Parameter containing:\n",
      "tensor([-0.0284, -0.2887,  0.3376,  0.4127, -0.1698], requires_grad=True), Parameter containing:\n",
      "tensor([[-0.3080, -0.2699, -0.3972, -0.1797, -0.1832]], requires_grad=True), Parameter containing:\n",
      "tensor([0.2287], requires_grad=True)], 'lr': 0.2, 'betas': (0.9, 0.999), 'eps': 1e-08, 'weight_decay': 0, 'amsgrad': False, 'maximize': False, 'foreach': None, 'capturable': False}, {'params': [Parameter containing:\n",
      "tensor([[ 0.9597],\n",
      "        [-0.2950],\n",
      "        [-0.0314],\n",
      "        [-0.0881]], requires_grad=True), Parameter containing:\n",
      "tensor([ 0.7879, -0.1337,  0.9978, -0.7566], requires_grad=True), Parameter containing:\n",
      "tensor([[ 0.1196,  0.2742, -0.1903, -0.0365],\n",
      "        [ 0.3787,  0.2624,  0.4182,  0.1741],\n",
      "        [ 0.0243, -0.0519, -0.4854,  0.3525],\n",
      "        [-0.4039, -0.2860,  0.4527,  0.1046],\n",
      "        [-0.0837,  0.3068,  0.0203, -0.0966],\n",
      "        [ 0.4900, -0.4178, -0.0860,  0.4714],\n",
      "        [ 0.0559, -0.4950,  0.0026, -0.0366],\n",
      "        [-0.3737, -0.2318,  0.3134,  0.0204]], requires_grad=True), Parameter containing:\n",
      "tensor([-0.0464, -0.2855, -0.3101,  0.1549, -0.2048, -0.1255, -0.2812, -0.3734],\n",
      "       requires_grad=True), Parameter containing:\n",
      "tensor([[ 0.2881, -0.1893, -0.1331, -0.2091, -0.3383, -0.2205,  0.1196, -0.2250]],\n",
      "       requires_grad=True), Parameter containing:\n",
      "tensor([-0.0721], requires_grad=True), Parameter containing:\n",
      "tensor([[-0.0416],\n",
      "        [-0.5560]], requires_grad=True), Parameter containing:\n",
      "tensor([-0.1366, -0.9002], requires_grad=True), Parameter containing:\n",
      "tensor([[0.0663, 0.3424],\n",
      "        [0.3110, 0.3451]], requires_grad=True), Parameter containing:\n",
      "tensor([0.4507, 0.6097], requires_grad=True)], 'lr': 0.5, 'betas': (0.9, 0.999), 'eps': 1e-08, 'weight_decay': 0, 'amsgrad': False, 'maximize': False, 'foreach': None, 'capturable': False}]\n"
     ]
    }
   ],
   "source": [
    "print(opt.param_groups)"
   ]
  },
  {
   "cell_type": "code",
   "execution_count": 49,
   "metadata": {},
   "outputs": [
    {
     "name": "stdout",
     "output_type": "stream",
     "text": [
      "0.2\n",
      "0.5\n"
     ]
    }
   ],
   "source": [
    "for g in opt.param_groups:\n",
    "    print(g['lr'])"
   ]
  },
  {
   "cell_type": "code",
   "execution_count": null,
   "metadata": {},
   "outputs": [],
   "source": [
    "for g in opt.param_groups:\n",
    "    g['lr'] = 0.0025"
   ]
  },
  {
   "cell_type": "code",
   "execution_count": null,
   "metadata": {},
   "outputs": [],
   "source": [
    "print(opt.param_groups)"
   ]
  },
  {
   "cell_type": "markdown",
   "metadata": {},
   "source": [
    "## Tensor operations"
   ]
  },
  {
   "cell_type": "code",
   "execution_count": 14,
   "metadata": {},
   "outputs": [
    {
     "name": "stdout",
     "output_type": "stream",
     "text": [
      "tensor([[ 1.0427, -0.7606],\n",
      "        [ 0.6839,  0.6828]])\n",
      "tensor(3.1701)\n",
      "tensor(1.6124)\n",
      "tensor([1.2907, 0.9665])\n"
     ]
    }
   ],
   "source": [
    "import torch\n",
    "import torch.nn as nn\n",
    "\n",
    "w = torch.randn(2, 2)\n",
    "print(w)\n",
    "print(w.norm(1))\n",
    "print(w.norm(2))\n",
    "print(w.pow(2).sum(dim=1).sqrt())"
   ]
  },
  {
   "cell_type": "markdown",
   "metadata": {},
   "source": [
    "## Misc"
   ]
  },
  {
   "cell_type": "code",
   "execution_count": 2,
   "metadata": {},
   "outputs": [
    {
     "name": "stdout",
     "output_type": "stream",
     "text": [
      "0.8229138851824492\n",
      "32660\n"
     ]
    }
   ],
   "source": [
    "import random\n",
    "\n",
    "threshold = 0.80\n",
    "window = 10\n",
    "rreturn_total = 0\n",
    "i = 0\n",
    "\n",
    "num_frames = 0\n",
    "frames = 1000000\n",
    "\n",
    "while num_frames < frames:\n",
    "    num_frames+=1\n",
    "    rreturn_per_episode = random.random()\n",
    "    rreturn_total +=rreturn_per_episode\n",
    "    i+=1\n",
    "    if num_frames < frames:\n",
    "        if i >= window:\n",
    "            rreturn_mavg = rreturn_total / i\n",
    "            if rreturn_mavg >= threshold:\n",
    "                print(rreturn_mavg) \n",
    "                print(num_frames)\n",
    "                break\n",
    "            else:\n",
    "                i = 0\n",
    "                rreturn_total = 0\n",
    "\n"
   ]
  },
  {
   "cell_type": "code",
   "execution_count": 3,
   "metadata": {},
   "outputs": [
    {
     "name": "stdout",
     "output_type": "stream",
     "text": [
      "<class 'dict'>\n"
     ]
    }
   ],
   "source": [
    "a={'a':False}\n",
    "print(type(a))"
   ]
  },
  {
   "cell_type": "code",
   "execution_count": 17,
   "metadata": {},
   "outputs": [
    {
     "name": "stdout",
     "output_type": "stream",
     "text": [
      "torch.Size([16, 1])\n",
      "torch.Size([1, 16, 510])\n"
     ]
    }
   ],
   "source": [
    "import torch\n",
    "import torch.nn as nn\n",
    "\n",
    "m = nn.Linear(510, 1)\n",
    "input = torch.randn(16,510)\n",
    "\n",
    "output = m(input)\n",
    "print(output.size())\n",
    "print(input.unsqueeze(0).shape)"
   ]
  },
  {
   "cell_type": "code",
   "execution_count": 6,
   "metadata": {},
   "outputs": [
    {
     "name": "stdout",
     "output_type": "stream",
     "text": [
      "torch.Size([1, 16, 510])\n",
      "torch.Size([16, 510])\n",
      "torch.Size([16, 510])\n",
      "torch.Size([1, 16, 510])\n"
     ]
    }
   ],
   "source": [
    "import torch\n",
    "import torch.nn as nn\n",
    "\n",
    "nhid = 510\n",
    "ntoken = 1\n",
    "decoder = nn.Linear(nhid, ntoken)\n",
    "\n",
    "output = torch.randn(1,16,510)\n",
    "print(output.shape)\n",
    "dec = output.view(output.size(0) * output.size(1), nhid)\n",
    "print(dec.shape)\n",
    "#dec = decoder(dec)\n",
    "print(dec.shape)\n",
    "x = dec.view(output.size(0), output.size(1), dec.size(1))\n",
    "print(x.shape)"
   ]
  },
  {
   "cell_type": "code",
   "execution_count": 5,
   "metadata": {},
   "outputs": [
    {
     "name": "stdout",
     "output_type": "stream",
     "text": [
      "True\n",
      "False\n",
      "True\n"
     ]
    }
   ],
   "source": [
    "flag = True\n",
    "print(flag)\n",
    "flag = not(flag)\n",
    "print(flag)\n",
    "flag = not(flag)\n",
    "print(flag)"
   ]
  },
  {
   "cell_type": "code",
   "execution_count": null,
   "metadata": {},
   "outputs": [],
   "source": [
    "import numpy as np\n",
    "a = np.array([[10, 7, 4], [3, 2, 1]])\n",
    "print(a)\n",
    "print(np.median(a, axis=0))\n",
    "print(np.median(a, axis=1))\n",
    "\n",
    "b = np.array([10, 7, 899, 884])\n",
    "print(b)\n",
    "print(np.median(b, axis=0))\n",
    "\n"
   ]
  },
  {
   "cell_type": "code",
   "execution_count": 42,
   "metadata": {},
   "outputs": [
    {
     "name": "stdout",
     "output_type": "stream",
     "text": [
      "[[1 2]\n",
      " [3 4]\n",
      " [5 6]]\n",
      "[7 7]\n",
      "[[4 5 6 7]\n",
      " [4 5 6 7]]\n"
     ]
    }
   ],
   "source": [
    "a = np.array([[1, 2], [3, 4]])\n",
    "b = np.array([[5, 6]])\n",
    "print(np.concatenate((a, b), axis=0))\n",
    "\n",
    "d = np.array(7, ndmin=1)\n",
    "c = np.concatenate((d, d), axis=0)\n",
    "print(c)\n",
    "\n",
    "e = np.array([4,5,6,7], ndmin=2)\n",
    "e2 = np.array([4,5,6,7], ndmin=2)\n",
    "e3 = np.concatenate((e, e2), axis=0)\n",
    "print(e3)"
   ]
  },
  {
   "cell_type": "code",
   "execution_count": 2,
   "metadata": {},
   "outputs": [
    {
     "name": "stdout",
     "output_type": "stream",
     "text": [
      "\u001b[3mm\u001b[0m\n"
     ]
    }
   ],
   "source": [
    "print(\"\\x1B[3mm\\x1B[0m\")"
   ]
  },
  {
   "cell_type": "code",
   "execution_count": 37,
   "metadata": {},
   "outputs": [
    {
     "name": "stdout",
     "output_type": "stream",
     "text": [
      "pepe\n",
      "jose\n",
      "carlos\n",
      "Pepe\n",
      "Jose\n",
      "Carlos\n"
     ]
    }
   ],
   "source": [
    "class Student:\n",
    "    def __init__(self, name_list): \n",
    "        name_list = name_list    #name created in constructor \n",
    "    def get_student_name(self): \n",
    "        return name \n",
    "    def assing_new(self):\n",
    "        for i, name in enumerate(name_list):\n",
    "            name_list[i] = name.capitalize()\n",
    "    def get_names(self):\n",
    "        for name in name_list:\n",
    "            print(name)\n",
    "\n",
    "name_list = ['pepe', 'jose', 'carlos']\n",
    "new_student = Student(name_list)\n",
    "new_student.get_names()\n",
    "new_student.assing_new()\n",
    "new_student.get_names()\n",
    "\n"
   ]
  },
  {
   "cell_type": "code",
   "execution_count": 27,
   "metadata": {},
   "outputs": [
    {
     "data": {
      "text/plain": [
       "[['pepe', 'ok'], ['jose', 'ok'], ['carlos', 'ok']]"
      ]
     },
     "execution_count": 27,
     "metadata": {},
     "output_type": "execute_result"
    }
   ],
   "source": [
    "new_student.name_list"
   ]
  },
  {
   "cell_type": "code",
   "execution_count": 21,
   "metadata": {},
   "outputs": [
    {
     "name": "stdout",
     "output_type": "stream",
     "text": [
      "['fsfs', 'ok']\n"
     ]
    }
   ],
   "source": [
    "a ='fsfs'\n",
    "a =[a]\n",
    "a.append('ok')\n",
    "print(a)"
   ]
  },
  {
   "cell_type": "code",
   "execution_count": 20,
   "metadata": {},
   "outputs": [
    {
     "name": "stdout",
     "output_type": "stream",
     "text": [
      "['fsfs', 'wfw', 'wfw']\n"
     ]
    }
   ],
   "source": [
    "a.append('wfw')\n",
    "print(a)"
   ]
  },
  {
   "cell_type": "markdown",
   "metadata": {},
   "source": [
    "Ejemplo cumsum over a Tensor"
   ]
  },
  {
   "cell_type": "code",
   "execution_count": 1,
   "metadata": {},
   "outputs": [
    {
     "name": "stdout",
     "output_type": "stream",
     "text": [
      "tensor([1, 2, 3, 4, 5])\n",
      "tensor([ 1,  3,  6, 10, 15])\n"
     ]
    }
   ],
   "source": [
    "import torch\n",
    "\n",
    "test = torch.tensor([1, 2, 3, 4, 5])\n",
    "print(test)\n",
    "print(torch.cumsum(test, dim=0))"
   ]
  },
  {
   "cell_type": "code",
   "execution_count": 7,
   "metadata": {},
   "outputs": [
    {
     "name": "stdout",
     "output_type": "stream",
     "text": [
      "tensor([0.5111, 0.5984, 0.9325, 0.3230, 0.2415, 0.6994, 0.0843, 0.8987, 0.2394,\n",
      "        0.9355, 0.2707, 0.2377, 0.8491, 0.7620, 0.9087, 0.9858, 0.5329, 0.1053,\n",
      "        0.1308, 0.8978, 0.4978, 0.9903, 0.9716, 0.9106, 0.2139, 0.8016, 0.8937,\n",
      "        0.3293, 0.1992, 0.3946, 0.9367, 0.9142])\n",
      "(tensor([0.5111, 0.5984, 0.9325, 0.3230, 0.2415, 0.6994, 0.0843, 0.8987]), tensor([0.2394, 0.9355, 0.2707, 0.2377, 0.8491, 0.7620, 0.9087, 0.9858]), tensor([0.5329, 0.1053, 0.1308, 0.8978, 0.4978, 0.9903, 0.9716, 0.9106]), tensor([0.2139, 0.8016, 0.8937, 0.3293, 0.1992, 0.3946, 0.9367, 0.9142]))\n"
     ]
    }
   ],
   "source": [
    "import torch\n",
    "cascade_depth = 8\n",
    "results = torch.rand(32)\n",
    "print(results)\n",
    "print(tuple(results[i:i+cascade_depth] for i in range(0,len(results), cascade_depth)))"
   ]
  },
  {
   "cell_type": "markdown",
   "metadata": {},
   "source": [
    "Ejemplo scatter plot"
   ]
  },
  {
   "cell_type": "code",
   "execution_count": 48,
   "metadata": {},
   "outputs": [],
   "source": [
    "import numpy as np\n",
    "import matplotlib.pyplot as plt\n",
    "\n",
    "np.random.seed(19680801)"
   ]
  },
  {
   "cell_type": "code",
   "execution_count": 49,
   "metadata": {},
   "outputs": [],
   "source": [
    "N = 200\n",
    "r = 2 * np.random.rand(N)\n",
    "theta = 2 * np.pi * np.random.rand(N)\n",
    "area = 250 * r**2\n",
    "colors = theta"
   ]
  },
  {
   "cell_type": "code",
   "execution_count": 60,
   "metadata": {},
   "outputs": [
    {
     "data": {
      "image/png": "[encoded data removed]",
      "text/plain": [
       "<Figure size 640x480 with 1 Axes>"
      ]
     },
     "metadata": {},
     "output_type": "display_data"
    }
   ],
   "source": [
    "fig = plt.figure()\n",
    "ax = fig.add_subplot(111, projection='polar')\n",
    "c = ax.scatter(theta, r, c=colors, s=area, cmap='hsv', alpha=0.75)"
   ]
  },
  {
   "cell_type": "markdown",
   "metadata": {},
   "source": [
    "Ejemplo Pandas"
   ]
  },
  {
   "cell_type": "code",
   "execution_count": 61,
   "metadata": {},
   "outputs": [],
   "source": [
    "import numpy as np\n",
    "import pandas as pd\n",
    "import matplotlib.pyplot as py\n",
    "import statsmodels.api as sm\n",
    "#import seaborn\n",
    "#seaborn.set()"
   ]
  },
  {
   "cell_type": "code",
   "execution_count": 64,
   "metadata": {},
   "outputs": [
    {
     "data": {
      "text/plain": [
       "[['Monica', 16, 85, 'USA'],\n",
       " ['Lisa', 16, 88, 'Brazil'],\n",
       " ['Harley', 17, 65, 'Sweeden'],\n",
       " ['Roy', 18, 65, 'Brazil'],\n",
       " ['Recardo', 17, 79, 'Ireland']]"
      ]
     },
     "execution_count": 64,
     "metadata": {},
     "output_type": "execute_result"
    }
   ],
   "source": [
    "data = [['Monica',16,85,'USA'],['Lisa',16,88,'Brazil'],['Harley',17,65,'Sweeden'],['Roy',18,65,'Brazil'],['Recardo',17,79,'Ireland']]"
   ]
  },
  {
   "cell_type": "code",
   "execution_count": 67,
   "metadata": {},
   "outputs": [
    {
     "data": {
      "text/html": [
       "<div>\n",
       "<style scoped>\n",
       "    .dataframe tbody tr th:only-of-type {\n",
       "        vertical-align: middle;\n",
       "    }\n",
       "\n",
       "    .dataframe tbody tr th {\n",
       "        vertical-align: top;\n",
       "    }\n",
       "\n",
       "    .dataframe thead th {\n",
       "        text-align: right;\n",
       "    }\n",
       "</style>\n",
       "<table border=\"1\" class=\"dataframe\">\n",
       "  <thead>\n",
       "    <tr style=\"text-align: right;\">\n",
       "      <th></th>\n",
       "      <th>Name</th>\n",
       "      <th>Age</th>\n",
       "      <th>Marks</th>\n",
       "      <th>Country</th>\n",
       "    </tr>\n",
       "  </thead>\n",
       "  <tbody>\n",
       "    <tr>\n",
       "      <th>0</th>\n",
       "      <td>Monica</td>\n",
       "      <td>16</td>\n",
       "      <td>85</td>\n",
       "      <td>USA</td>\n",
       "    </tr>\n",
       "    <tr>\n",
       "      <th>1</th>\n",
       "      <td>Lisa</td>\n",
       "      <td>16</td>\n",
       "      <td>88</td>\n",
       "      <td>Brazil</td>\n",
       "    </tr>\n",
       "    <tr>\n",
       "      <th>2</th>\n",
       "      <td>Harley</td>\n",
       "      <td>17</td>\n",
       "      <td>65</td>\n",
       "      <td>Sweeden</td>\n",
       "    </tr>\n",
       "    <tr>\n",
       "      <th>3</th>\n",
       "      <td>Roy</td>\n",
       "      <td>18</td>\n",
       "      <td>65</td>\n",
       "      <td>Brazil</td>\n",
       "    </tr>\n",
       "    <tr>\n",
       "      <th>4</th>\n",
       "      <td>Recardo</td>\n",
       "      <td>17</td>\n",
       "      <td>79</td>\n",
       "      <td>Ireland</td>\n",
       "    </tr>\n",
       "  </tbody>\n",
       "</table>\n",
       "</div>"
      ],
      "text/plain": [
       "      Name  Age  Marks  Country\n",
       "0   Monica   16     85      USA\n",
       "1     Lisa   16     88   Brazil\n",
       "2   Harley   17     65  Sweeden\n",
       "3      Roy   18     65   Brazil\n",
       "4  Recardo   17     79  Ireland"
      ]
     },
     "execution_count": 67,
     "metadata": {},
     "output_type": "execute_result"
    }
   ],
   "source": [
    "df = pd.DataFrame(data, columns=['Name','Age','Marks','Country'])\n",
    "df"
   ]
  },
  {
   "cell_type": "code",
   "execution_count": 72,
   "metadata": {},
   "outputs": [
    {
     "name": "stdout",
     "output_type": "stream",
     "text": [
      "76.4\n"
     ]
    }
   ],
   "source": [
    "m = df['Marks'].mean()\n",
    "print(m)"
   ]
  },
  {
   "cell_type": "code",
   "execution_count": 74,
   "metadata": {},
   "outputs": [],
   "source": [
    "df['Results'] = np.where(df['Marks'] >= df['Marks'].mean(), 0.0, 1.0)"
   ]
  },
  {
   "cell_type": "code",
   "execution_count": 76,
   "metadata": {},
   "outputs": [
    {
     "name": "stdout",
     "output_type": "stream",
     "text": [
      "0    0.0\n",
      "1    0.0\n",
      "2    1.1\n",
      "3    1.1\n",
      "4    0.0\n",
      "Name: Results, dtype: float64\n"
     ]
    }
   ],
   "source": [
    "print(df['Results'])"
   ]
  },
  {
   "cell_type": "markdown",
   "metadata": {},
   "source": [
    "Test range"
   ]
  },
  {
   "cell_type": "code",
   "execution_count": 10,
   "metadata": {},
   "outputs": [
    {
     "name": "stdout",
     "output_type": "stream",
     "text": [
      "range(1, cascade_depth)\n",
      "1\n",
      "range(cascade_depth)\n",
      "0\n",
      "1\n"
     ]
    }
   ],
   "source": [
    "cascade_depth = 2\n",
    "\n",
    "print(\"range(1, cascade_depth)\")\n",
    "for i in range(1, cascade_depth):\n",
    "    print(i)\n",
    "\n",
    "print(\"range(cascade_depth)\")\n",
    "for i in range(cascade_depth):\n",
    "    print(i)\n"
   ]
  },
  {
   "cell_type": "markdown",
   "metadata": {},
   "source": [
    "Test list of tensors"
   ]
  },
  {
   "cell_type": "code",
   "execution_count": 13,
   "metadata": {},
   "outputs": [
    {
     "name": "stdout",
     "output_type": "stream",
     "text": [
      "[tensor([1, 2, 3, 4, 5])]\n",
      "[tensor([1, 2, 3, 4, 5]), tensor([9, 2, 3, 4, 5])]\n"
     ]
    }
   ],
   "source": [
    "import torch\n",
    "\n",
    "test = torch.tensor([1, 2, 3, 4, 5])\n",
    "test2 = torch.tensor([9, 2, 3, 4, 5])\n",
    "\n",
    "dist = []\n",
    "dist.append(test)\n",
    "print(dist)\n",
    "dist.append(test2)\n",
    "print(dist)\n"
   ]
  },
  {
   "cell_type": "markdown",
   "metadata": {},
   "source": [
    "Test numpy swapaxes and reshape1"
   ]
  },
  {
   "cell_type": "code",
   "execution_count": 34,
   "metadata": {},
   "outputs": [
    {
     "name": "stdout",
     "output_type": "stream",
     "text": [
      "[[[ 0  1]\n",
      "  [ 2  3]]\n",
      "\n",
      " [[ 4  5]\n",
      "  [ 6  7]]\n",
      "\n",
      " [[ 8  9]\n",
      "  [10 11]]]\n",
      "(3, 2, 2)\n",
      "[[[ 0  1]\n",
      "  [ 4  5]\n",
      "  [ 8  9]]\n",
      "\n",
      " [[ 2  3]\n",
      "  [ 6  7]\n",
      "  [10 11]]]\n",
      "2\n",
      "[[ 0  4  8]\n",
      " [ 2  6 10]\n",
      " [ 1  5  9]\n",
      " [ 3  7 11]]\n"
     ]
    }
   ],
   "source": [
    "import numpy as np\n",
    "\n",
    "def sf01(arr):\n",
    "    \"\"\"\n",
    "    swap and then flatten axes 0 and 1\n",
    "    \"\"\"\n",
    "    s = arr.shape\n",
    "    return arr.swapaxes(0, 1).reshape(s[0] * s[1], *s[2:])\n",
    "\n",
    "def sf012(arr):\n",
    "\n",
    "    s= arr.shape\n",
    "    return arr.swapaxes(0,2).reshape(s[1]*s[2],s[0],*s[3:])\n",
    "\n",
    "a = np.arange(12).reshape((3, 2,2))\n",
    "print(a)\n",
    "print(a.shape)\n",
    "#print(sf01(a))\n",
    "\n",
    "b = a.swapaxes(0,1)\n",
    "print(b)\n",
    "s = a.shape\n",
    "print(*s[2:])\n",
    "print(sf012(a))"
   ]
  },
  {
   "cell_type": "markdown",
   "metadata": {},
   "source": [
    "Test list of cascaded action-tensors"
   ]
  },
  {
   "cell_type": "code",
   "execution_count": 7,
   "metadata": {},
   "outputs": [
    {
     "name": "stdout",
     "output_type": "stream",
     "text": [
      "3 8 4\n",
      "tensor([[[0.6147, 0.3810, 0.6371, 0.4745],\n",
      "         [0.7136, 0.6190, 0.4425, 0.0958],\n",
      "         [0.6142, 0.0573, 0.5657, 0.5332],\n",
      "         [0.3901, 0.9088, 0.5334, 0.7073],\n",
      "         [0.7116, 0.2050, 0.3078, 0.9809],\n",
      "         [0.0103, 0.4660, 0.4604, 0.8547],\n",
      "         [0.4525, 0.6317, 0.4760, 0.2200],\n",
      "         [0.2166, 0.2571, 0.0458, 0.1755]],\n",
      "\n",
      "        [[0.6177, 0.8291, 0.5246, 0.2708],\n",
      "         [0.7197, 0.3081, 0.3892, 0.2259],\n",
      "         [0.3430, 0.0367, 0.7133, 0.6944],\n",
      "         [0.5993, 0.7455, 0.7119, 0.5221],\n",
      "         [0.5530, 0.5382, 0.7668, 0.8359],\n",
      "         [0.8591, 0.7898, 0.3781, 0.4777],\n",
      "         [0.3984, 0.7909, 0.5555, 0.9628],\n",
      "         [0.7536, 0.0727, 0.6463, 0.9804]],\n",
      "\n",
      "        [[0.9441, 0.4921, 0.6659, 0.0310],\n",
      "         [0.3406, 0.7438, 0.0445, 0.9356],\n",
      "         [0.1712, 0.6581, 0.4811, 0.5881],\n",
      "         [0.5484, 0.0326, 0.3926, 0.1839],\n",
      "         [0.9251, 0.4386, 0.0021, 0.6211],\n",
      "         [0.7171, 0.2762, 0.4531, 0.7162],\n",
      "         [0.1889, 0.2357, 0.4518, 0.1489],\n",
      "         [0.8073, 0.5409, 0.7992, 0.7677]]])\n",
      "[tensor([0.7837, 0.6585, 0.8177, 0.8756]), tensor([0.7837, 0.6585, 0.8177, 0.8756]), tensor([0.7837, 0.6585, 0.8177, 0.8756]), tensor([0.7837, 0.6585, 0.8177, 0.8756]), tensor([0.7837, 0.6585, 0.8177, 0.8756]), tensor([0.7837, 0.6585, 0.8177, 0.8756]), tensor([0.7837, 0.6585, 0.8177, 0.8756]), tensor([0.7837, 0.6585, 0.8177, 0.8756])]\n"
     ]
    }
   ],
   "source": [
    "import torch\n",
    "import numpy as np\n",
    "import random\n",
    "\n",
    "def set_all_seeds(seed):\n",
    "  random.seed(seed)\n",
    "  np.random.seed(seed)\n",
    "  torch.manual_seed(seed)\n",
    "  torch.cuda.manual_seed(seed)\n",
    "  torch.backends.cudnn.deterministic = True\n",
    "\n",
    "set_all_seeds(2)\n",
    "\n",
    "cascade_depth = 3\n",
    "num_frames_per_proc = 8\n",
    "num_procs = 4\n",
    "\n",
    "shape = (cascade_depth, num_frames_per_proc, num_procs) \n",
    "all_actions = torch.zeros(*shape, dtype=torch.float)\n",
    "\n",
    "print(*shape)\n",
    "\n",
    "for i in range(cascade_depth):\n",
    "\n",
    "    # for i in range(cascade_depth):\n",
    "    #     n = random.randint(1, 10)\n",
    "    # actions.append(n)\n",
    "    for j in range(num_frames_per_proc):\n",
    "        action = torch.rand(1,num_procs)\n",
    "        all_actions[i][j] = action\n",
    "\n",
    "print(all_actions)\n",
    "\n",
    "\n",
    "shape = (num_frames_per_proc, num_procs) \n",
    "actions = []\n",
    "all_actions = torch.zeros(*shape, dtype=torch.float)\n",
    "all_actions_cascade = []\n",
    "\n",
    "for i in range(num_frames_per_proc):\n",
    "\n",
    "    for j in range(cascade_depth):\n",
    "        action = torch.rand(1,num_procs)\n",
    "        actions.append(action)\n",
    "\n",
    "    for j in range(cascade_depth):\n",
    "        all_actions[i] = actions[j]\n",
    "    \n",
    "    all_actions_cascade.append(all_actions[i])\n",
    "\n",
    "print(all_actions_cascade)\n"
   ]
  },
  {
   "cell_type": "code",
   "execution_count": 8,
   "metadata": {},
   "outputs": [
    {
     "name": "stdout",
     "output_type": "stream",
     "text": [
      "[tensor([[0.6147, 0.3810, 0.6371, 0.4745],\n",
      "        [0.3901, 0.9088, 0.5334, 0.7073],\n",
      "        [0.4525, 0.6317, 0.4760, 0.2200],\n",
      "        [0.7197, 0.3081, 0.3892, 0.2259],\n",
      "        [0.5530, 0.5382, 0.7668, 0.8359],\n",
      "        [0.7536, 0.0727, 0.6463, 0.9804],\n",
      "        [0.1712, 0.6581, 0.4811, 0.5881],\n",
      "        [0.7171, 0.2762, 0.4531, 0.7162]]), tensor([[0.7136, 0.6190, 0.4425, 0.0958],\n",
      "        [0.7116, 0.2050, 0.3078, 0.9809],\n",
      "        [0.2166, 0.2571, 0.0458, 0.1755],\n",
      "        [0.3430, 0.0367, 0.7133, 0.6944],\n",
      "        [0.8591, 0.7898, 0.3781, 0.4777],\n",
      "        [0.9441, 0.4921, 0.6659, 0.0310],\n",
      "        [0.5484, 0.0326, 0.3926, 0.1839],\n",
      "        [0.1889, 0.2357, 0.4518, 0.1489]]), tensor([[0.6142, 0.0573, 0.5657, 0.5332],\n",
      "        [0.0103, 0.4660, 0.4604, 0.8547],\n",
      "        [0.6177, 0.8291, 0.5246, 0.2708],\n",
      "        [0.5993, 0.7455, 0.7119, 0.5221],\n",
      "        [0.3984, 0.7909, 0.5555, 0.9628],\n",
      "        [0.3406, 0.7438, 0.0445, 0.9356],\n",
      "        [0.9251, 0.4386, 0.0021, 0.6211],\n",
      "        [0.8073, 0.5409, 0.7992, 0.7677]])]\n"
     ]
    }
   ],
   "source": [
    "import torch\n",
    "import numpy as np\n",
    "import random\n",
    "\n",
    "set_all_seeds(2)\n",
    "\n",
    "shape = (num_frames_per_proc, num_procs) \n",
    "self_actions = torch.zeros(*shape, dtype=torch.float)\n",
    "#self_actions_cascade = [torch.zeros(*shape, dtype=torch.float) for i in range(cascade_depth)]\n",
    "self_actions_cascade = [self_actions.detach().clone() for i in range(cascade_depth)]\n",
    "\n",
    "for i in range(num_frames_per_proc):\n",
    "    actions = []\n",
    "    for j in range(cascade_depth):\n",
    "        action = torch.rand(num_procs)\n",
    "        actions.append(action)\n",
    "        \n",
    "    for k in range(cascade_depth):\n",
    "        self_actions_cascade[k][i] = actions[k]\n",
    "\n",
    "print(self_actions_cascade)"
   ]
  },
  {
   "cell_type": "code",
   "execution_count": 10,
   "metadata": {},
   "outputs": [
    {
     "name": "stdout",
     "output_type": "stream",
     "text": [
      "[tensor([[0.6147, 0.3810, 0.6371, 0.4745],\n",
      "        [0.3901, 0.9088, 0.5334, 0.7073],\n",
      "        [0.4525, 0.6317, 0.4760, 0.2200],\n",
      "        [0.7197, 0.3081, 0.3892, 0.2259],\n",
      "        [0.5530, 0.5382, 0.7668, 0.8359],\n",
      "        [0.7536, 0.0727, 0.6463, 0.9804],\n",
      "        [0.1712, 0.6581, 0.4811, 0.5881],\n",
      "        [0.7171, 0.2762, 0.4531, 0.7162]]), tensor([[0.7136, 0.6190, 0.4425, 0.0958],\n",
      "        [0.7116, 0.2050, 0.3078, 0.9809],\n",
      "        [0.2166, 0.2571, 0.0458, 0.1755],\n",
      "        [0.3430, 0.0367, 0.7133, 0.6944],\n",
      "        [0.8591, 0.7898, 0.3781, 0.4777],\n",
      "        [0.9441, 0.4921, 0.6659, 0.0310],\n",
      "        [0.5484, 0.0326, 0.3926, 0.1839],\n",
      "        [0.1889, 0.2357, 0.4518, 0.1489]]), tensor([[0.6142, 0.0573, 0.5657, 0.5332],\n",
      "        [0.0103, 0.4660, 0.4604, 0.8547],\n",
      "        [0.6177, 0.8291, 0.5246, 0.2708],\n",
      "        [0.5993, 0.7455, 0.7119, 0.5221],\n",
      "        [0.3984, 0.7909, 0.5555, 0.9628],\n",
      "        [0.3406, 0.7438, 0.0445, 0.9356],\n",
      "        [0.9251, 0.4386, 0.0021, 0.6211],\n",
      "        [0.8073, 0.5409, 0.7992, 0.7677]])]\n"
     ]
    }
   ],
   "source": [
    "set_all_seeds(2)\n",
    "\n",
    "shape = (num_frames_per_proc, num_procs) \n",
    "self_actions = torch.zeros(*shape, dtype=torch.float)\n",
    "#self_actions_cascade = [torch.zeros(*shape, dtype=torch.float) for i in range(cascade_depth)]\n",
    "self_actions_cascade = [self_actions.detach().clone() for i in range(cascade_depth)]\n",
    "\n",
    "for i in range(num_frames_per_proc):\n",
    "    actions = []\n",
    "    for j in range(cascade_depth):\n",
    "        action = torch.rand(num_procs)\n",
    "        actions.append(action)\n",
    "        self_actions_cascade[j][i] = action\n",
    "        \n",
    "print(self_actions_cascade)"
   ]
  },
  {
   "cell_type": "markdown",
   "metadata": {},
   "source": [
    "Test Categorical sample"
   ]
  },
  {
   "cell_type": "code",
   "execution_count": 143,
   "metadata": {},
   "outputs": [
    {
     "name": "stdout",
     "output_type": "stream",
     "text": [
      "tensor([[1, 2, 3, 4, 5, 6, 7, 8, 9, 8, 6, 7, 6, 7],\n",
      "        [1, 2, 3, 4, 5, 6, 7, 8, 9, 8, 6, 7, 6, 7]])\n",
      "tensor([11, 12])\n"
     ]
    }
   ],
   "source": [
    "import torch\n",
    "from torch.distributions.categorical import Categorical\n",
    "\n",
    "probs=torch.tensor([[1, 2, 3, 4, 5,6,7,8,9,8,6,7,6,7],[1, 2, 3, 4, 5,6,7,8,9,8,6,7,6,7]])\n",
    "\n",
    "print(probs)\n",
    "\n",
    "c = Categorical(probs)\n",
    "print(c.sample())\n"
   ]
  },
  {
   "cell_type": "code",
   "execution_count": 2,
   "metadata": {},
   "outputs": [
    {
     "name": "stdout",
     "output_type": "stream",
     "text": [
      "<class 'list'>\n",
      "[5, -5]\n"
     ]
    }
   ],
   "source": [
    "imp_clips=[5,-5]\n",
    "print(type(imp_clips))\n",
    "print(imp_clips)"
   ]
  },
  {
   "cell_type": "code",
   "execution_count": 3,
   "metadata": {},
   "outputs": [
    {
     "name": "stdout",
     "output_type": "stream",
     "text": [
      "0\n"
     ]
    }
   ],
   "source": [
    "for i in range(1):\n",
    "    print(i)"
   ]
  },
  {
   "cell_type": "code",
   "execution_count": 40,
   "metadata": {},
   "outputs": [
    {
     "name": "stdout",
     "output_type": "stream",
     "text": [
      "tensor([-20,  75,   4,  -3])\n",
      "tensor([-5, -5, -5, -5])\n",
      "tensor([0.0067, 0.0067, 0.0067, 0.0067])\n"
     ]
    }
   ],
   "source": [
    "import torch\n",
    "import numpy as np\n",
    "\n",
    "imp_clips=[5,-5]\n",
    "a = torch.tensor([-20,75,4,-3])\n",
    "print(a)\n",
    "print(torch.clamp(a, imp_clips[0], imp_clips[1]))\n",
    "print(torch.exp(torch.clamp(a, imp_clips[0], imp_clips[1])))\n"
   ]
  },
  {
   "cell_type": "code",
   "execution_count": 48,
   "metadata": {},
   "outputs": [
    {
     "name": "stdout",
     "output_type": "stream",
     "text": [
      "[tensor(1.), tensor(1.), tensor(1.), tensor(1.), tensor(1.), tensor(1.)]\n",
      "tensor([1.])\n"
     ]
    }
   ],
   "source": [
    "import torch\n",
    "import numpy as np\n",
    "\n",
    "cascade_depth = 6\n",
    "\n",
    "imp_factors = [torch.tensor(1.0) for i in range(cascade_depth)]\n",
    "print(imp_factors)\n",
    "\n",
    "print(torch.tensor([1.0]))"
   ]
  },
  {
   "cell_type": "code",
   "execution_count": 53,
   "metadata": {},
   "outputs": [
    {
     "name": "stdout",
     "output_type": "stream",
     "text": [
      "torch.Size([1])\n",
      "torch.Size([])\n",
      "tensor([1.])\n"
     ]
    }
   ],
   "source": [
    "print(torch.zeros(1).shape)\n",
    "print(torch.tensor(0.0).shape)\n",
    "print(torch.ones(1))"
   ]
  },
  {
   "cell_type": "code",
   "execution_count": 63,
   "metadata": {},
   "outputs": [
    {
     "name": "stdout",
     "output_type": "stream",
     "text": [
      "fc2 weight before train :\n",
      "Parameter containing:\n",
      "tensor([[ 0.3154,  0.2075,  0.0163,  0.0879, -0.0423],\n",
      "        [-0.2459, -0.1690, -0.2723,  0.3715,  0.2461],\n",
      "        [ 0.1564, -0.3429,  0.3451,  0.1402,  0.3094],\n",
      "        [-0.1759,  0.0948,  0.4367,  0.3008,  0.3587],\n",
      "        [-0.0939,  0.3407, -0.3503,  0.0387, -0.2518]], requires_grad=True)\n",
      "fc2 weight (frozen) after retrain:\n",
      "Parameter containing:\n",
      "tensor([[ 0.3154,  0.2075,  0.0163,  0.0879, -0.0423],\n",
      "        [-0.2459, -0.1690, -0.2723,  0.3715,  0.2461],\n",
      "        [ 0.1564, -0.3429,  0.3451,  0.1402,  0.3094],\n",
      "        [-0.1759,  0.0948,  0.4367,  0.3008,  0.3587],\n",
      "        [-0.0939,  0.3407, -0.3503,  0.0387, -0.2518]])\n"
     ]
    }
   ],
   "source": [
    "import torch\n",
    "from torch import nn\n",
    "import torch.nn.functional as F\n",
    "import torch.optim as optim\n",
    "import random\n",
    "import numpy as np\n",
    "\n",
    "seed = 123\n",
    "random.seed(seed)\n",
    "np.random.seed(seed)\n",
    "torch.manual_seed(seed)\n",
    "\n",
    "# toy feed-forward net\n",
    "class Net(nn.Module):\n",
    "    def __init__(self):\n",
    "        super(Net, self).__init__()\n",
    "        self.fc1 = nn.Linear(10, 5)\n",
    "        self.fc2 = nn.Linear(5, 5)\n",
    "        self.fc3 = nn.Linear(5, 1)\n",
    "    def forward(self, x):\n",
    "        x = self.fc1(x)\n",
    "        x = self.fc2(x)\n",
    "        x = self.fc3(x)\n",
    "        return x\n",
    "\n",
    "cascade_depth = 4\n",
    "# define random data\n",
    "random_input = torch.randn((10,), requires_grad = True)\n",
    "random_target = torch.randn((1,), requires_grad = True)\n",
    "#random_input = torch.ones(10, requires_grad = True)\n",
    "#random_target = torch.ones(1, requires_grad = True)\n",
    "\n",
    "# define nets\n",
    "nets = []\n",
    "for i in range(cascade_depth):\n",
    "    nets.append(Net())\n",
    "\n",
    "net = nets[0]\n",
    "\n",
    "# define optimizer\n",
    "criterion = nn.MSELoss()\n",
    "optimizer = optim.Adam(net.parameters(), lr=0.1)\n",
    "#optimizer = optim.SGD(net.parameters(), lr=0.1)\n",
    "#optimizer = optim.Adam(filter(lambda p: p.requires_grad, net.parameters()), lr=0.1)\n",
    "\n",
    "# print the initial fc2 weight\n",
    "print('fc2 weight before train :')\n",
    "print(net.fc2.weight)\n",
    "\n",
    "# we want to freeze the fc2 layer: only train fc1 and fc3\n",
    "net.fc2.weight.requires_grad = False\n",
    "net.fc2.bias.requires_grad = False\n",
    "# In Adam optimizer the parameter updates are not based solely on the gradient at the current step but on an average of past squared gradients. Therefore, unset also the gradients of net.fc2 all together instead of having them as zero tensors (because of the zero_grad). \n",
    "net.fc2.weight.grad = None\n",
    "net.fc2.bias.grad = None\n",
    "\n",
    "for i in range(10):\n",
    "    net.zero_grad()\n",
    "    output = net(random_input)\n",
    "    loss = criterion(output, random_target)\n",
    "    loss.backward()\n",
    "    optimizer.step()\n",
    "\n",
    "# print the trained fc2 weight\n",
    "# note that the weight is same as the one before training: only fc1 & fc3 changed\n",
    "print('fc2 weight (frozen) after retrain:')\n",
    "print(net.fc2.weight)"
   ]
  },
  {
   "cell_type": "code",
   "execution_count": 90,
   "metadata": {},
   "outputs": [
    {
     "name": "stdout",
     "output_type": "stream",
     "text": [
      "fc2 weight before train :\n",
      "Parameter containing:\n",
      "tensor([[ 0.0165, -0.2382,  0.4288,  0.2494,  0.2634],\n",
      "        [ 0.1443, -0.0445,  0.2518,  0.0076, -0.1631],\n",
      "        [ 0.2309,  0.1403, -0.1159, -0.1226, -0.3955],\n",
      "        [-0.1226, -0.1812, -0.2438, -0.4039,  0.3503],\n",
      "        [-0.3997,  0.4440, -0.2346, -0.0344,  0.3648]], requires_grad=True)\n",
      "fc2 weight (frozen) after retrain:\n",
      "Parameter containing:\n",
      "tensor([[-0.5079,  0.1971,  0.4299, -0.2588,  0.2225],\n",
      "        [ 0.1551, -0.1183,  0.2270,  0.0243, -0.1847],\n",
      "        [ 0.1907,  0.2668, -0.0306, -0.1220, -0.4529],\n",
      "        [-0.1570, -0.0542, -0.1530, -0.3860,  0.2884],\n",
      "        [ 0.2577,  0.1429, -0.2777,  0.5280,  0.3863]], requires_grad=True)\n"
     ]
    }
   ],
   "source": [
    "import torch\n",
    "from torch import nn\n",
    "import torch.nn.functional as F\n",
    "import torch.optim as optim\n",
    "import random\n",
    "import numpy as np\n",
    "\n",
    "seed = 123\n",
    "random.seed(seed)\n",
    "np.random.seed(seed)\n",
    "torch.manual_seed(seed)\n",
    "\n",
    "lr_decay = True\n",
    "lr = 0.1\n",
    "mesh_factor = 2.0\n",
    "cascade_depth = 8\n",
    "\n",
    "nupdates = 10\n",
    "\n",
    "def decayfn_arr(start, decay, length):\n",
    "    def f(_):\n",
    "        return [start*decay**i for i in range(length)]\n",
    "    return f\n",
    "    \n",
    "def constfn_arr(val,length):\n",
    "    def f(_):\n",
    "        return [val for i in range(length)]\n",
    "    return f\n",
    "\n",
    "\n",
    "# toy feed-forward net\n",
    "class Net(nn.Module):\n",
    "    def __init__(self):\n",
    "        super(Net, self).__init__()\n",
    "        self.fc1 = nn.Linear(10, 5)\n",
    "        self.fc2 = nn.Linear(5, 5)\n",
    "        self.fc3 = nn.Linear(5, 1)\n",
    "    def forward(self, x):\n",
    "        x = self.fc1(x)\n",
    "        x = self.fc2(x)\n",
    "        x = self.fc3(x)\n",
    "        return x\n",
    "\n",
    "# Create decay learning rates and clip ranges\n",
    "if isinstance(lr, float):\n",
    "    if lr_decay:\n",
    "        lrs = decayfn_arr(lr,1.0/mesh_factor, cascade_depth) # learning rates exponentially smaller for deeper policies in cascade\n",
    "    else:\n",
    "        lrs = constfn_arr(lr,cascade_depth)\n",
    "else: assert callable(lr)\n",
    "\n",
    "for update in range(nupdates):\n",
    "    frac = 1.0 - (update - 1.0) / nupdates\n",
    "    print('frac', frac)\n",
    "    print('lrs', lrs(frac))\n",
    "\n",
    "# define random data\n",
    "random_input = torch.randn((10,), requires_grad = True)\n",
    "random_target = torch.randn((1,), requires_grad = True)\n",
    "#random_input = torch.ones(10, requires_grad = True)\n",
    "#random_target = torch.ones(1, requires_grad = True)\n",
    "\n",
    "# define nets\n",
    "nets = []\n",
    "optimizers = []\n",
    "# add cascade of optimizers\n",
    "for i in range(cascade_depth):\n",
    "    net = Net()\n",
    "    nets.append(net)\n",
    "    optimizers.append(optim.Adam(net.parameters(), lr=0.1))\n",
    "\n",
    "\n",
    "net = nets[2]\n",
    "optimizer = optimizers[2]\n",
    "criterion = nn.MSELoss()\n",
    "\n",
    "# define optimizer\n",
    "#criterion = nn.MSELoss()\n",
    "#optimizer = optim.Adam(net.parameters(), lr=0.1)\n",
    "#optimizer = optim.SGD(net.parameters(), lr=0.1)\n",
    "#optimizer = optim.Adam(filter(lambda p: p.requires_grad, net.parameters()), lr=0.1)\n",
    "\n",
    "# print the initial fc2 weight\n",
    "print('fc2 weight before train :')\n",
    "print(net.fc2.weight)\n",
    "\n",
    "# change the optimizer learning rate\n",
    "optimizer.param_groups[0]['lr'] = 0.2\n",
    "\n",
    "for i in range(10):\n",
    "    optimizer.zero_grad()\n",
    "    output = net(random_input)\n",
    "    loss = criterion(output, random_target)\n",
    "    loss.backward()\n",
    "    optimizer.step()\n",
    "\n",
    "# print the trained fc2 weight\n",
    "# note that the weight is same as the one before training: only fc1 & fc3 changed\n",
    "print('fc2 weight (frozen) after retrain:')\n",
    "print(net.fc2.weight)\n"
   ]
  },
  {
   "cell_type": "code",
   "execution_count": 128,
   "metadata": {},
   "outputs": [
    {
     "name": "stdout",
     "output_type": "stream",
     "text": [
      "[0.1, 0.05, 0.025, 0.0125, 0.00625, 0.003125, 0.0015625, 0.00078125]\n",
      "frac 1.1\n",
      "lrs [0.1, 0.05, 0.025, 0.0125, 0.00625, 0.003125, 0.0015625, 0.00078125]\n",
      "lrs_2 [0.11000000000000001, 0.05500000000000001, 0.027500000000000004, 0.013750000000000002, 0.006875000000000001, 0.0034375000000000005, 0.0017187500000000002, 0.0008593750000000001]\n",
      "frac 1.0\n",
      "lrs [0.1, 0.05, 0.025, 0.0125, 0.00625, 0.003125, 0.0015625, 0.00078125]\n",
      "lrs_2 [0.1, 0.05, 0.025, 0.0125, 0.00625, 0.003125, 0.0015625, 0.00078125]\n",
      "frac 0.9\n",
      "lrs [0.1, 0.05, 0.025, 0.0125, 0.00625, 0.003125, 0.0015625, 0.00078125]\n",
      "lrs_2 [0.09000000000000001, 0.045000000000000005, 0.022500000000000003, 0.011250000000000001, 0.005625000000000001, 0.0028125000000000003, 0.0014062500000000002, 0.0007031250000000001]\n",
      "frac 0.8\n",
      "lrs [0.1, 0.05, 0.025, 0.0125, 0.00625, 0.003125, 0.0015625, 0.00078125]\n",
      "lrs_2 [0.08000000000000002, 0.04000000000000001, 0.020000000000000004, 0.010000000000000002, 0.005000000000000001, 0.0025000000000000005, 0.0012500000000000002, 0.0006250000000000001]\n",
      "frac 0.7\n",
      "lrs [0.1, 0.05, 0.025, 0.0125, 0.00625, 0.003125, 0.0015625, 0.00078125]\n",
      "lrs_2 [0.06999999999999999, 0.034999999999999996, 0.017499999999999998, 0.008749999999999999, 0.0043749999999999995, 0.0021874999999999998, 0.0010937499999999999, 0.0005468749999999999]\n",
      "frac 0.6\n",
      "lrs [0.1, 0.05, 0.025, 0.0125, 0.00625, 0.003125, 0.0015625, 0.00078125]\n",
      "lrs_2 [0.06, 0.03, 0.015, 0.0075, 0.00375, 0.001875, 0.0009375, 0.00046875]\n",
      "frac 0.5\n",
      "lrs [0.1, 0.05, 0.025, 0.0125, 0.00625, 0.003125, 0.0015625, 0.00078125]\n",
      "lrs_2 [0.05, 0.025, 0.0125, 0.00625, 0.003125, 0.0015625, 0.00078125, 0.000390625]\n",
      "frac 0.4\n",
      "lrs [0.1, 0.05, 0.025, 0.0125, 0.00625, 0.003125, 0.0015625, 0.00078125]\n",
      "lrs_2 [0.04000000000000001, 0.020000000000000004, 0.010000000000000002, 0.005000000000000001, 0.0025000000000000005, 0.0012500000000000002, 0.0006250000000000001, 0.00031250000000000006]\n",
      "frac 0.30000000000000004\n",
      "lrs [0.1, 0.05, 0.025, 0.0125, 0.00625, 0.003125, 0.0015625, 0.00078125]\n",
      "lrs_2 [0.030000000000000006, 0.015000000000000003, 0.0075000000000000015, 0.0037500000000000007, 0.0018750000000000004, 0.0009375000000000002, 0.0004687500000000001, 0.00023437500000000005]\n",
      "frac 0.19999999999999996\n",
      "lrs [0.1, 0.05, 0.025, 0.0125, 0.00625, 0.003125, 0.0015625, 0.00078125]\n",
      "lrs_2 [0.019999999999999997, 0.009999999999999998, 0.004999999999999999, 0.0024999999999999996, 0.0012499999999999998, 0.0006249999999999999, 0.00031249999999999995, 0.00015624999999999998]\n"
     ]
    }
   ],
   "source": [
    "lr_decay = True\n",
    "lr = 0.1\n",
    "mesh_factor = 2.0\n",
    "cascade_depth = 8\n",
    "\n",
    "nupdates = 10\n",
    "\n",
    "def decayfn_arr_2(start, decay, length):\n",
    "    def f(x):\n",
    "        return [x*start*decay**i for i in range(length)]\n",
    "    return f\n",
    "\n",
    "def decayfn_arr(start, decay, length):\n",
    "    return [start*decay**i for i in range(length)]\n",
    "\n",
    "def constfn_arr(val,length):\n",
    "    def f(_):\n",
    "        return [val for i in range(length)]\n",
    "    return f\n",
    "\n",
    "# Create decay learning rates and clip ranges\n",
    "if isinstance(lr, float):\n",
    "    if lr_decay:\n",
    "        lrs = decayfn_arr(lr,1.0/mesh_factor, cascade_depth) # learning rates exponentially smaller for deeper policies in cascade\n",
    "        lrs_2 = decayfn_arr_2(lr,1.0/mesh_factor, cascade_depth)\n",
    "    else:\n",
    "        lrs = constfn_arr(lr,cascade_depth)\n",
    "else: assert callable(lr)\n",
    "print(lrs)\n",
    "\n",
    "for update in range(nupdates):\n",
    "    frac = 1.0 - (update - 1.0) / nupdates\n",
    "    print('frac', frac)\n",
    "    print('lrs', lrs)\n",
    "    print('lrs_2', lrs_2(frac))"
   ]
  },
  {
   "cell_type": "code",
   "execution_count": 129,
   "metadata": {},
   "outputs": [
    {
     "name": "stdout",
     "output_type": "stream",
     "text": [
      "fc2 weight before train :\n",
      "Parameter containing:\n",
      "tensor([[ 0.3154,  0.2075,  0.0163,  0.0879, -0.0423],\n",
      "        [-0.2459, -0.1690, -0.2723,  0.3715,  0.2461],\n",
      "        [ 0.1564, -0.3429,  0.3451,  0.1402,  0.3094],\n",
      "        [-0.1759,  0.0948,  0.4367,  0.3008,  0.3587],\n",
      "        [-0.0939,  0.3407, -0.3503,  0.0387, -0.2518]], requires_grad=True)\n",
      "epoch 1    lr  0.1000\n",
      "epoch 2    lr  0.1000\n",
      "epoch 3    lr  0.1000\n",
      "epoch 4    lr  0.1000\n",
      "epoch 5    lr  0.1000\n",
      "epoch 6    lr  0.1000\n",
      "epoch 7    lr  0.1000\n",
      "epoch 8    lr  0.1000\n",
      "epoch 9    lr  0.1000\n",
      "epoch 10    lr  0.1000\n",
      "fc2 weight (frozen) after retrain:\n",
      "Parameter containing:\n",
      "tensor([[-0.0199,  0.4078, -0.2847,  0.1359,  0.3018],\n",
      "        [-0.0491, -0.3224, -0.0203, -0.0063,  0.0246],\n",
      "        [-0.1190, -0.0544, -0.0230,  0.0797,  0.3138],\n",
      "        [ 0.1212, -0.2494,  0.7380,  0.2886,  0.0274],\n",
      "        [ 0.5018, -0.0792,  0.2122,  0.2613, -0.3164]], requires_grad=True)\n",
      "last lr 0.1\n"
     ]
    }
   ],
   "source": [
    "import torch\n",
    "from torch import nn\n",
    "import torch.nn.functional as F\n",
    "import torch.optim as optim\n",
    "import random\n",
    "import numpy as np\n",
    "\n",
    "seed = 123\n",
    "random.seed(seed)\n",
    "np.random.seed(seed)\n",
    "torch.manual_seed(seed)\n",
    "\n",
    "# toy feed-forward net\n",
    "class Net(nn.Module):\n",
    "    def __init__(self):\n",
    "        super(Net, self).__init__()\n",
    "        self.fc1 = nn.Linear(10, 5)\n",
    "        self.fc2 = nn.Linear(5, 5)\n",
    "        self.fc3 = nn.Linear(5, 1)\n",
    "    def forward(self, x):\n",
    "        x = self.fc1(x)\n",
    "        x = self.fc2(x)\n",
    "        x = self.fc3(x)\n",
    "        return x\n",
    "\n",
    "# define random data\n",
    "random_input = torch.randn((10,), requires_grad = True)\n",
    "random_target = torch.randn((1,), requires_grad = True)\n",
    "#random_input = torch.ones(10, requires_grad = True)\n",
    "#random_target = torch.ones(1, requires_grad = True)\n",
    "\n",
    "epochs = 10\n",
    "iters = 10\n",
    "# define nets\n",
    "net = Net()\n",
    "\n",
    "# define optimizer\n",
    "criterion = nn.MSELoss()\n",
    "optimizer = optim.Adam(net.parameters(), lr=0.1)\n",
    "#optimizer = optim.SGD(net.parameters(), lr=0.1)\n",
    "#optimizer = optim.Adam(filter(lambda p: p.requires_grad, net.parameters()), lr=0.1)\n",
    "scheduler = torch.optim.lr_scheduler.ExponentialLR(optimizer, gamma=0.9)\n",
    "\n",
    "# print the initial fc2 weight\n",
    "print('fc2 weight before train :')\n",
    "print(net.fc2.weight)\n",
    "\n",
    "for epoch in range(epochs):\n",
    "    for step in range(iters):\n",
    "        optimizer.zero_grad()\n",
    "        output = net(random_input)\n",
    "        loss = criterion(output, random_target)\n",
    "        loss.backward()\n",
    "        optimizer.step()\n",
    "    scheduler.step()\n",
    "    print(f'epoch {epoch + 1}' , \"   lr  {:.4f}\".format(scheduler.get_last_lr()[0]))\n",
    "\n",
    "# print the trained fc2 weight\n",
    "# note that the weight is same as the one before training: only fc1 & fc3 changed\n",
    "print('fc2 weight (frozen) after retrain:')\n",
    "print(net.fc2.weight)\n",
    "print('last lr', optimizer.param_groups[0]['lr'])\n"
   ]
  },
  {
   "cell_type": "code",
   "execution_count": 146,
   "metadata": {},
   "outputs": [
    {
     "name": "stdout",
     "output_type": "stream",
     "text": [
      "[0.1, 0.05, 0.025, 0.0125, 0.00625, 0.003125, 0.0015625, 0.00078125]\n",
      "fc2 weight before train :\n",
      "Parameter containing:\n",
      "tensor([[ 0.3154,  0.2075,  0.0163,  0.0879, -0.0423],\n",
      "        [-0.2459, -0.1690, -0.2723,  0.3715,  0.2461],\n",
      "        [ 0.1564, -0.3429,  0.3451,  0.1402,  0.3094],\n",
      "        [-0.1759,  0.0948,  0.4367,  0.3008,  0.3587],\n",
      "        [-0.0939,  0.3407, -0.3503,  0.0387, -0.2518]], requires_grad=True)\n",
      "[7.0, 3.5, 1.75, 0.875, 0.4375, 0.21875, 0.109375, 0.0546875]\n",
      "epoch 1    lr  0.0900\n",
      "lrs now: [0.09000000000000001, 0.045000000000000005, 0.022500000000000003, 0.011250000000000001, 0.005625000000000001, 0.0028125000000000003, 0.0014062500000000002, 0.0007031250000000001]\n",
      "epoch 2    lr  0.0810\n",
      "lrs now: [0.08100000000000002, 0.04050000000000001, 0.020250000000000004, 0.010125000000000002, 0.005062500000000001, 0.0025312500000000005, 0.0012656250000000003, 0.0006328125000000001]\n",
      "epoch 3    lr  0.0729\n",
      "lrs now: [0.07290000000000002, 0.03645000000000001, 0.018225000000000005, 0.009112500000000003, 0.004556250000000001, 0.0022781250000000006, 0.0011390625000000003, 0.0005695312500000002]\n",
      "epoch 4    lr  0.0656\n",
      "lrs now: [0.06561000000000002, 0.03280500000000001, 0.016402500000000004, 0.008201250000000002, 0.004100625000000001, 0.0020503125000000005, 0.0010251562500000002, 0.0005125781250000001]\n",
      "epoch 5    lr  0.0590\n",
      "lrs now: [0.05904900000000002, 0.02952450000000001, 0.014762250000000005, 0.007381125000000002, 0.003690562500000001, 0.0018452812500000006, 0.0009226406250000003, 0.00046132031250000014]\n",
      "epoch 6    lr  0.0531\n",
      "lrs now: [0.05314410000000002, 0.02657205000000001, 0.013286025000000005, 0.0066430125000000026, 0.0033215062500000013, 0.0016607531250000006, 0.0008303765625000003, 0.00041518828125000016]\n",
      "epoch 7    lr  0.0478\n",
      "lrs now: [0.04782969000000002, 0.02391484500000001, 0.011957422500000005, 0.005978711250000003, 0.0029893556250000014, 0.0014946778125000007, 0.0007473389062500003, 0.00037366945312500017]\n",
      "epoch 8    lr  0.0430\n",
      "lrs now: [0.043046721000000024, 0.021523360500000012, 0.010761680250000006, 0.005380840125000003, 0.0026904200625000015, 0.0013452100312500007, 0.0006726050156250004, 0.0003363025078125002]\n",
      "epoch 9    lr  0.0387\n",
      "lrs now: [0.03874204890000002, 0.01937102445000001, 0.009685512225000005, 0.0048427561125000025, 0.0024213780562500013, 0.0012106890281250006, 0.0006053445140625003, 0.00030267225703125016]\n",
      "epoch 10    lr  0.0349\n",
      "lrs now: [0.03486784401000002, 0.01743392200500001, 0.008716961002500004, 0.004358480501250002, 0.002179240250625001, 0.0010896201253125005, 0.0005448100626562503, 0.00027240503132812513]\n",
      "fc2 weight (frozen) after retrain:\n",
      "Parameter containing:\n",
      "tensor([[-0.0141,  0.4241, -0.2850,  0.1303,  0.3139],\n",
      "        [-0.0503, -0.3307, -0.0302, -0.0330,  0.0074],\n",
      "        [-0.1081, -0.0633,  0.0027,  0.1570,  0.3435],\n",
      "        [ 0.1026, -0.2237,  0.7264,  0.2999,  0.0529],\n",
      "        [ 0.4856, -0.0938,  0.2080,  0.3006, -0.3384]], requires_grad=True)\n",
      "last lr 0.03486784401000002\n"
     ]
    }
   ],
   "source": [
    "import torch\n",
    "from torch import nn\n",
    "import torch.nn.functional as F\n",
    "import torch.optim as optim\n",
    "import random\n",
    "import numpy as np\n",
    "\n",
    "seed = 123\n",
    "random.seed(seed)\n",
    "np.random.seed(seed)\n",
    "torch.manual_seed(seed)\n",
    "\n",
    "# toy feed-forward net\n",
    "class Net(nn.Module):\n",
    "    def __init__(self):\n",
    "        super(Net, self).__init__()\n",
    "        self.fc1 = nn.Linear(10, 5)\n",
    "        self.fc2 = nn.Linear(5, 5)\n",
    "        self.fc3 = nn.Linear(5, 1)\n",
    "    def forward(self, x):\n",
    "        x = self.fc1(x)\n",
    "        x = self.fc2(x)\n",
    "        x = self.fc3(x)\n",
    "        return x\n",
    "\n",
    "# define random data\n",
    "random_input = torch.randn((10,), requires_grad = True)\n",
    "random_target = torch.randn((1,), requires_grad = True)\n",
    "#random_input = torch.ones(10, requires_grad = True)\n",
    "#random_target = torch.ones(1, requires_grad = True)\n",
    "\n",
    "epochs = 10\n",
    "iters = 10\n",
    "# define nets\n",
    "net = Net()\n",
    "\n",
    "# define optimizer\n",
    "criterion = nn.MSELoss()\n",
    "optimizer = optim.Adam(net.parameters(), lr=0.1)\n",
    "#optimizer = optim.SGD(net.parameters(), lr=0.1)\n",
    "#optimizer = optim.Adam(filter(lambda p: p.requires_grad, net.parameters()), lr=0.1)\n",
    "scheduler = torch.optim.lr_scheduler.ExponentialLR(optimizer, gamma=0.9)\n",
    "\n",
    "\n",
    "lr_decay = True\n",
    "lr = 0.1\n",
    "mesh_factor = 2.0\n",
    "cascade_depth = 8\n",
    "\n",
    "nupdates = 10\n",
    "\n",
    "def decayfn_arr(start, decay, length):\n",
    "    return [start*decay**i for i in range(length)]\n",
    "\n",
    "def decayfn_arr_2(start, decay, length):\n",
    "    def f(start):\n",
    "        return [start*decay**i for i in range(length)]\n",
    "    return f\n",
    "\n",
    "def constfn_arr(val,length):\n",
    "    def f(_):\n",
    "        return [val for i in range(length)]\n",
    "    return f\n",
    "\n",
    "# Create decay learning rates and clip ranges\n",
    "if isinstance(lr, float):\n",
    "    if lr_decay:\n",
    "        lrs = decayfn_arr(lr,1.0/mesh_factor, cascade_depth) # learning rates exponentially smaller for deeper policies in cascade\n",
    "        lrs_2 = decayfn_arr_2(lr,1.0/mesh_factor, cascade_depth)\n",
    "    else:\n",
    "        lrs = constfn_arr(lr,cascade_depth)\n",
    "else: assert callable(lr)\n",
    "print(lrs)\n",
    "\n",
    "# print the initial fc2 weight\n",
    "print('fc2 weight before train :')\n",
    "print(net.fc2.weight)\n",
    "\n",
    "args = {'lrs':lrs_2}\n",
    "print(args['lrs'](7))\n",
    "\n",
    "\n",
    "for epoch in range(epochs):\n",
    "    for step in range(iters):\n",
    "        optimizer.zero_grad()\n",
    "        output = net(random_input)\n",
    "        loss = criterion(output, random_target)\n",
    "        loss.backward()\n",
    "        optimizer.step()\n",
    "    scheduler.step()\n",
    "    lr = scheduler.get_last_lr()[0]\n",
    "    lrs_now = lrs_2(lr) \n",
    "    print(f'epoch {epoch + 1}' , \"   lr  {:.4f}\".format(scheduler.get_last_lr()[0]))\n",
    "    print('lrs now:', lrs_now)\n",
    "\n",
    "# print the trained fc2 weight\n",
    "# note that the weight is same as the one before training: only fc1 & fc3 changed\n",
    "print('fc2 weight (frozen) after retrain:')\n",
    "print(net.fc2.weight)\n",
    "print('last lr', optimizer.param_groups[0]['lr'])\n"
   ]
  },
  {
   "cell_type": "markdown",
   "metadata": {},
   "source": [
    "Check backward() behavior with multiple models and optimizers"
   ]
  },
  {
   "cell_type": "code",
   "execution_count": 6,
   "metadata": {},
   "outputs": [
    {
     "name": "stdout",
     "output_type": "stream",
     "text": [
      "nets[0] fc2 weight before train :\n",
      "Parameter containing:\n",
      "tensor([[-0.0939,  0.3407, -0.3503,  0.0387, -0.2518],\n",
      "        [-0.1043, -0.1145,  0.0335,  0.4070,  0.2214],\n",
      "        [-0.0019,  0.3175, -0.2292,  0.2305, -0.0415],\n",
      "        [-0.0778,  0.0524, -0.3426,  0.0517,  0.1504],\n",
      "        [ 0.3823, -0.1392,  0.1610,  0.4470, -0.1918]], requires_grad=True)\n",
      "nets[1] fc2 weight before train :\n",
      "Parameter containing:\n",
      "tensor([[-0.3795, -0.4355,  0.1687,  0.3599, -0.3467],\n",
      "        [-0.2070,  0.1423, -0.2920,  0.3799,  0.1043],\n",
      "        [-0.1245,  0.0290,  0.1394, -0.1581, -0.3465],\n",
      "        [ 0.0030,  0.0081,  0.0090, -0.0653,  0.2871],\n",
      "        [-0.1248, -0.0433,  0.1839, -0.2815,  0.1197]], requires_grad=True)\n",
      "tensor(0.6909, grad_fn=<MseLossBackward0>)\n",
      "tensor(0.2238, grad_fn=<MseLossBackward0>)\n",
      "tensor(0.6768, grad_fn=<MseLossBackward0>)\n",
      "tensor(0.2238, grad_fn=<MseLossBackward0>)\n",
      "tensor(0.6630, grad_fn=<MseLossBackward0>)\n",
      "tensor(0.2238, grad_fn=<MseLossBackward0>)\n",
      "tensor(0.6492, grad_fn=<MseLossBackward0>)\n",
      "tensor(0.2238, grad_fn=<MseLossBackward0>)\n",
      "tensor(0.6357, grad_fn=<MseLossBackward0>)\n",
      "tensor(0.2238, grad_fn=<MseLossBackward0>)\n",
      "tensor(0.6222, grad_fn=<MseLossBackward0>)\n",
      "tensor(0.2238, grad_fn=<MseLossBackward0>)\n",
      "tensor(0.6088, grad_fn=<MseLossBackward0>)\n",
      "tensor(0.2238, grad_fn=<MseLossBackward0>)\n",
      "tensor(0.5956, grad_fn=<MseLossBackward0>)\n",
      "tensor(0.2238, grad_fn=<MseLossBackward0>)\n",
      "tensor(0.5824, grad_fn=<MseLossBackward0>)\n",
      "tensor(0.2238, grad_fn=<MseLossBackward0>)\n",
      "tensor(0.5694, grad_fn=<MseLossBackward0>)\n",
      "tensor(0.2238, grad_fn=<MseLossBackward0>)\n",
      "nets[0] fc2 weight after train :\n",
      "Parameter containing:\n",
      "tensor([[-0.0840,  0.3507, -0.3603,  0.0286, -0.2619],\n",
      "        [-0.1142, -0.1245,  0.0435,  0.4171,  0.2315],\n",
      "        [ 0.0080,  0.3274, -0.2392,  0.2205, -0.0515],\n",
      "        [-0.0768,  0.0532, -0.3434,  0.0510,  0.1497],\n",
      "        [ 0.3724, -0.1493,  0.1710,  0.4571, -0.1818]], requires_grad=True)\n",
      "nets[1] fc2 weight after retrain:\n",
      "Parameter containing:\n",
      "tensor([[-0.3795, -0.4355,  0.1687,  0.3599, -0.3467],\n",
      "        [-0.2070,  0.1423, -0.2920,  0.3799,  0.1043],\n",
      "        [-0.1245,  0.0290,  0.1394, -0.1581, -0.3465],\n",
      "        [ 0.0030,  0.0081,  0.0090, -0.0653,  0.2871],\n",
      "        [-0.1248, -0.0433,  0.1839, -0.2815,  0.1197]], requires_grad=True)\n"
     ]
    }
   ],
   "source": [
    "import torch\n",
    "from torch import nn\n",
    "import torch.nn.functional as F\n",
    "import torch.optim as optim\n",
    "import random\n",
    "import numpy as np\n",
    "\n",
    "seed = 123\n",
    "random.seed(seed)\n",
    "np.random.seed(seed)\n",
    "torch.manual_seed(seed)\n",
    "\n",
    "# toy feed-forward net\n",
    "class Net(nn.Module):\n",
    "    def __init__(self):\n",
    "        super(Net, self).__init__()\n",
    "        self.fc1 = nn.Linear(10, 5)\n",
    "        self.fc2 = nn.Linear(5, 5)\n",
    "        self.fc3 = nn.Linear(5, 1)\n",
    "    def forward(self, x):\n",
    "        x = self.fc1(x)\n",
    "        x = self.fc2(x)\n",
    "        x = self.fc3(x)\n",
    "        return x\n",
    "\n",
    "# define random data\n",
    "random_input = torch.randn((10,), requires_grad = True)\n",
    "random_input2 = torch.randn((10,), requires_grad = True)\n",
    "random_target = torch.randn((1,), requires_grad = True)\n",
    "#random_input = torch.ones(10, requires_grad = True)\n",
    "#random_target = torch.ones(1, requires_grad = True)\n",
    "\n",
    "epochs = 10\n",
    "iters = 10\n",
    "cascade_depth = 2\n",
    "nets = []\n",
    "optimizers = []\n",
    "# define nets\n",
    "for i in range(cascade_depth):\n",
    "    net = Net()\n",
    "    nets.append(net)\n",
    "    optimizer = torch.optim.Adam(net.parameters())\n",
    "    optimizers.append(optimizer)\n",
    "\n",
    "# define optimizer\n",
    "criterion = nn.MSELoss()\n",
    "\n",
    "# print the initial fc2 weight\n",
    "print('nets[0] fc2 weight before train :')\n",
    "print(nets[0].fc2.weight)\n",
    "print('nets[1] fc2 weight before train :')\n",
    "print(nets[1].fc2.weight)\n",
    "\n",
    "for step in range(iters):\n",
    "    optimizers[0].zero_grad()\n",
    "    output = nets[0](random_input) - nets[1](random_input2)\n",
    "    output2 = nets[1](random_input)\n",
    "    loss = criterion(output, random_target)\n",
    "    loss2 = criterion(output2, random_target)\n",
    "    loss.backward()\n",
    "    loss2.backward()\n",
    "    optimizers[0].step()\n",
    "    print(loss)\n",
    "    print(loss2)\n",
    "\n",
    "# print the trained fc2 weight\n",
    "# note that the weight is same as the one before training: only fc1 & fc3 changed\n",
    "print('nets[0] fc2 weight after train :')\n",
    "print(nets[0].fc2.weight)\n",
    "print('nets[1] fc2 weight after retrain:')\n",
    "print(nets[1].fc2.weight) "
   ]
  },
  {
   "cell_type": "code",
   "execution_count": 164,
   "metadata": {},
   "outputs": [],
   "source": [
    "import torch\n",
    "\n",
    "cascade_depth = 4\n",
    "shape = (128, 16)\n",
    "\n",
    "actions = torch.zeros(*shape, dtype=torch.int)\n",
    "values = torch.zeros(*shape)\n",
    "rewards = torch.zeros(*shape)\n",
    "advantages = torch.zeros(*shape)\n",
    "log_probs = torch.zeros(*shape)\n",
    "\n",
    "# Tensor lists for storing cascade policies parameters\n",
    "actions_cascade = [actions.detach().clone() for i in range(cascade_depth)]\n",
    "values_cascade = [values.detach().clone() for i in range(cascade_depth)]   \n",
    "log_probs_cascade = [log_probs.detach().clone() for i in range(cascade_depth)]    "
   ]
  },
  {
   "attachments": {},
   "cell_type": "markdown",
   "metadata": {},
   "source": [
    "Use of stack and transporse to re-arrange tensors for calculations"
   ]
  },
  {
   "cell_type": "code",
   "execution_count": 59,
   "metadata": {},
   "outputs": [
    {
     "name": "stdout",
     "output_type": "stream",
     "text": [
      "Before stack:  {'logs': [tensor([-0.4942, -0.1290, -2.3631, -0.8314,  0.4030,  0.2959,  0.6901,  0.5766,\n",
      "         0.7149, -0.8575]), tensor([-0.9305,  0.4718, -0.0249,  0.3682, -0.8347, -1.1631, -1.0820,  0.5148,\n",
      "         0.3095,  0.3171]), tensor([-1.1154,  1.3316,  1.6937, -0.0354, -1.0603,  0.6570, -0.3047, -0.6264,\n",
      "        -1.4662,  1.5588])], 'img': tensor([-0.3594,  0.4246, -1.1287,  1.0726,  0.8454, -1.0108,  1.9881, -0.1009,\n",
      "         0.7650, -3.0218])}\n",
      "Before stack logs 0:  tensor([-0.4942, -0.1290, -2.3631, -0.8314,  0.4030,  0.2959,  0.6901,  0.5766,\n",
      "         0.7149, -0.8575])\n",
      "After stack:  {'logs': tensor([[-0.4942, -0.9305, -1.1154],\n",
      "        [-0.1290,  0.4718,  1.3316],\n",
      "        [-2.3631, -0.0249,  1.6937],\n",
      "        [-0.8314,  0.3682, -0.0354],\n",
      "        [ 0.4030, -0.8347, -1.0603],\n",
      "        [ 0.2959, -1.1631,  0.6570],\n",
      "        [ 0.6901, -1.0820, -0.3047],\n",
      "        [ 0.5766,  0.5148, -0.6264],\n",
      "        [ 0.7149,  0.3095, -1.4662],\n",
      "        [-0.8575,  0.3171,  1.5588]]), 'img': tensor([-0.3594,  0.4246, -1.1287,  1.0726,  0.8454, -1.0108,  1.9881, -0.1009,\n",
      "         0.7650, -3.0218])}\n",
      "After stack logs 0:  tensor([-0.4942, -0.1290, -2.3631, -0.8314,  0.4030,  0.2959,  0.6901,  0.5766,\n",
      "         0.7149, -0.8575])\n",
      "[0, 1]\n",
      "{'logs': tensor([[-0.4942, -0.9305, -1.1154],\n",
      "        [-0.1290,  0.4718,  1.3316]]), 'img': tensor([-0.3594,  0.4246])}\n",
      "cascade: 0 sb.logs: tensor([-0.4942, -0.1290])\n",
      "cascade: 1 sb.logs: tensor([-0.9305,  0.4718])\n",
      "cascade: 2 sb.logs: tensor([-1.1154,  1.3316])\n",
      "curr_logs: [tensor([-0.9885, -0.2581]), tensor([-1.8610,  0.9436]), tensor([-2.2309,  2.6632])]\n",
      "sb.logs: tensor([[-0.4942, -0.9305, -1.1154],\n",
      "        [-0.1290,  0.4718,  1.3316]])\n",
      "cascade: 0 curr_logs: tensor([-0.9885, -0.2581])\n",
      "cascade: 1 curr_logs: tensor([-1.8610,  0.9436])\n",
      "cascade: 2 curr_logs: tensor([-2.2309,  2.6632])\n",
      "ratios: [tensor([-0.4942, -0.1290]), tensor([-0.9305,  0.4718]), tensor([-1.1154,  1.3316])]\n",
      "ratios 0 tensor([-0.4942, -0.1290])\n",
      "ratios: [tensor([-0.4942, -0.1290]), tensor([-0.9305,  0.4718]), tensor([-1.1154,  1.3316])]\n",
      "ratios 0 tensor([-0.4942, -0.1290])\n"
     ]
    }
   ],
   "source": [
    "import torch\n",
    "from torch_ac.utils import DictList\n",
    "import random\n",
    "\n",
    "nsteps = 10\n",
    "batch = 4\n",
    "cascade_depth = 3\n",
    "\n",
    "# random list of indexes in range\n",
    "ind = random.sample(range(0, nsteps), batch)\n",
    "ind = [0,1]\n",
    "\n",
    "a = []\n",
    "for i in range(cascade_depth):\n",
    "    a.append(torch.randn(nsteps))\n",
    "\n",
    "d = {'logs':a}\n",
    "d = DictList(d)\n",
    "d.img = torch.randn(nsteps)\n",
    "\n",
    "print(\"Before stack: \", d)\n",
    "print(\"Before stack logs 0: \", d.logs[0])\n",
    "\n",
    "d.logs = torch.stack(d.logs, dim=1)\n",
    "\n",
    "print(\"After stack: \", d)\n",
    "print(\"After stack logs 0: \", d.logs[:,0])\n",
    "\n",
    "print(ind)\n",
    "\n",
    "# batch\n",
    "sb = d[ind]\n",
    "\n",
    "print(sb)\n",
    "\n",
    "for i in range(cascade_depth):\n",
    "    print('cascade:',i, 'sb.logs:',sb.logs[:,i])\n",
    "\n",
    "logs = []\n",
    "for i in range(cascade_depth):\n",
    "    logs.append(2*sb.logs[:,i])\n",
    "\n",
    "print('curr_logs:', logs)\n",
    "print('sb.logs:', sb.logs)\n",
    "\n",
    "for i in range(cascade_depth):\n",
    "    print('cascade:',i, 'curr_logs:',logs[i])\n",
    "\n",
    "ratios = [(curr - old) for (curr, old) in zip(logs, torch.t(sb.logs))]\n",
    "print('ratios:', ratios)\n",
    "print('ratios 0', ratios[0])\n",
    "\n",
    "sb.logs = torch.t(sb.logs)\n",
    "\n",
    "ratios = [(curr - old) for (curr, old) in zip(logs, sb.logs)]\n",
    "print('ratios:', ratios)\n",
    "print('ratios 0', ratios[0])"
   ]
  },
  {
   "attachments": {},
   "cell_type": "markdown",
   "metadata": {},
   "source": [
    "Correct use of torh.log with a tensor"
   ]
  },
  {
   "cell_type": "code",
   "execution_count": 68,
   "metadata": {},
   "outputs": [
    {
     "name": "stdout",
     "output_type": "stream",
     "text": [
      "[0.1, 0.05, 0.025, 0.0125, 0.00625, 0.003125, 0.0015625, 0.00078125]\n",
      "tensor([0.1000, 0.0500, 0.0250, 0.0125, 0.0063, 0.0031, 0.0016, 0.0008])\n",
      "tensor(-0.1054)\n"
     ]
    }
   ],
   "source": [
    "import torch\n",
    "\n",
    "lr_decay = True\n",
    "lr = 0.1\n",
    "mesh_factor = 2.0\n",
    "cascade_depth = 8\n",
    "\n",
    "nupdates = 10\n",
    "\n",
    "def decayfn_arr(start, decay, length):\n",
    "    return [start*decay**i for i in range(length)]\n",
    "\n",
    "def decayfn_arr_2(start, decay, length):\n",
    "    def f(start):\n",
    "        return [start*decay**i for i in range(length)]\n",
    "    return f\n",
    "\n",
    "def constfn_arr(val,length):\n",
    "    def f(_):\n",
    "        return [val for i in range(length)]\n",
    "    return f\n",
    "\n",
    "# Create decay learning rates and clip ranges\n",
    "if isinstance(lr, float):\n",
    "    if lr_decay:\n",
    "        lrs = decayfn_arr(lr,1.0/mesh_factor, cascade_depth) # learning rates exponentially smaller for deeper policies in cascade\n",
    "        lrs_2 = decayfn_arr_2(lr,1.0/mesh_factor, cascade_depth)\n",
    "    else:\n",
    "        lrs = constfn_arr(lr,cascade_depth)\n",
    "else: assert callable(lr)\n",
    "print(lrs)\n",
    "lrs_t = torch.tensor(lrs)\n",
    "print(lrs_t)\n",
    "print(torch.log(1.0 - lrs_t[0]))\n",
    "\n"
   ]
  },
  {
   "attachments": {},
   "cell_type": "markdown",
   "metadata": {},
   "source": [
    "Check multiple use of backward()"
   ]
  },
  {
   "cell_type": "code",
   "execution_count": 70,
   "metadata": {},
   "outputs": [
    {
     "name": "stdout",
     "output_type": "stream",
     "text": [
      "nets[0] fc2 weight before train :\n",
      "Parameter containing:\n",
      "tensor([[-0.0939,  0.3407, -0.3503,  0.0387, -0.2518],\n",
      "        [-0.1043, -0.1145,  0.0335,  0.4070,  0.2214],\n",
      "        [-0.0019,  0.3175, -0.2292,  0.2305, -0.0415],\n",
      "        [-0.0778,  0.0524, -0.3426,  0.0517,  0.1504],\n",
      "        [ 0.3823, -0.1392,  0.1610,  0.4470, -0.1918]], requires_grad=True)\n",
      "nets[3] fc2 weight before train :\n",
      "Parameter containing:\n",
      "tensor([[ 0.3588,  0.2814, -0.2614, -0.0471,  0.0668],\n",
      "        [ 0.1278, -0.4142,  0.0200,  0.2330,  0.2525],\n",
      "        [ 0.2200,  0.0707, -0.4290,  0.2943, -0.3521],\n",
      "        [-0.2628,  0.0052,  0.1362,  0.2598, -0.0628],\n",
      "        [-0.2302, -0.0385,  0.1465, -0.2516, -0.3884]], requires_grad=True)\n",
      "tensor([1.0843], grad_fn=<AddBackward0>)\n",
      "tensor([1.0658], grad_fn=<AddBackward0>)\n",
      "tensor([1.0472], grad_fn=<AddBackward0>)\n",
      "tensor([1.0287], grad_fn=<AddBackward0>)\n",
      "tensor([1.0103], grad_fn=<AddBackward0>)\n",
      "tensor([0.9919], grad_fn=<AddBackward0>)\n",
      "tensor([0.9736], grad_fn=<AddBackward0>)\n",
      "tensor([0.9553], grad_fn=<AddBackward0>)\n",
      "tensor([0.9370], grad_fn=<AddBackward0>)\n",
      "tensor([0.9187], grad_fn=<AddBackward0>)\n",
      "nets[0] fc2 weight after train :\n",
      "Parameter containing:\n",
      "tensor([[-0.0840,  0.3508, -0.3603,  0.0286, -0.2619],\n",
      "        [-0.1143, -0.1246,  0.0435,  0.4171,  0.2315],\n",
      "        [ 0.0080,  0.3275, -0.2392,  0.2204, -0.0515],\n",
      "        [-0.0769,  0.0531, -0.3433,  0.0511,  0.1498],\n",
      "        [ 0.3724, -0.1493,  0.1711,  0.4571, -0.1817]], requires_grad=True)\n",
      "nets[3] fc2 weight after retrain:\n",
      "Parameter containing:\n",
      "tensor([[ 0.3578,  0.2804, -0.2604, -0.0481,  0.0677],\n",
      "        [ 0.1288, -0.4132,  0.0190,  0.2340,  0.2515],\n",
      "        [ 0.2190,  0.0697, -0.4280,  0.2933, -0.3511],\n",
      "        [-0.2618,  0.0062,  0.1352,  0.2608, -0.0638],\n",
      "        [-0.2292, -0.0375,  0.1456, -0.2506, -0.3894]], requires_grad=True)\n"
     ]
    }
   ],
   "source": [
    "import torch\n",
    "from torch import nn\n",
    "import torch.nn.functional as F\n",
    "import torch.optim as optim\n",
    "import random\n",
    "import numpy as np\n",
    "\n",
    "seed = 123\n",
    "random.seed(seed)\n",
    "np.random.seed(seed)\n",
    "torch.manual_seed(seed)\n",
    "\n",
    "# toy feed-forward net\n",
    "class Net(nn.Module):\n",
    "    def __init__(self):\n",
    "        super(Net, self).__init__()\n",
    "        self.fc1 = nn.Linear(10, 5)\n",
    "        self.fc2 = nn.Linear(5, 5)\n",
    "        self.fc3 = nn.Linear(5, 1)\n",
    "    def forward(self, x):\n",
    "        x = self.fc1(x)\n",
    "        x = self.fc2(x)\n",
    "        x = self.fc3(x)\n",
    "        return x\n",
    "\n",
    "# define random data\n",
    "random_input = torch.randn((10,), requires_grad = True)\n",
    "random_input2 = torch.randn((10,), requires_grad = True)\n",
    "random_target = torch.randn((1,), requires_grad = True)\n",
    "#random_input = torch.ones(10, requires_grad = True)\n",
    "#random_target = torch.ones(1, requires_grad = True)\n",
    "\n",
    "epochs = 10\n",
    "iters = 10\n",
    "cascade_depth = 4\n",
    "nets = []\n",
    "optimizers = []\n",
    "lrs = [0.001, 0.0007, 0.0003, 0.0001]\n",
    "# define nets\n",
    "for i in range(cascade_depth):\n",
    "    net = Net()\n",
    "    nets.append(net)\n",
    "    optimizer = torch.optim.Adam(net.parameters(), lr=lrs[i])\n",
    "    optimizers.append(optimizer)\n",
    "\n",
    "# define optimizer\n",
    "criterion = nn.MSELoss()\n",
    "\n",
    "#print the initial fc2 weight\n",
    "print('nets[0] fc2 weight before train :')\n",
    "print(nets[0].fc2.weight)\n",
    "print('nets[3] fc2 weight before train :')\n",
    "print(nets[3].fc2.weight)\n",
    "\n",
    "for i in range(iters):\n",
    "    loss1 = nets[0](random_input) - nets[1](random_input2)\n",
    "    hidden_loss = 0.0\n",
    "    for k in range(1,cascade_depth):\n",
    "        if k < (cascade_depth-1):\n",
    "            hidden_loss += nets[k](random_input) * nets[k+1](random_input2)\n",
    "    loss = loss1 + hidden_loss\n",
    "\n",
    "    # for k in range(cascade_depth):\n",
    "    #     optimizers[k].zero_grad()\n",
    "\n",
    "    for k in range(cascade_depth):\n",
    "        optimizers[k].zero_grad()\n",
    "        #loss.backward()\n",
    "        loss.backward(retain_graph=True)\n",
    "        # with torch.autograd.set_detect_anomaly(True):\n",
    "        #     loss.backward(retain_graph=True)\n",
    "    \n",
    "    # put optimizer outside loop\n",
    "    # The reason is that once you call optimizer.step() the variables are updated with the grads. When you again call loss2.backward() the grads have already been used to update the variables since in your case the variables(parameters) are common\n",
    "    \n",
    "    for k in range(cascade_depth):\n",
    "        optimizers[k].step()\n",
    "    print(loss)\n",
    "    \n",
    "# print the trained fc2 weight\n",
    "print('nets[0] fc2 weight after train :')\n",
    "print(nets[0].fc2.weight)\n",
    "print('nets[3] fc2 weight after retrain:')\n",
    "print(nets[3].fc2.weight) "
   ]
  },
  {
   "attachments": {},
   "cell_type": "markdown",
   "metadata": {},
   "source": [
    "Simple examplo of training"
   ]
  },
  {
   "cell_type": "code",
   "execution_count": 83,
   "metadata": {},
   "outputs": [
    {
     "name": "stdout",
     "output_type": "stream",
     "text": [
      "torch.Size([100, 10])\n",
      "torch.Size([100, 1])\n",
      "Sequential(\n",
      "  (0): Linear(in_features=10, out_features=15, bias=True)\n",
      "  (1): ReLU()\n",
      "  (2): Linear(in_features=15, out_features=1, bias=True)\n",
      "  (3): Sigmoid()\n",
      ")\n"
     ]
    },
    {
     "data": {
      "image/png": "[encoded data removed]",
      "text/plain": [
       "<Figure size 640x480 with 1 Axes>"
      ]
     },
     "metadata": {},
     "output_type": "display_data"
    }
   ],
   "source": [
    "import torch\n",
    "import torch.nn as nn\n",
    "\n",
    "n_input, n_hidden, n_out, batch_size, learning_rate = 10, 15, 1, 100, 0.01\n",
    "\n",
    "data_x = torch.randn(batch_size, n_input)\n",
    "data_y = (torch.rand(size=(batch_size, 1)) < 0.5).float()\n",
    "\n",
    "print(data_x.size())\n",
    "print(data_y.size())\n",
    "\n",
    "model = nn.Sequential(nn.Linear(n_input, n_hidden),\n",
    "                      nn.ReLU(),\n",
    "                      nn.Linear(n_hidden, n_out),\n",
    "                      nn.Sigmoid())\n",
    "print(model)\n",
    "\n",
    "loss_function = nn.MSELoss()\n",
    "optimizer = torch.optim.SGD(model.parameters(), lr=learning_rate)\n",
    "\n",
    "losses = []\n",
    "for epoch in range(5000):\n",
    "    pred_y = model(data_x)\n",
    "    loss = loss_function(pred_y, data_y)\n",
    "    losses.append(loss.item())\n",
    "\n",
    "    model.zero_grad()\n",
    "    loss.backward()\n",
    "\n",
    "    optimizer.step()\n",
    "\n",
    "import matplotlib.pyplot as plt\n",
    "plt.plot(losses)\n",
    "plt.ylabel('loss')\n",
    "plt.xlabel('epoch')\n",
    "plt.title(\"Learning rate %f\"%(learning_rate))\n",
    "plt.show()   "
   ]
  },
  {
   "attachments": {},
   "cell_type": "markdown",
   "metadata": {},
   "source": [
    "Setting different learning rates in the optimizer for different models "
   ]
  },
  {
   "cell_type": "code",
   "execution_count": 69,
   "metadata": {},
   "outputs": [
    {
     "name": "stdout",
     "output_type": "stream",
     "text": [
      "nets[0] fc2 weight before train :\n",
      "Parameter containing:\n",
      "tensor([[-0.0939,  0.3407, -0.3503,  0.0387, -0.2518],\n",
      "        [-0.1043, -0.1145,  0.0335,  0.4070,  0.2214],\n",
      "        [-0.0019,  0.3175, -0.2292,  0.2305, -0.0415],\n",
      "        [-0.0778,  0.0524, -0.3426,  0.0517,  0.1504],\n",
      "        [ 0.3823, -0.1392,  0.1610,  0.4470, -0.1918]], requires_grad=True)\n",
      "nets[3] fc2 weight before train :\n",
      "Parameter containing:\n",
      "tensor([[ 0.3588,  0.2814, -0.2614, -0.0471,  0.0668],\n",
      "        [ 0.1278, -0.4142,  0.0200,  0.2330,  0.2525],\n",
      "        [ 0.2200,  0.0707, -0.4290,  0.2943, -0.3521],\n",
      "        [-0.2628,  0.0052,  0.1362,  0.2598, -0.0628],\n",
      "        [-0.2302, -0.0385,  0.1465, -0.2516, -0.3884]], requires_grad=True)\n",
      "tensor([1.0843], grad_fn=<AddBackward0>)\n",
      "tensor([1.0658], grad_fn=<AddBackward0>)\n",
      "tensor([1.0472], grad_fn=<AddBackward0>)\n",
      "tensor([1.0287], grad_fn=<AddBackward0>)\n",
      "tensor([1.0103], grad_fn=<AddBackward0>)\n",
      "tensor([0.9919], grad_fn=<AddBackward0>)\n",
      "tensor([0.9736], grad_fn=<AddBackward0>)\n",
      "tensor([0.9553], grad_fn=<AddBackward0>)\n",
      "tensor([0.9370], grad_fn=<AddBackward0>)\n",
      "tensor([0.9187], grad_fn=<AddBackward0>)\n",
      "nets[0] fc2 weight after train :\n",
      "Parameter containing:\n",
      "tensor([[-0.0840,  0.3508, -0.3603,  0.0286, -0.2619],\n",
      "        [-0.1143, -0.1246,  0.0435,  0.4171,  0.2315],\n",
      "        [ 0.0080,  0.3275, -0.2392,  0.2204, -0.0515],\n",
      "        [-0.0769,  0.0531, -0.3433,  0.0511,  0.1498],\n",
      "        [ 0.3724, -0.1493,  0.1711,  0.4571, -0.1817]], requires_grad=True)\n",
      "nets[3] fc2 weight after retrain:\n",
      "Parameter containing:\n",
      "tensor([[ 0.3578,  0.2804, -0.2604, -0.0481,  0.0677],\n",
      "        [ 0.1288, -0.4132,  0.0190,  0.2340,  0.2515],\n",
      "        [ 0.2190,  0.0697, -0.4280,  0.2933, -0.3511],\n",
      "        [-0.2618,  0.0062,  0.1352,  0.2608, -0.0638],\n",
      "        [-0.2292, -0.0375,  0.1456, -0.2506, -0.3894]], requires_grad=True)\n"
     ]
    }
   ],
   "source": [
    "import torch\n",
    "from torch import nn\n",
    "import torch.nn.functional as F\n",
    "import torch.optim as optim\n",
    "import random\n",
    "import numpy as np\n",
    "\n",
    "seed = 123\n",
    "random.seed(seed)\n",
    "np.random.seed(seed)\n",
    "torch.manual_seed(seed)\n",
    "\n",
    "# toy feed-forward net\n",
    "class Net(nn.Module):\n",
    "    def __init__(self):\n",
    "        super(Net, self).__init__()\n",
    "        self.fc1 = nn.Linear(10, 5)\n",
    "        self.fc2 = nn.Linear(5, 5)\n",
    "        self.fc3 = nn.Linear(5, 1)\n",
    "    def forward(self, x):\n",
    "        x = self.fc1(x)\n",
    "        x = self.fc2(x)\n",
    "        x = self.fc3(x)\n",
    "        return x\n",
    "\n",
    "# define random data\n",
    "random_input = torch.randn((10,), requires_grad = True)\n",
    "random_input2 = torch.randn((10,), requires_grad = True)\n",
    "random_target = torch.randn((1,), requires_grad = True)\n",
    "#random_input = torch.ones(10, requires_grad = True)\n",
    "#random_target = torch.ones(1, requires_grad = True)\n",
    "\n",
    "epochs = 10\n",
    "iters = 10\n",
    "cascade_depth = 4\n",
    "nets = []\n",
    "\n",
    "lrs = [0.001, 0.0007, 0.0003, 0.0001]\n",
    "\n",
    "# define nets\n",
    "for i in range(cascade_depth):\n",
    "    net = Net()\n",
    "    nets.append(net)\n",
    "\n",
    "optimizer = torch.optim.Adam(nets[0].parameters(), lr=lrs[0])\n",
    "\n",
    "# define optimizer\n",
    "criterion = nn.MSELoss()\n",
    "\n",
    "for i in range(1,cascade_depth):\n",
    "    optimizer.add_param_group({'params': [*nets[i].parameters()], 'lr': lrs[i]})\n",
    "\n",
    "#print the initial fc2 weight\n",
    "print('nets[0] fc2 weight before train :')\n",
    "print(nets[0].fc2.weight)\n",
    "print('nets[3] fc2 weight before train :')\n",
    "print(nets[3].fc2.weight)\n",
    "\n",
    "for i in range(iters):\n",
    "    loss1 = nets[0](random_input) - nets[1](random_input2)\n",
    "    hidden_loss = 0.0\n",
    "    for k in range(1,cascade_depth):\n",
    "        if k < (cascade_depth-1):\n",
    "            hidden_loss += nets[k](random_input) * nets[k+1](random_input2)\n",
    "    loss = loss1 + hidden_loss\n",
    "\n",
    "    # for k in range(cascade_depth):\n",
    "    #     optimizers[k].zero_grad()\n",
    "\n",
    "    optimizer.zero_grad()\n",
    "    loss.backward()\n",
    "    # for k in range(cascade_depth):   \n",
    "    #     #loss.backward()\n",
    "    #     loss.backward(retain_graph=True)\n",
    "    \n",
    "    optimizer.step()\n",
    "    print(loss)\n",
    "    \n",
    "# print the trained fc2 weight\n",
    "print('nets[0] fc2 weight after train :')\n",
    "print(nets[0].fc2.weight)\n",
    "print('nets[3] fc2 weight after retrain:')\n",
    "print(nets[3].fc2.weight) "
   ]
  },
  {
   "cell_type": "code",
   "execution_count": null,
   "metadata": {},
   "outputs": [],
   "source": [
    "def initialize_weights(m):\n",
    "  if isinstance(m, nn.Conv2d):\n",
    "      nn.init.kaiming_uniform_(m.weight.data,nonlinearity='relu')\n",
    "      if m.bias is not None:\n",
    "          nn.init.constant_(m.bias.data, 0)\n",
    "  elif isinstance(m, nn.BatchNorm2d):\n",
    "      nn.init.constant_(m.weight.data, 1)\n",
    "      nn.init.constant_(m.bias.data, 0)\n",
    "  elif isinstance(m, nn.Linear):\n",
    "      nn.init.kaiming_uniform_(m.weight.data)\n",
    "      nn.init.constant_(m.bias.data, 0)\n",
    "\n",
    "def initialize_weights(m):\n",
    "  if isinstance(m, nn.Conv2d):\n",
    "      nn.init.kaiming_uniform_(m.weight.data,nonlinearity='relu')\n",
    "      if m.bias is not None:\n",
    "          nn.init.constant_(m.bias.data, 0)\n",
    "  elif isinstance(m, nn.BatchNorm2d):\n",
    "      nn.init.constant_(m.weight.data, 1)\n",
    "      nn.init.constant_(m.bias.data, 0)\n",
    "  elif isinstance(m, nn.Linear): # for tanh or sigmoid activations\n",
    "      #nn.init.kaiming_uniform_(m.weight.data)\n",
    "      nn.init.xavier_uniform(m.weight)\n",
    "      nn.init.constant_(m.bias.data, 0)\n"
   ]
  },
  {
   "cell_type": "code",
   "execution_count": 6,
   "metadata": {},
   "outputs": [
    {
     "name": "stdout",
     "output_type": "stream",
     "text": [
      "min_lim tensor(0.8000)\n",
      "max_lim tensor(1.2000)\n",
      "log_min tensor(-0.2231)\n",
      "log_max tensor(0.1823)\n",
      "tensor(148.4132)\n",
      "tensor(5.)\n"
     ]
    }
   ],
   "source": [
    "import torch\n",
    "\n",
    "cliprange = 0.2\n",
    "cliprangeT = torch.tensor(cliprange)\n",
    "\n",
    "min_lim = 1.0 - cliprangeT\n",
    "max_lim = 1.0 + cliprangeT\n",
    "log_min = torch.log(1.0 - cliprangeT)\n",
    "log_max = torch.log(1.0 + cliprangeT)\n",
    "\n",
    "print('min_lim', min_lim)\n",
    "print('max_lim', max_lim)\n",
    "print('log_min', log_min)\n",
    "print('log_max', log_max)\n",
    "\n",
    "a = torch.tensor(28)\n",
    "b = torch.tensor(2)\n",
    "clip_min = torch.tensor(-5)\n",
    "clip_max = torch.tensor(5)\n",
    "print(torch.exp(torch.clamp(a-b, clip_min, clip_max)))\n",
    "print(torch.clamp(torch.exp(a-b), clip_min, clip_max))"
   ]
  },
  {
   "cell_type": "code",
   "execution_count": 11,
   "metadata": {},
   "outputs": [
    {
     "name": "stdout",
     "output_type": "stream",
     "text": [
      "tensor([[8., 8., 8., 8., 8., 8., 8., 8., 8., 8.],\n",
      "        [8., 8., 8., 8., 8., 8., 8., 8., 8., 8.]])\n",
      "tensor([2., 2., 2., 2., 2., 2., 2., 2., 2., 2.])\n",
      "[tensor([2., 2., 2., 2., 2., 2., 2., 2., 2., 2.]), tensor([3., 3., 3., 3., 3., 3., 3., 3., 3., 3.])]\n",
      "[tensor([-6., -6., -6., -6., -6., -6., -6., -6., -6., -6.]), tensor([-5., -5., -5., -5., -5., -5., -5., -5., -5., -5.])]\n"
     ]
    }
   ],
   "source": [
    "import torch\n",
    "\n",
    "a = 8*torch.ones((2,10))\n",
    "b = 2*torch.ones((10,))\n",
    "c = 3*torch.ones((10,))\n",
    "d = []\n",
    "d.append(b)\n",
    "d.append(c)\n",
    "\n",
    "print(a)\n",
    "print(b)\n",
    "print(d)\n",
    "\n",
    "ratios = [(curr-old) for (curr, old) in zip (d, a)]\n",
    "\n",
    "print(ratios)\n"
   ]
  },
  {
   "cell_type": "code",
   "execution_count": 7,
   "metadata": {},
   "outputs": [
    {
     "name": "stdout",
     "output_type": "stream",
     "text": [
      "hola_2\n",
      "hola_2_3\n"
     ]
    }
   ],
   "source": [
    "a = 'hola'\n",
    "a = a + '_2'\n",
    "print(a)\n",
    "a = a + '_3'\n",
    "print(a)"
   ]
  },
  {
   "cell_type": "code",
   "execution_count": 32,
   "metadata": {},
   "outputs": [
    {
     "name": "stdout",
     "output_type": "stream",
     "text": [
      "tensor([8., 8., 8., 8., 8., 8., 8., 8., 8., 8.])\n",
      "tensor([1., 1., 1., 1., 1., 1., 1., 1., 1., 1.])\n",
      "tensor([2., 2., 2., 2., 2., 2., 2., 2., 2., 2.])\n",
      "tensor([3., 3., 3., 3., 3., 3., 3., 3., 3., 3.])\n",
      "1\n",
      "2\n",
      "3\n"
     ]
    }
   ],
   "source": [
    "import torch\n",
    "d = {}\n",
    "cascade = 4\n",
    "d['model_state'] = 8*torch.ones((10))\n",
    "if cascade > 1:\n",
    "    d['hidden_model_state'] = [i*torch.ones((10)) for i in range(1,cascade)]\n",
    "\n",
    "print(d['model_state'])\n",
    "for k in range(1, cascade):\n",
    "    print(d['hidden_model_state'][k-1]) \n",
    "\n",
    "for k in range(1,cascade):\n",
    "    print(k)"
   ]
  },
  {
   "cell_type": "code",
   "execution_count": 9,
   "metadata": {},
   "outputs": [
    {
     "name": "stdout",
     "output_type": "stream",
     "text": [
      "MiniGrid-Empty-Random-6x6-v0\n",
      "None\n"
     ]
    }
   ],
   "source": [
    "config = {}\n",
    "config[\"env\"] = \"mini-grid\"\n",
    "config[\"env_config\"] = {\n",
    "    # Also works with:\n",
    "    # - MiniGrid-MultiRoom-N4-S5-v0\n",
    "    # - MiniGrid-MultiRoom-N2-S4-v0\n",
    "    #\"name\": \"MiniGrid-Empty-5x5-v0\",\n",
    "    \"name\": \"MiniGrid-Empty-Random-6x6-v0\",\n",
    "    \"framestack\": 1,  # seems to work even w/o framestacking\n",
    "}\n",
    "\n",
    "print(config['env_config']['name'])\n",
    "print(config.get('name'))"
   ]
  },
  {
   "attachments": {},
   "cell_type": "markdown",
   "metadata": {},
   "source": [
    "Use of view() and permute()"
   ]
  },
  {
   "cell_type": "code",
   "execution_count": 22,
   "metadata": {},
   "outputs": [
    {
     "name": "stdout",
     "output_type": "stream",
     "text": [
      "tensor([[[ 1,  2,  3],\n",
      "         [ 4,  5,  6],\n",
      "         [ 7,  8,  9]],\n",
      "\n",
      "        [[10, 20, 30],\n",
      "         [40, 50, 60],\n",
      "         [70, 80, 90]]])\n",
      "torch.Size([2, 3, 3])\n",
      "tensor([[[ 1, 10],\n",
      "         [ 2, 20],\n",
      "         [ 3, 30]],\n",
      "\n",
      "        [[ 4, 40],\n",
      "         [ 5, 50],\n",
      "         [ 6, 60]],\n",
      "\n",
      "        [[ 7, 70],\n",
      "         [ 8, 80],\n",
      "         [ 9, 90]]])\n",
      "torch.Size([3, 3, 2])\n",
      "tensor([[[ 1,  2],\n",
      "         [ 3,  4],\n",
      "         [ 5,  6]],\n",
      "\n",
      "        [[ 7,  8],\n",
      "         [ 9, 10],\n",
      "         [20, 30]],\n",
      "\n",
      "        [[40, 50],\n",
      "         [60, 70],\n",
      "         [80, 90]]])\n",
      "torch.Size([3, 3, 2])\n"
     ]
    }
   ],
   "source": [
    "import torch\n",
    "\n",
    "a = torch.tensor(\n",
    "    [[\n",
    "    [1,2,3],\n",
    "    [4,5,6],\n",
    "    [7,8,9]],\n",
    "    [\n",
    "    [10,20,30],\n",
    "    [40,50,60],\n",
    "    [70,80,90]]]\n",
    "    )\n",
    "print(a\n",
    "print(a.shape)\n",
    "b = a.permute(1,2,0)\n",
    "print(b)\n",
    "print(b.shape)\n",
    "c = a.view(3,3,2)\n",
    "print(c)\n",
    "print(c.shape)\n"
   ]
  },
  {
   "attachments": {},
   "cell_type": "markdown",
   "metadata": {},
   "source": [
    "Test deterministc  actions"
   ]
  },
  {
   "cell_type": "code",
   "execution_count": null,
   "metadata": {},
   "outputs": [],
   "source": [
    "a = torch.tensor(\n",
    "    [[0.25, 0.75],\n",
    "    [0.55, 0.45],\n",
    "    [0.35, 0.85]]\n",
    ")\n",
    "print(a)\n",
    "print(a.max(1, keepdim=True)[1])"
   ]
  },
  {
   "cell_type": "code",
   "execution_count": 4,
   "metadata": {},
   "outputs": [
    {
     "name": "stdout",
     "output_type": "stream",
     "text": [
      "tensor([[ 0.5855,  0.1795,  1.1568, -1.6501,  0.2094],\n",
      "        [-1.8994, -0.4485,  0.3780, -0.3433,  1.2660],\n",
      "        [ 0.2029, -0.8991, -1.0801, -0.6135,  1.7004],\n",
      "        [-0.0956, -0.6260, -1.3499,  0.0529, -1.5415]])\n",
      "tensor([ 0.0000,  0.0000,  1.4460, -2.0626,  0.2618])\n"
     ]
    }
   ],
   "source": [
    "import torch\n",
    "\n",
    "m = torch.nn.Dropout(p=0.2)\n",
    "input = torch.randn(4, 5)\n",
    "print(input)\n",
    "output = m(input)\n",
    "print(output[0])"
   ]
  },
  {
   "attachments": {},
   "cell_type": "markdown",
   "metadata": {},
   "source": [
    "Test CNN shapes"
   ]
  },
  {
   "cell_type": "code",
   "execution_count": null,
   "metadata": {},
   "outputs": [],
   "source": [
    "import torch\n",
    "from torch import nn\n",
    "from torch.nn import functional as F\n",
    "\n",
    "in_features_next_layer = 576\n",
    "memory_layer_size = 256\n",
    "obs = torch.randn(1, 3, 56, 56) \n",
    "\n",
    "conv1 = nn.Conv2d(obs.shape[1], 32, 8, 4,)\n",
    "conv2 = nn.Conv2d(32, 64, 4, 2, 0)\n",
    "conv3 = nn.Conv2d(64, 64, 3, 1, 0)\n",
    "lin_hidden = nn.Linear(in_features_next_layer, memory_layer_size)\n",
    "\n",
    "h = obs\n",
    "batch_size = h.shape[0]\n",
    "# Propagate input through the visual encoder\n",
    "h = F.relu(conv1(h))\n",
    "h = F.relu(conv2(h))\n",
    "h = F.relu(conv3(h))\n",
    "# Flatten the output of the convolutional layers\n",
    "h = h.reshape((batch_size, -1))\n",
    "\n",
    "h2 = F.relu(lin_hidden(h))\n"
   ]
  },
  {
   "cell_type": "code",
   "execution_count": null,
   "metadata": {},
   "outputs": [],
   "source": [
    "print(h.shape)\n",
    "print(h2.shape)"
   ]
  },
  {
   "cell_type": "code",
   "execution_count": null,
   "metadata": {},
   "outputs": [],
   "source": [
    "print(1e5//512//16)"
   ]
  },
  {
   "attachments": {},
   "cell_type": "markdown",
   "metadata": {},
   "source": [
    "Tensor type"
   ]
  },
  {
   "cell_type": "code",
   "execution_count": 2,
   "metadata": {},
   "outputs": [
    {
     "name": "stdout",
     "output_type": "stream",
     "text": [
      "~ (operator.invert) is only implemented on integer and Boolean-type tensors\n",
      "tensor([-1, -2, -2, -3], dtype=torch.int32)\n"
     ]
    }
   ],
   "source": [
    "import torch\n",
    "\n",
    "# create a tensor of floats\n",
    "x = torch.tensor([0.5, 1.0, 1.5, 2.0])\n",
    "\n",
    "# try to apply the \"~\" operator to the tensor of floats\n",
    "try:\n",
    "    y = ~x\n",
    "except TypeError as e:\n",
    "    print(e)\n",
    "\n",
    "# convert the tensor to an integer type and apply the \"~\" operator\n",
    "x = x.type(torch.int)\n",
    "y = ~x\n",
    "\n",
    "print(y)\n"
   ]
  },
  {
   "cell_type": "code",
   "execution_count": 21,
   "metadata": {},
   "outputs": [
    {
     "name": "stdout",
     "output_type": "stream",
     "text": [
      "tensor([[ True,  True,  True, False]])\n"
     ]
    }
   ],
   "source": [
    "import torch\n",
    "# self.memory = torch.zeros((self.num_workers, self.max_episode_length, self.num_blocks, self.embed_dim), dtype=torch.float32)\n",
    "# self.memory_mask = torch.tril(torch.ones((self.memory_length, self.memory_length)), diagonal=-1)\n",
    "# buffer self.memory_mask = torch.zeros((self.n_workers, self.worker_steps, self.memory_length), dtype=torch.bool)\n",
    "#worker_current_episode_step = torch.zeros((self.num_workers, ), dtype=torch.long)\n",
    "# buffer_memory_mask[:, t] = memory_mask[torch.clip(self.worker_current_episode_step, 0, self.memory_length - 1)]\n",
    "\n",
    "worker_current_episode_step = torch.zeros((1, ), dtype=torch.long)\n",
    "worker_current_episode_step[0] +=1\n",
    "worker_current_episode_step[0] +=1\n",
    "worker_current_episode_step[0] +=1\n",
    "worker_current_episode_step[0] +=1\n",
    "worker_current_episode_step[0] +=1\n",
    "worker_current_episode_step[0] +=1\n",
    "worker_current_episode_step[0] +=1\n",
    "worker_current_episode_step[0] +=1\n",
    "worker_current_episode_step[0] +=1\n",
    "worker_current_episode_step[0] +=1\n",
    "worker_current_episode_step[0] +=1\n",
    "worker_current_episode_step[0] +=1\n",
    "\n",
    "\n",
    "buffer_memory_mask = torch.zeros((1, 12, 4), dtype=torch.bool)\n",
    "\n",
    "memory = torch.zeros((1, 8, 1, 6), dtype=torch.float32)\n",
    "memory_mask = torch.tril(torch.ones((4, 4)), diagonal=-1)\n",
    "\n",
    "buffer_memory_mask[:, 11] = memory_mask[torch.clip(worker_current_episode_step, 0, 4 - 1)]\n",
    "\n",
    "# print(memory)\n",
    "# print(memory_mask)\n",
    "# print(buffer_memory_mask)\n",
    "#print(worker_current_episode_step)\n",
    "\n",
    "print(buffer_memory_mask[:, 11])\n"
   ]
  },
  {
   "cell_type": "code",
   "execution_count": 40,
   "metadata": {},
   "outputs": [
    {
     "name": "stdout",
     "output_type": "stream",
     "text": [
      "tensor([1, 1, 0, 1], dtype=torch.int32)\n",
      "False\n",
      "tensor([ True,  True, False,  True])\n",
      "True\n",
      "tensor([True, True, True, True])\n",
      "True\n",
      "tensor([ True,  True, False,  True])\n",
      "True\n"
     ]
    }
   ],
   "source": [
    "import torch\n",
    "\n",
    "# create a floating point tensor\n",
    "x = torch.tensor([1., 1., 0.00000001, 1.])\n",
    "\n",
    "# convert the tensor to an integer\n",
    "x2 = x.to(torch.int)\n",
    "\n",
    "# print the new tensor\n",
    "print(x2)\n",
    "print(x2.dtype == torch.bool)  \n",
    "\n",
    "x3 = x2.to(torch.bool)\n",
    "print(x3)\n",
    "print(x3.dtype == torch.bool)\n",
    "\n",
    "x4 = x.to(torch.bool)\n",
    "print(x4)\n",
    "print(x4.dtype == torch.bool)\n",
    "\n",
    "x5 = x.to(torch.int).to(torch.bool)\n",
    "print(x5)\n",
    "print(x5.dtype == torch.bool)\n",
    "\n"
   ]
  },
  {
   "cell_type": "code",
   "execution_count": 4,
   "metadata": {},
   "outputs": [
    {
     "data": {
      "text/plain": [
       "<torch._C.Generator at 0x1180733b0>"
      ]
     },
     "execution_count": 4,
     "metadata": {},
     "output_type": "execute_result"
    }
   ],
   "source": [
    "import torch\n",
    "torch.manual_seed(2**64-1)"
   ]
  },
  {
   "cell_type": "code",
   "execution_count": 20,
   "metadata": {},
   "outputs": [
    {
     "name": "stdout",
     "output_type": "stream",
     "text": [
      "3074457345618258602\n",
      "9223372036854775807\n",
      "15372286728091293012\n"
     ]
    }
   ],
   "source": [
    "segment_size = (2**64-1)//3\n",
    "seed1 = (segment_size - 0)//2\n",
    "seed2 = segment_size + segment_size//2\n",
    "seed3 = segment_size*2 + segment_size//2\n",
    "print(seed1)\n",
    "print(seed2)\n",
    "print(seed3)"
   ]
  },
  {
   "cell_type": "code",
   "execution_count": 29,
   "metadata": {},
   "outputs": [
    {
     "name": "stdout",
     "output_type": "stream",
     "text": [
      "tensor([[0.0780, 0.0853, 0.3118, 0.4499]], requires_grad=True)\n",
      "tensor([[0.0061, 0.0073, 0.0972, 0.2024]], grad_fn=<PowBackward0>)\n",
      "tensor([[0.0122, 0.0145, 0.1944, 0.4048]], grad_fn=<MulBackward0>)\n",
      "tensor(0.1565, grad_fn=<MeanBackward0>)\n",
      "tensor(0.6260, grad_fn=<SumBackward0>)\n"
     ]
    }
   ],
   "source": [
    "import torch\n",
    "from torch.autograd import Variable\n",
    "a = Variable(torch.rand(1, 4), requires_grad=True)\n",
    "b = a**2\n",
    "c = b*2\n",
    "d = c.mean()\n",
    "e = c.sum()\n",
    "\n",
    "print(a)\n",
    "print(b)\n",
    "print(c)\n",
    "print(d)\n",
    "print(e)"
   ]
  },
  {
   "cell_type": "code",
   "execution_count": 30,
   "metadata": {},
   "outputs": [
    {
     "name": "stdout",
     "output_type": "stream",
     "text": [
      "tensor(0.1565, grad_fn=<MeanBackward0>)\n",
      "tensor(0.6260, grad_fn=<SumBackward0>)\n",
      "tensor(0.1565, grad_fn=<MeanBackward0>)\n"
     ]
    }
   ],
   "source": [
    "d.backward(retain_graph=True) # fine\n",
    "print(d)\n",
    "e.backward(retain_graph=True) # fine\n",
    "print(e)\n",
    "d.backward() # also fine\n",
    "print(d)\n"
   ]
  },
  {
   "cell_type": "code",
   "execution_count": 31,
   "metadata": {},
   "outputs": [
    {
     "ename": "RuntimeError",
     "evalue": "Trying to backward through the graph a second time (or directly access saved tensors after they have already been freed). Saved intermediate values of the graph are freed when you call .backward() or autograd.grad(). Specify retain_graph=True if you need to backward through the graph a second time or if you need to access saved tensors after calling backward.",
     "output_type": "error",
     "traceback": [
      "\u001b[0;31m---------------------------------------------------------------------------\u001b[0m",
      "\u001b[0;31mRuntimeError\u001b[0m                              Traceback (most recent call last)",
      "\u001b[0;32m/var/folders/mj/7zvl797s38qgzlm091ctt_gw0000gn/T/ipykernel_18433/4212529029.py\u001b[0m in \u001b[0;36m<module>\u001b[0;34m\u001b[0m\n\u001b[0;32m----> 1\u001b[0;31m \u001b[0me\u001b[0m\u001b[0;34m.\u001b[0m\u001b[0mbackward\u001b[0m\u001b[0;34m(\u001b[0m\u001b[0mretain_graph\u001b[0m\u001b[0;34m=\u001b[0m\u001b[0;32mTrue\u001b[0m\u001b[0;34m)\u001b[0m \u001b[0;31m# fine\u001b[0m\u001b[0;34m\u001b[0m\u001b[0;34m\u001b[0m\u001b[0m\n\u001b[0m",
      "\u001b[0;32m~/.local/share/virtualenvs/tfm-experiments-K5nk3NK1/lib/python3.7/site-packages/torch/_tensor.py\u001b[0m in \u001b[0;36mbackward\u001b[0;34m(self, gradient, retain_graph, create_graph, inputs)\u001b[0m\n\u001b[1;32m    487\u001b[0m             )\n\u001b[1;32m    488\u001b[0m         torch.autograd.backward(\n\u001b[0;32m--> 489\u001b[0;31m             \u001b[0mself\u001b[0m\u001b[0;34m,\u001b[0m \u001b[0mgradient\u001b[0m\u001b[0;34m,\u001b[0m \u001b[0mretain_graph\u001b[0m\u001b[0;34m,\u001b[0m \u001b[0mcreate_graph\u001b[0m\u001b[0;34m,\u001b[0m \u001b[0minputs\u001b[0m\u001b[0;34m=\u001b[0m\u001b[0minputs\u001b[0m\u001b[0;34m\u001b[0m\u001b[0;34m\u001b[0m\u001b[0m\n\u001b[0m\u001b[1;32m    490\u001b[0m         )\n\u001b[1;32m    491\u001b[0m \u001b[0;34m\u001b[0m\u001b[0m\n",
      "\u001b[0;32m~/.local/share/virtualenvs/tfm-experiments-K5nk3NK1/lib/python3.7/site-packages/torch/autograd/__init__.py\u001b[0m in \u001b[0;36mbackward\u001b[0;34m(tensors, grad_tensors, retain_graph, create_graph, grad_variables, inputs)\u001b[0m\n\u001b[1;32m    197\u001b[0m     Variable._execution_engine.run_backward(  # Calls into the C++ engine to run the backward pass\n\u001b[1;32m    198\u001b[0m         \u001b[0mtensors\u001b[0m\u001b[0;34m,\u001b[0m \u001b[0mgrad_tensors_\u001b[0m\u001b[0;34m,\u001b[0m \u001b[0mretain_graph\u001b[0m\u001b[0;34m,\u001b[0m \u001b[0mcreate_graph\u001b[0m\u001b[0;34m,\u001b[0m \u001b[0minputs\u001b[0m\u001b[0;34m,\u001b[0m\u001b[0;34m\u001b[0m\u001b[0;34m\u001b[0m\u001b[0m\n\u001b[0;32m--> 199\u001b[0;31m         allow_unreachable=True, accumulate_grad=True)  # Calls into the C++ engine to run the backward pass\n\u001b[0m\u001b[1;32m    200\u001b[0m \u001b[0;34m\u001b[0m\u001b[0m\n\u001b[1;32m    201\u001b[0m def grad(\n",
      "\u001b[0;31mRuntimeError\u001b[0m: Trying to backward through the graph a second time (or directly access saved tensors after they have already been freed). Saved intermediate values of the graph are freed when you call .backward() or autograd.grad(). Specify retain_graph=True if you need to backward through the graph a second time or if you need to access saved tensors after calling backward."
     ]
    }
   ],
   "source": [
    "e.backward(retain_graph=True) # fine"
   ]
  },
  {
   "cell_type": "code",
   "execution_count": 36,
   "metadata": {},
   "outputs": [
    {
     "name": "stdout",
     "output_type": "stream",
     "text": [
      "tensor([6.])\n",
      "None.\n",
      "The grad_fn is: <PowBackward0 object at 0x1365d9950>\n"
     ]
    }
   ],
   "source": [
    "import torch\n",
    "\n",
    "# Step 1: Define a tensor and make sure requires_grad=True so that it tracks operations\n",
    "x = torch.tensor([3.0], requires_grad=True)\n",
    "\n",
    "# Step 2: Define a simple function\n",
    "y = x ** 2\n",
    "\n",
    "# Step 3: Use torch.autograd.grad to compute the gradient\n",
    "dy_dx = torch.autograd.grad(outputs=y, inputs=x)[0]\n",
    "print(dy_dx)  # This should print: tensor([6.]), since dy/dx = 2*x and x=3\n",
    "\n",
    "if dy_dx.grad_fn:\n",
    "    print(\"The grad_fn is:\", dy_dx.grad_fn)\n",
    "else:\n",
    "    print(\"None.\")\n",
    "\n",
    "if y.grad_fn:\n",
    "    print(\"The grad_fn is:\", y.grad_fn)\n",
    "else:\n",
    "    print(\"None.\")"
   ]
  },
  {
   "cell_type": "code",
   "execution_count": 43,
   "metadata": {},
   "outputs": [
    {
     "name": "stdout",
     "output_type": "stream",
     "text": [
      "Gradient of loss w.r.t w: tensor([-8.])\n",
      "Gradient of loss w.r.t b: tensor([-4.])\n"
     ]
    }
   ],
   "source": [
    "import torch\n",
    "\n",
    "# Step 1: Initialize tensors with requires_grad=True so that they track operations\n",
    "x = torch.tensor([2.0])\n",
    "w = torch.tensor([1.0], requires_grad=True)\n",
    "b = torch.tensor([0.5], requires_grad=True)\n",
    "\n",
    "# Step 2: Define the forward pass (compute y)\n",
    "y = w * x + b\n",
    "\n",
    "# Step 3: Define a target value and compute the loss\n",
    "target = torch.tensor([4.5])\n",
    "loss = (y - target) ** 2\n",
    "\n",
    "# Step 4: Backward pass to compute gradients\n",
    "loss.backward()\n",
    "\n",
    "# Print gradients\n",
    "print(\"Gradient of loss w.r.t w:\", w.grad)\n",
    "print(\"Gradient of loss w.r.t b:\", b.grad)"
   ]
  },
  {
   "cell_type": "code",
   "execution_count": 10,
   "metadata": {},
   "outputs": [
    {
     "name": "stdout",
     "output_type": "stream",
     "text": [
      "tensor([1., 2.])\n",
      "tensor([[1., 2.]])\n",
      "tensor([1., 2.])\n",
      "tensor([[1.0000, 2.0000],\n",
      "        [1.5000, 2.4000]])\n",
      "tensor(2.4000)\n"
     ]
    }
   ],
   "source": [
    "import torch\n",
    "\n",
    "initial_tensor = torch.tensor([1., 2.])\n",
    "reshaped_tensor = initial_tensor.view(1, 2)\n",
    "print(initial_tensor)\n",
    "print(reshaped_tensor)\n",
    "print(reshaped_tensor[0])\n",
    "\n",
    "\n",
    "second_tensor = torch.tensor([0.5, 0.4]).view(1, 2)\n",
    "reshaped_tensor = torch.cat((reshaped_tensor, reshaped_tensor+second_tensor), dim=0)\n",
    "print(reshaped_tensor)\n",
    "#print(reshaped_tensor + second_tensor)\n",
    "print(reshaped_tensor[1][1])\n",
    "\n"
   ]
  },
  {
   "cell_type": "code",
   "execution_count": 11,
   "metadata": {},
   "outputs": [],
   "source": [
    "import logging\n",
    "\n",
    "logging.basicConfig(filename='reg_loss.log', level=logging.INFO)\n",
    "logger = logging.getLogger(__name__)"
   ]
  },
  {
   "cell_type": "code",
   "execution_count": 17,
   "metadata": {},
   "outputs": [
    {
     "name": "stdout",
     "output_type": "stream",
     "text": [
      "tensor([[0.5767, 0.4233]], grad_fn=<SoftmaxBackward0>)\n",
      "tensor([[-0.1712]], grad_fn=<AddmmBackward0>)\n",
      "Using .modules():\n",
      "Linear(in_features=4, out_features=128, bias=True)\n",
      "Linear(in_features=128, out_features=2, bias=True)\n",
      "Linear(in_features=4, out_features=128, bias=True)\n",
      "Linear(in_features=128, out_features=1, bias=True)\n",
      "Name: actor.0.weight, Size: torch.Size([128, 4])\n",
      "Name: actor.0.bias, Size: torch.Size([128])\n",
      "Name: actor.2.weight, Size: torch.Size([2, 128])\n",
      "Name: actor.2.bias, Size: torch.Size([2])\n",
      "Name: critic.0.weight, Size: torch.Size([128, 4])\n",
      "Name: critic.0.bias, Size: torch.Size([128])\n",
      "Name: critic.2.weight, Size: torch.Size([1, 128])\n",
      "Name: critic.2.bias, Size: torch.Size([1])\n",
      "Using .modules():\n",
      "Linear(in_features=4, out_features=128, bias=True)\n",
      "Name: weight, Size: torch.Size([128, 4])\n",
      "Name: bias, Size: torch.Size([128])\n",
      "Linear(in_features=128, out_features=2, bias=True)\n",
      "Name: weight, Size: torch.Size([2, 128])\n",
      "Name: bias, Size: torch.Size([2])\n",
      "Linear(in_features=4, out_features=128, bias=True)\n",
      "Name: weight, Size: torch.Size([128, 4])\n",
      "Name: bias, Size: torch.Size([128])\n",
      "Linear(in_features=128, out_features=1, bias=True)\n",
      "Name: weight, Size: torch.Size([1, 128])\n",
      "Name: bias, Size: torch.Size([1])\n"
     ]
    }
   ],
   "source": [
    "import torch\n",
    "import torch.nn as nn\n",
    "import torch.nn.functional as F\n",
    "\n",
    "class ActorCritic(nn.Module):\n",
    "    def __init__(self, input_dim, hidden_dim, n_actions):\n",
    "        super(ActorCritic, self).__init__()\n",
    "\n",
    "        # Actor Network\n",
    "        self.actor = nn.Sequential(\n",
    "            nn.Linear(input_dim, hidden_dim),\n",
    "            nn.Tanh(),\n",
    "            nn.Linear(hidden_dim, n_actions)\n",
    "        )\n",
    "\n",
    "        # Critic Network\n",
    "        self.critic = nn.Sequential(\n",
    "            nn.Linear(input_dim, hidden_dim),\n",
    "            nn.Tanh(),\n",
    "            nn.Linear(hidden_dim, 1)\n",
    "        )\n",
    "\n",
    "    def forward(self, state):\n",
    "        action_probs = F.softmax(self.actor(state), dim=-1)\n",
    "        value = self.critic(state)\n",
    "        return action_probs, value\n",
    "\n",
    "# Example of using the ActorCritic model\n",
    "input_dim = 4  # For example, if state has 4 dimensions\n",
    "hidden_dim = 128\n",
    "n_actions = 2  # Number of possible actions\n",
    "\n",
    "model = ActorCritic(input_dim, hidden_dim, n_actions)\n",
    "\n",
    "# Test the model with a dummy state\n",
    "state = torch.rand(1, input_dim)\n",
    "action_probs, value = model(state)\n",
    "\n",
    "print(action_probs)\n",
    "print(value)\n",
    "\n",
    "# Looping over all modules including nested ones\n",
    "print(\"Using .modules():\")\n",
    "for module in model.modules():\n",
    "    if isinstance(module, nn.Linear):\n",
    "        print(module)\n",
    "\n",
    "# Looping over the named parameters of the model\n",
    "for name, param in model.named_parameters():\n",
    "    print(f\"Name: {name}, Size: {param.size()}\")\n",
    "\n",
    "# Looping over all Linear modules and then each module parameters\n",
    "print(\"Using .modules():\")\n",
    "for module in model.modules():\n",
    "    if isinstance(module, nn.Linear):\n",
    "        print(module)\n",
    "        for name, param in module.named_parameters():\n",
    "            print(f\"Name: {name}, Size: {param.size()}\")\n"
   ]
  },
  {
   "cell_type": "code",
   "execution_count": 16,
   "metadata": {},
   "outputs": [
    {
     "name": "stdout",
     "output_type": "stream",
     "text": [
      "2\n"
     ]
    }
   ],
   "source": [
    "import torch\n",
    "\n",
    "t = torch.tensor([[4., 2.]])\n",
    "t.shape\n",
    "t[0][0][t[0][0].abs() > 0] = 1\n",
    "\n",
    "\n",
    "print(len(t[0]))"
   ]
  },
  {
   "cell_type": "code",
   "execution_count": 1,
   "metadata": {},
   "outputs": [
    {
     "name": "stdout",
     "output_type": "stream",
     "text": [
      "10\n",
      "20\n",
      "30\n",
      "40\n",
      "50\n"
     ]
    }
   ],
   "source": [
    "prune_percent = 50\n",
    "prune_percent_decay = 0.8\n",
    "prune_step = 10\n",
    "\n",
    "for prune_iter in range(prune_step, prune_percent + prune_step, prune_step):\n",
    "    print(prune_iter)"
   ]
  },
  {
   "cell_type": "code",
   "execution_count": 40,
   "metadata": {},
   "outputs": [
    {
     "name": "stdout",
     "output_type": "stream",
     "text": [
      "tensor([[0.0060, 0.0040]])\n",
      "threshold: tensor(0.0046)\n",
      "tensor([[1., 0.]])\n"
     ]
    }
   ],
   "source": [
    "import torch\n",
    "\n",
    "def apply_mask1(omega, percent):\n",
    "    #mask = omega.clone()\n",
    "    # for i in range(len(omega[0])):\n",
    "    #     # Set all non-zero values to 1\n",
    "    #     mask[0][i][mask[0][i].abs() > 0] = 1\n",
    "    #     # Compute threshold as the given percentile\n",
    "    #     threshold = torch.quantile(omega[0][i], percent / 100.0)\n",
    "    #     # Set values below threshold to 0\n",
    "    #     mask[0][i][omega[0][i] < threshold] = 0\n",
    "\n",
    "    mask = omega.clone()\n",
    "    # Convert all non-zero elements to 1\n",
    "    mask[torch.abs(mask) > 0] = 1\n",
    "    # Calculate the percentile threshold\n",
    "    threshold = torch.quantile(omega.float(), percent / 100.0)\n",
    "    print('threshold:', threshold)\n",
    "    # Zero out values below the threshold\n",
    "    mask[omega < threshold] = 0\n",
    "    \n",
    "    return mask\n",
    "\n",
    "omega = torch.tensor([[0.006, 0.004]])\n",
    "percent = 30\n",
    "print(omega)\n",
    "mask = apply_mask1(omega, percent)\n",
    "print(mask)"
   ]
  },
  {
   "cell_type": "code",
   "execution_count": 61,
   "metadata": {},
   "outputs": [
    {
     "name": "stdout",
     "output_type": "stream",
     "text": [
      "s2 tensor([0.])\n",
      "threshold2 tensor(0.)\n",
      "tensor([[0., 1.]])\n"
     ]
    }
   ],
   "source": [
    "def apply_mask2(mask_pre, silence, step_percent):\n",
    "    mask = torch.ones_like(mask_pre)\n",
    "    # Filter the values in silence where mask_pre is zero\n",
    "    s2 = silence[mask_pre == 0]\n",
    "    # Check if s2 is empty, if so, set threshold to infinity\n",
    "    if s2.nelement() == 0:\n",
    "        threshold_current = torch.tensor(float('inf'))\n",
    "    else:\n",
    "        # Calculate the step_percent percentile value of s2\n",
    "        threshold_current = torch.quantile(s2.float(), step_percent / 100.0)\n",
    "    # Set values in m_a to zero based on the conditions\n",
    "    mask[(mask_pre == 0) & (silence <= threshold_current)] = 0\n",
    "\n",
    "    return mask\n",
    "\n",
    "mask_pre = torch.tensor([[0., 1.]])\n",
    "silence = torch.tensor([[0., 0.80001]])\n",
    "percent = 30\n",
    "\n",
    "mask = apply_mask2(mask_pre, silence, percent)\n",
    "\n",
    "print(mask)\n",
    "\n"
   ]
  }
 ],
 "metadata": {
  "kernelspec": {
   "display_name": "tfm-experiments",
   "language": "python",
   "name": "tfm-experiments"
  },
  "language_info": {
   "codemirror_mode": {
    "name": "ipython",
    "version": 3
   },
   "file_extension": ".py",
   "mimetype": "text/x-python",
   "name": "python",
   "nbconvert_exporter": "python",
   "pygments_lexer": "ipython3",
   "version": "3.7.9"
  },
  "orig_nbformat": 4,
  "vscode": {
   "interpreter": {
    "hash": "5d2efec84aee61a766032e9dfbe418d90107ced57033c9077d1ba6267f248fa1"
   }
  }
 },
 "nbformat": 4,
 "nbformat_minor": 2
}
