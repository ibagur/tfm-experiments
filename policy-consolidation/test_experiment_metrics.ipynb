{
 "cells": [
  {
   "cell_type": "code",
   "execution_count": 25,
   "metadata": {},
   "outputs": [],
   "source": [
    "import sys, os, time\n",
    "import numpy as np\n",
    "import pandas as pd\n",
    "import scipy.io as sio"
   ]
  },
  {
   "cell_type": "code",
   "execution_count": 26,
   "metadata": {},
   "outputs": [],
   "source": [
    "# Accuracy metric\n",
    "def acc(r_val, r_std):\n",
    "    last_row = r_val[len(r_val)-1]\n",
    "    last_row_std = r_std[len(r_std)-1]\n",
    "\n",
    "    acc = round(last_row.sum() / len(r_val), 4)\n",
    "\n",
    "    # Calculate the standard deviation for acc\n",
    "    acc_std = round(np.sqrt((last_row_std**2).sum()) / len(r_val), 4)\n",
    "\n",
    "    return acc, acc_std\n",
    "\n",
    "# Backward Transfer metric\n",
    "def bwt(r_val, r_std):\n",
    "    t = len(r_val)\n",
    "    tmp = []\n",
    "    std_diffs = []\n",
    "    for i in range(t-1):\n",
    "        diff = r_val[t-1][i] - r_val[i][i]\n",
    "        tmp.append(diff)\n",
    "        \n",
    "        # Calculate the standard deviation for each difference\n",
    "        std_diff = np.sqrt(r_std[t-1][i]**2 + r_std[i][i]**2)\n",
    "        std_diffs.append(std_diff)\n",
    "    \n",
    "    tmp_arr = np.array(tmp)\n",
    "    std_diffs_arr = np.array(std_diffs)\n",
    "\n",
    "    bwt = round(tmp_arr.sum() / (t-1), 4)\n",
    "    \n",
    "    # Calculate the standard deviation for bwt\n",
    "    bwt_std = round(np.sqrt((std_diffs_arr**2).sum()) / (t-1), 4)\n",
    "    \n",
    "    return bwt, bwt_std"
   ]
  },
  {
   "cell_type": "code",
   "execution_count": 27,
   "metadata": {},
   "outputs": [
    {
     "name": "stdout",
     "output_type": "stream",
     "text": [
      "Experiment: minigrid-wallgap-doorkey-redbluedoor-crossing \n",
      "\n",
      "Approach: PPOPC (1)\n",
      "ACC: (0.2391, 0.0014)\n",
      "BWT: (-0.6458, 0.0477)\n",
      "\n",
      "Approach: PPOPC (2)\n",
      "ACC: (0.2394, 0.0008)\n",
      "BWT: (-0.6576, 0.0923)\n",
      "\n",
      "Approach: PPO\n",
      "ACC: (0.2396, 0.0006)\n",
      "BWT: (-0.8841, 0.1141)\n",
      "\n"
     ]
    }
   ],
   "source": [
    "exp = 'minigrid-wallgap-doorkey-redbluedoor-crossing'\n",
    "steps = '500000'\n",
    "approaches = ['PPOPC (1)', 'PPOPC (2)','PPO']\n",
    "stages = ['train', 'eval']\n",
    "seeds = [123456, 789012, 345678]\n",
    "\n",
    "# Experiment details\n",
    "experiments = [\n",
    "    ('2023-11-13', exp, [\n",
    "    (0, 'MiniGrid-WallGapS6-v0'),\n",
    "    (1, 'MiniGrid-DoorKey-6x6-v0'),\n",
    "    (2, 'MiniGrid-RedBlueDoors-6x6-v0'), \n",
    "    (3, 'MiniGrid-SimpleCrossingS9N1-v0')  \n",
    "    ])    \n",
    "    ]\n",
    "\n",
    "r_val_df = pd.read_pickle('/Users/inigo/Documents/cursos/Data Science/master_viu/work/tfm-experiments/policy-consolidation/metrics/r_val.pkl')\n",
    "r_std_df = pd.read_pickle('/Users/inigo/Documents/cursos/Data Science/master_viu/work/tfm-experiments/policy-consolidation/metrics/r_std.pkl')\n",
    "\n",
    "for item in experiments:\n",
    "\n",
    "    date = item[0]\n",
    "    experiment = item[1]\n",
    "    tasks_sequence = item[2]\n",
    "    t = len(tasks_sequence)\n",
    "\n",
    "    print('Experiment:',experiment, '\\n')\n",
    "    for i, approach in enumerate(approaches):\n",
    "        r_val = r_val_df[i]\n",
    "        r_std = r_std_df[i]\n",
    "        print(\"Approach:\", approach)\n",
    "        print(\"ACC: {}\".format(acc(r_val, r_std)))\n",
    "        print(\"BWT: {}\\n\".format(bwt(r_val, r_std)))"
   ]
  }
 ],
 "metadata": {
  "kernelspec": {
   "display_name": "tfm-experiments",
   "language": "python",
   "name": "tfm-experiments"
  },
  "language_info": {
   "codemirror_mode": {
    "name": "ipython",
    "version": 3
   },
   "file_extension": ".py",
   "mimetype": "text/x-python",
   "name": "python",
   "nbconvert_exporter": "python",
   "pygments_lexer": "ipython3",
   "version": "3.7.9"
  },
  "orig_nbformat": 4
 },
 "nbformat": 4,
 "nbformat_minor": 2
}
