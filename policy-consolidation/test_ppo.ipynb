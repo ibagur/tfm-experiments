{
 "cells": [
  {
   "cell_type": "markdown",
   "metadata": {
    "id": "MNF5-qJ7B0Q3"
   },
   "source": [
    "# MiniGrid settings"
   ]
  },
  {
   "cell_type": "markdown",
   "metadata": {
    "id": "AdM2FnEJB0Q8"
   },
   "source": [
    "## Basic Jupyter Setting"
   ]
  },
  {
   "cell_type": "code",
   "execution_count": 1,
   "metadata": {
    "executionInfo": {
     "elapsed": 319,
     "status": "ok",
     "timestamp": 1647123362972,
     "user": {
      "displayName": "Iñigo",
      "photoUrl": "https://lh3.googleusercontent.com/a/default-user=s64",
      "userId": "14378798962183195551"
     },
     "user_tz": -60
    },
    "id": "aycUmr6OB0Q8"
   },
   "outputs": [],
   "source": [
    "import numpy as np\n",
    "import matplotlib.pyplot as plt\n",
    "from pprint import pprint\n",
    "\n",
    "%matplotlib inline\n",
    "plt.rcParams['figure.figsize'] = (10.0, 8.0) # set default size of plots\n",
    "plt.rcParams['image.interpolation'] = 'nearest'\n",
    "plt.rcParams['image.cmap'] = 'gray'\n",
    "\n",
    "# for auto-reloading external modules\n",
    "# see http://stackoverflow.com/questions/1907993/autoreload-of-modules-in-ipython\n",
    "#%load_ext autoreload\n",
    "#%autoreload 2\n",
    "%reload_ext autoreload\n",
    "%autoreload 2"
   ]
  },
  {
   "cell_type": "markdown",
   "metadata": {
    "id": "ef0DdE0b4pLd"
   },
   "source": [
    "## Initial set-up"
   ]
  },
  {
   "cell_type": "markdown",
   "metadata": {
    "id": "PLM4YYcL5rBt"
   },
   "source": [
    "Import libraries and classes:"
   ]
  },
  {
   "cell_type": "code",
   "execution_count": 2,
   "metadata": {
    "id": "YgenDMtf4pLe"
   },
   "outputs": [],
   "source": [
    "# Imports\n",
    "import time\n",
    "import io\n",
    "import os\n",
    "import glob\n",
    "import torch\n",
    "import base64\n",
    "# import stable_baselines3\n",
    "\n",
    "import numpy as np\n",
    "import matplotlib.pyplot as plt\n",
    "from random import randint \n",
    "\n",
    "import gym\n",
    "from gym import spaces\n",
    "from gym.wrappers import Monitor\n",
    "import gym_minigrid\n",
    "from gym_minigrid.wrappers import FlatObsWrapper, ImgObsWrapper, RGBImgPartialObsWrapper"
   ]
  },
  {
   "cell_type": "markdown",
   "metadata": {
    "id": "28U_WEp25rBu"
   },
   "source": [
    "Define the video function:"
   ]
  },
  {
   "cell_type": "code",
   "execution_count": null,
   "metadata": {
    "id": "d7eCH8Kf4pLf"
   },
   "outputs": [],
   "source": [
    "import base64\n",
    "import glob\n",
    "import io\n",
    "from IPython.display import HTML\n",
    "from IPython import display \n",
    "\n",
    "def show_video():\n",
    "    mp4list = glob.glob('video/*.mp4')\n",
    "    if len(mp4list) > 0:\n",
    "        mp4 = mp4list[0]\n",
    "        video = io.open(mp4, 'r+b').read()\n",
    "        encoded = base64.b64encode(video)\n",
    "        display.display(HTML(data='''<video alt=\"test\" autoplay \n",
    "                loop controls style=\"height: 400px;\">\n",
    "                <source src=\"data:video/mp4;base64,{0}\" type=\"video/mp4\" />\n",
    "             </video>'''.format(encoded.decode('ascii'))))\n",
    "    else:\n",
    "        print(\"Could not find video\")\n",
    "        \n",
    "def show_animation(experiment):\n",
    "    giflist = glob.glob('animation/*.gif')\n",
    "    if len(giflist) > 0:\n",
    "        matching = [s for s in giflist if experiment in s]\n",
    "        gif_path = matching[0]\n",
    "        b64 = base64.b64encode(open(gif_path,'rb').read()).decode('ascii')\n",
    "        display.display(HTML(f'<img src=\"data:image/gif;base64,{b64}\" height=\"400\" />'))\n",
    "    else:\n",
    "        print(\"Could not find animation\")"
   ]
  },
  {
   "cell_type": "markdown",
   "metadata": {
    "id": "KchGuXpd5rBv"
   },
   "source": [
    "Define the rendering wrappers:"
   ]
  },
  {
   "cell_type": "code",
   "execution_count": null,
   "metadata": {
    "id": "Gdhk3Oep4pLf"
   },
   "outputs": [],
   "source": [
    "from gym.wrappers import Monitor\n",
    "\n",
    "# Define wrapper for CNN Policy\n",
    "def ImgRGBImgPartialObsWrapper(env):\n",
    "    return ImgObsWrapper(RGBImgPartialObsWrapper(env))\n",
    "\n",
    "# Monitor is a gym wrapper, which helps easy rendering of videos of the wrapped environment.\n",
    "def wrap_env(env):\n",
    "    env = Monitor(env, './video', force=True)\n",
    "    return env\n",
    "\n",
    "def gen_wrapped_env(env_name):\n",
    "    return wrap_env(FlatObsWrapper(gym.make(env_name)))\n",
    "\n",
    "def gen_wrapped_env_cnn(env_name):\n",
    "    return wrap_env(ImgObsWrapper(RGBImgPartialObsWrapper(gym.make(env_name))))"
   ]
  },
  {
   "cell_type": "markdown",
   "metadata": {},
   "source": [
    "Render an environment image:"
   ]
  },
  {
   "cell_type": "code",
   "execution_count": 5,
   "metadata": {
    "colab": {
     "base_uri": "https://localhost:8080/",
     "height": 269
    },
    "executionInfo": {
     "elapsed": 900,
     "status": "ok",
     "timestamp": 1647083269049,
     "user": {
      "displayName": "Iñigo",
      "photoUrl": "https://lh3.googleusercontent.com/a/default-user=s64",
      "userId": "14378798962183195551"
     },
     "user_tz": -60
    },
    "id": "B21JwGYn5rBv",
    "outputId": "54dfa526-2621-4f91-df2b-e4ff7a447aad"
   },
   "outputs": [
    {
     "data": {
      "image/png": "[encoded data removed]",
      "text/plain": [
       "<Figure size 400x400 with 1 Axes>"
      ]
     },
     "metadata": {},
     "output_type": "display_data"
    }
   ],
   "source": [
    "from random import randint\n",
    "#env_id = 'MiniGrid-Empty-5x5-v0'\n",
    "#env_id = 'MiniGrid-Empty-Random-6x6-v0'\n",
    "#env_id = 'MiniGrid-Empty-8x8-v0'\n",
    "#env_id = 'MiniGrid-Empty-16x16-v0'\n",
    "env_id = 'MiniGrid-DoorKey-6x6-v0'\n",
    "#env_id = 'BreakoutNoFrameskip-v4'\n",
    "#env_id = 'MiniGrid-DistShift1-v0'\n",
    "#env_id ='MiniGrid-UnlockPickup-v0'\n",
    "#env_id = 'MiniGrid-RedBlueDoors-6x6-v0'\n",
    "#env_id = 'MiniGrid-LavaGapS6-v0'\n",
    "#env_id = 'MiniGrid-WallGapS6-v0'\n",
    "\n",
    "eval_env = gym.make(env_id)\n",
    "eval_env.seed(10000+randint(0, 10))\n",
    "eval_env.reset()\n",
    "#random_action = eval_env.action_space.sample()\n",
    "#new_obs, reward, done, info = eval_env.step(random_action)\n",
    "\n",
    "before_img = eval_env.render('rgb_array')\n",
    "\n",
    "plt.figure(figsize = (4.,4.))\n",
    "plt.imshow(before_img);"
   ]
  },
  {
   "cell_type": "markdown",
   "metadata": {
    "id": "umY09KJP5rCI"
   },
   "source": [
    "# Standard PPO learning"
   ]
  },
  {
   "cell_type": "markdown",
   "metadata": {
    "id": "yPq1XkeL5rCI"
   },
   "source": [
    "## Define the environments"
   ]
  },
  {
   "cell_type": "markdown",
   "metadata": {},
   "source": [
    "### Import libraries"
   ]
  },
  {
   "cell_type": "code",
   "execution_count": 2,
   "metadata": {},
   "outputs": [],
   "source": [
    "import time\n",
    "import io\n",
    "import os\n",
    "import glob\n",
    "import base64\n",
    "import datetime\n",
    "import torch\n",
    "import torch_ac\n",
    "import tensorboardX\n",
    "import sys\n",
    "import utils\n",
    "from model import ACModel\n",
    "from torch_ac.utils import DictList, ParallelEnv\n",
    "import matplotlib.pyplot as plt\n",
    "from mpl_toolkits.axes_grid1 import ImageGrid\n",
    "import numpy as np\n",
    "import random\n",
    "\n",
    "import gym\n",
    "from gym import spaces\n",
    "from gym.wrappers import Monitor\n",
    "import gym_minigrid\n",
    "from gym_minigrid.wrappers import FlatObsWrapper, ImgObsWrapper, RGBImgPartialObsWrapper"
   ]
  },
  {
   "cell_type": "markdown",
   "metadata": {},
   "source": [
    "### Helper functions"
   ]
  },
  {
   "cell_type": "code",
   "execution_count": 3,
   "metadata": {},
   "outputs": [],
   "source": [
    "def make_envs(env_id, procs, seed=None):\n",
    "    envs = []\n",
    "    for i in range(procs):\n",
    "        if seed:\n",
    "            e = utils.make_env(env_id, seed + 10000 * i)\n",
    "        else:\n",
    "            e = utils.make_env(env_id)\n",
    "        envs.append(e)\n",
    "    env = ParallelEnv(envs)\n",
    "    return env"
   ]
  },
  {
   "cell_type": "markdown",
   "metadata": {},
   "source": [
    "### Render Parallel environment snapshot"
   ]
  },
  {
   "cell_type": "code",
   "execution_count": 4,
   "metadata": {},
   "outputs": [
    {
     "data": {
      "image/png": "[encoded data removed]",
      "text/plain": [
       "<Figure size 800x800 with 32 Axes>"
      ]
     },
     "metadata": {},
     "output_type": "display_data"
    }
   ],
   "source": [
    "import matplotlib.pyplot as plt\n",
    "from mpl_toolkits.axes_grid1 import ImageGrid\n",
    "import numpy as np\n",
    "\n",
    "procs = 16\n",
    "max_tasks = 20\n",
    "seed_list = range(procs * max_tasks, (procs + 1) * max_tasks)\n",
    "\n",
    "#env_id = 'MiniGrid-Empty-Random-6x6-v0'\n",
    "#env_id = 'MiniGrid-Empty-5x5-v0'\n",
    "#env_id = 'MiniGrid-DoorKey-5x5-v0'\n",
    "env_id = 'MiniGrid-DoorKey-6x6-v0'\n",
    "#env_id = 'MiniGrid-SimpleCrossingS9N1-v0'\n",
    "#env_id = 'MiniGrid-SimpleCrossingS9N2-v0'\n",
    "#env_id = 'MiniGrid-SimpleCrossingS9N3-v0'\n",
    "#env_id = 'MiniGrid-SimpleCrossingS11N5-v0'\n",
    "#env_id = 'MiniGrid-WallGapS6-v0'\n",
    "#env_id = 'MiniGrid-LavaCrossingS9N2-v0'\n",
    "\n",
    "seed = 1\n",
    "env = make_envs(env_id, procs, seed)\n",
    "obs = env.reset()\n",
    "\n",
    "im_list = []\n",
    "for e in env.envs:\n",
    "    #print(type(e.render('rgb_array')))\n",
    "    #e.reset()\n",
    "    im_list.append(e.render('rgb_array'))\n",
    "\n",
    "fig = plt.figure(figsize=(8., 8.))\n",
    "grid = ImageGrid(fig, 111,  # similar to subplot(111)\n",
    "                 nrows_ncols=(4, 4),  # creates 2x2 grid of axes\n",
    "                 axes_pad=0.1,  # pad between axes in inch.\n",
    "                 )\n",
    "\n",
    "for ax, im in zip(grid, im_list):\n",
    "    # Iterating over the grid returns the Axes.\n",
    "    ax.imshow(im)\n",
    "\n",
    "#plt.show()\n"
   ]
  },
  {
   "cell_type": "markdown",
   "metadata": {},
   "source": [
    "## Configuration"
   ]
  },
  {
   "cell_type": "markdown",
   "metadata": {},
   "source": [
    "### Load parameters"
   ]
  },
  {
   "cell_type": "code",
   "execution_count": 5,
   "metadata": {},
   "outputs": [],
   "source": [
    "#env_id = 'MiniGrid-Empty-8x8-v0'\n",
    "#env_id = 'MiniGrid-LavaGapS5-v0'\n",
    "#env_id = 'MiniGrid-DoorKey-5x5-v0'\n",
    "#env_id = 'MiniGrid-DoorKey-5x5-v0'\n",
    "#env_id = 'MiniGrid-DoorKey-6x6-v0'\n",
    "env_id = 'MiniGrid-WallGapS6-v0'\n",
    "#env_id = 'MiniGrid-Empty-Random-6x6-v0'\n",
    "#env_id = 'MiniGrid-Empty-5x5-v0'\n",
    "model = 'MiniGrid-WallGapS6-v0_PPO_frames_600k_proc_16_RMSProp_lr_7e4_gae_099_test_MiniGrid-DoorKey-6x6-v0'\n",
    "processes = 16\n",
    "frames = 300000\n",
    "\n",
    "## Hyper-parameters\n",
    "args = {\n",
    "# General parameters\n",
    "'algo':'ppo',\n",
    "'env':env_id,\n",
    "'model':model,\n",
    "'seed':1,\n",
    "'log_interval':1,\n",
    "'save_interval':10,\n",
    "'procs':processes,\n",
    "'frames':frames, # default 1e7\n",
    "# Parameters for main algorithm\n",
    "'epochs':4,\n",
    "'batch_size':256,\n",
    "'frames_per_proc':128, # 128 for PPO and 5 per A2C\n",
    "'discount':0.99,\n",
    "#'lr':0.0001, # for Adam\n",
    "'lr':0.0007, # for RMSProp\n",
    "#'gae_lambda':0.95, # 1 means no gae, for Adam\n",
    "'gae_lambda':0.99, # 1 means no gae, for RMSProp\n",
    "'entropy_coef':0.01,\n",
    "'value_loss_coef':0.5,\n",
    "'max_grad_norm':0.5,\n",
    "'optim_eps':1e-8,\n",
    "'optim_alpha':0.99,\n",
    "'clip_eps':0.2,\n",
    "'recurrence':1, # if > 1, a LSTM is added\n",
    "'text':False, # add a GRU for text input\n",
    "# Model Parameters\n",
    "'use_rim':False # action = 'store_true'\n",
    "}\n",
    "\n",
    "#args = utils.dotdict(args)\n",
    "args = DictList(args)\n",
    "\n",
    "args.mem = args.recurrence > 1\n",
    "\n",
    "# RIM specific hyperparameters\n",
    "if args.use_rim:\n",
    "    args.num_units = 5\n",
    "    args.k = 3"
   ]
  },
  {
   "cell_type": "markdown",
   "metadata": {},
   "source": [
    "### Initial settings"
   ]
  },
  {
   "cell_type": "code",
   "execution_count": 6,
   "metadata": {},
   "outputs": [
    {
     "name": "stdout",
     "output_type": "stream",
     "text": [
      "{'algo': 'ppo', 'env': 'MiniGrid-WallGapS6-v0', 'model': 'MiniGrid-WallGapS6-v0_PPO_frames_600k_proc_16_RMSProp_lr_7e4_gae_099_test_MiniGrid-DoorKey-6x6-v0', 'seed': 1, 'log_interval': 1, 'save_interval': 10, 'procs': 16, 'frames': 300000, 'epochs': 4, 'batch_size': 256, 'frames_per_proc': 128, 'discount': 0.99, 'lr': 0.0007, 'gae_lambda': 0.99, 'entropy_coef': 0.01, 'value_loss_coef': 0.5, 'max_grad_norm': 0.5, 'optim_eps': 1e-08, 'optim_alpha': 0.99, 'clip_eps': 0.2, 'recurrence': 1, 'text': False, 'use_rim': False, 'mem': False}\n",
      "\n",
      "Device: cpu\n",
      "\n"
     ]
    }
   ],
   "source": [
    "# Set run dir\n",
    "\n",
    "date = datetime.datetime.now().strftime(\"%y-%m-%d-%H-%M-%S\")\n",
    "default_model_name = f\"{args.env}_{args.algo}_seed{args.seed}_{date}\"\n",
    "\n",
    "model_name = args.model or default_model_name\n",
    "model_dir = utils.get_model_dir(model_name)\n",
    "\n",
    "# Load loggers and Tensorboard writer\n",
    "\n",
    "txt_logger = utils.get_txt_logger(model_dir)\n",
    "csv_file, csv_logger = utils.get_csv_logger(model_dir)\n",
    "tb_writer = tensorboardX.SummaryWriter(model_dir)\n",
    "\n",
    "# Log command and all script arguments\n",
    "\n",
    "#txt_logger.info(\"{}\\n\".format(\" \".join(sys.argv)))\n",
    "txt_logger.info(\"{}\\n\".format(args))\n",
    "\n",
    "# Set seed for all randomness sources\n",
    "\n",
    "utils.seed(args.seed)\n",
    "\n",
    "# Set device\n",
    "\n",
    "device = torch.device(\"cuda\" if torch.cuda.is_available() else \"cpu\")\n",
    "txt_logger.info(f\"Device: {device}\\n\")"
   ]
  },
  {
   "cell_type": "markdown",
   "metadata": {},
   "source": [
    "### Load environments, model, algo and prepare training settings"
   ]
  },
  {
   "cell_type": "code",
   "execution_count": 7,
   "metadata": {},
   "outputs": [
    {
     "name": "stdout",
     "output_type": "stream",
     "text": [
      "Environments loaded\n",
      "\n",
      "Training status loaded\n",
      "\n",
      "Observations preprocessor loaded\n",
      "Model loaded\n",
      "\n",
      "ACModel(\n",
      "  (image_conv): Sequential(\n",
      "    (0): Conv2d(3, 16, kernel_size=(2, 2), stride=(1, 1))\n",
      "    (1): ReLU()\n",
      "    (2): MaxPool2d(kernel_size=(2, 2), stride=(2, 2), padding=0, dilation=1, ceil_mode=False)\n",
      "    (3): Conv2d(16, 32, kernel_size=(2, 2), stride=(1, 1))\n",
      "    (4): ReLU()\n",
      "    (5): Conv2d(32, 64, kernel_size=(2, 2), stride=(1, 1))\n",
      "    (6): ReLU()\n",
      "  )\n",
      "  (actor): Sequential(\n",
      "    (0): Linear(in_features=64, out_features=64, bias=True)\n",
      "    (1): Tanh()\n",
      "    (2): Linear(in_features=64, out_features=7, bias=True)\n",
      "  )\n",
      "  (critic): Sequential(\n",
      "    (0): Linear(in_features=64, out_features=64, bias=True)\n",
      "    (1): Tanh()\n",
      "    (2): Linear(in_features=64, out_features=1, bias=True)\n",
      "  )\n",
      ")\n",
      "\n",
      "Optimizer loaded\n",
      "\n"
     ]
    }
   ],
   "source": [
    "# Load environments\n",
    "\n",
    "envs = []\n",
    "for i in range(args.procs):\n",
    "    envs.append(utils.make_env(args.env, args.seed + 10000 * i))\n",
    "txt_logger.info(\"Environments loaded\\n\")\n",
    "\n",
    "# Load training status\n",
    "\n",
    "try:\n",
    "    status = utils.get_status(model_dir)\n",
    "except OSError:\n",
    "    status = {\"num_frames\": 0, \"update\": 0}\n",
    "txt_logger.info(\"Training status loaded\\n\")\n",
    "\n",
    "# Load observations preprocessor\n",
    "\n",
    "obs_space, preprocess_obss = utils.get_obss_preprocessor(envs[0].observation_space)\n",
    "if \"vocab\" in status:\n",
    "    preprocess_obss.vocab.load_vocab(status[\"vocab\"])\n",
    "txt_logger.info(\"Observations preprocessor loaded\")\n",
    "\n",
    "# Load model\n",
    "\n",
    "acmodel = ACModel(obs_space=obs_space, action_space=envs[0].action_space, use_memory=args.mem, use_text=args.text)\n",
    "if \"model_state\" in status:\n",
    "    acmodel.load_state_dict(status[\"model_state\"])\n",
    "acmodel.to(device)\n",
    "txt_logger.info(\"Model loaded\\n\")\n",
    "txt_logger.info(\"{}\\n\".format(acmodel))\n",
    "\n",
    "# Load algo\n",
    "\n",
    "if args.algo == \"a2c\":\n",
    "    algo = torch_ac.A2CAlgo(envs, acmodel, device, args.frames_per_proc, args.discount, args.lr, args.gae_lambda,\n",
    "                            args.entropy_coef, args.value_loss_coef, args.max_grad_norm, args.recurrence,\n",
    "                            args.optim_alpha, args.optim_eps, preprocess_obss)\n",
    "elif args.algo == \"ppo\":\n",
    "    algo = torch_ac.PPOAlgo(envs, acmodel, device, args.frames_per_proc, args.discount, args.lr, args.gae_lambda,\n",
    "                            args.entropy_coef, args.value_loss_coef, args.max_grad_norm, args.recurrence,\n",
    "                            args.optim_eps, args.clip_eps, args.epochs, args.batch_size, preprocess_obss)\n",
    "else:\n",
    "    raise ValueError(\"Incorrect algorithm name: {}\".format(args.algo))\n",
    "\n",
    "# change to RMSProp optimizer\n",
    "algo.optimizer = torch.optim.RMSprop(algo.acmodel.parameters(), args.lr, eps=args.optim_eps)\n",
    "\n",
    "if \"optimizer_state\" in status:\n",
    "    algo.optimizer.load_state_dict(status[\"optimizer_state\"])\n",
    "txt_logger.info(\"Optimizer loaded\\n\")"
   ]
  },
  {
   "cell_type": "markdown",
   "metadata": {},
   "source": [
    "## Training"
   ]
  },
  {
   "cell_type": "code",
   "execution_count": 8,
   "metadata": {},
   "outputs": [
    {
     "name": "stdout",
     "output_type": "stream",
     "text": [
      "U 1 | F 002048 | FPS 2825 | D 0 | rR:μσmM 0.11 0.23 0.00 0.75 | F:μσmM 13.2 29.1 0.0 94.0 | H 1.912 | V -0.071 | pL -0.089 | vL 0.016 | ∇ 0.056\n",
      "U 2 | F 004096 | FPS 3230 | D 1 | rR:μσmM 0.01 0.03 0.00 0.14 | F:μσmM 143.6 1.7 137.0 144.0 | H 1.925 | V -0.026 | pL -0.024 | vL 0.000 | ∇ 0.008\n",
      "U 3 | F 006144 | FPS 3122 | D 2 | rR:μσmM 0.07 0.19 0.00 0.61 | F:μσmM 135.2 25.0 62.0 144.0 | H 1.915 | V 0.008 | pL -0.035 | vL 0.008 | ∇ 0.026\n",
      "U 4 | F 008192 | FPS 3054 | D 2 | rR:μσmM 0.07 0.19 0.00 0.71 | F:μσmM 135.0 25.5 46.0 144.0 | H 1.927 | V 0.022 | pL -0.011 | vL 0.006 | ∇ 0.049\n",
      "U 5 | F 010240 | FPS 3029 | D 3 | rR:μσmM 0.09 0.23 0.00 0.77 | F:μσmM 131.9 31.8 37.0 144.0 | H 1.927 | V 0.031 | pL -0.016 | vL 0.008 | ∇ 0.040\n",
      "U 6 | F 012288 | FPS 3049 | D 4 | rR:μσmM 0.16 0.26 0.00 0.72 | F:μσmM 122.8 34.4 45.0 144.0 | H 1.918 | V 0.039 | pL -0.035 | vL 0.012 | ∇ 0.094\n",
      "U 7 | F 014336 | FPS 2632 | D 4 | rR:μσmM 0.21 0.32 0.00 0.84 | F:μσmM 115.8 44.6 26.0 144.0 | H 1.902 | V 0.072 | pL -0.022 | vL 0.019 | ∇ 0.089\n",
      "U 8 | F 016384 | FPS 3037 | D 5 | rR:μσmM 0.28 0.30 0.00 0.95 | F:μσmM 107.3 41.1 8.0 144.0 | H 1.899 | V 0.099 | pL -0.023 | vL 0.012 | ∇ 0.060\n",
      "U 9 | F 018432 | FPS 2959 | D 6 | rR:μσmM 0.14 0.24 0.00 0.84 | F:μσmM 126.9 32.4 26.0 144.0 | H 1.893 | V 0.083 | pL 0.022 | vL 0.009 | ∇ 0.080\n",
      "U 10 | F 020480 | FPS 3026 | D 6 | rR:μσmM 0.26 0.34 0.00 0.84 | F:μσmM 108.6 47.5 26.0 144.0 | H 1.883 | V 0.075 | pL -0.008 | vL 0.012 | ∇ 0.070\n",
      "Status saved\n",
      "U 11 | F 022528 | FPS 3143 | D 7 | rR:μσmM 0.45 0.36 0.00 0.94 | F:μσmM 83.8 52.7 10.0 144.0 | H 1.872 | V 0.165 | pL -0.074 | vL 0.024 | ∇ 0.093\n",
      "U 12 | F 024576 | FPS 3025 | D 8 | rR:μσmM 0.48 0.35 0.00 0.94 | F:μσmM 78.2 50.2 10.0 144.0 | H 1.845 | V 0.187 | pL -0.040 | vL 0.021 | ∇ 0.074\n",
      "U 13 | F 026624 | FPS 2885 | D 9 | rR:μσmM 0.39 0.34 0.00 0.99 | F:μσmM 92.6 48.3 2.0 144.0 | H 1.801 | V 0.205 | pL 0.022 | vL 0.021 | ∇ 0.099\n",
      "U 14 | F 028672 | FPS 2856 | D 9 | rR:μσmM 0.35 0.36 0.00 0.98 | F:μσmM 97.0 50.5 4.0 144.0 | H 1.862 | V 0.160 | pL 0.021 | vL 0.016 | ∇ 0.090\n",
      "U 15 | F 030720 | FPS 2978 | D 10 | rR:μσmM 0.52 0.31 0.00 0.94 | F:μσmM 73.5 44.3 10.0 144.0 | H 1.822 | V 0.276 | pL -0.077 | vL 0.031 | ∇ 0.153\n",
      "U 16 | F 032768 | FPS 3014 | D 11 | rR:μσmM 0.41 0.34 0.00 0.92 | F:μσmM 89.0 48.5 13.0 144.0 | H 1.852 | V 0.197 | pL 0.027 | vL 0.014 | ∇ 0.086\n",
      "U 17 | F 034816 | FPS 2922 | D 11 | rR:μσmM 0.48 0.38 0.00 0.97 | F:μσmM 78.4 54.8 5.0 144.0 | H 1.835 | V 0.213 | pL -0.005 | vL 0.025 | ∇ 0.106\n",
      "U 18 | F 036864 | FPS 2768 | D 12 | rR:μσmM 0.43 0.35 0.00 0.92 | F:μσmM 86.9 50.2 13.0 144.0 | H 1.793 | V 0.205 | pL -0.005 | vL 0.024 | ∇ 0.103\n",
      "U 19 | F 038912 | FPS 2988 | D 13 | rR:μσmM 0.44 0.33 0.00 0.95 | F:μσmM 85.7 46.8 8.0 144.0 | H 1.777 | V 0.213 | pL 0.016 | vL 0.022 | ∇ 0.093\n",
      "U 20 | F 040960 | FPS 2945 | D 13 | rR:μσmM 0.64 0.31 0.00 0.94 | F:μσmM 55.8 44.8 10.0 144.0 | H 1.754 | V 0.293 | pL -0.070 | vL 0.035 | ∇ 0.191\n",
      "Status saved\n",
      "U 21 | F 043008 | FPS 2884 | D 14 | rR:μσmM 0.58 0.32 0.00 0.98 | F:μσmM 64.3 45.7 4.0 144.0 | H 1.732 | V 0.315 | pL -0.060 | vL 0.030 | ∇ 0.128\n",
      "U 22 | F 045056 | FPS 2642 | D 15 | rR:μσmM 0.67 0.25 0.16 0.98 | F:μσmM 53.1 40.0 3.0 134.0 | H 1.706 | V 0.340 | pL -0.028 | vL 0.029 | ∇ 0.133\n",
      "U 23 | F 047104 | FPS 2937 | D 16 | rR:μσmM 0.55 0.30 0.00 0.94 | F:μσmM 70.1 45.1 9.0 144.0 | H 1.715 | V 0.302 | pL 0.017 | vL 0.023 | ∇ 0.128\n",
      "U 24 | F 049152 | FPS 1757 | D 17 | rR:μσmM 0.58 0.33 0.00 0.96 | F:μσmM 63.2 47.2 6.0 144.0 | H 1.718 | V 0.329 | pL -0.018 | vL 0.027 | ∇ 0.151\n",
      "U 25 | F 051200 | FPS 2634 | D 18 | rR:μσmM 0.74 0.22 0.00 0.99 | F:μσmM 41.1 35.0 2.0 144.0 | H 1.674 | V 0.418 | pL -0.092 | vL 0.038 | ∇ 0.263\n",
      "U 26 | F 053248 | FPS 2807 | D 18 | rR:μσmM 0.67 0.27 0.00 0.98 | F:μσmM 51.4 40.6 4.0 144.0 | H 1.722 | V 0.437 | pL 0.002 | vL 0.029 | ∇ 0.131\n",
      "U 27 | F 055296 | FPS 2953 | D 19 | rR:μσmM 0.75 0.20 0.00 0.96 | F:μσmM 39.8 30.4 7.0 144.0 | H 1.688 | V 0.496 | pL -0.062 | vL 0.023 | ∇ 0.134\n",
      "U 28 | F 057344 | FPS 2871 | D 20 | rR:μσmM 0.77 0.17 0.19 0.96 | F:μσmM 37.5 26.8 6.0 129.0 | H 1.670 | V 0.533 | pL -0.023 | vL 0.021 | ∇ 0.160\n",
      "U 29 | F 059392 | FPS 2859 | D 21 | rR:μσmM 0.81 0.15 0.26 0.98 | F:μσmM 31.0 23.9 4.0 119.0 | H 1.596 | V 0.609 | pL -0.074 | vL 0.019 | ∇ 0.133\n",
      "U 30 | F 061440 | FPS 3285 | D 21 | rR:μσmM 0.81 0.13 0.35 0.96 | F:μσmM 30.5 21.2 6.0 104.0 | H 1.599 | V 0.601 | pL 0.023 | vL 0.016 | ∇ 0.116\n",
      "Status saved\n",
      "U 31 | F 063488 | FPS 3235 | D 22 | rR:μσmM 0.81 0.16 0.00 0.98 | F:μσmM 30.7 24.9 3.0 144.0 | H 1.593 | V 0.611 | pL -0.000 | vL 0.021 | ∇ 0.192\n",
      "U 32 | F 065536 | FPS 3037 | D 22 | rR:μσmM 0.83 0.12 0.24 0.98 | F:μσmM 26.9 19.1 4.0 122.0 | H 1.503 | V 0.657 | pL -0.033 | vL 0.014 | ∇ 0.161\n",
      "U 33 | F 067584 | FPS 3272 | D 23 | rR:μσmM 0.86 0.10 0.58 0.98 | F:μσmM 22.2 15.3 4.0 67.0 | H 1.466 | V 0.700 | pL -0.022 | vL 0.014 | ∇ 0.171\n",
      "U 34 | F 069632 | FPS 2919 | D 24 | rR:μσmM 0.85 0.10 0.41 0.97 | F:μσmM 24.0 16.4 5.0 94.0 | H 1.419 | V 0.702 | pL -0.052 | vL 0.014 | ∇ 0.158\n",
      "U 35 | F 071680 | FPS 3131 | D 25 | rR:μσmM 0.87 0.07 0.58 0.98 | F:μσmM 21.2 11.8 3.0 67.0 | H 1.422 | V 0.723 | pL -0.048 | vL 0.009 | ∇ 0.092\n",
      "U 36 | F 073728 | FPS 2810 | D 25 | rR:μσmM 0.88 0.08 0.44 0.98 | F:μσmM 18.7 12.0 4.0 89.0 | H 1.384 | V 0.751 | pL -0.036 | vL 0.009 | ∇ 0.108\n",
      "U 37 | F 075776 | FPS 2592 | D 26 | rR:μσmM 0.89 0.06 0.64 0.98 | F:μσmM 18.0 9.8 3.0 57.0 | H 1.360 | V 0.771 | pL -0.003 | vL 0.008 | ∇ 0.142\n",
      "U 38 | F 077824 | FPS 3151 | D 27 | rR:μσmM 0.87 0.07 0.55 0.98 | F:μσmM 20.1 12.0 3.0 72.0 | H 1.373 | V 0.743 | pL 0.004 | vL 0.010 | ∇ 0.137\n",
      "U 39 | F 079872 | FPS 2861 | D 27 | rR:μσmM 0.89 0.05 0.74 0.98 | F:μσmM 17.5 8.7 3.0 41.0 | H 1.390 | V 0.791 | pL 0.042 | vL 0.006 | ∇ 0.146\n",
      "U 40 | F 081920 | FPS 2912 | D 28 | rR:μσmM 0.89 0.07 0.53 0.98 | F:μσmM 16.8 10.4 4.0 75.0 | H 1.317 | V 0.793 | pL 0.023 | vL 0.010 | ∇ 0.179\n",
      "Status saved\n",
      "U 41 | F 083968 | FPS 2920 | D 29 | rR:μσmM 0.90 0.04 0.76 0.98 | F:μσmM 15.7 7.1 4.0 39.0 | H 1.272 | V 0.821 | pL 0.002 | vL 0.005 | ∇ 0.135\n",
      "U 42 | F 086016 | FPS 2961 | D 30 | rR:μσmM 0.90 0.04 0.73 0.98 | F:μσmM 15.3 6.7 3.0 43.0 | H 1.232 | V 0.808 | pL -0.053 | vL 0.004 | ∇ 0.082\n",
      "U 43 | F 088064 | FPS 2943 | D 30 | rR:μσmM 0.91 0.04 0.71 0.98 | F:μσmM 14.5 6.4 3.0 46.0 | H 1.211 | V 0.827 | pL -0.013 | vL 0.003 | ∇ 0.077\n",
      "U 44 | F 090112 | FPS 2620 | D 31 | rR:μσmM 0.92 0.04 0.79 0.98 | F:μσmM 13.5 5.7 4.0 34.0 | H 1.274 | V 0.840 | pL -0.001 | vL 0.003 | ∇ 0.095\n",
      "U 45 | F 092160 | FPS 2678 | D 32 | rR:μσmM 0.91 0.04 0.77 0.98 | F:μσmM 14.0 6.1 3.0 37.0 | H 1.313 | V 0.836 | pL 0.016 | vL 0.003 | ∇ 0.086\n",
      "U 46 | F 094208 | FPS 2666 | D 33 | rR:μσmM 0.90 0.04 0.72 0.98 | F:μσmM 15.9 6.7 3.0 45.0 | H 1.266 | V 0.814 | pL -0.032 | vL 0.003 | ∇ 0.083\n",
      "U 47 | F 096256 | FPS 2822 | D 33 | rR:μσmM 0.91 0.04 0.80 0.98 | F:μσmM 14.8 6.0 4.0 32.0 | H 1.271 | V 0.828 | pL -0.038 | vL 0.004 | ∇ 0.118\n",
      "U 48 | F 098304 | FPS 2624 | D 34 | rR:μσmM 0.91 0.04 0.69 0.98 | F:μσmM 13.7 6.2 4.0 49.0 | H 1.180 | V 0.822 | pL -0.056 | vL 0.004 | ∇ 0.096\n",
      "U 49 | F 100352 | FPS 2836 | D 35 | rR:μσmM 0.92 0.04 0.73 0.99 | F:μσmM 13.3 6.7 2.0 44.0 | H 1.200 | V 0.833 | pL -0.013 | vL 0.003 | ∇ 0.050\n",
      "Number of frames:  102400\n"
     ]
    }
   ],
   "source": [
    "# Train model\n",
    "\n",
    "num_frames = status[\"num_frames\"]\n",
    "update = status[\"update\"]\n",
    "start_time = time.time()\n",
    "\n",
    "# Moving average parameters\n",
    "threshold = 0.90\n",
    "window = 10\n",
    "rreturn_total = 0\n",
    "i = 0\n",
    "\n",
    "while num_frames < args.frames:\n",
    "    # Update model parameters\n",
    "\n",
    "    update_start_time = time.time()\n",
    "    exps, logs1 = algo.collect_experiences()\n",
    "    logs2 = algo.update_parameters(exps)\n",
    "    logs = {**logs1, **logs2}\n",
    "    update_end_time = time.time()\n",
    "\n",
    "    num_frames += logs[\"num_frames\"]\n",
    "    update += 1\n",
    "\n",
    "    # Print logs\n",
    "\n",
    "    if update % args.log_interval == 0:\n",
    "        fps = logs[\"num_frames\"]/(update_end_time - update_start_time)\n",
    "        duration = int(time.time() - start_time)\n",
    "        return_per_episode = utils.synthesize(logs[\"return_per_episode\"])\n",
    "        rreturn_per_episode = utils.synthesize(logs[\"reshaped_return_per_episode\"])\n",
    "        num_frames_per_episode = utils.synthesize(logs[\"num_frames_per_episode\"])\n",
    "        # Moving average to break loop if mean reward threshold reached\n",
    "        rreturn_total +=rreturn_per_episode['mean']\n",
    "        i+=1\n",
    "        if i >= window:\n",
    "            rreturn_mavg = rreturn_total / i\n",
    "            if rreturn_mavg >= threshold:\n",
    "                break_flag = True \n",
    "                break\n",
    "            else:\n",
    "                i = 0\n",
    "                rreturn_total = 0\n",
    "\n",
    "        header = [\"update\", \"frames\", \"FPS\", \"duration\"]\n",
    "        data = [update, num_frames, fps, duration]\n",
    "        header += [\"rreturn_\" + key for key in rreturn_per_episode.keys()]\n",
    "        data += rreturn_per_episode.values()\n",
    "        header += [\"num_frames_\" + key for key in num_frames_per_episode.keys()]\n",
    "        data += num_frames_per_episode.values()\n",
    "        header += [\"entropy\", \"value\", \"policy_loss\", \"value_loss\", \"grad_norm\"]\n",
    "        data += [logs[\"entropy\"], logs[\"value\"], logs[\"policy_loss\"], logs[\"value_loss\"], logs[\"grad_norm\"]]\n",
    "\n",
    "        txt_logger.info(\n",
    "            \"U {} | F {:06} | FPS {:04.0f} | D {} | rR:μσmM {:.2f} {:.2f} {:.2f} {:.2f} | F:μσmM {:.1f} {:.1f} {} {} | H {:.3f} | V {:.3f} | pL {:.3f} | vL {:.3f} | ∇ {:.3f}\"\n",
    "            .format(*data))\n",
    "\n",
    "        header += [\"return_\" + key for key in return_per_episode.keys()]\n",
    "        data += return_per_episode.values()\n",
    "\n",
    "        if status[\"num_frames\"] == 0:\n",
    "            csv_logger.writerow(header)\n",
    "        csv_logger.writerow(data)\n",
    "        csv_file.flush()\n",
    "\n",
    "        for field, value in zip(header, data):\n",
    "            tb_writer.add_scalar(field, value, num_frames)\n",
    "\n",
    "    # Save status\n",
    "\n",
    "    if args.save_interval > 0 and update % args.save_interval == 0:\n",
    "        status = {\"num_frames\": num_frames, \"update\": update,\n",
    "                  \"model_state\": acmodel.state_dict(), \"optimizer_state\": algo.optimizer.state_dict()}\n",
    "        if hasattr(preprocess_obss, \"vocab\"):\n",
    "            status[\"vocab\"] = preprocess_obss.vocab.vocab\n",
    "        utils.save_status(status, model_dir)\n",
    "        txt_logger.info(\"Status saved\")\n",
    "\n",
    "print(\"Number of frames: \", num_frames)"
   ]
  },
  {
   "cell_type": "markdown",
   "metadata": {},
   "source": [
    "## Evaluation"
   ]
  },
  {
   "cell_type": "markdown",
   "metadata": {},
   "source": [
    "### Load parameters"
   ]
  },
  {
   "cell_type": "code",
   "execution_count": 9,
   "metadata": {},
   "outputs": [
    {
     "name": "stdout",
     "output_type": "stream",
     "text": [
      "{'algo': 'ppo', 'env': 'MiniGrid-WallGapS6-v0', 'model': 'MiniGrid-WallGapS6-v0_PPO_frames_600k_proc_16_RMSProp_lr_7e4_gae_099_test_MiniGrid-DoorKey-6x6-v0', 'seed': 2, 'log_interval': 1, 'save_interval': 10, 'procs': 16, 'frames': 300000, 'epochs': 4, 'batch_size': 256, 'frames_per_proc': 128, 'discount': 0.99, 'lr': 0.0007, 'gae_lambda': 0.99, 'entropy_coef': 0.01, 'value_loss_coef': 0.5, 'max_grad_norm': 0.5, 'optim_eps': 1e-08, 'optim_alpha': 0.99, 'clip_eps': 0.2, 'recurrence': 1, 'text': False, 'use_rim': False, 'mem': False, 'episodes': 100, 'argmax': False, 'worst_episodes_to_show': 10}\n",
      "Device: cpu\n",
      "\n"
     ]
    }
   ],
   "source": [
    "from torch_ac.utils.penv import ParallelEnv\n",
    "\n",
    "#env_id = 'MiniGrid-Empty-Random-6x6-v0'\n",
    "#env_id = 'MiniGrid-DoorKey-6x6-v0'\n",
    "#env_id = 'MiniGrid-Empty-8x8-v0'\n",
    "env_id = 'MiniGrid-WallGapS6-v0'\n",
    "\n",
    "## Hyper-parameters\n",
    "args.env = env_id\n",
    "args.episodes = 100\n",
    "args.seed = 2\n",
    "args.argmax = False\n",
    "args.worst_episodes_to_show = 10\n",
    "print(args)\n",
    "\n",
    "# Set seed for all randomness sources\n",
    "utils.seed(args.seed)\n",
    "\n",
    "# Set device\n",
    "device = torch.device(\"cuda\" if torch.cuda.is_available() else \"cpu\")\n",
    "print(f\"Device: {device}\\n\")"
   ]
  },
  {
   "cell_type": "markdown",
   "metadata": {},
   "source": [
    "### Set environments, agent and logs"
   ]
  },
  {
   "cell_type": "code",
   "execution_count": 10,
   "metadata": {},
   "outputs": [
    {
     "name": "stdout",
     "output_type": "stream",
     "text": [
      "Environments loaded\n",
      "\n",
      "Agent loaded\n",
      "\n"
     ]
    }
   ],
   "source": [
    "# Load environments\n",
    "\n",
    "envs = []\n",
    "for i in range(args.procs):\n",
    "    env = utils.make_env(args.env, args.seed + 10000 * i)\n",
    "    envs.append(env)\n",
    "env = ParallelEnv(envs)\n",
    "print(\"Environments loaded\\n\")\n",
    "\n",
    "# Load agent\n",
    "\n",
    "model_dir = utils.get_model_dir(args.model)\n",
    "agent = utils.Agent(obs_space=env.observation_space, action_space=env.action_space, model_dir=model_dir, device=device, argmax=args.argmax, num_envs=args.procs, use_memory=args.mem, use_rim=args.use_rim)\n",
    "print(\"Agent loaded\\n\")\n",
    "\n",
    "# Initialize logs\n",
    "\n",
    "logs = {\"num_frames_per_episode\": [], \"return_per_episode\": []}"
   ]
  },
  {
   "cell_type": "markdown",
   "metadata": {},
   "source": [
    "### Run agent"
   ]
  },
  {
   "cell_type": "code",
   "execution_count": 11,
   "metadata": {},
   "outputs": [
    {
     "name": "stdout",
     "output_type": "stream",
     "text": [
      "Agent run completed\n",
      "\n"
     ]
    }
   ],
   "source": [
    "# Run agent\n",
    "\n",
    "start_time = time.time()\n",
    "\n",
    "obss = env.reset()\n",
    "\n",
    "log_done_counter = 0\n",
    "log_episode_return = torch.zeros(args.procs, device=device)\n",
    "log_episode_num_frames = torch.zeros(args.procs, device=device)\n",
    "\n",
    "while log_done_counter < args.episodes:\n",
    "    actions = agent.get_actions(obss)\n",
    "    obss, rewards, dones, _ = env.step(actions)\n",
    "    agent.analyze_feedbacks(rewards, dones)\n",
    "\n",
    "    log_episode_return += torch.tensor(rewards, device=device, dtype=torch.float)\n",
    "    log_episode_num_frames += torch.ones(args.procs, device=device)\n",
    "\n",
    "    for i, done in enumerate(dones):\n",
    "        if done:\n",
    "            log_done_counter += 1\n",
    "            logs[\"return_per_episode\"].append(log_episode_return[i].item())\n",
    "            logs[\"num_frames_per_episode\"].append(log_episode_num_frames[i].item())\n",
    "\n",
    "    mask = 1 - torch.tensor(dones, device=device, dtype=torch.float)\n",
    "    log_episode_return *= mask\n",
    "    log_episode_num_frames *= mask\n",
    "\n",
    "end_time = time.time()\n",
    "print(\"Agent run completed\\n\")"
   ]
  },
  {
   "cell_type": "markdown",
   "metadata": {},
   "source": [
    "### Print logs and results"
   ]
  },
  {
   "cell_type": "code",
   "execution_count": 12,
   "metadata": {},
   "outputs": [
    {
     "name": "stdout",
     "output_type": "stream",
     "text": [
      "F 1430.0 | FPS 2146 | D 0 | R:μσmM 0.91 0.04 0.78 0.98 | F:μσmM 14.3 5.6 4.0 35.0\n",
      "\n",
      "10 worst episodes:\n",
      "- episode 52: R=0.78125, F=35.0\n",
      "- episode 51: R=0.8062499761581421, F=31.0\n",
      "- episode 23: R=0.824999988079071, F=28.0\n",
      "- episode 84: R=0.824999988079071, F=28.0\n",
      "- episode 91: R=0.8374999761581421, F=26.0\n",
      "- episode 34: R=0.84375, F=25.0\n",
      "- episode 69: R=0.84375, F=25.0\n",
      "- episode 97: R=0.8500000238418579, F=24.0\n",
      "- episode 35: R=0.856249988079071, F=23.0\n",
      "- episode 88: R=0.856249988079071, F=23.0\n"
     ]
    }
   ],
   "source": [
    "# Print logs\n",
    "\n",
    "num_frames = sum(logs[\"num_frames_per_episode\"])\n",
    "fps = num_frames/(end_time - start_time)\n",
    "duration = int(end_time - start_time)\n",
    "return_per_episode = utils.synthesize(logs[\"return_per_episode\"])\n",
    "num_frames_per_episode = utils.synthesize(logs[\"num_frames_per_episode\"])\n",
    "\n",
    "print(\"F {} | FPS {:.0f} | D {} | R:μσmM {:.2f} {:.2f} {:.2f} {:.2f} | F:μσmM {:.1f} {:.1f} {} {}\"\n",
    "      .format(num_frames, fps, duration,\n",
    "              *return_per_episode.values(),\n",
    "              *num_frames_per_episode.values()))\n",
    "\n",
    "# Print worst episodes\n",
    "\n",
    "n = args.worst_episodes_to_show\n",
    "if n > 0:\n",
    "    print(\"\\n{} worst episodes:\".format(n))\n",
    "\n",
    "    indexes = sorted(range(len(logs[\"return_per_episode\"])), key=lambda k: logs[\"return_per_episode\"][k])\n",
    "    for i in indexes[:n]:\n",
    "        print(\"- episode {}: R={}, F={}\".format(i, logs[\"return_per_episode\"][i], logs[\"num_frames_per_episode\"][i]))"
   ]
  },
  {
   "cell_type": "markdown",
   "metadata": {},
   "source": [
    "## Visualization"
   ]
  },
  {
   "cell_type": "markdown",
   "metadata": {},
   "source": [
    "### Load parameters"
   ]
  },
  {
   "cell_type": "code",
   "execution_count": null,
   "metadata": {},
   "outputs": [],
   "source": [
    "import array2gif\n",
    "from pathlib import Path\n",
    "import numpy\n",
    "\n",
    "## Hyper-parameters\n",
    "args = {\n",
    "# General parameters\n",
    "'env':args.env,\n",
    "'model':args.model,\n",
    "'seed':15,\n",
    "'shift':0,\n",
    "'argmax':False,\n",
    "'pause':0.1,\n",
    "'gif':args.model,\n",
    "'episodes':5,\n",
    "# Model Parameters\n",
    "'use_rim':args.use_rim,\n",
    "'num_units':args.num_units,\n",
    "'k':args.k\n",
    "}\n",
    "\n",
    "args = DictList(args)\n",
    "print(args)"
   ]
  },
  {
   "cell_type": "markdown",
   "metadata": {},
   "source": [
    "### Set environment, agent and logs"
   ]
  },
  {
   "cell_type": "code",
   "execution_count": null,
   "metadata": {},
   "outputs": [],
   "source": [
    "# Set seed for all randomness sources\n",
    "\n",
    "utils.seed(args.seed)\n",
    "\n",
    "# Set device\n",
    "\n",
    "device = torch.device(\"cuda\" if torch.cuda.is_available() else \"cpu\")\n",
    "print(f\"Device: {device}\\n\")\n",
    "\n",
    "# Load environment\n",
    "\n",
    "env = utils.make_env(args.env, args.seed)\n",
    "for _ in range(args.shift):\n",
    "    env.reset()\n",
    "print(\"Environment loaded\\n\")\n",
    "\n",
    "# Load agent\n",
    "\n",
    "model_dir = utils.get_model_dir(args.model)\n",
    "agent = utils.Agent(env.observation_space, env.action_space, model_dir, device, args.argmax, use_rim = args.use_rim, num_units = args.num_units, k = args.k)\n",
    "\n",
    "print(\"Agent loaded\\n\")"
   ]
  },
  {
   "cell_type": "markdown",
   "metadata": {},
   "source": [
    "### Make animation"
   ]
  },
  {
   "cell_type": "code",
   "execution_count": null,
   "metadata": {},
   "outputs": [],
   "source": [
    "%%capture\n",
    "# Run the agent\n",
    "\n",
    "if args.gif:\n",
    "   from array2gif import write_gif\n",
    "   frames = []\n",
    "\n",
    "# Create a window to view the environment\n",
    "env.render('human')\n",
    "\n",
    "for episode in range(args.episodes):\n",
    "    obs = env.reset()\n",
    "    done2 = False\n",
    "    while True:\n",
    "        env.render('human')\n",
    "        if args.gif:\n",
    "            frames.append(numpy.moveaxis(env.render(\"rgb_array\"), 2, 0))\n",
    "            \n",
    "\n",
    "        action = agent.get_action(obs)\n",
    "        obs, reward, done, _ = env.step(action)\n",
    "        agent.analyze_feedback(reward, done)\n",
    "        \n",
    "        if done or env.window.closed:\n",
    "            if episode == 4:\n",
    "                done2 = True\n",
    "            break\n",
    "    if done2 == True:\n",
    "        env.close()\n",
    "        break\n",
    "    #if env.window.closed:\n",
    "    #    break\n",
    "print('doneeee')\n",
    "if args.gif:\n",
    "    print(\"Saving gif... \", end=\"\")\n",
    "    utils.create_folders_if_necessary(\"./animation\")\n",
    "    #Path(\"./animation\").mkdir(parents=True, exist_ok=True)\n",
    "    write_gif(numpy.array(frames), \"./animation/\"+args.gif+\".gif\")\n",
    "    print(\"Done.\")"
   ]
  },
  {
   "cell_type": "code",
   "execution_count": null,
   "metadata": {},
   "outputs": [],
   "source": [
    "show_animation(args.model)"
   ]
  },
  {
   "cell_type": "markdown",
   "metadata": {},
   "source": [
    "### Make video"
   ]
  },
  {
   "cell_type": "code",
   "execution_count": null,
   "metadata": {},
   "outputs": [],
   "source": [
    "test_env = wrap_env(env)\n",
    "observation = test_env.reset()\n",
    "\n",
    "done = False\n",
    "episode_reward = 0\n",
    "episode_length = 0\n",
    "\n",
    "while not done:\n",
    "    action = agent.get_action(observation)\n",
    "    observation, reward, done, info = test_env.step(action)\n",
    "    episode_reward += reward\n",
    "    episode_length += 1\n",
    "\n",
    "print('Total reward:', episode_reward)\n",
    "print('Total length:', episode_length)\n",
    "\n",
    "test_env.close()\n",
    "show_video()"
   ]
  },
  {
   "cell_type": "markdown",
   "metadata": {},
   "source": [
    "# Continue learning on 2nd environment"
   ]
  },
  {
   "cell_type": "markdown",
   "metadata": {},
   "source": [
    "## Configuration"
   ]
  },
  {
   "cell_type": "markdown",
   "metadata": {},
   "source": [
    "### Set general parameters"
   ]
  },
  {
   "cell_type": "code",
   "execution_count": 13,
   "metadata": {},
   "outputs": [],
   "source": [
    "#env_id = 'MiniGrid-Empty-8x8-v0'\n",
    "#env_id = 'MiniGrid-LavaGapS5-v0'\n",
    "#env_id = 'MiniGrid-DoorKey-5x5-v0'\n",
    "env_id = 'MiniGrid-DoorKey-6x6-v0'\n",
    "#env_id = 'MiniGrid-Empty-Random-6x6-v0'\n",
    "#env_id = 'MiniGrid-Empty-5x5-v0'\n",
    "\n",
    "#model = 'MiniGrid-DoorKey-6x6-v0_meta_RIM_5_3_frames_500k_tasks_2_recur_64_16_proc_16_RMSProp_lr_7e4_gae_099_newloop_changeseed'\n",
    "\n",
    "add_frames = 300000\n",
    "frames = frames + add_frames\n",
    "\n",
    "## Hyper-parameters\n",
    "args = {\n",
    "# General parameters\n",
    "'algo':'ppo',\n",
    "'env':env_id,\n",
    "'model':model,\n",
    "'seed':1,\n",
    "'log_interval':1,\n",
    "'save_interval':10,\n",
    "'procs':processes,\n",
    "'frames':frames, # default 1e7\n",
    "# Parameters for main algorithm\n",
    "'epochs':4,\n",
    "'batch_size':256,\n",
    "'frames_per_proc':128, # 128 for PPO and 5 per A2C\n",
    "'discount':0.99,\n",
    "#'lr':0.0001, # for Adam\n",
    "'lr':0.0007, # for RMSProp\n",
    "#'gae_lambda':0.95, # 1 means no gae, for Adam\n",
    "'gae_lambda':0.99, # 1 means no gae, for RMSProp\n",
    "'entropy_coef':0.01,\n",
    "'value_loss_coef':0.5,\n",
    "'max_grad_norm':0.5,\n",
    "'optim_eps':1e-8,\n",
    "'optim_alpha':0.99,\n",
    "'clip_eps':0.2,\n",
    "'recurrence':1, # if > 1, a LSTM is added\n",
    "'text':False, # add a GRU for text input\n",
    "# Model Parameters\n",
    "'use_rim':False # action = 'store_true'\n",
    "}\n",
    "\n",
    "#args = utils.dotdict(args)\n",
    "args = DictList(args)\n",
    "\n",
    "args.mem = args.recurrence > 1\n",
    "\n",
    "# RIM specific hyperparameters\n",
    "if args.use_rim:\n",
    "    args.num_units = 5\n",
    "    args.k = 3"
   ]
  },
  {
   "cell_type": "markdown",
   "metadata": {},
   "source": [
    "### Load previous loggers and settings"
   ]
  },
  {
   "cell_type": "code",
   "execution_count": 14,
   "metadata": {},
   "outputs": [
    {
     "name": "stdout",
     "output_type": "stream",
     "text": [
      "{'algo': 'ppo', 'env': 'MiniGrid-DoorKey-6x6-v0', 'model': 'MiniGrid-WallGapS6-v0_PPO_frames_600k_proc_16_RMSProp_lr_7e4_gae_099_test_MiniGrid-DoorKey-6x6-v0', 'seed': 1, 'log_interval': 1, 'save_interval': 10, 'procs': 16, 'frames': 600000, 'epochs': 4, 'batch_size': 256, 'frames_per_proc': 128, 'discount': 0.99, 'lr': 0.0007, 'gae_lambda': 0.99, 'entropy_coef': 0.01, 'value_loss_coef': 0.5, 'max_grad_norm': 0.5, 'optim_eps': 1e-08, 'optim_alpha': 0.99, 'clip_eps': 0.2, 'recurrence': 1, 'text': False, 'use_rim': False, 'mem': False}\n",
      "\n",
      "Device: cpu\n",
      "\n"
     ]
    }
   ],
   "source": [
    "date = datetime.datetime.now().strftime(\"%y-%m-%d-%H-%M-%S\")\n",
    "default_model_name = f\"{args.env}_{args.algo}_seed{args.seed}_{date}\"\n",
    "\n",
    "model_name = args.model or default_model_name\n",
    "model_dir = utils.get_model_dir(model_name)\n",
    "\n",
    "# Load loggers and Tensorboard writer\n",
    "\n",
    "txt_logger = utils.get_txt_logger(model_dir)\n",
    "csv_file, csv_logger = utils.get_csv_logger(model_dir)\n",
    "tb_writer = tensorboardX.SummaryWriter(model_dir)\n",
    "\n",
    "# Log command and all script arguments\n",
    "\n",
    "#txt_logger.info(\"{}\\n\".format(\" \".join(sys.argv)))\n",
    "txt_logger.info(\"{}\\n\".format(args))\n",
    "\n",
    "# Set seed for all randomness sources\n",
    "\n",
    "utils.seed(args.seed)\n",
    "\n",
    "# Set device\n",
    "\n",
    "device = torch.device(\"cuda\" if torch.cuda.is_available() else \"cpu\")\n",
    "txt_logger.info(f\"Device: {device}\\n\")"
   ]
  },
  {
   "cell_type": "markdown",
   "metadata": {},
   "source": [
    "### Load existing environments, model and training status (TEST for CF)"
   ]
  },
  {
   "cell_type": "code",
   "execution_count": 15,
   "metadata": {},
   "outputs": [
    {
     "name": "stdout",
     "output_type": "stream",
     "text": [
      "Environments loaded\n",
      "\n"
     ]
    }
   ],
   "source": [
    "# Load environments\n",
    "\n",
    "envs = []\n",
    "for i in range(args.procs):\n",
    "    envs.append(utils.make_env(args.env, args.seed + 10000 * i))\n",
    "txt_logger.info(\"Environments loaded\\n\")\n",
    "\n",
    "envs = make_envs(args.env, args.procs, args.seed)\n",
    "\n",
    "algo.env = envs"
   ]
  },
  {
   "cell_type": "markdown",
   "metadata": {},
   "source": [
    "### Load existing environments, model and training status"
   ]
  },
  {
   "cell_type": "code",
   "execution_count": null,
   "metadata": {},
   "outputs": [],
   "source": [
    "# Load environments\n",
    "\n",
    "envs = []\n",
    "for i in range(args.procs):\n",
    "    envs.append(utils.make_env(args.env, args.seed + 10000 * i))\n",
    "txt_logger.info(\"Environments loaded\\n\")\n",
    "\n",
    "# Load training status\n",
    "\n",
    "try:\n",
    "    status = utils.get_status(model_dir)\n",
    "except OSError:\n",
    "    status = {\"num_frames\": 0, \"update\": 0}\n",
    "txt_logger.info(\"Training status loaded\\n\")\n",
    "\n",
    "# Load observations preprocessor\n",
    "\n",
    "obs_space, preprocess_obss = utils.get_obss_preprocessor(envs[0].observation_space)\n",
    "if \"vocab\" in status:\n",
    "    preprocess_obss.vocab.load_vocab(status[\"vocab\"])\n",
    "txt_logger.info(\"Observations preprocessor loaded\")\n",
    "\n",
    "# Load model\n",
    "\n",
    "acmodel = ACModel(obs_space, envs[0].action_space, args.mem, args.text, args.use_rim, args.num_units, args.k)\n",
    "if \"model_state\" in status:\n",
    "    acmodel.load_state_dict(status[\"model_state\"])\n",
    "acmodel.to(device)\n",
    "txt_logger.info(\"Model loaded\\n\")\n",
    "txt_logger.info(\"{}\\n\".format(acmodel))\n",
    "\n",
    "# Load algo\n",
    "\n",
    "if args.algo == \"a2c\":\n",
    "    algo = torch_ac.A2CAlgo(envs, acmodel, device, args.frames_per_proc, args.discount, args.lr, args.gae_lambda,\n",
    "                            args.entropy_coef, args.value_loss_coef, args.max_grad_norm, args.recurrence,\n",
    "                            args.optim_alpha, args.optim_eps, preprocess_obss)\n",
    "elif args.algo == \"ppo\":\n",
    "    algo = torch_ac.PPOAlgo(envs, acmodel, device, args.frames_per_proc, args.discount, args.lr, args.gae_lambda,\n",
    "                            args.entropy_coef, args.value_loss_coef, args.max_grad_norm, args.recurrence,\n",
    "                            args.optim_eps, args.clip_eps, args.epochs, args.batch_size, preprocess_obss)\n",
    "else:\n",
    "    raise ValueError(\"Incorrect algorithm name: {}\".format(args.algo))\n",
    "\n",
    "# change to RMSProp optimizer\n",
    "algo.optimizer = torch.optim.RMSprop(algo.acmodel.parameters(), args.lr, eps=args.optim_eps)\n",
    "\n",
    "if \"optimizer_state\" in status:\n",
    "    algo.optimizer.load_state_dict(status[\"optimizer_state\"])\n",
    "txt_logger.info(\"Optimizer loaded\\n\")"
   ]
  },
  {
   "cell_type": "markdown",
   "metadata": {},
   "source": [
    "## Continue training"
   ]
  },
  {
   "cell_type": "code",
   "execution_count": 16,
   "metadata": {},
   "outputs": [
    {
     "name": "stdout",
     "output_type": "stream",
     "text": [
      "U 41 | F 083968 | FPS 2949 | D 0 | rR:μσmM 0.91 0.04 0.81 0.97 | F:μσmM 17.9 20.1 5.0 93.0 | H 1.618 | V 0.588 | pL 0.249 | vL 0.017 | ∇ 0.247\n",
      "U 42 | F 086016 | FPS 3351 | D 1 | rR:μσmM 0.88 0.12 0.43 0.97 | F:μσmM 32.0 56.8 5.0 238.0 | H 1.753 | V 0.385 | pL 0.181 | vL 0.005 | ∇ 0.160\n",
      "U 43 | F 088064 | FPS 3255 | D 1 | rR:μσmM 0.09 0.22 0.00 0.81 | F:μσmM 338.2 71.0 93.0 378.0 | H 1.785 | V 0.188 | pL 0.206 | vL 0.010 | ∇ 0.147\n",
      "U 44 | F 090112 | FPS 3059 | D 2 | rR:μσmM 0.04 0.11 0.00 0.43 | F:μσmM 354.9 32.3 238.0 378.0 | H 1.823 | V 0.132 | pL 0.066 | vL 0.001 | ∇ 0.044\n",
      "U 45 | F 092160 | FPS 3031 | D 3 | rR:μσmM 0.05 0.14 0.00 0.48 | F:μσmM 347.9 46.7 209.0 378.0 | H 1.854 | V 0.104 | pL 0.030 | vL 0.002 | ∇ 0.033\n",
      "U 46 | F 094208 | FPS 2882 | D 4 | rR:μσmM 0.05 0.14 0.00 0.48 | F:μσmM 343.2 44.7 209.0 360.0 | H 1.886 | V 0.058 | pL 0.045 | vL 0.001 | ∇ 0.031\n",
      "U 47 | F 096256 | FPS 2867 | D 4 | rR:μσmM 0.06 0.16 0.00 0.54 | F:μσmM 341.8 49.2 186.0 360.0 | H 1.886 | V 0.047 | pL 0.007 | vL 0.002 | ∇ 0.027\n",
      "U 48 | F 098304 | FPS 3237 | D 5 | rR:μσmM 0.09 0.17 0.00 0.54 | F:μσmM 334.1 50.3 186.0 360.0 | H 1.887 | V 0.054 | pL 0.006 | vL 0.002 | ∇ 0.026\n",
      "U 49 | F 100352 | FPS 3080 | D 6 | rR:μσmM 0.16 0.23 0.00 0.80 | F:μσmM 314.9 77.7 82.0 360.0 | H 1.907 | V 0.036 | pL 0.008 | vL 0.002 | ∇ 0.025\n",
      "U 50 | F 102400 | FPS 2967 | D 6 | rR:μσmM 0.16 0.23 0.00 0.80 | F:μσmM 313.9 79.3 82.0 360.0 | H 1.914 | V 0.037 | pL 0.001 | vL 0.002 | ∇ 0.021\n",
      "Status saved\n",
      "U 51 | F 104448 | FPS 3010 | D 7 | rR:μσmM 0.07 0.16 0.00 0.57 | F:μσmM 340.3 49.8 171.0 360.0 | H 1.917 | V 0.031 | pL 0.004 | vL 0.001 | ∇ 0.023\n",
      "U 52 | F 106496 | FPS 2847 | D 8 | rR:μσmM 0.15 0.25 0.00 0.76 | F:μσmM 314.3 82.2 96.0 360.0 | H 1.896 | V 0.064 | pL -0.023 | vL 0.007 | ∇ 0.048\n",
      "U 53 | F 108544 | FPS 2733 | D 8 | rR:μσmM 0.31 0.32 0.00 0.80 | F:μσmM 256.8 110.7 80.0 360.0 | H 1.887 | V 0.068 | pL -0.018 | vL 0.007 | ∇ 0.060\n",
      "U 54 | F 110592 | FPS 3031 | D 9 | rR:μσmM 0.33 0.31 0.00 0.80 | F:μσmM 250.5 105.8 80.0 360.0 | H 1.897 | V 0.078 | pL 0.001 | vL 0.007 | ∇ 0.044\n",
      "U 55 | F 112640 | FPS 2975 | D 10 | rR:μσmM 0.35 0.35 0.00 0.89 | F:μσmM 241.7 121.5 42.0 360.0 | H 1.866 | V 0.117 | pL -0.045 | vL 0.017 | ∇ 0.094\n",
      "U 56 | F 114688 | FPS 2840 | D 11 | rR:μσmM 0.41 0.36 0.00 0.89 | F:μσmM 222.7 128.5 42.0 360.0 | H 1.875 | V 0.107 | pL 0.028 | vL 0.006 | ∇ 0.045\n",
      "U 57 | F 116736 | FPS 2759 | D 11 | rR:μσmM 0.34 0.35 0.00 0.94 | F:μσmM 247.9 124.2 26.0 360.0 | H 1.859 | V 0.148 | pL -0.017 | vL 0.015 | ∇ 0.069\n",
      "U 58 | F 118784 | FPS 2453 | D 12 | rR:μσmM 0.51 0.37 0.00 0.94 | F:μσmM 182.7 132.5 23.0 360.0 | H 1.825 | V 0.192 | pL -0.029 | vL 0.018 | ∇ 0.105\n",
      "U 59 | F 120832 | FPS 3121 | D 13 | rR:μσmM 0.54 0.33 0.00 0.94 | F:μσmM 175.8 115.3 23.0 360.0 | H 1.860 | V 0.202 | pL 0.004 | vL 0.014 | ∇ 0.073\n",
      "U 60 | F 122880 | FPS 2870 | D 14 | rR:μσmM 0.52 0.26 0.00 0.88 | F:μσmM 187.2 94.7 47.0 360.0 | H 1.851 | V 0.166 | pL 0.013 | vL 0.009 | ∇ 0.061\n",
      "Status saved\n",
      "U 61 | F 124928 | FPS 3069 | D 14 | rR:μσmM 0.55 0.24 0.00 0.88 | F:μσmM 177.8 92.2 47.0 360.0 | H 1.875 | V 0.143 | pL 0.013 | vL 0.007 | ∇ 0.064\n",
      "U 62 | F 126976 | FPS 2922 | D 15 | rR:μσmM 0.29 0.30 0.00 0.84 | F:μσmM 266.8 103.0 65.0 360.0 | H 1.882 | V 0.108 | pL 0.019 | vL 0.007 | ∇ 0.061\n",
      "U 63 | F 129024 | FPS 2899 | D 16 | rR:μσmM 0.31 0.30 0.00 0.78 | F:μσmM 256.8 101.0 87.0 360.0 | H 1.884 | V 0.115 | pL -0.005 | vL 0.007 | ∇ 0.050\n",
      "U 64 | F 131072 | FPS 3064 | D 16 | rR:μσmM 0.49 0.26 0.00 0.84 | F:μσmM 197.4 91.5 65.0 360.0 | H 1.841 | V 0.155 | pL -0.019 | vL 0.010 | ∇ 0.084\n",
      "U 65 | F 133120 | FPS 2806 | D 17 | rR:μσmM 0.43 0.35 0.00 0.93 | F:μσmM 213.8 123.2 29.0 360.0 | H 1.855 | V 0.159 | pL -0.022 | vL 0.012 | ∇ 0.075\n",
      "U 66 | F 135168 | FPS 2945 | D 18 | rR:μσmM 0.50 0.32 0.00 0.90 | F:μσmM 192.6 116.7 38.0 360.0 | H 1.848 | V 0.196 | pL -0.020 | vL 0.013 | ∇ 0.105\n",
      "U 67 | F 137216 | FPS 2880 | D 18 | rR:μσmM 0.51 0.31 0.00 0.94 | F:μσmM 188.9 113.6 23.0 360.0 | H 1.843 | V 0.143 | pL 0.010 | vL 0.010 | ∇ 0.076\n",
      "U 68 | F 139264 | FPS 2971 | D 19 | rR:μσmM 0.46 0.36 0.00 0.90 | F:μσmM 204.7 127.6 40.0 360.0 | H 1.843 | V 0.153 | pL -0.003 | vL 0.013 | ∇ 0.083\n",
      "U 69 | F 141312 | FPS 2899 | D 20 | rR:μσmM 0.48 0.34 0.00 0.93 | F:μσmM 201.2 126.2 27.0 360.0 | H 1.834 | V 0.178 | pL -0.020 | vL 0.019 | ∇ 0.111\n",
      "U 70 | F 143360 | FPS 2951 | D 21 | rR:μσmM 0.50 0.32 0.00 0.86 | F:μσmM 193.9 119.7 56.0 360.0 | H 1.836 | V 0.181 | pL -0.002 | vL 0.013 | ∇ 0.092\n",
      "Status saved\n",
      "U 71 | F 145408 | FPS 3118 | D 21 | rR:μσmM 0.60 0.35 0.00 0.97 | F:μσmM 151.6 127.6 13.0 360.0 | H 1.789 | V 0.274 | pL -0.048 | vL 0.030 | ∇ 0.171\n",
      "U 72 | F 147456 | FPS 3071 | D 22 | rR:μσmM 0.69 0.26 0.00 0.93 | F:μσmM 120.5 93.2 30.0 360.0 | H 1.801 | V 0.294 | pL -0.046 | vL 0.021 | ∇ 0.131\n",
      "U 73 | F 149504 | FPS 2998 | D 23 | rR:μσmM 0.79 0.14 0.45 0.97 | F:μσmM 83.5 56.2 11.0 221.0 | H 1.736 | V 0.396 | pL -0.067 | vL 0.022 | ∇ 0.132\n",
      "U 74 | F 151552 | FPS 3015 | D 23 | rR:μσmM 0.78 0.20 0.14 0.94 | F:μσmM 87.3 79.3 25.0 345.0 | H 1.733 | V 0.431 | pL -0.018 | vL 0.019 | ∇ 0.144\n",
      "U 75 | F 153600 | FPS 3186 | D 24 | rR:μσmM 0.81 0.15 0.35 0.96 | F:μσmM 75.4 59.9 14.0 258.0 | H 1.714 | V 0.505 | pL -0.071 | vL 0.017 | ∇ 0.131\n",
      "U 76 | F 155648 | FPS 3057 | D 25 | rR:μσmM 0.87 0.07 0.62 0.95 | F:μσmM 53.0 28.0 19.0 150.0 | H 1.696 | V 0.512 | pL -0.020 | vL 0.015 | ∇ 0.151\n",
      "U 77 | F 157696 | FPS 2808 | D 25 | rR:μσmM 0.78 0.19 0.29 0.95 | F:μσmM 88.6 76.3 20.0 285.0 | H 1.736 | V 0.434 | pL -0.024 | vL 0.023 | ∇ 0.192\n",
      "U 78 | F 159744 | FPS 2899 | D 26 | rR:μσmM 0.83 0.12 0.41 0.95 | F:μσmM 66.9 49.0 20.0 235.0 | H 1.710 | V 0.449 | pL -0.025 | vL 0.023 | ∇ 0.156\n",
      "U 79 | F 161792 | FPS 2723 | D 27 | rR:μσmM 0.76 0.21 0.00 0.95 | F:μσmM 92.5 76.3 18.0 360.0 | H 1.709 | V 0.458 | pL 0.005 | vL 0.018 | ∇ 0.175\n",
      "U 80 | F 163840 | FPS 2871 | D 28 | rR:μσmM 0.84 0.18 0.00 0.96 | F:μσmM 63.6 67.0 15.0 360.0 | H 1.631 | V 0.544 | pL -0.023 | vL 0.017 | ∇ 0.123\n",
      "Status saved\n",
      "U 81 | F 165888 | FPS 3236 | D 28 | rR:μσmM 0.86 0.13 0.22 0.96 | F:μσmM 56.5 51.5 15.0 311.0 | H 1.617 | V 0.591 | pL -0.031 | vL 0.016 | ∇ 0.134\n",
      "U 82 | F 167936 | FPS 2806 | D 29 | rR:μσmM 0.88 0.07 0.61 0.96 | F:μσmM 47.2 27.8 14.0 155.0 | H 1.542 | V 0.633 | pL -0.067 | vL 0.010 | ∇ 0.154\n",
      "U 83 | F 169984 | FPS 2791 | D 30 | rR:μσmM 0.88 0.07 0.62 0.96 | F:μσmM 46.0 29.6 17.0 150.0 | H 1.595 | V 0.588 | pL -0.014 | vL 0.014 | ∇ 0.163\n",
      "U 84 | F 172032 | FPS 2712 | D 30 | rR:μσmM 0.85 0.10 0.54 0.96 | F:μσmM 60.3 38.8 16.0 185.0 | H 1.570 | V 0.582 | pL -0.013 | vL 0.012 | ∇ 0.125\n",
      "U 85 | F 174080 | FPS 3079 | D 31 | rR:μσmM 0.87 0.09 0.56 0.98 | F:μσmM 50.3 34.8 10.0 176.0 | H 1.528 | V 0.642 | pL -0.036 | vL 0.011 | ∇ 0.120\n",
      "U 86 | F 176128 | FPS 2585 | D 32 | rR:μσmM 0.89 0.07 0.69 0.97 | F:μσmM 44.3 27.6 13.0 123.0 | H 1.464 | V 0.666 | pL -0.025 | vL 0.011 | ∇ 0.136\n",
      "U 87 | F 178176 | FPS 2987 | D 33 | rR:μσmM 0.91 0.04 0.76 0.96 | F:μσmM 37.3 18.0 15.0 97.0 | H 1.476 | V 0.687 | pL -0.032 | vL 0.009 | ∇ 0.160\n",
      "U 88 | F 180224 | FPS 2721 | D 33 | rR:μσmM 0.91 0.05 0.68 0.97 | F:μσmM 35.6 21.6 12.0 127.0 | H 1.426 | V 0.734 | pL -0.026 | vL 0.007 | ∇ 0.137\n",
      "U 89 | F 182272 | FPS 2948 | D 34 | rR:μσmM 0.92 0.04 0.76 0.98 | F:μσmM 31.9 18.0 10.0 97.0 | H 1.432 | V 0.758 | pL -0.004 | vL 0.006 | ∇ 0.116\n",
      "U 90 | F 184320 | FPS 2872 | D 35 | rR:μσmM 0.91 0.05 0.72 0.97 | F:μσmM 34.4 19.6 12.0 112.0 | H 1.378 | V 0.720 | pL -0.004 | vL 0.007 | ∇ 0.096\n",
      "Status saved\n",
      "U 91 | F 186368 | FPS 2902 | D 36 | rR:μσmM 0.92 0.04 0.76 0.97 | F:μσmM 30.5 16.0 11.0 95.0 | H 1.428 | V 0.762 | pL -0.015 | vL 0.006 | ∇ 0.123\n",
      "U 92 | F 188416 | FPS 2898 | D 36 | rR:μσmM 0.93 0.03 0.79 0.97 | F:μσmM 27.4 12.4 11.0 85.0 | H 1.464 | V 0.798 | pL 0.047 | vL 0.005 | ∇ 0.071\n",
      "U 93 | F 190464 | FPS 3102 | D 37 | rR:μσmM 0.91 0.05 0.61 0.97 | F:μσmM 36.0 21.3 11.0 156.0 | H 1.474 | V 0.755 | pL 0.036 | vL 0.005 | ∇ 0.090\n",
      "U 94 | F 192512 | FPS 3174 | D 38 | rR:μσmM 0.92 0.04 0.82 0.97 | F:μσmM 33.9 17.0 12.0 70.0 | H 1.529 | V 0.728 | pL 0.038 | vL 0.007 | ∇ 0.131\n",
      "U 95 | F 194560 | FPS 3114 | D 38 | rR:μσmM 0.89 0.06 0.66 0.98 | F:μσmM 42.8 25.9 10.0 137.0 | H 1.510 | V 0.707 | pL 0.004 | vL 0.009 | ∇ 0.116\n",
      "U 96 | F 196608 | FPS 3165 | D 39 | rR:μσmM 0.91 0.05 0.70 0.98 | F:μσmM 36.3 20.8 10.0 120.0 | H 1.515 | V 0.711 | pL 0.002 | vL 0.008 | ∇ 0.122\n",
      "U 97 | F 198656 | FPS 3243 | D 40 | rR:μσmM 0.90 0.06 0.64 0.96 | F:μσmM 41.2 24.4 14.0 143.0 | H 1.477 | V 0.697 | pL -0.017 | vL 0.007 | ∇ 0.121\n",
      "U 98 | F 200704 | FPS 3221 | D 40 | rR:μσmM 0.91 0.05 0.74 0.97 | F:μσmM 34.1 18.2 11.0 103.0 | H 1.448 | V 0.718 | pL -0.033 | vL 0.008 | ∇ 0.139\n",
      "U 99 | F 202752 | FPS 3262 | D 41 | rR:μσmM 0.90 0.05 0.71 0.96 | F:μσmM 38.1 19.6 16.0 114.0 | H 1.465 | V 0.714 | pL -0.012 | vL 0.006 | ∇ 0.087\n",
      "Number of frames:  204800\n"
     ]
    }
   ],
   "source": [
    "# Train model\n",
    "\n",
    "num_frames = status[\"num_frames\"]\n",
    "update = status[\"update\"]\n",
    "start_time = time.time()\n",
    "\n",
    "# Moving average parameters\n",
    "threshold = 0.90\n",
    "window = 10\n",
    "rreturn_total = 0\n",
    "i = 0\n",
    "\n",
    "while num_frames < args.frames:\n",
    "    # Update model parameters\n",
    "\n",
    "    update_start_time = time.time()\n",
    "    exps, logs1 = algo.collect_experiences()\n",
    "    logs2 = algo.update_parameters(exps)\n",
    "    logs = {**logs1, **logs2}\n",
    "    update_end_time = time.time()\n",
    "\n",
    "    num_frames += logs[\"num_frames\"]\n",
    "    update += 1\n",
    "\n",
    "    # Print logs\n",
    "\n",
    "    if update % args.log_interval == 0:\n",
    "        fps = logs[\"num_frames\"]/(update_end_time - update_start_time)\n",
    "        duration = int(time.time() - start_time)\n",
    "        return_per_episode = utils.synthesize(logs[\"return_per_episode\"])\n",
    "        rreturn_per_episode = utils.synthesize(logs[\"reshaped_return_per_episode\"])\n",
    "        num_frames_per_episode = utils.synthesize(logs[\"num_frames_per_episode\"])\n",
    "        # Moving average to break loop if mean reward threshold reached\n",
    "        rreturn_total +=rreturn_per_episode['mean']\n",
    "        i+=1\n",
    "        if i >= window:\n",
    "            rreturn_mavg = rreturn_total / i\n",
    "            if rreturn_mavg >= threshold:\n",
    "                break_flag = True \n",
    "                break\n",
    "            else:\n",
    "                i = 0\n",
    "                rreturn_total = 0\n",
    "\n",
    "        header = [\"update\", \"frames\", \"FPS\", \"duration\"]\n",
    "        data = [update, num_frames, fps, duration]\n",
    "        header += [\"rreturn_\" + key for key in rreturn_per_episode.keys()]\n",
    "        data += rreturn_per_episode.values()\n",
    "        header += [\"num_frames_\" + key for key in num_frames_per_episode.keys()]\n",
    "        data += num_frames_per_episode.values()\n",
    "        header += [\"entropy\", \"value\", \"policy_loss\", \"value_loss\", \"grad_norm\"]\n",
    "        data += [logs[\"entropy\"], logs[\"value\"], logs[\"policy_loss\"], logs[\"value_loss\"], logs[\"grad_norm\"]]\n",
    "\n",
    "        txt_logger.info(\n",
    "            \"U {} | F {:06} | FPS {:04.0f} | D {} | rR:μσmM {:.2f} {:.2f} {:.2f} {:.2f} | F:μσmM {:.1f} {:.1f} {} {} | H {:.3f} | V {:.3f} | pL {:.3f} | vL {:.3f} | ∇ {:.3f}\"\n",
    "            .format(*data))\n",
    "\n",
    "        header += [\"return_\" + key for key in return_per_episode.keys()]\n",
    "        data += return_per_episode.values()\n",
    "\n",
    "        if status[\"num_frames\"] == 0:\n",
    "            csv_logger.writerow(header)\n",
    "        csv_logger.writerow(data)\n",
    "        csv_file.flush()\n",
    "\n",
    "        for field, value in zip(header, data):\n",
    "            tb_writer.add_scalar(field, value, num_frames)\n",
    "\n",
    "    # Save status\n",
    "\n",
    "    if args.save_interval > 0 and update % args.save_interval == 0:\n",
    "        status = {\"num_frames\": num_frames, \"update\": update,\n",
    "                  \"model_state\": acmodel.state_dict(), \"optimizer_state\": algo.optimizer.state_dict()}\n",
    "        if hasattr(preprocess_obss, \"vocab\"):\n",
    "            status[\"vocab\"] = preprocess_obss.vocab.vocab\n",
    "        utils.save_status(status, model_dir)\n",
    "        txt_logger.info(\"Status saved\")\n",
    "\n",
    "print(\"Number of frames: \", num_frames)"
   ]
  },
  {
   "cell_type": "markdown",
   "metadata": {},
   "source": [
    "## Evaluate 2nd environment"
   ]
  },
  {
   "cell_type": "markdown",
   "metadata": {},
   "source": [
    "### Load parameters"
   ]
  },
  {
   "cell_type": "code",
   "execution_count": 17,
   "metadata": {},
   "outputs": [
    {
     "name": "stdout",
     "output_type": "stream",
     "text": [
      "{'algo': 'ppo', 'env': 'MiniGrid-DoorKey-6x6-v0', 'model': 'MiniGrid-WallGapS6-v0_PPO_frames_600k_proc_16_RMSProp_lr_7e4_gae_099_test_MiniGrid-DoorKey-6x6-v0', 'seed': 2, 'log_interval': 1, 'save_interval': 10, 'procs': 16, 'frames': 600000, 'epochs': 4, 'batch_size': 256, 'frames_per_proc': 128, 'discount': 0.99, 'lr': 0.0007, 'gae_lambda': 0.99, 'entropy_coef': 0.01, 'value_loss_coef': 0.5, 'max_grad_norm': 0.5, 'optim_eps': 1e-08, 'optim_alpha': 0.99, 'clip_eps': 0.2, 'recurrence': 1, 'text': False, 'use_rim': False, 'mem': False, 'episodes': 100, 'argmax': False, 'worst_episodes_to_show': 10}\n",
      "Device: cpu\n",
      "\n"
     ]
    }
   ],
   "source": [
    "#env_id = 'MiniGrid-Empty-Random-6x6-v0'\n",
    "env_id = 'MiniGrid-DoorKey-6x6-v0'\n",
    "#env_id = 'MiniGrid-Empty-8x8-v0'\n",
    "#env_id = 'MiniGrid-LavaGapS5-v0'\n",
    "args.env = env_id\n",
    "\n",
    "## Hyper-parameters\n",
    "args.env = env_id\n",
    "args.episodes = 100\n",
    "args.seed = 2\n",
    "args.argmax = False\n",
    "args.worst_episodes_to_show = 10\n",
    "print(args)\n",
    "\n",
    "# Set seed for all randomness sources\n",
    "utils.seed(args.seed)\n",
    "\n",
    "# Set device\n",
    "device = torch.device(\"cuda\" if torch.cuda.is_available() else \"cpu\")\n",
    "print(f\"Device: {device}\\n\")"
   ]
  },
  {
   "cell_type": "markdown",
   "metadata": {},
   "source": [
    "### Set environments, agent and logs"
   ]
  },
  {
   "cell_type": "code",
   "execution_count": 18,
   "metadata": {},
   "outputs": [
    {
     "name": "stdout",
     "output_type": "stream",
     "text": [
      "Environments loaded\n",
      "\n",
      "Agent loaded\n",
      "\n"
     ]
    }
   ],
   "source": [
    "# Load environments\n",
    "\n",
    "envs = []\n",
    "for i in range(args.procs):\n",
    "    env = utils.make_env(args.env, args.seed + 10000 * i)\n",
    "    envs.append(env)\n",
    "env = ParallelEnv(envs)\n",
    "print(\"Environments loaded\\n\")\n",
    "\n",
    "# Load agent\n",
    "\n",
    "model_dir = utils.get_model_dir(args.model)\n",
    "agent = utils.Agent(obs_space=env.observation_space, action_space=env.action_space, model_dir=model_dir, device=device, argmax=args.argmax, num_envs=args.procs, use_memory=args.mem, use_rim=args.use_rim)\n",
    "print(\"Agent loaded\\n\")\n",
    "\n",
    "# Initialize logs\n",
    "\n",
    "logs = {\"num_frames_per_episode\": [], \"return_per_episode\": []}"
   ]
  },
  {
   "cell_type": "markdown",
   "metadata": {},
   "source": [
    "### Run agent"
   ]
  },
  {
   "cell_type": "code",
   "execution_count": 19,
   "metadata": {},
   "outputs": [
    {
     "name": "stdout",
     "output_type": "stream",
     "text": [
      "Agent run completed\n",
      "\n"
     ]
    }
   ],
   "source": [
    "# Run agent\n",
    "\n",
    "start_time = time.time()\n",
    "\n",
    "obss = env.reset()\n",
    "\n",
    "log_done_counter = 0\n",
    "log_episode_return = torch.zeros(args.procs, device=device)\n",
    "log_episode_num_frames = torch.zeros(args.procs, device=device)\n",
    "\n",
    "while log_done_counter < args.episodes:\n",
    "    actions = agent.get_actions(obss)\n",
    "    obss, rewards, dones, _ = env.step(actions)\n",
    "    agent.analyze_feedbacks(rewards, dones)\n",
    "\n",
    "    log_episode_return += torch.tensor(rewards, device=device, dtype=torch.float)\n",
    "    log_episode_num_frames += torch.ones(args.procs, device=device)\n",
    "\n",
    "    for i, done in enumerate(dones):\n",
    "        if done:\n",
    "            log_done_counter += 1\n",
    "            logs[\"return_per_episode\"].append(log_episode_return[i].item())\n",
    "            logs[\"num_frames_per_episode\"].append(log_episode_num_frames[i].item())\n",
    "\n",
    "    mask = 1 - torch.tensor(dones, device=device, dtype=torch.float)\n",
    "    log_episode_return *= mask\n",
    "    log_episode_num_frames *= mask\n",
    "\n",
    "end_time = time.time()\n",
    "print(\"Agent run completed\\n\")"
   ]
  },
  {
   "cell_type": "markdown",
   "metadata": {},
   "source": [
    "### Print logs and results"
   ]
  },
  {
   "cell_type": "code",
   "execution_count": 20,
   "metadata": {},
   "outputs": [
    {
     "name": "stdout",
     "output_type": "stream",
     "text": [
      "F 2908.0 | FPS 3370 | D 0 | R:μσmM 0.93 0.03 0.82 0.97 | F:μσmM 29.1 12.0 12.0 72.0\n",
      "\n",
      "10 worst episodes:\n",
      "- episode 79: R=0.8199999928474426, F=72.0\n",
      "- episode 59: R=0.8550000190734863, F=58.0\n",
      "- episode 55: R=0.8575000166893005, F=57.0\n",
      "- episode 89: R=0.8600000143051147, F=56.0\n",
      "- episode 35: R=0.862500011920929, F=55.0\n",
      "- episode 72: R=0.862500011920929, F=55.0\n",
      "- episode 88: R=0.8650000095367432, F=54.0\n",
      "- episode 40: R=0.8774999976158142, F=49.0\n",
      "- episode 52: R=0.8774999976158142, F=49.0\n",
      "- episode 36: R=0.8799999952316284, F=48.0\n"
     ]
    }
   ],
   "source": [
    "# Print logs\n",
    "\n",
    "num_frames = sum(logs[\"num_frames_per_episode\"])\n",
    "fps = num_frames/(end_time - start_time)\n",
    "duration = int(end_time - start_time)\n",
    "return_per_episode = utils.synthesize(logs[\"return_per_episode\"])\n",
    "num_frames_per_episode = utils.synthesize(logs[\"num_frames_per_episode\"])\n",
    "\n",
    "print(\"F {} | FPS {:.0f} | D {} | R:μσmM {:.2f} {:.2f} {:.2f} {:.2f} | F:μσmM {:.1f} {:.1f} {} {}\"\n",
    "      .format(num_frames, fps, duration,\n",
    "              *return_per_episode.values(),\n",
    "              *num_frames_per_episode.values()))\n",
    "\n",
    "# Print worst episodes\n",
    "\n",
    "n = args.worst_episodes_to_show\n",
    "if n > 0:\n",
    "    print(\"\\n{} worst episodes:\".format(n))\n",
    "\n",
    "    indexes = sorted(range(len(logs[\"return_per_episode\"])), key=lambda k: logs[\"return_per_episode\"][k])\n",
    "    for i in indexes[:n]:\n",
    "        print(\"- episode {}: R={}, F={}\".format(i, logs[\"return_per_episode\"][i], logs[\"num_frames_per_episode\"][i]))"
   ]
  },
  {
   "cell_type": "markdown",
   "metadata": {},
   "source": [
    "# Re-evaluate 1st environment and test CF"
   ]
  },
  {
   "cell_type": "markdown",
   "metadata": {},
   "source": [
    "## Evaluation"
   ]
  },
  {
   "cell_type": "markdown",
   "metadata": {},
   "source": [
    "### Load parameters"
   ]
  },
  {
   "cell_type": "code",
   "execution_count": 21,
   "metadata": {},
   "outputs": [
    {
     "name": "stdout",
     "output_type": "stream",
     "text": [
      "{'algo': 'ppo', 'env': 'MiniGrid-WallGapS6-v0', 'model': 'MiniGrid-WallGapS6-v0_PPO_frames_600k_proc_16_RMSProp_lr_7e4_gae_099_test_MiniGrid-DoorKey-6x6-v0', 'seed': 3, 'log_interval': 1, 'save_interval': 10, 'procs': 16, 'frames': 600000, 'epochs': 4, 'batch_size': 256, 'frames_per_proc': 128, 'discount': 0.99, 'lr': 0.0007, 'gae_lambda': 0.99, 'entropy_coef': 0.01, 'value_loss_coef': 0.5, 'max_grad_norm': 0.5, 'optim_eps': 1e-08, 'optim_alpha': 0.99, 'clip_eps': 0.2, 'recurrence': 1, 'text': False, 'use_rim': False, 'mem': False, 'episodes': 100, 'argmax': False, 'worst_episodes_to_show': 10}\n",
      "Device: cpu\n",
      "\n"
     ]
    }
   ],
   "source": [
    "#env_id = 'MiniGrid-Empty-Random-6x6-v0'\n",
    "#env_id = 'MiniGrid-DoorKey-6x6-v0'\n",
    "#env_id = 'MiniGrid-Empty-8x8-v0'\n",
    "#env_id = 'MiniGrid-LavaGapS5-v0'\n",
    "env_id = 'MiniGrid-WallGapS6-v0'\n",
    "\n",
    "## Hyper-parameters\n",
    "args.env = env_id\n",
    "args.episodes = 100\n",
    "args.seed = 3\n",
    "args.argmax = False\n",
    "args.worst_episodes_to_show = 10\n",
    "print(args)\n",
    "\n",
    "# Set seed for all randomness sources\n",
    "utils.seed(args.seed)\n",
    "\n",
    "# Set device\n",
    "device = torch.device(\"cuda\" if torch.cuda.is_available() else \"cpu\")\n",
    "print(f\"Device: {device}\\n\")"
   ]
  },
  {
   "cell_type": "markdown",
   "metadata": {},
   "source": [
    "### Set environments, agent and logs"
   ]
  },
  {
   "cell_type": "code",
   "execution_count": 22,
   "metadata": {},
   "outputs": [
    {
     "name": "stdout",
     "output_type": "stream",
     "text": [
      "Environments loaded\n",
      "\n",
      "Agent loaded\n",
      "\n"
     ]
    }
   ],
   "source": [
    "# Load environments\n",
    "\n",
    "envs = []\n",
    "for i in range(args.procs):\n",
    "    env = utils.make_env(args.env, args.seed + 10000 * i)\n",
    "    envs.append(env)\n",
    "env = ParallelEnv(envs)\n",
    "print(\"Environments loaded\\n\")\n",
    "\n",
    "# Load agent\n",
    "\n",
    "model_dir = utils.get_model_dir(args.model)\n",
    "agent = utils.Agent(obs_space=env.observation_space, action_space=env.action_space, model_dir=model_dir, device=device, argmax=args.argmax, num_envs=args.procs, use_memory=args.mem, use_rim=args.use_rim)\n",
    "print(\"Agent loaded\\n\")\n",
    "\n",
    "# Initialize logs\n",
    "\n",
    "logs = {\"num_frames_per_episode\": [], \"return_per_episode\": []}"
   ]
  },
  {
   "cell_type": "markdown",
   "metadata": {},
   "source": [
    "### Run agent"
   ]
  },
  {
   "cell_type": "code",
   "execution_count": 23,
   "metadata": {},
   "outputs": [
    {
     "name": "stdout",
     "output_type": "stream",
     "text": [
      "Agent run completed\n",
      "\n"
     ]
    }
   ],
   "source": [
    "# Run agent\n",
    "\n",
    "start_time = time.time()\n",
    "\n",
    "obss = env.reset()\n",
    "\n",
    "log_done_counter = 0\n",
    "log_episode_return = torch.zeros(args.procs, device=device)\n",
    "log_episode_num_frames = torch.zeros(args.procs, device=device)\n",
    "\n",
    "while log_done_counter < args.episodes:\n",
    "    actions = agent.get_actions(obss)\n",
    "    obss, rewards, dones, _ = env.step(actions)\n",
    "    agent.analyze_feedbacks(rewards, dones)\n",
    "\n",
    "    log_episode_return += torch.tensor(rewards, device=device, dtype=torch.float)\n",
    "    log_episode_num_frames += torch.ones(args.procs, device=device)\n",
    "\n",
    "    for i, done in enumerate(dones):\n",
    "        if done:\n",
    "            log_done_counter += 1\n",
    "            logs[\"return_per_episode\"].append(log_episode_return[i].item())\n",
    "            logs[\"num_frames_per_episode\"].append(log_episode_num_frames[i].item())\n",
    "\n",
    "    mask = 1 - torch.tensor(dones, device=device, dtype=torch.float)\n",
    "    log_episode_return *= mask\n",
    "    log_episode_num_frames *= mask\n",
    "\n",
    "end_time = time.time()\n",
    "print(\"Agent run completed\\n\")"
   ]
  },
  {
   "cell_type": "markdown",
   "metadata": {},
   "source": [
    "### Print logs and results"
   ]
  },
  {
   "cell_type": "code",
   "execution_count": 24,
   "metadata": {},
   "outputs": [
    {
     "name": "stdout",
     "output_type": "stream",
     "text": [
      "F 5204.0 | FPS 3995 | D 1 | R:μσmM 0.65 0.37 0.00 0.98 | F:μσmM 52.0 53.6 3.0 144.0\n",
      "\n",
      "10 worst episodes:\n",
      "- episode 42: R=0.0, F=144.0\n",
      "- episode 43: R=0.0, F=144.0\n",
      "- episode 44: R=0.0, F=144.0\n",
      "- episode 46: R=0.0, F=144.0\n",
      "- episode 47: R=0.0, F=144.0\n",
      "- episode 51: R=0.0, F=144.0\n",
      "- episode 53: R=0.0, F=144.0\n",
      "- episode 55: R=0.0, F=144.0\n",
      "- episode 58: R=0.0, F=144.0\n",
      "- episode 62: R=0.0, F=144.0\n"
     ]
    }
   ],
   "source": [
    "# Print logs\n",
    "\n",
    "num_frames = sum(logs[\"num_frames_per_episode\"])\n",
    "fps = num_frames/(end_time - start_time)\n",
    "duration = int(end_time - start_time)\n",
    "return_per_episode = utils.synthesize(logs[\"return_per_episode\"])\n",
    "num_frames_per_episode = utils.synthesize(logs[\"num_frames_per_episode\"])\n",
    "\n",
    "print(\"F {} | FPS {:.0f} | D {} | R:μσmM {:.2f} {:.2f} {:.2f} {:.2f} | F:μσmM {:.1f} {:.1f} {} {}\"\n",
    "      .format(num_frames, fps, duration,\n",
    "              *return_per_episode.values(),\n",
    "              *num_frames_per_episode.values()))\n",
    "\n",
    "# Print worst episodes\n",
    "\n",
    "n = args.worst_episodes_to_show\n",
    "if n > 0:\n",
    "    print(\"\\n{} worst episodes:\".format(n))\n",
    "\n",
    "    indexes = sorted(range(len(logs[\"return_per_episode\"])), key=lambda k: logs[\"return_per_episode\"][k])\n",
    "    for i in indexes[:n]:\n",
    "        print(\"- episode {}: R={}, F={}\".format(i, logs[\"return_per_episode\"][i], logs[\"num_frames_per_episode\"][i]))"
   ]
  }
 ],
 "metadata": {
  "accelerator": "GPU",
  "colab": {
   "name": "test_minigrid_sb3_curriculum.ipynb",
   "provenance": []
  },
  "kernelspec": {
   "display_name": "tfm-rims",
   "language": "python",
   "name": "tfm-rims"
  },
  "language_info": {
   "codemirror_mode": {
    "name": "ipython",
    "version": 3
   },
   "file_extension": ".py",
   "mimetype": "text/x-python",
   "name": "python",
   "nbconvert_exporter": "python",
   "pygments_lexer": "ipython3",
   "version": "3.7.9"
  },
  "toc-autonumbering": true,
  "toc-showcode": false,
  "toc-showmarkdowntxt": false,
  "toc-showtags": false,
  "vscode": {
   "interpreter": {
    "hash": "d78c29e5a106d8e5aff5a2dd98f2f1ce9953cb30dd1c8e42e77397bf33d62cb1"
   }
  }
 },
 "nbformat": 4,
 "nbformat_minor": 4
}
